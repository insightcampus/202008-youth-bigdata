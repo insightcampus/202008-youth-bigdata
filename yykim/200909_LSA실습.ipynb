{
 "cells": [
  {
   "cell_type": "code",
   "execution_count": 1,
   "metadata": {},
   "outputs": [],
   "source": [
    "docs = ['바나나 사과 포도 포도',\n",
    "       '사과 포도',\n",
    "       '포도 바나나',\n",
    "       '짜장면 짬뽕 탕수육',\n",
    "       '볶음밥 탕수육',\n",
    "       '짜장면 짬뽕',\n",
    "       '된장찌개 김치찌개 김치 비빔밥',\n",
    "       '김치 된장 비빔밥',\n",
    "       '비빔밥 김치',\n",
    "       '사과 볶음밥 김치 된장']"
   ]
  },
  {
   "cell_type": "code",
   "execution_count": 2,
   "metadata": {},
   "outputs": [
    {
     "data": {
      "text/plain": [
       "array([[ 0.39094311,  0.08663945,  0.2634605 ,  0.08663945,  0.31533599,\n",
       "         0.1677167 ,  0.33012626,  0.42118555,  0.01907605,  0.01907605,\n",
       "         0.05422822,  0.58747296],\n",
       "       [ 0.49683512,  0.13720069,  0.26962551,  0.13720069, -0.29774469,\n",
       "         0.10773075,  0.49275818, -0.18567019,  0.02131272,  0.02131272,\n",
       "         0.04450862, -0.51222803],\n",
       "       [-0.06285924, -0.02901254, -0.00762375, -0.02901254, -0.01957621,\n",
       "         0.19210545, -0.09004258,  0.00851823,  0.60658392,  0.60658392,\n",
       "         0.46061907, -0.02794911]])"
      ]
     },
     "execution_count": 2,
     "metadata": {},
     "output_type": "execute_result"
    }
   ],
   "source": [
    "from sklearn.feature_extraction.text import TfidfVectorizer\n",
    "from sklearn.decomposition import TruncatedSVD\n",
    "n_topic = 3\n",
    "\n",
    "tfidf_vect = TfidfVectorizer()\n",
    "tfidf = tfidf_vect.fit_transform(docs)\n",
    "\n",
    "svd = TruncatedSVD(n_components = n_topic)\n",
    "u_sigma = svd.fit_transform(tfidf)\n",
    "svd.components_ # 가중치를 구함"
   ]
  },
  {
   "cell_type": "code",
   "execution_count": 3,
   "metadata": {},
   "outputs": [
    {
     "name": "stdout",
     "output_type": "stream",
     "text": [
      "['김치', '김치찌개', '된장', '된장찌개', '바나나', '볶음밥', '비빔밥', '사과', '짜장면', '짬뽕', '탕수육', '포도']\n",
      "Topic 0: [('포도', 0.58747), ('사과', 0.42119), ('김치', 0.39094)]\n",
      "Topic 1: [('김치', 0.49684), ('비빔밥', 0.49276), ('된장', 0.26963)]\n",
      "Topic 2: [('짬뽕', 0.60658), ('짜장면', 0.60658), ('탕수육', 0.46062)]\n"
     ]
    }
   ],
   "source": [
    "vocab = tfidf_vect.get_feature_names()\n",
    "print(vocab)\n",
    "n = 3\n",
    "for idx, topic in enumerate(svd.components_):\n",
    "    print('Topic %d:' % (idx), [(vocab[i], topic[i].round(5)) for i in topic.argsort()[:-n - 1:-1]])"
   ]
  },
  {
   "cell_type": "markdown",
   "metadata": {},
   "source": [
    "#### 단어벡터간의 상관관계"
   ]
  },
  {
   "cell_type": "code",
   "execution_count": 4,
   "metadata": {},
   "outputs": [
    {
     "name": "stdout",
     "output_type": "stream",
     "text": [
      "김치 : [ 0.39094311  0.49683512 -0.06285924]\n",
      "김치찌개 : [ 0.08663945  0.13720069 -0.02901254]\n",
      "된장 : [ 0.2634605   0.26962551 -0.00762375]\n",
      "된장찌개 : [ 0.08663945  0.13720069 -0.02901254]\n",
      "바나나 : [ 0.31533599 -0.29774469 -0.01957621]\n",
      "볶음밥 : [0.1677167  0.10773075 0.19210545]\n",
      "비빔밥 : [ 0.33012626  0.49275818 -0.09004258]\n",
      "사과 : [ 0.42118555 -0.18567019  0.00851823]\n",
      "짜장면 : [0.01907605 0.02131272 0.60658392]\n",
      "짬뽕 : [0.01907605 0.02131272 0.60658392]\n",
      "탕수육 : [0.05422822 0.04450862 0.46061907]\n",
      "포도 : [ 0.58747296 -0.51222803 -0.02794911]\n"
     ]
    }
   ],
   "source": [
    "for i in range(len(vocab)):\n",
    "              print('{} : {}'.format(vocab[i], svd.components_.T[i]))"
   ]
  },
  {
   "cell_type": "code",
   "execution_count": 5,
   "metadata": {},
   "outputs": [],
   "source": [
    "# 단어간의 상관관계를 알아본다\n",
    "\n",
    "import numpy as np\n",
    "from numpy import dot\n",
    "from numpy.linalg import norm\n",
    "\n",
    "# 코사인 유사도\n",
    "def cosine_similarity(a,b):\n",
    "    return dot(a,b)/(norm(a)*norm(b))\n",
    "\n",
    "# 코사인유사도를 사용하여 행렬의 유사도 구하기\n",
    "def calc_similarity_matrix(vectors):\n",
    "    n_word = len(vectors)\n",
    "    similarity_matrix = np.zeros((n_word, n_word))\n",
    "    \n",
    "    for i in range(n_word):\n",
    "        for j in range(i, n_word):\n",
    "            similarity_matrix[j,i] = cosine_similarity(vectors[i], vectors[j].round(4))\n",
    "            \n",
    "    return similarity_matrix"
   ]
  },
  {
   "cell_type": "code",
   "execution_count": 6,
   "metadata": {},
   "outputs": [
    {
     "data": {
      "text/plain": [
       "array([[ 1.        ,  0.        ,  0.        ,  0.        ,  0.        ,\n",
       "         0.        ,  0.        ,  0.        ,  0.        ,  0.        ,\n",
       "         0.        ,  0.        ],\n",
       "       [ 0.9917212 ,  0.99999998,  0.        ,  0.        ,  0.        ,\n",
       "         0.        ,  0.        ,  0.        ,  0.        ,  0.        ,\n",
       "         0.        ,  0.        ],\n",
       "       [ 0.99116636,  0.96596909,  0.99999999,  0.        ,  0.        ,\n",
       "         0.        ,  0.        ,  0.        ,  0.        ,  0.        ,\n",
       "         0.        ,  0.        ],\n",
       "       [ 0.9917212 ,  0.99999998,  0.96597022,  0.99999998,  0.        ,\n",
       "         0.        ,  0.        ,  0.        ,  0.        ,  0.        ,\n",
       "         0.        ,  0.        ],\n",
       "       [-0.08489199, -0.18110396,  0.01803028, -0.18110396,  1.        ,\n",
       "         0.        ,  0.        ,  0.        ,  0.        ,  0.        ,\n",
       "         0.        ,  0.        ],\n",
       "       [ 0.60839431,  0.52011435,  0.68750481,  0.52011435,  0.14191283,\n",
       "         1.        ,  0.        ,  0.        ,  0.        ,  0.        ,\n",
       "         0.        ,  0.        ],\n",
       "       [ 0.99579907,  0.99929956,  0.97489488,  0.99929956, -0.15693703,\n",
       "         0.54890038,  0.99999999,  0.        ,  0.        ,  0.        ,\n",
       "         0.        ,  0.        ],\n",
       "       [ 0.24570439,  0.14188289,  0.35044694,  0.14188289,  0.94031329,\n",
       "         0.41010007,  0.16936445,  1.        ,  0.        ,  0.        ,\n",
       "         0.        ,  0.        ],\n",
       "       [-0.05204789, -0.13008426,  0.02686144, -0.13008426, -0.04625268,\n",
       "         0.72586048, -0.10380767,  0.03311136,  1.        ,  0.        ,\n",
       "         0.        ,  0.        ],\n",
       "       [-0.05204789, -0.13008426,  0.02686144, -0.13008426, -0.04625268,\n",
       "         0.72586048, -0.10380767,  0.03311136,  1.        ,  1.        ,\n",
       "         0.        ,  0.        ],\n",
       "       [ 0.04846371, -0.03335784,  0.12959672, -0.03335784, -0.02558621,\n",
       "         0.79366718, -0.00591411,  0.08620126,  0.99451652,  0.99451652,\n",
       "         1.        ,  0.        ],\n",
       "       [-0.04651051, -0.14439701,  0.05744709, -0.14439701,  0.99917061,\n",
       "         0.17596961, -0.11953498,  0.95335723, -0.03511894, -0.03511894,\n",
       "        -0.01042818,  1.        ]])"
      ]
     },
     "execution_count": 6,
     "metadata": {},
     "output_type": "execute_result"
    }
   ],
   "source": [
    "word_vectors = svd.components_.T\n",
    "word_similarity_matrix = calc_similarity_matrix(word_vectors)\n",
    "word_similarity_matrix"
   ]
  },
  {
   "cell_type": "code",
   "execution_count": 7,
   "metadata": {},
   "outputs": [],
   "source": [
    "# 위의 matrix를 시각화\n",
    "\n",
    "import matplotlib.pyplot as plt\n",
    "import seaborn as sns\n",
    "\n",
    "def visualize_similarity(similarity_matrix):\n",
    "    uniform_data = similarity_matrix\n",
    "    mask = np.triu(np.ones_like(similarity_matrix, dtype=np.bool))\n",
    "    plt.rcParams['figure.figsize'] = [8,6]\n",
    "    ax = sns.heatmap(uniform_data, mask=mask,\n",
    "                    annot=True, fmt='.2f', annot_kws = {'size':8},\n",
    "                    cmap='coolwarm')"
   ]
  },
  {
   "cell_type": "code",
   "execution_count": 8,
   "metadata": {},
   "outputs": [
    {
     "data": {
      "image/png": "[encoded data removed]",
      "text/plain": [
       "<Figure size 576x432 with 2 Axes>"
      ]
     },
     "metadata": {
      "needs_background": "light"
     },
     "output_type": "display_data"
    }
   ],
   "source": [
    "visualize_similarity(word_similarity_matrix)"
   ]
  },
  {
   "cell_type": "code",
   "execution_count": 9,
   "metadata": {},
   "outputs": [],
   "source": [
    "# 단어벡터 시각화\n",
    "\n",
    "%matplotlib inline\n",
    "import matplotlib.font_manager as fm\n",
    "import matplotlib\n",
    "\n",
    "path = 'C:\\\\WINDOWS\\\\Fonts\\\\NanumGothic.ttf'\n",
    "fontprop = fm.FontProperties(fname=path, size=12)"
   ]
  },
  {
   "cell_type": "code",
   "execution_count": 10,
   "metadata": {},
   "outputs": [],
   "source": [
    "from sklearn.manifold import TSNE\n",
    "vectors = word_vectors\n",
    "labels = tfidf_vect.get_feature_names()\n",
    "\n",
    "def visualize_vectors(vectors, labels):\n",
    "    tsne = TSNE(n_components=2, random_state=0, n_iter=10000, \\\n",
    "                perplexity=2)\n",
    "    np.set_printoptions(suppress=True)\n",
    "    T = tsne.fit_transform(vectors)\n",
    "    \n",
    "    plt.figure(figsize=(10,6))\n",
    "    plt.scatter(T[:,0], T[:,1], c='orange', edgecolors='r')\n",
    "    for label,x,y in zip(labels,T[:,0], T[:,1] ):\n",
    "        plt.annotate(label, xy=(x+1,y+1), xytext=(0,0), \\\n",
    "                    textcoords='offset points',\\\n",
    "                    fontproperties=fontprop)"
   ]
  },
  {
   "cell_type": "code",
   "execution_count": 11,
   "metadata": {},
   "outputs": [
    {
     "data": {
      "image/png": "[encoded data removed]",
      "text/plain": [
       "<Figure size 720x432 with 1 Axes>"
      ]
     },
     "metadata": {
      "needs_background": "light"
     },
     "output_type": "display_data"
    }
   ],
   "source": [
    "visualize_vectors(vectors, labels)"
   ]
  },
  {
   "cell_type": "code",
   "execution_count": null,
   "metadata": {},
   "outputs": [],
   "source": []
  }
 ],
 "metadata": {
  "kernelspec": {
   "display_name": "Python 3",
   "language": "python",
   "name": "python3"
  },
  "language_info": {
   "codemirror_mode": {
    "name": "ipython",
    "version": 3
   },
   "file_extension": ".py",
   "mimetype": "text/x-python",
   "name": "python",
   "nbconvert_exporter": "python",
   "pygments_lexer": "ipython3",
   "version": "3.7.7"
  }
 },
 "nbformat": 4,
 "nbformat_minor": 4
}
