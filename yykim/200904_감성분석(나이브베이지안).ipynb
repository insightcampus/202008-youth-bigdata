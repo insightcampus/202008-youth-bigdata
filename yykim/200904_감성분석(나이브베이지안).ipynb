{
 "cells": [
  {
   "cell_type": "code",
   "execution_count": 1,
   "metadata": {},
   "outputs": [],
   "source": [
    "# 직접 구현\n",
    "\n",
    "import pandas as pd\n",
    "import numpy as np"
   ]
  },
  {
   "cell_type": "code",
   "execution_count": 2,
   "metadata": {},
   "outputs": [
    {
     "data": {
      "text/html": [
       "<div>\n",
       "<style scoped>\n",
       "    .dataframe tbody tr th:only-of-type {\n",
       "        vertical-align: middle;\n",
       "    }\n",
       "\n",
       "    .dataframe tbody tr th {\n",
       "        vertical-align: top;\n",
       "    }\n",
       "\n",
       "    .dataframe thead th {\n",
       "        text-align: right;\n",
       "    }\n",
       "</style>\n",
       "<table border=\"1\" class=\"dataframe\">\n",
       "  <thead>\n",
       "    <tr style=\"text-align: right;\">\n",
       "      <th></th>\n",
       "      <th>mail</th>\n",
       "      <th>label</th>\n",
       "    </tr>\n",
       "  </thead>\n",
       "  <tbody>\n",
       "    <tr>\n",
       "      <th>0</th>\n",
       "      <td>i love you</td>\n",
       "      <td>1</td>\n",
       "    </tr>\n",
       "    <tr>\n",
       "      <th>1</th>\n",
       "      <td>love happy weekend</td>\n",
       "      <td>1</td>\n",
       "    </tr>\n",
       "    <tr>\n",
       "      <th>2</th>\n",
       "      <td>bore work job</td>\n",
       "      <td>0</td>\n",
       "    </tr>\n",
       "    <tr>\n",
       "      <th>3</th>\n",
       "      <td>i hate you</td>\n",
       "      <td>0</td>\n",
       "    </tr>\n",
       "    <tr>\n",
       "      <th>4</th>\n",
       "      <td>bore weekend</td>\n",
       "      <td>0</td>\n",
       "    </tr>\n",
       "    <tr>\n",
       "      <th>5</th>\n",
       "      <td>happy together</td>\n",
       "      <td>1</td>\n",
       "    </tr>\n",
       "  </tbody>\n",
       "</table>\n",
       "</div>"
      ],
      "text/plain": [
       "                 mail  label\n",
       "0          i love you      1\n",
       "1  love happy weekend      1\n",
       "2       bore work job      0\n",
       "3          i hate you      0\n",
       "4        bore weekend      0\n",
       "5      happy together      1"
      ]
     },
     "execution_count": 2,
     "metadata": {},
     "output_type": "execute_result"
    }
   ],
   "source": [
    "naive = pd.read_csv('./naivebayes_example.csv')\n",
    "naive"
   ]
  },
  {
   "cell_type": "code",
   "execution_count": 3,
   "metadata": {},
   "outputs": [
    {
     "name": "stdout",
     "output_type": "stream",
     "text": [
      "[['i love you' 1]\n",
      " ['love happy weekend' 1]\n",
      " ['bore work job' 0]\n",
      " ['i hate you' 0]\n",
      " ['bore weekend' 0]\n",
      " ['happy together' 1]]\n"
     ]
    }
   ],
   "source": [
    "# array 형태로 변환 (편집의 용이를 위해?)\n",
    "\n",
    "training_set = np.array(naive)\n",
    "print(training_set)"
   ]
  },
  {
   "cell_type": "code",
   "execution_count": 4,
   "metadata": {},
   "outputs": [
    {
     "data": {
      "text/plain": [
       "defaultdict(<function __main__.<lambda>()>,\n",
       "            {'i': [1, 1],\n",
       "             'love': [2, 0],\n",
       "             'you': [1, 1],\n",
       "             'happy': [2, 0],\n",
       "             'weekend': [1, 1],\n",
       "             'bore': [0, 2],\n",
       "             'work': [0, 1],\n",
       "             'job': [0, 1],\n",
       "             'hate': [0, 1],\n",
       "             'together': [1, 0]})"
      ]
     },
     "execution_count": 4,
     "metadata": {},
     "output_type": "execute_result"
    }
   ],
   "source": [
    "# 토큰별로 문서 내 빈도수 카운팅\n",
    "\n",
    "from collections import defaultdict\n",
    "wordfreq = defaultdict(lambda: [0,0])\n",
    "for doc, point in training_set:\n",
    "    words = doc.split()\n",
    "    for word in words:\n",
    "        if point ==1:\n",
    "            wordfreq[word][0] +=1 # 긍정인 경우 0번째 인덱스에 1을 더한다\n",
    "        else:    \n",
    "            wordfreq[word][1] +=1 # 부정인 경우 1번째 인덱스에 1을 더한다\n",
    "            \n",
    "wordfreq"
   ]
  },
  {
   "cell_type": "code",
   "execution_count": 5,
   "metadata": {},
   "outputs": [
    {
     "name": "stdout",
     "output_type": "stream",
     "text": [
      "[1, 2, 1, 2, 1, 0, 0, 0, 0, 1]\n",
      "[1, 0, 1, 0, 1, 2, 1, 1, 1, 0]\n"
     ]
    }
   ],
   "source": [
    "# 긍정/부정 빈도수 계산\n",
    "\n",
    "positive_tk = []\n",
    "negative_tk = []\n",
    "for key, (cnt1,cnt0) in wordfreq.items():\n",
    "    positive_tk.append(int(cnt1))\n",
    "    negative_tk.append(int(cnt0))\n",
    "print(positive_tk)\n",
    "print(negative_tk)"
   ]
  },
  {
   "cell_type": "code",
   "execution_count": 6,
   "metadata": {},
   "outputs": [
    {
     "name": "stdout",
     "output_type": "stream",
     "text": [
      "8 8\n"
     ]
    }
   ],
   "source": [
    "positive_tk_nm = sum(positive_tk)\n",
    "negative_tk_nm = sum(negative_tk)\n",
    "\n",
    "print(positive_tk_nm,negative_tk_nm)"
   ]
  },
  {
   "cell_type": "code",
   "execution_count": 7,
   "metadata": {},
   "outputs": [
    {
     "data": {
      "text/plain": [
       "defaultdict(<function __main__.<lambda>()>,\n",
       "            {'i': [0.1111111111111111, 0.1111111111111111],\n",
       "             'love': [0.16666666666666666, 0.05555555555555555],\n",
       "             'you': [0.1111111111111111, 0.1111111111111111],\n",
       "             'happy': [0.16666666666666666, 0.05555555555555555],\n",
       "             'weekend': [0.1111111111111111, 0.1111111111111111],\n",
       "             'bore': [0.05555555555555555, 0.16666666666666666],\n",
       "             'work': [0.05555555555555555, 0.1111111111111111],\n",
       "             'job': [0.05555555555555555, 0.1111111111111111],\n",
       "             'hate': [0.05555555555555555, 0.1111111111111111],\n",
       "             'together': [0.1111111111111111, 0.05555555555555555]})"
      ]
     },
     "execution_count": 7,
     "metadata": {},
     "output_type": "execute_result"
    }
   ],
   "source": [
    "# 토큰별 조건부 확률 계산\n",
    "\n",
    "wordprobs = defaultdict(lambda:[0,0])\n",
    "for key, (cnt1,cnt0) in wordfreq.items():\n",
    "    wordprobs[key][0] = (cnt1 +1)/(positive_tk_nm + len(wordfreq))\n",
    "    wordprobs[key][1] = (cnt0 +1)/(negative_tk_nm + len(wordfreq))\n",
    "wordprobs"
   ]
  },
  {
   "cell_type": "code",
   "execution_count": 8,
   "metadata": {},
   "outputs": [
    {
     "data": {
      "text/plain": [
       "['happy', 'weekend']"
      ]
     },
     "execution_count": 8,
     "metadata": {},
     "output_type": "execute_result"
    }
   ],
   "source": [
    "# 신규텍스트가 주어졌을 때 확률 계산\n",
    "\n",
    "import math\n",
    "doc = 'happy weekend'\n",
    "tokens = doc.split()\n",
    "tokens"
   ]
  },
  {
   "cell_type": "code",
   "execution_count": 9,
   "metadata": {},
   "outputs": [
    {
     "name": "stdout",
     "output_type": "stream",
     "text": [
      "prob1: 0.009259259259259257\n",
      "prob0: 0.0030864197530864183\n",
      "happy와 weekend가 새로운 메일에 포함되어 있을 경우, 긍정확룰과 부정확률\n",
      "긍정확률: 75.00000000000001%\n",
      "부정확률: 24.999999999999996%\n"
     ]
    }
   ],
   "source": [
    "# 초기값을 모두 0으로 처리\n",
    "log_prob1 = log_prob0 = 0.0\n",
    "\n",
    "# 모든 단어에 대해 반복\n",
    "for word, (prob1,prob0) in wordprobs.items():\n",
    "    if word in tokens:\n",
    "        log_prob1 +=math.log(prob1)\n",
    "        log_prob0 +=math.log(prob0)\n",
    "log_prob1 += math.log(positive_tk_nm/(positive_tk_nm+negative_tk_nm))\n",
    "log_prob0 += math.log(negative_tk_nm/(negative_tk_nm+negative_tk_nm))\n",
    "\n",
    "prob1 = math.exp(log_prob1)\n",
    "prob0 = math.exp(log_prob0)\n",
    "\n",
    "print('prob1:', prob1)\n",
    "print('prob0:', prob0)\n",
    "\n",
    "print('happy와 weekend가 새로운 메일에 포함되어 있을 경우, 긍정확룰과 부정확률')\n",
    "print('긍정확률: {}%'.format(prob1/(prob1+prob0)*100))\n",
    "print('부정확률: {}%'.format(prob0/(prob1+prob0)*100))"
   ]
  },
  {
   "cell_type": "code",
   "execution_count": 10,
   "metadata": {},
   "outputs": [
    {
     "name": "stdout",
     "output_type": "stream",
     "text": [
      "['i love you', 'love happy weekend', 'bore work job', 'i hate you', 'bore weekend', 'happy together']\n",
      "[1, 1, 0, 0, 0, 1]\n"
     ]
    }
   ],
   "source": [
    "# sklearn\n",
    "\n",
    "X_train = list(naive['mail'])\n",
    "Y_train = list(naive['label'])\n",
    "print(X_train)\n",
    "print(Y_train)"
   ]
  },
  {
   "cell_type": "code",
   "execution_count": 11,
   "metadata": {},
   "outputs": [
    {
     "name": "stdout",
     "output_type": "stream",
     "text": [
      "Requirement already satisfied: sklearn in c:\\anaconda3\\envs\\python37\\lib\\site-packages (0.0)\n",
      "Requirement already satisfied: scikit-learn in c:\\anaconda3\\envs\\python37\\lib\\site-packages (from sklearn) (0.23.2)\n",
      "Requirement already satisfied: joblib>=0.11 in c:\\anaconda3\\envs\\python37\\lib\\site-packages (from scikit-learn->sklearn) (0.16.0)\n",
      "Requirement already satisfied: numpy>=1.13.3 in c:\\anaconda3\\envs\\python37\\lib\\site-packages (from scikit-learn->sklearn) (1.19.1)\n",
      "Requirement already satisfied: scipy>=0.19.1 in c:\\anaconda3\\envs\\python37\\lib\\site-packages (from scikit-learn->sklearn) (1.5.2)\n",
      "Requirement already satisfied: threadpoolctl>=2.0.0 in c:\\anaconda3\\envs\\python37\\lib\\site-packages (from scikit-learn->sklearn) (2.1.0)\n"
     ]
    }
   ],
   "source": [
    "!pip install sklearn"
   ]
  },
  {
   "cell_type": "code",
   "execution_count": 17,
   "metadata": {},
   "outputs": [],
   "source": [
    "from sklearn.feature_extraction.text import CountVectorizer\n",
    "from sklearn.feature_extraction.text import TfidfTransformer\n",
    "from sklearn.naive_bayes import MultinomialNB\n",
    "\n",
    "cv = CountVectorizer()\n",
    "# fit&transform\n",
    "X_train_counts = cv.fit_transform(X_train)\n",
    "# MultinominalNB 선언 & fit\n",
    "clf = MultinomialNB().fit(X_train_counts, Y_train)"
   ]
  },
  {
   "cell_type": "code",
   "execution_count": 18,
   "metadata": {},
   "outputs": [
    {
     "name": "stdout",
     "output_type": "stream",
     "text": [
      "[1]\n",
      "[[0.25 0.75]]\n"
     ]
    }
   ],
   "source": [
    "# 예측\n",
    "print(clf.predict(cv.transform(['happy weekend'])))\n",
    "# 확률\n",
    "print(clf.predict_proba(cv.transform(['happy weekend'])))"
   ]
  },
  {
   "cell_type": "code",
   "execution_count": null,
   "metadata": {},
   "outputs": [],
   "source": []
  }
 ],
 "metadata": {
  "kernelspec": {
   "display_name": "Python 3",
   "language": "python",
   "name": "python3"
  },
  "language_info": {
   "codemirror_mode": {
    "name": "ipython",
    "version": 3
   },
   "file_extension": ".py",
   "mimetype": "text/x-python",
   "name": "python",
   "nbconvert_exporter": "python",
   "pygments_lexer": "ipython3",
   "version": "3.7.7"
  }
 },
 "nbformat": 4,
 "nbformat_minor": 4
}
