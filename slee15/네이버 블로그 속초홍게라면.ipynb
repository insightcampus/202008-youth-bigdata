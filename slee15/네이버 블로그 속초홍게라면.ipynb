{
 "cells": [
  {
   "cell_type": "code",
   "execution_count": 1,
   "metadata": {},
   "outputs": [
    {
     "name": "stdout",
     "output_type": "stream",
     "text": [
      "Requirement already satisfied: mecab-python==0.996-ko-0.9.2-msvc from file:///C:/Users/ASIA_12/%EC%9C%A0%ED%86%B5%ED%8C%80%20%ED%94%84%EB%A1%9C%EC%A0%9D%ED%8A%B8/mecab_python-0.996_ko_0.9.2_msvc-cp37-cp37m-win_amd64.whl in c:\\anaconda3\\envs\\py36\\lib\\site-packages (0.996-ko-0.9.2-msvc)\n"
     ]
    }
   ],
   "source": [
    "!pip install mecab_python-0.996_ko_0.9.2_msvc-cp37-cp37m-win_amd64.whl"
   ]
  },
  {
   "cell_type": "code",
   "execution_count": 2,
   "metadata": {},
   "outputs": [
    {
     "name": "stdout",
     "output_type": "stream",
     "text": [
      "Requirement already satisfied: JPype1==1.0.2 from file:///C:/Users/ASIA_12/%EC%9C%A0%ED%86%B5%ED%8C%80%20%ED%94%84%EB%A1%9C%EC%A0%9D%ED%8A%B8/JPype1-1.0.2-cp37-cp37m-win_amd64.whl in c:\\anaconda3\\envs\\py36\\lib\\site-packages (1.0.2)\n",
      "Requirement already satisfied: typing-extensions; python_version < \"3.8\" in c:\\anaconda3\\envs\\py36\\lib\\site-packages (from JPype1==1.0.2) (3.7.4.2)\n"
     ]
    }
   ],
   "source": [
    "!pip install JPype1-1.0.2-cp37-cp37m-win_amd64.whl"
   ]
  },
  {
   "cell_type": "code",
   "execution_count": 3,
   "metadata": {},
   "outputs": [
    {
     "name": "stdout",
     "output_type": "stream",
     "text": [
      "Requirement already satisfied: konlpy in c:\\anaconda3\\envs\\py36\\lib\\site-packages (0.5.2)\n",
      "Requirement already satisfied: numpy>=1.6 in c:\\anaconda3\\envs\\py36\\lib\\site-packages (from konlpy) (1.17.0)\n",
      "Requirement already satisfied: JPype1>=0.7.0 in c:\\anaconda3\\envs\\py36\\lib\\site-packages (from konlpy) (1.0.2)\n",
      "Requirement already satisfied: tweepy>=3.7.0 in c:\\anaconda3\\envs\\py36\\lib\\site-packages (from konlpy) (3.9.0)\n",
      "Requirement already satisfied: colorama in c:\\anaconda3\\envs\\py36\\lib\\site-packages (from konlpy) (0.4.3)\n",
      "Requirement already satisfied: beautifulsoup4==4.6.0 in c:\\anaconda3\\envs\\py36\\lib\\site-packages (from konlpy) (4.6.0)\n",
      "Requirement already satisfied: lxml>=4.1.0 in c:\\anaconda3\\envs\\py36\\lib\\site-packages (from konlpy) (4.5.2)\n",
      "Requirement already satisfied: typing-extensions; python_version < \"3.8\" in c:\\anaconda3\\envs\\py36\\lib\\site-packages (from JPype1>=0.7.0->konlpy) (3.7.4.2)\n",
      "Requirement already satisfied: requests[socks]>=2.11.1 in c:\\anaconda3\\envs\\py36\\lib\\site-packages (from tweepy>=3.7.0->konlpy) (2.24.0)\n",
      "Requirement already satisfied: six>=1.10.0 in c:\\anaconda3\\envs\\py36\\lib\\site-packages (from tweepy>=3.7.0->konlpy) (1.15.0)\n",
      "Requirement already satisfied: requests-oauthlib>=0.7.0 in c:\\anaconda3\\envs\\py36\\lib\\site-packages (from tweepy>=3.7.0->konlpy) (1.3.0)\n",
      "Requirement already satisfied: certifi>=2017.4.17 in c:\\anaconda3\\envs\\py36\\lib\\site-packages (from requests[socks]>=2.11.1->tweepy>=3.7.0->konlpy) (2020.6.20)\n",
      "Requirement already satisfied: chardet<4,>=3.0.2 in c:\\anaconda3\\envs\\py36\\lib\\site-packages (from requests[socks]>=2.11.1->tweepy>=3.7.0->konlpy) (3.0.4)\n",
      "Requirement already satisfied: urllib3!=1.25.0,!=1.25.1,<1.26,>=1.21.1 in c:\\anaconda3\\envs\\py36\\lib\\site-packages (from requests[socks]>=2.11.1->tweepy>=3.7.0->konlpy) (1.25.9)\n",
      "Requirement already satisfied: idna<3,>=2.5 in c:\\anaconda3\\envs\\py36\\lib\\site-packages (from requests[socks]>=2.11.1->tweepy>=3.7.0->konlpy) (2.10)\n",
      "Requirement already satisfied: PySocks!=1.5.7,>=1.5.6; extra == \"socks\" in c:\\anaconda3\\envs\\py36\\lib\\site-packages (from requests[socks]>=2.11.1->tweepy>=3.7.0->konlpy) (1.7.1)\n",
      "Requirement already satisfied: oauthlib>=3.0.0 in c:\\anaconda3\\envs\\py36\\lib\\site-packages (from requests-oauthlib>=0.7.0->tweepy>=3.7.0->konlpy) (3.1.0)\n"
     ]
    }
   ],
   "source": [
    "!pip install konlpy"
   ]
  },
  {
   "cell_type": "code",
   "execution_count": 4,
   "metadata": {},
   "outputs": [
    {
     "name": "stdout",
     "output_type": "stream",
     "text": [
      "['인생은', '모두가', '함께하는', '여행이다.', '매일매일', '사는', '동안', '우리가', '할', '수', '있는', '건', '최선을', '다해', '이', '멋진', '여행을', '만끽하는', '것이다']\n"
     ]
    }
   ],
   "source": [
    "text = '인생은 모두가 함께하는 여행이다. 매일매일 사는 동안 우리가 할 수 있는 건 최선을 다해 이 멋진 여행을 만끽하는 것이다'\n",
    "print(text.split())"
   ]
  },
  {
   "cell_type": "code",
   "execution_count": 5,
   "metadata": {},
   "outputs": [
    {
     "name": "stdout",
     "output_type": "stream",
     "text": [
      "Requirement already satisfied: konlpy in c:\\anaconda3\\envs\\py36\\lib\\site-packages (0.5.2)\n",
      "Requirement already satisfied: colorama in c:\\anaconda3\\envs\\py36\\lib\\site-packages (from konlpy) (0.4.3)\n",
      "Requirement already satisfied: JPype1>=0.7.0 in c:\\anaconda3\\envs\\py36\\lib\\site-packages (from konlpy) (1.0.2)\n",
      "Requirement already satisfied: beautifulsoup4==4.6.0 in c:\\anaconda3\\envs\\py36\\lib\\site-packages (from konlpy) (4.6.0)\n",
      "Requirement already satisfied: lxml>=4.1.0 in c:\\anaconda3\\envs\\py36\\lib\\site-packages (from konlpy) (4.5.2)\n",
      "Requirement already satisfied: numpy>=1.6 in c:\\anaconda3\\envs\\py36\\lib\\site-packages (from konlpy) (1.17.0)\n",
      "Requirement already satisfied: tweepy>=3.7.0 in c:\\anaconda3\\envs\\py36\\lib\\site-packages (from konlpy) (3.9.0)\n",
      "Requirement already satisfied: typing-extensions; python_version < \"3.8\" in c:\\anaconda3\\envs\\py36\\lib\\site-packages (from JPype1>=0.7.0->konlpy) (3.7.4.2)\n",
      "Requirement already satisfied: requests[socks]>=2.11.1 in c:\\anaconda3\\envs\\py36\\lib\\site-packages (from tweepy>=3.7.0->konlpy) (2.24.0)\n",
      "Requirement already satisfied: requests-oauthlib>=0.7.0 in c:\\anaconda3\\envs\\py36\\lib\\site-packages (from tweepy>=3.7.0->konlpy) (1.3.0)\n",
      "Requirement already satisfied: six>=1.10.0 in c:\\anaconda3\\envs\\py36\\lib\\site-packages (from tweepy>=3.7.0->konlpy) (1.15.0)\n",
      "Requirement already satisfied: urllib3!=1.25.0,!=1.25.1,<1.26,>=1.21.1 in c:\\anaconda3\\envs\\py36\\lib\\site-packages (from requests[socks]>=2.11.1->tweepy>=3.7.0->konlpy) (1.25.9)\n",
      "Requirement already satisfied: certifi>=2017.4.17 in c:\\anaconda3\\envs\\py36\\lib\\site-packages (from requests[socks]>=2.11.1->tweepy>=3.7.0->konlpy) (2020.6.20)\n",
      "Requirement already satisfied: idna<3,>=2.5 in c:\\anaconda3\\envs\\py36\\lib\\site-packages (from requests[socks]>=2.11.1->tweepy>=3.7.0->konlpy) (2.10)\n",
      "Requirement already satisfied: chardet<4,>=3.0.2 in c:\\anaconda3\\envs\\py36\\lib\\site-packages (from requests[socks]>=2.11.1->tweepy>=3.7.0->konlpy) (3.0.4)\n",
      "Requirement already satisfied: PySocks!=1.5.7,>=1.5.6; extra == \"socks\" in c:\\anaconda3\\envs\\py36\\lib\\site-packages (from requests[socks]>=2.11.1->tweepy>=3.7.0->konlpy) (1.7.1)\n",
      "Requirement already satisfied: oauthlib>=3.0.0 in c:\\anaconda3\\envs\\py36\\lib\\site-packages (from requests-oauthlib>=0.7.0->tweepy>=3.7.0->konlpy) (3.1.0)\n"
     ]
    }
   ],
   "source": [
    "!pip install konlpy \n",
    "from konlpy.tag import Komoran\n",
    "from konlpy.tag import Hannanum\n",
    "from konlpy.tag import Okt\n",
    "from konlpy.tag import Kkma"
   ]
  },
  {
   "cell_type": "code",
   "execution_count": 6,
   "metadata": {},
   "outputs": [
    {
     "name": "stdout",
     "output_type": "stream",
     "text": [
      "['인생', '은', '모두', '가', '함께', '하', '는', '여행', '이', '다', '.', '매일', '매일', '살', '는', '동안', '우리', '가', '하', 'ㄹ', '수', '있', '는', '건', '최선', '을', '다', '하', '아', '이', '멋지', 'ㄴ', '여행', '을', '만끽', '하', '는', '것', '이', '다']\n"
     ]
    }
   ],
   "source": [
    "komoran = Komoran() \n",
    "komoran_tokens = komoran.morphs(text) \n",
    "print(komoran_tokens)"
   ]
  },
  {
   "cell_type": "code",
   "execution_count": 7,
   "metadata": {},
   "outputs": [
    {
     "name": "stdout",
     "output_type": "stream",
     "text": [
      "[('인생', 'NNG'), ('은', 'JX'), ('모두', 'NNG'), ('가', 'JKS'), ('함께', 'MAG'), ('하', 'XSV'), ('는', 'ETM'), ('여행', 'NNG'), ('이', 'VCP'), ('다', 'EF'), ('.', 'SF'), ('매일', 'MAG'), ('매일', 'MAG'), ('살', 'VV'), ('는', 'ETM'), ('동안', 'NNG'), ('우리', 'NP'), ('가', 'JKS'), ('하', 'VV'), ('ㄹ', 'ETM'), ('수', 'NNB'), ('있', 'VV'), ('는', 'ETM'), ('건', 'NNB'), ('최선', 'NNG'), ('을', 'JKO'), ('다', 'MAG'), ('하', 'XSV'), ('아', 'EC'), ('이', 'MM'), ('멋지', 'VA'), ('ㄴ', 'ETM'), ('여행', 'NNG'), ('을', 'JKO'), ('만끽', 'NNG'), ('하', 'XSV'), ('는', 'ETM'), ('것', 'NNB'), ('이', 'VCP'), ('다', 'EC')]\n"
     ]
    }
   ],
   "source": [
    "komoran = Komoran() #호출한 패키지는 사용을 위해 선언이 필수적으로 해주어야 한다\n",
    "komoran_tokens = komoran.pos(text) #komoran의 morphs를 사용해 토큰화\n",
    "print(komoran_tokens)"
   ]
  },
  {
   "cell_type": "code",
   "execution_count": 8,
   "metadata": {},
   "outputs": [
    {
     "name": "stdout",
     "output_type": "stream",
     "text": [
      "['인생', '은', '모두', '가', '함께하', '는', '여행', '이', '다', '.', '매일매일', '사', '는', '동안', '우리', '가', '하', 'ㄹ', '수', '있', '는', '거', '은', '최선', '을', '다하', '어', '이', '멋지', 'ㄴ', '여행', '을', '만끽', '하', '는', '것', '이', '다']\n"
     ]
    }
   ],
   "source": [
    "hannanum = Hannanum()\n",
    "hannanum_tokens = hannanum.morphs(text)\n",
    "print(hannanum_tokens)"
   ]
  },
  {
   "cell_type": "code",
   "execution_count": 9,
   "metadata": {},
   "outputs": [
    {
     "name": "stdout",
     "output_type": "stream",
     "text": [
      "['인생', '은', '모두', '가', '함께', '하는', '여행', '이다', '.', '매', '일', '매일', '사는', '동안', '우리', '가', '할', '수', '있는', '건', '최선', '을', '다해', '이', '멋진', '여행', '을', '만끽', '하는', '것', '이다']\n"
     ]
    }
   ],
   "source": [
    "okt = Okt()\n",
    "okt_tokens = okt.morphs(text)\n",
    "print(okt_tokens)"
   ]
  },
  {
   "cell_type": "code",
   "execution_count": 10,
   "metadata": {},
   "outputs": [
    {
     "name": "stdout",
     "output_type": "stream",
     "text": [
      "['인생', '은', '모두', '가', '함께', '하', '는', '여행', '이', '다', '.', '매일', '매일', '살', '는', '동안', '우리', '가', '하', 'ㄹ', '수', '있', '는', '것', '은', '최선', '을', '다하', '어', '이', '멋지', 'ㄴ', '여행', '을', '만끽', '하', '는', '것', '이', '다']\n"
     ]
    }
   ],
   "source": [
    "kkma=Kkma()\n",
    "kkma_tokens = kkma.morphs(text)\n",
    "print(kkma_tokens)"
   ]
  },
  {
   "cell_type": "code",
   "execution_count": null,
   "metadata": {},
   "outputs": [],
   "source": []
  },
  {
   "cell_type": "markdown",
   "metadata": {},
   "source": [
    "## 네이버 블로그 웹크롤링 \n",
    "* https://datart.tistory.com/28"
   ]
  },
  {
   "cell_type": "code",
   "execution_count": 1,
   "metadata": {},
   "outputs": [
    {
     "name": "stdout",
     "output_type": "stream",
     "text": [
      "('64bit', 'WindowsPE')\n"
     ]
    }
   ],
   "source": [
    "import platform \n",
    "print(platform.architecture())"
   ]
  },
  {
   "cell_type": "code",
   "execution_count": 2,
   "metadata": {},
   "outputs": [
    {
     "name": "stdout",
     "output_type": "stream",
     "text": [
      "Python 3.8.3\n"
     ]
    }
   ],
   "source": [
    "!python --version"
   ]
  },
  {
   "cell_type": "code",
   "execution_count": 3,
   "metadata": {},
   "outputs": [
    {
     "data": {
      "text/plain": [
       "'C:\\\\Users\\\\ASIA_08'"
      ]
     },
     "execution_count": 3,
     "metadata": {},
     "output_type": "execute_result"
    }
   ],
   "source": [
    "pwd"
   ]
  },
  {
   "cell_type": "code",
   "execution_count": 4,
   "metadata": {},
   "outputs": [
    {
     "name": "stdout",
     "output_type": "stream",
     "text": [
      "Requirement already satisfied: selenium in c:\\anaconda3\\lib\\site-packages (3.141.0)\n",
      "Requirement already satisfied: urllib3 in c:\\anaconda3\\lib\\site-packages (from selenium) (1.25.9)\n"
     ]
    }
   ],
   "source": [
    "!pip install selenium"
   ]
  },
  {
   "cell_type": "code",
   "execution_count": 5,
   "metadata": {},
   "outputs": [],
   "source": [
    "import sys\n",
    "import os\n",
    "import pandas as pd\n",
    "import numpy as np\n",
    "\n",
    "from bs4 import BeautifulSoup as bs\n",
    "from selenium import webdriver\n",
    "import time\n",
    "import datetime\n",
    "import tqdm\n",
    "from tqdm.notebook import tqdm\n",
    "options = webdriver.ChromeOptions()\n",
    "options.add_argument('headless')"
   ]
  },
  {
   "cell_type": "markdown",
   "metadata": {},
   "source": [
    "## 첫 번째 검색어 "
   ]
  },
  {
   "cell_type": "code",
   "execution_count": 6,
   "metadata": {},
   "outputs": [
    {
     "name": "stdout",
     "output_type": "stream",
     "text": [
      "1. 크롤링할 키워드는 무엇입니까?Heyroo 속초홍게라면솔직\n",
      "4. 조회를 시작할 날짜를 입려하세요(예: 2018-01-01)2015-06-11\n",
      "5. 조회를 종료할 날짜를 입려하세요(예: 2018-12-31)2020-09-28\n"
     ]
    }
   ],
   "source": [
    "query_txt = input('1. 크롤링할 키워드는 무엇입니까?')\n",
    "# query_txt2 = input('2. 제외할 첫번째 키워드를 입력하세요')\n",
    "# query_txt3 = input('3. 제외할 두번째 키워드를 입력하세요')\n",
    "\n",
    "start_date = input('4. 조회를 시작할 날짜를 입려하세요(예: 2018-01-01)')\n",
    "end_date = input('5. 조회를 종료할 날짜를 입려하세요(예: 2018-12-31)')"
   ]
  },
  {
   "cell_type": "code",
   "execution_count": 8,
   "metadata": {},
   "outputs": [],
   "source": [
    "path = \"chromedriver.exe\"\n",
    "\n",
    "driver = webdriver.Chrome(r\"C:\\Users\\ASIA_08\\chromedriver.exe\")\n",
    "\n",
    "driver.get('http://www.naver.com')\n",
    "time.sleep(2)\n",
    "\n",
    "element = driver.find_element_by_id(\"query\")\n",
    "element.send_keys(query_txt)\n",
    "element.submit()\n",
    "\n",
    "driver.find_element_by_link_text(\"블로그\").click()"
   ]
  },
  {
   "cell_type": "code",
   "execution_count": null,
   "metadata": {},
   "outputs": [],
   "source": [
    "#날짜 (언제쯤에 인기도가 상승하는지도 보기)"
   ]
  },
  {
   "cell_type": "code",
   "execution_count": 9,
   "metadata": {},
   "outputs": [],
   "source": [
    "driver.find_element_by_id(\"_search_option_btn\").click()\n",
    "\n",
    "driver.find_element_by_xpath(\"\"\"//*[@id=\"snb\"]/div/ul/li[1]/a\"\"\").click()\n",
    "driver.find_element_by_xpath(\"\"\"//*[@id=\"snb\"]/div/ul/li[1]/div/ul/li[1]/a\"\"\").click()"
   ]
  },
  {
   "cell_type": "code",
   "execution_count": 10,
   "metadata": {},
   "outputs": [],
   "source": [
    "driver.find_element_by_xpath(\"\"\"//*[@id=\"snb\"]/div/ul/li[2]/a\"\"\").click()\n",
    "time.sleep(2)\n",
    "\n",
    "s_date = driver.find_element_by_xpath(\"\"\"//*[@id=\"blog_input_period_begin\"]\"\"\")\n",
    "driver.find_element_by_xpath(\"\"\"//*[@id=\"blog_input_period_begin\"]\"\"\").click()\n",
    "s_date.clear()\n",
    "time.sleep(1)\n",
    "\n",
    "for c in start_date:\n",
    "    s_date.send_keys(c)\n",
    "    time.sleep(0.1)\n",
    "    \n",
    "e_date = driver.find_element_by_xpath(\"\"\"//*[@id=\"blog_input_period_end\"]\"\"\")\n",
    "driver.find_element_by_xpath(\"\"\"//*[@id=\"blog_input_period_end\"]\"\"\").click()\n",
    "e_date.clear()\n",
    "time.sleep(1)\n",
    "\n",
    "for c in end_date:\n",
    "    e_date.send_keys(c)\n",
    "    time.sleep(0.1)\n",
    "    \n",
    "driver.find_element_by_class_name(\"tx\").click()\n",
    "time.sleep(3)"
   ]
  },
  {
   "cell_type": "code",
   "execution_count": 12,
   "metadata": {},
   "outputs": [
    {
     "data": {
      "application/vnd.jupyter.widget-view+json": {
       "model_id": "d0767c4bf6b74c8588647271bccb6899",
       "version_major": 2,
       "version_minor": 0
      },
      "text/plain": [
       "HBox(children=(FloatProgress(value=0.0, max=10.0), HTML(value='')))"
      ]
     },
     "metadata": {},
     "output_type": "display_data"
    },
    {
     "name": "stdout",
     "output_type": "stream",
     "text": [
      "https://search.naver.com/search.naver?date_from=2015-06-11&date_option=0&date_to=2020-09-28&dup_remove=1&nso=&post_blogurl=&post_blogurl_without=&query=Heyroo 속초홍게라면솔직&sm=tab_pge&srchby=all&st=sim&where=post&start=1\n",
      "CU신제품?HEYROO 속초홍게라면 115g(500kcal)  시식기.\n",
      "CU편의점 Heyroo 속초홍게라면 리뷰\n",
      "HEYROO 속초홍게라면 리얼 후기\n",
      "CU편의점  라면추천 HEYROO 속초홍게라면 과 고봉민참치김밥\n",
      "[편의점탐방기] CU 브랜드 HEYROO \"속초홍게라면\"€\n",
      "CU 편의점//HEYROO//속초 홍게 라면\n",
      "CU HEYROO 속초홍게라면 컵라면 후기\n",
      "HEYROO CU 속초홍게라면 솔직후기\n",
      "ep6. HEYROO 속초 홍게 라면\n",
      "HEYROO CU 속초 홍게 라면\n",
      "https://search.naver.com/search.naver?date_from=2015-06-11&date_option=0&date_to=2020-09-28&dup_remove=1&nso=&post_blogurl=&post_blogurl_without=&query=Heyroo 속초홍게라면솔직&sm=tab_pge&srchby=all&st=sim&where=post&start=11\n",
      "CU추천!!HEYROO초코우유,속초홍게라면!!CU맛집이네\n",
      "HEYROO 청양고추라면, HEYROO 속초홍게라면 [★솔직평가★]\n",
      "[Heyroo] 속초홍게라면 리뷰\n",
      "[씨유(CU)] (HEYROO) 속초 홍게 라면\n",
      "[BGF리테일 CU편의점] HEYROO 속초홍게라면\n",
      "HEYROO 속초홍게라면\n",
      "[CU편의점]헤이루(HEYROO) 속초홍게라면 먹어본 후기\n",
      "cu평의점 HEYROO 속초홍게라면\n",
      "CU편의점에서 먹은 HEYROO 속초홍게라면!!\n",
      "CU라면 HEYROO 속초홍게라면 홍게는 무엇? 리뷰 포스팅\n",
      "https://search.naver.com/search.naver?date_from=2015-06-11&date_option=0&date_to=2020-09-28&dup_remove=1&nso=&post_blogurl=&post_blogurl_without=&query=Heyroo 속초홍게라면솔직&sm=tab_pge&srchby=all&st=sim&where=post&start=21\n",
      "cu컵라면 / 아침에 들이켰던  속초홍게라면 솔직후기\n",
      "[ 컵라면 ] CU HEYROO 씨유 헤이루 속초 홍게 라면 컵라면\n",
      "HEYROO 속초홍게라면 시식기\n",
      "[HEYROO]속초홍게라면\n",
      "속초 홍게라면, 아바이순대 맛 솔직후기 in 아마이홍게\n",
      "[CU 편의점 맛보기] 백종원도시락(매콤불고기 정식) HEYROO 속초 홍게 라면!\n",
      "편의점음식)) CU 편의점 음식 추천/CU HEYROO 속초 홍게 라면\n",
      "속초홍게라면HEYROO cu씨유편의점 정말맵더라는\n",
      "CU HEYROO \"속초홍게라면\"\n",
      "[편의점 라면] CU라면 속초홍게라면 솔직 후기\n",
      "https://search.naver.com/search.naver?date_from=2015-06-11&date_option=0&date_to=2020-09-28&dup_remove=1&nso=&post_blogurl=&post_blogurl_without=&query=Heyroo 속초홍게라면솔직&sm=tab_pge&srchby=all&st=sim&where=post&start=31\n",
      "HEYROO(헤이루) 속초홍게라면\n",
      "CU 편의점 라면 Heyroo [속초 홍게라면]\n",
      "HEYROO 속초 홍게라면 (컵라면) 후기!!\n",
      "2016.12.16.Fri HEYROO 속초홍게라면 후기\n",
      "편의점, CU편의점에서만 파는: 속초홍게라면 - 솔직후기\n",
      "속초홍게라면, 그것이알고싶다면?\n",
      "해물 맛 담긴 CU 속초홍게라면\n",
      "[CU편의점] HEYROO 속초홍게라면\n",
      "[강원도] 속초 맛집 명성게찜, 대게, 홍게, 킹크랩\n",
      "[맛있는녀석들 속초 대게] 속초대게나라홍게마을 솔직후기\n",
      "https://search.naver.com/search.naver?date_from=2015-06-11&date_option=0&date_to=2020-09-28&dup_remove=1&nso=&post_blogurl=&post_blogurl_without=&query=Heyroo 속초홍게라면솔직&sm=tab_pge&srchby=all&st=sim&where=post&start=41\n",
      "HEYROO 속초홍게라면과 임실치즈라면\n",
      "속초 여행 HEYROO 속초 홍게 라면 sokcho red snow crab cup noodle\n",
      "[레코's 생활리뷰]열한번째 편의점 CU HEYROO 속초홍게라면\n",
      "CU 편의점 HEYROO 속초 홍게 라면\n",
      "[컵라면]HEYROO 속초홍게라면\n",
      "[CU 속초홍게라면] 홍게맛은 안나잖아요\n",
      "편의점 CU 속초 홍게라면 먹어봤습니다\n",
      "속초홍게라면, 편의점 라면중 탑5,진짜 게맛이 나요\n",
      "[ 속초 홍게집 ] 속초홍게나라... 내마음에서 사요나라..... 솔직 후기\n",
      "편의점 털기) CU HEYROO 헤이루 - 속초홍게라면\n",
      "https://search.naver.com/search.naver?date_from=2015-06-11&date_option=0&date_to=2020-09-28&dup_remove=1&nso=&post_blogurl=&post_blogurl_without=&query=Heyroo 속초홍게라면솔직&sm=tab_pge&srchby=all&st=sim&where=post&start=51\n",
      "(속초 맛집)속초해수욕장 속초홍게대게 솔직후기\n",
      "[CU] HEYROO 제주마늘라면 후기 - 생각보단 맵다...\n",
      "알싸하고 깊은맛 HEYROO제주마늘라면\n",
      "CU 'HEYROO' 신제품 제주마늘라면\n",
      "삼양 ::마라탕면:: 그리고 헤이루 ::속초홍게라면:: 먹어본 후기. 앞으로는 안먹는 것으로ㅠㅋ\n",
      "[HeyRoo]씨유 속초홍게라면 리뷰\n",
      "::CU편의점 HEYROO::초코콘,  프레첼&카라멜팝콘, 속초홍게라면(비추!!).\n",
      "CU편의점라면 추천:) 홍게가 들어있는 속초홍게라면 솔직후기!\n",
      "[2017.05.23] CU 편의점 HEYROO 속초홍게라면\n",
      "CU 속초홍게라면 솔직후기\n",
      "https://search.naver.com/search.naver?date_from=2015-06-11&date_option=0&date_to=2020-09-28&dup_remove=1&nso=&post_blogurl=&post_blogurl_without=&query=Heyroo 속초홍게라면솔직&sm=tab_pge&srchby=all&st=sim&where=post&start=61\n",
      "대포항 맛집 은주네 솔직후기:: 실속있는 홍게세트와 홍게라면까지 가성비 좋은 속초 활어회집\n",
      "[라면] CU 편의점 헤이루 속초 홍게 라면 솔직후기\n",
      "씨유 편의점 컵라면 속초 홍게 라면\n",
      "씨유 속초홍게라면 솔직 후기!!\n",
      "CU  속초홍게라면 솔직후기\n",
      "맛남의 광장 옥계휴게소편 / 홍게라면 먹은 솔직후기(가격 및 운영시간)\n",
      "CU편의점 컵라면 추천 속초홍게라면\n",
      "옥계휴게소 홍게라면 솔직후기 (백종원의 만남의광장)\n",
      "컵라면추천 - 속초홍게라면 솔직 후기\n",
      "<속초/맛집> 홍게랑 & 속초 중앙시장 막걸리빵 솔직후기\n",
      "https://search.naver.com/search.naver?date_from=2015-06-11&date_option=0&date_to=2020-09-28&dup_remove=1&nso=&post_blogurl=&post_blogurl_without=&query=Heyroo 속초홍게라면솔직&sm=tab_pge&srchby=all&st=sim&where=post&start=71\n",
      "솔직리뷰 CU편의점라면 속초홍게라면\n",
      "[신제품 리뷰] 유산슬 비빔면 VS 유산슬 라면, 솔직후기\n",
      "구로디지털 부근 홍게, 대게 파는 식당 솔직후기\n",
      "[CU] 속초홍게라면 리뷰\n",
      "후기 : 속초홍게라면 솔직 후기 :(\n",
      "CU 편의점 컵라면 속초홍게라면 칼칼하니 맛있다\n",
      "속초붉은대게 화곡점 홍게 솔직후기! 그냥 붉은대게먹을걸...;;;;;\n",
      "[편의점음식] GS25 지에스 편의점 치킨샐러드 샌드위치 솔직 후기/ CU 씨유 속초홍게라면과 지에스 햄구이김치볶음밥 후기\n",
      "cu편의점 속초홍게라면 솔직후기~!!\n",
      "[cu편의점 리뷰] 오빠랑 함께 먹은 백종원도시락/집밥은씨유~!! 백종원 한판도시락 + 매콤불고기정식 (+속초홍게라면) 솔직리뷰\n",
      "https://search.naver.com/search.naver?date_from=2015-06-11&date_option=0&date_to=2020-09-28&dup_remove=1&nso=&post_blogurl=&post_blogurl_without=&query=Heyroo 속초홍게라면솔직&sm=tab_pge&srchby=all&st=sim&where=post&start=81\n",
      "제주마늘라면_마늘의 풍미가 몸 안에 가득_솔직리뷰\n",
      "속초 오봉식당에서 게장백반 홍게라면 솔직후기\n",
      "[CU 편의점 신상] 속초홍게라면 해장하기 좋아요.\n",
      "CU편의점/속초홍게라면 #5\n",
      "속초 아침식사_오봉식당에서 홍게칼국수,홍게라면 솔직후기..\n",
      "국내 최고 편의점라면 상품정보분석\n",
      "CU 편의점 신상 제주 마늘 라면 솔직 후기\n",
      "[속초맛집] 저렴한 홍게, 대게 맛집 대게나라 조개마을 내돈내먹 솔직후기!!\n",
      "CU 씨유 편의점 헤이루 속초홍게라면 그 맛은?\n",
      "::속초해변 여행 맛있는녀석들에 방영된 대게 맛집 │대게나라 홍게마을│솔직후기\n",
      "https://search.naver.com/search.naver?date_from=2015-06-11&date_option=0&date_to=2020-09-28&dup_remove=1&nso=&post_blogurl=&post_blogurl_without=&query=Heyroo 속초홍게라면솔직&sm=tab_pge&srchby=all&st=sim&where=post&start=91\n",
      "'속초 홍게 라면' CU편의점에서만 파는 바로 그 라면. 속초홍게라면 리뷰.\n",
      "속초홍게라면 솔직후기\n",
      "<속초 홍게 맛집>대포항 수산시장 물고기자리 솔직 후기\n",
      "CU / 제주마늘라면 : 국물 괜찮네~ 마늘 맛이 굿!\n",
      "CU 라면 추천/편의점 라면 추천 속초 홍게 라면\n",
      "[속초홍게라면][속초홍게라면 솔직후기 리뷰][컵라면 후기][cu][씨유][편의점][컵라면][라면][컵라면추천][해장하기 좋은라면][해장라면][편의점음식][편의점털기][속초홍게][속초홍게컵라면]\n",
      "씨유라면 속초홍게라면으로 해장하세요\n",
      "편의점 CU(씨유) 속초 홍게라면 맛있어요.\n",
      "속초홍게라면 이게 홍게?\n",
      "고성 바닷가에서 먹은 속초 홍게 라면\n",
      "\n"
     ]
    }
   ],
   "source": [
    "url_list = []\n",
    "title_list = []\n",
    "\n",
    "total_page = 10\n",
    "for i in tqdm(range(0, total_page)):\n",
    "    i = i*10 + 1 \n",
    "    url = \"https://search.naver.com/search.naver?date_from={0}&date_option=0&date_to={1}&dup_remove=1&nso=&post_blogurl=&post_blogurl_without=&query={2}&sm=tab_pge&srchby=all&st=sim&where=post&start={3}\".format(start_date, end_date, query_txt, i)\n",
    "    print(url)\n",
    "    driver.get(url)\n",
    "    time.sleep(0.5)\n",
    "\n",
    "    titles = \"a.sh_blog_title._sp_each_url._sp_each_title\"\n",
    "    article_raw = driver.find_elements_by_css_selector(titles)\n",
    "\n",
    "    for article in article_raw:\n",
    "        url = article.get_attribute('href')\n",
    "        url_list.append(url)\n",
    "\n",
    "    for article in article_raw:\n",
    "        title = article.get_attribute('title')\n",
    "        title_list.append(title)\n",
    "\n",
    "        print(title)"
   ]
  },
  {
   "cell_type": "code",
   "execution_count": 15,
   "metadata": {},
   "outputs": [],
   "source": [
    "df = pd.DataFrame({'url': url_list, 'title': title_list})\n",
    "df.to_excel(\"blog_url.xlsx\")"
   ]
  },
  {
   "cell_type": "code",
   "execution_count": 19,
   "metadata": {},
   "outputs": [
    {
     "name": "stdout",
     "output_type": "stream",
     "text": [
      "100\n"
     ]
    }
   ],
   "source": [
    "url_load = pd.read_excel(\"blog_url.xlsx\")\n",
    "\n",
    "num_list = len(url_load)\n",
    "\n",
    "print(num_list)\n",
    "url_load = url_load.reset_index(drop=True)"
   ]
  },
  {
   "cell_type": "code",
   "execution_count": 21,
   "metadata": {},
   "outputs": [
    {
     "data": {
      "text/html": [
       "<div>\n",
       "<style scoped>\n",
       "    .dataframe tbody tr th:only-of-type {\n",
       "        vertical-align: middle;\n",
       "    }\n",
       "\n",
       "    .dataframe tbody tr th {\n",
       "        vertical-align: top;\n",
       "    }\n",
       "\n",
       "    .dataframe thead th {\n",
       "        text-align: right;\n",
       "    }\n",
       "</style>\n",
       "<table border=\"1\" class=\"dataframe\">\n",
       "  <thead>\n",
       "    <tr style=\"text-align: right;\">\n",
       "      <th></th>\n",
       "      <th>Unnamed: 0</th>\n",
       "      <th>url</th>\n",
       "      <th>title</th>\n",
       "    </tr>\n",
       "  </thead>\n",
       "  <tbody>\n",
       "    <tr>\n",
       "      <th>90</th>\n",
       "      <td>90</td>\n",
       "      <td>https://blog.naver.com/chasasochasaye?Redirect...</td>\n",
       "      <td>'속초 홍게 라면' CU편의점에서만 파는 바로 그 라면. 속초홍게라면 리뷰.</td>\n",
       "    </tr>\n",
       "    <tr>\n",
       "      <th>91</th>\n",
       "      <td>91</td>\n",
       "      <td>https://dhflwlq7257.tistory.com/57</td>\n",
       "      <td>속초홍게라면 솔직후기</td>\n",
       "    </tr>\n",
       "    <tr>\n",
       "      <th>92</th>\n",
       "      <td>92</td>\n",
       "      <td>https://blog.naver.com/puccanaraya?Redirect=Lo...</td>\n",
       "      <td>&lt;속초 홍게 맛집&gt;대포항 수산시장 물고기자리 솔직 후기</td>\n",
       "    </tr>\n",
       "    <tr>\n",
       "      <th>93</th>\n",
       "      <td>93</td>\n",
       "      <td>https://blog.naver.com/okpak1996?Redirect=Log&amp;...</td>\n",
       "      <td>CU / 제주마늘라면 : 국물 괜찮네~ 마늘 맛이 굿!</td>\n",
       "    </tr>\n",
       "    <tr>\n",
       "      <th>94</th>\n",
       "      <td>94</td>\n",
       "      <td>https://blog.naver.com/pkd0691?Redirect=Log&amp;lo...</td>\n",
       "      <td>CU 라면 추천/편의점 라면 추천 속초 홍게 라면</td>\n",
       "    </tr>\n",
       "    <tr>\n",
       "      <th>95</th>\n",
       "      <td>95</td>\n",
       "      <td>https://blog.naver.com/rkrwpdn2853?Redirect=Lo...</td>\n",
       "      <td>[속초홍게라면][속초홍게라면 솔직후기 리뷰][컵라면 후기][cu][씨유][편의점][...</td>\n",
       "    </tr>\n",
       "    <tr>\n",
       "      <th>96</th>\n",
       "      <td>96</td>\n",
       "      <td>https://blog.naver.com/gur120?Redirect=Log&amp;log...</td>\n",
       "      <td>씨유라면 속초홍게라면으로 해장하세요</td>\n",
       "    </tr>\n",
       "    <tr>\n",
       "      <th>97</th>\n",
       "      <td>97</td>\n",
       "      <td>https://blog.naver.com/page56_?Redirect=Log&amp;lo...</td>\n",
       "      <td>편의점 CU(씨유) 속초 홍게라면 맛있어요.</td>\n",
       "    </tr>\n",
       "    <tr>\n",
       "      <th>98</th>\n",
       "      <td>98</td>\n",
       "      <td>https://blog.naver.com/iamyoonye?Redirect=Log&amp;...</td>\n",
       "      <td>속초홍게라면 이게 홍게?</td>\n",
       "    </tr>\n",
       "    <tr>\n",
       "      <th>99</th>\n",
       "      <td>99</td>\n",
       "      <td>https://blog.naver.com/ggogomzoo?Redirect=Log&amp;...</td>\n",
       "      <td>고성 바닷가에서 먹은 속초 홍게 라면</td>\n",
       "    </tr>\n",
       "  </tbody>\n",
       "</table>\n",
       "</div>"
      ],
      "text/plain": [
       "    Unnamed: 0                                                url  \\\n",
       "90          90  https://blog.naver.com/chasasochasaye?Redirect...   \n",
       "91          91                 https://dhflwlq7257.tistory.com/57   \n",
       "92          92  https://blog.naver.com/puccanaraya?Redirect=Lo...   \n",
       "93          93  https://blog.naver.com/okpak1996?Redirect=Log&...   \n",
       "94          94  https://blog.naver.com/pkd0691?Redirect=Log&lo...   \n",
       "95          95  https://blog.naver.com/rkrwpdn2853?Redirect=Lo...   \n",
       "96          96  https://blog.naver.com/gur120?Redirect=Log&log...   \n",
       "97          97  https://blog.naver.com/page56_?Redirect=Log&lo...   \n",
       "98          98  https://blog.naver.com/iamyoonye?Redirect=Log&...   \n",
       "99          99  https://blog.naver.com/ggogomzoo?Redirect=Log&...   \n",
       "\n",
       "                                                title  \n",
       "90         '속초 홍게 라면' CU편의점에서만 파는 바로 그 라면. 속초홍게라면 리뷰.  \n",
       "91                                        속초홍게라면 솔직후기  \n",
       "92                     <속초 홍게 맛집>대포항 수산시장 물고기자리 솔직 후기  \n",
       "93                     CU / 제주마늘라면 : 국물 괜찮네~ 마늘 맛이 굿!  \n",
       "94                        CU 라면 추천/편의점 라면 추천 속초 홍게 라면  \n",
       "95  [속초홍게라면][속초홍게라면 솔직후기 리뷰][컵라면 후기][cu][씨유][편의점][...  \n",
       "96                                씨유라면 속초홍게라면으로 해장하세요  \n",
       "97                           편의점 CU(씨유) 속초 홍게라면 맛있어요.  \n",
       "98                                      속초홍게라면 이게 홍게?  \n",
       "99                               고성 바닷가에서 먹은 속초 홍게 라면  "
      ]
     },
     "execution_count": 21,
     "metadata": {},
     "output_type": "execute_result"
    }
   ],
   "source": [
    "url_load.tail(10)"
   ]
  },
  {
   "cell_type": "code",
   "execution_count": 27,
   "metadata": {
    "scrolled": false
   },
   "outputs": [
    {
     "data": {
      "application/vnd.jupyter.widget-view+json": {
       "model_id": "510f1e9230f542c8bb97d69e35ff8f38",
       "version_major": 2,
       "version_minor": 0
      },
      "text/plain": [
       "HBox(children=(FloatProgress(value=0.0, max=20.0), HTML(value='')))"
      ]
     },
     "metadata": {},
     "output_type": "display_data"
    },
    {
     "name": "stderr",
     "output_type": "stream",
     "text": [
      "<ipython-input-27-84cf88fcc2e8>:14: DeprecationWarning: use driver.switch_to.frame instead\n",
      "  driver.switch_to_frame('mainFrame')\n"
     ]
    },
    {
     "name": "stdout",
     "output_type": "stream",
     "text": [
      "예외가 발생했습니다. Message: no such element: Unable to locate element: {\"method\":\"css selector\",\"selector\":\".se-fs-.se-ff-\"}\n",
      "  (Session info: chrome=85.0.4183.121)\n",
      "\n",
      "['오늘은 씨유 편의점에서 파는 자체 브랜드 라면인\\nHeyroo 속초홍게라면에 대해 리뷰할까 해요\\n이 컵라면을 찾게 된 이유는 냉방병에 걸려\\n몸이 좋지않은 도중에 국물이 시원한\\n컵라면이 먹고싶어졌기 때문이었는데요', '포장지보면 버섯과 큰 게가 들어가 있는\\n얼큰한 맛일것 같아요!\\n강원도 속초의 명물인 홍게를 청정 동해에서\\n잡아올려 추출한 엑기스로 맛을 낸 맵고\\n진한 매운맛의 해물라면이라고 나와있네요', '115g에 500kcal입니다 스프에는 홍게가 6.9% 들어가있다고 하네요', '자체 브랜드 소개와 조리방법이 나와있어요\\n분말스프와 액상스프를 넣으라고 나와있지요', '열어보면 액상스프와 분말스프가\\n같이 들어있어요 음..  후레이크는? ?', '일단 설명에 따라 분말스프를 넣고', '액상스프를 넣어주시구요', '표시선까지 뜨거운물을 넣어줍니다!\\n저는 커피포트로 끓인 물을 넣었어요\\n그리고 표면에 적혀있는 것처럼\\n4분간 기다립니다!', '먹기 좋게 면빨이 익었을때 라면을 젓가락으로\\n휘 휘 저어줍니다 스프가 고루 섞이도록!', '되게 빨갛고 익은 면빨이 너무나도 탐스러운\\n속초 홍게라면..  알고보니 후레이크는\\n아래쪽에 들어있어서 보이지 않았던거고\\n가장 먹고싶었고 맛있을것 같은 국물맛은\\n꽃게탕 느낌인데 맵기보다 얼큰하고\\n마시고 나면 시원하다 소리가 절로 나옵니다\\n(정말 차가운 얼음물처럼 시원한게 아닌거 아시죠?)\\n맛있는 꽃게탕 국물이 흡수된 면도\\n먹을수록 특유의 맛을 느낄수 있었습니다\\n다시 사먹어도 좋을만큼 국물라면 중 좋았어요!\\n여러분들도 꼭 드셔보시길 바래요\\n몸이 으스스할때 따뜻한 국물로도\\n최고인 씨유의 헤이루 속초 홍게라면이었습니다!']\n",
      "[\"#헤이루 속초홍게라면 #HEYROO 속초홍게라면 #헤이루 라면 #HEYROO 라면 \\n#컵라면 후기 #라면 후기 #CU 컵라면\\n안녕하세요\\n편의점 CU에서 판매하는 'HEYROO 속초홍게라면' 먹어본 후기입니다. \\n국물에 홍게맛이 날지, 홍게살이 들어 있는지 궁금했습니다.\\n가격은 1,500원 입니다. \", '분말스프와 액상스프가 들어 있습니다.\\n2개의 스프를 모두 넣고 물을 표시선까지 부은 뒤 4분 기다립니다.', '4분 후.', '국물부터 맛보았습니다. \\n오 해물향이 진해서 해물탕 비슷한 맛이 납니다. \\n그런데 국물에 기름기가 좀 있고 불향이 나는 것이, 약간 진짬뽕 국물맛 같기도 했습니다. \\n홍게살도 들어 있어서 좋았습니다. 짭쪼름하고 게살의 식감입니다. \\n홍게살은 2개 정도 있었습니다.', '국물 남김 없이 다 먹었네요. \\n진짬뽕과 비슷해서 약간 식상하긴 했지만 전반적으로 맛있었습니다.']\n",
      "예외가 발생했습니다. Message: no such element: Unable to locate element: {\"method\":\"css selector\",\"selector\":\".se-fs-.se-ff-\"}\n",
      "  (Session info: chrome=85.0.4183.121)\n",
      "\n",
      "['안녕하세요. 수남이에요.', 'CU편의점에 갔다가 속초홍게라면이 맛있어보여서 데리고왔어요.\\n뚜껑에는 홍게다리와 표고버섯, 파가 올라가있는 엄청난 비주얼!! 이지만.. 실제로는 아닐거란거.. 정도는 당연히 알고 구입을 했어요.\\n홍게 맛을 얼마나 잘 재현했는지가 궁금하더라구요.', 'HEYROO 케릭터가 홍게를 들고있네요 ^^\\n강원도 속초의 명물인 홍게를 청정 동해에서 잡아올려 추출한 엑기스로 맛을 낸 깊고 진한 매운맛의 해물라면이라고 설명되어있어요.\\n가격은 1,400원이고 CU편의점에서 구입할 수 있어요.', '헤이루는 언제 어디서나 친근한 모습으로 고객과 함께하는 BGF retail의 상품 브랜드입니다. 라는 문구와 함께 조리방법과 영양정보가 표시되어있어요.\\n칼로리는 500kcal로 조금 높은 편인거같아요.\\n분말스프와 액상스프를 넣고 끓는 물을 부은 뒤 뚜껑을 닫고 4분간 기다립니다. 를 보아 안에 액상스프도 같이 들어있는거같아요.', '원재료명 이외에 스프류 중 홍게 6.9%(생물 기준, 속초산)함유가 눈에 띄네요.\\n6.9%.. 과연 얼만큼의 맛을 냈을까요?', '뚜껑에서 홍게를 들고있던 헤이루 케릭터가 옆면에도 자리잡고 있네요.\\nCU음료 중에 헤이루 피규어가 들어있는 음료도 있던데 저 아이가 들어있나봅니다.', '개봉!!\\n역시 분말스프와 액상스프가 들어있어요.\\n건더기 스프는 미리 다 들어가있고 홍게모양으로 생긴 건더기들도 들어있네요.', '분말스프와 액상스프를 넣고 끓는 물을 부은뒤 4분동안 기다려줍니다.', '기다림의 시간은 언제나 힘들어요 ㅠㅠ', '4분뒤.. 완성되었어요.', '면은 어느정도 굵기가 있는 면을 사용했네요.\\n홍게 느낌의 건더기를 올려서 먹어봤어요.\\n국물도 먹어보고 다 먹어봤어요.\\n결과는~~ 두구두구두구두구', '일단 저 건더기는 새우탕에 들어있는 그 새우맛 건더기와 맛이 비슷해요.\\n같은 갑각류가 그런가봐요. 새우탕에 들어있는 건더기에 약간의 홍게맛이 첨가된 느낌이였어요.\\n면은 똑같고..\\n이제 핵심은 국물인데 국물이 맛있어야 면에도 잘 베어들어서 맛있는 홍게라면이 될텐데요.\\n국물맛은 해물맛이 나긴 나요.\\n항상 나는건 아니고 먹다보면 어렴풋이 해물향이 입안에 돌다가 사라지더라구요.\\n전반적인 느낌은 건더기와 비슷하게 새우탕에 홍게향이 조금 첨가된 느낌.. 거기에 조금 더하면 해물향도 조금 더 많이 나요.\\n자주 오래 안나는게 함정이긴 하지만..\\n그래도 국물 자체는 많이 맵지 않고 맛있었어요. 너무 홍게 이미지가 크게 들어가있다보니.. 기대가 컷나봐요. 거기에 대한 기대치만 낮추시면 나쁘지않더라구요.\\n농심 새우탕 기준으로 1,150원인거에 비하면 가격도 250원밖에 차이가 안나서 새우탕보다는 조금더 해물향이 느껴지는 속초홍게라면도 괜찮겠더라구요.\\n기대했던 홍게의 맛, 해물의 맛은 많이는 느껴지지 않아서 아쉬웠지만 그런 이미지를 조금 내려놓고 먹으면 나름 깔끔하고 괜찮았던 CU HEYROO의 속초홍게라면이였어요.']\n",
      "['CU 편의점의 속초 홍게 라면을 먹어보았다.\\n팔도에서 만들고 CU에서 판매하는 HEYROO 치즈 맛 라면의 가격은 1,500원이었다.\\n나는 포켓 CU의 행사 할인을 활용하여 750원에 구매하였다. ', '115g에 500kcal인 제품은 나트륨 1,680mg, 탄수화물 72g(당류 4g), \\n지방 19g(포화지방 8g), 콜레스테롤 4mg, 단백질 10g으로 구성되어 있었다.\\n조리 방법은 뚜껑을 표시선 까지 열고 분말스프, 액상스프를 면 위에 넣고 끓는 물을 용기 안족까지 부은 후\\n 뚜껑을 닫고 기다린 후 뚜껑을 열어 젓가락으로 면을 잘 저어 먹으면 되었다.', '스프류 중 홍게 6.9%라는 안내에 시원한 국물 맛이 기대가 되었다.', '제품의 뚜껑을 열어보면 면과 함께 액상스프, 분말스프가 보였다.', '액상스프와 분말 스프를 면 위에 부어주었다.', '끓인 물을 부어주니 뭔가 익숙한 라면의 향이 다가왔다.', '길다면 길고 짧다면 짧은 4분간의 기다림 후 후루룩 한 라면은\\n새우탕 큰 사발과 비슷한 맛이 났다.\\n맛이 없는 것은 아니었지만 신랑님과 나 둘 다 새우탕이 조금 더 맛있는 것 같다는 의견을 보였다.\\n조금 더 매운 것 같기도 한 속초홍게라면은 뭔가 게가 들어간 특유의 고소하면서 \\n짭짤한 맛을 보여주었지만 2% 부족한 듯한 아쉬움은 어쩔 수 없는 것 같았다.\\n한 번 먹어본 것에 만족하며 다음에는 다른 제품에 도전해 보기로 하였다.\\n#CU편의점 #CU #편의점 #CU라면 #라면추천 #cu라면추천 #cu편의점라면 #편의점라면 #수요일cu할인 #포켓cu #cu할인 #매주수요일cu득템데이 #cu득템데이 #편의점할인 #cu편의점할인 #편의점간식 #편의점먹거리 #속초홍게라면 #CU속초홍게라면 #heyroo라면 #heyroo #heyroo속초홍게라면 #속초홍게라면가격 #속초홍게라면칼로리 #속초홍게라면맛 #시원한음식 #cu속초홍게라면맛 #속초홍게라면영양분 #기분전환음식 #헤이루속초홍게라면 #헤이루 #CU속초홍게라면칼로리 #비상식량 #비상식량추천']\n",
      "예외가 발생했습니다. Message: no such element: Unable to locate element: {\"method\":\"css selector\",\"selector\":\".se-fs-.se-ff-\"}\n",
      "  (Session info: chrome=85.0.4183.121)\n",
      "\n",
      "예외가 발생했습니다. Message: no such element: Unable to locate element: {\"method\":\"css selector\",\"selector\":\".se-fs-.se-ff-\"}\n",
      "  (Session info: chrome=85.0.4183.121)\n",
      "\n",
      "['편의점에는 영혼의 투톱이 있다.\\n바로 라면과 삼각 김밥이다.\\n이미 많은 제품들이 나와있어 \\n두 품목으로 차별화는 힘들 것이라고 생각했으나....\\nHEYROO에서 시도하였다.\\n쭉 보다보니까\\nBGF는 자체 개발이나 유니크한 해외 상품을 그대로 들여오는 것 같고\\nGS는 국내 기업과 콜라보로 늘려가는 것 같다.', '@기획 엿보기\\n지역과 특산물 그리고 음식과의 조합은 언제나 소비자의 마음을 움직이기 좋다고 생각한다.\\n연상이 쉬울 뿐 더러 먹거리에 좋은 기억이 있다면\\n구매 확률을 더더욱 올라갈 것이다.\\n지역 명물을 끌어오는 것은 편의점 뿐만 아니라 백화점도 마찬가지다.\\n백화점도 F&B를 강화하여 모객에 집중하였다.\\n뭐 차이는 있지만 큰 틀에서 비슷한 효과를 본다고 생각한다.', '이거 이외에도 임실 치즈, 청양 고추 라면이 있는데\\n속초 홍게가 그나마 무난한 것 같다.\\n임실 치즈는 피자로 접해본 적이 있고\\n청양 고추는 고유 명사나 다름 없으니\\n속초 홍게 라면은 새롭게 다가왔다.\\n물론 강원도에서는 평범한 음식이겠지만...\\n ', '@고객과 가격\\n가격은 1500원으로 불닭볶음면하고 똑같다.\\n라면 중에서는 비싼 축에 속한다.\\n팔도에서 만들었으니\\n왕뚜껑을 떠올려보면 1050원.\\n근데 나같은 학생도 라면 살 때는 \\n별로 가격을 따지지 않는다.\\n대략 2000원이 넘지 않는 이상\\n가격 변동에 조금 무딜 것 같다.\\n고객은 뭔가 전국민이 해당 될 것 같은데\\n아무래도 젊은 층이 먼저 수용할 것 같고\\n더 인기를 끌면 보편화되지 않을까 싶다.\\n딱히 게를 싫어하지 않는 이상 \\n취향을 탈 것 같지는 않다.\\n근데 가끔보면 \\n게 싫어하는 사람이 있긴 있다...!', '@내용물\\n내용물은 보통인 것 같다.\\n나는 꼭 언급하고 싶은 것은 액상스프이다.\\n액상스프 손에 안 묻게 만들 수 있는 라면 회사가 있으면 좋겠다.\\n나는 꼭 액상 스프를 다 짜서 넣는데\\n마지막에 꼭 손에 묻는다.\\n이런 포인트를 해결야 선진 기업인데;;;;\\n작은 나의 소망이 있다.\\n@맛\\n맛은 살짝 게향이 나는 \\n면은 살짝 부드럽고 \\n육개장 보다는 굵고 일반 라면보다는 얇은 면이다.\\n이런 면을 어디서 먹어봤는데\\n기억이 안난다.\\n난생 처음 맛보는 맛은 아니다.\\n미역이 들어서 그런지 살짝 너구리 맛도 나는 듯하고\\n뭔가 여러가지 섞인 맛같다.', '마지막으로 나는 이게 인기가 좀 있는 줄 알았는데\\n생각보다 블로그 언습도 별로 없고\\n기사도 별로 없어서 예상 밖이었다.\\n여튼 그냥 저냥 괜찮았따.']\n",
      "['CU HEYROO 속초 홍게라면 1400원입니다. CU편의점에만 있는 상품입니다.', '구성은 면, 분말스프, 액상스프로 되있습니다. 컵라면 내부에 후레이크가 미리 흩어져있습니다.', 'CU HEYROO 속초 홍게라면 조리방법입니다. 뚜껑을 표시선까지 열고 스프를 두종류 다 넣은뒤 물을 안쪽 표시선까지 넣어 뚜껑을 닫고 4분있다 열어서 저어먹으면 됩니다.', '미리 흩어진 후레이크중에 이런 게살처럼 보이는 건더기가 있습니다. 하지만 그렇게 게맛이 느껴지진않고 식감은 맛살같습니다. 그닥 나중에 생각나지 않을것같은 맛입니다.']\n",
      "['안녕하세요\\n짜안-! 입니다', '오늘은 CU 편의점에서\\n초코우유와\\n속초홍게라면을\\n사왔어요', 'CU우유!!\\nHEYROO초코우유입니다\\n1000ml 대용량이에요!><\\n초코덕후는 보기만해도 행복', '편의점 우유라서\\n크게 기대안했는데\\n달달하고 너무 맛있어요!!\\n☆신선하고 맛 좋은 국산 원유만 사용☆\\n☆진하고 부드러운 네덜란드산 코코아 사용☆\\n이라고 적혀있는거 보이시죠?\\nㅎㅎㅎㅎ\\n여러분\\n요즘 커피얼음에 유유타서 먹는 라떼를\\n카페에서 파시는거 아시죠?\\n그 음료이름이 따로 있는데\\n기억이 안나네요ㅠㅠ\\n그래서 저도 그렇게 우유를 먹어봤습니다\\n카누스틱을 물에 진하게 녹인 후\\n얼려서 커피얼음을 만듭니다\\n그리고 초코우유를 넣어요', '짜잔!!!\\n이렇게 커피얼음에\\n초코우유를 넣으면\\n커피얼음 조금씩 녹으면서\\n맛이 진해집니다', '자세히 보시면\\n저기 거뭇거뭇한게\\n커피얼음 녹은거랍니다ㅎㅎ\\n맛은 달달한 커피모카 같아요\\n완전 제 스똴!!!\\n너무 맛있어요ㅠㅠ\\n다음은 초코우유와\\n같이 구매한 속초홍게라면을\\n보여드릴께요', '귀여운 노랭이가\\n홍게를 들고 있어요 ㅋㅋㅋㅋㅋ\\n속초 홍게 라면이라고 써있는 부분\\n바로 아래를 보시면\\n속초 명물인 홍게를 청정 동해에서 잡아올려\\n추출한 엑기스로 맛을 낸 깊고 진한 맛의\\n해물라면 이라고 되어있네요\\n크으~~\\n설명만 봐도 시원한 기분ㅎㅎ', '안에 분말스프와 액상스프가 있고\\n둘 다 물 붓기전에\\n같이 넣으면 된다고 해요!!!!', '이렇게 구성 되어 있어요\\n스프밑에 깔려서 안보이지만\\n야채스프가 뿌려져 있습니다\\n소스를 뿌려보아요\\n액상스프는 다 먹고 넣는 줄 알았는데\\n끓이는 방법 보니까\\n같이 넣으라고 되어있었어요!!', '스프를 넣고 물을 붓고 기다립니다\\n배가 고파서 그런지\\n라면 익는 시간이 정말 느리게 가요\\nㅠㅠㅠ', '진짜 홍게 일까요?\\n아니겠죠?\\n맛은 게맛살과 비슷해요!!!', '게살같은 건더기와 함께 호로록~!!!\\n너무 맛있어요ㅠㅠ\\n포스팅하는 지금도 침이...ㅎ...\\n특히 국물이 정말 맛있었어요!!!\\n저는 라면 먼저 다 먹고\\n꼭 국물에 밥을 말아먹는데\\n라면 먹는 중간중간에\\n국물을 계속 마셨더니\\n남은 국물이 없었어요....\\n아직도 아쉽다..ㅠㅜ', '맛은...뭐라 표현해야되지...\\n진짜 너무 맛있는데\\n약간 진짬뽕의 기름 향이 나는\\n오징어짬뽕 맛..?..\\n진짬뽕이랑 오징어짬뽕 안드셔본 분들은\\n무슨 맛인지 답답하시겠죠..?...\\nㅠㅠㅠㅠ\\n편의점 라면이라 \\n기대하지 않아서 그런지\\n더 맛있게 느껴지는 해물라면 맛\\n진짜 맛있어요!!!!\\n......\\n맛표현을 더 자세히 할 수 있게\\n또 사먹어야겠어요 \\n하하하핳', '단짠단짠의 행복한 조화로움..☆\\n여러분들도 드셔보세요!!ㅎㅎ\\n오늘도 배부른 하루 되세요-!', '#편의점음식 #편의점추천 #CU편의점 #라면추천 #우유추천 #초코우유추천 #간단한음식 #야식추천 #카페모카 #커피얼음 #속초홍게라면 #속초홍게 #컵라면 #컵라면추천 #CU우유 #CU라면 #점심추천 #저녁추천 #점심메뉴추천 #서이추 #서이추환영 #일상 ']\n",
      "예외가 발생했습니다. Message: no such element: Unable to locate element: {\"method\":\"css selector\",\"selector\":\".se-fs-.se-ff-\"}\n",
      "  (Session info: chrome=85.0.4183.121)\n",
      "\n",
      "['12.5\\n쿠폰 얻은걸 바로 써봤다.\\n(솔직히 끌리는게 없었다)\\n가격 : 750원이었나.. 그랬을것이다. \\n홍게라면이라 그런지\\n일단 포장지에서부터 레드레드하다. \\n유탕면이며, 115g/ 500kcal이다.\\n(자장라면의 대표격인 짜파게티랑 비슷한 칼로리이다.) ', '<조리방법>\\n분말스프와 액상스프를 동시에 붓고 물 붓고\\n기다리면 된다.\\n의외로 간단함. \\n영양정보는\\n500kcal\\n1680mg 나트륨\\n탄수화물 72g.. ', '역시 면은 유탕면이며\\n라면의 설명은', '이라고 되어있었다.\\n..?\\n나 매운거 못먹는데?\\n그렇다. 필자는 전혀 매운걸 못먹는다.\\n(진라면 매운맛도 땀흘리면서 먹음)\\n그래서 속으로 괜히 샀나 싶었다. \\n확실히 짬뽕을 나타내기 위해 여러가지가 들어갔다. \\n아 물론.. 이 라면 제조사 팔도다.', '일단 먼저 소개할\\n일반 분말스프와 액상 스프이다.\\n(사진 뭔가 잘 찍혔다.)\\n분말스프의 포장지는 이마트 민생라면 느낌이 낫고\\n홍게라면의 경우 불닭이나 비빔면과 비슷한 느낌이 들었다. ', '면과 스프.\\n면은 예상외로 얇은 면이다.\\n스낵면이나 진라면 같은 류 같아 보였다.\\n스프는 확실히 빨갛다.\\n매움 뿜뿜(?)', '액상스프\\n.. 제대로 안보이지만\\n예상외로 검다.\\n처음 뜯을때 속으로\\n불닭인가 싶었다.\\n솔직히 조금 마음 쫄린듯. ', '결과체\\n.. 예상보다 안맵다\\n매운거 못먹는 맵X자 분들도 쉽게 드실수 있는 라면인듯.\\n생각보다 미역?이 많다.', '대략적인 평점 : 7.8/10\\n- 국물이 짬뽕과 비슷하게 얼큰하였고 맵다는 말과 다르게 생각보단 맵지 않았다.\\n매운거 잘못먹는 분들도 쉽게 접근 하실 수 있을듯 하다.']\n",
      "예외가 발생했습니다. Message: no such element: Unable to locate element: {\"method\":\"css selector\",\"selector\":\".se-fs-.se-ff-\"}\n",
      "  (Session info: chrome=85.0.4183.121)\n",
      "\n",
      "예외가 발생했습니다. Message: no such element: Unable to locate element: {\"method\":\"css selector\",\"selector\":\".se-fs-.se-ff-\"}\n",
      "  (Session info: chrome=85.0.4183.121)\n",
      "\n",
      "예외가 발생했습니다. Message: no such element: Unable to locate element: {\"method\":\"css selector\",\"selector\":\".se-fs-.se-ff-\"}\n",
      "  (Session info: chrome=85.0.4183.121)\n",
      "\n",
      "예외가 발생했습니다. Message: mainFrame\n",
      "\n",
      "예외가 발생했습니다. Message: no such element: Unable to locate element: {\"method\":\"css selector\",\"selector\":\".se-fs-.se-ff-\"}\n",
      "  (Session info: chrome=85.0.4183.121)\n",
      "\n",
      "예외가 발생했습니다. Message: no such element: Unable to locate element: {\"method\":\"css selector\",\"selector\":\".se-fs-.se-ff-\"}\n",
      "  (Session info: chrome=85.0.4183.121)\n",
      "\n",
      "예외가 발생했습니다. Message: no such element: Unable to locate element: {\"method\":\"css selector\",\"selector\":\".se-fs-.se-ff-\"}\n",
      "  (Session info: chrome=85.0.4183.121)\n",
      "\n",
      "\n"
     ]
    }
   ],
   "source": [
    "# 100개 블로그 내용 뽑으면 50개 정도는 짜장면 후기, 트러플 구매한 후기 등 트러플 짜파게티와 연관성이 없는 내용이 나왔기 때문에 \n",
    "# 마지막으로 트러플 짜파게티 솔직후기를 키워드로 포스팅된 블로그 날짜 (2019.9.13)까지 내용 뽑음 \n",
    "import pandas as pd \n",
    "dict = []\n",
    "\n",
    "number1 = 20\n",
    "for i in tqdm(range(0, number1)):\n",
    "    \n",
    "    url = url_load['url'][i]\n",
    "    driver = webdriver.Chrome(r\"C:\\Users\\ASIA_08\\chromedriver.exe\")\n",
    "    driver.get(url)\n",
    "\n",
    "    try:\n",
    "        driver.switch_to_frame('mainFrame')\n",
    "        \n",
    "        target_info = {}\n",
    "        \n",
    "        overlays = \".se-fs-.se-ff-\"\n",
    "        tit = driver.find_element_by_css_selector(overlays)\n",
    "        title = tit.text\n",
    "        title\n",
    "        \n",
    "        overlays = \".se_publishDate.pcol2\"\n",
    "        date = driver.find_element_by_css_selector(overlays)\n",
    "        date_n_time = date.text\n",
    "        \n",
    "        overlays = \".se-component.se-text.se-l-default\"\n",
    "        contents = driver.find_elements_by_css_selector(overlays)\n",
    "        \n",
    "        content_list = []\n",
    "        for content in contents:\n",
    "            content_list.append(content.text)\n",
    "        \n",
    "        content_str = ' '.join(content_list)\n",
    "        \n",
    "\n",
    "        target_info['title'] = title\n",
    "        target_info['datetime'] = date_n_time\n",
    "        target_info['content'] = content_str\n",
    "\n",
    "        print(content_list)\n",
    "    except Exception as e:    # 모든 예외의 에러 메시지를 출력할 때는 Exception을 사용\n",
    "        print('예외가 발생했습니다.', e)\n",
    "\n",
    "    dict.append( target_info)\n",
    "    time.sleep(1)\n",
    "\n",
    "result_df2 =pd.DataFrame(data=dict)\n",
    "#time.sleep(3)\n",
    "        "
   ]
  },
  {
   "cell_type": "code",
   "execution_count": 28,
   "metadata": {},
   "outputs": [
    {
     "data": {
      "application/vnd.jupyter.widget-view+json": {
       "model_id": "1d2c88d6c78f4e66a48cf884c26eb1b1",
       "version_major": 2,
       "version_minor": 0
      },
      "text/plain": [
       "HBox(children=(FloatProgress(value=0.0, max=20.0), HTML(value='')))"
      ]
     },
     "metadata": {},
     "output_type": "display_data"
    },
    {
     "name": "stderr",
     "output_type": "stream",
     "text": [
      "<ipython-input-28-ed2fb9850b1a>:11: DeprecationWarning: use driver.switch_to.frame instead\n",
      "  driver.switch_to_frame('mainFrame')\n"
     ]
    },
    {
     "name": "stdout",
     "output_type": "stream",
     "text": [
      "예외가 발생했습니다. Message: no such element: Unable to locate element: {\"method\":\"css selector\",\"selector\":\".se-fs-.se-ff-\"}\n",
      "  (Session info: chrome=85.0.4183.121)\n",
      "\n",
      "예외가 발생했습니다. Message: no such element: Unable to locate element: {\"method\":\"css selector\",\"selector\":\".se-fs-.se-ff-\"}\n",
      "  (Session info: chrome=85.0.4183.121)\n",
      "\n",
      "예외가 발생했습니다. Message: mainFrame\n",
      "\n",
      "['1. 출시 \\nBGF리테일 CU에서 PB상품으로 만든 라면\\n2. 특징\\n강원도 속초의 명물인 홍게를 청정 동해에서 잡아올려 추출한 엑기스로 맛을 낸 깊고 진한 매운맛의 해물라면\\n3. 조리법\\n끓는물에 4분간 조리 후 먹는다.\\n4. 맛평가 ★★★\\n속초홍게라면은 정말로 속초산 생물 기준 홍게가 스프에 6.9% 함유되어 있단다. \\n내용물은 면과 건더기, 가루스프와 액상스프가 들어있으며 특이하게도 액상스프와 가루스프가 동시에 들어있다. \\n맛은 역시 해물맛이 물씬난다. 딱히 게맛인지는 모르겠지만..\\n얼큰하고 시원한 해물 국물맛이 특색이다.\\n요즘 컵라면이 대세라 하지만 이것 또한 가격이 1,400원이상이다. (편의점에서 1,500원)\\n약간 짠듯해서 물의 양은 지정선보다 더 넣는 것이 좋을 듯하다.\\n게뿐만이 아니라 돼지고기, 소고기, 닭고기, 오징어, 조개류 등이 들어있어 시원한 맛을 낸다.\\n5. 열량 500kcal, 나트륨 함량 1,680mg', '']\n",
      "예외가 발생했습니다. Message: no such element: Unable to locate element: {\"method\":\"css selector\",\"selector\":\".se-fs-.se-ff-\"}\n",
      "  (Session info: chrome=85.0.4183.121)\n",
      "\n",
      "예외가 발생했습니다. Message: no such element: Unable to locate element: {\"method\":\"css selector\",\"selector\":\".se-fs-.se-ff-\"}\n",
      "  (Session info: chrome=85.0.4183.121)\n",
      "\n",
      "예외가 발생했습니다. Message: no such element: Unable to locate element: {\"method\":\"css selector\",\"selector\":\".se-fs-.se-ff-\"}\n",
      "  (Session info: chrome=85.0.4183.121)\n",
      "\n",
      "예외가 발생했습니다. Message: no such element: Unable to locate element: {\"method\":\"css selector\",\"selector\":\".se-fs-.se-ff-\"}\n",
      "  (Session info: chrome=85.0.4183.121)\n",
      "\n",
      "예외가 발생했습니다. Message: no such element: Unable to locate element: {\"method\":\"css selector\",\"selector\":\".se-fs-.se-ff-\"}\n",
      "  (Session info: chrome=85.0.4183.121)\n",
      "\n",
      "['#CU #편의점라면 #속초홍게라면 #해물라면\\n#CU컵라면 #상품리뷰\\nCU라면 속초홍게라면\\n★☆☆☆☆', '별 1개 줄 지, 2개 줄 지 고민했다..\\n가격 1,500원\\n장점 - 딱히 없음.\\n단점 - 홍게 발만 담궜다 뺀 맛.\\n왜 해물 라면인지 모르겠음.\\n무려 CU 치즈맛라면보다 300원 더 비싸시다.\\n그래서 별 1개 줌.\\n왜냐하면 맛 없었으니까!!!', \"속초홍게라면이 실망스러운 이유\\n1. 홍게 맛이 진짜 하나도 안 났다.\\n깊고 진한 해물라면이라면서요...\\n액상스프가 홍게 풍미를 담당하는 역할인데\\n너무 약했다.\\n2. 맵기는 중상 정도. 신라면보다 조금 더 매운 맛.\\n이거 자체는 나쁘지 않은데\\n해물 향이 안 느껴지다 보니 그냥 매운 라면이 됨.\\n상품의 아이덴티티가 사라져버렸다.\\n(동해에서 게를 잡아왔다는 문구를 왜 써놨는지 알 수 없음)\\n3. 1500원이라는 가격\\n같은 가격 주고 더 맛있는 컵라면 사먹을 수 있지 않나?\\n속초홍게라면은 궁금해서 한 번 사먹어 보는\\n딱 그 정도의 제품임.\\n제품에 대한 실망이 커서 재구매로 이어지진 않는다.\\n4. 상품 컷이 눈에 잘 안 들어옴.\\nCU컵라면 라인 전체의 문제점인 것 같은데..\\n음식 컷의 가시성이 떨어진다.\\n홍게+라면국물+패키지 색깔 모두 빨간색이여서\\n그냥 '빨간 상품'이라는 생각밖에 안 듦.\\n어떤 맛 라면인지는 글자를 봐야만 알 수 있다.\\n이걸 노린 건진 모르겠지만\\n소비자에게 직관적으로 다가오지 않는다는 점에서\\n아쉬운 상품이었음.\", 'Cf. 실컷 욕을 해놔서 씨유한테 조금 미안해진다..']\n",
      "예외가 발생했습니다. Message: no such element: Unable to locate element: {\"method\":\"css selector\",\"selector\":\".se-fs-.se-ff-\"}\n",
      "  (Session info: chrome=85.0.4183.121)\n",
      "\n",
      "예외가 발생했습니다. Message: no such element: Unable to locate element: {\"method\":\"css selector\",\"selector\":\".se-fs-.se-ff-\"}\n",
      "  (Session info: chrome=85.0.4183.121)\n",
      "\n",
      "예외가 발생했습니다. Message: no such element: Unable to locate element: {\"method\":\"css selector\",\"selector\":\".se-fs-.se-ff-\"}\n",
      "  (Session info: chrome=85.0.4183.121)\n",
      "\n",
      "예외가 발생했습니다. Message: no such element: Unable to locate element: {\"method\":\"css selector\",\"selector\":\".se-fs-.se-ff-\"}\n",
      "  (Session info: chrome=85.0.4183.121)\n",
      "\n",
      "['=_=\\n날이 너무너무너무 추워졌네요!?\\n이런날 점심먹으러 나가기 너무너무너무 귀찮아서..\\n빌딩 내 있는 편의점에 갔지요~!!\\n편의점에 가면 항상 고민하게 되요..\\n이놈의 선택장애 ㅠ_ㅠ\\n편의점은 없는거 빼고 다파니까요~ \\n이것 저것 요리 조리 기웃 기웃 ~\\n하다보면 이것도 먹고 싶고 저것도 먹고 싶지요~\\n저만 그렇다구요!?!?', '아닌데요 ~\\n점심시간 편의점에가면 도시락식코너랑 라면코너에 제일 사람들이 오랫동안 서있어요 ~\\n아마 다른사람이 기다리지 않는다면 한참 고민 할 분들 있지요!?\\n저는 매장을 빙글빙글 돌아요 ~ ㅋㅋ\\n일단 뭐 먹을까 한번 눈으로 쓰~윽~ 스캔을 하지요,,\\n그러고는 매장을 빙글빙글 돌아요 ~ ㅋㅋ\\n그러다가 편의점내 직원분이랑 눈이 마주치면 민망쓰..^^;\\n무슨생각 했냐면..\\n푸라면을 먹을까? 참깨라면? 진라면? 아냐 ~ 이건 자주 먹어봐서 어떤맛인지 알자나..\\n오늘은 편의점을 왔지만 색다른거나 경험하지 못한 것을 먹을 테야 !\\n라고 혼자 중얼거리면서 돌았어요 ㅋㅋ', '그렇게 선택한 라면은 ~ \"속초홍게라면\"', '구입일자: 2019/12/05\\n가격:1,500원\\n보이시는데로에요 사진은 엄청 맛나게 생겼지요 ~\\n홍게가 들어갔으니 게의 감칠맛과 해물맛이 느껴질 것 같은 느낌이네요 ~', '강원도 속초의 명물인 홍게를 청정동해에서 잡아올려서 추출한 엑기스로 맛을 낸 깊고 진한 매운맛의 해물라면이래요 !\\n오호... 설명 보소..\\n미친대존맛이겠군~ 생각하며 포장을 뜯었네요 ㅋㅋ', '스프에 홍게엑기스가 있네요 ~!\\n짬뽕페이스트,, 그래서 짬뽕맛이났구나..?ㅋ\\n해물라면인데 왜 짬뽕맛이나나 했네ㅋㅋ', '아무튼 ~\\n뚜껑포장을 열어보니 분말,액체,건더기 스프 3가지가 들어가더라구요 ~\\n점심에 배가고파서 사진찍는걸 깜빡하고 그냥 다 때려 넣었어요 ㅎㅎ\\n사진으로 많은 정보를 못드려 열심히 설명하겠습니다.\\n액체스프는 짬뽕향이 폴폴나구요 ~ 아마 이 액체스프에 홍게엑기스가 함유 된듯 했어요 ~\\n가루스프는 일반 라면맛을 내는 조미료같구요 ~\\n건더기스프는.... 뭐 라면에 무슨 기대를 하겠냐만!\\n1500원짜리 라면치고 많이 부실하게 느껴졌네요 ~\\n그 안에 맛살말려놓은 듯한 모양이 2개 보였어요 ㅋ\\n그외 건미역,건파 뭐 이런것들 ~ 이라면저라면에 들어가는 그런 공통적인것들요,,', '짜잔 ~ 열자마자 집에서 삶아온 계란 2개 투척 ~\\n단백질은 소중하자나요 ~!\\n그러니 라면에 계란을 넣었어요 ~\\n너무 뜨거운 라면을 식혀주는 용도로도 좋구요 ~\\n계란을 데워먹는 용도로도 좋아요 ㅋㅋ', '그렇게 계란을 면 밑으로 숨기고 ~ \\n온동네에 나 라면 먹는다 ~~~~~~~~~~~~~~~~~~~~~~\\n라는 후루룩 소리를 내며 챱챱챱챱 먹습니다.', '이 라면이 무슨 맛이냐면요 ~\\n짬뽕맛이에요 ~ 불맛나는 짬뽕라면 !\\n음.. 컵라면이니까 ~\\n이름에 속초홍게라면 이라고 해서 기대를 많이 한건 아닌데 ~ㅎㅎ\\n속초홍게라면보다는 씨유짬뽕라면이라하지 그랬어요ㅋ\\n솔직히 그게 더 퐉 ~ 하고 와닿아서 기분좋게 맛있게 먹었을 것 같은데 ㅋ(개인적인생각)\\n뭔가 배신감 ㅋㅋㅋ\\n뚜껑껍질에있던 매운맛의 해물라면이라는 설명도\\n저한테는 좀 부족했어요~ 매운맛 잘 안느껴지던데..\\n제 입맛에는 속초홍게라고해서 특별한 맛이 느껴지지는 않았어요 ~\\n괜찮은 불맛이 잘 입혀진 짬뽕라면이라고 생각하면 맛있습니다 ~\\n맛만 생각한다면 괜찮지만~\\n가격대비 부족한 감이 있어 재구매 의사는 없네요 ㅎ\\n맛 평가는 개인적인 생각이니 참고만 해주세요 ^^\\n어쨋든 배부르게~ 잘 먹었습니다 !', 'BYE~']\n",
      "예외가 발생했습니다. Message: no such element: Unable to locate element: {\"method\":\"css selector\",\"selector\":\".se-fs-.se-ff-\"}\n",
      "  (Session info: chrome=85.0.4183.121)\n",
      "\n",
      "예외가 발생했습니다. Message: no such element: Unable to locate element: {\"method\":\"css selector\",\"selector\":\".se-fs-.se-ff-\"}\n",
      "  (Session info: chrome=85.0.4183.121)\n",
      "\n",
      "예외가 발생했습니다. Message: no such element: Unable to locate element: {\"method\":\"css selector\",\"selector\":\".se-fs-.se-ff-\"}\n",
      "  (Session info: chrome=85.0.4183.121)\n",
      "\n",
      "['속초 맛집 명성게찜', '강원도까지 왔으니 대게를 먹고 가야지요~!\\n속초 사시는 현지인 추천 맛집 명성게찜을 찾아갔습니다 :-) \\n지인분께서 미리 예약해주셔서 시간맞춰 식당으로 고고싱~!', '이근처는 게찜이랑 회전문점들이 줄지어 있어요~!\\n저희는 이미 가기로한 곳이 정해져 있기 때문에\\n고민할 필요없이 명성게찜 근처에 주차를하고 바로 가게로!', '메뉴입니다 :-)\\n세트로 팔고있어서 스끼다시부터 밥까지 \\n코스요리처럼 나오더라구요!', '1층에서는 게주문을~!\\n식사는 2층에서 하시면 되세요~!\\n저희는 A set 로 주문하고 2층으로 올라갔습니다 ㅎ.ㅎ\\nA set : 대게 1마리 + 홍게 1 마리 + 스끼다시 + 라면 + 게볶음밥\\n12만원 입니다~!', '1층에서 게들 구경도하고 주문하고 \\n2층으로 올라가면 자리 안내해주세요 :-)', '이렇게 정갈하고 깔끔하게 세팅되어져 \\n음식들이 나옵니다 ㅎ.ㅎ\\n스끼다시가 코스처럼 먹고나면 \\n하나하나씩 나와요 :-)', '가리비 가리비!!!!!!', '가리비 너무 맛있어요 ㅠ.ㅠ!!!!', '초밥이랑 회도 이렇게....\\n게 먹기전에 배가 부를것 같은....ㅠ.ㅠ\\n근데 맛있으니 계속 먹어야합니다..!!!', '물회까지~!!!\\n임신하고 회를 많이 못먹고있엇는데 ㅠ.ㅠ\\n물회 진짜.. 너무 맛있네요 ㅠ.ㅠ \\n새콤달콤 시원하니, 물회는 제가 다 먹은듯ㅎ.ㅎ', '드디어 나왔네요 주인공 ㅎ.ㅎ\\n대게 + 홍게\\n사실 나는 뭐가 뭔지 구분을 하지 못하나..\\n다 맛있다', '내장에 찍어먹으면... 고소함의 끝장판\\n사진보니깐 또 먹고싶네요 ㅠ.ㅠ\\n게까지 먹고 나니깐 진짜.... \\n배가 터질거 같은데....', '짜잔...!!!\\n라면도 먹습니다', '홍게라면 !!!!\\n사실 저는 너무 배불러서 국물만 조금 먹고\\n나머지는 남편이.. ㅋㅋㅋㅋ', '끝난줄 알았쥬?\\n밥까지 먹어야 식사 끝이죠~!', '저희 남편 진짜 많이 먹는편인데,\\n밥은 다먹고 라면은 조금 남겼데요 ㅋㅋㅋㅋ\\n저는 밥도 맛만봤어요\\n더 먹으면 정말...먹다 죽을거같은 기분 ㅋㅋㅋ\\n양이 장난아니예요\\n많이 드시는 남성분들도 배불리 \\n양껏 드실 수 있을것 같습니다 :-)', '추천받아서 방문한 곳인데 \\n정말 만족스럽게 먹고온 명성대게 입니다 :-)\\n다음에 또 속초에 간다면 꼭 다시 방문하고 싶어요!\\n여기까지 내돈내산 솔직 후기입니다 ㅎ.ㅎ!', '#명성대게 #강원도맛집 #속초맛집 #속초게찜 \\n#속초명성대게 #홍게 #대게 #킹크랩']\n",
      "['맛있는녀석들 애청자인 저희 커플\\n3/1 방영한 #맛있는녀석들속초대게  보고 \\n3/10일 #속초대게나라홍게마을 다녀왔어요~~~~ ', '당연히 대게때문에 속초 간건 아니구요\\n남친이 신세계 직원이라 \\n영랑호리조트 예약한 김에 다녀왔어요.\\n아다리가 맞았다고나 할까요 ', '', '싯가 물어보니\\n10만원이 넘는다고만\\n알려주시네요.\\n그냥 대게코스 소자 \\n주문했어요. ', '스끼다시 다 나온줄 알고 \\n찍었는데 아니였음 ㅋㅋ ', '강원도 왔으니 물회는 먹어야 한다고\\n생각했는데 ㅎ \\n나와서 좋았어요.\\n근데 양념에 생강맛이 \\n너무 많이 나서\\n한입먹고 뱌뱌 ', '광어, 타코와사비, 복어껍질,\\n삶은 새우, 조개, 전복 나와요.\\n말 안해도 전복이 젤 맛남', '스끼다시 다 나온 모습이에요.\\n주실때 부족한건 말하라고 하셨는데\\n메밀전병, 오꼬노미야끼, 맛탕 추가 요청했더니\\n약간 귀찮은 내색? ㅎㅎ \\n초딩입맛이라 \\n싼거 추가 한거 같은데\\n다시 하기 귀찮으셧나요 ㅋ\\n리필하니 메밀전병은 4개 주심', '대게 나왔어요.\\n사진보고 알았는데 작은 다리긴 하지만\\n다리하나가 없네요???\\n대게나 킹크랩은\\n다리하나만 없어도 가격이 확 떨어지는걸로\\n알고 있는데 왜 이제 봤을까ㅠㅠㅠ ', '그래도 살은 통통하게\\n꽉차있었어요. ', '집게 다리도 발라먹기 \\n쉽게 갈라져있어요.\\n집게 다리살 진짜 대존맛 ', '내장 가득찬 몸통\\n어떻게 먹을까 고민하다가 \\n라면1, 게장밥1 주문했어요. ', '몸통이 하나라 5,000원 추가로 내야된다길래\\n추가했는데 비쥬얼은 걍 라면...\\n물어보니 게 내장 긁어 넣고 끓여주는거래욥 \\n라면은 참고로 진라면매운맛이에요. ', '그래도 라면 국물이 얼큰하고\\n밥이랑 먹으니 맛났어요. \\n지금 생각해보니 \\n라면이나 밥중에 택일인데 \\n밥추가하면 얼마인지 물어볼걸;\\n 밥도 추가하면 5,000원 받았을까여?\\n서울 와서 생각하니 호갱님이였음... ', '', '아래 면발에 붙은 게살은\\n저희가 따로 국물에 넣은것입니다. ', '계산할때 영화표 2장 주시네욥\\n제휴 영화사이트 통해서 예매하면 \\n사용할 수 있는 영화표였어요. ', '계산하고 나오는길\\n밖으로 나오려고 시도하는 대게 발견\\n뭔가 안쓰럽기도 하고 살짝 미안하기도 하고...', '전화: 033-631-2369\\n주소: 강원 속초시 해오름로 204', '네이버예약하고 싯가에서 10% 할인해주는 곳보단\\n정가인곳을 선택한건데 잘한 선택인지는 의문 \\n앞으론 중앙시장에서 포장해서 \\n먹는걸로ㅠㅋㅋ \\n* 159,000원 내고 먹은 솔직후기 ']\n",
      "\n"
     ]
    }
   ],
   "source": [
    "dict = []\n",
    "\n",
    "number2 = 40\n",
    "for i in tqdm(range(20, number2)):\n",
    "    \n",
    "    url = url_load['url'][i]\n",
    "    driver = webdriver.Chrome(r\"C:\\Users\\ASIA_08\\chromedriver.exe\")\n",
    "    driver.get(url)\n",
    "\n",
    "    try:\n",
    "        driver.switch_to_frame('mainFrame')\n",
    "        \n",
    "        target_info = {}\n",
    "        \n",
    "        overlays = \".se-fs-.se-ff-\"\n",
    "        tit = driver.find_element_by_css_selector(overlays)\n",
    "        title = tit.text\n",
    "        title\n",
    "        \n",
    "        overlays = \".se_publishDate.pcol2\"\n",
    "        date = driver.find_element_by_css_selector(overlays)\n",
    "        date_n_time= date.text\n",
    "        \n",
    "        overlays = \".se-component.se-text.se-l-default\"\n",
    "        contents = driver.find_elements_by_css_selector(overlays)\n",
    "        \n",
    "        content_list = []\n",
    "        for content in contents:\n",
    "            content_list.append(content.text)\n",
    "        \n",
    "        content_str = ' '.join(content_list)\n",
    "        \n",
    "        \n",
    "        target_info['title'] = title\n",
    "        target_info['datetime'] = date_n_time\n",
    "        target_info['content'] = content_str\n",
    "\n",
    "        print(content_list)\n",
    "    except Exception as e:    # 모든 예외의 에러 메시지를 출력할 때는 Exception을 사용\n",
    "        print('예외가 발생했습니다.', e)\n",
    "\n",
    "    dict.append( target_info)\n",
    "    time.sleep(1)\n",
    "\n",
    "result_df3 =pd.DataFrame(data=dict)\n",
    "#time.sleep(3)\n",
    "        "
   ]
  },
  {
   "cell_type": "code",
   "execution_count": 31,
   "metadata": {},
   "outputs": [
    {
     "data": {
      "application/vnd.jupyter.widget-view+json": {
       "model_id": "549f8a2ed571431e955cb9911ea79aa9",
       "version_major": 2,
       "version_minor": 0
      },
      "text/plain": [
       "HBox(children=(FloatProgress(value=0.0, max=20.0), HTML(value='')))"
      ]
     },
     "metadata": {},
     "output_type": "display_data"
    },
    {
     "name": "stderr",
     "output_type": "stream",
     "text": [
      "<ipython-input-31-106cd5cedc43>:11: DeprecationWarning: use driver.switch_to.frame instead\n",
      "  driver.switch_to_frame('mainFrame')\n"
     ]
    },
    {
     "name": "stdout",
     "output_type": "stream",
     "text": [
      "예외가 발생했습니다. Message: no such element: Unable to locate element: {\"method\":\"css selector\",\"selector\":\".se-fs-.se-ff-\"}\n",
      "  (Session info: chrome=85.0.4183.121)\n",
      "\n",
      "예외가 발생했습니다. Message: no such element: Unable to locate element: {\"method\":\"css selector\",\"selector\":\".se-fs-.se-ff-\"}\n",
      "  (Session info: chrome=85.0.4183.121)\n",
      "\n",
      "예외가 발생했습니다. Message: no such element: Unable to locate element: {\"method\":\"css selector\",\"selector\":\".se-fs-.se-ff-\"}\n",
      "  (Session info: chrome=85.0.4183.121)\n",
      "\n",
      "예외가 발생했습니다. Message: no such element: Unable to locate element: {\"method\":\"css selector\",\"selector\":\".se-fs-.se-ff-\"}\n",
      "  (Session info: chrome=85.0.4183.121)\n",
      "\n",
      "예외가 발생했습니다. Message: no such element: Unable to locate element: {\"method\":\"css selector\",\"selector\":\".se-fs-.se-ff-\"}\n",
      "  (Session info: chrome=85.0.4183.121)\n",
      "\n",
      "예외가 발생했습니다. Message: no such element: Unable to locate element: {\"method\":\"css selector\",\"selector\":\".se-fs-.se-ff-\"}\n",
      "  (Session info: chrome=85.0.4183.121)\n",
      "\n",
      "예외가 발생했습니다. Message: no such element: Unable to locate element: {\"method\":\"css selector\",\"selector\":\".se-fs-.se-ff-\"}\n",
      "  (Session info: chrome=85.0.4183.121)\n",
      "\n",
      "예외가 발생했습니다. Message: no such element: Unable to locate element: {\"method\":\"css selector\",\"selector\":\".se-fs-.se-ff-\"}\n",
      "  (Session info: chrome=85.0.4183.121)\n",
      "\n",
      "['속초 여행갔을때 방문했던 홍게나라.....~~\\n솔직후기를 써볼까한다......😬😥\\n우선 속초 홍게맛집을 검색하다가\\n요런 비쥬얼 사진과 가격을 보고 찾아가게된곳임!', '아래는 가게 위치\\n영랑해안길에 자리잡아있당', '영업시간 : 오전 11시 ~ 오후 9시\\n주차공간 : 있음\\n근데 해안길에 차들로 꽉차있어서\\n뱅뱅돌다가 저멀리 주차하고감~~', '가게전면 사진을 찍은거같은데 사진이없넹...', '(이것은 메뉴판 아닌 메뉴판...ㅇㅅㅇ)\\n 검색해보고왔던  홍게셋트를 주문했는데\\n7-8월이 금어 시기라서 \\n저 메뉴판 가격이 아니라고 함...!!\\n금어철이니 가격이 다른건 이해하는데\\n그럼 메뉴판에 그렇게 명시해놓아야하는거 아닌가;\\n주문하니까 그때서야 메뉴판이랑 \\n가격이다르다고해서 좀 황당쑤\\n얼마라고 적지는 않겠음.. \\n어쨌든 더 비쌌다ㅋㅅㅋ\\n일단 홍게3마리 세트 주문~', '가게내부에서 바라본 바다\\n바다뷰좋음~!', '밑반찬\\n오징어가 맛났당\\n김치는 별로.............\\n김치랑 라면이 국룰인뎅 김치에 손이안감', '홍게의 효능 보면서 기다리기~', '홍게등장~~~~~~🦀🦀🦀\\n첫등장비쥬얼은 좋았다', '게 전용 도구 주심 🛠 ', '게딱지장!\\n난이거엄청좋아한당~~~', '게딱지밥은 2개로 담아져나온다\\n뭔가 색깔이 좀 연하다고 생각했는데\\n먹어보니 역시 게장맛이 많이 안났다\\n같이나온 게딱지장 얹어서 나눠먹기~~~', '이건 홍게다리........\\n근데 잠만.......\\n왜이렇게 퍽퍽하냐..........', '사진으로 다시봐도 엄청 퍽퍽해보인다....\\n수분기 1도없는 비쥬얼.......🤯🤯🤯\\n아무리 금어철이라도....\\n살이 없는건 이해하지만...........\\n이건 살뿐만아니라 수분도 너무없다..............\\n거의 70%가 저랬다;;;;ㅋ;;;\\n과하게 삶아진건지 어쨌는건진 모르겠는데\\n내가 뭘먹고있는건지 아무생각없어짐..', '이런 게는 난생 첨봄ㅠ', '말라비튼 끝판왕..........\\n😱😱😱😱😱😱\\nㅋ....ㅋ', '그나마 정상적인 집게....\\n이런거보면서 기뻐하는게 웃펐음😂', '이거슨 홍게라면\\n진라면에 홍게넣은 맛..?', '홍게는 딱히 별로 없음...\\n국물은 은은한 해물라면 맛도 난당', '결론 : 별로.. 돈아까웠다 재방문의사 X\\n나와서 오빠한테 계속 투덜댐......껄껄....😞', '다먹고 걸어나와서 바다 구경하며 산책하깅', '해저물어가는 바다', '파도가 엄청셌다 🌊\\n이사진은 별로 안세보이는군ㅋㅋㅋ', '속초등대전망대 올라가는길 돌아본바다\\n경치 짱이다잉~~~~', '올라가서 날개샷도 찍어줘따\\n(엄청 추리해보이는군ㅋㅋㅋㅋ)', '비와서 흐림에도 멋졌던 속초\\n포스팅 끝~~~~~~~']\n",
      "['집근처 cu편의점 거의 단골수준이었던 나\\n자취를 하다보니 자연스레 편의점과 가까워져 있었다 주륵\\ncu가 좋은게 어플로 다양한 할인쿠폰들을 주는데\\n이것도 그렇게 걸려서 구매하게 되었음\\n난 이번달도 가난하니까 최대한 아끼고 절약해야해서\\n이렇게 할인이나 +행사를 해야 구매한다...주르', '원래는 치즈라면이 먹고싶었는데\\n여긴 그런거 안들어온다..ㅡㅡ\\n이거랑 땡초라면뿐이었는데 하 치즈 언제볼수있을지..', '영양정보는 이러하다\\n원래는 국물은 안마실 예정이었으나...\\n어쩌다보니 완클한 나..', '재료들은 이러하다', '뚜껑을 열어보니 게의것으로 추정되는 조각들이 보인다\\n아래에 좀더 깔려있었다\\n분말스프와 액상스프가 들어있다', '홍게살 확대샷\\n상온에 노출되어서 굳은맛살처럼 생겼다', '스프 두개를 다 넣고나서 물을 붓고\\n4분을 기다렸다', '완성된 라면!!\\n게살을 먼저 먹어봤는데 맛살맛이 난다\\n그래도 한 10개정도 들어있던거같다\\n가성비는 좋은 제품 인정!']\n",
      "예외가 발생했습니다. Message: no such element: Unable to locate element: {\"method\":\"css selector\",\"selector\":\".se-fs-.se-ff-\"}\n",
      "  (Session info: chrome=85.0.4183.121)\n",
      "\n",
      "[\"8.28\\n네이버 검색을 통해 탐색 중 오랜만에 CU 자체에서 라면이 나온 다는 소식을 보고 그 다음 날 바로 헐레벌떡 CU로 달려갔다.\\n처음 볼때 속으로 '아 역시.. 한국은 마늘이지...!' 라며 생각을 했고\\n예전부터 있던 습관인 관련 기사를 찾아 봤다.\\n기사에 따르면 \", '약간 뭐랄까 맛남의 광장 관련 취지랑 비슷하게 해서 만들어진 듯 하다.\\n가격은 1500원이었다.', '<<용기 비닐>>\\nHEYROO에서 나온 역대 컵라면들과 비슷한 방식으로 구성 되어 있다.\\n이번에 중점된 재료가 마늘이기 때문에 마늘사진도 같이 첨부되어 있다.', '<<원재료명>>\\n역시 이번에도 제조사는 오뚜기다.\\n이정도면 편의점 전용 컵라면 제조를 담당하는듯 하다. ', '<<조리방법과 영양정보>>\\n총 내용량 105g (470kcal)\\n나트륨 1450mg(73%) 탄수화물 71g(22%) 당류 4g(4%) 지방 16g(30%)\\n트랜스지방 0g 포화지방 8g(53%) 콜레스테롤 0mg(0%) 단백질 10g(18%)', '여기도 마늘이 딱! ', '<면>\\n역대 Heyroo 라면과 비슷한 면.\\n앞서 블로그 초반에 속초홍게라면을 리뷰 한 적이 있는데, 확실히 비슷한 면이긴 하다. ', '<스프>\\n가루스프와 제주마늘 블럭으로 구성. \\n(블럭 스프가 있는건 참깨라면말고는 기억이 없다)', '<가루 스프 실물>\\n그냥 평범하다. ', '<마늘 블럭>\\n그냥 지우개 같다. 하얗다. ', '스프와 블럭을 넣어 주고 ', '끓였다.\\n(저기 마늘이 보인다) ', '<완성품> ', '내돈 내산 인증 ! ', '종합적인 평\\n맵찔이가 먹기에는 힘듬, 필자도 앞 글들에서 여러 번 언급했지만, 맵찔이임.\\n맵기를 어느정도 가늠해보자면 열라면 수준?이라고 볼 수 있다.\\n그리고 마늘 블럭이 확실히 마늘향이 셋고 생각보다 조합이 괜찮았다.\\n마늘향을 싫어한다면 별로 일듯 하고 . 마늘을 좋아한다면 추천해볼만하다.\\n그렇게 독특하지도 않은 느낌\\n개인적으로는 그렇게 맛있다고 느끼진 못했다.\\n3.5/5\\n재구매의사 X ']\n",
      "['CU에서 지역특산물로 만든 신상컵라면을   \\n출시했어요. 도시락류는 최근에도 계속\\n지역특산물을 이용한 신상품을 내놓고  있었는데요  지역특산물을 이용한 컵라면은 \\n굉장히  오랜만입니다. 청양고추라면,  속초홍게라면에 이어 제주마늘이 들어간 \\n컵라면 입니다. ', '거의 모든 한국음식에 마늘이 들어가는데요\\n마늘은 다른 라면에도 분말형태로 \\n들어갈텐데 제주마늘라면은 다른 라면과 \\n어떻게 다를지 알아볼께요.', '《 HEYROO제주마늘라면 》\\n가격 1500원\\n105g 470kcal', '제주에서 자란 알싸한 마늘이 통으로? 편으로? \\n가루로?  어떻게 들었을까요?', '저푸른 마늘밭 끝에 한라산이 보이는듯 합니다. \\n청정제주에서 자란 마늘은 더 맛있을라나?', '아시죠? HRYROO는 BGF retail 의 상품 \\n브랜드예요. \\n면위에 분말스프와 제주마늘블럭을 넣고\\n끓은 물을 표시선까지 붓고 4분을 기다리면 \\n됩니다. ', '오뚜기와 협업을 했군요. ', '면과 분말스프, 제주마늘블럭이 들어있어요.', '블럭만 봐서는 다진마늘인지 편으로 썬 \\n마늘인지 알수 없네요. 블럭에서 마늘향이\\n음~~~~~ 좋다!', '물을 부었어요. 파가 어디에 있다가 나타났는지  \\n색감이 예쁘네요.', '4분을 기다렸어요.  아~ 편으로 썬 마늘이네요. ', '잘 저어 주었어요.\\n편으로 썬 마늘이 제법 많이 들어있네요.', '면발이 너무 굵지도 얇지도 않고 적당합니다.\\n저는 생마늘은 못먹고 바싹 구워진 마늘만 먹는데요  마늘이 사각하고 씹히긴 하지만 \\n입이 아릴 정도로 마늘이 맵지는 않아서 \\n다 집어 먹었습니다.  국물도 맛있어요. \\n그렇지만 좀 맵네요.\\n엄청 매운건 아니구요 제가 워낙 매운거 잘 못먹는 맵찔이라서 맵게 느끼는것일수도  있어요. 제 느낌에는  신라면보다 조금 더 매운것 같아요. HEYROO제주마늘라면\\n오래오래 사랑받아서 제주마늘농가에 도움이되면 좋겠네요^^', '오늘도 감사합니다. ']\n",
      "예외가 발생했습니다. Message: no such element: Unable to locate element: {\"method\":\"css selector\",\"selector\":\".se-fs-.se-ff-\"}\n",
      "  (Session info: chrome=85.0.4183.121)\n",
      "\n",
      "['말 많고 탈 많고 인기도 많은 #마라탕\\n삼양에서 컵라면 으로 출시했다고.\\n#삼양 #마라탕면 #마라의풍미', '#김치찌개 #불닭 #떡볶이 (우리나라)\\n#똠얌꿍 (태국) #보르쉬 (러시아)\\n#짬뽕 #탄탄면 (중궈) #할라피뇨 (남미)\\n등등 맵싸한 음식은 다 좋아함.\\n그러나 #훠궈 는 실망한 케이스가 넘 많아서 \\n마라탕은 취향에 맞을지 궁금하던 차.\\n세상 많은 #마라쳐돌이 님들이\\n곁에서 하도 전도를 해주셔서ㅋㄱㅋ\\n기대감이 높았다.', '애기 데리고 매운음식으로 외식은 못하는 편이라\\n컵라면 이니 가벼운 마음으로 감사한 마음으로 \\n집에서 도전해봄.', '왜냐하면 마라탕면 #조리방법 부터가 일단 짜침.', '뜨거운 물을 붓고나서\\n전자렌지에 또 돌려서 익혀줘야함.\\n면이 두꺼워서 그런듯 싶은데, \\n이러면 야외에서 못먹는다구욧!!! \\n(야외취사를 삼가합시ㄷ... )', '집에서 쓰는 렌지가 전기오븐 겸용 이라서\\n좀 쎄니까 딱 1분30초 돌림.\\n액상소스는 후첨.', '#진짬뽕 #진짜장 같은 두껍두껍한 면.\\n국물 먼저 맛보니 신맛이 확 느껴지고 \\n알알한 매운맛과 후추랑 산초의 쏘는 것 같은 통각이 혓바닥 위로 쏟아져 들어온다. ', '처음 두 세 번은 흥미로운데, \\n먹다보니 입술에 잇몸까지 붓고 ㅠ\\n시큼한 향미가 갈수록 거북하다.\\n입 안이 뻑뻑하게 기름지게 변해서 \\n막판에는 더 먹기 싫어짐. ㅠㅠ\\n슬프도다. 생의 큰 기쁨 하나 날아간 느낌ㅋ', '표고버섯 고명은 어찌 이리 실한 부분?\\n냠냠\\n충격적인 것은 #나트륨함량\\n밥 먹다가 중간에 #영양정보 이런거 안 읽는데 \\n진짜 입맛에 안맞았나보다. 한눈을 팔고.\\n쨋든 면 해치우고 국물은 우주로 고이 보내드림.', '이거에 김치 얹어먹으면 \\n그 날은 무염식만 먹어야 \\n육신에게 덜 미안해질 것이다.\\n#Heyroo 속초 홍게 라면\\n곁다리로 데려온 애. 쏘쏘함.', '속초 홍게라면 면은 왕뚜껑 처럼 되게 가느다랗고,\\n국물은 새우탕면 생각나는 맛. \\n놀랍게도 진짜 홍게살인지 맛살인지 \\n덩어리진 애들이 좀 있음.', '조리법은 단순.\\n건더기 분말 다 때려넣고 \\n끓는 물 붓고 4분 대기 후 흡입.', '근데 얘도 나트륨 함량 왜 이러니.\\n포화지방도 53%', '개취에는 안맞아 아쉽지만 재밌는 맛탐험 이었다.\\n왠지 신선한 #마라탕 이나 #마라샹궈 는\\n한번 더 도전해 볼 것같기도.\\n야식은 신선한 찐옥수수랑 토마토 유후♡\\n내일은 노각무침에 밥 비벼 먹을테다.\\n신선채소 최고♡\\n여러분의 ♡공감♡은\\n언제나 큰 힘이 됩니다.']\n",
      "예외가 발생했습니다. Message: no such element: Unable to locate element: {\"method\":\"css selector\",\"selector\":\".se-fs-.se-ff-\"}\n",
      "  (Session info: chrome=85.0.4183.121)\n",
      "\n",
      "예외가 발생했습니다. Message: no such element: Unable to locate element: {\"method\":\"css selector\",\"selector\":\".se-fs-.se-ff-\"}\n",
      "  (Session info: chrome=85.0.4183.121)\n",
      "\n",
      "예외가 발생했습니다. Message: no such element: Unable to locate element: {\"method\":\"css selector\",\"selector\":\".se-fs-.se-ff-\"}\n",
      "  (Session info: chrome=85.0.4183.121)\n",
      "\n",
      "예외가 발생했습니다. Message: no such element: Unable to locate element: {\"method\":\"css selector\",\"selector\":\".se-fs-.se-ff-\"}\n",
      "  (Session info: chrome=85.0.4183.121)\n",
      "\n",
      "예외가 발생했습니다. Message: no such element: Unable to locate element: {\"method\":\"css selector\",\"selector\":\".se-fs-.se-ff-\"}\n",
      "  (Session info: chrome=85.0.4183.121)\n",
      "\n",
      "\n"
     ]
    }
   ],
   "source": [
    "dict = []\n",
    "\n",
    "number3 = 60\n",
    "for i in tqdm(range(40, number3)):\n",
    "    \n",
    "    url = url_load['url'][i]\n",
    "    driver = webdriver.Chrome(r\"C:\\Users\\ASIA_08\\chromedriver.exe\")\n",
    "    driver.get(url)\n",
    "\n",
    "    try:\n",
    "        driver.switch_to_frame('mainFrame')\n",
    "        \n",
    "        target_info = {}\n",
    "        \n",
    "        overlays = \".se-fs-.se-ff-\"\n",
    "        tit = driver.find_element_by_css_selector(overlays)\n",
    "        title = tit.text\n",
    "        title\n",
    "        \n",
    "        overlays = \".se_publishDate.pcol2\"\n",
    "        date = driver.find_element_by_css_selector(overlays)\n",
    "        date_n_time= date.text\n",
    "        \n",
    "        overlays = \".se-component.se-text.se-l-default\"\n",
    "        contents = driver.find_elements_by_css_selector(overlays)\n",
    "        \n",
    "        content_list = []\n",
    "        for content in contents:\n",
    "            content_list.append(content.text)\n",
    "        \n",
    "        content_str = ' '.join(content_list)\n",
    "\n",
    "        target_info['title'] = title\n",
    "        target_info['datetime'] = date_n_time\n",
    "        target_info['content'] = content_str\n",
    "\n",
    "        print(content_list)\n",
    "    except Exception as e:    # 모든 예외의 에러 메시지를 출력할 때는 Exception을 사용\n",
    "        print('예외가 발생했습니다.', e)\n",
    "\n",
    "    dict.append( target_info)\n",
    "    time.sleep(1)\n",
    "\n",
    "result_df4 =pd.DataFrame(data=dict)\n",
    "#time.sleep(3)\n",
    "        "
   ]
  },
  {
   "cell_type": "code",
   "execution_count": 33,
   "metadata": {},
   "outputs": [
    {
     "data": {
      "application/vnd.jupyter.widget-view+json": {
       "model_id": "f8bfcc1c25ca44078bce547a164ca7ff",
       "version_major": 2,
       "version_minor": 0
      },
      "text/plain": [
       "HBox(children=(FloatProgress(value=0.0, max=20.0), HTML(value='')))"
      ]
     },
     "metadata": {},
     "output_type": "display_data"
    },
    {
     "name": "stderr",
     "output_type": "stream",
     "text": [
      "<ipython-input-33-3f466803db69>:11: DeprecationWarning: use driver.switch_to.frame instead\n",
      "  driver.switch_to_frame('mainFrame')\n"
     ]
    },
    {
     "name": "stdout",
     "output_type": "stream",
     "text": [
      "['속초 1박2일 여행도 어느덧 막바지,\\n속초에서의 마지막 식사를 하러 떠난 곳은 대포항 은주네 활어회집인데용\\n그래도 속초에 왔으니 게를 먹어보자! 하는 마음에 찾게된 집\\n대게였으면 좋겠지만 가격이 비싸다보니 ㅠㅠ 홍게집 위주로 찾아보았는데\\n저희가 찾던 조건은 일단,\\n홍게에 홍게라면까지 셋트로 먹을 수 있고\\n가격은 5~6만원 선에서 크게 벗어나지 않는 가성비 좋은 곳으로 찾고 있었는데\\n검색에 검색을 거쳐 2인 6만원이라는 합리적인 가격에 맛도 좋다는 후기를 믿고 갔다가 만족스럽게 먹고 온 집이에요', '강원 속초시 대포항희망길 71 (대포동 959) \\n대포항 관광수산시장 B동 30호 은주네', '대포항 수산시장은 A동부터 시작해서 B동, C동, D동이 일렬로 길게 나열되어 있는데요\\n지나가는 동안 호객행위를 상당히 많이 하는 곳이기 때문에\\n느낌이 딱 오는 곳으로 들어가도 좋지만 저희처럼 어디를 갈지 정해놓은 경우에는 가려는 동으로 바로 가면 되겠지용 ㅎ\\n일단 B동 앞으로 가서 가게를 찾는데.. 첨에 가게 명단에 은주네가 없어서 살짝 당황;\\n들어가서 찾아보려다가 B동 반대편인 뒷문?! 에도 가게 리스트가 좌라락 나와있더라고용 ㅎㅎㅎ\\n여튼 동마다 오목조목 활어횟집들이 즐비해있었던 대포항 수산시장!', '수산시장 안의 여느 횟집들과 마찬가지로 수족관에 대게와 활어들이 가득 차있어요\\n호객행위도 많고 얼핏 보면 다 비슷하게 생긴 가게들이라 유명해지기가 쉽지 않았을 텐데\\n은주네는 어느정도 알려진 편이라 그런지 저희가 들어갔을 때에도 사람들이 꽤 많이 차있었어용', '세트메뉴는 왠만한건 게 종류와 수량만 달라질 뿐 모둠회+해산물+야채+매운탕+게딱지밥이 몽땅 세트로 제공되는 식이었고요\\n대게 A세트도 80,000원이면 가격적으로 굉장히 메리트 있는 편이었지만\\n6만원 정도의 예산을 생각하고 왔기에 붉은대게 A세트로 주문했답니다\\n저희 말고도 둘이 온 손님들이 꽤 있었는데, 일반적으로 붉은대게 A세트를 가장 많이 시키는것 같더라고용~', '붉은대게 A세트의 총 구성은 붉은대게2마리+모둠회+해산물+야채+매운탕(or홍게라면)+게딱지밥까지 푸짐하게 제공이 된답니당\\n초장과 간장은 테이블에 미리 셋팅이 되어있고 고추마늘이 얹어진 된장과 와사비도 인당 한접시씩 따로 주시고요', '먼저 나온 해산물! 조개도 바로 데쳐서 주시는지 엄청 따끈따끈하고 조개 입이 쫙 벌어져있어서 살만 발라먹기 좋더라고용\\n가리비도 엄청 맛있고.. 멍게도 수족관에서 바로 잡아주셔서 완전 신선\\n게다가 이거 먹으러 오기 전날 둘이 오징어 사러 다니느라 고생을 엄청 했는데ㅠㅠ\\n오징어는 1마리에 만원 할정도로 비싸고 오징어만 단독으로 파는데도 잘 없었구..\\n그랬는데.. 이렇게 오징어가 나오니 얼매나 감동이었는지..ㅜㅜ', '해산물 순삭 하자마자 타이밍 맞춰 나온 활어회!\\n광어랑 방어까지 예쁘고 정갈하게 썰어져서 나왔어요\\n회를 주실때 보통 밑에 장식을 깔아서 풍성해보이게 하는 곳들이 많은데,\\n여기는 접시에 바로 회를 얹어 주시는데도 전혀 부실한 느낌이 없고 플레이팅도 예쁘게 해주셔서 더 푸짐해보이는 느낌이에요\\n게다가 아직 홍게와 홍게라면이 남아있짜나용...☆ ', '홍게는 이렇게.. 푸욱 삶아져서 다리는 발라먹기 쉽게 칼집을 낸 채 나오구용\\n게딱지도 둘이 먹는다고 싸우지 말라구 딱 두마리!!\\n게의 내장과 몸통 부위까지 버릴것 하나 없이 접시에 모조리 담긴 채 제공이 되어요\\n게딱지 안에는 진한 초록빛깔 내장도 정말 실하게 들어있어서\\n게살을 내장에 콕 찍어먹어도 맛이 진하게 배서 계속 먹게되지용..ㅎㅎ', '게딱지에 비벼먹을 셀프밥..\\n밥에는 참기름과 김가루, 통깨가루가 먹음직스럽게 뿌려져있고 요걸 비벼서 게딱지에 소복 소복 담아내면', '요런 비주얼이 되는데 정말 참기 힘들어여.. 게살 다 발라먹고 마지막 하이라이트로 먹는게 게딱지밥이라는데\\n이렇게 먼저 비벼버렸으니..ㅜㅠ 순리를 거슬렀어 엉엉\\n특유의 고소한맛과 짭쪼름한 감칠맛 때문에 한숟가락만 맛봐도.. 무아지경으로 먹게되지만\\n 얘는 라면 끓으면 같이 먹으려구.. 간신히 참고 라면이 끓을때까지 기다려야 했지요 ㅠㅠ', '사리면과 함께 나온 홍게라면!\\n사실 라면 기성품에 홍게껍질만 놓고 바로 내어주실 줄 알았는데, 맑은 매운탕 느낌으로 즉석에서 끓여먹는 방식이에요\\n국물이 어느정도 끓었을 때 숟가락을 살짝 넣어 맛을 봤더니 완전 맛있음.. 꽃게탕과는 확연히 다르지만 입맛당기는 이 매콤칼칼함...이건 면을넣으면..틀림없이 대박이야!!ㅠㅠ', '국물은 이곳 특제 양념장으로 만드시는 것 같고, 여기에 대파와 콩나물 등등 야채도 푸짐하게 넣어주시고 홍게로 국물을 푹 우려낸 후\\n제공된 사리면은 셀프로 넣고 마저 끓인 다음에 먹는 방식이에요', '진짜 맛있게도 익은 홍게라면이랑 애껴왔던(!) 게딱지밥이랑 드디어 제 입안에서 짝을지어주었지용.. 완전 맛나게 먹었어요 ㅋㅋㅋㅋㅋ\\n사람은 먹을때가 가장 행복하다던데 제가 엄청나게 좋아하는 해산물과 회, 홍게에다가 게맛이 엄청나게 잘 우러난 라면까지 먹으니 완전 황홀파티하는 기분이었어용><\\n대포항 맛집 은주네에서 완전 대성공! 속초여행 기분좋게 마무리하고 떠날수 있었어요♡ㅎㅎ\\n속초에서 찍은 사진들 몇장 올려봐용 ㅎㅎ', '설악산\\n경치를 가로막던 앞차가 지나간 찰나에 찰칵!!', '영금정', '속초의 끝자락이라고 생각하니 계속 찍게되던 사진들', '돌아가는 길 뜻하지 않게 속초 일몰 시간이 되어서 \\n지는 해까지 알차게 감상하고 돌아갔답니당']\n",
      "예외가 발생했습니다. Message: no such element: Unable to locate element: {\"method\":\"css selector\",\"selector\":\".se-fs-.se-ff-\"}\n",
      "  (Session info: chrome=85.0.4183.121)\n",
      "\n",
      "['안녕하세요~\\n요즘 다른 일에 정신이 팔려서 또 한동안 블로그에 신경을 못쓰고 있었네요!\\n사실 어떤 방향으로 블로그를 꾸며볼까 고민을 하다보니 포스팅을 하는데 더 어려움이 생기더라구요.\\n그래서 그냥 이전처럼 아무 글이나 막 쓰는게 좋겠다 싶어서 일단 쓰고 보자는 식으로 일상 잡다한 이야기들도 다 올려보려구요~\\n오늘은 씨유 편의점 컵라면 중에서 맛이 괜찮았다고 생각되는 걸 한번 포스팅 해보겠습니다!', '바로 씨유편의점 자체 브랜드인 헤이루 (HEYROO) 속초홍게라면인데요~\\n강원도 속초의 명물인 홍게를 청정 동해에서 잡아올려 추출한 엑기스로 맛을 낸 깊고 진한 매운맛의 해물라면이라고 하네요~\\n확실히 일반 컵라면들보다 깊고 진한 맛과, 얼큰하면서도 바다의 느낌이 살아있다는 생각이 들었어요!', '속초홍게라면은 액상스프와 분말스프가 둘 다 들어있네요.\\n보통 액상스프가 들어있으면 분말스프는 없고 그냥 건더기스프나 후레이크 정도만 있는 경우가 있는데 요건 둘다 들어있었어요~\\n그래서 더 깊은 맛이 난걸지도 모르겠네요.', '종이로 된 포장용기라서 환경호르몬에 대한 걱정을 좀 더 덜 수 있는것 같구요~\\n용기의 크기에 비해 물을 넣는 표시선은 좀 낮은 편이었어요.\\n그릇은 크지만 내용물이 아주 많은건 아니란 생각이 들었네요.', '헤이루는 언제 어디서나 친근한 모습으로 고객과 함께 하는... 빛이 반사되서 어디 리테일이 상품 브랜드인지는 안보이네요.\\n조리 방법은 다른 컵라면과 동일해요.\\n표시선까지 물을 붓고 4분 후 면을 잘 저어 먹어주면 끝!\\n아주 간단하죠?', '그래서 물을 붓고 기다려 줍니다~\\n이상하게 컵라면을 먹을 때는 나무젓가락으로 먹어줘야 더 맛있는 것 같더라구요.\\n씨유 편의점 헤이루 컵라면인데 나무 젓가락은 농심~\\n라면은 농심이 맛있습니다라고 쓰여 있어서 혼자 실실 웃었네요 ㅎㅎ', '물 붓는 선이 좀 낮다 싶어서인지 물을 붓고 나서도 왠지 국물이 좀 적은 듯한 느낌이 들었어요.\\n하지만 먹다보면 부족하단 느낌은 크게 들지 않았구요 만약에 좀 싱겁게 드시는 편이라면 물을 약간 더 부어서 드셔도 될 것 같았어요.', '면빨도 쫄깃하고 국물에 홍게의 맛인지는 정확히 모르겠지만 시원하면서도 진한 바다향 혹은 해물의 맛이 느껴지면서도 얼큰함이 슬슬 올라오는 시원하고 개운한 맛이었어요!\\n요즘에는 정말 라면도 다양한 맛이 많이 나오고 컵라면도 각각의 브랜드마다 특이하고 다양한 제품들이 많이 나와서 당분간은 편의점 라면만 찾아다니면서 포스팅을 해도 될 정도 같네요!\\n씨유편의점 컵라면 헤이루 속초홍게라면 가격은 1500원인가 그 정도 하는 것 같구요~\\n일반 라면이 식상하다면 가끔씩 별미로 즐기기에 좋을 것 같아요~\\n요즘처럼 추운 겨울엔 이런 얼큰하고 개운한 컵라면도 정말 맛있잖아요!\\n그럼 다들 좋은 하루 되세요~']\n",
      "예외가 발생했습니다. Message: no such element: Unable to locate element: {\"method\":\"css selector\",\"selector\":\".se-fs-.se-ff-\"}\n",
      "  (Session info: chrome=85.0.4183.121)\n",
      "\n",
      "예외가 발생했습니다. Message: no such element: Unable to locate element: {\"method\":\"css selector\",\"selector\":\".se-fs-.se-ff-\"}\n",
      "  (Session info: chrome=85.0.4183.121)\n",
      "\n",
      "['방송프로그램 : 맛남의 광장(우리농수산물살리기프로젝트를 하는 예능프로더라고요 :) )\\n방송일 : 2019년 12월 5일 (1회), 12월12일 (2회)\\n음식 : 홍게라면정식\\n가격 : 7,000원 (가격은 인하된 것 같아요. 다른분 블로그에는 8,000원으로 적혀있었거든요.)\\n방문일시 : 2020년 4월 4일\\n▶ 위치', '저희는 울진에서 속초방향으로 올라가는 길이였어요 :)\\n옥계휴게소는 바다 보이는 휴게소이기도 하더라고요. (날씨도 좋고 엄청 이뻤던 휴게소♥)\\n주차장도 넓어서 여유가 있었고(사실 생각외로 사람이 많아서 놀랬던 저희)\\n웨이팅 없이 먹을 수 있었던 날이였어요.\\n(초반에는 줄이 어마어마했다고 하더라고요. 특히 새해에 해돋이 보고 들렸던 분들이 많았다하더라고요.)\\n휴게소가 은근 커서 이렇게 일부만 찍었고요.\\n드롭탑카페도 있고 엔젤리너스도 있고 먹을게 많더라고요.', '▶ 메뉴 및 가격 (가능한 음식 메뉴판이예요.)\\n가격 : 7,000원 (반찬2가지, 밥 소량이 나오는 구성)\\n코로나 영향으로 기존에 팔던 모든 음식을 먹을 수 있는 건 아니였고, \\n이렇게 계산대 앞에 몇가지 지정 되어있더라고요.\\n재미났던게 안으로 들어갔을 때, 모든 테이블에 홍게만 올려져있더라고요?\\n아직도 인기가 있는 것 같아 잘 왔구나 싶었어요.\\n(유리판 안에 있어서 선명하게 안찍히더라고요. 흑흑 몇번 찍은 것 중에 괜찮은 사진으로 올려드려요.)', '휴게소 하면 또 돈까스나 우동인데, 이날은 딱! 목적이 있었기에 홍게라면을 주문 했어요.\\n(참고로 저희는 속초에서 88생선구이를 먹을 예정이여서 하나 주문해서 맛만 봤답니다 :-) )\\n▶ 옥계휴게소 운영시간 (단축해서 운영중이예요.)\\n- 편의점은 24시간 운영(이마트24시)\\n- AM 06:00 ~ PM 22:00 까지, 코로나 진정시까지 라고 하네요.\\n    하루 속히 종식 되시길 또 바라봅니다!', '▶홍게라면 기다리면서 내부 둘러보기\\n푸트코트 안에서 밖에 보이는 VIEW\\n이날 바람이 굉장히 쎄서 나가는 분은 별로 없었지만, 잘 꾸며져 있는 휴게소더라고요.\\n사진을 무척이나 찍고 싶었지만, 실패했어요 헷', '그리고, 테이블마다 놓여져 있던 안내문인데요.\\n\"한칸씩 띄어앉기\" 였는데,, 사실 잘 안지켜지더라고요.(반성반성)\\n(자리는 바로바로 직원분이 닦아주시고, 앉아도 된다고 말씀해주시더라고요.)', '\"라면\" 코너에서 홍게라면이 준비 되고요. 주문은 밀려있던 상태는 아니였고, 한분이서 하시더라고요.\\n주문이 들어가면 바로 만들어주시는 방식인 것 같았어요!\\n한 5~10분 정도 걸린 것 같은데, 긴 시간은 아니여서 괜찮았어요!\\n앞쪽에는 식기류랑 일회용물티슈, 홍게를 먹을 때 필요한 위생장갑 비치까지 센스센스!', '그리고 다른 코너에 이렇게 \"반찬 셀프바\" 가 있었지만,,\\n일시운영 중단이였어요. 어차피 음식나올 때 같이 주시고 번거로워도 다시 요청하면 되니까 불편하지 않았어요.\\n이런 방안에 적극적으로 협조해주는 것도 좋겠더라고요. 투정X', '▶ 맛남의 광장 홍게라면 솔직후기\\n한상차림으로 이렇게 나오는 홍게라면 :) 반갑고만 반가워요~\\n반찬은 딱! 라면에 어울리는 단무지랑,김치 그리고 이 밥!이 정말 좋더라고요. \\n약간 부족하다 싶을 때 밥이 생각나는데\\n따로 시키기도 애매하고 그러셨던 경험 있으시죠?\\n홍게 한마리는 접시 위에 올려져 있고, 그 위로 파송송송이(백종원님 스타일 같죠?)', '밥은 살짝 흑미밥 색상이고, 양은 한 3~4숟가랑 정도? 1공기의 양은 아닌데요. \\n국물에 말아먹으면 끝장나요~ \\n반찬은 오래된 느낌이 아니였고 단무지 사그락\\n김치는 생김치인데 익은맛이 나서 매콤한 라면이랑 찰떡궁합이였어요.', '후기 보면 홍게가 작다는 의견, 살이 없다 이런 의견들이 있는데요.\\n사실 홍게는 살이 많은 편은 아니래요. 저희는 그래도 이렇게 한마리가 들어가 있는게 어딘가 싶더라고요.\\n다만,\\n홍게 다리는 손질이 따로 안되어 있어서 먹기는 쫌 불편했어요. \\n(살 바르다가 옷에 튀고, 장갑진짜 필수예요!)', '국물 한입 먹어봤는데, 진짜 그 찐하면서 해산물 육수맛이 나더라고요.\\n뭐랄까, 이 또한 백종원님 스타일 이랄까?\\n약간 자극적이고 짜다 라는 느낌이였는데 중독성이 있어서 숟가락이 계속 가더라고요.\\n남자친구는 맛있다고 진짜 잘먹었다고, 안먹고 그냥 갔으면 후회했겠다 그러더라고요.\\n매콤해서 아주 좋았던 1인!\\n라면 면발은 탱글탱글 퍼지지 않고 쫄깃해서 맛났어요!', '라면 덜어서 먹다가, 밥도 아예 다 말아버렸어요.\\n사진찍다가 \"뭐해?\" 하면서 문득 앞을 봤는데,\\n이렇게 맨손으로?하고 있었던 겸둥이\\n아니야, 장갑 가져다 줄게 했지만 꼈다가 불편해해서 결국 맨손 손질\\n(홍게가 뜨거웠는데 희생정신 칭찬해)\\n그래도 이렇게 살 바르면 살이없는 건 아니던데요오?!', '비리지 않았고 홍게의 맛이 나서 가격대비 정말 부담이 없었어요!\\n홍게살은 다 발라버리고 비벼서 먹으니까 걸죽하니 이것도 맛있더라고요.\\n아쉬웠던건, 게딱지가 레알 게딱지만 있어요. \\n전 굳이 여기에 밥 따로 넣고 안비볐어요. 왜냐면 손에 엄청 묻을 것 같았거든요. (취향차이 이겠죠?)\\n둘이서 맛만 보기위해 1개만 시켰는데 은근 배도 부르고 속이 뜨뜻해서 찬 바람이 불었던 이날 좋았어요.\\n먹고 나면 접시는 따로 빈그릇접시 놓는곳에 올려주시면 되요.', '생각해보니 이렇게 홍게 살 발라먹으면 테이블이 정말 더럽거나 찐득할 것 같은데\\n위생적인 부분에서 관리가 잘 되고 있는 옥계휴게소 였어요.\\n맛남의 광장 이라는 프로를 통해서 손님들도 많이 들르고, 지역 경제도 다시 살아났으면 좋겠네요 :)', '뜨뜨거운 갓 나온 홍게 비쥬얼 보여드릴게요!\\n맛남의 광장 1,2회 에 나왔던 그 메뉴! 뿌듯하네요 :-)\\n(소리없는 영상임을 알려드립니다.)', '▶ 쓸데없지만 알려드리는 정보 \\n옥계휴게소가 10대 경치 좋은 휴게소 중 하나 래요.\\n사실 찾아보지는 않았지만 푯말을 본 리코\\n그래서 사진찍으러 올라갔는데 바람이바람이\\n그렇지만 기어코 찍고 온 리코!', 'View 가 촤악 퍼져 있어서, 여름에도 관광오기 좋을 것 같고, \\n아래쪽에는 도직항 이라고 항구도 있더라고요.\\n근처 오실일 있으면 한번 들려서 구경하시는 것도 좋을 것 같네요.', '사실 전, 맛남의 광장 프로를 본 적이 없었는데 남자친구가 번뜩 생각이 났다면서\\n약간 옆길로 샜던 곳인데요.\\n이렇게 기회가 되서 먹어보니 좋았고, 또 힐링도 되었던 것 같아요.\\n코로나로 힘든 시국이지만, 저희도 인원이 적은 곳만 다니고 최대한 빨리 먹고 움직였답니다.\\n혹시나, 들리시거나 정보가 궁금하신 분들을 위해 올니리 너무 맘 불편하신 분들이 없으면 좋겠습니다 :-)', '이상 리코 였습니다 :)\\n맛있는 음식 먹게 해줘서 고마워요♥']\n",
      "예외가 발생했습니다. Message: no such element: Unable to locate element: {\"method\":\"css selector\",\"selector\":\".se-fs-.se-ff-\"}\n",
      "  (Session info: chrome=85.0.4183.121)\n",
      "\n",
      "['백종원 만남의광장 이라는 프로 보다가\\n침 질질 흘렸어요\\n속초방향 옥계휴게소 편이었는데\\n홍게라면이 나오더라구요\\n배고픈 시간이라, 꼭 먹어보리라\\n마음먹었다가,,드디어!!', '옥계휴게소 홍게라면 먹으러\\n휴게소에 도착했습니다\\n백종원의 만남의광장이 방영된 후라\\n평소보다 많은 차량들이 주차되어\\n있더라구요', '평창 가는길에 들른 옥계휴게소\\n9시가 다되서 들렀는데\\n평소보다 많은 차들이 있길래\\n혹시 방송후라 홍게라면이 솔드아웃\\n되었을까봐 두근두근 들어갔어요', '휴게소는 비교적 조용하기도 하고\\n식당도 깨끗하고 깔끔해요', '그리고 작지만 어린이놀이방도 있고\\n뽑기류와 탈것들도 있어서\\n아이들이 좋아해요', '밤 9시인데도 많은사람들이 메뉴주문을\\n하기위해 기다리고 있더라구요\\n아마.옥계휴게소 홍게라면 드시러오셨겠죠', '우선메뉴판을 살펴봤는데\\n양미리조림정식이랑 홍게라면이 없길래\\n다 팔린줄알고 깜짝 놀랐어요', '아래쪽에 신메뉴에 있더라구요\\n백종원의 만남의광장에서는\\n감자 치즈볼이랑 양미리튀김 같은것도 \\n있었는데 아쉽게도 없더라구요\\nㅜㅜ\\n양미리조림정식도 주문해볼까 하다가\\n옥계휴게소 홍게라면만 주문했어요\\n손님들 테이블에 홍게라면이 그득그득', '', '가위와 위생장갑도 준비되어있어요\\n홍게를 잘 뜯어먹기 위해서\\n셀프로 가지고가셔서 사용하시면 \\n된답니다', '짠 드디어 백종원의 만남의광장\\n메뉴인 옥계휴게소 홍게라면이 나왔어요\\n역시 공기밥도 포함이구요\\n금액은 7천원이라 가격은\\n괜찮은거 같아요 홍게가 포함이니깐요', '라면위에 떠있는 홍게의 모습보세요\\n길죽길죽 다리!\\n식당도 아니고 휴게소에서\\n이런 비주얼의 라면을 먹다니!!', '옥계휴게소 홍게라면이 \\n이 휴게소의 시그니쳐메뉴가 될것같아요\\n영자언니도 오셔서 드셔봐야할텐데\\n제가 먹은 이 라면을 드시는 모습을\\n보고싶습니다만^^;', '홍게 사이즈도 작지 않아요\\n살만 제대로 차있으면 진짜 대박일것 같더라구요\\n비주얼에서는 아주 최고점을 주고싶어요', '헙!!꽉찬 살좀보세요\\n7천원인 옥계휴게소 홍게라면의\\n다리에 꽉찬 살!\\n기대이상이라 두번놀랐어요', '비닐장갑 끼고 잘발라서 드시면 되요\\n아쉽지만, 장은 없더라구요ㅜ\\n백종원의 만남의광장은 진짜 좋은프로그램\\n같아요. 옥계휴게소 올때마다 손님들도\\n많지않았는데 이렇게 시그니처메뉴로\\n만들어 주다니!', '라면이니 면도 맛있게 호로록\\n홍게를 품은 라면이라니!\\n요즘 휴게소 음식들도 예전과 달리\\n퀄리티가 장난아니잖아요\\n특히 영자언니덕에 휴게소 음식들이 고평가\\n받고있는것 같구요\\n옥계휴게소 홍게라면 가격대비 굿굿', '홍게 한마리 해치우고 라면을 후루룩먹고\\n밥까지 말아먹은 랑구입니다\\n운전하느라 고생해서 더 배고픈랑구\\n백종원의 만남의광장 덕분에 이곳\\n휴게소에서 퀄리티좋은 저녁식사를 했습니다', '이곳은 홍게전문점이 아닙니다\\n이곳은 홍게라면을 판매하는\\n옥계휴게소입니다', '이제 배도 채웠으니 다시..\\n평창으로 떠나봅니다', '백종원의 만남의광장에서 개발한\\n옥계휴게소 홍게라면 솔직한 후기는\\n솔직히, 그냥 라면 맛이에요\\n국물에 홍게맛이 날줄 알았는데\\n그냥 제느낌은 우리가 아는 그냥 라면맛에\\n가까운것 같아요\\n대신 홍게한마리가 올라가져 있다보니\\n보는즐거움도 있는것 같아요\\n기대도 안했는데 살도 제법 차있더라구요\\n그런데 특별할꺼라는 기대는 마세요\\n7천원이면 착한 가격이라 저는 다음에\\n오게 된다해도 먹을것 같습니다', '#옥계휴게소 #백종원홍게라면 #홍게라면 #백종원#만남의광장']\n",
      "예외가 발생했습니다. Message: no such element: Unable to locate element: {\"method\":\"css selector\",\"selector\":\".se-fs-.se-ff-\"}\n",
      "  (Session info: chrome=85.0.4183.121)\n",
      "\n",
      "예외가 발생했습니다. Message: no such element: Unable to locate element: {\"method\":\"css selector\",\"selector\":\".se-fs-.se-ff-\"}\n",
      "  (Session info: chrome=85.0.4183.121)\n",
      "\n",
      "예외가 발생했습니다. Message: no such element: Unable to locate element: {\"method\":\"css selector\",\"selector\":\".se-fs-.se-ff-\"}\n",
      "  (Session info: chrome=85.0.4183.121)\n",
      "\n",
      "['', '안녕하세요. 막내이모야 입니다.\\n얼마전 <놀면 뭐하니?> 프로그램에서\\n유재석님이 만든 유산슬 라면 기억하시나요?\\n그때 맛을 본 연예인들이\\n맛있다고 칭찬을 했었더랬지요..\\n그래서인지...\\n최근에 편의점에 가니 유산슬 관련 제품들이 출시되었더라구요...\\nCU편의점 HEYROO 제품인\\n<유산슬 비빔면>\\n과\\nGS25 YOUUS 제품인\\n<유산슬 라면>\\n을\\n호기심에 구매해서\\n맛을 비교해 봤어요.', 'https://youtu.be/IiXjYaL6KzQ', '더욱 다양한  맛집, 카페, 음식들의 솔직후기 영상은 유튜브 [막내이모야] 채널에서 시청하실 수 있습니다.', '비교해 볼\\n유산슬 비빔면과 유산슬 라면 입니다.', '풍부한 해물의 맛! 이라고\\n홍보하고 있는데요..', '내용물을 살펴보니\\n오징어, 새송이버섯, 죽순채, 홍피망 등등이\\n표기되어 있더군요...\\n오징어가 메인 해산물인듯...', '조리방법은 조금 독특했는데요..\\n면이 생면이여서 그런가보더라구요..', '생면과 유산슬소스...\\n간단한 구성입니다.', '컵에 생면을 넣고 뜨거운 물을 면이 충분히 담기도록 부어주고 면을 잘 풀어줍니다.', '뚜껑에 나 있는 구멍으로 뜨거운 물을 버려주는데요..\\n뜨꺼우니 조심하세요~', '물을 버리고 난 후 유산슬 소스를 부어주고\\n잘 섞이도록 비벼줍니다.', '그리고 전자레인지에서\\n1분 30초 (700W 기준)\\n조리 해 줍니다.', '전자레인지에서 조리 후 꺼낸 모습인데요..\\n맛있는 냄새가 훅~ 올라오더군요..ㅎㅎ', '예쁜 그릇에 옮겨봤어요..\\n다른님 포스팅에서 후기를 봤는데..\\n입맛에 따라 살짝 느끼하게 느껴질 수도 있다고해서..\\n함께 먹으려고 엄마표 무생채무침도 준비 해 봤어요.', '그런데..\\n소스색이...중화요리집에서 먹던 유산슬 색상과는\\n조금 다르더군요..', '작게 썰어진? 오징어가 듬뿍 들어가 있었어요.', '면은 맛있게 탱글탱글...\\n생면이라 식감이나 탄력이 좋더라구요..', '확실히...\\n소스 맛이 슴슴하니...느끼하다기보다..\\n뭔가 뚜렷한? 맛이 없달까요?\\n무생채무침이랑 함께 먹으니\\n더욱 맛있더군요..', '사실...\\n기대했던 비주얼?과 맛은 아니어서 살짝 당황했었답니다..\\n어머니께도 만들어 드려봤는데...\\n어머니도 저 처럼..\\n유산슬 맛 같지는 않다고 그러시더라구요...ㅎㅎ\\n하지만...\\n자극적이지 않은 담백한 맛으로..\\n잘 먹었습니다...\\n다음은...', 'gs25 편의점에서 구매했구요..\\n공화춘 시리즈 중에 짬뽕도 있던데..\\n다음엔 공화춘 짬뽕도 구매 해 봐야겠어요..', '내용물을 살펴보니..\\n역시나..\\n동결오징어가 들어가있구요..\\n계란후레이크, 건표고갓후레이크, 청경채, 홍게맛살건더기 등등 이 표기되어 있었어요..', '뜨거운 물 붓고 스프를 넣은 후\\n전자레인지에 조리하는 제품인데요..\\n전자레인지에 조리 시 뚜껑은 완전히 벗긴 후 조리 해 주세요!!', '뚜껑을 벗기면..\\n면과 스프가 보입니다.', '면 위로 노랗게 보이는게..\\n계란후레이크 인가봐요..', '면 아래엔 이렇게\\n다양한 건더기들이 들어가있구요...', '스프는 분말스프와 유성스프로 구성되어 있었어요.', '면은 일반적인 튀긴 면 입니다.', '면 위에 분말스프를 넣고\\n뜨꺼운 물을\\n컵 안쪽 표시선까지 부어줍니다.\\n분말스프 색상이 좀 독특한데요...\\n중화요리집에서 먹는 유산슬 의 소스를 분말로 만들면 이런 색상이지 않을까? 생각하게 되는\\n그런 색상 이었어요..', '뜨거운 물을 붓고\\n전자레인지에 넣고\\n3분30초(700W 기준) 조리합니다.', '3분 30초 후~~~', '완성되었어요!!\\n예쁜 그릇에 옮겨서...찰칵!!ㅎㅎ', '이번엔 엄마표 깍두기와 함께\\n플레이팅 해 봤어요..ㅎㅎ', '일단 보기엔 유산슬 그 특유의 전분 푼 소스 그 느낌이 재현된 것 같았어요..\\n먹기 직전에 유성스프(조미유)를 넣어줍니다.\\n유성스프를 넣어주니\\n맛이 또렷해진달까요?ㅎㅎ\\n마법기름 같달까? ㅎㅎㅎ\\n처음부터 넣지 말고..\\n먹기 전에 넣어 드세요~', '건더기의 경우는..\\n앞서 맛 본 유산슬 비빔면과 비교하면\\n건더기 양은 좀 적게 느껴진달까요?\\n입체감이 좀 덜 하다는 느낌...입니다.', '하지만...\\n맛과 면의 느낌은...\\n중화요리집에서 맛 본 유산슬 소스에 면을 함께 요리한 그런 느낌이 확실하게 와 닿더라구요..\\n예전에 먹은 참깨누룽지탕면의 식감과도 비슷한것 같고...ㅎㅎ\\n그래서..\\n이 제품은 꼭 전자레인지에 조리해서 드셔야합니다.', '엄마표 깍두기와 함께 먹으니 더욱 꿀맛!!', '유재석 님이 만든 유산슬 라면과 비교하면..\\n당연히 해산물이나 야채들이 현저하게 적게 들어있지만...\\n맛은 거의 비슷하지 않을까? 하는것이 제 개인적인 의견이구요..\\n어머님께도 만들어 드렸더니..\\n맛있다고...유산슬 소스 맛이 난다고 하시더라구요..\\n유산슬 비빔면과 비교해도 유산슬 라면쪽이 맛있다고 하시더군요..\\n어머니도 저도 유산슬 라면에 한 표!!ㅎㅎ', '유산슬 비빔면과 유산슬 라면의 출시가 비슷해서\\n호기심에 구매해서 맛을 비교 해 봤는데요...\\n제 개인적으로는\\ngs25 YOUUS 제품인\\n공화춘 유산슬 라면이 더 맛있었고\\n유산슬에 가까운 느낌이었어요.\\n유산슬 라면은 재구매 의사 있습니다..\\n여러분도 유재석 님이 만든\\n유산슬 라면은 어떤 맛일까? 궁금하셨죠?\\n만들어 먹기엔 재료준비나 시간적으로 부담?스럽다면...\\n공화춘 유산슬 라면을 구매해서 드셔보시는 건 어떨까요?\\n맛있고 재미있게 맛 비교 해 봤습니다..ㅎㅎ', '#막내이모야 #유산슬 #유산슬비빔면 #유산슬라면 #GS25편의점 #CU편의점 #컵라면 #편의점신제품 #편의점음식 #라면 #신제품 #솔직후기 #맛리뷰']\n",
      "예외가 발생했습니다. Message: mainFrame\n",
      "\n",
      "['잇님들 하잇!\\n스탠다드입니다 :)\\n오늘 리뷰할 편의점 음식은\\nCU 속초홍게라면입니다.\\n강원도 속초의 명물인 홍게를 청정 동해에서 잡아올려 추출한\\n엑기스로 맛을 낸 깊고 진한 매운맛의 해물라면?!\\n무슨 맛인지 궁금하네요!\\n그럼 얼른 먹어 봐야겠죠?', '', 'HEYROO 속초홍게라면은\\nCU에서 판매합니다.', '', 'HEYROO\\n헤이루는 언제 어디서나 친근한 모습으로 고객과 함께하는\\nBGFretail의 상품 브랜드입니다.\\n< 조리방법 >\\n1. 뚜껑을 표시선까지 열고 분말스프, 액상스프를 면 위에 넣고 끓는 물(100℃)을\\n용기 안쪽까지 부은 후 뚜껑을 닫고 4분간 기다립니다.\\n2. 4분 후 뚜껑을 열어 젓가락으로 면을 잘 저어 드십시오.', '용기 안쪽에 보이는 후레이크 중\\n말린 홍게살이 보이네요!', '분말스프와 액상스프 넣고 4분간 룰루랄라~\\n완성!\\n조금씩 삐져나와 있는 홍게살 얼른 먹어 보고 싶어요 :)', '저 스탠다드가 맛평가를 해보겠습니다!\\n맛은 그저 그런 평범한 해물라면 맛이네요...\\n홍게살이라고 해서 음미해서 먹어봤는데,\\n역시 컵라면으로 훌륭한 맛을 기대한 건 욕심이겠죠?\\nCU 속초홍게라면보다 맛있는 해물라면이 많아서\\n추천은 없는 걸로^^\\n제 개인적인 입맛입니다!', '스탠다드의 별점\\n    맛     \\u3000   ★★☆☆☆\\n가성비        ★★☆☆☆\\n내 돈 주고 직접 사 먹은 리뷰']\n",
      "예외가 발생했습니다. Message: no such element: Unable to locate element: {\"method\":\"css selector\",\"selector\":\".se-fs-.se-ff-\"}\n",
      "  (Session info: chrome=85.0.4183.121)\n",
      "\n",
      "['안녕하세요 덩이빠더에요~ 오늘은 제가 건강검진을 받고 휴식을 취하고 있는 중인데 건강검진 직후에 먹어본 진짜 맛있는 CU 편의점 라면 홍게라면 포스팅입니다. ', '', '암검진 마치고나니 무려 12시간 넘게 공복상태였던 주린배를 채우라고 죽을 한그릇 주더라... 근데... 야채죽 무엇?? 하ㅏㅏㅏ 닭죽만 되어도 참는데... 진짜 거짓만 하나도 안보태고 2분만에 깨끗하게 비워버렸네요... 식은죽 먹기라는 말이 괜히 나온게 아니네요.', '뒤적뒤적 폰 사진첩을 보니 온라인에서 이벤트로 당첨된 CU 모바일상품권이 있다는것이 하하하하~ 게다가 근처에 CU 편의점도 있다는 ㅎㅎ 비록 2000원 밖에 안되지만 잊으면 사라지는 쿠폰을 써버리러 씨유 둔산을지점으로 달려가보았습니다. ', '근처에 회사와 큰 병원들이 있는 시내에 있는 큰 편의점이에요~ 앞에 테이블도 있어 잠시 앉아서 쉬어가도 되는 그런 공간이라고 보시면 됩니다. 편의점에 들어갈 때 항상 습관처럼 뭐가 핫한지 뭐시 맛있는지 고민고민 하는데요~ ', '오호라이~ CU 편의점에서는 육즙이 풍부한 쟌슨빌 롱 소시지, 뉴욕 핫도그, 파마산 오레가노 핫도그를 판배하나봐요 ㅎㅎ 오우 ㅎㅎ 이런거 기억해뒀다가 가끔 간식으로 사먹으면 진짜 좋아요. \\n요즘 편의점에서 가능한 업무가 진짜 많아졌네요~ 현금지급기는 원래 ATM에 있는 것이고 픽업서비스, CU편의점 택배, 의약품 등등~ 원두커피에 베이커리 그리고 휴게공간까지 완벽한 편의점!! 그냥 작은 편의점과는 스케일이 다릅니다. ', '바로 앞에 대전 을지대병원 있어서 음료 선물세트도 정갈하게 정리되어있고요~ ', '오호~~ CU 배달 매장 요기요라니 ㅎㅎ 요기요앱에서 배달 가능한 주변 CU매장을 검색가능하데요 요기요에서 편의점 물건까지 배달해주는 아주 편리한 세상이네요. ', '아침에 출근길에 사먹으면 진짜 좋은 바나나 ㅎㅎ 영양가가 진자 풍부해서 식사 대용으로도 많이 먹는데 바나나 4개 초특가 행사도 하고 있는 CU반값바나나~ ', '네이밍 죽이네요 ㅎㅎ 편스토랑이라는 방송이 시작하나봅니다. 이경규와 이영자 그리고 김나영 정일우 진세연 정혜영 ㅎㅎ 완전 출연진 빵빵한 간만에 재미있는 예능이 시작하나봐요. 대충 딱 보니 편의점에서 재료나 식품을 구매하고 그걸로 멋지고 맛있는 음식을 만들어 우승자를 가리는 그런 프로그램인가봐요.  요거요거 핫할 것 같네요. ', '드디어 정신을 차린건가요. 일본 불매운동으로 일본맥주 인기가 완전 꺼졌죠. 대신에 반사이익으로 국산맥주가 많이 팔린다고 하던데~ 4캔 만원?? 그럼 일본이외 지역에서의 수입맥주와 경쟁이 될까요?? .... 카스 마케팅 하시는 분 보시면 제발 5캔 만원이나 6캔 만원으로 과감한 마케팅이 필요합니다. 물들어올때 노저어야지요. ', '와... 대박 ㅎㅎ 콜라가 백원이래요. 치킨이나 튀김만 먹으면 안되자나요. 콜라랑 먹어야지 진자 존맛인거~ ㅎㅎ 그래서 콜라는 100만 내면 그냥 드립니다. 와우!! 이런 마케팅 전략은 대성공이지 싶네요. ', '입장합니다. 편의점에 진짜 먹을게 너무너무 많아서 뭘먹어야 할지~ ㅎㅎ 일단은 씨유모바일상품권이 2000원 권이기 때문에 2천원 이상을 구매해야지요~ ㅎㅎ 한번에 다 털어야지 또 오려면 그것도 일입니다. ', '멀건죽으로 대충 배는 채웠으니 이제 자극적인 음식이 필요하죠 ㅎㅎ 라면을 너무나도 사랑하는 저는... 요 몇일 안먹었다고 자석처럼 라면 진열대로 끌리듯 가게 되었습니다. ', 'HEYROO 청양고추라면은 먹어봤어요~ 청양고추 진짜 좋아하는데~ 컵라면에서 그 칼칼하고 매운 맛을 느낄 수 있다는게 진자 매력적이였죠. 특히 술 많이 먹고 다음날에 해장하기 정말 좋은 라면입니다. 한국인이 좋아하는 청양고추 특유의 매운맛과 강렬한 향을 동결건조공법으로 완벽하게 재현한 얼큰한 국물라면입니다. ', '', '오잉 HEYROO 속초홍게라면이라는게 있네요. 와... 라면에 해물 넣어먹으면 기가 막히자나요. 국물맛이 시원해지고 그 깊이가 완전 대박인데 컵라면으로 고걸 느낄 수 있다니 완전 제스타일의 씨유 편의점 컵라면입니다. ', '', '강원도 속초의 명물인 홍게를 청정 동해에서 잡아올려 추출한 액기스로 맛을 낸 싶고 진한 매운맛의 해물라면 속초홍게라면 완전 기대됩니다. 바로 결재 들어갑니다. 500원이 남아서 까까 하나 사먹고 추가금액 결제완료. ', '나무 젓가락까지 빨강색으로 깔맞춤 ㅎㅎ 오늘 완전 빨갱이 매운맛을 제대로 느낄 수 있는 그런 날인가봅니다. 제가 맵고 칼칼한 라면 진짜 좋아하거든요. ', '115g 유탕면으로 칼로리는 무려 500kcal. 스푸에 홍게가 무려 6.9% 동해바다 속초에서 잡아올린 홍게의 맛을 느낄 수 있다니 컵라면 치고 너무나도 고급진 것 아닌가요??', '아 ~ HEYROO가 BGF리테일의 상품브랜드 PB 브랜드 네임이었구나 ㅎㅎ 뭐가 했는데 그런 뜻이었네요. 끓이는 방법은 머 컵라면이 거기서 거기죠. 뚜껑열고 안에 있는 분말스프와 액상스프를 넣고 끓는 물을 표선까지 딱 부으면 끝~', '분말스프 말고 액상스프가 있는데 여기에 홍게가 가득들어있나봐요~ ㅎㅎ 너무 가루가루 내고 액기스로 뽑아내면 약간 비쥬얼이나 씹는맛에서 아쉬울 수가 있어서~ ', '동결건조시킨 홍게살이 요렇게 후레이크 형식으로 들어있네요. 잉? 한 개만 있는거 아니겠죠? 너무 야박하자나요. ', '', '스프 투척하고~ 이제 속초 홍게라면을 맛있게 끓여서 먹어볼게요~', '편의점 시설 참 좋네요~ 요즘 간편식이 너무나 잘나오기 때문에 이렇게 끓는 물도 잘 마련되어있고 옆에 전자레인지만 2개 있더라고요. 편의점 도시락이나 햄버거 등을 손쉽게 먹을 수 있는 CU 편의점 을지점 참 맘에 들어요. ', '열기가 세어나가는 것을 두고 볼 수 없어요. 빨리 먹고 싶고 뜨겁게 먹고 싶으니까요 ㅎㅎ 휴지통을 욜려두고 빨리 익어라익어라 기도하고 있었죠. 편의점은 주변에 뭐가 있는지 손님의 니즈를 참 잘 반영하는 곳인가봐요. 병원 옆이라 성인용 기저귀가 이렇게 많이 팔고 있더라고요. ', '', '와~ 뜨거운 열기가 한가득 !! 맛있게 라면이 익었네요. 휘휘 저어서 덜 풀린 액상스프와 분말스프를 고르게 잘 녹여주면 먹을 준비 끝입니다. ', '총평하자면 면발은 뭐 제가 익혔으니 딱 알맞게 익어서 꼬들꼬들하고 씹히는 맛이 좋았습니다. 면발도 메이저 라면회사와 견주어 보았을 때 꿀리지 않는 그런 쫄깃하고 맛있는 면이었어요.\\n그리고 국물은 진짜 예술. 집에서 가끔 킹크랩이나 조개찜 해먹고 꼭 해먹는게 바로 해물라면이거든요~ 근데 이제는 해물라면 먹고 싶을 때 그냥 CU편의점으로 달려가서 홍게라면 하나사서 딱 먹으면 될 것 같아요. ', '마지막으로 휘휘저어서 건더기를 다 먹어주는 것이 예의 ㅎㅎ 아까 위에서 홍게 건더기가 하나일까봐 걱정했는데 눈에 보이는 것만 4덩이었어요. 인지하지 못하고 먹거나 삼켰을 수 있으니 최소 4개 이상 건더기가 들어있는 것으로 ㅎㅎ 분말에도 무려 7%나 홍게를 넣어 시원한 국물맛을 내는데 사용했다니 1500원 가격이 전혀 아깝지 않네요. \\n가성비면 가성비 라면의 질이면 질 그리고 시원하고 칼칼한 국물까지~ ㅎㅎ 해장라면으로 진짜 완전 대박이라고 강조합니다. ', '깔끔하게 남은 국물을 정리하고 쓰레기 정리까지 완료하고 씨유 편의점을 나섭니다. 라면마니아로서 음... 진짜 웬만한 컵라면 저리가라 할 정도로 좋은 퀄리티의 CU 편의점 라면 속초 홍게라면 찐이네요. ', '', '아... 뭔가 아쉬운지 자꾸 속초 홍게가 땡기네요 ㅎㅎ 이 돼지 ']\n",
      "예외가 발생했습니다. Message: no such element: Unable to locate element: {\"method\":\"css selector\",\"selector\":\".se-fs-.se-ff-\"}\n",
      "  (Session info: chrome=85.0.4183.121)\n",
      "\n",
      "예외가 발생했습니다. Message: no such element: Unable to locate element: {\"method\":\"css selector\",\"selector\":\".se-fs-.se-ff-\"}\n",
      "  (Session info: chrome=85.0.4183.121)\n",
      "\n",
      "예외가 발생했습니다. Message: no such element: Unable to locate element: {\"method\":\"css selector\",\"selector\":\".se-fs-.se-ff-\"}\n",
      "  (Session info: chrome=85.0.4183.121)\n",
      "\n",
      "예외가 발생했습니다. Message: no such element: Unable to locate element: {\"method\":\"css selector\",\"selector\":\".se-fs-.se-ff-\"}\n",
      "  (Session info: chrome=85.0.4183.121)\n",
      "\n",
      "\n"
     ]
    }
   ],
   "source": [
    "dict = []\n",
    "\n",
    "number4 = 80\n",
    "for i in tqdm(range(60, number4)):\n",
    "    \n",
    "    url = url_load['url'][i]\n",
    "    driver = webdriver.Chrome(r\"C:\\Users\\ASIA_08\\chromedriver.exe\")\n",
    "    driver.get(url)\n",
    "\n",
    "    try:\n",
    "        driver.switch_to_frame('mainFrame')\n",
    "        \n",
    "        target_info = {}\n",
    "        \n",
    "        overlays = \".se-fs-.se-ff-\"\n",
    "        tit = driver.find_element_by_css_selector(overlays)\n",
    "        title = tit.text\n",
    "        title\n",
    "        \n",
    "        overlays = \".se_publishDate.pcol2\"\n",
    "        date = driver.find_element_by_css_selector(overlays)\n",
    "        date_n_time= date.text\n",
    "        \n",
    "        overlays = \".se-component.se-text.se-l-default\"\n",
    "        contents = driver.find_elements_by_css_selector(overlays)\n",
    "        \n",
    "        content_list = []\n",
    "        for content in contents:\n",
    "            content_list.append(content.text)\n",
    "        \n",
    "        content_str = ' '.join(content_list)\n",
    "        \n",
    "        target_info['title'] = title\n",
    "        target_info['datetime'] = date_n_time\n",
    "        target_info['content'] = content_str\n",
    "\n",
    "\n",
    "        print(content_list)\n",
    "    except Exception as e:    # 모든 예외의 에러 메시지를 출력할 때는 Exception을 사용\n",
    "        print('예외가 발생했습니다.', e)\n",
    "\n",
    "    dict.append( target_info)\n",
    "    time.sleep(1)\n",
    "\n",
    "result_df5 =pd.DataFrame(data=dict)\n",
    "#time.sleep(3)\n",
    "        "
   ]
  },
  {
   "cell_type": "code",
   "execution_count": 36,
   "metadata": {},
   "outputs": [
    {
     "data": {
      "application/vnd.jupyter.widget-view+json": {
       "model_id": "1dd1007f85b247e19d51ad41555ac93e",
       "version_major": 2,
       "version_minor": 0
      },
      "text/plain": [
       "HBox(children=(FloatProgress(value=0.0, max=20.0), HTML(value='')))"
      ]
     },
     "metadata": {},
     "output_type": "display_data"
    },
    {
     "name": "stderr",
     "output_type": "stream",
     "text": [
      "<ipython-input-36-777d0db90c9b>:11: DeprecationWarning: use driver.switch_to.frame instead\n",
      "  driver.switch_to_frame('mainFrame')\n"
     ]
    },
    {
     "name": "stdout",
     "output_type": "stream",
     "text": [
      "['여러분 안녕하세요 ㅎㅎ\\n어김없이 찐이웃과 함께하고 있는 민의점 이에요 ^0^!\\n오늘 맛 찐신상리뷰 첫 맛 포스팅으로\\n 여러분들께 새로운 맛 탐험을 떠나고자 하는데 무엇일까 많이 기다리셨죠...?', '<9호태풍 마이삭>이 이제 한반도에 진입을 하면서 어째 어제오늘 날씨도 안좋고\\n우리는 요오오론날에 자칫 밖에 이리저리 다녔다가는 요렇게 될 수도 있으니 (아니 뭐라는거야..ㅇㅅㅇ)', ' 태풍이 훠이훠이 물러날때까지는 집콕을 즐기시는게 좋겠죠?\\n부득이 출퇴근을 하게 되시는 분들도 오늘 만큼은 조심 안전 퇴근하셨으면 좋겠어요\\n그래서 이런날에는 비교적 안전한 실내에서 우리의 몸도 쉬어주면서, 라면 한 사발 한잔 해보시는게 어떨까 생각해요:)', '그래서 오늘 소개할 신제품 과연 그 주인공은 누가 될 것인가\\n(난 한번에 보이는데)\\n 한번 찾아보세요\\nㅎㅎㅎ', '맞추면 당신은 \\n라면 먹을 자격이 충분히 있으니 \\n묻고 더블로 가!', '민의점이 야심차게 맛있게 먹은\\n찐신상 1호 그 주인공은\\n<HEYROO 제주마늘라면>\\n되겠슴둥 ㅎㅎ\\n뭔가 마늘의 향기가 가득할 것만 같지 않나요\\n그래서 저는 이 라면을 역시 내돈내산을 통해서 먹어봤는데요!\\n한번 솔직하게 평가해보도록 해볼게요', '헤이루 제주마늘라면은 \\n올해 8월 CU편의점에서 지역 특산물로 만든 차별화 상품을 지속적으로 구상하면서\\n야심차게 출시한 차별화한 상품인 제주마늘라면이 출시가 되었어요!\\n또한 오뚜기에서 제조하고 CU로 납품하면서 서로 협업한 제품이기도 해요\\n믿고 먹는 제주마늘라면♬', 'CU의 스테디셀러인 지역라면 시리즈로 출시되면서\\n속초의 홍게라면, 임실의 치즈라면과 청양의 고추라면\\n여기에는 나오지 않지만 CU에서 지금은 단종으로 못봤었지만, 통영의 굴매생이라면 까지\\n 전국의 유명 특산물들을 주재료로 활용한 지역라면 시리즈를 참신하게 선보여왔던거 같아요!', \"<헤이루 제주마늘라면> *영양정보\\n총 내용량 105g I 470kcal\\n-\\n나트륨 1450mg(73%)\\n탄수화물 71g(22%)\\n당류 4g(4%)\\n지방 16g(30%)\\n트렌스지방 0g\\n포화지방 8g(53%)\\n콜레스테롤 0mg(0%)\\n단백질 10g(18%)\\n라면의 열랑이 어느 라면이든지 조금 높긴 하지만!\\n그래도 확실한건 봉지라면 보다는 컵라면이\\n 200mg~400mg정도 나트륨이 작다는거예요! \\n그래서 저는 중대결심의 일환으로 '오직 컵라면만을 고집' 해야겠어요\\n(라고 말하고싶지만 그러면 난 진짜 내 손에 장을 지진다) \", '가루스프와 제주마늘블럭을 아낌없이\\n♪탈탈탈♪\\n털어버리갔어', '특히 여기에서 제일 눈여겨 봤던 대목은 제주마늘블럭인거 같아요\\n블럭에 들어간 제주산 햇마늘을 급속건조공법으로 가공해 영양성분의 손실을 최소화하려고 했고\\n마늘풍미의 향을 그대로 재현하면서도 맛은 더욱 진하고 알차게 구현하기 위해 노력한 모습도 엿 보여요!', '요래오래 귀여운것~\\n뜨겁게 물을 올려놓았던 포트를 이제 용기에 표시선까지 라느님 용기속 안에\\n콸콸콸 부으며', '이렇게 뚜껑을 닫고\\n 약 4분동안 라면이 익을 때 까지 기다려봅니다\\n근데 저는 4분이 왜 이렇게 시간이 길게만 느껴지는걸까요\\nㅋㅋㅋㅋㅋㅋㅋㅋㅋㅋ\\n다른 시간은 너무 빨리 지나가는데 유독 컵라면(...) 기다리는 시간은\\n 4분이 10분처럼 느껴져요!', '4분은 무슨...!\\n그렇게 기다리고 기다린 3분만에 그냥 그 시간을 못참고\\n뚜껑을 오픈하고 말았어요^0^\\n Shakit !\\n Shakit !\\n저어버렸는 1人', '보기만 해도 맛나보여요\\n그러면서 확 느꼈던 생각은\\n내가 생각했던 마늘의 향이 스멀스멀 올라와서 식욕을 더 자극하게 했다는거\\n아니겠습니까?\\n(하 진짜 여기다 밥도 이따 말아먹을까 신나게 고민중인 나란 사람은 대체! 다 그럴거야 ㅇㅅㅇ)', '요래요래 \\n우여곡절 끝에\\n<제주마늘라면> 완성\\n미션성공!', '예쁘게 담아서 먹으려고 그릇도 준비하여\\n마치', '\\'마! 내가 끓인 민의점표 특제 라면아이가?\"\\n이렇게 허세를 부리고 싶었다고 정리해둡시다\\nㅋㅋㅋㅋㅋㅋㅋㅋㅋㅋㅋㅋ', \"라면의 향을 그윽하게 맡자마자 들은 생각!\\n'마늘향이 라면을 살룠구나, 요곳이 혁명적인 맛이구나야'\\n여기서 잠.깐!\\n마늘의 효능을 우리 알아보고 갈까요?\", '뭐 좋다고! 그렇다고 해요!\\n나는 요즘 피로하니깐 많이 먹어둬야겠다', '정말 꼬들꼬들한 면발에 진한 국물의 육수까지!\\n정말 먹음직스럽지 않아요?', '', '* 상품 명 : HEYRRO 제주마늘라면\\n* 출시일월 : 2020년 8월\\n* 총 가격 : 1500원\\n* 맵기정도 : ★★★★☆ (조금매운~매운정도 = 오뚜기 매운맛 진라면 정도의 맵기로 생각하면 됨, 4.3점)\\n* 총 평점 : ★★★★★ (4.5점)\\n* 기본정보 : 마늘의 향은 살리면서, 매콤하면서도 뒷맛은 깔끔한 시원한 느낌\\n* 재구매의사 : ★★★★★ (4.5점)', '오늘은 찐신상리뷰 시리즈로\\n<헤이루 제주마늘라면>을 가져와 솔직담백하게 맛을 공유해보았는데요\\n어때요? 한 입 해보고 싶지 않으신가요 우리 찐잇님들!\\n전국의 CU편의점에 가면 어디든 있으니 꼭 사먹어보시면 GOOD :)\\n나름 제 맛칼럼의 첫 리뷰포스팅으로써\\n부족하게 느껴질지는 모르겠지만 그래도 우리 찐잇님들과 소통하며 보다 정확하고 솔직담백하게\\n더 좋은 포스팅으로 찾아뵙도록 할께요:)\\n다음 편은 여러분들이 제일 좋아하는 반하면바나나 에디션 시리즈를 주제로 또 보도록 해요~!', '그럼 \\n오늘도 찐하게 e만~', '* 수지구청역 4번 출구쪽으로 쭉 내려가 도보 5분거리의 현대그린프라자라는 곳에서 왼쪽으로 꺾어 직진하면 바로 있어요!\\n물건을 꼭 구매안하셔도 좋으니 혹시 주변에 오실 일이 있으시면 들려주셔도 좋아요:)\\n수 PM 23:00 ~ 목 AM 06:00 까지\\n목 PM 17:00 ~ 금 AM 06:00 까지\\n- By 민의점 STAFF로 근무중 -\\n(*간혹 조정하여 다른날도 임시로 근무할때도 있음)']\n",
      "예외가 발생했습니다. Message: no such element: Unable to locate element: {\"method\":\"css selector\",\"selector\":\".se-fs-.se-ff-\"}\n",
      "  (Session info: chrome=85.0.4183.121)\n",
      "\n",
      "예외가 발생했습니다. Message: no such element: Unable to locate element: {\"method\":\"css selector\",\"selector\":\".se-fs-.se-ff-\"}\n",
      "  (Session info: chrome=85.0.4183.121)\n",
      "\n",
      "예외가 발생했습니다. Message: no such element: Unable to locate element: {\"method\":\"css selector\",\"selector\":\".se-fs-.se-ff-\"}\n",
      "  (Session info: chrome=85.0.4183.121)\n",
      "\n",
      "예외가 발생했습니다. Message: no such element: Unable to locate element: {\"method\":\"css selector\",\"selector\":\".se-fs-.se-ff-\"}\n",
      "  (Session info: chrome=85.0.4183.121)\n",
      "\n",
      "예외가 발생했습니다. Message: mainFrame\n",
      "\n",
      "['오늘도 열일 후 점심시간\\n월요일부터 너무 바쁘고..\\n점심 먹기 귀찮아..\\n회사 앞 CU 편의점으로 Go!Go!', '편의점 문을 열고 라면 코너를 보다..\\n오? 정감가는 패키지의 저 라면은 뭐지?\\n오늘도 하나 사봤습니다!\\nCU 편의점 HEYROO\\n 제주 마늘 라면', '현재 3가지 라면에 추가된\\n(치즈맛, 청양고추맛, 속초 홍게맛)\\n제주 마늘 라면\\n이번 신상 라면\\n과연 너는 어떤 맛일지..\\n두근두근..', '하나에 1,500원하는\\n우리 신상 라면님 가격은 양호~\\n칼로리도 470kcal이면\\n보통 라면하고 비슷한거 같아요!\\n뚜껑을 뜯어 내용물을 확인해 보니\\n분말 스프 하나랑..\\n이건 뭐지?\\n참께 라면에 계란 블럭과 같은\\n제주 마늘 블럭이 들어있어요!', '마늘 블럭을 뜯어 냄새를 맡아보니\\n진짜 코를 톡 쏘는\\n일반 마늘 냄새가 나요ㅋㅋㅋ\\n과연 \\n마늘 블럭을 넣은 라면맛은 어떨지..', '일단 약 5분 정도 기다린 후\\n뚜껑 전체 개봉 후 한 입 와구!\\n오!!!\\n강한 마늘 향에 일반 라면보다\\n매콤한 맛이 강한거 같아요!\\n이게 바로 한국인의 맛인가?ㅋㅋㅋ\\n저는 매운맛도 좋아하고\\n마늘, 마늘빵이 저의 최애라~\\n저는 괜찮았던 거 같지만,\\n그래도 마늘을 싫어하는 분이라면\\n호불호가 갈릴거 같아요!', '신상 제주 마늘 라면\\n저는 개인적으로 맛있으니\\n가끔씩 사 먹어야겠어요!\\n강한 마늘 향과 매콤함으로\\n한국인의 맛을 느끼게 해준\\n신상 제주 마늘 라면\\n저의 최애 마늘과 라면의 조합이라\\n너무 좋았습니다!', '최애 마늘이 들어간 라면의 별점은?\\n별점 ★★★☆☆\\n나는 좋지만 다른 사람들도\\n좋아할까? 호불호가 갈릴거 같다..\\n첫 번째 해보는 라면 리뷰\\n만족스러운 라면을 찾아\\n만족스러운 리뷰를 할 수 있어\\n너무 좋았습니다~']\n",
      "['속초 1일차 저녁으로 회를 먹을지 고민을 하다가 \\n사실 계속 주섬주섬 먹었더니 배가 엄청 고프진 않고.... \\n오랜만에 대게가 먹고 싶어 \\n이곳을 찾아오게 되었다~!!! \\n내돈내산 내돈내먹 솔직후기!!!! \\n대게나라 조개마을', '', '속초 해수욕장 근처 카페에 있다가 찾아왔어용 ㅎㅎ \\n근처에 주차할 곳이 많진 않더라고요... ㅠㅠㅠ \\n주차하기 살짝 힘들었어요......', '많은 대게 집 중에서 이곳을 선택한 이유는 \\n금액이 저렴하면서도 딱 확인할 수 있게 \\n표시되어 있어서 선택했어요!!!!!! \\n저희는 대게세트 (2인) 95,000원을 주문했어용 ㅎㅎ \\n대게1kg + 대게라면 + 게장볶음밥 +오징어순대', '가게 내부는 이렇게 좌식 형태로 되어있어요~! \\n테라스 자리도 있었는데 시원하게 먹자고 해서 저희는 \\n내부에 자리를 잡았습니다!!! ', '가족단위 손님이 많았어요 ㅎㅎ \\n저희가 갔을 때는 자리가 2테이블밖에 남지 않았어요! \\n 생각보다 사람이 많았어요~!! ', '먼저 나온 대게라면과 오징어순대 및 기본 반찬들이에요~!! ㅎㅎ \\n라면에 콩나물도 들어가서 국물이 더 시원했어요! >_< \\n대게 먹으면서 대게 라면 국물에 쏘주 한잔 하니 \\n기분이 너무 좋았습니다!!! ', '근데 사실 대게가 들어가긴 했는데 \\n대게 라면 느낌이 크게 나진 않았어요~!! ㅎㅎ \\n그래도 국물이 먼가 좀 더 시원해서 좋았어용 ㅎ ', '', '오징어순대와 기본반찬이에요~!! ㅎㅎ \\n오징어 순대 정말 너무 맛있었어요!!! >_< \\n그리고 분홍소시지 너무 오랜만에 먹어서 좋았어요 ', '', '오 드디어 나온 대게 찜입니다~!!!!! >_< \\n대게찜 나오기까지 시간이 좀 걸렸어요 ㅠㅠㅠ \\n그래도 기다린 보람이 있는 비주얼이었어요!!! ㅎㅎ', '', '크으으 게딱지 볶음밥 진짜 너무 설레네요옹 ㅎㅎ \\n대게찜 정말 오랜만에 먹는 거여서 \\n너무너무 신났어요!!!>_< ', '', '크으으 게딱지 볶음밥이에요~!!!! \\n고소한 참기름 냄새와 김, 날치알도 듬뿍 들어있어\\n정말 너무 맛있었어요!!!! >_< \\n고소하면서도 날치알이 씹히는 식감이 정말 맛있었습니다!', '', '', '사진 찍느라 정신없는 나 ㅎㅎㅎ \\n앞에서 계속 게살 발려줘서 받고 찍고 먹고 했네요~!!! \\n땡큐우우우우 고마워 >_< ', '', '거의 혼자 다 먹은 것 같아요 ㅎㅎㅎ \\n살들이 정말 통통하고 많았어요! \\n정말 너무너무 맛있었어요!!!! >_< \\n행복 ㅎㅎ 해산물은 왜 이렇게 좋은 걸까요? ', '', '사진에 보이실지 모르겠는데 \\n살이 정말 통통하고 많았어요 ㅠㅠㅠ \\n몸통을 딱 깨물었을 때 나오는 살들이 정말 많아서 \\n좋았어요!!! >_< \\n사실 배도 별로 안 고프고 1kg 이어서 그냥 간단하게 먹겠다 싶었는데 \\n나올 때 정말 배불러 죽는 줄 알았어요.... ', '정말 배부르고 맛있게 먹은 저녁이었어요~!! \\n요기는 가게 안에 들어가기 전 테라스 자리에요!! ㅎㅎ \\n저녁이라 선선하니 선풍기만 있어도 \\n시원할 것 같아요!!! ㅎㅎ \\n사장님도 정말 친절하시고, 대게 살도 통통하고 \\n저렴한 가격에 정말 배부르게 먹고 왔습니다 ㅎㅎ \\n다음에 또 속초 가게 된다면 또 찾아가 볼 만한 것 같아요! \\n내돈내먹 솔직후기였습니다!!! >_< ', '#속초맛집 #강원도맛집 #속초해산물 #속초회 #속초대게찜 #속초조개구이 #대게나라조개마을']\n",
      "예외가 발생했습니다. Message: mainFrame\n",
      "\n",
      "['', '안녕하세요:-) 밍이에오~\\n아직 끝나지 않은 휴가포스팅 ㅋㅋㅋㅋ\\n가서 엄청 먹고만 왔나 증멜 \\n(네 , 살이 2kg나 쪘더라구요.....)\\n속초엔 맛있는거 왜 이렇게 많은건지 \\n첫날 저녁으로 뭘 먹을까 하다가 #속초해변에 있는', '방문하게 되었어요 ! \\n속초해변에서 조금만 걸어나오면 있어요 ', '', '쨘!\\n밖에 수조에는 싱싱한 대게가 살아있어요', '엄청 크죠 ?\\n먹을 때는 맛있어 보이는데 , 살아있는거 보니까 쫌 무서웠다능 ...', '', '실내로 들어가면 테이블자리랑 좌식테이블로 나뉘어져있어서\\n편하신쪽으로 앉으면됩니다 :)\\n맛있는 녀석들 나온 곳이라 그런지 곳곳에 포스터가 붙어있어요', '메뉴판 ', '홍게랑 대게가 있는데 홍게는 9월쯤부터 나온다고 해서 \\n제가 갔을땐 (7월) 대게만 있다고 해서 대게를 주문했어요\\n저희 커플은 둘다 입이 짧아서 대게 소자리를 주문했는데\\n보통 중짜리 주문해서 드신다고 하시니까 참고하세용 ~', '기본 반찬 세팅 \\n다양한 해산물이랑 물회 콘치즈 파전 생선까스 연어 등등이 나와요\\n기본세팅자체도 너무 맛있다능  저기 만두가 생각보다 쫄깃쫄깃했어요 ㅋㅋㅋㅋ', '', '', '회도 엄청 싱싱하더라구요 차가운돌에 올려주셔서 시원하고 싱싱하게 먹을 수 있었어요 :)\\n이것저것 먹고 있다보면 잠시 뒤 메인요리인 \\n! 대게등장 !', '', '속에 살 꽉 찬거 보이시죠? \\n빼먹기 쉽게 가져다 주셔서 편하게 먹을 수 있어요', '탱글탱글하니 식감이 아주 좋았어요 \\n글쓰면서 또 먹고싶네...', '', '찐으로 먹을 줄 아는 자!\\n내장에 콕 찍어먹으면 얼마나 고소한지 ', '', '저는 김이랑 날치알에 싸서 먹어도 봤는데요 \\n이거 원픽이에요 진짜 짱 \\n어느정도 대게를 먹으면 사장님이 오셔서\\n대게 볶음밥이랑 대게라면을 해주세요 \\n(코스로 시키면 추가비용 없이 즐길 수 있어요 / 볶음밥 라면 두가지 다나와요)', '볶음밥 너무 고소하고 맛있더라구요 :)\\n라면은 얼큰하니 개운하게 먹을 수 있어서 굿 ! ', '정말 숟가락과 젓가락질이 멈출 수 없는 맛 ! \\n이러니 살이 그렇게 쪄왔지....', '전반적으로 기본세팅도 너무 잘나왔고 ,\\n대게도 비린맛 없이 싱싱하고 탱글한 식감이 좋았어요 :)\\n그리고 김이랑 날치알이랑 대게 이렇게 싸먹는거 강추 ! \\n가족단위 커플끼리 어느 누구랑 와도 \\n좋을 맛집 ! \\n다들 속초가셔서 한번씩 드시고 오세요 ~\\n(주의! 다소 살이 쪄서 올수있음 ㅋㅋㅋㅋㅋ)', '★ 고성 스파 오션뷰 루프탑 펜션 추천 ★', \"★ 속초 물회+오징어순대 맛집 '청초수물회'★\", '']\n",
      "예외가 발생했습니다. Message: no such element: Unable to locate element: {\"method\":\"css selector\",\"selector\":\".se-fs-.se-ff-\"}\n",
      "  (Session info: chrome=85.0.4183.121)\n",
      "\n",
      "예외가 발생했습니다. Message: mainFrame\n",
      "\n",
      "예외가 발생했습니다. Message: no such element: Unable to locate element: {\"method\":\"css selector\",\"selector\":\".se-fs-.se-ff-\"}\n",
      "  (Session info: chrome=85.0.4183.121)\n",
      "\n",
      "['#내돈내먹 #솔직후기\\nCU에서는 HEYROO라는 \\nBGF리테일 자체 브랜드로\\n상품을 잘 출시하는 것 같다.\\n이번에 이 신상라면 말고도\\n속초홍게라면...청양고추라면...등등 \\n몇 개 더 있었던거 같은데 \\n사실 걔네들이 그렇게 맛있었던 기억은 아니라서\\n이것도 그닥 기대는 안했다.\\n암튼 이번에 새로 나온 라면은 \\n제주마늘라면', '이렇게 생겼다.', '뭐 그렇다고 한다...', '성분들...', '조리방법과 영양정보 !!\\n조리방법은 간단\\n칼로리는 470kcal', '밑에 이렇게 귀여운 문구가...♡', '다들 마스크 꼭 끼고 조심조심!\\n건강 잘 챙깁시다~~~', '', '뚜껑을 열어보면 \\n분말스프랑 \\n마늘블럭이 들어있다.\\n이게 다른 라면과의 차이점!!', '물을 붓고 4분 후면\\n마늘 블럭이 저렇게 풀어진다.', '면발샷', '후루룩후루룩 먹어주었다.', '제주마늘라면의 후기는 \\n생각보다 맛있어...><\\n국물이 너무 시원하고 내 스타일이라\\n한입 먹고 띠용? 했다는 이야기.\\n그리고 마늘 존재감 뿜뿜!!!\\n마늘 맛 은근 진짜 많이 나서 굿굿\\n언젠가 생각나면 또 사먹을 것 같다~~', '대존맛!! 이건 아니지만\\n오늘따라 먹던거 말고 \\n다른 라면이 먹어보고 싶다? \\n이럴 때 추천!!!\\n#CU\\n#CU신상\\n#CU추천\\n#CU라면\\n#HEYROO라면\\n#라면추천\\n#제주마늘라면\\n#라면후기\\n#라면리뷰\\n#마늘']\n",
      "예외가 발생했습니다. Message: no such element: Unable to locate element: {\"method\":\"css selector\",\"selector\":\".se-fs-.se-ff-\"}\n",
      "  (Session info: chrome=85.0.4183.121)\n",
      "\n",
      "예외가 발생했습니다. Message: no such element: Unable to locate element: {\"method\":\"css selector\",\"selector\":\".se-fs-.se-ff-\"}\n",
      "  (Session info: chrome=85.0.4183.121)\n",
      "\n",
      "예외가 발생했습니다. Message: no such element: Unable to locate element: {\"method\":\"css selector\",\"selector\":\".se-fs-.se-ff-\"}\n",
      "  (Session info: chrome=85.0.4183.121)\n",
      "\n",
      "예외가 발생했습니다. Message: no such element: Unable to locate element: {\"method\":\"css selector\",\"selector\":\".se-fs-.se-ff-\"}\n",
      "  (Session info: chrome=85.0.4183.121)\n",
      "\n",
      "예외가 발생했습니다. Message: no such element: Unable to locate element: {\"method\":\"css selector\",\"selector\":\".se-fs-.se-ff-\"}\n",
      "  (Session info: chrome=85.0.4183.121)\n",
      "\n",
      "예외가 발생했습니다. Message: no such element: Unable to locate element: {\"method\":\"css selector\",\"selector\":\".se-fs-.se-ff-\"}\n",
      "  (Session info: chrome=85.0.4183.121)\n",
      "\n",
      "\n"
     ]
    }
   ],
   "source": [
    "dict = []\n",
    "\n",
    "number5 = 100\n",
    "for i in tqdm(range(80, number5)):\n",
    "    \n",
    "    url = url_load['url'][i]\n",
    "    driver = webdriver.Chrome(r\"C:\\Users\\ASIA_08\\chromedriver.exe\")\n",
    "    driver.get(url)\n",
    "\n",
    "    try:\n",
    "        driver.switch_to_frame('mainFrame')\n",
    "        \n",
    "        target_info = {}\n",
    "        \n",
    "        overlays = \".se-fs-.se-ff-\"\n",
    "        tit = driver.find_element_by_css_selector(overlays)\n",
    "        title = tit.text\n",
    "        title\n",
    "        \n",
    "        overlays = \".se_publishDate.pcol2\"\n",
    "        date = driver.find_element_by_css_selector(overlays)\n",
    "        date_n_time= date.text\n",
    "        \n",
    "        overlays = \".se-component.se-text.se-l-default\"\n",
    "        contents = driver.find_elements_by_css_selector(overlays)\n",
    "        \n",
    "        content_list = []\n",
    "        for content in contents:\n",
    "            content_list.append(content.text)\n",
    "        \n",
    "        content_str = ' '.join(content_list)\n",
    "\n",
    "        print(content_list)\n",
    "        \n",
    "        target_info['title'] = title\n",
    "        target_info['datetime'] = date_n_time\n",
    "        target_info['content'] = content_str\n",
    "        \n",
    "    except Exception as e:    # 모든 예외의 에러 메시지를 출력할 때는 Exception을 사용\n",
    "        print('예외가 발생했습니다.', e)\n",
    "        \n",
    "    dict.append( target_info)\n",
    "    time.sleep(1)\n",
    "\n",
    "result_df6 =pd.DataFrame(data=dict)\n",
    "#time.sleep(3)\n",
    "        "
   ]
  },
  {
   "cell_type": "code",
   "execution_count": 38,
   "metadata": {},
   "outputs": [],
   "source": [
    "blogr = pd.concat([result_df2, result_df3, result_df4, result_df5, result_df6], ignore_index=False)\n",
    "blogr = blogr.reset_index(drop=True)"
   ]
  },
  {
   "cell_type": "code",
   "execution_count": 43,
   "metadata": {},
   "outputs": [],
   "source": [
    "blogr = blogr.dropna()\n",
    "blogr = blogr.reset_index(drop=True) "
   ]
  },
  {
   "cell_type": "code",
   "execution_count": 44,
   "metadata": {},
   "outputs": [
    {
     "data": {
      "text/html": [
       "<div>\n",
       "<style scoped>\n",
       "    .dataframe tbody tr th:only-of-type {\n",
       "        vertical-align: middle;\n",
       "    }\n",
       "\n",
       "    .dataframe tbody tr th {\n",
       "        vertical-align: top;\n",
       "    }\n",
       "\n",
       "    .dataframe thead th {\n",
       "        text-align: right;\n",
       "    }\n",
       "</style>\n",
       "<table border=\"1\" class=\"dataframe\">\n",
       "  <thead>\n",
       "    <tr style=\"text-align: right;\">\n",
       "      <th></th>\n",
       "      <th>title</th>\n",
       "      <th>datetime</th>\n",
       "      <th>content</th>\n",
       "    </tr>\n",
       "  </thead>\n",
       "  <tbody>\n",
       "    <tr>\n",
       "      <th>27</th>\n",
       "      <td>오늘도 열일 후 점심시간</td>\n",
       "      <td>2020. 9. 1. 9:26</td>\n",
       "      <td>오늘도 열일 후 점심시간\\n월요일부터 너무 바쁘고..\\n점심 먹기 귀찮아..\\n회사...</td>\n",
       "    </tr>\n",
       "    <tr>\n",
       "      <th>28</th>\n",
       "      <td>[속초맛집] 저렴한 홍게, 대게 맛집 대게나라 조개마을 내돈내먹 솔직후기!!</td>\n",
       "      <td>2020. 8. 20. 11:16</td>\n",
       "      <td>속초 1일차 저녁으로 회를 먹을지 고민을 하다가 \\n사실 계속 주섬주섬 먹었더니 배...</td>\n",
       "    </tr>\n",
       "    <tr>\n",
       "      <th>29</th>\n",
       "      <td>[속초맛집] 저렴한 홍게, 대게 맛집 대게나라 조개마을 내돈내먹 솔직후기!!</td>\n",
       "      <td>2020. 8. 20. 11:16</td>\n",
       "      <td>속초 1일차 저녁으로 회를 먹을지 고민을 하다가 \\n사실 계속 주섬주섬 먹었더니 배...</td>\n",
       "    </tr>\n",
       "    <tr>\n",
       "      <th>30</th>\n",
       "      <td></td>\n",
       "      <td>2020. 7. 30. 12:36</td>\n",
       "      <td>안녕하세요:-) 밍이에오~\\n아직 끝나지 않은 휴가포스팅 ㅋㅋㅋㅋ\\n가서 엄청 먹...</td>\n",
       "    </tr>\n",
       "    <tr>\n",
       "      <th>31</th>\n",
       "      <td>CU / 제주마늘라면 : 국물 괜찮네~ 마늘 맛이 굿!</td>\n",
       "      <td>2020. 9. 11. 16:22</td>\n",
       "      <td>#내돈내먹 #솔직후기\\nCU에서는 HEYROO라는 \\nBGF리테일 자체 브랜드로\\n...</td>\n",
       "    </tr>\n",
       "  </tbody>\n",
       "</table>\n",
       "</div>"
      ],
      "text/plain": [
       "                                          title            datetime  \\\n",
       "27                                오늘도 열일 후 점심시간    2020. 9. 1. 9:26   \n",
       "28  [속초맛집] 저렴한 홍게, 대게 맛집 대게나라 조개마을 내돈내먹 솔직후기!!   2020. 8. 20. 11:16   \n",
       "29  [속초맛집] 저렴한 홍게, 대게 맛집 대게나라 조개마을 내돈내먹 솔직후기!!   2020. 8. 20. 11:16   \n",
       "30                                               2020. 7. 30. 12:36   \n",
       "31               CU / 제주마늘라면 : 국물 괜찮네~ 마늘 맛이 굿!  2020. 9. 11. 16:22   \n",
       "\n",
       "                                              content  \n",
       "27  오늘도 열일 후 점심시간\\n월요일부터 너무 바쁘고..\\n점심 먹기 귀찮아..\\n회사...  \n",
       "28  속초 1일차 저녁으로 회를 먹을지 고민을 하다가 \\n사실 계속 주섬주섬 먹었더니 배...  \n",
       "29  속초 1일차 저녁으로 회를 먹을지 고민을 하다가 \\n사실 계속 주섬주섬 먹었더니 배...  \n",
       "30   안녕하세요:-) 밍이에오~\\n아직 끝나지 않은 휴가포스팅 ㅋㅋㅋㅋ\\n가서 엄청 먹...  \n",
       "31  #내돈내먹 #솔직후기\\nCU에서는 HEYROO라는 \\nBGF리테일 자체 브랜드로\\n...  "
      ]
     },
     "execution_count": 44,
     "metadata": {},
     "output_type": "execute_result"
    }
   ],
   "source": [
    "blogr.tail()"
   ]
  },
  {
   "cell_type": "code",
   "execution_count": 45,
   "metadata": {},
   "outputs": [],
   "source": [
    "blogr.to_excel(\"C:/Users/ASIA_08/blog_CU홍게라면최종.xlsx\")"
   ]
  },
  {
   "cell_type": "code",
   "execution_count": null,
   "metadata": {},
   "outputs": [],
   "source": []
  },
  {
   "cell_type": "code",
   "execution_count": null,
   "metadata": {},
   "outputs": [],
   "source": []
  }
 ],
 "metadata": {
  "kernelspec": {
   "display_name": "Python 3",
   "language": "python",
   "name": "python3"
  },
  "language_info": {
   "codemirror_mode": {
    "name": "ipython",
    "version": 3
   },
   "file_extension": ".py",
   "mimetype": "text/x-python",
   "name": "python",
   "nbconvert_exporter": "python",
   "pygments_lexer": "ipython3",
   "version": "3.8.3"
  }
 },
 "nbformat": 4,
 "nbformat_minor": 4
}
