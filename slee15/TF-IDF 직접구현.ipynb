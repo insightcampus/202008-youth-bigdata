{
 "cells": [
  {
   "cell_type": "markdown",
   "metadata": {},
   "source": [
    "1. TF (Term Frequency) --> 특정단어빈도수 / 전체단어수\n",
    "2. IDF (TF의 역수) --> 문서등장빈도수의 역수 \n",
    "3. TF X IDF"
   ]
  },
  {
   "cell_type": "code",
   "execution_count": 67,
   "metadata": {},
   "outputs": [],
   "source": [
    "docs = ['오늘 동물원에서 코끼리와 동물원을 봤어', '동물원에서 원숭이에게 바나나를 줬어 바나나를']"
   ]
  },
  {
   "cell_type": "code",
   "execution_count": 68,
   "metadata": {},
   "outputs": [
    {
     "data": {
      "text/plain": [
       "[['오늘', '동물원에서', '코끼리와', '동물원을', '봤어'],\n",
       " ['동물원에서', '원숭이에게', '바나나를', '줬어', '바나나를']]"
      ]
     },
     "execution_count": 68,
     "metadata": {},
     "output_type": "execute_result"
    }
   ],
   "source": [
    "doc_ls = []\n",
    "for doc in docs: \n",
    "    doc_ls.append(doc.split())\n",
    "doc_ls"
   ]
  },
  {
   "cell_type": "markdown",
   "metadata": {},
   "source": [
    "### TF "
   ]
  },
  {
   "cell_type": "code",
   "execution_count": 69,
   "metadata": {},
   "outputs": [
    {
     "data": {
      "text/plain": [
       "defaultdict(<function __main__.<lambda>()>, {})"
      ]
     },
     "execution_count": 69,
     "metadata": {},
     "output_type": "execute_result"
    }
   ],
   "source": [
    "from collections import defaultdict \n",
    "word_dic = defaultdict(lambda: len(word_dic))\n",
    "word_dic"
   ]
  },
  {
   "cell_type": "code",
   "execution_count": 70,
   "metadata": {},
   "outputs": [
    {
     "data": {
      "text/plain": [
       "defaultdict(<function __main__.<lambda>()>,\n",
       "            {'오늘': 0,\n",
       "             '동물원에서': 1,\n",
       "             '코끼리와': 2,\n",
       "             '동물원을': 3,\n",
       "             '봤어': 4,\n",
       "             '원숭이에게': 5,\n",
       "             '바나나를': 6,\n",
       "             '줬어': 7})"
      ]
     },
     "execution_count": 70,
     "metadata": {},
     "output_type": "execute_result"
    }
   ],
   "source": [
    "for doc in doc_ls:\n",
    "    for token in doc: \n",
    "        word_dic[token]\n",
    "word_dic"
   ]
  },
  {
   "cell_type": "code",
   "execution_count": 71,
   "metadata": {},
   "outputs": [
    {
     "name": "stdout",
     "output_type": "stream",
     "text": [
      "[[0 0 0 0 0 0 0 0]\n",
      " [0 0 0 0 0 0 0 0]]\n"
     ]
    },
    {
     "data": {
      "text/plain": [
       "array([[1, 1, 1, 1, 1, 0, 0, 0],\n",
       "       [0, 1, 0, 0, 0, 1, 2, 1]])"
      ]
     },
     "execution_count": 71,
     "metadata": {},
     "output_type": "execute_result"
    }
   ],
   "source": [
    "import numpy as np\n",
    "TDM = np.zeros((len(doc_ls), len(word_dic)), dtype = int)\n",
    "print(TDM)\n",
    "for i, doc in enumerate(doc_ls): \n",
    "    for token in doc:\n",
    "        TDM[i, word_dic[token] ] += 1 # 해당 토큰의 위치\n",
    "TDM # 행렬로 표시됨 "
   ]
  },
  {
   "cell_type": "code",
   "execution_count": 72,
   "metadata": {},
   "outputs": [
    {
     "data": {
      "text/plain": [
       "5"
      ]
     },
     "execution_count": 72,
     "metadata": {},
     "output_type": "execute_result"
    }
   ],
   "source": [
    "TDM[0].sum()"
   ]
  },
  {
   "cell_type": "code",
   "execution_count": 73,
   "metadata": {},
   "outputs": [],
   "source": [
    "def computeTF(TDM): \n",
    "    doc_len = len(TDM) # 문서 갯수 2개 \n",
    "    word_len = len(TDM[0]) # 토큰의 갯수 8개 --> 개수 구하려면 len() 이용, not count()\n",
    "    #tf를 계산하기 전 0으로 셋팅 \n",
    "    tf = np.zeros((doc_len, word_len))\n",
    "    #print(tf)\n",
    "    #TF 계산 특정단어등장빈도/문서내 전체등장단어빈도 \n",
    "    for doc_i in range(doc_len) :\n",
    "        for word_i in range(word_len) :\n",
    "            tf[doc_i, word_i] = TDM[doc_i, word_i] / TDM[doc_i].sum() ##다시 이해필요\n",
    "    return tf"
   ]
  },
  {
   "cell_type": "markdown",
   "metadata": {},
   "source": [
    "### IDF"
   ]
  },
  {
   "cell_type": "code",
   "execution_count": 75,
   "metadata": {},
   "outputs": [],
   "source": [
    "import math \n",
    "#IDF 계산 : log(총문서수 / 단어가 등장한 문서수)\n",
    "def computeIDF(TDM) : \n",
    "    doc_len = len(TDM)\n",
    "    word_len = len(TDM[0])\n",
    "    \n",
    "    idf = np.zeros(word_len)\n",
    "    \n",
    "    for i in range(word_len):\n",
    "        idf[i] = math.log10(doc_len / np.count_nonzero(TDM[ :, i]))    #이 부분 설명 다시 필요! \n",
    "    return idf"
   ]
  },
  {
   "cell_type": "code",
   "execution_count": 76,
   "metadata": {},
   "outputs": [
    {
     "data": {
      "text/plain": [
       "array([0.30103, 0.     , 0.30103, 0.30103, 0.30103, 0.30103, 0.30103,\n",
       "       0.30103])"
      ]
     },
     "execution_count": 76,
     "metadata": {},
     "output_type": "execute_result"
    }
   ],
   "source": [
    "computeIDF(TDM)"
   ]
  },
  {
   "cell_type": "markdown",
   "metadata": {},
   "source": [
    "### TF X IDF "
   ]
  },
  {
   "cell_type": "code",
   "execution_count": 83,
   "metadata": {},
   "outputs": [],
   "source": [
    "def computeTFIDF(TDM):\n",
    "    tf = computeTF(TDM)\n",
    "    idf = computeIDF(TDM)\n",
    "    tfidf = np.zeros(tf.shape)\n",
    "    for doc_i in range(tf.shape[0]) : \n",
    "        for word_i in range(tf.shape[1]):\n",
    "            tfidf[doc_i, word_i] = tf[doc_i, word_i] * idf[word_i]\n",
    "    return tfidf"
   ]
  },
  {
   "cell_type": "code",
   "execution_count": 84,
   "metadata": {},
   "outputs": [
    {
     "data": {
      "text/plain": [
       "array([[0.060206, 0.      , 0.060206, 0.060206, 0.060206, 0.      ,\n",
       "        0.      , 0.      ],\n",
       "       [0.      , 0.      , 0.      , 0.      , 0.      , 0.060206,\n",
       "        0.120412, 0.060206]])"
      ]
     },
     "execution_count": 84,
     "metadata": {},
     "output_type": "execute_result"
    }
   ],
   "source": [
    "computeTFIDF(TDM)"
   ]
  },
  {
   "cell_type": "code",
   "execution_count": null,
   "metadata": {},
   "outputs": [],
   "source": []
  },
  {
   "cell_type": "code",
   "execution_count": 85,
   "metadata": {},
   "outputs": [
    {
     "name": "stdout",
     "output_type": "stream",
     "text": [
      "[(0, '오늘'), (1, '동물원에서'), (2, '코끼리와'), (3, '동물원을'), (4, '봤어'), (5, '원숭이에게'), (6, '바나나를'), (7, '줬어')]\n",
      "['오늘', '동물원에서', '코끼리와', '동물원을', '봤어', '원숭이에게', '바나나를', '줬어']\n"
     ]
    },
    {
     "data": {
      "text/html": [
       "<div>\n",
       "<style scoped>\n",
       "    .dataframe tbody tr th:only-of-type {\n",
       "        vertical-align: middle;\n",
       "    }\n",
       "\n",
       "    .dataframe tbody tr th {\n",
       "        vertical-align: top;\n",
       "    }\n",
       "\n",
       "    .dataframe thead th {\n",
       "        text-align: right;\n",
       "    }\n",
       "</style>\n",
       "<table border=\"1\" class=\"dataframe\">\n",
       "  <thead>\n",
       "    <tr style=\"text-align: right;\">\n",
       "      <th></th>\n",
       "      <th>오늘</th>\n",
       "      <th>동물원에서</th>\n",
       "      <th>코끼리와</th>\n",
       "      <th>동물원을</th>\n",
       "      <th>봤어</th>\n",
       "      <th>원숭이에게</th>\n",
       "      <th>바나나를</th>\n",
       "      <th>줬어</th>\n",
       "    </tr>\n",
       "  </thead>\n",
       "  <tbody>\n",
       "    <tr>\n",
       "      <th>0</th>\n",
       "      <td>0.060206</td>\n",
       "      <td>0.0</td>\n",
       "      <td>0.060206</td>\n",
       "      <td>0.060206</td>\n",
       "      <td>0.060206</td>\n",
       "      <td>0.000000</td>\n",
       "      <td>0.000000</td>\n",
       "      <td>0.000000</td>\n",
       "    </tr>\n",
       "    <tr>\n",
       "      <th>1</th>\n",
       "      <td>0.000000</td>\n",
       "      <td>0.0</td>\n",
       "      <td>0.000000</td>\n",
       "      <td>0.000000</td>\n",
       "      <td>0.000000</td>\n",
       "      <td>0.060206</td>\n",
       "      <td>0.120412</td>\n",
       "      <td>0.060206</td>\n",
       "    </tr>\n",
       "  </tbody>\n",
       "</table>\n",
       "</div>"
      ],
      "text/plain": [
       "         오늘  동물원에서      코끼리와      동물원을        봤어     원숭이에게      바나나를        줬어\n",
       "0  0.060206    0.0  0.060206  0.060206  0.060206  0.000000  0.000000  0.000000\n",
       "1  0.000000    0.0  0.000000  0.000000  0.000000  0.060206  0.120412  0.060206"
      ]
     },
     "execution_count": 85,
     "metadata": {},
     "output_type": "execute_result"
    }
   ],
   "source": [
    "import pandas as pd \n",
    "sorted_vocab = sorted((value, key) for key, value in word_dic.items())\n",
    "print(sorted_vocab)\n",
    "vocab = [v[1] for v in sorted_vocab]\n",
    "print(vocab)\n",
    "tfidf = computeTFIDF(TDM)\n",
    "pd.DataFrame(tfidf, columns = vocab)"
   ]
  },
  {
   "cell_type": "code",
   "execution_count": null,
   "metadata": {},
   "outputs": [],
   "source": []
  },
  {
   "cell_type": "code",
   "execution_count": null,
   "metadata": {},
   "outputs": [],
   "source": []
  },
  {
   "cell_type": "markdown",
   "metadata": {},
   "source": [
    "## sklearn"
   ]
  },
  {
   "cell_type": "code",
   "execution_count": 87,
   "metadata": {},
   "outputs": [],
   "source": [
    "docs = ['오늘 동물원에서 코끼리와 동물원을 봤어', '동물원에서 원숭이에게 바나나를 줬어 바나나를']"
   ]
  },
  {
   "cell_type": "code",
   "execution_count": 89,
   "metadata": {},
   "outputs": [],
   "source": [
    "from sklearn.feature_extraction.text import TfidfVectorizer\n",
    "tfidv = TfidfVectorizer()\n",
    "tfidv = tfidv.fit(docs)\n",
    "tfidv.transform(docs).toarray()\n",
    "vocab = tfidv.get_feature_names()"
   ]
  },
  {
   "cell_type": "code",
   "execution_count": 90,
   "metadata": {},
   "outputs": [
    {
     "data": {
      "text/plain": [
       "['동물원에서', '동물원을', '바나나를', '봤어', '오늘', '원숭이에게', '줬어', '코끼리와']"
      ]
     },
     "execution_count": 90,
     "metadata": {},
     "output_type": "execute_result"
    }
   ],
   "source": [
    "vocab"
   ]
  },
  {
   "cell_type": "code",
   "execution_count": 92,
   "metadata": {},
   "outputs": [
    {
     "data": {
      "text/plain": [
       "array([0.33517574, 0.47107781, 0.        , 0.47107781, 0.47107781,\n",
       "       0.        , 0.        , 0.47107781])"
      ]
     },
     "execution_count": 92,
     "metadata": {},
     "output_type": "execute_result"
    }
   ],
   "source": [
    "tfidv.transform(docs).toarray()[0]"
   ]
  },
  {
   "cell_type": "code",
   "execution_count": 93,
   "metadata": {},
   "outputs": [
    {
     "data": {
      "text/html": [
       "<div>\n",
       "<style scoped>\n",
       "    .dataframe tbody tr th:only-of-type {\n",
       "        vertical-align: middle;\n",
       "    }\n",
       "\n",
       "    .dataframe tbody tr th {\n",
       "        vertical-align: top;\n",
       "    }\n",
       "\n",
       "    .dataframe thead th {\n",
       "        text-align: right;\n",
       "    }\n",
       "</style>\n",
       "<table border=\"1\" class=\"dataframe\">\n",
       "  <thead>\n",
       "    <tr style=\"text-align: right;\">\n",
       "      <th></th>\n",
       "      <th>동물원에서</th>\n",
       "      <th>동물원을</th>\n",
       "      <th>바나나를</th>\n",
       "      <th>봤어</th>\n",
       "      <th>오늘</th>\n",
       "      <th>원숭이에게</th>\n",
       "      <th>줬어</th>\n",
       "      <th>코끼리와</th>\n",
       "    </tr>\n",
       "  </thead>\n",
       "  <tbody>\n",
       "    <tr>\n",
       "      <th>0</th>\n",
       "      <td>0.335176</td>\n",
       "      <td>0.471078</td>\n",
       "      <td>0.000000</td>\n",
       "      <td>0.471078</td>\n",
       "      <td>0.471078</td>\n",
       "      <td>0.000000</td>\n",
       "      <td>0.000000</td>\n",
       "      <td>0.471078</td>\n",
       "    </tr>\n",
       "    <tr>\n",
       "      <th>1</th>\n",
       "      <td>0.278943</td>\n",
       "      <td>0.000000</td>\n",
       "      <td>0.784088</td>\n",
       "      <td>0.000000</td>\n",
       "      <td>0.000000</td>\n",
       "      <td>0.392044</td>\n",
       "      <td>0.392044</td>\n",
       "      <td>0.000000</td>\n",
       "    </tr>\n",
       "  </tbody>\n",
       "</table>\n",
       "</div>"
      ],
      "text/plain": [
       "      동물원에서      동물원을      바나나를        봤어        오늘     원숭이에게        줬어  \\\n",
       "0  0.335176  0.471078  0.000000  0.471078  0.471078  0.000000  0.000000   \n",
       "1  0.278943  0.000000  0.784088  0.000000  0.000000  0.392044  0.392044   \n",
       "\n",
       "       코끼리와  \n",
       "0  0.471078  \n",
       "1  0.000000  "
      ]
     },
     "execution_count": 93,
     "metadata": {},
     "output_type": "execute_result"
    }
   ],
   "source": [
    "import pandas as pd \n",
    "df = pd.DataFrame(tfidv.transform(docs).toarray(), columns = vocab)\n",
    "df"
   ]
  },
  {
   "cell_type": "code",
   "execution_count": null,
   "metadata": {},
   "outputs": [],
   "source": []
  },
  {
   "cell_type": "code",
   "execution_count": null,
   "metadata": {},
   "outputs": [],
   "source": []
  },
  {
   "cell_type": "code",
   "execution_count": null,
   "metadata": {},
   "outputs": [],
   "source": []
  },
  {
   "cell_type": "markdown",
   "metadata": {},
   "source": [
    "## gensim"
   ]
  },
  {
   "cell_type": "code",
   "execution_count": 63,
   "metadata": {},
   "outputs": [],
   "source": [
    "docs = ['오늘 동물원에서 원숭이와 코끼리를 봤어', '동물원에서 원숭이에게 바나나를 줬어 바나나를']"
   ]
  },
  {
   "cell_type": "code",
   "execution_count": 64,
   "metadata": {},
   "outputs": [
    {
     "data": {
      "text/plain": [
       "[(1, 0.5), (2, 0.5), (3, 0.5), (4, 0.5)]"
      ]
     },
     "execution_count": 64,
     "metadata": {},
     "output_type": "execute_result"
    }
   ],
   "source": [
    "import gensim \n",
    "from gensim import corpora \n",
    "from gensim.models import TfidfModel\n",
    "\n",
    "docs_ls = [doc.split() for doc in docs] # 공백으로 토큰화 \n",
    "id2word = corpora.Dictionary(doc_ls)\n",
    "TDM = [id2word.doc2bow(doc) for doc in doc_ls]\n",
    "model = TfidfModel(TDM)\n",
    "tfidf = model[TDM]\n",
    "tfidf[0]"
   ]
  },
  {
   "cell_type": "code",
   "execution_count": 65,
   "metadata": {},
   "outputs": [
    {
     "data": {
      "text/html": [
       "<div>\n",
       "<style scoped>\n",
       "    .dataframe tbody tr th:only-of-type {\n",
       "        vertical-align: middle;\n",
       "    }\n",
       "\n",
       "    .dataframe tbody tr th {\n",
       "        vertical-align: top;\n",
       "    }\n",
       "\n",
       "    .dataframe thead th {\n",
       "        text-align: right;\n",
       "    }\n",
       "</style>\n",
       "<table border=\"1\" class=\"dataframe\">\n",
       "  <thead>\n",
       "    <tr style=\"text-align: right;\">\n",
       "      <th></th>\n",
       "      <th>동물원에서</th>\n",
       "      <th>동물원을</th>\n",
       "      <th>봤어</th>\n",
       "      <th>오늘</th>\n",
       "      <th>코끼리와</th>\n",
       "      <th>바나나를</th>\n",
       "      <th>원숭이에게</th>\n",
       "      <th>줬어</th>\n",
       "    </tr>\n",
       "  </thead>\n",
       "  <tbody>\n",
       "    <tr>\n",
       "      <th>0</th>\n",
       "      <td>0.0</td>\n",
       "      <td>0.5</td>\n",
       "      <td>0.5</td>\n",
       "      <td>0.5</td>\n",
       "      <td>0.5</td>\n",
       "      <td>0.000000</td>\n",
       "      <td>0.000000</td>\n",
       "      <td>0.000000</td>\n",
       "    </tr>\n",
       "    <tr>\n",
       "      <th>1</th>\n",
       "      <td>0.0</td>\n",
       "      <td>0.0</td>\n",
       "      <td>0.0</td>\n",
       "      <td>0.0</td>\n",
       "      <td>0.0</td>\n",
       "      <td>0.816497</td>\n",
       "      <td>0.408248</td>\n",
       "      <td>0.408248</td>\n",
       "    </tr>\n",
       "  </tbody>\n",
       "</table>\n",
       "</div>"
      ],
      "text/plain": [
       "   동물원에서  동물원을   봤어   오늘  코끼리와      바나나를     원숭이에게        줬어\n",
       "0    0.0   0.5  0.5  0.5   0.5  0.000000  0.000000  0.000000\n",
       "1    0.0   0.0  0.0  0.0   0.0  0.816497  0.408248  0.408248"
      ]
     },
     "execution_count": 65,
     "metadata": {},
     "output_type": "execute_result"
    }
   ],
   "source": [
    "import pandas as pd \n",
    "from gensim.matutils import sparse2full\n",
    "\n",
    "vocab = [id2word[i] for i in id2word.keys()]\n",
    "TDM_matrix = [sparse2full(doc, len(vocab)).tolist( ) for doc in tfidf]\n",
    "pd.DataFrame(TDM_matrix, columns=vocab)"
   ]
  },
  {
   "cell_type": "code",
   "execution_count": 66,
   "metadata": {},
   "outputs": [
    {
     "data": {
      "text/plain": [
       "[(5, 0.8164965809277261), (6, 0.4082482904638631), (7, 0.4082482904638631)]"
      ]
     },
     "execution_count": 66,
     "metadata": {},
     "output_type": "execute_result"
    }
   ],
   "source": [
    "tfidf[1]"
   ]
  },
  {
   "cell_type": "code",
   "execution_count": null,
   "metadata": {},
   "outputs": [],
   "source": []
  },
  {
   "cell_type": "code",
   "execution_count": null,
   "metadata": {},
   "outputs": [],
   "source": []
  },
  {
   "cell_type": "code",
   "execution_count": null,
   "metadata": {},
   "outputs": [],
   "source": []
  },
  {
   "cell_type": "code",
   "execution_count": null,
   "metadata": {},
   "outputs": [],
   "source": []
  },
  {
   "cell_type": "code",
   "execution_count": null,
   "metadata": {},
   "outputs": [],
   "source": []
  },
  {
   "cell_type": "code",
   "execution_count": null,
   "metadata": {},
   "outputs": [],
   "source": []
  }
 ],
 "metadata": {
  "kernelspec": {
   "display_name": "Python 3",
   "language": "python",
   "name": "python3"
  },
  "language_info": {
   "codemirror_mode": {
    "name": "ipython",
    "version": 3
   },
   "file_extension": ".py",
   "mimetype": "text/x-python",
   "name": "python",
   "nbconvert_exporter": "python",
   "pygments_lexer": "ipython3",
   "version": "3.6.10"
  }
 },
 "nbformat": 4,
 "nbformat_minor": 4
}
