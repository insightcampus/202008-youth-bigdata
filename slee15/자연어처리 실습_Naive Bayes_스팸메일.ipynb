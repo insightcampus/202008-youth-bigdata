{
 "cells": [
  {
   "cell_type": "markdown",
   "metadata": {},
   "source": [
    "## Naive Bayes Practice"
   ]
  },
  {
   "cell_type": "markdown",
   "metadata": {},
   "source": [
    "### 직접 구현 \n",
    "* 긍정(1), 부정(0)\n",
    "* 새로운 메일이 왔는데 'happy weekend'가 포함되어 있을 경우, 이 메일은 긍정인가, 부정인가 ? "
   ]
  },
  {
   "cell_type": "code",
   "execution_count": null,
   "metadata": {},
   "outputs": [],
   "source": [
    "# 토큰화 \n",
    "# 띄어쓰기로 분리 \n",
    "# unique한 단어처리 \n",
    "# Laplace smoothing VS underflow "
   ]
  },
  {
   "cell_type": "code",
   "execution_count": 1,
   "metadata": {},
   "outputs": [
    {
     "data": {
      "text/html": [
       "<div>\n",
       "<style scoped>\n",
       "    .dataframe tbody tr th:only-of-type {\n",
       "        vertical-align: middle;\n",
       "    }\n",
       "\n",
       "    .dataframe tbody tr th {\n",
       "        vertical-align: top;\n",
       "    }\n",
       "\n",
       "    .dataframe thead th {\n",
       "        text-align: right;\n",
       "    }\n",
       "</style>\n",
       "<table border=\"1\" class=\"dataframe\">\n",
       "  <thead>\n",
       "    <tr style=\"text-align: right;\">\n",
       "      <th></th>\n",
       "      <th>mail</th>\n",
       "      <th>label</th>\n",
       "    </tr>\n",
       "  </thead>\n",
       "  <tbody>\n",
       "    <tr>\n",
       "      <th>0</th>\n",
       "      <td>i love you</td>\n",
       "      <td>1</td>\n",
       "    </tr>\n",
       "    <tr>\n",
       "      <th>1</th>\n",
       "      <td>love happy weekend</td>\n",
       "      <td>1</td>\n",
       "    </tr>\n",
       "    <tr>\n",
       "      <th>2</th>\n",
       "      <td>bore work job</td>\n",
       "      <td>0</td>\n",
       "    </tr>\n",
       "    <tr>\n",
       "      <th>3</th>\n",
       "      <td>i hate you</td>\n",
       "      <td>0</td>\n",
       "    </tr>\n",
       "    <tr>\n",
       "      <th>4</th>\n",
       "      <td>bore weekend</td>\n",
       "      <td>0</td>\n",
       "    </tr>\n",
       "    <tr>\n",
       "      <th>5</th>\n",
       "      <td>happy together</td>\n",
       "      <td>1</td>\n",
       "    </tr>\n",
       "  </tbody>\n",
       "</table>\n",
       "</div>"
      ],
      "text/plain": [
       "                 mail  label\n",
       "0          i love you      1\n",
       "1  love happy weekend      1\n",
       "2       bore work job      0\n",
       "3          i hate you      0\n",
       "4        bore weekend      0\n",
       "5      happy together      1"
      ]
     },
     "execution_count": 1,
     "metadata": {},
     "output_type": "execute_result"
    }
   ],
   "source": [
    "import pandas as pd \n",
    "import numpy as np \n",
    "input_file = pd.read_csv('C:/Users/이상은/naivebayes_example.csv') # 읽어오기 \n",
    "input_file "
   ]
  },
  {
   "cell_type": "code",
   "execution_count": 20,
   "metadata": {},
   "outputs": [
    {
     "name": "stdout",
     "output_type": "stream",
     "text": [
      "[['i love you' 1]\n",
      " ['love happy weekend' 1]\n",
      " ['bore work job' 0]\n",
      " ['i hate you' 0]\n",
      " ['bore weekend' 0]\n",
      " ['happy together' 1]]\n"
     ]
    }
   ],
   "source": [
    "training_set = np.array(input_file)\n",
    "print(training_set)"
   ]
  },
  {
   "cell_type": "code",
   "execution_count": null,
   "metadata": {},
   "outputs": [],
   "source": []
  },
  {
   "cell_type": "code",
   "execution_count": null,
   "metadata": {},
   "outputs": [],
   "source": [
    "## 토큰 빈도수 및 문서별 토큰수 계산 "
   ]
  },
  {
   "cell_type": "code",
   "execution_count": 21,
   "metadata": {},
   "outputs": [
    {
     "data": {
      "text/plain": [
       "defaultdict(<function __main__.<lambda>()>,\n",
       "            {'i': [1, 1],\n",
       "             'love': [2, 0],\n",
       "             'you': [1, 1],\n",
       "             'happy': [2, 0],\n",
       "             'weekend': [1, 1],\n",
       "             'bore': [0, 2],\n",
       "             'work': [0, 1],\n",
       "             'job': [0, 1],\n",
       "             'hate': [0, 1],\n",
       "             'together': [1, 0]})"
      ]
     },
     "execution_count": 21,
     "metadata": {},
     "output_type": "execute_result"
    }
   ],
   "source": [
    "# 토큰별 문서 내 빈도수 카운팅 \n",
    "from collections import defaultdict \n",
    "wordfreq = defaultdict(lambda: [0,0]) # lambda : 새로운 단어가 추가될 때 default를 [0,0]으로 하겠다\n",
    "# [긍정, 부정]\n",
    "for doc, point in training_set:\n",
    "    words = doc.split()\n",
    "    for word in words:\n",
    "        if point == 1:\n",
    "            wordfreq[word][0] += 1 # 긍정인 경우 0번째 인덱스에 1을 더해라 \n",
    "        else: \n",
    "            wordfreq[word][1] += 1 # 부정인 경우 1번째 인덱스에 1을 더해달라 \n",
    "wordfreq"
   ]
  },
  {
   "cell_type": "code",
   "execution_count": 22,
   "metadata": {},
   "outputs": [
    {
     "name": "stdout",
     "output_type": "stream",
     "text": [
      "[1, 2, 1, 2, 1, 0, 0, 0, 0, 1]\n",
      "[1, 0, 1, 0, 1, 2, 1, 1, 1, 0]\n",
      "8 8\n"
     ]
    }
   ],
   "source": [
    "# 긍정/부정 빈도수 계산 \n",
    "긍정전체토큰수 = [] \n",
    "부정전체토큰수 = [] \n",
    "for key, (cnt1, cnt0) in wordfreq.items(): # cnt1과 cnt0는 wordfreq 안에 있는 list 숫자부분\n",
    "    긍정전체토큰수.append(int(cnt1))\n",
    "    부정전체토큰수.append(int(cnt0))\n",
    "print(긍정전체토큰수)\n",
    "print(부정전체토큰수)\n",
    "전체갯수_긍정 = sum(긍정전체토큰수)\n",
    "전체갯수_부정 = sum(부정전체토큰수)\n",
    "print(전체갯수_긍정, 전체갯수_부정)"
   ]
  },
  {
   "cell_type": "code",
   "execution_count": null,
   "metadata": {},
   "outputs": [],
   "source": []
  },
  {
   "cell_type": "code",
   "execution_count": null,
   "metadata": {},
   "outputs": [],
   "source": [
    "## Training : 토큰별 조건부 확률 계산 "
   ]
  },
  {
   "cell_type": "code",
   "execution_count": 24,
   "metadata": {},
   "outputs": [
    {
     "data": {
      "text/plain": [
       "defaultdict(<function __main__.<lambda>()>,\n",
       "            {'i': [1, 1],\n",
       "             'love': [2, 0],\n",
       "             'you': [1, 1],\n",
       "             'happy': [2, 0],\n",
       "             'weekend': [1, 1],\n",
       "             'bore': [0, 2],\n",
       "             'work': [0, 1],\n",
       "             'job': [0, 1],\n",
       "             'hate': [0, 1],\n",
       "             'together': [1, 0]})"
      ]
     },
     "execution_count": 24,
     "metadata": {},
     "output_type": "execute_result"
    }
   ],
   "source": [
    "wordfreq"
   ]
  },
  {
   "cell_type": "code",
   "execution_count": 25,
   "metadata": {},
   "outputs": [
    {
     "data": {
      "text/plain": [
       "defaultdict(<function __main__.<lambda>()>,\n",
       "            {'i': [0.1111111111111111, 0.1111111111111111],\n",
       "             'love': [0.16666666666666666, 0.05555555555555555],\n",
       "             'you': [0.1111111111111111, 0.1111111111111111],\n",
       "             'happy': [0.16666666666666666, 0.05555555555555555],\n",
       "             'weekend': [0.1111111111111111, 0.1111111111111111],\n",
       "             'bore': [0.05555555555555555, 0.16666666666666666],\n",
       "             'work': [0.05555555555555555, 0.1111111111111111],\n",
       "             'job': [0.05555555555555555, 0.1111111111111111],\n",
       "             'hate': [0.05555555555555555, 0.1111111111111111],\n",
       "             'together': [0.1111111111111111, 0.05555555555555555]})"
      ]
     },
     "execution_count": 25,
     "metadata": {},
     "output_type": "execute_result"
    }
   ],
   "source": [
    "wordprobs = defaultdict(lambda:[0,0]) #새로운 값이 들어올때마다 0,0으로 reset(default)하겠다\n",
    "for key, (cnt1, cnt0) in wordfreq.items():\n",
    "    wordprobs[key][0] = (cnt1 + 1)/(전체갯수_긍정 + len(wordfreq)) # Laplace 정리 적용 \n",
    "    wordprobs[key][1] = (cnt0 + 1)/(전체갯수_부정 + len(wordfreq))\n",
    "wordprobs"
   ]
  },
  {
   "cell_type": "code",
   "execution_count": null,
   "metadata": {},
   "outputs": [],
   "source": []
  },
  {
   "cell_type": "code",
   "execution_count": null,
   "metadata": {},
   "outputs": [],
   "source": [
    "## Classify : 신규텍스트가 주어졌을 때 확률 계산  "
   ]
  },
  {
   "cell_type": "code",
   "execution_count": 26,
   "metadata": {},
   "outputs": [
    {
     "data": {
      "text/plain": [
       "['happy', 'weekend']"
      ]
     },
     "execution_count": 26,
     "metadata": {},
     "output_type": "execute_result"
    }
   ],
   "source": [
    "# 실험으로 happy weekend만 조건부확률 계산해보기! \n",
    "import math \n",
    "doc = \"happy weekend\"\n",
    "tokens = doc.split()\n",
    "tokens"
   ]
  },
  {
   "cell_type": "code",
   "execution_count": 28,
   "metadata": {},
   "outputs": [
    {
     "name": "stdout",
     "output_type": "stream",
     "text": [
      "prob1 0.009259259259259257\n",
      "prob0 0.0030864197530864183\n",
      "happy와 weekend가 새로운 메일에 포함되어 있을 경우, 긍정확률과 부정확률\n",
      "긍정확률 : 75.00000000000001%\n",
      "부정확률 : 24.999999999999996%\n"
     ]
    }
   ],
   "source": [
    "# 초기값을 모두 0으로 처리 \n",
    "log_prob1 = log_prob0 = 0.0 \n",
    "\n",
    "# 모든 단어에 대해 반복 \n",
    "for word, (prob1, prob0) in wordprobs.items(): # prob1, prob2처럼 두개 인수 for문에 돌려도 됨 \n",
    "    if word in tokens: \n",
    "        log_prob1 += math.log(prob1)\n",
    "        log_prob0 += math.log(prob0) # 요 부분까지는 단어 log적용\n",
    "log_prob1 += math.log(전체갯수_긍정 / (전체갯수_긍정 + 전체갯수_부정))\n",
    "log_prob0 += math.log(전체갯수_부정 / (전체갯수_긍정 + 전체갯수_부정)) # 요 부분은 log(0.5)처럼\n",
    "# 긍정/부정을 계산하기 위함임\n",
    "\n",
    "prob1 = math.exp(log_prob1)\n",
    "print('prob1', prob1)\n",
    "prob0 = math.exp(log_prob0)\n",
    "print('prob0', prob0)\n",
    "print('happy와 weekend가 새로운 메일에 포함되어 있을 경우, 긍정확률과 부정확률')\n",
    "print(\"긍정확률 : {}%\".format(prob1/(prob1+prob0)*100))\n",
    "print(\"부정확률 : {}%\".format(prob0/(prob1+prob0)*100))"
   ]
  },
  {
   "cell_type": "code",
   "execution_count": null,
   "metadata": {},
   "outputs": [],
   "source": []
  },
  {
   "cell_type": "markdown",
   "metadata": {},
   "source": [
    "## Using sklearn"
   ]
  },
  {
   "cell_type": "code",
   "execution_count": 29,
   "metadata": {},
   "outputs": [
    {
     "data": {
      "text/html": [
       "<div>\n",
       "<style scoped>\n",
       "    .dataframe tbody tr th:only-of-type {\n",
       "        vertical-align: middle;\n",
       "    }\n",
       "\n",
       "    .dataframe tbody tr th {\n",
       "        vertical-align: top;\n",
       "    }\n",
       "\n",
       "    .dataframe thead th {\n",
       "        text-align: right;\n",
       "    }\n",
       "</style>\n",
       "<table border=\"1\" class=\"dataframe\">\n",
       "  <thead>\n",
       "    <tr style=\"text-align: right;\">\n",
       "      <th></th>\n",
       "      <th>mail</th>\n",
       "      <th>label</th>\n",
       "    </tr>\n",
       "  </thead>\n",
       "  <tbody>\n",
       "    <tr>\n",
       "      <th>0</th>\n",
       "      <td>i love you</td>\n",
       "      <td>1</td>\n",
       "    </tr>\n",
       "    <tr>\n",
       "      <th>1</th>\n",
       "      <td>love happy weekend</td>\n",
       "      <td>1</td>\n",
       "    </tr>\n",
       "    <tr>\n",
       "      <th>2</th>\n",
       "      <td>bore work job</td>\n",
       "      <td>0</td>\n",
       "    </tr>\n",
       "    <tr>\n",
       "      <th>3</th>\n",
       "      <td>i hate you</td>\n",
       "      <td>0</td>\n",
       "    </tr>\n",
       "    <tr>\n",
       "      <th>4</th>\n",
       "      <td>bore weekend</td>\n",
       "      <td>0</td>\n",
       "    </tr>\n",
       "    <tr>\n",
       "      <th>5</th>\n",
       "      <td>happy together</td>\n",
       "      <td>1</td>\n",
       "    </tr>\n",
       "  </tbody>\n",
       "</table>\n",
       "</div>"
      ],
      "text/plain": [
       "                 mail  label\n",
       "0          i love you      1\n",
       "1  love happy weekend      1\n",
       "2       bore work job      0\n",
       "3          i hate you      0\n",
       "4        bore weekend      0\n",
       "5      happy together      1"
      ]
     },
     "execution_count": 29,
     "metadata": {},
     "output_type": "execute_result"
    }
   ],
   "source": [
    "# 불러오기 (위에처럼 input_file로 불러온 파일 이름 지정)\n",
    "input_file"
   ]
  },
  {
   "cell_type": "code",
   "execution_count": 30,
   "metadata": {},
   "outputs": [
    {
     "name": "stdout",
     "output_type": "stream",
     "text": [
      "['i love you', 'love happy weekend', 'bore work job', 'i hate you', 'bore weekend', 'happy together']\n",
      "[1, 1, 0, 0, 0, 1]\n"
     ]
    }
   ],
   "source": [
    "X_train = list(input_file['mail'])\n",
    "Y_train = list(input_file['label'])\n",
    "print(X_train)\n",
    "print(Y_train)"
   ]
  },
  {
   "cell_type": "code",
   "execution_count": 32,
   "metadata": {},
   "outputs": [],
   "source": [
    "from sklearn.feature_extraction.text import CountVectorizer\n",
    "from sklearn.feature_extraction.text import TfidfTransformer\n",
    "from sklearn.naive_bayes import MultinomialNB\n",
    "\n",
    "# CountVectorizer 선언 \n",
    "count_vect = CountVectorizer()\n",
    "# Fit and transform \n",
    "X_train_counts = count_vect.fit_transform(X_train)\n",
    "\n",
    "# MutinomialNB 선언 and fit \n",
    "clf = MultinomialNB().fit(X_train_counts, Y_train)"
   ]
  },
  {
   "cell_type": "code",
   "execution_count": 33,
   "metadata": {},
   "outputs": [
    {
     "name": "stdout",
     "output_type": "stream",
     "text": [
      "[1]\n",
      "[[0.25 0.75]]\n"
     ]
    }
   ],
   "source": [
    "# 예측 \n",
    "print(clf.predict(count_vect.transform([\"happy weekend\"])))\n",
    "\n",
    "#확률 \n",
    "print(clf.predict_proba(count_vect.transform([\"happy weekend\"])))"
   ]
  },
  {
   "cell_type": "code",
   "execution_count": 34,
   "metadata": {},
   "outputs": [],
   "source": [
    "# 확률은 부정/긍정 순으로 표시됨  "
   ]
  },
  {
   "cell_type": "code",
   "execution_count": null,
   "metadata": {},
   "outputs": [],
   "source": []
  }
 ],
 "metadata": {
  "kernelspec": {
   "display_name": "Python 3",
   "language": "python",
   "name": "python3"
  },
  "language_info": {
   "codemirror_mode": {
    "name": "ipython",
    "version": 3
   },
   "file_extension": ".py",
   "mimetype": "text/x-python",
   "name": "python",
   "nbconvert_exporter": "python",
   "pygments_lexer": "ipython3",
   "version": "3.6.10"
  }
 },
 "nbformat": 4,
 "nbformat_minor": 4
}
