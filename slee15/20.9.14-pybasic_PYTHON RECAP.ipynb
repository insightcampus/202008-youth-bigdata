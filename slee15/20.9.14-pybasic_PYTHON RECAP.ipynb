{
 "cells": [
  {
   "cell_type": "code",
   "execution_count": 4,
   "metadata": {},
   "outputs": [
    {
     "data": {
      "text/plain": [
       "'3.8.3 (default, Jul  2 2020, 17:30:36) [MSC v.1916 64 bit (AMD64)]'"
      ]
     },
     "execution_count": 4,
     "metadata": {},
     "output_type": "execute_result"
    }
   ],
   "source": [
    "import sys\n",
    "sys.version"
   ]
  },
  {
   "cell_type": "markdown",
   "metadata": {},
   "source": [
    "## 파이썬 기초 \n",
    "* 기억장소 \n",
    "    - 변수 \n",
    "* 연산자 \n",
    "    - 산술연산 \n",
    "    - 논리연산\n",
    "    - 비교연산\n",
    "* 구문 \n",
    "    - 비교문 \n",
    "    - 반복문\n",
    "* 함수 \n",
    "* 클래스 \n",
    "### 프로그램이 하는 일 \n",
    "1. 기억장소에 데이터를 넣는다 (입력)\n",
    "2. 기억장소의 데이터를 (수정/조작)\n",
    "3. 기억장소의 데이터를 (판단)\n",
    "4. 목표: 기억장소의 데이터를 출력(표현)\n",
    "5. 프로그램은 반복 업무를 대행해준다 "
   ]
  },
  {
   "cell_type": "markdown",
   "metadata": {},
   "source": [
    "# 기억장소 만들기: 변수 생성\n",
    "* 변수 명명 규칙 \n",
    "    - 알파뉴메릭(A~ Za ~ z1 ~9_)을 대행해주기 때문에 이거 내에서 코드 작성\n",
    "    - 시작은 숫자가 들어갈 수 X \n",
    "    - 띄어쓰기를 할 수 없다 \n",
    "    \n",
    "    so 1abc = 0  (숫자로 시작 불가)\n",
    "    \n",
    "    so abc 1 = 0  (띄어쓰기 없음) \n",
    "    \n",
    "    a1 = 0   (GOOD)"
   ]
  },
  {
   "cell_type": "markdown",
   "metadata": {},
   "source": [
    "# 변수특징\n",
    "* 타입형 지정이 없음 \n",
    "\n",
    "SO a1 = 0 \n",
    "\n",
    "print(type(a1))하면 int임 str으로 만들려면 a1 = '0'로 직접 입력해 type 변경하기  \n",
    "* 객체형 변수형태 \n",
    "c2 = a2('3') + b2('4')처럼 str끼리 더하면 34, type str으로 나옴\n",
    "하지만 c1(int) + c2(str)은 계산 불가함 so 같은 type끼리 계산해야함"
   ]
  },
  {
   "cell_type": "code",
   "execution_count": 8,
   "metadata": {},
   "outputs": [
    {
     "name": "stdout",
     "output_type": "stream",
     "text": [
      "<class 'float'> = <class 'float'> + <class 'int'>\n"
     ]
    }
   ],
   "source": [
    "a1 = 3.7\n",
    "b1 = 4\n",
    "c  = a1 + b1 \n",
    "print(type(c), \"=\", type(a1), \"+\", type(b1))"
   ]
  },
  {
   "cell_type": "markdown",
   "metadata": {},
   "source": [
    "### 데이터형\n",
    "* 단순형 \n",
    "    * int\n",
    "    * float\n",
    "    * str\n",
    "* 배열형\n",
    "    * 리스트 [ ] --> 벗 ar[ ]하면 index를 의미 VS a = [ ]  --> 리스트 앞에는 문자 없음\n",
    "    * 튜플 ( )  --> 함수 a = ( ) 튜플 \n",
    "    * 딕셔너리  { } : {키: 밸류}  -->  { }내부에 키 밸류 값으로 존재"
   ]
  },
  {
   "cell_type": "markdown",
   "metadata": {},
   "source": [
    "# 리스트형 [ ] "
   ]
  },
  {
   "cell_type": "code",
   "execution_count": 16,
   "metadata": {},
   "outputs": [
    {
     "name": "stdout",
     "output_type": "stream",
     "text": [
      "[1, 2, 3.2, '4', [5.1, 6.2, '7.3']] <class 'list'>\n",
      "ar의 2번째 요소 (인덱스는 0부터 시작): 2\n",
      "ar의 2번째 요소 (인덱스는 0부터 시작): 2번째 요소\n"
     ]
    }
   ],
   "source": [
    "ar = [1,2,3.2, '4', [5.1,6.2,'7.3']]\n",
    "print(ar, type(ar))\n",
    "print('ar의 2번째 요소 (인덱스는 0부터 시작):', ar[1])\n",
    "\n",
    "# 리스트에서는 값 수정가능\n",
    "ar[1] = '2번째 요소'\n",
    "print('ar의 2번째 요소 (인덱스는 0부터 시작):', ar[1])"
   ]
  },
  {
   "cell_type": "code",
   "execution_count": 40,
   "metadata": {},
   "outputs": [
    {
     "name": "stdout",
     "output_type": "stream",
     "text": [
      "0 번째 요소: 1\n",
      "1 번째 요소: 2번째 요소\n",
      "2 번째 요소: 3.2\n",
      "3 번째 요소: 4\n",
      "4 번째 요소: [5.1, 6.2, '7.3']\n"
     ]
    }
   ],
   "source": [
    "# 리스트형 요소별 출력 \n",
    "i = 0\n",
    "for a in ar: # i는 인덱스 번호가 나옴, a하면 그 인덱스에 해당하는 값이 나옴 \n",
    "    print(i, '번째 요소:', a) \n",
    "    i += 1 # 0번째, 1번째, 2번째 순차적으로 나열"
   ]
  },
  {
   "cell_type": "markdown",
   "metadata": {},
   "source": [
    "# 튜플형 ( )"
   ]
  },
  {
   "cell_type": "code",
   "execution_count": 19,
   "metadata": {},
   "outputs": [
    {
     "name": "stdout",
     "output_type": "stream",
     "text": [
      "(1, 2, 3.2, '4', [5.1, 6.2, '7.3']) <class 'tuple'>\n",
      "tr의 2번째 요소 (인덱스는 0부터 시작): 2\n"
     ]
    }
   ],
   "source": [
    "tr = (1,2,3.2, '4', [5.1,6.2,'7.3'])\n",
    "print(tr, type(tr))\n",
    "print('tr의 2번째 요소 (인덱스는 0부터 시작):', tr[1])\n",
    "\n",
    "#tuple은 수정 불가\n",
    "# tr[1] = '2번째 요소'\n",
    "# print('tr의 2번째 요소 (인덱스는 0부터 시작):', tr[1])"
   ]
  },
  {
   "cell_type": "code",
   "execution_count": 39,
   "metadata": {},
   "outputs": [
    {
     "name": "stdout",
     "output_type": "stream",
     "text": [
      "0 번째 요소: 1\n",
      "1 번째 요소: 2\n",
      "2 번째 요소: 3.2\n",
      "3 번째 요소: 4\n",
      "4 번째 요소: [5.1, 6.2, '7.3']\n"
     ]
    }
   ],
   "source": [
    "# 튜플형 요소별 출력 \n",
    "lr = 0\n",
    "for t in tr: \n",
    "    print(lr, '번째 요소:', t)\n",
    "    lr += 1 "
   ]
  },
  {
   "cell_type": "markdown",
   "metadata": {},
   "source": [
    "# 딕셔너리"
   ]
  },
  {
   "cell_type": "code",
   "execution_count": 25,
   "metadata": {},
   "outputs": [
    {
     "name": "stdout",
     "output_type": "stream",
     "text": [
      "{1: 2, 2: 3.2, '3': [5.1, 6.2, '7.3']} <class 'dict'>\n",
      "dic의 인덱스1인 요소 (인덱스는 키값): 2\n",
      "dic의 인덱스\"3\" : [5.1, 6.2, '7.3']\n"
     ]
    }
   ],
   "source": [
    "dic = {1: 2, 2: 3.2, '3': [5.1,6.2,'7.3']}\n",
    "print(dic, type(dic))\n",
    "print('dic의 인덱스1인 요소 (인덱스는 키값):', dic[1])\n",
    "dic[1] = '인덱스1인 요소'  #--> 키를 참조해서 밸류값 수정가능 \n",
    "print('dic의 인덱스\"3\" :', dic['3'])\n",
    "#tuple은 수정 불가\n",
    "# tr[1] = '2번째 요소'\n",
    "# print('tr의 2번째 요소 (인덱스는 0부터 시작):', tr[1])"
   ]
  },
  {
   "cell_type": "code",
   "execution_count": 38,
   "metadata": {},
   "outputs": [
    {
     "name": "stdout",
     "output_type": "stream",
     "text": [
      "0 번째 요소: 1 => 인덱스1인 요소\n",
      "1 번째 요소: 2 => 3.2\n",
      "2 번째 요소: 3 => [5.1, 6.2, '7.3']\n"
     ]
    }
   ],
   "source": [
    "# 딕셔너리형 요소별 출력 \n",
    "j = 0\n",
    "for d in dic:  \n",
    "    print(j, '번째 요소:', d, \"=>\", dic[d])\n",
    "    j += 1 "
   ]
  },
  {
   "cell_type": "code",
   "execution_count": null,
   "metadata": {},
   "outputs": [],
   "source": []
  },
  {
   "cell_type": "code",
   "execution_count": null,
   "metadata": {},
   "outputs": [],
   "source": []
  },
  {
   "cell_type": "code",
   "execution_count": null,
   "metadata": {},
   "outputs": [],
   "source": []
  },
  {
   "cell_type": "code",
   "execution_count": null,
   "metadata": {},
   "outputs": [],
   "source": []
  },
  {
   "cell_type": "code",
   "execution_count": null,
   "metadata": {},
   "outputs": [],
   "source": []
  }
 ],
 "metadata": {
  "kernelspec": {
   "display_name": "Python 3",
   "language": "python",
   "name": "python3"
  },
  "language_info": {
   "codemirror_mode": {
    "name": "ipython",
    "version": 3
   },
   "file_extension": ".py",
   "mimetype": "text/x-python",
   "name": "python",
   "nbconvert_exporter": "python",
   "pygments_lexer": "ipython3",
   "version": "3.8.3"
  }
 },
 "nbformat": 4,
 "nbformat_minor": 4
}
