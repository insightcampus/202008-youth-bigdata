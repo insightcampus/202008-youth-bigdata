{
 "cells": [
  {
   "cell_type": "code",
   "execution_count": 1,
   "metadata": {},
   "outputs": [
    {
     "name": "stdout",
     "output_type": "stream",
     "text": [
      "Requirement already satisfied: mecab-python==0.996-ko-0.9.2-msvc from file:///C:/Users/ASIA_12/%EC%9C%A0%ED%86%B5%ED%8C%80%20%ED%94%84%EB%A1%9C%EC%A0%9D%ED%8A%B8/mecab_python-0.996_ko_0.9.2_msvc-cp37-cp37m-win_amd64.whl in c:\\anaconda3\\envs\\py36\\lib\\site-packages (0.996-ko-0.9.2-msvc)\n"
     ]
    }
   ],
   "source": [
    "!pip install mecab_python-0.996_ko_0.9.2_msvc-cp37-cp37m-win_amd64.whl"
   ]
  },
  {
   "cell_type": "code",
   "execution_count": 2,
   "metadata": {},
   "outputs": [
    {
     "name": "stdout",
     "output_type": "stream",
     "text": [
      "Requirement already satisfied: JPype1==1.0.2 from file:///C:/Users/ASIA_12/%EC%9C%A0%ED%86%B5%ED%8C%80%20%ED%94%84%EB%A1%9C%EC%A0%9D%ED%8A%B8/JPype1-1.0.2-cp37-cp37m-win_amd64.whl in c:\\anaconda3\\envs\\py36\\lib\\site-packages (1.0.2)\n",
      "Requirement already satisfied: typing-extensions; python_version < \"3.8\" in c:\\anaconda3\\envs\\py36\\lib\\site-packages (from JPype1==1.0.2) (3.7.4.2)\n"
     ]
    }
   ],
   "source": [
    "!pip install JPype1-1.0.2-cp37-cp37m-win_amd64.whl"
   ]
  },
  {
   "cell_type": "code",
   "execution_count": 3,
   "metadata": {},
   "outputs": [
    {
     "name": "stdout",
     "output_type": "stream",
     "text": [
      "Requirement already satisfied: konlpy in c:\\anaconda3\\envs\\py36\\lib\\site-packages (0.5.2)\n",
      "Requirement already satisfied: numpy>=1.6 in c:\\anaconda3\\envs\\py36\\lib\\site-packages (from konlpy) (1.17.0)\n",
      "Requirement already satisfied: JPype1>=0.7.0 in c:\\anaconda3\\envs\\py36\\lib\\site-packages (from konlpy) (1.0.2)\n",
      "Requirement already satisfied: tweepy>=3.7.0 in c:\\anaconda3\\envs\\py36\\lib\\site-packages (from konlpy) (3.9.0)\n",
      "Requirement already satisfied: colorama in c:\\anaconda3\\envs\\py36\\lib\\site-packages (from konlpy) (0.4.3)\n",
      "Requirement already satisfied: beautifulsoup4==4.6.0 in c:\\anaconda3\\envs\\py36\\lib\\site-packages (from konlpy) (4.6.0)\n",
      "Requirement already satisfied: lxml>=4.1.0 in c:\\anaconda3\\envs\\py36\\lib\\site-packages (from konlpy) (4.5.2)\n",
      "Requirement already satisfied: typing-extensions; python_version < \"3.8\" in c:\\anaconda3\\envs\\py36\\lib\\site-packages (from JPype1>=0.7.0->konlpy) (3.7.4.2)\n",
      "Requirement already satisfied: requests[socks]>=2.11.1 in c:\\anaconda3\\envs\\py36\\lib\\site-packages (from tweepy>=3.7.0->konlpy) (2.24.0)\n",
      "Requirement already satisfied: six>=1.10.0 in c:\\anaconda3\\envs\\py36\\lib\\site-packages (from tweepy>=3.7.0->konlpy) (1.15.0)\n",
      "Requirement already satisfied: requests-oauthlib>=0.7.0 in c:\\anaconda3\\envs\\py36\\lib\\site-packages (from tweepy>=3.7.0->konlpy) (1.3.0)\n",
      "Requirement already satisfied: certifi>=2017.4.17 in c:\\anaconda3\\envs\\py36\\lib\\site-packages (from requests[socks]>=2.11.1->tweepy>=3.7.0->konlpy) (2020.6.20)\n",
      "Requirement already satisfied: chardet<4,>=3.0.2 in c:\\anaconda3\\envs\\py36\\lib\\site-packages (from requests[socks]>=2.11.1->tweepy>=3.7.0->konlpy) (3.0.4)\n",
      "Requirement already satisfied: urllib3!=1.25.0,!=1.25.1,<1.26,>=1.21.1 in c:\\anaconda3\\envs\\py36\\lib\\site-packages (from requests[socks]>=2.11.1->tweepy>=3.7.0->konlpy) (1.25.9)\n",
      "Requirement already satisfied: idna<3,>=2.5 in c:\\anaconda3\\envs\\py36\\lib\\site-packages (from requests[socks]>=2.11.1->tweepy>=3.7.0->konlpy) (2.10)\n",
      "Requirement already satisfied: PySocks!=1.5.7,>=1.5.6; extra == \"socks\" in c:\\anaconda3\\envs\\py36\\lib\\site-packages (from requests[socks]>=2.11.1->tweepy>=3.7.0->konlpy) (1.7.1)\n",
      "Requirement already satisfied: oauthlib>=3.0.0 in c:\\anaconda3\\envs\\py36\\lib\\site-packages (from requests-oauthlib>=0.7.0->tweepy>=3.7.0->konlpy) (3.1.0)\n"
     ]
    }
   ],
   "source": [
    "!pip install konlpy"
   ]
  },
  {
   "cell_type": "code",
   "execution_count": 4,
   "metadata": {},
   "outputs": [
    {
     "name": "stdout",
     "output_type": "stream",
     "text": [
      "['인생은', '모두가', '함께하는', '여행이다.', '매일매일', '사는', '동안', '우리가', '할', '수', '있는', '건', '최선을', '다해', '이', '멋진', '여행을', '만끽하는', '것이다']\n"
     ]
    }
   ],
   "source": [
    "text = '인생은 모두가 함께하는 여행이다. 매일매일 사는 동안 우리가 할 수 있는 건 최선을 다해 이 멋진 여행을 만끽하는 것이다'\n",
    "print(text.split())"
   ]
  },
  {
   "cell_type": "code",
   "execution_count": 5,
   "metadata": {},
   "outputs": [
    {
     "name": "stdout",
     "output_type": "stream",
     "text": [
      "Requirement already satisfied: konlpy in c:\\anaconda3\\envs\\py36\\lib\\site-packages (0.5.2)\n",
      "Requirement already satisfied: colorama in c:\\anaconda3\\envs\\py36\\lib\\site-packages (from konlpy) (0.4.3)\n",
      "Requirement already satisfied: JPype1>=0.7.0 in c:\\anaconda3\\envs\\py36\\lib\\site-packages (from konlpy) (1.0.2)\n",
      "Requirement already satisfied: beautifulsoup4==4.6.0 in c:\\anaconda3\\envs\\py36\\lib\\site-packages (from konlpy) (4.6.0)\n",
      "Requirement already satisfied: lxml>=4.1.0 in c:\\anaconda3\\envs\\py36\\lib\\site-packages (from konlpy) (4.5.2)\n",
      "Requirement already satisfied: numpy>=1.6 in c:\\anaconda3\\envs\\py36\\lib\\site-packages (from konlpy) (1.17.0)\n",
      "Requirement already satisfied: tweepy>=3.7.0 in c:\\anaconda3\\envs\\py36\\lib\\site-packages (from konlpy) (3.9.0)\n",
      "Requirement already satisfied: typing-extensions; python_version < \"3.8\" in c:\\anaconda3\\envs\\py36\\lib\\site-packages (from JPype1>=0.7.0->konlpy) (3.7.4.2)\n",
      "Requirement already satisfied: requests[socks]>=2.11.1 in c:\\anaconda3\\envs\\py36\\lib\\site-packages (from tweepy>=3.7.0->konlpy) (2.24.0)\n",
      "Requirement already satisfied: requests-oauthlib>=0.7.0 in c:\\anaconda3\\envs\\py36\\lib\\site-packages (from tweepy>=3.7.0->konlpy) (1.3.0)\n",
      "Requirement already satisfied: six>=1.10.0 in c:\\anaconda3\\envs\\py36\\lib\\site-packages (from tweepy>=3.7.0->konlpy) (1.15.0)\n",
      "Requirement already satisfied: urllib3!=1.25.0,!=1.25.1,<1.26,>=1.21.1 in c:\\anaconda3\\envs\\py36\\lib\\site-packages (from requests[socks]>=2.11.1->tweepy>=3.7.0->konlpy) (1.25.9)\n",
      "Requirement already satisfied: certifi>=2017.4.17 in c:\\anaconda3\\envs\\py36\\lib\\site-packages (from requests[socks]>=2.11.1->tweepy>=3.7.0->konlpy) (2020.6.20)\n",
      "Requirement already satisfied: idna<3,>=2.5 in c:\\anaconda3\\envs\\py36\\lib\\site-packages (from requests[socks]>=2.11.1->tweepy>=3.7.0->konlpy) (2.10)\n",
      "Requirement already satisfied: chardet<4,>=3.0.2 in c:\\anaconda3\\envs\\py36\\lib\\site-packages (from requests[socks]>=2.11.1->tweepy>=3.7.0->konlpy) (3.0.4)\n",
      "Requirement already satisfied: PySocks!=1.5.7,>=1.5.6; extra == \"socks\" in c:\\anaconda3\\envs\\py36\\lib\\site-packages (from requests[socks]>=2.11.1->tweepy>=3.7.0->konlpy) (1.7.1)\n",
      "Requirement already satisfied: oauthlib>=3.0.0 in c:\\anaconda3\\envs\\py36\\lib\\site-packages (from requests-oauthlib>=0.7.0->tweepy>=3.7.0->konlpy) (3.1.0)\n"
     ]
    }
   ],
   "source": [
    "!pip install konlpy \n",
    "from konlpy.tag import Komoran\n",
    "from konlpy.tag import Hannanum\n",
    "from konlpy.tag import Okt\n",
    "from konlpy.tag import Kkma"
   ]
  },
  {
   "cell_type": "code",
   "execution_count": 6,
   "metadata": {},
   "outputs": [
    {
     "name": "stdout",
     "output_type": "stream",
     "text": [
      "['인생', '은', '모두', '가', '함께', '하', '는', '여행', '이', '다', '.', '매일', '매일', '살', '는', '동안', '우리', '가', '하', 'ㄹ', '수', '있', '는', '건', '최선', '을', '다', '하', '아', '이', '멋지', 'ㄴ', '여행', '을', '만끽', '하', '는', '것', '이', '다']\n"
     ]
    }
   ],
   "source": [
    "komoran = Komoran() \n",
    "komoran_tokens = komoran.morphs(text) \n",
    "print(komoran_tokens)"
   ]
  },
  {
   "cell_type": "code",
   "execution_count": 7,
   "metadata": {},
   "outputs": [
    {
     "name": "stdout",
     "output_type": "stream",
     "text": [
      "[('인생', 'NNG'), ('은', 'JX'), ('모두', 'NNG'), ('가', 'JKS'), ('함께', 'MAG'), ('하', 'XSV'), ('는', 'ETM'), ('여행', 'NNG'), ('이', 'VCP'), ('다', 'EF'), ('.', 'SF'), ('매일', 'MAG'), ('매일', 'MAG'), ('살', 'VV'), ('는', 'ETM'), ('동안', 'NNG'), ('우리', 'NP'), ('가', 'JKS'), ('하', 'VV'), ('ㄹ', 'ETM'), ('수', 'NNB'), ('있', 'VV'), ('는', 'ETM'), ('건', 'NNB'), ('최선', 'NNG'), ('을', 'JKO'), ('다', 'MAG'), ('하', 'XSV'), ('아', 'EC'), ('이', 'MM'), ('멋지', 'VA'), ('ㄴ', 'ETM'), ('여행', 'NNG'), ('을', 'JKO'), ('만끽', 'NNG'), ('하', 'XSV'), ('는', 'ETM'), ('것', 'NNB'), ('이', 'VCP'), ('다', 'EC')]\n"
     ]
    }
   ],
   "source": [
    "komoran = Komoran() #호출한 패키지는 사용을 위해 선언이 필수적으로 해주어야 한다\n",
    "komoran_tokens = komoran.pos(text) #komoran의 morphs를 사용해 토큰화\n",
    "print(komoran_tokens)"
   ]
  },
  {
   "cell_type": "code",
   "execution_count": 8,
   "metadata": {},
   "outputs": [
    {
     "name": "stdout",
     "output_type": "stream",
     "text": [
      "['인생', '은', '모두', '가', '함께하', '는', '여행', '이', '다', '.', '매일매일', '사', '는', '동안', '우리', '가', '하', 'ㄹ', '수', '있', '는', '거', '은', '최선', '을', '다하', '어', '이', '멋지', 'ㄴ', '여행', '을', '만끽', '하', '는', '것', '이', '다']\n"
     ]
    }
   ],
   "source": [
    "hannanum = Hannanum()\n",
    "hannanum_tokens = hannanum.morphs(text)\n",
    "print(hannanum_tokens)"
   ]
  },
  {
   "cell_type": "code",
   "execution_count": 9,
   "metadata": {},
   "outputs": [
    {
     "name": "stdout",
     "output_type": "stream",
     "text": [
      "['인생', '은', '모두', '가', '함께', '하는', '여행', '이다', '.', '매', '일', '매일', '사는', '동안', '우리', '가', '할', '수', '있는', '건', '최선', '을', '다해', '이', '멋진', '여행', '을', '만끽', '하는', '것', '이다']\n"
     ]
    }
   ],
   "source": [
    "okt = Okt()\n",
    "okt_tokens = okt.morphs(text)\n",
    "print(okt_tokens)"
   ]
  },
  {
   "cell_type": "code",
   "execution_count": 10,
   "metadata": {},
   "outputs": [
    {
     "name": "stdout",
     "output_type": "stream",
     "text": [
      "['인생', '은', '모두', '가', '함께', '하', '는', '여행', '이', '다', '.', '매일', '매일', '살', '는', '동안', '우리', '가', '하', 'ㄹ', '수', '있', '는', '것', '은', '최선', '을', '다하', '어', '이', '멋지', 'ㄴ', '여행', '을', '만끽', '하', '는', '것', '이', '다']\n"
     ]
    }
   ],
   "source": [
    "kkma=Kkma()\n",
    "kkma_tokens = kkma.morphs(text)\n",
    "print(kkma_tokens)"
   ]
  },
  {
   "cell_type": "code",
   "execution_count": null,
   "metadata": {},
   "outputs": [],
   "source": []
  },
  {
   "cell_type": "markdown",
   "metadata": {},
   "source": [
    "## 네이버 블로그 웹크롤링 \n",
    "* https://datart.tistory.com/28"
   ]
  },
  {
   "cell_type": "code",
   "execution_count": 50,
   "metadata": {},
   "outputs": [
    {
     "name": "stdout",
     "output_type": "stream",
     "text": [
      "('64bit', 'WindowsPE')\n"
     ]
    }
   ],
   "source": [
    "import platform \n",
    "print(platform.architecture())"
   ]
  },
  {
   "cell_type": "code",
   "execution_count": 51,
   "metadata": {},
   "outputs": [
    {
     "name": "stdout",
     "output_type": "stream",
     "text": [
      "Python 3.7.7\n"
     ]
    }
   ],
   "source": [
    "!python --version"
   ]
  },
  {
   "cell_type": "code",
   "execution_count": 13,
   "metadata": {},
   "outputs": [
    {
     "data": {
      "text/plain": [
       "'C:\\\\Users\\\\ASIA_12\\\\유통팀 프로젝트'"
      ]
     },
     "execution_count": 13,
     "metadata": {},
     "output_type": "execute_result"
    }
   ],
   "source": [
    "pwd"
   ]
  },
  {
   "cell_type": "code",
   "execution_count": 15,
   "metadata": {},
   "outputs": [
    {
     "name": "stdout",
     "output_type": "stream",
     "text": [
      "Collecting selenium\n",
      "  Downloading selenium-3.141.0-py2.py3-none-any.whl (904 kB)\n",
      "Requirement already satisfied: urllib3 in c:\\anaconda3\\envs\\py36\\lib\\site-packages (from selenium) (1.25.9)\n",
      "Installing collected packages: selenium\n",
      "Successfully installed selenium-3.141.0\n"
     ]
    }
   ],
   "source": [
    "!pip install selenium"
   ]
  },
  {
   "cell_type": "code",
   "execution_count": 52,
   "metadata": {},
   "outputs": [],
   "source": [
    "import sys\n",
    "import os\n",
    "import pandas as pd\n",
    "import numpy as np\n",
    "\n",
    "from bs4 import BeautifulSoup as bs\n",
    "from selenium import webdriver\n",
    "import time\n",
    "import tqdm\n",
    "from tqdm.notebook import tqdm"
   ]
  },
  {
   "cell_type": "code",
   "execution_count": 72,
   "metadata": {},
   "outputs": [
    {
     "name": "stdout",
     "output_type": "stream",
     "text": [
      "1. 크롤링할 키워드는 무엇입니까?트러플짜파게티솔직후기\n",
      "4. 조회를 시작할 날짜를 입려하세요(예: 2018-01-01)2019-07-08\n",
      "5. 조회를 종료할 날짜를 입려하세요(예: 2018-12-31)2020-09-24\n"
     ]
    }
   ],
   "source": [
    "query_txt = input('1. 크롤링할 키워드는 무엇입니까?')\n",
    "# query_txt2 = input('2. 제외할 첫번째 키워드를 입력하세요')\n",
    "# query_txt3 = input('3. 제외할 두번째 키워드를 입력하세요')\n",
    "\n",
    "start_date = input('4. 조회를 시작할 날짜를 입려하세요(예: 2018-01-01)')\n",
    "end_date = input('5. 조회를 종료할 날짜를 입려하세요(예: 2018-12-31)')"
   ]
  },
  {
   "cell_type": "code",
   "execution_count": 73,
   "metadata": {},
   "outputs": [],
   "source": [
    "path = \"chromedriver.exe\"\n",
    "\n",
    "driver = webdriver.Chrome(r\"C:\\Users\\ASIA_12\\chromedriver.exe\")\n",
    "\n",
    "driver.get('http://www.naver.com')\n",
    "time.sleep(2)\n",
    "\n",
    "element = driver.find_element_by_id(\"query\")\n",
    "element.send_keys(query_txt)\n",
    "element.submit()\n",
    "\n",
    "driver.find_element_by_link_text(\"블로그\").click()"
   ]
  },
  {
   "cell_type": "code",
   "execution_count": null,
   "metadata": {},
   "outputs": [],
   "source": [
    "#날짜 (언제쯤에 인기도가 상승하는지도 보기)"
   ]
  },
  {
   "cell_type": "code",
   "execution_count": 74,
   "metadata": {},
   "outputs": [],
   "source": [
    "driver.find_element_by_id(\"_search_option_btn\").click()\n",
    "\n",
    "driver.find_element_by_xpath(\"\"\"//*[@id=\"snb\"]/div/ul/li[1]/a\"\"\").click()\n",
    "driver.find_element_by_xpath(\"\"\"//*[@id=\"snb\"]/div/ul/li[1]/div/ul/li[1]/a\"\"\").click()"
   ]
  },
  {
   "cell_type": "code",
   "execution_count": 75,
   "metadata": {},
   "outputs": [],
   "source": [
    "driver.find_element_by_xpath(\"\"\"//*[@id=\"snb\"]/div/ul/li[2]/a\"\"\").click()\n",
    "time.sleep(2)\n",
    "\n",
    "s_date = driver.find_element_by_xpath(\"\"\"//*[@id=\"blog_input_period_begin\"]\"\"\")\n",
    "driver.find_element_by_xpath(\"\"\"//*[@id=\"blog_input_period_begin\"]\"\"\").click()\n",
    "s_date.clear()\n",
    "time.sleep(1)\n",
    "\n",
    "for c in start_date:\n",
    "    s_date.send_keys(c)\n",
    "    time.sleep(0.1)\n",
    "    \n",
    "e_date = driver.find_element_by_xpath(\"\"\"//*[@id=\"blog_input_period_end\"]\"\"\")\n",
    "driver.find_element_by_xpath(\"\"\"//*[@id=\"blog_input_period_end\"]\"\"\").click()\n",
    "e_date.clear()\n",
    "time.sleep(1)\n",
    "\n",
    "for c in end_date:\n",
    "    e_date.send_keys(c)\n",
    "    time.sleep(0.1)\n",
    "    \n",
    "driver.find_element_by_class_name(\"tx\").click()\n",
    "time.sleep(3)"
   ]
  },
  {
   "cell_type": "code",
   "execution_count": 40,
   "metadata": {},
   "outputs": [],
   "source": []
  },
  {
   "cell_type": "code",
   "execution_count": 79,
   "metadata": {},
   "outputs": [
    {
     "data": {
      "application/vnd.jupyter.widget-view+json": {
       "model_id": "7fe627f587c54ac299663a37523e0a6f",
       "version_major": 2,
       "version_minor": 0
      },
      "text/plain": [
       "HBox(children=(FloatProgress(value=0.0, max=10.0), HTML(value='')))"
      ]
     },
     "metadata": {},
     "output_type": "display_data"
    },
    {
     "name": "stdout",
     "output_type": "stream",
     "text": [
      "https://search.naver.com/search.naver?date_from=2019-07-08&date_option=0&date_to=2020-09-24&dup_remove=1&nso=&post_blogurl=&post_blogurl_without=&query=트러플짜파게티솔직후기&sm=tab_pge&srchby=all&st=sim&where=post&start=1\n",
      "백종원 만능소스 양파볶음이 들어간 양파게티 vs 화사의 트러플 오일 짜파게티 비교 시식 솔직후기\n",
      "농심 신제품 “트러플 짜파게티” 솔직 후기\n",
      "농심 신제품 트러플 짜파게티 큰사발면 솔직후기\n",
      "트러플 짜파게티 솔직후기\n",
      "[농심] 소비자가 선정한 트러플 짜파게티 솔직후기/송로버섯 오일의 맛은..?\n",
      "트러플 짜파게티 컵라면 솔직후기\n",
      "농심 트러플 짜파게티 큰사발면 솔직후기\n",
      "거제 고현 1943 술집에서 트러플짜파게티, 로제파스타치킨, 장인계란탕 솔직후기\n",
      "농심 트러플 짜파게티 솔직후기\n",
      "트러플짜파게티 노필터링 솔직후기\n",
      "https://search.naver.com/search.naver?date_from=2019-07-08&date_option=0&date_to=2020-09-24&dup_remove=1&nso=&post_blogurl=&post_blogurl_without=&query=트러플짜파게티솔직후기&sm=tab_pge&srchby=all&st=sim&where=post&start=11\n",
      "트러플 짜파게티 솔직후기\n",
      "트러플 짜파게티 컵라면, 솔직 후기\n",
      "농심 \"트러플 짜파게티\" 솔직후기 / 가격 / 칼로리 / 신상라면 리뷰\n",
      "[농심 신상] 트러플 짜파게티 !!! 솔직후기 !!!\n",
      "[트러플오일추천]올리타리아-트러플오일 솔직후기(+트러플 짜파게티)\n",
      "농심 트러플짜파게티 컵라면 솔직후기 및 파는곳\n",
      "[ 트러플 짜파게티 ] : 솔직 후기\n",
      "나혼자 산다 화사표 <트러플 짜파게티> 솔직 후기!\n",
      "신상 농심트러플짜파게티 솔직후기\n",
      "[식품] 편의점 볶음 컵라면 솔직 후기 - 짜파게티 트러플맛/콘치즈면\n",
      "https://search.naver.com/search.naver?date_from=2019-07-08&date_option=0&date_to=2020-09-24&dup_remove=1&nso=&post_blogurl=&post_blogurl_without=&query=트러플짜파게티솔직후기&sm=tab_pge&srchby=all&st=sim&where=post&start=21\n",
      "[화사 짜파게티] 레시피 공개 + ‘트러플 오일 없이’ 집에 있는 오일로 하는 경우 / 솔직 후기 참고\n",
      "농심 트러플짜파게티 큰사발 컵라면 직접사서 먹어본  시식 솔직 후기 리뷰\n",
      "농심 트러플 짜파게티 솔직후기\n",
      "트러플 짜파게티 큰 사발면 먹어본 솔직 후기 (2019)\n",
      "농심 신상 컵라면 트러플 오일 짜파게티 내돈주고 먹은 솔직후기~~!.! (feat. 기생충 소고기 짜파게티)\n",
      "농심 트러플 짜파게티, 35주년기념 신상컵라면 후기\n",
      "트러플오일 화사짜파게티 솔직 후기!\n",
      "[농심 신제품 솔직후기] 나도 먹어보았다 ! 트러플 짜파게티 큰사발면 ❤️\n",
      "짜파게티 트러플오일 신제품 솔직후기\n",
      "[내돈내산] 타르투피 모라 화이트 트러플 오일 _ PK마켓 트러플 오일 솔직 후기 / 트러플 짜파게티 끓이기\n",
      "https://search.naver.com/search.naver?date_from=2019-07-08&date_option=0&date_to=2020-09-24&dup_remove=1&nso=&post_blogurl=&post_blogurl_without=&query=트러플짜파게티솔직후기&sm=tab_pge&srchby=all&st=sim&where=post&start=31\n",
      "나만없어트러플오일 짜파게티에 트러플오일 넣은 솔직후기\n",
      "농심 신제품 '트러플 짜파게티' 솔직후기 :)\n",
      "[편의점신상/트러플짜파게티] 내돈내산 신상짜파게티 솔직후기! 읭,,,? (맛,가격,칼로리)\n",
      "비오는 날 야식땡기는 날은 신메뉴 트러플 짜파게티 먹어보기 (feat.솔직 후기)\n",
      "신상 컵라면 솔직 후기 '트러플 짜파게티 큰사발면'\n",
      "트러플 짜파게티 컵라면 솔직후기,,^.ㅜ\n",
      "나혼자산다 화사 짜파게티: 트러플 오일 짜장라면(트러플오일 짜파게티) 레시피 및 솔직 후기\n",
      "[농심 트러플 짜파게티] 35주년 기념 신상 라면 솔직 후기 / 한정판이니 꼭 드셔보시기를 추천!\n",
      "농심 트러플 짜파게티 먹어본 솔직후기\n",
      "짜파게티 + 트러플 오일 ? 화사님이 나혼자산다 에서 때린 그 짜장라면 솔직후기 남깁니닷! ㅣ 트러플오일 추천 맛 리뷰\n",
      "https://search.naver.com/search.naver?date_from=2019-07-08&date_option=0&date_to=2020-09-24&dup_remove=1&nso=&post_blogurl=&post_blogurl_without=&query=트러플짜파게티솔직후기&sm=tab_pge&srchby=all&st=sim&where=post&start=41\n",
      "농심_트러플 짜파게티 컵라면_솔직리뷰\n",
      "[자취요리/화사짜파게티] 트러플오일 맛 첫경험.. 난 별로인 솔직 후기!(현대백화점 트러플오일가격)\n",
      "KFC 트러플치킨 리얼 솔직후기!\n",
      "처갓집 트러플슈프림 양념치킨 솔직후기\n",
      "농심 트러플 짜파게티 - 35주년 기념 신상 컵라면 솔직한 후기\n",
      "[농심]트러플 짜파게티 후기\n",
      "마켓컬리 만토바 트러플 스트레이 오일 & 올리브영 스키니랩 곤약리조또 솔직 후기\n",
      "<트러플오일 짜파게티 컵라면 >후기\n",
      "트러플짜파게티 한정판 (컵라면,CU구매)솔직후기\n",
      "[내돈내먹] KFC 신메뉴 트러플 치킨 솔직 후기\n",
      "https://search.naver.com/search.naver?date_from=2019-07-08&date_option=0&date_to=2020-09-24&dup_remove=1&nso=&post_blogurl=&post_blogurl_without=&query=트러플짜파게티솔직후기&sm=tab_pge&srchby=all&st=sim&where=post&start=51\n",
      "무탄 압구정 마카롱멘보샤 트러플스테이크짜장면 맛있지만 웨이팅은 글쎄 솔직 후기\n",
      "대학로 혜화술집 이색 데이트 추천 장고상회 솔직후기\n",
      "압구정 무탄-핫한 마카롱멘보샤 스테이크트러플자장면?솔직후기!\n",
      "트러플오일 짜파게티(트러플짜파게티 컵라면)\n",
      "편의점 신상 라면 트러플짜파게티 별로임..\n",
      "압구정 무탄 솔직 후기 feat. Leica q\n",
      "처갓집양념치킨 신메뉴 트러플슈프림양념치킨 솔직 후기\n",
      "본죽_[트러플 전복죽] 격이 다른 맛과 풍미 (feat.삼계죽)/본죽 신메뉴 가격,맛,솔직후기\n",
      "라면이 좋아-트러플짜파게티 시식후기\n",
      "농심 사천짜파게티 큰사발면 조리+맛 솔직후기\n",
      "https://search.naver.com/search.naver?date_from=2019-07-08&date_option=0&date_to=2020-09-24&dup_remove=1&nso=&post_blogurl=&post_blogurl_without=&query=트러플짜파게티솔직후기&sm=tab_pge&srchby=all&st=sim&where=post&start=61\n",
      "[맛집] 피자스쿨 뚝섬역점 신메뉴 '트러플 버팔로 피자' 솔직 후기\n",
      "[편의점신상] 트러플 짜파게티 맛보다! 기대이하?\n",
      "[버거킹] 와퍼 리뷰 \"트러플 머쉬룸 와퍼 주니어\" 솔직 후기\n",
      "사비니 타르투피(SAVINITARTUFI) 트러플 소금 솔직후기!\n",
      "노브랜드 짜장라면 솔직후기 맛도 가성비도 좋아~~\n",
      "[압구정 술집] 압구정 핫플 술집! 배식당 솔직후기\n",
      "부산 기장 아난티 : 파스타맛집 분위기맛집 볼피노 솔직후기\n",
      "짜장라면 4종 비교 농심 짜파게티 유어스 공화춘 삼양 국민짜장 오뚜기 짜장면\n",
      "농심 앵그리 짜파구리 솔직후기!? 맵찔이 도전기!\n",
      "제주도 여행 '아르츠 스파앤 풀빌라 리조트' 내돈내산 솔직 숙박후기 :)\n",
      "https://search.naver.com/search.naver?date_from=2019-07-08&date_option=0&date_to=2020-09-24&dup_remove=1&nso=&post_blogurl=&post_blogurl_without=&query=트러플짜파게티솔직후기&sm=tab_pge&srchby=all&st=sim&where=post&start=71\n",
      "애슐리 서울대입구점 솔직후기!! 드디어 다녀왔네요 ㅎㅎㅎ\n",
      "[해운대 새벽 라인업] 스케줄 해운대, 카페인부산 내 돈내산 솔직후기\n",
      "수원시 금곡동 막내의주방 솔직후기\n",
      "\n",
      "혜화 맛집 인스타감성 장고상회, 감동받은 내돈내먹 솔직후기\n",
      "[키친아트 라면 포트 솔직 리뷰] 라면 포트로 처음 끓여보는 짜파게티와 몇 가지 장단점\n",
      "종로 익선동 더운날 피맥하러 아트몬스터 방문 솔직후기 : ) 피자 쏴라있네~\n",
      "청주율량동술집 겸 레스토랑 :: 데이트하기 좋은 오상그리아, 스테이크부터 파스타까지 솔직후기\n",
      "인계동 김승용 분식 솔직후기\n",
      "|신사역 꿉당| 꿉당 솔직 후기, 신사 꿉당 주차, 최자맛집, 신사역 목살구이\n",
      "https://search.naver.com/search.naver?date_from=2019-07-08&date_option=0&date_to=2020-09-24&dup_remove=1&nso=&post_blogurl=&post_blogurl_without=&query=트러플짜파게티솔직후기&sm=tab_pge&srchby=all&st=sim&where=post&start=81\n",
      "세종 빠스타스 어진점, 파스타 맛집 솔직후기\n",
      "곤약면 다이어트 야식대용 에잇템 밤이 되면 곤약면 까르보나라맛 +짜장맛 내 돈으로 사먹은 솔직후기\n",
      "\n",
      "부산기장힐튼맛집: 볼피노 솔직후기\n",
      "[혜화/대학로] 다이닝펍 장고상회 완전대박 솔직후기\n",
      "|포천 백운계곡 글램핑| 글램핑클럽레스피아 in 포천백운계곡 솔직후기\n",
      "\n",
      "장고상회 방문기~~ 대학로 핫플레스 인정? (솔직후기)\n",
      "롯데리아 지파이 고소한 맛과 하바네로 맛 솔직후기\n",
      "자이글 파티 스페셜로 소시지 구워 먹은 후기\n",
      "https://search.naver.com/search.naver?date_from=2019-07-08&date_option=0&date_to=2020-09-24&dup_remove=1&nso=&post_blogurl=&post_blogurl_without=&query=트러플짜파게티솔직후기&sm=tab_pge&srchby=all&st=sim&where=post&start=91\n",
      "어머니 모시고 도쿄등심 디너C코스 여의도점 솔직 후기\n",
      "[춘천/가평 빠지] 가평과 춘천의 사이, 어반 슬로우 시티 캠핑 후기\n",
      "공덕 비스트로램 공덕 양갈비 중에 이런데가 있었나 솔직후기 공덕 양갈비 마포 양갈비\n",
      "\n",
      "[을지로 와인바 평균율, 메뉴, 위치, 가격, 솔직후기, 힙지로, 을지로 핫플] 10월 8일 화요일\n",
      "화사 짜장라면 솔직 후기\n",
      "천안맛집, 신불당동 우리미엄 후기:)\n",
      "\n",
      "\n",
      "[버거킹]트러플통모짜버거랑 잔슨빌핫도그 먹어보기 할인받는 꿀팁 내돈주고 사먹은 후기 버거킹 신메뉴 버거킹 추천 메뉴\n",
      "\n"
     ]
    }
   ],
   "source": [
    "url_list = []\n",
    "title_list = []\n",
    "\n",
    "total_page = 10 \n",
    "for i in tqdm(range(0, total_page)):\n",
    "    i = i*10 + 1 \n",
    "    url = \"https://search.naver.com/search.naver?date_from={0}&date_option=0&date_to={1}&dup_remove=1&nso=&post_blogurl=&post_blogurl_without=&query={2}&sm=tab_pge&srchby=all&st=sim&where=post&start={3}\".format(start_date, end_date, query_txt, i)\n",
    "    print(url)\n",
    "    driver.get(url)\n",
    "    time.sleep(0.5)\n",
    "\n",
    "    titles = \"a.sh_blog_title._sp_each_url._sp_each_title\"\n",
    "    article_raw = driver.find_elements_by_css_selector(titles)\n",
    "\n",
    "    for article in article_raw:\n",
    "        url = article.get_attribute('href')\n",
    "        url_list.append(url)\n",
    "\n",
    "    for article in article_raw:\n",
    "        title = article.get_attribute('title')\n",
    "        title_list.append(title)\n",
    "\n",
    "        print(title)"
   ]
  },
  {
   "cell_type": "code",
   "execution_count": 80,
   "metadata": {},
   "outputs": [],
   "source": [
    "df = pd.DataFrame({'url': url_list, 'title': title_list})\n",
    "\n",
    "df.to_excel(\"blog_url.xlsx\")"
   ]
  },
  {
   "cell_type": "code",
   "execution_count": 81,
   "metadata": {},
   "outputs": [
    {
     "name": "stdout",
     "output_type": "stream",
     "text": [
      "100\n"
     ]
    },
    {
     "data": {
      "text/html": [
       "<div>\n",
       "<style scoped>\n",
       "    .dataframe tbody tr th:only-of-type {\n",
       "        vertical-align: middle;\n",
       "    }\n",
       "\n",
       "    .dataframe tbody tr th {\n",
       "        vertical-align: top;\n",
       "    }\n",
       "\n",
       "    .dataframe thead th {\n",
       "        text-align: right;\n",
       "    }\n",
       "</style>\n",
       "<table border=\"1\" class=\"dataframe\">\n",
       "  <thead>\n",
       "    <tr style=\"text-align: right;\">\n",
       "      <th></th>\n",
       "      <th>Unnamed: 0</th>\n",
       "      <th>url</th>\n",
       "      <th>title</th>\n",
       "    </tr>\n",
       "  </thead>\n",
       "  <tbody>\n",
       "    <tr>\n",
       "      <th>0</th>\n",
       "      <td>0</td>\n",
       "      <td>https://blog.naver.com/lyun1024?Redirect=Log&amp;l...</td>\n",
       "      <td>백종원 만능소스 양파볶음이 들어간 양파게티 vs 화사의 트러플 오일 짜파게티 비교 ...</td>\n",
       "    </tr>\n",
       "    <tr>\n",
       "      <th>1</th>\n",
       "      <td>1</td>\n",
       "      <td>https://blog.naver.com/dmsdud4750?Redirect=Log...</td>\n",
       "      <td>농심 신제품 “트러플 짜파게티” 솔직 후기</td>\n",
       "    </tr>\n",
       "    <tr>\n",
       "      <th>2</th>\n",
       "      <td>2</td>\n",
       "      <td>https://blog.naver.com/2012spoon?Redirect=Log&amp;...</td>\n",
       "      <td>농심 신제품 트러플 짜파게티 큰사발면 솔직후기</td>\n",
       "    </tr>\n",
       "    <tr>\n",
       "      <th>3</th>\n",
       "      <td>3</td>\n",
       "      <td>https://yeseul1622.blog.me/221609886148</td>\n",
       "      <td>트러플 짜파게티 솔직후기</td>\n",
       "    </tr>\n",
       "    <tr>\n",
       "      <th>4</th>\n",
       "      <td>4</td>\n",
       "      <td>https://blog.naver.com/wkdwkdwkd34?Redirect=Lo...</td>\n",
       "      <td>[농심] 소비자가 선정한 트러플 짜파게티 솔직후기/송로버섯 오일의 맛은..?</td>\n",
       "    </tr>\n",
       "    <tr>\n",
       "      <th>...</th>\n",
       "      <td>...</td>\n",
       "      <td>...</td>\n",
       "      <td>...</td>\n",
       "    </tr>\n",
       "    <tr>\n",
       "      <th>95</th>\n",
       "      <td>95</td>\n",
       "      <td>https://blog.naver.com/dandlelions?Redirect=Lo...</td>\n",
       "      <td>화사 짜장라면 솔직 후기</td>\n",
       "    </tr>\n",
       "    <tr>\n",
       "      <th>96</th>\n",
       "      <td>96</td>\n",
       "      <td>https://blog.naver.com/har5623?Redirect=Log&amp;lo...</td>\n",
       "      <td>천안맛집, 신불당동 우리미엄 후기:)</td>\n",
       "    </tr>\n",
       "    <tr>\n",
       "      <th>97</th>\n",
       "      <td>97</td>\n",
       "      <td>https://blog.naver.com/jok6835?Redirect=Log&amp;lo...</td>\n",
       "      <td>NaN</td>\n",
       "    </tr>\n",
       "    <tr>\n",
       "      <th>98</th>\n",
       "      <td>98</td>\n",
       "      <td>https://blog.naver.com/clcl9495?Redirect=Log&amp;l...</td>\n",
       "      <td>NaN</td>\n",
       "    </tr>\n",
       "    <tr>\n",
       "      <th>99</th>\n",
       "      <td>99</td>\n",
       "      <td>https://blog.naver.com/freeuphoria?Redirect=Lo...</td>\n",
       "      <td>[버거킹]트러플통모짜버거랑 잔슨빌핫도그 먹어보기 할인받는 꿀팁 내돈주고 사먹은 후기...</td>\n",
       "    </tr>\n",
       "  </tbody>\n",
       "</table>\n",
       "<p>100 rows × 3 columns</p>\n",
       "</div>"
      ],
      "text/plain": [
       "    Unnamed: 0                                                url  \\\n",
       "0            0  https://blog.naver.com/lyun1024?Redirect=Log&l...   \n",
       "1            1  https://blog.naver.com/dmsdud4750?Redirect=Log...   \n",
       "2            2  https://blog.naver.com/2012spoon?Redirect=Log&...   \n",
       "3            3            https://yeseul1622.blog.me/221609886148   \n",
       "4            4  https://blog.naver.com/wkdwkdwkd34?Redirect=Lo...   \n",
       "..         ...                                                ...   \n",
       "95          95  https://blog.naver.com/dandlelions?Redirect=Lo...   \n",
       "96          96  https://blog.naver.com/har5623?Redirect=Log&lo...   \n",
       "97          97  https://blog.naver.com/jok6835?Redirect=Log&lo...   \n",
       "98          98  https://blog.naver.com/clcl9495?Redirect=Log&l...   \n",
       "99          99  https://blog.naver.com/freeuphoria?Redirect=Lo...   \n",
       "\n",
       "                                                title  \n",
       "0   백종원 만능소스 양파볶음이 들어간 양파게티 vs 화사의 트러플 오일 짜파게티 비교 ...  \n",
       "1                             농심 신제품 “트러플 짜파게티” 솔직 후기  \n",
       "2                           농심 신제품 트러플 짜파게티 큰사발면 솔직후기  \n",
       "3                                       트러플 짜파게티 솔직후기  \n",
       "4          [농심] 소비자가 선정한 트러플 짜파게티 솔직후기/송로버섯 오일의 맛은..?  \n",
       "..                                                ...  \n",
       "95                                      화사 짜장라면 솔직 후기  \n",
       "96                               천안맛집, 신불당동 우리미엄 후기:)  \n",
       "97                                                NaN  \n",
       "98                                                NaN  \n",
       "99  [버거킹]트러플통모짜버거랑 잔슨빌핫도그 먹어보기 할인받는 꿀팁 내돈주고 사먹은 후기...  \n",
       "\n",
       "[100 rows x 3 columns]"
      ]
     },
     "execution_count": 81,
     "metadata": {},
     "output_type": "execute_result"
    }
   ],
   "source": [
    "url_load = pd.read_excel(\"blog_url.xlsx\")\n",
    "\n",
    "num_list = len(url_load)\n",
    "\n",
    "print(num_list)\n",
    "url_load"
   ]
  },
  {
   "cell_type": "code",
   "execution_count": 97,
   "metadata": {},
   "outputs": [
    {
     "data": {
      "application/vnd.jupyter.widget-view+json": {
       "model_id": "20e004130c5c44adbe00ee64cf02ce67",
       "version_major": 2,
       "version_minor": 0
      },
      "text/plain": [
       "HBox(children=(FloatProgress(value=0.0), HTML(value='')))"
      ]
     },
     "metadata": {},
     "output_type": "display_data"
    },
    {
     "name": "stderr",
     "output_type": "stream",
     "text": [
      "C:\\Anaconda3\\envs\\py36\\lib\\site-packages\\ipykernel_launcher.py:10: DeprecationWarning: use driver.switch_to.frame instead\n",
      "  # Remove the CWD from sys.path while we load stuff.\n"
     ]
    },
    {
     "name": "stdout",
     "output_type": "stream",
     "text": [
      "['백선생님 가르침에 따라 만든 양파볶음은 만드는 법은 매우 쉽지만 약간의 인내하는 시간이 필요했어요. 양파 자르는것이 전부라고 생각했었는데 양파 카라멜라이징 하는 것이 보통 힘든 것이 아니더라구요. 양파 7개가아니라 15킬로 했으면 정말 팔 빠질뻔 했습니다. ', '만능 양파볶음을 만들었으면 이제 본격적으로 양파볶음으로 간단한 요리를 시작해봅니다. 백종원 유튜브에서 추천하는 양파게티를 하기전에 개인적으로 궁금했던 화사의 트러플오일 짜파게티도 함께 만들어서 맛을 비교해보기로 해요! 화사가 나혼자 산다에서 나와 해먹었던 트러플오일 짜파게티입니다. 인터넷으로 레시피를 찾아봤는데 생각보다 많은 사람들이 이미 포스팅을 했더라구요. 그리고 만드는법이 워낙 간단해서 저도 이번에 해봤습니다. 마침 트러플오일이 있기도 했고, 무엇보다 비교하면서 먹는걸 좋아하는 남편이거든요! ', '재료는 아주 간단해요. 짜파게티 두봉지와 백종원의 만능 양파볶음, 그리고 트러플오일! ', '이게 백선생님이 유튜브에서 귀염둥이라고 부르는 양파볶음입니다. 만들때는 솔직히 조금 힘들었는데 이렇게 만들고보니 정말 유용한 만능소스가 되었네요. ', '트러플오일은 헬리겔 제품이에요. 실제로 트러플 조각이 들어간 트러플 오일! 향이 굉장히 풍부해서 약간만 넣어도 트러플의 향을 제대로 느낄 수 있습니다. ', '아마 대한민국 성인중에 짜파게티 못 끓이는 사람 없을거에요. 물이 끓을때 건더기 스프를 넣냐, 끓기 전에 스프를 넣냐 이런 차이만 있을뿐 끓이는 법은 크게 다르지 않습니다. 저는 처음부터 스프를 넣어서 끓였습니다. ', '화사 트러플오일 짜파게티는 물을 따르지 않은 상태로 바로 짜장스프를 넣어줍니다. 그리고 국물을 적당히 졸일때까지 익혀주면 되는 레시피에요. 아무래도 물을 따른 상태가 아니라 물이 있는 상태에서 졸이다보니 면이 조금 더 퍼지더라구요. 화사가 푹 익힌 면을 좋아해서 이런 레시피가 나온것 같아요. 하지만 남편과 저는 약간 꼬들한 면이 좋아서 백종원 양파게티는 평소처럼 끓이고 물을 따라버리는 방법으로 끓였어요. ', '역시 웍처럼 넓은 곳에다 끓이니 물이 금방 증발해버리더라구요. 순식간에 완성된 짜파게티입니다. 여기서 이제 중요한 트러플오일을 뿌려줍니다. ', '원래 들어있는 올리브오일을 빼고 트러플 오일을 뿌려주면됩니다. ', '저희가 가지고 있는 트러플 오일중에는 이렇게 스프레이가 달려있는 트러플 오일이 있어서 좀 더 편안하게 골고루 뿌릴 수 있었어요. ', '자 이제 시식~ \\n참고로 계란 노른자를 올려서 풀어줘야하는데 계란이 없는 관계로 트러플 오일만 뿌려주는것으로 만족했습니다. 계란 노른자를 올려 주면 더욱 담백해지긴 하겠죠? \\n트러플 오일이 들어간다고해서 맛의 극적인 반전이 일어나지는 않아요. 다만 기존 짜파게티에 비해서 향이 훨씬 풍부해진다고 해야할까요? 트러플 향이 솔솔 나는것이 짜파게티가 고급스러워졌어요.  단지 트러플 오일 몇 번을 뿌렸을 뿐인데 고급진 짜파게티가 되었네요. \\n그럼 이제 백종원 양파볶음이 들어간 양파게티를 끓여보겠습니다. ', '이전처럼 건더기 스프를 넣고 끓여준다음에 물을 적당히 덜어냅니다. 저는 개인적으로 물을 많이 버리지 않고 반 정도만 버렸어요. 물을 꽤 남겨두는것이 저는 맛이 더 좋더라구요. 그리고 백종원 양파게티 레시피대로 고추장을 조금 투하!', '그리고 이어서 백종원 만능 양파볶음을 넣어줍니다. ', '얼려놓아서 그런지 처음에는 잘 안풀어지는것 같지만 금방 잘 풀어져 짜파게티를 훨씬 풍성하게 해줍니다. \\n백종원 양파 볶음을 넣고, 그리고 이제 짜장스프를 넣어줍니다. ', '짜파게티 끓일 때 이 만능 양파 볶음 하나만 있으면 맛이 훨씬 풍부해지는 것 같아요. 끓을 때 냄새부터 다르더라구요. ', '완성된 백종원 양파게티입니다. 맛은 어떨까요? \\n저는 양파 볶음이 들어가서 확이 확 바뀔줄 알았거든요. 많은 후기에서 불맛도 난다, 중국집 짜장면 느낌이다 이런글을 봐서 솔직히 기대가 컸어요. 하지만 트러플 오일 짜파게티처럼 맛의 극적인 반전은 없었어요. 제가 양파볶음을 적게 넣은 것이 아닌가하는 생각도 들더라구요. 엄청난 맛의 반전은 없지만 확실히 풍미가 좋다고 해야할까요? 일반 짜파게티보다는 확실히 짜장면에 가까운 맛이납니다. 그냥 짜파게티를 먹기보다는 확실히 넣어서 먹는것이 나을것 같아요. ', '처음부터 고추장을 넣긴했지만 뭔가 부족한 것 같아서 짜장면처럼 매운 고추가루를 넣어줬더니 맛이 훨씬 좋더라구요. 살짝 매콤하니 사천 짜파게티가 된 느낌? 물론 백종원 양파볶음이 들어가서 훨씬 향과 맛이 풍부한 사천짜파게티에요. \\n엄청난 기대만큼은 아니었지만 그냥 짜파게티를 먹을때보다는 두가지 전부 괜찮았던 것 같아요. 기본적으로 맛있는 짜파게티가 업그레이드 되는 느낌이었습니다. \\n일상 음식에 많은 활력을 불어넣어주는 백종원 레시피! 사랑합니다~!!']\n",
      "['나 혼자 산다 프로그램을 통해 먹방을 선보였던\\n마마무 화사, 다들 아시죠?\\n곱창 대란에 이어 트러플 짜파게티까지 만들어 먹으면서\\n먹방계의 새로운 샛별로 떠올랐는데!\\n사실, 저는 방송을 보면서 이런 생각을 했답니다 \\n그래서 트러플 오일이 뭐냐고..\\n그게 뭔데 그렇게 맛있다는 거냐고...\\n솔직히 트러플 오일 안 먹어본 저로서는 너무 궁금했어요\\n그. 런. 데\\n그 짜파게티를 농심에서 새로 출시했다구요?\\nReary??', '', '', '이것이 그것입니다!\\n말로만 듣던 트러플 짜파게티🖤\\n농심에서 실시한 35주년 기념 짜파게티 신제품 투표에서\\n당당히 1등을 차지했다고 해요\\n소비자가 직접 선정한 제품으로 출시된 만큼\\n소비자들의 관심도가 높지 않을까 생각해봅니다', '✔️ 정보 \\n제품명 : 농심 트러플 짜파게티 큰 사발면\\n가격 : 1,320원\\n구입처 : 롯데마트\\n칼로리 : 485kcal\\n트러플 오일 함유량 : 0.001% (고형분 50%)', '', '영양정보 참고하세요\\n칼로리 면에서는 기존 짜파게티 큰 사발면 보다 양호한데요?\\n기존 짜파게티 큰 사발면 칼로리가 560kcal이니깐요\\n영양가는 별로 없겠지만 칼로리면에선 굿뜨!', '', '개봉을 하면 이렇게 스프 2개가 보이네요', '이렇게 봐서는 기존 짜파게티와 별 차이가 없어 보입니다', '✔️ 스프\\n과립스프 , 후첨소스(트러플 오일)', '물을 선까지 붓고 4분을 기다려 줍니다\\n참 아이러니하게도 컵라면 물 붓고 기다리는\\n이 4분은 왜 이리도 길게 느껴지는지~ㅎㅎ', '정확히 4분 후 물은 소량만 남겨두고 버려요.\\n물은 완전히 다 버리면 나중에 스프 넣고 섞을 때\\n뻑뻑해서 잘 섞이지 않으니 조금은 남겨두세요!', '물을 어느 정도 버렸으면 과립스프를 넣어주세요', ' 섞어주면 이런 비주얼입니다!', '여기에 후첨소스인 트러플 오일을 넣어주고 \\n다시 섞어 섞어 -\\n트러플 오일은 시중에서 쉽게 구하기도 힘들지만\\n가격이 어마 무시해서 구입하기엔 다소 부담이 가는 게 사실이죠!\\n그래서 전 이 짜파게티로 대신해보려구 맛봅니다', '', '실제로 화사가 트러플 짜파게티를 만들어 먹을 때\\n달걀노른자 하나를 넣어서 먹더라구요\\n이왕이면 최대한 비슷하게 만들어 먹으려고 저도 준비했어요', '노른자 하나를 그대로 투하!!', '🔺 영상 초점 흐려짐 주의 🔺', 'R E V I E W\\n트러플 짜파게티를 먹어 본 결과, 간단하게 아래 항목으로 정리해드릴게요', ' 1. 기존 짜파게티 보다 칼로리는 작다\\n2. 기존 짜파게티 보다 면발이 얇다\\n3. 기존 짜파게티 보다 확실히 풍미는 있다\\n4. 하지만 트러플 오일 함유량이 0.001% 극소량이므로 \\n    트러플 오일에 대한 기대감을 갖고 먹으면 실망한다\\n5. 평소 버섯을 싫어하는 사람에게는 안 맞을 수도 있다\\n6. 대형마트나 편의점에서 구매할 수 있다(가격차이 있음)\\n이 정도로 요약해서 정리해 볼 수 있었네요\\n사람마다 개인의 차이는 있겠지만 전 한번 먹어봤으니\\n앞으로는 그냥 조금 더 저렴한 짜파게티를 사 먹을 거 같네요\\n* 상기 포스팅은 제가 직접 지불하고 먹은 솔직 리뷰입니다 *']\n",
      "['예전 나혼자산다에서 마마무 화사가 짜파게티에 트러플 오일을 섞어서 먹은 게 \\n큰 화제가 되었는데요 \\n그래서 인지 농심에서 트러플 짜파게티라는 라면을 출시를 했어요 \\n소비자가 직접 선정한 제품으로 \\n35주년기념 짜파게티 신제품투표!!\\n에서 1등을 했다고 하네요 ', '트러플오일이 들어가서 인지 가격은 1,600원으로 \\n일반짜파게티보다는 조금 비싸긴 한데 \\n맛이가 너무나 궁금해서 구입을 해봤네요 ~\\n트러플오일 이라는 게 \\n송로버섯으로 만드는 오일인데 \\n아주 고가라 평소엔 접하기 힘든 음식인데 \\n맛이 궁금하긴 하네요 ~', '포장을 뜯어보면 스프와 면이 보이는데 \\n스프가 2개에요 !!', '면을 꺼내 본 컵속에는 \\n건양배추,조미볶음양파,콩고기가 들어가 있네요 .', '내용물은 면과 과립스프,후첨소스로 이루어져 있구요 ', '면을 살펴보면 \\n소맥분과 감자전분이 들어간 면이구요 ~', '과립스프는 일반 분말 짜장스프 이구요 ', '후첨소스는 \\n송로버섯 추출물이 0.001%(고형분50%)가 들어갔다고 하네요 \\n트러플 풍미유를 써서인지 트러플향이 조금 나긴 하는데 극 소량이라 \\n소고기국에 소고기 다시다를 넣은 정도라고 보시면 될 것 같아요 ㅋㅋㅋ\\n ', '', '스프를 빼고 끓는물을 점선까지 부어준 후 ', '젓가락을 꼽아 4분을 기다려요 ~', '4분이 지나면 물을 어느정도 따라버리고 ', '과립스프와 후첨스프를 넣어 ', '팍팍 비벼비벼 주세효 !!', '짜잔 !!\\n완성된 트러플 짜파게티 인데요 \\n향도 그럴듯하고 \\n맛있어 보이기도 하네요 !!', '그럼 먹어보겠습니다. \\n면을 젓가락으로 들어 맛을봤는데 \\n일반적인 짜파게티맛에 \\n풍미가 좀 더 있긴 한데 \\n생각보단 트러플오일의 맛이나 향은 그렇게  나진 않아요 \\n그것보다 볶은 양파맛이 더 진하게 나는 것 같네요 ㅎㅎ\\n맛은 괜찮은데  트러플맛을 바라고 드시진 마세요 ㅜㅜ\\n화사처럼 그냥 트러블오일을 사서 짜파게티면에 뿌려서 먹는 게 \\n진짜일 것 같네요 !!', '']\n",
      "['안녕하세요 :) \\n오늘은 몇일전에 먹었던 \\n트러플짜파게티 포스팅입니다♥\\n짜파게티만 먹은건 아니구요 :) \\n라면도 같이 먹었어요 ^^', '아마도~!\\n화사의 트러플 오일 짜파게티가 \\n인기가 많아져서 나온 제품이 아닌가 싶어요 :)', '소비자가 직접 선정한 제품인\\n트러플 짜파게티는 :) \\n투표결과 1위를 차지해서 나왔데요~!', '사실\\n화사님께서 만든 방법으로 \\n먼저 먹어보고 비교를 해야지\\n뭐가 더 맛있는지 알텐데 :( \\n트러플 오일로 먹어본 적이 없어서 \\n조금 아쉬웠어요~! \\n그래도 트러플 오일을 \\n개인적으로 구입하지않고\\n이렇게 간편하게 먹을 수 있는 제품이 나와서\\n 저도 먹어 볼 수 있게되었습니다♥ ', '컵라면 모양은 \\n일반 짜파게티랑 비슷하게 생긴 것 같아요 ^^\\n트러플 짜파게티 답게 \\n송로버섯추출물 0.001%가 들있데요 :) ', '그리고 \\n영양정보, 조리법을 상세히 읽어봅니다^^\\n일반 짜파게티에비해서 칼로리가 살짝 낮아요~!\\n일반 짜파게티는 550칼로리에요 :) ', '구성도 일반 짜파게티와 비슷하지만~!\\n후첨소스가 다릅니다 :) ', '바로바로 요것!!\\n이게 바로 후첨소스 입니다 :) ', '바로 요리 시~작!\\n면에 물을 부어주고 \\n뜨거운 물은 버리고~!\\n요 아래 과립스프를 넣어줍니다 :)', '그리고 쉣킷쉣킷~!', '라면은 남편님 담당인데\\n오늘따라 물을 너무 따라버려서 \\n조금 퍽퍽하게 됐어요ㅠㅠ', '결국 물 한숟가락 추가했습니다 ㅎㅎㅎ\\n어느정도 비벼졌다면~!\\n후첨소스를 넣어줍니다^^', '저는 트러플 오일 풍미를 개인적으로 안좋아해서\\n일반 짜파게티가 더 맛있어요 :) \\n맛이 완전 똑같다~!\\n이건 아니구요^^ \\n일반 짜파게티보다 풍미는 조금 있어요~!\\n아마 이게 트러플 오일 때문인것 같았는데\\n이 향때문에 일반 짜파게티보다 \\n조금 덜 느끼한 것 같아요 :) \\n화사님이 만들었던 짜파게티가 먹고싶은데\\n트러플 오일을 구매하는게 조금 \\n부담스러우신 분들은\\n트러플 짜파게티 추천드립니다 :) \\n가성비 짱이에요^^\\n하지만 \\n같은 향이 나는지는 모르겠어요~!']\n",
      "['얼마전에 나혼자산다에서 화사가 짜파게티에 트러플 오일을 뿌려 먹고 나서 갑자기 핫해진\\n트러플 오일...트러플 짜파게티 ㅋㅋㅋ\\n사실 트러플이 뭔지..ㅋㅋㅋ1도 몰랐던 저는...ㅋㅋ\\n송로버섯 오일이라기에 버섯 좋아하니\\n뭔가 내스타일일 것 같아 구매해보고 싶었는데\\n일반 대형 마트에선 안팔더라구요\\n트러플 오일이 저렴한 편도 아닌 것 같아서\\n맛만 보고 싶었던 저는 그냥 귀찮아서\\n안사먹고 있다가...\\n편의점에서 발견한 트러플 오일 짜파게티 ㅎㅎ\\n딱좋아 ㅎㅎ', '☝️', '', '☝️\\n소비자가 직접 선정한 제품이래요 ㅎㅎ\\n소비자들 ㅎㅎ대단하십니당 ㅎㅎ\\n좋아요 이런거 ㅎㅎㅎ\\n그만큼 핫했다는 이야기...ㅋㅋ', '☝️\\n큰사발면입니다 ㅎㅎ\\n원래 짜파게티를 잘 안먹지만\\n트러플 오일이 넘나 신기해 먹어봅니당 ㅎㅎ\\n입맛에 맞기를 ㅜㅠ', '☝️\\n뭔가 많이도 들어갔어요 ㅋㅋ\\n역시 인스턴트...ㅠㅠ', '☝️\\n여러분들은..트러플 오일 드셔보셨나요...\\n골목식당에서 숙대 버거 집에서 감튀에 트러플 오일\\n살짝 두르고 나온 감튀 맛있다던데...\\n넘나 궁금한 것...', '☝️\\n조리법은 뭐 비빔면 처럼\\n면 익혀주고 과립스프, 후첨스프 넣고\\n쉐킷쉐킷', '☝️\\n요렇게 하나는 과립스프\\n그리고 하나는 올리브오일 대신\\n트러플 오일입니당~\\n여기서 주인공이쥬~', '☝️\\n요렇게 면을 익혀주고\\n과립스프를 넣어줍니당 ㅎㅎ', '☝️\\n잘 비벼주고ㅠㅠ', '☝️\\n잘 먹습니다 ㅎㅎ\\n김치가 땡기는 맛이더군요 ㅎㅎㅎ\\n열무김치랑 같이 먹으려구 했는디..\\n어무니가 새로 꺼내야 된다고 해서..\\n급하게 볶은 알타리 무와 함께...ㅋㅋ', '그래서 김치와 함께 맛있게 잘 먹었습니당 ㅎㅎ\\n다른 분들은 어떻게 느꼈을지 모르겠네요ㅠㅠ\\n다행히두 얼마 지나지 않아\\n트러플 오일의 맛을 느낄 수 있는 식당을 가게되어\\n알게되었어요 ㅎㅎ\\n조만간 포스팅 갈게용~~\\n#농심 #트러플 #트러플짜파게티 #트러플오일 #농심짜파게티 #소비자선정 #신제품 #농심신제품 #신제품리뷰 #솔직리뷰 #먹방 #컵라면 #라면 #라면신제품 #컵라면신제품']\n",
      "['사놓은지는 아주 오래전 호랑이 담배피던 시절....큼큼\\n아무튼 되게되게 오래되었던 녀석을\\n이제서야 뜯어보았습니다\\n오래전이라 가격도 기억 안난다는점 죄송합니다', '소비자가 선정해서 출시하게된 트러플 짜파게티라는 점에서\\n투표했었던 저로썬 뿌듯\\n(사실 트러플 말고 와사비 클릭한 1ㅅ)', '화사씨의 영향력으로 이슈됐었던 트러플 짜파게티\\n실제론 굉장히 귀한 트러플\\n과연 얼마나 그 맛이 재현되었을지 궁금합니다', '35주년기념 신제품 투표로 공정하게 선정되었던 녀석입니다\\n역시 트러플 함량 0.001 ㅋ..\\n그래도 향은 나겠죠?\\n(사실 트러플이 어떤맛인지 어떤향인지 몰라요ㅠ)', '안에 내용물은 기존 짜파게티랑 동일합니다\\n면사리, 트러플오일, 짜파게티가루', '후첨소스와 과립스프는 빼놓고 뜨거운 물을 선까지 붓고\\n잠시 동안 인내의 시간을 가집니다\\n면이 익었으면 젓가락으로 톡톡톡톡 네번 찔러주시고\\n물을 두숟갈정도 빼곤 다 부어요\\n그 후에 가루넣고 대망의 트러플 오일을 부어요\\n비비면서 오일향에서 버섯향이 살짝 나요\\n그러면서 느껴지는 느~끼함\\n기존 짜파게티를 먹을때도 오일을 안넣거든요 느끼해서..', '역시 비빌때가 제일 좋다\\n향이 아주 솔솔 올라오는게 크~', '솔직 후기\\n기존 짜파게티보다 한층 느끼함을 더했고\\n트러플오일이 은근 강해서 짜파게티의 특유의 맛을 없애버렸다\\n니맛내맛 아니다\\n두 번은 못사겠고 이번으로 만족해야겠다\\n역시 난 사천 짜파게티가 좋다\\n알럽 사천 짜파게티', '지극히 개인적인 평이므로 느끼한걸 사랑한다하시면 구매해보시도록하시길 살짝쿵 귄유해봅니다']\n",
      "[' 안녕하세요 :-)) 코롱이입니다.', '화사의 짜파게티 비법으로 유명해진\\n트러플 짜파게티가 농심에서 새롭게 출시됐어요!!!\\n너무나도 먹고픈 탓에 주변 동네를 샅샅히 뒤졌지만\\n아직 안팔아서 직접 인터넷을 통해 \\n#농심트러플짜파게티 #농심트러플짜파게티큰사발면\\n12개입을 구입했어요.', '무려 농심에서  짜파게티 출시 35주년을 맞아 소비자 투표를 진행했는데 약 5만5000명이 참여한 투표에서\\n#트러플짜파게티 가 독보적으로 1등을 기록했다고 해요.\\n짜파게티는 어렸을 적부터 좋아하던 라면이라서\\n트러플오일이 들어간 짜파게티는\\n과연 어떤 맛으로 날지 너무 궁금해요.', '기존 짜파게티와 다르게 트러플 풍미유가\\n후첨소스로 들어있어요.\\n#트러플짜파게티큰사발 을 먹는 방법도\\n일반 짜파게티 만들어 먹는 방법과 동일해요.', '뜨거운 물을 붓고 4분 정도 기다린 후\\n면발을 잘 섞어주세요.\\n큰사발면 뚜껑에 표시 된 부분을\\n젓가락으로 퐁퐁 뚫어준 뒤 물을 아주 소량만\\n남겨두고 버려주세요.', '스프와 후첨소스와 함께 넣은 뒤 \\n비벼주면 뚝딱 큰사발면이 완성돼요.\\n트러플짜파게티를 더 맛있게 먹기 위해 \\n김밥천국 가서 돈까스김밥까지 사온 코롱이.', ' ', '후레이크도 넉넉히 들어있는 트러플짜파게티는\\n뭔가 기존 짜파게티와는 다른 맛이 나요.\\n실제 트러플오일을 한번도 먹어보지 않아\\n잘 모르겠지만 뭔가 코 끝을 오묘하게\\n자극하는 그런 풍미가 느껴져요.', '기존 짜파게티보다 면발이 더 탱글탱글해진 느낌도 들고?\\n음 단맛이 느껴지며 짜파게티의 짠맛이 줄은 느낌이예요.\\n돈까스김밥이랑 함께 먹으니 맛있다...!!!', '', '트러플 향은 잘모르겠고 중독성 느껴지는 맛이에요.\\n트러플짜파게티와 삼겹살을 함께 먹으면\\n더 맛있다는 소리를 들어서 다음엔 \\n꼭꼭 삼겹살이랑 먹어볼라구용.', '특히 트러플짜파게티는 김치보다 파김치랑\\n먹으면 정말 정말 맛있어용!!\\n맛에 대해선 뚜렷하게 설명하진 못하겠지만\\n오묘하게 중독성 있는 짜파게티 인걸로....!!!!\\n그나저나 컵라면 하나는 너무 아쉬워요.\\n몇 젓가락 하니깐 없어지는거 실화냐...?\\nㅋㅋㅋㅋㅋㅋㅋㅋ\\n여러분 드실 때 2개 사서 드세용❤\\n하나는 아쉬워요ㅋㅋㅋㅋㅋ\\n이상 코롱이의 #농심트러플짜파게티\\n#트러플짜파게티 솔직후기 였습니다.']\n",
      "['그저께는 완전 오랜만에 할매가 와서 저녁에 같이 밥먹었당 히힛 ㅎㅎ(뇽이 친친잇님들이라면 할매가 뇽이가 짱좋아하는 친친 친구인거 암ㅋㅋ)\\n 밥이라기보다는 저녁에 일마치고 같이 밥 겸 술 먹으러 고현으로 나갔는데, 얼마전에 새로 생긴 핫플인가 ?? ㅋㅋ 1943이라는 술집에 꼬고 !!', '앞에 화환들이 진짜 많았당 ㅋㅋ\\n요기가 유명 유튜버들인가 ?? BJ들인가 ?? 암튼 그런 유명한 사람들이 오픈했다고 하는데, 그래서 그런지 화환들도 진짜 많고 사람들도 많더라ㅎㅎ\\n★거제 고현 1943 거제점★', '올라가는 길부터 1943으로 도배ㅋㅋㅋ', '뇽이는 일마치고 가서 완전 추리하게 쭈글쭈글하게 갔는데, 안에 사람 짱짱 많은데 젊은 애기들은 완전 샤방샤방 예쁘게 꾸미고 잘 다니더라ㅠㅠ', '들어올때 입구에서 민증확인하면서 도장찍어줌!! 할매랑 도장 인증샷 ><♥ㅋㅋ', '할매랑 뭐맛있을지 찾다가,\\n트러플짜파게티랑 로제파스타치킨 먼저 시켜땅!!', '사람 짱짱 많당 !!!\\n우리는 다행히 웨이팅은 안걸렸당ㅎㅎ\\n오픈한지 얼마안돼서 보통 웨이팅한다더라~.~', '청하로 주문ㅋㅋ', '#로제파스타치킨 !!', '#트러플짜파게티 !!', '비쥬얼은 나름 괜춘ㅋㅋ\\n가격대비 나쁘지않은것 같았당ㅎㅎ', '할매랑 짠짠 ~.~♡♡♡', '로제파스타치킨은 나름 괜춘??ㅎㅎ\\n근데 치킨에는 딱히 손이 안갔당\\n왜냐면 치킨은 그냥 그랬으니까...ㅋㅋ', '트러플짜파게티는 맛은 있어보였는뎅...\\n너어어무 짰다 ㅠㅠ ㅋㅋ 그래서 한두젓갈 먹고 손이 아예안가서 거의 다 남겼음 ㅜㅠ', '짜파게티는 저기서 멈춤...ㅋㅋㅋ\\n근데 가성비 생각하면 양도 많고 괜찮았당ㅎㅎ\\n단지 맛이... ㅋㅋ 로제파스타는 그냥 평범ㅋ.ㅋ', '처음처럼 플렉스 시켜봤는데,\\n뇽이 스타일은 아니더라 ㅋㅋㅋ\\n대선 시킬랬는데 대선이 다떨어졌대서 ㅠㅠ\\n처음처럼으로 시켰더니 힝', '추가로 장인계란탕 주문!!!', 'ㅋㅋㅋ 취한건 아님... ㅋㅋㅋㅋㅋ\\n너무 못생겨서 필터씌웠당...ㅋㅋㅋ', '장인계란탕 주문했는데,\\n간이 하나도 안되어있어서 소금 좀 달라니까 다시 들고 갔다온다고 해서 다시 주방에 들어갔다가 데리고옴 ㅎㅎ 다시 갔다오니까 좀 더 졸이면 괜찮을꺼 같아서 계속 끓였다 ㅋㅋ', '홍합먼저 뺐당 ㅎㅎ\\n은근 많이 들어가있음ㅋㅋ', '계란탕보다는 나가사끼 짬뽕탕같은?ㅋㅋ\\n불맛도 나고 나름 괜찮았는데, 처음엔 간이 하나도 안맞고 밍밍해서 아쉬워뚬ㅋㅋ', 'ㅋㅋ맛이 덜 나서 쫄이면서 먹으니까\\n국물이 금방 없어져뜸 힝 ㅠㅠ\\n그래도 가성비는 요게 짱인듯ㅋㅋ\\n전체적으로 가성비는 좋은듯한데, 음식 맛은 조금 더 신경쓰면 좋겠당 ㅠㅠㅋㅋ 간이 너무 짜거나 간이 하나도 안되어있거나 중간이 없당...ㅋㅋ 그리고 너무너무 시끄러워서 20대 애기들이 먹고 마시기에는 좋을듯한데 ㅋㅋ 뇽이 스타일은 아니었당 ...ㅋㅋㅋ너무 시끄러워서 할매랑 서로 큰소리로 거의 소리치듯이 얘기해서ㅋㅋ 지금도 목이 아프다 ㅋㅋㅋ 목 쉰듯ㅋㅋㅋ', '암튼 오랜만에 할매랑 술한잔에 수다수다♥\\n할매 아니면 요런 핫플도 갈 일 없는뎅ㅎㅎ\\n할매덕분에 요래 거제 핫플 술집도 가보고 좋으다ㅋㅋ다음에 또 보쟈규 ><♥']\n",
      "['안녕하세요 IK입니다.\\n이번에는 농심에서 35주년을 기념해\\n트러플 짜파게티를 출시했다고하여\\n 포스팅을 준비했습니다.\\n진짜 화사님이 Tv에서 드시는거 다 화제가 되네요!\\n곱창도 그렇고 트러플 짜파게티도 그렇고\\n이거 광고 하셔야하는거 아닌가요?\\n구매는 쿠팡에서 큰 컵 109g 5개에 8,500원에\\n 판매하고 있더라구요! 개당 1,700원 정도에요.\\n뭐 100원 200원 정도 차이 나는거는 \\n그냥 감안하고 보시길!!\\n시작할께유~\\n#농심트러플짜파게티 #트러플짜파게티 #35주년짜파게티\\n#트러플짜파게티구매', '요렇게 5개입니당ㅎ\\n둘 곳이 없어서 이렇게 그냥 전자레인지 앞에 두었어요.\\n이미 2개는 나눔했구 2개는 제가 먹고 딱 1개 남았네요.\\n원하시는 분께 제가 먹기 전에 이글이 올라간다면 나눔 하겠습니다.', ' 소비자가 직접 선정한 제품이라고 합니다.\\n35주년 기념으로 투표를 했었군요!\\n영양정보도 나와있구요~\\n 조리법은 뭐 기존의 짜파게티와 동일하다고 생각하시면 되겠네요.\\n얼른 조리해서 맛을 알려드릴께요.\\n후첨소스 중 송로버섯 추출물이 0.001% 들어갔다고 하는데\\n과연 진짜 트러플 맛이 날지..?..\\n0.001퍼센트면 너무한거 아닌가 ㅎ.. 0.00001이 들어간 거잖아요;;', '구성은 이렇게 두가지가 들어있구요.\\n하나는 기존의 짜파게티 소스인거 같구 \\n밝은 색이 후첨소스인걸로 보아 트러플 향이 날 거 같아요.\\n후딱 물을 부어줄께요!', '역시 전기포트 최고!\\n완전 빨리 끓고 물도 온도가 엄청 높아서 금방 면이 익네용\\n컵라면은 엄청 오랜만에 먹는거 같아요.\\n제가 군대에서 컵라면에 질려버렸기 떄문에..\\n그리고 맛 자체도 봉지라면이 훨씬 맛있기도 하구요', '이게 무슨 사진이냐구요?\\n물버리는 거에용!\\n개인적으로 짜파게티는 물을 좀 남기는 편인데\\n얘는 그냥 다 버리는게 좋은거 같아요.', '소스 2종을 다 넣어줍니다.\\n오 0.001%여도 송로는 송로인가?\\n냄새가 납니다. 진짜 놀랍게도..\\n많이 나지는 않아요. \\n하지만 여기 트러플이 들어갔다는 생각이 듭니다.', '야무지게 비벼줍니다\\n한손으로 하려니 잘 안되네요. \\n생각보다 가루소스가 너무 빨리 뭉쳐버려서.ㅡ.\\n잘 비벼서 드시길!', '됐다 완성!!\\n오호.. 일단 맛 자체는 기존 짜파게티와 큰 차이는 없어요.\\n그냥 트러플 향이 아주 조금 난다는점?!?!\\n그게 다에요. \\n뭐 특별하다는 생각이 많이 들지는 않습니다.', '한 번쯤 호기심에 사먹어 볼 만한 맛이에요.\\n그렇지만 굳이 또 사먹고 싶지는 않아요 ㅎ\\n오른쪽 사진은 지파이와 함께 먹는 ~\\n짜파게티든 비빔면이든 튀김이나 고기류와 함께 먹으면\\n꿀맛!', '다 먹었습니다.\\n농심 트러플 짜파게티 요약하겠습니다.\\n1. 35주년 기념 소비자 선정 신제품이다.\\n2. 약간의 트러플 향이 나지만 특별한 맛은 아니다.\\n3. 한 번 정도만 호기심에 사먹어볼만 하다.\\n입니다. 감사합니다.']\n",
      "['소문의 트러플오일 짜파게티를 드디어 먹어본다.\\n진짜 맛있게 먹기 위해 아침도 안먹고 배를 곯려가며 때를 기다렸다.\\n꼬르륵♪  소리가 나자마자 가스렌지에 물 먼저 올려놓고 포장지를 뜯는다.', '', '', '', '', '용기에 적힌 조리법을 보면,\\n1은 스프와 소스를 넣고 물을 부으라는데\\n2는 물을 버리라구요? (1에 넣은 스프&소스 어쩌라고? )\\n그러고 3에 스프와 소스를 넣고 맛있게 비벼 먹으라규요? (1에 넣으래매요;;)\\n으와!!! 조리법을 10번을 읽고서야 1의 과립스프와 후첨소스를 꺼내고가 보이는 기현상(열번 읽는 동안 계속 넣고로 보였......)\\n애초에 1번은 너무 TMI 과잉설명아닌가?!\\n그래서 위에 적은 순서처럼 오해했쟈낭\\n됐고, 조리법 무시\\n1. 물을 표시선 말고 면이 잠길만큼만 넣기\\n2. 물을 조금 버리기(“이것도 잘 비벼지지않으면”문구때문에 조금만 버렸다규)\\n3. 과립스프 후첨소스를 넣고 비비기', '왜때문에 궁물 훙건? ', '장점 : \\n1. 신상이다\\n2. 궁금증을 유발한다\\n3. 도전정신이 생긴다\\n단점 : \\n1. TMI 조리법\\n(진짜 한 열번 읽고 이해함;;; 1번은 굳이 안넣어도 되는 순서아님?)\\n2. 물표시선까지 물을 넣을 필요가 없는데 음청 높은 곳에 물표시선이 있다.\\n(기존의 짜파게티는 낮은 표시선에 물버림 없이 스프만 넣어먹으면 딱!! 됐는데...)\\n3. 트러플... 향....이라는...게.... 뭐....죠?.....\\n5분만에 다 먹었다.\\n빨리 먹을 땐 이유가 세개에요.\\n1. 찐짜 맛있어서 허겁지겁 먹을때\\n2. 손 떨릴만큼 배고파서 숨도 안쉬고 먹을 때\\n3. 아 그냥 빨랑 먹어치우고 딴거 먹고 싶을 때\\n다음에 짜파게티를 먹어야 한다면, \\n나는 그냥 짜파게티를 먹을게요.\\n솔직후기 끄읕-']\n",
      "['이게 그렇게 궁금해서 동네 슈퍼, 편의점 6곳을 돌아도 없길래\\n포기하던 차에  모바일 gs fresh로 장보는데 뙇!일길래 주문ㄱㄱ ', '면+건더기스프, 분말과립스프, 후첨소스(트러플오일)', '읭??\\n기대가 컸던건가 트러플맛이 왜케 약해', '송로버섯추출물 0.001%때문인가^^^^^', '이맛이 아닐거야 그래!!화사처럼 계란 노른자를 넣어보자!!\\n해서 넣었는데....아~느끼한데 맛있다고 한 맛이 뭔지 알겠다\\n노른자 하나 넣었다고 이렇게 느끼해지다니...그렇지만\\n맛의 차이는 크게 느낄 수 없었고 조금더 느끼해지고 촉촉하다.\\n 짜계치(짜파게티+계란반숙+치즈)에 파김치 올려먹는게 짱!\\n#화사 #트러플짜파게티 #트러플 #짜파게티 #후기\\n#내돈주고사먹은후기 #실제후기 #솔직후기 #리뷰']\n",
      "['안녕하세요~ happy 혜나에요\\n화사가 먹었던 트러플 짜파게티가 나온다고 해서\\n너무너무 궁금했는데 이제 편의점에 깔렸더라고요\\n그래서 한번 먹어봤어요', '소비자가 직. 접. 선정한 제품\\n이라고 크게 쓰여있는 35주년 기념 짜파게티\\n트러플오일 짜파게티', '트러플오일향풍미유\\n송로버섯 추출물 0.0001%\\n향만 첨가된 건가? ㅋㅋㅋ\\n1600원이라는 가격이라 할 말은 없다만\\n가격을 높여서 좀 질 좀 높이지라는 아쉬움이 있더라고요', '구성은 비슷해요\\n면이 조금 얇은 것 빼면?', '4분 뒤에 물을 버리고\\n후첨스프를 넣어줬어요', '', '근데 트러플오일을 넣었는데\\n이거 원래 이런 향인가요?\\n뭔가 휘발유...?\\n냄새 같은 느낌은 뭐지? ㅋㅋㅋ\\n물을 조금밖에 안 남겼는데도\\n음...\\n정말 실망입니다\\n맛없어요\\n역시 짜파게티는 봉지 라면 이긴 한데\\n트러플오일의 기대가 컸던 건가요\\n차라리 화사처럼 따로 트러플 오일을 사가지고 \\n봉지 라면을 끓여 먹는 게 좋을 것 같아요\\n소비자가 뽑았지만 이건 아니다\\n저는 트러플오일 짜파게티 컵라면 비추입니다']\n",
      "예외가 발생했습니다. Message: no such element: Unable to locate element: {\"method\":\"css selector\",\"selector\":\".se-fs-.se-ff-\"}\n",
      "  (Session info: chrome=85.0.4183.121)\n",
      "\n",
      "['집앞에 홈플러스에서 장을 보다가\\n새롭게 출시된 트러플 짜파게티 컵라면이 \\n들어왔길래!! \\n리뷰를 하기 위해 얼른 집어왔다. ㅋㅋㅋㅋ\\n구매처 : 홈플러스 동탄점\\n가격 : 1320원 (편의점가 1600원)', '35주년 기념 신제품 투표에서\\n선정된 #트러플짜파게티 \\n나혼산에서 화사가 먹은게 유행이 되었다지\\nㅋㅋㅋㅋㅋ 근데 진짜 맛있어보이긴 했다ㅜㅜ', '트러플 짜파게티 칼로리는 \\n485kcal\\n그.. 그래.. 라면이 다 그렇지..\\n맛있으면 되었다!', '원래 짜파게티 컵라면은 물을 버리지 않아야 한다는 사실!! 다들 알고 계셨나요???\\nㅋㅋㅋㅋㅋㅋ다들 물 버리고 먹은거 다 알아\\n짜파게티는 눈금선까지 물을 붓고 비벼먹는 라면\\n그러면 되게되게 촉크초크해서 맛있당\\n👉🏻하지만 트러플짜파게티는 물을 다 버려야해요\\n물론 조금 남겨놓고 비비는건 개인 취향!\\n옆면의 레시피를 잘 따라해봅시다. ', '면 두께도 조금 얆아졌다더니 진짜 그렇다!!\\n후첨소스가 들어있는것도 바뀐점!', '끓는 물을 붓고 4분동안 기다려 줍니당. ', '그리고 콕콕콕콕\\n뜨거운 물 조심해서 잘 따라버리기', '건더기가 꽤나 많이 있다. \\n물 부어두고 다른걸 했더니 조금 퍼진느낌이지만..\\n그래도 소스들을 넣어봅니다!', '후첨 소스에서 트러플향이 훅 난다. ', '슥삭슥삭\\n움~ 때깔 조앙\\nTip: 사실 비비는데 너무 뻑뻑해서 \\n물을 한스푼정도 넣었다. \\n그랬더니 뭉치지 않고 잘 비벼졌음!', '화사처럼 노른자 똭', '슉슉 비벼서 먹어보기\\n< #트러플짜파게티후기 >\\n음!!!!!\\n개인적으로는 매콤한게 더 맛있다\\n예를들면 불닭게티..? ㅋㅋㅋㅋㅋㅋㅋ\\n트러플오일 평소에 좋아하는 편인데\\n짜파게티랑 섞으니까 좀 니글니글거렸음\\n게다가 노른자까지.. \\n화사는 느끼한걸 좋아한다고 했으니\\n이게 최애 맞겠다. \\nㅋㅋㅋㅋㅋㅋ\\n파김치랑 먹으면 또 맛있을지도..\\n하지만 김치, 단무지 없이 먹었던 화사..\\n너 존경해..(95년생 칭구)']\n",
      "예외가 발생했습니다. Message: no such element: Unable to locate element: {\"method\":\"css selector\",\"selector\":\".se-fs-.se-ff-\"}\n",
      "  (Session info: chrome=85.0.4183.121)\n",
      "\n",
      "['나혼자산다에서 화사가 \\n공개한 레시피가 인기를 끌었는데요 \\n일명 트러플짜파게티\\n그 유명새의 힘 입어 출시 된 \\n농심 트러플짜파게티 의 솔직후기를\\n말씀드릴께요', '', '', '2019년 7월8일에 출시된 농심 트러플짜파게티\\n 농심은 짜파게티 35주년을 기념하여 \\n트러플짜파게티 컵라면을 출시되었을 뿐만 아니라, 소비자들의 직접 선정한 제품 이라고 하는데요', '', '라면 코너에 가보니, \\n이미 당당하게 한 자리를 잡고 계시더라고요\\n소비자가 선정하고 신제품이라는 소리에\\n무척이나 궁금하게 하네요\\n앙증이랑 어여가자꾸나', '', '농심 트러플짜파게티 컵라면 파는곳 이 궁금하시죠!!\\n앙증은 청주가경동롯데마트에서 구매했답니다.\\n가까운 마트 및 편의점에서도 구매가능하십니다.', '앙증의 궁금증을 자극한\\n농심 트러플짜파게티 컵라면 의 맛은\\n과연 어떤지 궁금합니다.', '농심 트러플짜파게티 의 영양정보\\n총 내용량 109g\\n칼로리 485kcal (맛있으면 0kcal)\\n나트륨 1,210mg\\n탄수화물 69g\\n지방 19g\\n단백질 9g', '컵라면 속 내용물은\\n면, 과립스프, 후첨소스', '후첨소스에는 송로버섯추출물이 0001%\\n들어있다합니다.', '면은 기존의 면발과 다름이 없어보여요', '먼저 시작하기 앞서 조리법 보시고 가실께요', '끓는 물을 표시선까지 부어줍니다.\\n더 많이 부으셔도, 적게 부으셔도 상관은 없어요', '앙증은 4분 타이머를 맞춰놓았습니다.\\n젓가락으로 면을 잘 풀어주시고요', '상단 위에 있는 구멍을 뚫어 주시고', '물을 버려주세요', '과립스프와 후첨소스를 넣고 비벼주세요', '이리비비고 저리비비고\\n흔들어주세요 쉐킷쉐킷', '', '드디어 기다리던 \\n농심 트러플짜파게티 를 입에 넣는 순간입니다.', '이 맛은.....', '', '트러플오일 만의 향이 강하게 나지만,  \\n그 향과 오일이 면발과 과립스프 속 \\n깊게 스며들어 품격있는 짜파게티를 만들어주네요\\n입을 찰싹찰싹 휘감는 품격의 맛 \\n이라고 표현하셨었는데 \\n무엇을 의미하는지 알꺼 같아요\\n진한향을 느끼고싶으신 분들은 \\n부족하실수도 있겠지만, 저한테는 트러플오일이 \\n조금 더 들어가도 좋겠지만 지금도 괜찮아요\\n아, 다만 아쉬운게 있다면 양이 아쉽네요\\n두개 먹어야할듯', '소비자가 선택한 농심 트러플짜파게티\\n컵라면에서도 고품격이라는 단어가\\n어울리는 라면이었습니다.\\n고로, 트러플짜파게티 는 0kcal 입니다.\\n앙증의 입맛에는 잘 맞는 \\n농심트러플짜파게티 컵라면 솔직후기 및 파는곳 을 알려드렸습니다', '']\n",
      "['안녕하세요 솔미에요', '편의점 모바일 상품권을 사용하러 gs25에 갔다가\\n트러플 짜파게티가 눈에 뙇 들어오더라구요\\n다들 엄청 맛있다고 해서 저도 궁금해서 냉큼 사와봤죠 +.+\\n가격은 1500원이었어요!', '나 혼자 산다에서 화사가 먹방을 선보여서 유명해진 트러플 짜파게티\\n결국엔 제품으로 나왔ㅋㅋㅋ', '분말스프와 후첨소스가 들어있어요\\n기존의 올리브유가 아닌 트러플 오일!', '후첨소스를 뜯는데 정말 제가 맛알못인건지..\\n김(먹는 김) 냄새가 확 나면서 음 좀.. 별로더라구요ㅋㅋㅋㅋㅋㅋ 냄새부터가ㅠ\\n(어디까지나 개인적인 생각!!)', '설상가상 물까지 많이 남겨버려서ㅋㅋㅋ\\n조금 밍숭맹숭해졌어요 ㅠ_ㅠ\\n비비는데 냄새가 정말;; 제가 좋아하는 냄새는 아니더라구요..ㅎ', '뭐라 설명하지..\\n김에서 나는 냄새 같은데 고소한 기름 냄새에서 비린내가 섞인 듯한 느낌?\\n제가 평소에 버섯을 싫어해서 더 그렇게 느껴졌는지도 몰라요 @.@;\\n맛은 제가 너무 큰 기대를 했을까요..ㅎㅎ\\n평소 냄새에 민감한 편이라 그런지..\\n트러플 오일이 호불호가 강한 편이라 그런지..\\n저는 딱히 맛있다는 생각이 안 들더라구요\\n제 친구들도 생각보다 별로였다는 평이 많았어요ㅋㅋ\\n호불호가 심하게 갈릴 거 같은 제품이었어요!']\n",
      "['', '', '편의점을 다녀오는데 딱 눈에 띄는\\n트러플 짜파게티! \\n나혼자산다에서 화사님이 먹는 거 보고\\n궁금하다 했었는데 이렇게 나와버리기ㅋㅋㅋㅋ', '유튜버분들이나 블로그에서보면\\n저렇게 만들어 드시는 분들이 많아서\\n궁금했는데 이렇게 간단하게 먹을 수 있으니 짱 좋!', '구성물은 다 똑같구 +트러플 오일이 따로 있어요\\n조리는 원래 짜파게티 먹는 방식대로!\\n그냥 오일에서 트러플오일로만 바뀐거더라구요', '물선 맞추고 익을 때까지 기다리기!\\n야채는 미리 먼저 면과 함께 들어가 있는데\\n싫어하시는 분들은 물 붓기전에 빼세요!\\n저는 별로 안 좋아하는데 모르고 걍 조리함..', '짜란 \\n항상 향부터 자극시키는 짜파게티 스프...\\n항상 생각하는 “양 더 많았으면 좋겠다..”', '그리고 화룡점정 트러플 오일!\\n요거는 향이 엄청 나더라구요\\n잘 먹을일도 없지만 먹을 때마다 향에 감탄...', '쵹쵹해진 짜파게티\\n저는 물을 너무 버렸는지 살짝 퍽퍽..\\n물을 살짝 남겨 놓으세요 꼭!!!', '어때여? 맛있어 보이죠!!!\\n근데 실제로도 맛있어요!!\\n일단 향이 너무너무너무 좋아요', '트러플이 약간 고소한 고기냄새도 난다해야하나..\\n버섯인데 고기향 무엇ㅋㅋㅋㅋㅋ\\n맛은 분명 짜파게틴데 향으로 먹는 느낌??', '맛은 특별하게 변한건 아니지만\\n트러플 향이 확실히 많이나서\\n냄새로도 먹는 느낌이예요!! 저는 맛있음\\n유튜브 보니까 트러플을 듬뿍 넣던데 이유를 알게씀\\n저도 먹으면서 더 넣으면 더 맛있겠다 싶더라구요', '소비자 선정제품!! \\n기대 1도 안하고 먹어서 그런지\\n맛있네요! 트러플 오일이 궁금해지는...\\n집에 트러플 오일이 있다면 더 넣으면 더 맛!!']\n",
      "['요즘 #트러플짜파게티 가 \\n굉장히 핫하잖아요???\\n먹어보고싶었는데\\n호불호도 있고 그래서 망설여지는 찰나에!\\n농심에서 #농심트러플짜파게티  를 출시했지\\n뭐에요👍👍👍', '우연히 홈플러스에 들어가\\n바로구입!!!!!!', '오~ 소비자가 선정한 제품\\n농심 기획의도 인정!!!', '과립스프 후첨소스가 들어있어요', '잘익은 면을 보니 기존보다 얇은 느낌?\\n그리고 양이적은느낌??(난 늘 배가고프다)', '후첨소스 색깔은 옅은 갈색인데\\n향이 나긴 나요,, 송로버섯 향이 난다는데\\n모르게쒀요 일단 향이 나긴나욬ㅋㅋㅋㅋ', '아기대되,,,,\\n회사직원들과 기대를 한몸에 받던\\n이 친구 ㅎㅎㅎㅎㅎ\\n결론은 ㅎ\\n응!! 그냥 짜파게티!!!!!!!\\n응!!! 무슨향이 나긴나 미세하게 살짝\\n첨먹어보는 사람도\\n트러플오일 먹어본 사람도 \\n미세하게,, 향이,,\\n가격이 더 비싸므로 \\n그냥 짜파게티 사먹기로~ㅎ\\n제대로 느끼고 싶다면\\n 트러플 오일을 사보는걸로,,\\n#트러플짜파게티후기\\n#트러플짜파게티큰사발\\n#트러플짜파게티구입처']\n",
      "['요즘은 신상 라면이 너무 많다.\\n편의점에 가면 안 먹어본 종류가\\n절반은 넘을 정도로...!\\n궁금하긴 하지만 항상 고민하다가\\n결국 먹어봤던 맛을 고르게 되는 게 무한반복\\nㅋㅋㅋㅋㅋㅋㅋㅋㅋㅋㅋㅋㅋ\\n이번에는 좀 맛있어 보이는 게 있어서\\n신상 컵라면을 한번 사와 봤음', '짜파게티 트러플맛\\n1350원\\n! 35주년 기념 신제품 !\\n무려 소비자가 직접 선정한 제품이란다.\\n이것은 아마도 화사의 영향이겠지..\\n화사가 티비에서 짜파게티에\\n트러플 오일을 넣어 먹는 장면이 나와서\\n화제가 되었었음ㅋㅋㅋㅋㅋㅋㅋㅋ\\n요즘은 맛잘알이 유행을 선두하는듯ㅇㅇ..', '안에 내용물은 매우 심플함\\n짜파게티에 들어 있는 분말스프와\\n연두색(? 후첨소스!\\n오리지널 짜파게티에는\\n분말 + 건더기 + 올리브오일\\n이렇게 세 가지가 들어 있었던 것 같은데..\\n항상 건더기 스프를 넣고 \\n아무 생각 없이 물 부었다가\\n나중에서야 바닥에 깔려 있던 오일을\\n발견하는 대참사가.....\\n인간은 같은 실수를 반복하고....\\n그래서 이번에도 속지 않겠다는 다짐으로\\n면 들춰내면서까지 뭐가 더 있나 찾아봄\\n하지만 저 두개가 끝이었음^^...\\n건더기 스프가 그냥 들어가 있어서인가봄ㅇㅇ', '끓이는 방법은(사실 설명 안 봤음)\\n뜨거운 물 넣고 면 잘 풀어서 물 붓고\\n분말스프 넣고 섞고 마지막에 후첨소스!\\n그리고 잘 비벼 주면 됨ㅇㅇ\\n맛은...!\\n그냥 짜파게티 맛인데\\n뭐랄까... 탄 향? 같은 풍미가 있다.\\n사실 트러플 오일 먹어본 적 없어서 무슨 향인지\\n알 수 없고.. 비교할 수 없고.....\\n확실한건 일반 짜파게티보다 뭔가 고급진\\n그런 느낌인 것 같은 느낌적인 느낌', '', '다음은 콘치즈면이다.\\n1600원\\n옥수수와 체다치즈로 고소한 맛을 냈다고 함\\n평소 치즈볶이 컵라면을 아주아주 사랑하는 나는\\n콘치즈도 사랑하기 때문에 주저없이 도전했음\\n스프는 무조건 보노 콘스프,\\n생옥수수는 싫어함(?)', '개인적으로 포장 디자인 너무 귀여움..\\n노랑노랑한 것이 내 취향 저격해버림 ㅠㅠ', '이번에도 소스는 두 개가 들어 있고요\\n똑같이 분말 하나, 액상 소스 하나네요ㅇㅇ..\\n요즘 트랜드인가봄', '나름 디테일한 옥수수 건더기 스프....?\\n건더기 스프는 이제 아에 들어가는 걸로\\n바뀌었나봄ㅋㅋㅋㅋㅋㅋㅋㅋㅋㅋ', '뜨거운 물에 면을 잘 익혀서 풀어준 뒤,\\n물을 버리고 스프 두 개를 넣어 주었다!\\n분말 스프에서는 치즈볶이 냄새가 났고\\n액상 소스에서는 콘스프 냄새가 남ㅇㅇ........\\n그리고 비비는데 너무유혹적인 냄새에 \\n나도 모르게 사진도 안 찍고 \\n먹어버림ㅋㅋㅋㅋㅋㅋㅋㅋㅋㅋㅋㅋㅋ\\n그래서.. 사진은 없고요..\\n맛은 정말 치즈볶이에다가 콘스프 녹여서 넣은 맛?\\n맛있음ㅇㅇ\\n근데 나는 치즈볶이 따로,\\n콘스프 따로 각자 먹는게 더 좋은둣함', '', '']\n",
      "['[나혼자 산다]를 보자마자 이건 당장 먹어야겠다 하고 보니까.. 트러플 오일.. !!!!! 저는 트러플 오일을 키우지 않았습니다... 그래서 집에 있는 오일로 한번 만들어 보았습니다!!! JMT주의', '바로 달려가 짜파게티를 당장 삽니다', 'ㅡ> 물 3.5컵 정도 넣고 끓인 후', 'ㅡ> 바로 이 오일!!! 프리미엄 해바라기씨유...^_^ 일반적으로 집에서 해먹는 오일인데, 트러플 오일이 없으니 이렇게라도 해 보았습니다 ♥︎', 'ㅡ> 물이 끓는다면 짜장가루 투하!! (저는 물을 반정도 버렸습니다)', 'ㅡ> 화사가 좀 느끼하게 먹는거 같더라구요! 그래서 살짝 칼칼한 맛을 내주고자 고춧가루를 투하!', '', 'ㅡ> 작은 티스푼 기준으로 2스푼정도 넣었습니다! 면발을 더 탱탱하게 하기 위해서요!\\n식초맛이 나냐구요? 시큼하냐구요?\\n전혀 느끼지 못합니다 이정도 소량은요 :-)', 'ㅡ> 이렇게 섞어줍니다 훠이훠이-', 'ㅡ> 쪼그라들때까지 좀 기다린 후,\\n올리브조미유까지 넣어주고', 'ㅡ> 마지막에 계란 노른자는 저렇게 올려두면 흰자만 빠지더라구요! 걸러내는데 딱입니다 ♡', '', '', 'ㅡ> 주관적인 맛 평가 들어갑니다\\n♥︎ 면발 쫄깃\\n♥︎ 계란을 섞어서 먹을 경우 좀 느끼함 (느끼한 맛 좋아하시는 분들 취향저격일듯)\\n♥︎ 평소 먹는 기본적인 짜파게티 맛 보다 더 기름지고 부드러운 맛 느낌\\n♥︎ 짜파게티보다 짜장면 맛에 가까움\\n♥︎ 고춧가루 넣길 잘했음 (뒷맛 칼칼하고 완전좋음)\\n♥︎ 해바라기씨유 트러플오일만큼 향이 진하지 않지만, 급한대로 없는대로 이정도면 만족', '♥︎ 파김치에 먹으면 진짜 뒷맛을 깔끔하게 다 잡아줘버림 정말 추천함 !!\\n= 결론은 전체적으로 별 4개\\n= 엄청 대단한 맛은 아니지만 한번쯤 해먹어볼 맛\\n= 느끼한거 좋아하시는 분들께 강추\\n# 레시피 정리 #\\nㅡ> 짜파게티 + 집에있는기본오일 (해바라기씨유) + 고춧가루 1스푼 + 식초 티스푼 2번 + 짜파게티 올리브조미유 + 날계란 노른자 + 파김치']\n",
      "['안녕하세요 \\n새로나온건 직접 먹어봐야\\n직성이 풀리는 1인이자 집념의블로거 입니다ㅎ\\n오전에 농심 트러플짜파게티 큰사발 컵라면 출시\\n소식을 접하고 진짜 농심본사부터\\n집근처 편의점 마트 슈퍼 다 전화돌렷는데\\n(뻥아니고 강남~신논현~역삼~논현까지 싹전화함)\\n잘 모르시더라구요 ㅠㅠ\\n아니 이동네는 그래도 제일 먼저 깔릴 줄 알았는데...ㅠㅠ왜??\\n그래서 무식한 방법으로 진짜 실제로 구입하고\\n인증샷 올린 분들께 모두 찾아가서 댓글로 여쭤봤어요', '그러던 중 어떤 천사같은 분이\\n홈플러스익스프레스 봉천점에서 구매했다고\\n알려주시고 다른분도 홈플에 입고되었다고\\n해서 전화해보고 찾아갔어요\\n근데 왜때문에 서초 반포 홈익에는 \\n없는건지 ㅠㅠ 통화해봤더니 없다고 해서\\n배터리 3프로 남은상태로 봉천동 고고!!', '그렇게 먼 거리는 아닌데 \\n보이시나요 배러리 1프로...\\n저상태로 초행길을 가는데\\n폰꺼져버려가지고 사람들한테\\n길물어물어서 겨우 도착', '분명 갱냄역에서 출발한건10시인데\\n왜 돌아온건 11시반인가..\\n한시부터 점검들어간댔는데 빨리써야겠뜨아..\\n아므튼 우여곡절끝에 제 손에 들어온\\n트러플짜파게티 컵라면 큰사발!!\\n원랜 한개만 사려다가 힘들게 갔는데\\n아쉬운 마음에 네개를 사들고 왔씁니다', '소비자들이 농심35주년을 \\n맞이해 신제품 투표해서 1등을 차지해\\n 새롭게 나오게 된 녀석! 과연 맛이 어떨지\\n진짜 제가 하루종일 이거에만 매달려거든요', '호닥호닥 물끓여놓고 시작해봅니다\\n저는 대단한 장비도 없고\\n하필이면 디카도 없는 상태였어서\\n그냥 핸드폰으로 한손으로 들고\\n다른손으로 찍은거라 전문 유툽하시는분들과는\\n퀄릿이 다를 수 있으나 생생한 후기를 남기고자\\n찍어보았어요 ', '과립스프는 기존거랑 똑같구요 \\n면은 어떤분 리뷰에서 보니 면이 얇다더니\\n정말 기본맛 보다 얇더라구요 ', '요것이 바로 후첨소스 이자\\n송로버섯 향을 입혀줄 아이!', '젓가락을 꽂으면 요렇게\\n뚜껑과 몸통을 고정시킬 수 있게\\n해두어서 더이상 전공책으로 위에\\n눌러두지 않아도 되요...ㅋㅋ', '저는 제조사에서 알려주는대로\\n먹는게 제일 맛있다고 생각해서\\n시키는대로 스톱워치까지 맞춰놓고 \\n기다렸어요 ', '위에 뽕뽕 뚫어서 물을 따라내다가\\n내아까운 건더기들 떨굼..ㅠㅠ', '가루넣고 !!', '요건 뜯었더니 살짝 오오 향이\\n느낌있더라구요 근데 뭔가 제가\\n집에서 트러플짜파게티 큰사발 컵라면\\n나오기 전에 직접 만들어 먹느라고\\n샀던 오일이랑은 향이 살짝 다름?\\n무튼 일단 기대해봅니다', '희안하게 색이 투명한 갈색이예요', '한방울도 남기지 말고\\n아까우니까 쫙쫙 짜서 넣어봅니다', '내맘을 흔들어 쉐킷쉐킷포미~~셰킷셰킷\\n내가 너를 먹기위해 얼마나 고생을 했는지 아니ㅠㅠ\\n진짜 퇴근하기 전에 각 동의 지인들에게\\n이것파는곳좀 찾아달라고 얼마나 애걸복걸했던지..\\n그 간절한 마음을 담아스까봤어요 ', '드디어 입으로 영접할 시간\\n이거 맛있으면 이제 더이상 비싼돈 주고\\noil안사도 된다며... \\n안그래도 반도안되게 남아서\\n애껴먹고있었거든요 \\n과연 그 맛은??!!\\n음.... 뭔가 아쉽.;;??\\n향이 뭔가 제가 알고 있는거랑\\n좀 다른거같더라구요 ㅇ_ㅇ\\n그리고 불과2일전인가에 트러플들어간\\n요리를 먹었었는데 그거랑도 달라요..', '참고로 요게 제가 평소에 쓰던 \\n약2-3만원대 제품이예요', '결국 콸콸부어버림..!!', '아 나는 왜 굳이 힘들게 다녀온것인가..!!!\\n내가 천육백원에 너무기대가 컸던거신가!!!', '자괴감들며 에라몰라 부어버렷!!\\n이거 쓴다고 밤열두시에 라면먹는데\\n제대로된걸먹어야겠어..!!\\n(결국쓰다보니 점검중이라고 글발행안되서\\n아침에 이어쓰는중..흐규흐규)', '결국 제스타일대로 만들어서\\n한가닥도안남기고 다먹어버림..\\n흐아..하얗게불태웠다..', '트러플짜파게티 큰사발 컵라면 먹어본 후기 \\nㄴ결론:기존에 송로버섯오일 써봤거나\\n들어간걸 많이먹어본분은 아쉬울수도\\n그러나 소비자의견반영해서 만들었다는점에\\n박수. 처음 먹는분은 색다를것.\\n저는 세개는 안먹어본사람들 선물할거고\\n걍 일반거사서 갖고있는걸 왕창넣고\\n만들어먹기로했습니다^^;', 'ㅡ신제품에 환장해서 직접발로뛰어 사먹고 작성한 글이며.맛에대한평가는\\n주관적이니 참고만해주세요^^ㅡ']\n",
      "['화사가 먹은 짜파게티라고\\n진짜 추천을 너무많이 들었지만\\n유행을 매우 싫어하는 나\\n과감하게 무시하고 살다가\\n가아아아아아압자기 편의점에\\n이것만 딱 하나 남았길래 도전', '소비자가 직접 선정했다고오...?\\n이러면 안믿을수가없자냐\\n이러고 바로 구매\\n룰루\\n룰루랄라랄 하고 뜯어서 조리\\n면조리는 자신있다구', '물적당히 버리고 자작하게\\n휘비휘비\\n비비적스 해서 트러플오일까지☆\\n결론\\n진심 핵노맛 토할거같다\\n트러플오일 향부터 토할거같았다\\n그치만 내가 촌놈이라 그런거라 생각하고\\n꾸역꾸억 더 야무지게 비벼서 다먹었다\\n그랬더니 입안에서 트러플오일향이 남아서\\n하루종일 나를 괴롭혔다\\n회사 잘릴 각오하고 점심에 맥주로 입헹구고 싶을정도\\n완전히 주관적인 리뷰지만\\n짜장최애러버인 나에게 치명타 그자체\\n수고염^.~']\n",
      "['평소에 자주 먹는 짜파게티 \\n컵라면으로 먹으면 그 맛이 덜해서 항상 봉지 라면으로 먹는데\\n이번에 인스타 구경하던 중에 발견해서\\n급 편의점 가서 사서 먹어본 후기 ', '겉 포장지가 일반 짜파게티랑 비슷해서 \\n못 찾을뻔하고 그냥 지나칠 뻔했지만 \\n기가 막히게 발견하여 바로 구매 \\n내가 먹을 거 하나 흔녀가 먹을 거 하나 두 개 구매', '이런 걸 선정하는 투표가 있었는지도 몰랐는데\\n소비자가 직접 선정한 메뉴라고 함\\n35주년 이란 것도 처음 알았고... \\n생각보다 나이가 많았던 짜파게티 홍아\\n나보다 세 살 형 ', '바깥쪽만 본다면  구분이 잘 안 가는 트러플 짜파게티 큰 사발면 \\n트러플이라고 적혀있는 걸 잘 보고 사야 됨', '칼로리 보면 500칼로리 조금 안된답니다.\\n아침에 밥 먹을 때 곁들여 먹었는데 한 끼로 충분한 칼로리\\n문제는 한 그릇 먹어도 배가 안 부른 게 함정;', '트러플오일향 풍미유 쪼끔들어감\\n위에보면 송로버섯 추출물 0.001% 들어간다 되어있음\\n송로버섯 씻은물 들어간것인가....\\n하긴 컵라면 가격에 송로버섯이 많이들어가길 기대하는것도 노양심', '라면 개봉 하면 아래쪽에 건더기가 깔려있어서  안보이지만\\n면 그리고 건더기가 들어있고 ', '과립스프와 후첨소스 두개가 추가로 들어있답니다. ', '뜨거운물 넣고 \\n4분의 기다림의 시간을..', '2~3분정도 지났을때 휙휙 저어주면 좀 더 골고루 익은 라면을 먹을 수  있음 ', '4분이 지났으면 위쪽에 있는 물 버리는 구멍에 젓가락 찔러서\\n물을 버려준답니다. 물을 버릴때 다 버리지말고 아빠숟가락 3숟가락 정도 남기고 버려야\\n촉촉한 짜파게티를먹을수있으니 참고하세요! ', '물까지 버리고 나니 얼추 라면같아짐', '먼저 과립스프를 넣고 슥슥 비벼준뒤 ', '후첨 소스 송로버섯이 0.001%나 들어가잇\"는 소스를 넣어준답니다.\\n송로버섯이 들어있어서 인지 살짝 색이 갈색 느낌이나고 가루도 살짝 보임', '완성!\\n먹어본 결과 살짝 송로버섯 향이 느껴지긴 하지만\\n막 강력하게 와 맛있네 이런느낌은 아니어서 아쉽\\n사람들에 따라서 버섯향 많이난 다는 사람도 있었지만\\n내가 먹기엔 그냥 살짝 풍미가 더 강한 짜파게티 정도 \\n이거때문에 몇백원 추가해서 짜파게티를 먹어야 하나 싶은 생각', '짜파게티만 먹으려 하였으나\\n기대보다 별로여서 김치 올려서 먹음\\n역시 이 두 조합은 말이 필요없는 조합 ', '트러플 짜파게티는 김치랑 먹었을때 가장 맛있는 조합인걸로\\n호기심에 하나 사서 먹어봤찌만 그냥 저냥 이었던 트러플 짜파게티 큰사발변\\n한번 사서 드셔보는건 추천하지만 너무 기대하진 말고 \\n트러플 오일을 직접 뿌려 먹는것과는 다르다는 점만 생각하고 드신다면\\n일반 짜파게티 큰사발면 보다는 더 맜있게 먹을수 있답니다 ']\n",
      "['안녕하세요 전지적 블로거 시점의\\n블로거 전블시입니다~~', '저는 원래 라면 종류 중에서는\\n짜파게티 비빔면 라면볶이 등등\\n비벼먹는 라면을 굉장히 선호했는데요~\\n요새 짜파게티가 아주 선풍적인\\n인기를 끌고 있죠?!', '영화 기생충에서 나왔던\\n한우 짜파구리도 열풍이었고', '화사님이 나혼자산다에 나오셔서\\n선보인 트러플오일 짜파게티 또한\\n엄청난 반향을 일으켰죠!👍', '그리고 이번에 농심에서\\n물들어올때 노젓는다고 출시한', '농심 트러플 짜파게티 컵라면!.!\\n저는 CU에서 1600원을 지불하고\\n구매했어요~ 가격은 일반 컵라면과\\n크게는 차이가 없는 편이네요\\n전 진짜 비쌀줄...ㅋㅋㅋ\\n우선 가격보고 살짝 기대접고 먹습니다ㅎ..', '이 트러플 짜파게티의 특징은\\n원래 짜파게티는 물을 버리지않는데\\n이 친구는 물을 버리게 되어있더라구요?', '그리고 실제로 트러플오일이 있는게\\n아니라 트러플오일향풍미유...\\n그래도 1600원이니까요! 하하핳', '저는 짜파게티에 들어있는 액상\\n올리브오일 조미유처럼 있을줄\\n알았는데 후첨소스의 형태로 있네요?!\\n후레이크는 라면 밑에 깔려있어요~!', '그런 의미에서 저거만 먹으면\\n심심하니까 소고기를 준비했습니다.', '한우...사고싶지만 한우로 하면\\n짜파게티 맛도 안날정도로\\n한우가 맛있다더라구욬ㅋㅋㅋㅋㅋ\\n저는 합리적으로 미국산 소고기\\n쓰도록 하겠습니다! 목심+등심~', '근데 미국산 진짜 싸네욬ㅋㅋㅋ\\n이정도 크기가 13496원...?\\n가격파괴범 ㅇㅈ합니다', '일단 멀리서 온 친구 더울까봐\\n냉장고에 넣어뒀다 꺼냈으니\\n찬 기운이 가시도록 조금 기다려줍니다', '마리네이드 과정을 거쳐볼까요!\\n소금을 소금소금 후추를 후춧후춧\\n앞뒤로 소금과 후추를 조금 과한가?\\n싶을정도로 뿌려줍니다~\\n고기가 이정도로 두꺼우면 왠만큼 뿌려서는\\n짜다는 생각이 잘 안들어요!', '올리브유를 적당량 뿌려줍니다~\\n올리브유 없으시면 포도씨유나\\n식용유도 괜찮습니다!', '그리고 비닐로 덮어서 20분 정도\\n기다림의 시간...!', '그럼 스테이크를 시작해야죠!\\n아까 고기에 뿌려놓은 기름이 있지만\\n프라이팬을 달궈준뒤 두바퀴 둘러줍니다!\\n그래야 고기가 타지않아요~~~', '무자비하게 프라이팬으로 투척\\n그는 좋은 소고기였습니다...🙏', '처음에는 중불~강불 사이의 세기로\\n시어링을 해줍니다!\\n시어링은 고기 표면을 바싹 익혀서\\n육즙을 가두는 조리법인데\\n이게 효과가 있다없다 말이 많더라구요\\n그래도 저는 그냥 이게 맛있어서 합니다ㅋㅋㅋ', '그렇습니다! 생각보다 많이 익히셔야해요', '이제 뒤집어서 반대쪽 면을\\n이 정도 굽기로 익혀줄 시간입니다', '거의 빗소리ㅋㅋㅋㅋㅋㅋㅋ\\n이제 비오는 날은 전보다 소고기...☆', '두꺼운 고기이므로 잘라서 옆면도\\n시어링해줍니다! 기름이 아주 따끔하네여\\n조금 있다가 먹어서 혼내주도록 할게요', '양쪽을 다 익히셨다면\\n불을 낮추고 뚜껑을 덮어\\n안쪽까지 익혀줍니다~~~\\n가끔 뒤집어주셔야해요!', '기다리는동안 소고기와 곁들일\\n홀그레인 머스타드를 준비합니다\\n한우와는 소금, 수입육과는 홀그레인이\\n찰떡궁합을 자랑하죠!', '이제 다익은듯하죠?', '옮겨서 레스팅 시간을 가져줍니다~\\n고기가 식으면서 육즙이 골고루\\n고기 전체에 퍼지게하는 과정이죠!', '그럼 그동안 짜파게티에 부을\\n물을 끓여주도록 하죠!\\n소고기에 홀렸지만 메인은\\n트러플오일 짜파게티라구요~~', '물이 끓으면 용기에 부어주고', '4분간 기다리기~\\n저는 조금 꼬들한걸 좋아하고\\n불은걸 극도로 싫어해서\\n3분만 익히도록 하겠습니다!', '기다리는 동안 빠르게 구워놓은 고기를\\n썰어줍니다! 저는 미디움레어를 선호해서\\n약간 핏기있는 정도까지만 익혔어요', '고기양이 많아서 잘라도잘라도\\n끝이 없군요ㅋㅋㅋㅋㅋㅋ', '이쁘게 담기엔 양이 많으니\\n그냥 쌓아버리기~~~\\n그래도 충분히 맛있어보이죠~!', '그럼 이제 컵라면의 면상태를 \\n젓가락으로 휘저어 확인해주고\\n물을 버립니다', '보시다시피 스프는 일반 짜파게티와\\n같고 후첨스프가 트러플 오일인듯 해요\\n기름에 트러플 건더기가 조금\\n있는거같은데 우선 비벼보겠습니다~', '비빔박자에 맞춰서 쓰까쓰까~~~', '노른자가...터져버렸네?', '하...재도전하도록 하겠습니다', '우워어어어어어~~~!!!', '크...비쥬얼보소......', '이것이 완성형\\n기생충 소고기 트러플 짜파게티!.!\\n짜파구리가 아닌게 아쉽지만ㅠㅠ', 'ㅋㅋㅋㅋㅋㅋㅋㅋㅋ넘 건장하네여\\n면기 왤캐 작아보이누...', '노른자를 터뜨려 비벼주고\\n고기에 홀그레인 머스타드를 올려서\\n한입 먹어주면 아......', '근데 문제가 있어요\\n트러플 오일이...들어간건지 잘\\n모르겠어요ㅋㅋㅋㅋㅋㅋ\\n홀그레인 머쓱타드;;', '짜파게티만 먹어도 그 향이 뭔가\\n콧털 한올에는 걸리는거 같기도하고...\\n좀 부드러운가? 싶긴한데 그냥\\n노른자버프같아요ㅋㅋㅋㅋ\\n나중에 진짜 트러플오일 사서 뿌려\\n먹으려구요ㅋㅋㅋㅠㅠ\\n싼게 비지떡이다는 진리입니다 홀홀', '지금까지 농심에서 출시된\\n신상 컵라면 \"트러플 짜파게티\" 리뷰였구요\\n재미있게 보셨거나 유용한 정보였다면', '부탁드릴게요~~~~~ ^.~']\n",
      "예외가 발생했습니다. Message: no such element: Unable to locate element: {\"method\":\"css selector\",\"selector\":\".se-fs-.se-ff-\"}\n",
      "  (Session info: chrome=85.0.4183.121)\n",
      "\n",
      "['안녕하세요~\\n오늘은 드디어 트러플오일이 한 일주일만에 배송이 되어서요.\\n요즘 핫하다는 화사짜파게티를 해먹어 봤어요.', '우선 저는 신랑이랑 먹으려고 짜파게티 3개를 끓였구요.\\n물은 1.3L정도 넣고 짜파게티 안에 들어있는\\n올리브오일은 뺀 나머지 스프를 다 넣고 자글자글 쫄여줬어요.', '오늘 쓰일 트러플 오일입니다.\\n네이버 쇼핑에서 샀구요.\\n가격은 100ml에 19,000원. \\n가격이 조금 쎄긴 하지만 맛만 좋다면 뭐 ㅎㅎ', '성분표시도 잘 되어 있구요.\\n네이버쇼핑에서 보니 제일 잘 팔리는 오일로 구매를 했어요.', '자글자글 쫄여진 짜파게티에 트러플 오일 투하!\\n오일이 막 부어서 나오는게 아니라 몇방울씩 나와서 좋은거 같아요.\\n다 쏟을 염려는 없으니까요 ㅎ', '그리고 마지막은 계란 노른자 2개를 넣어서 비벼줬어요.', '반짝반짝 윤이나는 트러플짜파게티 완성!\\n너무너무 맛이 기대가 됩니다.', '자, 본격적으로 먹어보았는데요.', '이상 포스팅을 마치겠습니다.\\n♥️감사합니다♥️']\n",
      "['안녕하세요 :) 첼로쟁이에요 ! ', '오늘은 요즘 SNS나 먹방유튜버 사이에서 유명한 #트러플짜파게티 후기를 가져와보았는데요 :) 저랑 소통중이신 잇님들도 많이 드셨더라구요 ! 그래서 더욱 먹어보고싶어서 오늘 한번 가져와보았어요 ㅎㅋㅎㅋㅎㅋ 그럼 함께 가실까요 ~~~? ', '“나혼자산다” 프로그램에서 마마무 화사가 짜파게티에 트러플 오일을 섞어서 먹어 큰 화제가 되었는거 다들 아시죠 ~? 그래서 농심에서 트러플 짜파게티라는 라면을 출시를 했답니다 👏 소비자가 직접 선정한 제품으로 35주년기념 짜파게티 신제품투표!! 에서 1등을 했다고 하네요 ! 과연 그 맛은 ~~~~~~? ', ' ', '트러플오일이 들어가서 그런지 가격은 1,600원으로 일반짜파게티보다는 조금 비싸네요 :)\\n트러플오일은 송로버섯으로 만드는 오일인데 아주 고가라 평소엔 접하기 힘든 음식이랍니다 ^0^ 맛이 아주 궁금하네요 ! ', '109g / 485kcal', '스프를 빼고 물을 점선까지 부어주고 기다립니다 :) ', '그리고 과립스프와 후첨스프를 넣어줍니다 ! ', '그리고 계란 노른자만 딱 올려서요 ! ', '비벼 비벼~~~~~ 비벼줍니다 ✌🏻', '', '짠 ! 비벼서 먹어보았는데요 ,, 개인적으로 음 ! 맛있긴하지만 너무 기대했는지,,, 저는 그냥 봉지 짜파게티에 계란 반숙 올려서 먹는게 제일 맛있네요 ㅎㅋㅎㅋㅎ 한번쯤 먹어봐도 좋을 것 같아요 ! 👏♥️']\n",
      "['일요일에 내가 바로 짜파게티 요리사죠?ㅋㅋ\\n요즘 유투버들 사이에 유명한 농심에서 나온\\n기존 짜파게티에서 가수 마마무의 화사씨가\\n먹는걸로 유명해졌는데\\n오늘 짜파게티 트러플 오일 신제품 사봤어요', '소비자가 직접 선정했다고 적혀있네요\\n디자인은 똑같은데 앞에 트러플오일이라고\\n적혀있습니당', '쇼닝이가 짜파게티 맛있게 먹는 방법은\\n물은 반보다 작게 받아요 뜨거운 물\\n그리곤 전자레인지에 돌립니다\\n그럼 수분을 먹으면서 물은 쫄고 면은 끓인라면처럼\\n잘 익어요! 짜파게티는 면이 잘 익어야 맛있답니당\\n그리고 물도 안버리고 밑에 자작하게 있는 물을\\n그대로 쓰면되요\\n그러면 짜파게티 안에 기존 짜장가루를 넣죠\\n짜장가루 포장지도 바꼈더라구요ㅎ\\n안에 트러플오일도 있어요\\n기존 짜파게티에는 그냥 올리브오일이 들어있죠?\\n둘이 같이 넣어서 이제는 짜파게티를 비빌시간', '짜파게티를 비비는데 트러플오일 향이 그대로\\n올라오더라구요', '면발도 너무 찰지고\\n먹을 때 트러플오일 맛과 먼가 허브향 같은\\n것도 올라오더라구요 느끼하지만도않고\\n기존 짜파게티보다 훨씬 고급져진 맛?', '그리고 야채들이나 후레이크 건더기스프가\\n더 많아진 것 같았어요\\n여기서 짜파게티 트러플오일 솔직후기는\\n맛도 좋고 향도 좋았는데\\n조금 아쉬운 부분은 양이 너무 작았어요ㅠㅠ\\n큰 컵인데ㅠㅠ 여자도 두개는 먹어지겠는데요?\\n맛있어서 양이 적게 느껴지는지는 모르겠지만', '맛있어서 그런지 한 다섯개 끓여 먹고 싶어졌네욤\\n짜파게티 트러플오일 신제품 괜찮네~', '']\n",
      "[\"장 보러 PK 마켓에 갔다가\\n이것저것 많이 사서 왔는데, 그중 타르투피 모라 트러플 오일을\\n리뷰해 보려고 한다.\\n사실 트러플 오일은 사려고 계속 벼르고 있다가\\n못 사고 있었는데 이제서야 샀다ㅠ_ㅠ\\n타르투피 모라 트러플 오일은 블랙/화이트 두 종류가 있는데,\\n나는 트러플 향을 굉장히 좋아하고 진한 트러플 향을 선호하는 쪽이라\\n화이트로 사 왔다! (내가 알기로는 블랙보다 화이트가 향이 더 진한 걸로 알고 있다.)\\n그리고 내가 알기로는 \\n시중에 우리가 쉽게 구할 수 있는 트러플 오일은 \\n대부분 올리브오일에 인공 트러플 향을 추가한 제품들로 알고 있다.\\n이 제품 역시 'Ingredients'에 보면 'Olive oil'과 'Flavours'...\\n(대부분의 인공 트러플 향의 제품에는 'truffle aroma', 'truffle flavoring'라고 기재되어 있다고 한다.)\\n예전에는 동물을 착취하여 트러플을 채취하였다는 얘기도 있던데\\n그런 의미에서 가짜면 어떠리... 내가 먹었을 때 맛만 좋으면 되는 거지!\", '바로 이게 타르투피 모라 트러플 오일!\\n용량 250ml고, PK 마켓에서 21,000원을 주고 구입한 것으로 기억한다.\\n트러플 오일로 해먹을 첫 요리는\\n가수 화사님으로 인해 화제가 되었던 트러플 짜파게티~\\n나는 짜파게티를 일반적으로 끓이는 레시피에서 아주 조금 방식을 바꿔서 끓여 먹는데\\n기존 레시피와 다 끓이고 나면 맛에서 별 차이가 없을 수도 있으나\\n내 입에는 이렇게 끓이는 게 더 맛있어서... 이 방식을 고집한다.', '먼저 우리가 알던 대로 물이 끓으면 면을 넣어주기!\\n1~2분 정도 끓여서 면이 살짝 풀어지려고 하면,', '면 높이의 1/3 정도 가량만 남기고 다 따라 부어주고 스프를 뿌려준다.\\n(이런 국물 없는 라면류의 경우, 비빔면의 경우 채반에서 면을 찬물에 헹궈주면 좋지만\\n따뜻한 볶음면의 경우 찬물에 헹궈주지 않는 것이 소스 흡수가 더 잘 되는 느낌이다.)', '그리고 소스를 풀어서 바글바글 끓여준다!', '이리저리 섞으면서 조려주다 보면 먹음직스러운 짜파게티의 상태가 된다!', '불을 끄기 전에 트러플 오일 두 숟가락을 쪼록 쪼록!\\n그리고 마지막으로 비벼준다.', '써니 사이드 업 계란 프라이를 함께 올려주면 완성~\\n근데 분명히 오일 자체의 향만 맡으면 트러플 향이 꽤 진하게 나는데\\n짜파게티에 넣고 나니 정작 트러플 향이 별로 안 난다.\\n두 숟가락으론 한참 모자랐던 걸까ㅠㅠ\\n내가 웬만한 향으로는 이제 성이 차지 않는 걸까. 오늘은 일단 실패!\\n다음에는 오일을 더 팍팍 넣어봐야겠다.', '#스타필드 #PK마켓 #트러플오일 #타르투피 #모라 #화이트트러플 #트러플 #트러플짜파게티 #화사 #짜파게티 #써니사이드업 #짜파게티 #맛있게 #끓이는법']\n",
      "['평소 집에서 요리 해먹는 스타일은 아니지만 그래도 제가 가장 잘하는게\\n바로 라면 끓이기 아닐까 싶어요\\n요즘 짜장라면이 유독 먹고싶어서 이번 주말에는 오랜만에 짜파게티 끓여서 \\n먹었는데 짜파게티에 트러플오일을 첨가해서 먹었더니 리얼 핵꿀맛이더라구요', '제가 만난 나만없어 트러플오일 먹은 솔직후기 들려드릴께요 \\n일반 짜장라면 안에 들은 오일이 아니라 특별한 트러플오일 넣어\\n먹으니 맛이 정말 두배 세배 더 맛있더라구요 \\n은은한 트러플 특유의 향이 후각, 미각을 모두 만족시켜서 마음에 쏙 드는데 \\n리뷰 스타뜌 할께요~! ', '제가 만난 나만없어 트러플오일은 원산지가 이탈리아에요 \\n최상급 이태리 원산지 트러플을 사용하여 만든 트러플오일로\\n용량도 무려 250ml로 아주 넉넉하답니다 \\n요즘 요리 할 때 조금씩 넣어서 요리 하는데 확실히 트러플 특유의 향이\\n음식의 풍미를 더 깊게 해주는 것 같아요 ', '나만없어트러플오일 정식 제품명은 블랙 트러플 올리브오일 입니다 \\n삼대진미 이탈리아 트러플을 넣은 오일인데\\n96% 올리브오일에 1%의 트러플오일, 3%트러플 향으로 풍미와 가성비 모두 갖춘 제품이에요\\n건조 전 송로버섯 1%는 건조 전 2%의 양과 같다고 하니 \\n트러플 많이 들어간건 다들 아시겠쥬? (비싼 트러플) ', '나만없어트러플오일은 100ml 당 830kcal이며\\n총 2075kcal 입니다 \\n요리 할 때 음식에 아주 조금씩 넣어 먹기 때문에 칼로리는\\n걱정하지 않았어요 ', '개봉하면 안에 보호캡이 있는데 보호캡 제거 후 사용하면 됩니다\\n똑딱이 형식의 뚜껑 덕분에 사용이 편해요 ', '나만의 작은 사치라고 할 수 있는 짜파게티 + 트러플오일 조화\\n짜파게티 끓인 뒤 살포시 트러플오일 뿌려서 먹으면\\n핵 꿀맛이에요 (먹어 본 자만 아는 그맛) ', '출출할 때 역시 라면이 최고 아닐까 싶어요 \\n주말에는 역시 라면으로 시작하는 나란 여자 \\n(다이어트는 무슨...ㅋ)\\n근데 실수로 물 양을 더 넣어서 국물 있는 짜장라면이 된건 안비밀\\n그래도 트러플오일 넣어서 그런지 맛있었어요 (깊은 풍미) ', '짜잔 - 마침 집에 노란단무지도 있어서 함께 준비했답니다 \\n크으 - 국물이 비록 많지만 그래도 짜파게티 끓이기 성공', '#트러플레시피 라고 할건 없는데 정말 맛있게 개인취향에 따라\\n짜파게티 (짜장라면)을 끓인 뒤 나만없어 트러플오일을 한숟가락\\n둘러주세요 \\n너무 많이 두르는 것 보다는 적당량 두르는게 더 맛있으니 참고하시길! ', '숟가락 없이 오일 통째로 쏟으면 양 조절 못할 것 같아서\\n저는 한숟가락만 딱 넣었습니다 \\n그런 뒤 골고루 트러플 향이 베이도록 쉐킷 쉐킷 잘 섞어준 뒤\\n후루룩 후루룩 먹으면 되는데 간단하쥬?', '동영상 참고해주세요 ', '트러플 특유의 향이 느껴지는 올리브오일이에요 \\n뭔가 집에서 저렴한 짜파게티 끓여 먹는데 고급 레스토랑의\\n트러플짜장라면을 먹는 기분이네요', '리얼 꿀맛인 짜파게티 \\n평범한 짜파게티가 아닌 트러플오일이 들어간 짜파게티라 더 맛있는 것 같아요\\n먹는건 정말 5분도 안되는 듯 후루룩 맛있어서\\n금세 다 먹어버렸답니다 ', '짜파게티 말고도 다양한 요리에 사용하면 음식의 맛을 높여주는\\n나만없어 트러플오일 어떠신가요?\\n트러플 향을 한번 느껴보시길 바라며 소개해드렸어요 ', '#트러플오일 #트러플요리 #트러플 #나만없어 #블랙트러플\\n#트러플짜파게티 #짜장라면 #짜파게티만들기 #트러플오일후기 ', '', '']\n",
      "['안녕하세요😊\\n농심 35주년 기념으로 소비자가 직접 선정한!\\n트러플 짜파게티 후기예요 ', '나 혼자 산다에서 화사가 만들어 먹었다는 \\n트러플 짜파게티,,\\n나혼산 안 봐서 몰랐는데, 반응이 뜨끈뜨끈해서\\n저도 먹어봤어요>ㅡ<', '저는 cu 편의점에서 샀어요! 가격은 1600원이에요', '트러플 짜파게티는 485칼로리예요\\n일반 짜파게티는 550칼로리인데, 트러플 짜파게티가 \\n더 적네요!?', '과립스프와 후첨소스가 들어있어요\\n두근두근', '뜨거운 물에 4분 동안 익힌 면과 \\n스프를 섞고!', '어머,, 스프가 뭉쳐졌네요^^..\\n바빠서.. 사진을 넘 대충찍음ㅜ', '트러플 짜파게티 맛은,,\\n일반 짜파게티랑 크게 다를 것 없는 맛?\\n트러플 맛이 많이 나진 않았어요ㅋㅋ\\n그리고 면이 기존 짜파게티보다 얇은 느낌이라 \\n제 스타일은 아니었어요ㅎㅎ', '아쉬운 트러플 짜파게티 후기 끝..ㅎ\\n다른 거 사먹을게여ㅎㅎㅎ']\n",
      "예외가 발생했습니다. Message: no such element: Unable to locate element: {\"method\":\"css selector\",\"selector\":\".se-fs-.se-ff-\"}\n",
      "  (Session info: chrome=85.0.4183.121)\n",
      "\n",
      "['안녕하세요 ~~\\n오늘도 늦게 컴백한 리코예요 !!\\n오늘은 정말이지 비가 변덕을 너무 많이 부리더라구요.\\n남자친구 오후에 만나서 필요한 물건들도 사고 고기도 먹고 그러고 집에 돌아왔어요 !\\n이 포스팅은 조만간에 할 예정이구요.\\n오늘은 간단히 야식으로 먹기 좋고,\\n요즘 핫한 컵라면 하려고 해요~~\\n요즘 하시는 잇님들이 꽤 많아서 그 반열에 끼어들어봤습니다 :)\\n\"나혼자산다 화사\"편에서 짜파게티에 트러플 오일 넣어서 부루주아 짜파게티 먹었던거\\n아시는 분들이 꽤 있죠?\\n그 명성에 이어 실제로 \"트러플 짜파게티\"가 나왔더라구요!', '일단, 먼저 조리샷 보시구요 !!\\n외관은 실제 짜파게티랑 다를게 없죠?', '저희동네 G땡에서는 못봐서 CU 편의점에서 구매했구요.\\n1600원으로 기억하고 있어요!!\\n보니까 컵라면 종류가 진짜 많더라구요.\\n전자레인지에 돌려먹을 수 있게끔 나온 컵라면도 있구요!', '읭? 소비자가 투표도 했었나봐요 \\n난 이런 이벤트 몰랐거든요 ', '송로버섯추출물이 들어가 있구요. 후첨소스라고 하는거 보니 향에서 한 몫하는 거 같아요.', '하단에는 유통기한이 있구요,\\n컵라면이 은근 생각보가 유통기한이 짧더라구요.', '안에는 후첨소스랑, 과립스프 2가지만 들어있구요.', '짜파게티 면은 이렇게 생겼어요.\\n너구리면과 신라면 사이의 느낌이랄까요?\\n두껍거나 하지는 않았던 것 같아요.', '끓는 물을 표선까지 넣어서 이렇게 뚜껑을 닫아주구요.\\n뚜껑에 보니까 젓가락 꽂는 부분이라고 써 있던데...\\n이렇게 하는거 맞나요?\\n뭔가 허접한 느낌이... 그래서 전 그냥 접시로 덮었어요 ! 집이니깐요 헤헷', '물버리는 곳 구멍을 뚫고 물을 버리고 나면, 이렇게 잘 익은 면발이 있습니다.\\n탱글하니 때맞춰 잘 부었나봐요 !!\\n사실.. 탱클한 면발의 비밀은\\n중간에 이렇게 공기와 닿게끔 휘휘 해줫어요 헤헷', '과립스프를 먼저 넣어서 쓱쓱 비벼줍니다~', '여기까지는 일반 짜파게티랑은 똑같더라구요.\\n후첨소스를 뿌리니까\\n아 향이 나더라구요.\\n아 이게 트러플 그 특유희 향이구나 라는 느낌이 뽝 오더라구요.\\n전 한번도 먹어본 적이 없고 버섯향을 좋아하는 편이 아니거든요.\\n근데 맡아보니까 역시나 안 맞는것 같더라구요 . 저랑은\\n그래서 전 응급조치를 이렇게 했죠!', '향을 없애주기 위해 고춧가루를 투입했어요!\\n그나마 이 고춧가루가 향을 잡아주긴 했는데, 그래도 먹으면서 나더라구요.\\n갠적으로는 일반 짜파게티에서 나는 고소한 냄새가 더 좋은 것 같아요.\\n트러플 향 핑계로 반찬을 더 많이 먹은건 비밀이예용 히힛\\n(feat. 엄마표 양파장아찌, 고구마순김치)', '매일 식당 관련 포스팅만 하다가 이렇게 간단한게 포스팅 하니까\\n재밌네요!\\n다음번에 또 간편하게 먹을 수 있는 야식 들고 돌아올게요~~\\n2틀만 출근하면 휴가라서 너무 좋은 리코였습니다 :)', '']\n",
      "['농심이 짜파게티 35주년을 기념해\\n트러플 짜파게티 큰사발면을 출시했다고 한다.\\n나혼자산다에서 나왔던 화사의\\n트러플오일을 짜파게티 먹방을 보고\\n너무 궁금해서 나도 먹어보고 싶었지만\\n한 번을 위해 트러플오일을 구매하기는 좀 그랬는데\\n컵라면으로 나왔다는 소식이🤭\\n기사를 보고는 편의점을 갈 때마다\\n항상 찾아봤지만 보이지 않았던😭\\n어제 오빠 집 앞 편의점을 갔다가\\n드디어 발!견! 했다.', '드디어 맛볼 수 있겠구나!!\\n다이어트해야 하는데ㅜㅜ😭', '기존의 짜파게티는 물을 버리지 않고 비벼 먹었다면\\n트러플 짜파게티는 뚜껑 상단에 구멍을 뚫어\\n물을 버린 후 조리하는 방식이다.', '과립스프와 후첨소스', '끓는 물을 표시선까지 부은 후\\n뚜껑을 닫아 4분 기다리기😌\\n특이하게 뚜껑에 젓가락 끼우는 곳이\\n있어서 껴보았다 ㅋㅋ', '물을 버리고 과립스프와 후첨소스 뿌린 후', '잘 섞이도록 비벼주기🤨\\n트러플오일이 기존의 올리브유의 양에 비해\\n넉넉하게 많이 들어있다.\\n물을 적당량 남긴 후 비벼야 더 촉촉하게 잘 섞인다.\\n오빠는 물을 너무 많이 버려서 뻑-뻑\\n으휴~😒\\n평가를 해보자면🤔\\n일단 트러플오일 향이 굉장히 진~하다.\\n트러플을 접해본 기억이 없어서 비교는 어렵겠지만\\n버섯의 진하고 깊으면서 느끼한 향이었다.\\n맛은 트러플오일의 맛이 이런거야?\\n라고 느껴질 정도로 나진 않았고,\\n확실한 건 기존 짜파게티에 비해 너무 느끼하고\\n물을 적당량 남겨뒀음에도 조금 짭짤했다.\\n결론은\\n두 번은 사 먹지 않을 것 같다.\\n주변 사람들에게도 추천하지 않을 것 같은..😓\\n오빠는 이래서 기획상품은 믿고 걸러야 한다며ㅋㅋ\\n짜파게티는 봉지라면이 짱이지!\\n후식으로 어제 같이 산 바닐라맛 우유', \"어릴 적 자주 먹던 아이스크림 '와'가 생각난다.\\n다 녹은 와 아이스크림에 설탕을 가득 넣은 맛\\n너무 달기만 하고 밍밍하다😣\\n오늘은 죄다 실패군..\"]\n",
      "['', '나는 짜파게티를 정말 좋아한다. \\n예전에 자취할 때는 일주일에 두세번도 더 \\n끓여먹었고\\n내가 유일하게 즐겨먹는 라면이라고 할 수 있다..!!🤔\\n예전에 나혼자산다에서 \\n화사가 트러플 오일 넣어서 먹는 거 보고 \\n너무 사고싶어서 인터넷에 싱나게 검색해봤는데..\\n코딱지만한게 3만원이나 하는 걸 보고,,,,^^ㅋ\\n바로 포기해 버렸었다 ㅎ\\n그렇게 슬퍼하고 있다가..\\n요번에 농심에서 이러한 유행에 편승해 트러플 짜파게티를 컵라면으로 출시했다고해서 (센스 최고..👍) \\n당장에 사먹어보았다!! \\n:3\\n(어제도 짜파게티 먹었는데 오늘 또 먹음;)', '트러플 짜파게티 컵라면이다.🌚(두둥)\\n이마트24에서 1,600원에 구매하였다', '아뉘;; 송로버섯추출물 0.001퍼 실화냐ㅋㅋㅋㅋ\\nㅋㅋㅋㅋㅋㅋㅋㅋㅋㅋㅋ쿠ㅜㅜㅜㅜ\\n그래 그냥..향만 들어있다보다,,^^ㅎㅎ\\n그래 워낙에 비싼 버섯이니까,,이해하자,,,,,,,,,ㅎ,,,,,,,,', '트러플 짜파게티 컵라면에는 \\n요렇게 과립스프랑 후첨소스가 들어있다!', '요 후첨소스..처음 뜯었을 때 트러플 향 꽤 강하게 나서..엄청 기대했었는데 말이지,,,,,,🙂', '아니..너무 격하게 비벼서 그런가 \\n컵라면 안 벽면이 심각하게 더러워졌다 \\n모자이크하니까 더 더러워보여..어떡해...ㅋㅋ쿠ㅜㅜㅜㅜ\\n+ 후첨소스 뜯을 때 다들 조심하셔야 할 것 같다\\n생각보다 엄청 기름지고 줄줄 흐르는 느낌이다\\n향기로운 트러플 냄새가 내 손에서 사라지지를 않는다,,^.ㅜ ', '~솔직후기~\\n후첨소스 뜯을 때는 트러플 향이 확 올라왔었는데,\\n막상 비비고 나니 언제 있었냐는듯이 파사삭 사라져버렸다,, \\n먹으면서도 음 이게 트러플 짜파게티인지 그냥 짜파게티인가 의심이 들 정도로..\\n트러플이 엄청 빠르게 스쳐지나가는 느낌..? (샤삭)\\nㅋㅋㅋㅋㅋㅋㅋㅋㅋ\\n지금 내가 살짝 감기에 걸려있어서\\n냄새를 더 못 맡아서 그럴 수도 있지만,,\\n아무리 먹어봐도 별다른 차이점을 발견하지 못하였다고 한다,,,(주르륵)\\n개인적으로 엄청 기대하고 있었는데\\n좀 실망이었다\\n그래도 소스에서 처음에 나던 향이 너무 좋아서 더 궁금해졌다 \\n그냥 나중에 트러플 오일 사서 많이 넣고 해먹어봐야지..😢 \\n그래도 특별하지 않을 뿐 맛이 없는 건 아니니까\\n궁금하신 분들은 한번쯤 사드셔봐도 괜찮을 듯! \\n그럼,,안녕,,,', '(시무룩) ']\n",
      "['안녕하세요.\\n멜랑꼴리입니다.\\n오놀의 레시피 및 후기는\\n트러플 오일 짜장라면입니다.\\n지난 금요일 나혼자 산다에서\\n화사가 트러플 짜장라면을 먹은 후\\n인터넷에 트러플 짜장라면이 핫하네요.\\n요즘 확실히 화사가 대세인가 봅니다.', '저는 예전부터 짜파게티 먹을 때\\n올리브유 또는 트러플 오일을 \\n듬뿍 넣어 먹고 있었는데\\n이번에 화사를 보고 깜놀!!\\n단, 저는 달걀 노른자는 안 넣었는데\\n어떤 차이가 있는지 궁금합니다!!', '<트러플 오일 짜장라면 재료>\\n짜장라면, 트러플 오일, 달걀\\n집에 트러플 오일만 준비되어 있다면\\n재료는 정말 세상 간단합니다!!', '지난번 와이프와 파리에 놀러 갔을 때\\n구매한 올리바도르 트러플 오일입니다.\\n병 아래쪽에 보이는게 트러플입니다!!', '참고로, 저는 트러플 오일을\\n짜파게티에 넣어 먹을 때 외에는\\n스테이크, 스테이크 가니쉬 구울 때\\n혹은 샐러드에 살짝 뿌려 먹고 있습니다.', '일단, 기본 조리법은 동일합니다.\\n면과 후레이크를 살짝(2분) 익힌 후\\n짜장 스프를 넣고 잘 섞어 주세요.', '그리고 오늘의 주인공인\\n트러플 오일을 듬뿍 넣어줍니다.', '트러플 오일이 면에 잘 베이도록\\n 면발, 소스, 오일을 계속 섞으면서\\n소스가 자작해질 때까지 익혀 주세요.', '트러플 오일 짜장라면 완성입니다!!\\n트러플 오일만 있다면 레시피는 간단합니다.', '저는 평소 이 상태로 먹는데요.\\n트러플 향이 엄청 강하지는 않지만\\n올리브유보다는 확실히 무거운 느낌에\\n살짝 풍기는 트러플 향이 제법 고급집니다.', '그럼!! 화사 레시피를 따라가 볼까요.\\n분리한 달걀 노른자를 짜장라면에 넣고', '짜장라면과 잘 섞어주면 끝입니다!!\\n확실히 노른자를 섞기 전과 비교하면\\n면에 윤기가 확실히 더해졌습니다. ', '그럼, 과연 맛은 어떨까요?\\n평소 노른자를 넣지 않았을 때는\\n개인적으로 매번 맛있게 먹었는데요.\\n노른자를 넣으니 노른자 특유의 맛과\\n조금은 비리고 느끼한 느낌입니다.\\n참고로 저는 날달걀(노른자)를 못 먹어서\\n개인적인 취향 차이일 수도 있습니다. \\n저는 개인적으로 트러플 오일을 넣고\\n달걀 후라이를 넣는게 더 좋네요 ^^', '이상으로 최근 인터넷에서 핫한\\n화사의 트러플 오일 짜장라면 \\n레시피 및 후기였습니다.\\n다음에 더 맛있고 간단한\\n레시피로 돌아오겠습니다.\\n항상 좋은 일만 가득하세요.', '']\n",
      "['[농심] 트러플 짜파게티 큰사발면', \"안녕하세요.(스티커 산 거 자랑)\\n다들 라면 좋아하시나여? 네 저는 좋아합니다.(안물안궁)\\n'나혼자산다'에서 마마무의 화사 님께서 짜파게티에 트러플 오일 넣어서 드신게 아주 크나큰 화제가 되었었죠?\\n저도 먹어보고 싶어서 트러플 오일을 마구마구 검색했는데, 가격대가.. 짜파게티 하나 때문에 사기에는 부담이 되더라구요.\", '마침 농심에서 트러플 짜파게티를 내줘서 꼭 먹어야지 하다가,\\n집 근처 GS25에 들어온 걸 보고 바로 GET!!', '기다린 것 치고는 약간 뒷북 같지만..(남들 다 먹은 기분)(나만 지금 먹나봄)\\n아무튼 솔직한 리뷰 시작할게요!', \"'소비자 선정 제품'이라는 문구 보이시죠. 신제품 투표에 다양한 맛의 짜파게티가 있었는데, 제발 트러플 짜파게티가 선정되기를 빌었답니다ㅠㅠ\\n정말 많이 아주 많이 궁금했거든요.(35주년 기념이라니 저보다 나이 많은 짜파게티 씨ㅋㅋ)\\n패키지는 기본 짜파게티랑 크게 다르지는 않지만 좀 더 고급(?)스러워진 거 같아요 ㅋㅋ 네 솔직히 지나가다가 흘낏 보면 트러플 짜파게티인줄 모를 수도 있겠어요ㅎㅎ\", '뚜껑은 이렇게 생겼답니다!\\n가격은 1600원인가 했던 거 같아요. 커피와 컵누들 함께 사서 가격이 가물가물 ㅠㅠ', '영양정보와 원재료 정보예요. 필요하신 분들 참고해주세요!\\n칼로리는 485kcal이네요ㅎㅎ\\n나트륨은 1210mg으로 라면을 먹으려면 과도하게 섭취할 수 밖에 없는 부분 ㅠㅠ\\n그러니 아주 가끔만 먹어야 하는데, 라면 처돌이인 저에게는 참을 수 없는 유혹..(안물안궁)', '', '구성물은 면, 과립스프, 후첨소스 입니다.\\n과립스프는 여러분들이 잘 아시는 짜장 분말스프구요. 후첨소스는 트러플 오일로 기본 짜파게티에 들어있는 올리브 오일 대신 들어있습니다!', '물을 붓고 얌전히 기다립니다. 뚜껑 열리지 말라고 스프도 야무지게 올려놓았어요 ㅋㅋ', '콕콕콕콕 물을 버릴 수 있는 구멍을 뚫을 수 있게 제작되어 있습니다.\\n라면은 농심이라고 써있네요.(라면은 오ㄸㅜ....ㄱ...큼큼.... 뒷말생략)\\n구멍은 큰 힘 필요없이 잘 뚫어지더라구요 ㅎㅎ', '깨끗하게 그릇에 예쁘게 담아놓을까 싶었지만 컵라면은 컵으로 즐기는게 제맛이잖아요~\\n때깔 보이시나요 ㅠㅠㅠ 트러플 오일을 한껏 입어 반들거리는 면들..\\n과립스프는 잘 뭉쳐서 비비기 힘들었어요ㅠㅠ 역시 저는 액상파..하하', '트러플 오일을 딱 뜯자마자 무슨 고기? 같은 냄새가 나는 거예요. 되게 신기했어요. 냄새부터 짭짤한 향이 나요.\\n오일만 따로 먹어봤는데, 굉장히 짭쪼롬하더라구요. 트러플 버섯은 먹어본 적 없어서 이런 향이 나는게 맞나 모르겠지만 향 자체는 약간 조미된 고기 향?\\n호불호가 갈리긴 하더라구요. 평소 고수 빼고는 향 나는 음식들 좋아하는 저에게는 맛있는 느낌이었습니다!\\n맛은 일반 짜파게티보다 더 짭조롬합니다. 일반 짜파게티 요즘 무(無)맛이라고 불평 많잖아요.\\n원래 짜파게티 만들 때 고추가루도 넣고 김치와 함께 먹는데 트러플 짜파게티는 김치 없어도 돼요. 충분히 간이 되거든요.\\n빨간 김치와 백김치 다 꺼내놓고 먹었는데 빨간 김치에는 손이 안 갔습니다ㅎㅎ 백김치만 간간이 먹었네요.', '저는 굉장히 만족스럽습니다! 짭짤하고 향 자체도 중독성이 있어요. 하루 세 끼로 먹어도 안 질릴 거 같은 기분. 우선 느끼하지가 않으니까요!', '한정판인게 아쉽네요ㅠ 조만간 많이 쟁겨놔야 할 거 같아요.', '', '']\n",
      "['#농심짜파게티 #농심트러플짜파게티 #트러플짜파게티 #화사짜파게티 \\n안녕하세요~뭉쓰루입니다ㅎㅎ\\n화사가 나혼자산다에서 만들어 먹었던 트러플 짜파게티 저도 너무 먹어보고 싶었는데요 이번에 농심에서 정말 만들어서 출시를 했더라구요!!\\n마트에 장보면서 보이길래 바로 구매해서 먹어봤습니당', '출시되었다는 소식을 들은다음에 구매할려고 했는데 그때는 마트나 편의점에 잘 보이지 않더라구요 근데 최근에 엄청 잘 보이더라구요\\n퇴근하고 마트에서 장보고 오는길에 바로 구매했습니다ㅎㅎ드디어 먹어보네여', '35주년 기념으로 출시된 소비자가 직접 선정한 제품 트러플 짜파게티입니다!!', '그렇게 맛있다고 한 트러플 짜파게티 제가 한번 먹어보겠습니당ㅎㅎ', '안에 후레이크가 요렇게 밑에 깔려있구요', '면은 일반 짜파게티 보다는 좀 얇은거같아요!!', '분말가루와 트러플오일이 이렇게 들어있습니다ㅎㅎ', '물을 넣고 면을 익힌다음 분말가루를 넣고 열심히 비벼줍니다!!', '비비자마자 트러플향이 확 올라오긴합니다만 그렇게 깊은향은 아닌거같아요ㅎㅎ\\n트러플 오일덕분에 짜파게티의 그 고유한 향은 잘 나지않아요ㅠㅠ', '저는 부담없이 먹기에는 딱 좋은맛인거같아요 트러플오일을 처음 접하시는분들도 그냥 부담없이 먹을수 있는 그런 맛이에요\\n저희 부모님도 그냥 한번 먹어볼만한 맛이라고 하셨는데 저는 그냥 한번씩 생각날꺼 같은맛이에요ㅎㅎ\\n맥주랑 같이 먹으면 너무 좋을꺼 같다는 생각이 확 들었어요...ㅎㅎ저는 트러플 짜파게티 한번 드셔보시는걸 추천드려요~!!']\n",
      "['나혼자산다에서 또다시 \\n레전드 먹방을 찍으신 화사님!\\n크흐 이번에는 클라스가 다릅니다.\\n짜파게티에 트러플이라니?>?????\\n나는 너무나도 놀랐다구요!!!!!!!!!!\\n과연 어울리는 조합일까요??\\n솔직한 영상리뷰 남깁니다\\n꼭 확인해보세요!!!\\nhttps://youtu.be/lVLQvT-WaoA\\nhttps://youtu.be/lVLQvT-WaoA\\nhttps://youtu.be/lVLQvT-WaoA\\nhttps://youtu.be/lVLQvT-WaoA\\n위 링크에 자세한 영상 리뷰가 담겨있구요!\\n트러플은 구매하실때\\n많은 용량을 구매하시면 오히려 곤란합니다\\n적은양의 용량으로 구매하시길 추천드립니닷!!\\n다 먹기도전에 향이 날아가버리면 곤란하니까요?', '#트러플오일 #화사 #나혼자산다 #트러플 #짜장라면 #짜파게티 #화사트러플 #먹방 #후기 #리뷰 #맛 #화이트트러플 #블랙트러플 #트러플요리 #맛 ']\n",
      "['', 'ㆍ\\n화사효과\\n짜파게티 + 트러플오일', '', '드디어 영접하게된 트러플 짜파게티\\n일반 시중에 판매를 안하니\\nCU간김에 고이 모시고옴\\nㆍ\\n내가 라면을 잘 안먹어서 그런건지 아님 원래 있는데 몰랐던건지\\n트러플 짜파게티 입구쪽에 젓가락 꼽는곳이 다 있고 신기방기해뜸', '', '컵라면을 컵라면 용기에 먹어야 된다는 편견을 버리시라 !!!!', '나는 끓여 먹는걸 선호하는 타입이라\\n트러플 짜파게티 라면 면과 바닥에 깔려있는 후레이크를 넣어서 끓여줌\\n기존에 알았던 컵라면 짜파게티보다는 다소 가는 면발\\n( 난 두꺼운게 좋은뎅 ;; ㆍ  가는건 육개장이 진리고 ㅋ )', '열심히 끓여놓고 왜 컵라면 용기에 부었냐고??!!?\\n왜냐고 ?!!?!??!!!? ㅋㅋㅋ\\n물을 버리기위해 이곳에 다시 덜어준거임', '설거지가 귀찮아서 ㅋㅋㅋㅋㅋ', '물을 따라버리고 아주 극소량의 물 + 면 + 후첨소스 + 과립소스를 넣어줌\\n중간불에 쉐킷쉐킷 다시 볶듯 쉐킷쉐킷 섞기\\n스멜이 나쁘지 않음\\n그렇다고 완전 색다른 향이야~ 라고는 아직 못느끼겠눼\\n하하하하하하하하 ;', '트러플 짜파게티의 핵심역할을 하는 후첨소스\\n후첨소스에 송로버섯 추출물 0.001%가 첨가\\n이것 때문에 향이 기존 것보다는 조금 다르게 느껴진거였군\\n아주 소량 첨가되어 있는데\\n그것 때문인지 원래 짜파게티의 향은 해치지 않음', '짜장면에 무조건 고춧가루 뿌려먹는 1인이라\\n여기에도 고춧가루를 촤아악 뿌려줌\\n대신 섞기 전에 이미 한입 하고 뿌린거임 ㅋ\\n엄마 반정도 덜어드림\\n촵촵 먹다보니 뭔가 모르게 늬끼늬끼\\n엄마의 취향도 아닌걸로 ㅋㅋㅋ;', '먹어보니 사람들이 우와~ 하고 열광할 정도의 맛은 아니어뜸\\n개인 적으로 기존의 짜파게티 봉지면의 맛과 면의 두께가 젤 맛있는듯\\n아니면 짜장범벅이나 ㅋㅋㅋ\\nㆍ\\n개인 소견으로는 한번쯤 경험해 볼만한 맛이었음\\nㆍ', ' NO 협찬ㆍ내돈주고 먹은 후기', '#짜파게티 #트러플짜파게티 #화사 #화사효과\\n#농심 #농심짜파게티 #농심트러플짜파게티 #트러플 #트러플오일 #컵라면\\n#맛블로거 #맛집 #먹방 #블로거 #이웃 #소통 #이웃환영 #좋아요 #후기 #리뷰']\n",
      "['자 오늘은!!\\n나혼자산다에 나온 화사짜파게티의\\n맛이 너무 궁금해서.\\n비싼 트러플오일을 사보게되었습니다!!', '유튜브를 보다가 소고기맛이 난다는 거예요!!!', '시간 없는 분을 위한 요약\\n저는 느끼한걸 안좋아하는\\n한국인 입맛이라서 그런지\\n제 취향은 아니더라구요.\\n그냥 짜파게티가 더 맛있졍..ㅠ', '트러플오일은 비싸더라구요.\\n신촌에서는 현대백화점식품관에서 판매 중!\\n100 ml 인데 13600원\\n원래 19000원인데 세일하고 있더라구요.\\n250ml 는 26900원 \\n3월 29일부터 4월 28일까지 세일', '1. 물을 500ml 정도 넣고 끓인다.\\n-화사 짜파게티는\\n물을 안버리기 때문에\\n물을 많이하지 않았다.\\n2.물이 끓으면 건더기와 면을 넣는다.', '3. 면을 넣고 분말스프를 넣어준다.', '트러플오일을 넣을 거라서\\n짜파게티 안에 있는 기름은 넣지 않기!\\n3. 물이 없어질때까지 쪼린다.', '약간 면이 퉁퉁불었다.\\n저어주지 않았더니\\n바닥에 조금 눌러붙기도 했다.\\n4.노른자를 준비하고, 트러플오일을 넣는다.', '5.계란 노른자만 넣어본다.\\n6.남은 흰자로 후라이를 해보았다.', '우선 노른자를 넣기 전에\\n트러플 오일 만 넣었을 때.\\n트러플 오일을 조금 넣으면 거의 맛 안남.\\n좀 적당량 넣으면 트러플향이 남.\\n바로 먹으면 트러플의 역한향이 좀 심함.\\n조금 향이 날라가던지.\\n코가 약간 마비되면 괜찮아짐.', '노른자를 넣으면.\\n노른자를 넣으면 느끼한 맛이 더 느껴짐\\n미끌미끌한 맛이 된다.\\n느끼한 맛을 안좋아하는 나는\\n그냥 후라이랑 먹은게 더 맛있었다.\\n남은 흰자로 후라이 한거랑 같이먹으니\\n맛있었다!!!\\n역시 짜파게티와 후라이의 조합은 옳다.', '나는 느끼한 맛을 좋아하지 않는다.\\n향에 민감한 편이다.\\n그래서 그런지 화사짜파게티는 맛이 없었다.\\n어느 부분이 소고기맛이 나는지 모르겠다.\\n다른사람들은 다 맛있다는 것 같은데..\\n나는 맛이없었다.\\n트러플향이 주유소에서 나는 휘발유향?과\\n비슷했다.\\n그냥 짜파게티가 더 맛있다.\\n저처럼 완전 한국식 좋아하고\\n느끼한걸 안좋아하신다면 불호일듯.']\n",
      "[\"반갑습니다\\n후니강입니다\\n자고 일어나니\\nKFC에서 카톡이 뙇\\nKFC는 화요일에 신메뉴 출시를 함\\n그래서 출근길에\\n과감하게 렛츠기릿함\\n한 때 붐(연예인 아님)이었던 트러플..\\n짜파게티에 넣어 먹으면 맛있다던데\\n죽기 전엔 먹어보겠지?.?ㅎㅎㅎㅎㅎ\\n무튼\\n그 트러플을\\n치킨에..?\\n음.....\\n오늘의 신메뉴\\n' KFC 트러플치킨 '\", '', '플친 쿠폰 안쓰면 바보\\n모든 프렌차이즈들은 항상 할인 행사를 하고 있다\\n신메뉴는 거의 100%임', 'KFC 트러플치킨\\n트러플치킨 2조각만 먹기엔 뭔가 허전해서\\n텐더 2조각 1,500원 할인하는 것도 구매함\\n콜라는 안먹음\\n콜라랑 같이 먹어야 하는데..\\n그럼 너무 비싸짐\\n그리고 몸에도 안좋기 때문에\\n자기 합리화를 하며 음료 없이 먹음\\n다음에 먹게 된다면 음료랑 같이 먹겠음,,', '언제나 인자한 미소를 띄고 계시는 KFC 할아버지\\n몇 년생 이신지 궁금', '이것은 텐더\\n맛은 쏘쏘\\n퍽퍽살인데 나쁘진 않음', '쓸데없이 사진 잘나온 것 무엇;;\\n당tothe황\\nKFC 트러플치킨', '크..\\n영롱한 자태\\n냄새가 강력한데\\n호감은 아님..\\n뭔가 좀 약간 역한 그런 느낌..\\n선호하지 않을 사람이 더 많을 듯한 향..\\n나도 불호에 한표\\n표? 표치수', '와..비쥬얼 미쳤따리..\\nKFC 트러플치킨', '향에 비해 맛은 괜춘!\\n근데 차에서 먹긴 좀 불편\\nㅋㅋㅋㅋㅋㅋㅋㅋㅋㅋㅋㅋㅋ\\n당연한 이치....\\n여러분들은 매장이나 집에서 드시는걸로..', '기름(오일)은 지켜주지 못해 미안해\\nKFC 트러플치킨 솔직후기!\\n맛 : ★★★\\n양 : ★★★\\n가격 : ★★★\\n맛은 나쁘지 않았다!\\n3.5개와 3개 사이에서 고민했는데\\n일단 재구매 의사가 없으므로 3개\\n나머지는 그냥 무난무난\\n기회가 된다면 먹어봐도 되는데\\n그냥 다른거 드시는 걸 추천함\\nKFC는 아직까지 블랙라벨이 원탑이라 생각함\\n블랙라벨 > 갓양념 > 나머지\\n얼마 전부터 치킨나이트(9시 이후 1+1행사)에\\n마늘빵치킨도 행사 중이던데\\n조만간 한번 먹으러 가야겠다\\n치킨나이트 행사 진짜 자주 갔었는데\\n덕분에 살도 급속도로 뿜뿜\\n아.....올해는 진짜 다이어트 해야지....여름 전까지....\\n신메뉴 그만 좀 나와라....\\n그럼 20,000 !', '']\n",
      "['처갓집을 평생 먹지 않다가 최근들어서 종종 시켜먹고 있는데요. 옛날엔 무조건 매운 치킨만 먹었는데 요즘 추억의 맛, 단짠단짠 익숙한 맛이 그리울 때가 있더라고요. 아무래도 늙어서 그런 게 확실한 것 같고요 ㅋㅋ 아무튼 유튜브 보다가 처갓집 슈프림양념치킨 맛을 보고 뻔한 맛이라는 생각에 실망했었는데 그 후로 계속 생각나서 몇 번이나 시켜먹었답니다. 그리고 최근엔 처갓집 트러플슈프림이라고 신메뉴가 나왔길래 시켜봤어요 :-)', '배달의 민족에서 처갓집 트러플슈프림을 시키려고 저희 집까지 배달이 되는 매장을 몇 군데 살펴봤는데요. 인기있는 메뉴는 2마리 세트가 다 없더라고요. 이번 신메뉴인 이것도 메뉴 변경해서 두마리세트 주문이 가능한지 2~3군데 전화해봤는데 다 안된다고 하셨어요. 보통 다른 치킨 프랜차이즈들 같은 경우 가격 추가 하면 어느정도 유도리있게 해주던데 여긴 안되는 것 같았고요. 그리고 치즈볼도 있는 것 같길래 전화해서 있는지 물었는데 다 없더라고요. 하나같이 매장에 안들어온다고 지점 차이가 있다고 하셨어요. 검색해서 후기 보면 엄청 작다는 것 같아요. 후기가 별로 좋지 않아서 안받는건지 ㅎㅎ', '그리고 기존 슈프림양념치킨과 트러플이 만나 어떤 맛을 내는지 굉장히 궁금했어요. 사실 전 트러플오일이 음식에 따라 조금 호불호가 있거든요. 예를들면 감자튀김이나 파스타, 리조또에 들어갔을 땐 맛있는데 짜파게티에는 전 진짜 안어울린다 생각했거든요. 화사 광팬인데 먹으면서도 납득이 안됐던 맛 ㅋㅋ 그런데 치킨도 감자튀김처럼 튀긴거니까 그래도 어울릴 것 같다는 생각에 시켜봤습니다.', '전날 친구네 놀러가서 처갓집 닭강정도 먹어봤는데 맵지도 않고 괜찮더라고요~! 고기가 일단 부드러워서 실패없는 맛 같아요. 그런데 이게 지점에 따라 양배추 샐러드 주는 곳이 있고 아닌 곳이 있나봐요. 친구네서 먹을 땐 양배추샐러드가 나왔는데 오늘 저희 동네 와서 시키니 안오네요. 치킨에 양배추샐러드 진짜 추억..치킨집에서 생맥 먹으면서 캬 *_*', '아무튼 배달을 받고 호일을 열어보니 처갓집 트러플슈프림 양념치킨의 색감이 기존 오리지널과는 좀 다르더라고요. 오리지널은 마요네즈 같은 하얀 소스가 듬뿍 드리즐되어 있는데, 요건 약간 노란빛 같은게 보여요. 손가락으로 찍어 먹어보니 허니머스타드 맛 같아요 ㅎㅎ', '치킨무와 펩시콜라 같이 포함되어 왔고요. 개인적으로 펩시콜라는 좋아하지 않아서 냉장고에 뒀다가 아이 밥 잘 먹는 날 칭찬+보상 개념으로 주면 될 것 같아요 ㅋㅋ', '사실 냄새는 트러플 향이 크게 나지 않았어요. 그냥 기본 새콤달콤한 냄새, 오리지널 처갓집 슈프림양념치킨 그 향이 제일 크게 났어요. 트러플 향미에 거부감 있는 사람도 부담없이 먹을 것 같은 느낌? 기존 오리지널을 먹어본 사람이라면 그냥 좋아할 것 같아요. 남편은 트러플 냄새를 잘 모르는데 제가 짜파게티에 트러플 넣었을 때 별로라고 했었거든요. 이번에 먹을 때 거북스러운 향이나 맛은 안느껴졌다고 하더라고요ㅎㅎ\\n그런데 굳이 둘 중 뭐가 나은지 꼽아보자면 오리지널이 나은 것 같아요 ㅋㅋ 그 하얀 소스 때문에!! 그 하얀 소스가 마요네즈인가 싶어 홈페이지 들어가서 봤는데 신비의 하얀소스라고만 나오더라고요. 마요네즈에 사워크림이나 요거트 섞은 느낌?', '진짜 처갓집 트러플슈프림 치킨도 그렇고, 여기 고기는 왜 이렇게 부드러운지!! 원래는 뼈를 더 좋아하지만 먹기 편하려고 순살로 시켰는데요. 브랜드에 따라선 뼈로만 먹어야할 정도로 순살이 가슴살로 오는 곳도 많거든요. 또는 뼈로 시켰는데 가슴살이 너무 많고 커서 도저히 못 먹겠는 곳도 있죠(BBQ가 진짜 퍽퍽..) 그런데 여긴 진짜 뼈로 시켜도 순살로 시켜도 개부드러워요. 아이랑 먹기 너무 좋음!', '사실 받자마자 한마리 양이 너무 작아보여서 라면도 끓이고 같이 먹을 #실비김치 도 꺼내왔어요 ㅋㅋ 그리고 좀 더 곁들여서 먹기 위해 쿠팡에서 주문한 #코다노크리미어니언소스 랑 이번에 처음 산 불닭소스도 꺼내봤는데요.', '이 크리미어니언소스 완전 요물..! 양파가 다져진게 들어있는데 약간 타르타르 소스 같기도 하고, 샐러드 드레싱으로 먹으려고 샀는데 온갖 튀김류 찍어먹으면 좋은 맛이에요. 그리고 핵불닭소스랑 이번에 불닭마요도 같이 사봤는데요. 불닭마요는 맛이 좋은데 핵불닭소스는 뭔가 화학성분 맛 나더라고요 ㅋㅋㅋ 라면은 좋은데 왜 소스는 그런 맛이 나는지.. 손이 안가더라구요', '라면은 실비김치 넣고 콩나물국 남은거 넣고 같이 끓였는데 존맛탱 ㅠㅠ\\n처갓집 트러플슈프림 양념치킨이 살짝 달고, 느끼한 맛도 있으니까 라면 끓여서 먹으면 너무 잘 어울리는 것 같아요 *_*', '맥주는 호가든!!\\n최근 블랑이랑 스텔라아르투아, 제주 위트 에일만 마시다가 오랜만에 호가든!', '순살치킨이 큼직큼직하고, 종이박스에 반절 정도밖에 안들어있어서 양이 적을줄 알았는데 배터짐 ㅋㅋ\\n맥주까지 먹으니까 배불러 죽다 살아났어요. 아무튼 처갓집 트러플슈프림 양념치킨은 허니머스터드 맛과 트러플 향이 슬쩍 가미된 정도니까 이것도 괜찮은 맛이라 트러플 좋아하시는 분들은 시도해보시는 것도 좋을 것 같아요 :-)', '']\n",
      "['동네 슈퍼에서 물을 사러 갔다가 물만 사면서 카드 내기는 왠지 민망하여 무슨 컵라면을 먹을까 고민하다가 컵라면 코너에 일반 짜파게티가 아닌 트러플 짜파게티가 있는게 아닌가? 오 맛은 어떨지 궁금해서 나도 모르게 구입을 했다. \" 가게 사장님이 이거 일반 짜파게티랑 다른거 아시죠? \" 라고 물어보길래 안다고 대답 했는데 왜 그러는지는 뒤에서 ..', '농심에서 35주년으로 신상 컵라면을 출시한거라고 한다. 3개의 후보군에서 와사마요 짜파, 치즈 짜파 트러플 짜파 있었는데 이중에서 트러플 짜파게티가 선정되어서 나왔? 다고 한다 맛이 어떨까 너무 궁금하다.', '내용물은 과립스프와 후첨소스가 있는데 아마 후첨소스가 트러플 소스겠구나 싶었다. 일반 짜파게티는 물을 버리는게 아닌데 트러플 짜파게티는 물을 버리고 비벼먹는거라서 주의해야한다! 그래서 가게 사장님이 언지를 주신듯 싶다 ㅋㅋ 먹는방법 안보고 했으면 그냥 버릴뻔 했다.', '물을 붓고 면을 익히고 물을 진짜 쪼끔 남겨놓고 스프와 소스를 넣었다. 과립스프는 똑같은거 같은데 과립소스가 딱 뜯을때부터 향이 확 올라왔는데 이게 트러플 향인가? (잘 모름) 그래도 좋은 냄새가 나서 기대감이 더 올라갔다.', '쉐킷쉐킼쉐키키킼 비벼보니 향이 더 살아난다 오.... 어떤 맛일까?', '트러플 맛이 이맛인가? 잘 몰라서 모르겠지만 내 기준에는 괜찮았다. 맛있었다. 김치랑 먹으면 더 맛있겠다. 정도? 진짜 별로라고 하시는 후기도 종종 보이는데 개인적으로 맛있어요 ㅋㅋㅋ 괜찮습니다 한번 속는셈 치고 드셔보세요!']\n",
      "['안녕하세여:)\\n오늘 점심에 먹은 트러플 짜파게티 후기를\\n남겨볼라해요😆', '', '짠!  소비자가 선정한 35주기념 트러플 짜파게티!\\n 나혼자산다 화사가 트러플오일로 짜파게티 먹은 뒤\\n핫해졌죠 ㅎㅎㅎ \\n일단 조리 방법부터🌝', '조리방법\\n1.뚜껑을 화살표 표시만큼 개봉을 한 후 과립스프와 후첨소스를 꺼내준다\\n2. 끓은 물을 표시 선 까지 부어주고 4분간 기다린다\\n3. 4분후 면을 잘 풀어주고 뚜껑 상단 구멍을 내서 물을 버려준다\\n4.과립스프와 후첨소스를 넣어 비벼주기만 하면 완성! ', '', '후후후후\\n뜯어보니 면과 면속에 후레이크?들어있어요', '스프들이에영\\n후첨소스이  트러플오일 들어간 소스 같아여😚', '', '드디어 소스들을 뿌려주고🤗', '짠 열심히 비비면 완성!!!!!', '', '✨솔직후기✨\\n제가 트러플 오일을 먹어본적은 없어서 \\n비교를 못할꺼 같아요\\n소스를 뜯자 뭔가 특유의향이 나는데 이게 무슨 향인지는\\n모르겠어요 ㅎㅎㅎㅎ\\n한입먹자마자  생각보다 괜찮았어요!\\n근데 제가 느끼한것은 잘 못먹다보니 먹을때\\n조금 힘들었어요! \\n김치 아니면 파김치랑 먹으면 딱이였던 맛\\n개인적으로 별다섯개중 3개 \\n🌟🌟🌟', '#농심 #트러플짜파게티 #리뷰 #짜장 #라면 ']\n",
      "['#마켓컬리 #컬리장바구니 #마켓컬리gdbstjs123 #트러플 #트러플오일 #트러플오일스프레이\\n#오일스프레이 #만토바 #곤약리조또 #스키니랩 #올리브영 #스키니랩곤약리조또\\n마켓컬리 추천인 아이디 gdbstjs123', '오늘의 매우 간단한! 후기.\\n화사 나혼자산다 트러플 짜파게티가 나온 후 트러플오일이 열풍이 돌때부터\\n한~~~~~참 고민하다가......진짜 마켓컬리 트러플오일 후기란 후기는 다 보고 가격때문에\\n진짜 고민하다가 오일스프레이는 어디든 유용하게 사용할 수 있을 것 같고\\n가격도 나름 저렴하고 후기도 괜찮은 편이라....드디어 구매를... 해봤습니다!\\n맛이 어땠는지는 밑에 보면 나와있습니다......ㅎㅎ', '우선 패키지가 너무 이쁜! ㅎㅎㅎㅎ근데 트러플 오일이라 해도 트러플 향이 고작 몇% 첨가 된 정도....\\n하지만 가격이 저렴하니깐 묻지 않도록.....솔직히 트러플 오일 맛이 과연 어떤 맛인지가 너무 궁금해서\\n산 제품이라 정통 트러플 오일을 원하는 분들께는 추천하지 않아요.', '그리고 트러플 오일 할 때 사용했던 올리브영 스키니랩 곤약 리조또도 간단 리뷰!\\n올리브영에 다이어트식품을 많이 파는데 다..가격 대비 별로 같아서 구매 안하다가\\n이 제품은 가격도 괜찮고 양을 늘려먹을 수 있어서 선택!', '솔직히 다이어트 제품은 양이 적으니깐......저녁도 아니고 점심이니깐\\n베이컨과 양파 버섯 닭가슴살로 양 늘려주기!!! 0.8인분에서 1.2인분정도로...ㅋㅋㅋㅋㅋㅋㅋ\\n그래봤자.....원래 145kcal니깐 300kcal 안되지 않을까요!?ㅋㅋㅋㅋㅋㅋㅋ', '마지막에 트러플 오일 넣어서 마무리! 군데 군데 살짝 노란게 보이시죠?\\n저게 오일이에요! 분사력이 강하다는 후기를 봤는데도 생각보다 더 강해서 1차 당황\\n방향 잘못 잡아서 사방에 튀어서 2차 당황 ㅠ_ㅠ.......', '짠! 트러플 닭가슴살 곤약 리조또 완성!\\n이름은 매우 ㅋㅋㅋㅋㅋ거창해보이는.....\\n음 우선 스키니랩 곤약 리조또는..\\n맛이..니맛도 내맛도 아닌 느낌? 저야 토핑을 추가했지만 그냥 먹으면\\n그냥..되게 물 많이 타고 점성이 강한 애기죽 먹는 느낌이라고 해야 하나.....\\n크림 맛도 그닥 좋지 못한 ㅠ_ㅠ..고급스러운게 아니라 인스턴트에서 10%더 맛없는 맛?\\n(비추라는 이야기입니다........)', '대망의 트러플 오일은?\\n우선 뿌렸을 때.....휘발유 냄새가 나더라구요.......?\\n종종 마켓컬리 후기에 휘발유 냄새가 난다는 후기가 있었는데.....\\n전 버섯을 사랑하는 사람이니깐 그런 향따위 느끼지 못할 거라 생각했는데.....\\n어.......트러플 오일 처음 먹어본 저한텐..휘발유 향이였어요.\\n처음에 그 향이 너무 강하니깐 우선 거부감이...\\n막 맛이 강한건 아니였지만 그렇게 맛있는지도 모르겠고\\n올리브오일처럼 약간 그특유 향이 센 오일을 먹으니깐 조금..그리....\\n네...저는 잘 모르겠어요.\\n지금그냥 아무곳이나 넣어먹고 있는데 솔직히..최근에 산 제품 중 후회가 많은 제품입니다\\nㅋㅋㅋㅋㅋㅋㅋㅋㅋㅋㅋㅋㅋ\\n어떻게 해야 잘 먹었다 소문이 날까요...\\n물론 사람마다 입맛은 다르니! 다른분들은 좋아하실 수도 있어요.\\n제가 좋아하는 유투버분도 이 제품으로 막 과자 피자 여러군데 뿌려먹는걸 봤거든요.\\n하지만......제 입맛엔 아닌걸로........\\n오늘은 어쩌다보니 다 비추네요 ㅠㅠㅠㅋㅋㅋㅋㅋㅋ\\n하지만 추천인 아이디 gbstjs123은 적는 이런 모순적인......ㅎ\\n(후기에서 대체 어떤 제품을 마켓컬리에서 추천하는건지 알 수 없는 포스팅...)\\n...ㅎㅎㅎㅎㅎㅎㅎㅎ좋은하루되세요!!(급마무리)']\n",
      "['지니가 사준 #트러플짜파게티  먹어봤다', 'CU에서 1600원에 구매했다  ‼️\\n나혼자산다에 화사가\\n트러플 오일 짜파게티 먹는거 보고\\n무슨 맛일까\\n너무 궁금했는데\\n이렇게 컵라면이  !!!!', '다 비비고', '처음에는 향이 확 올라왔다\\n트러플 오일을 먹어본 적이 없어서..\\n아 이런 향인가 싶었다\\n고소 ...? 한 냄새\\n기존 짜파게티랑은 다른 냄새가\\n퍼졌다\\n맛도 좀 더 고소 ? 한\\n맛\\n처음에는 향과 맛이 고소하게 달랐는데\\n가면 갈수록 그냥 \\n짜파게티랑 비슷했던 것 같다\\n그래도 새로운 도전이라\\n나쁘진 않을듯 ⁉️\\n근데 트러플 오일 향을 별로\\n좋아하지 않는 사람들에게는\\n별로일 것 같다\\n나도 그렇게 막 \\n너무 맛있어‼️‼️ 이건 아니였다\\n내 스타일은 아니야 ㅜㅜ \\n그래도 원래 짜파게티가 맛있어서\\n그냥 먹을만했다\\n사실 짜파게티랑 같이', '맥주랑 닭발도 먹었다\\n닭발은 #심야식당 #뼈없는불닭발 ,,\\n너무 맛있었당 ,,,\\n+ 맥주도 ‼️‼️\\n알바 끝나고 너무너무 힘들어서\\n먹을까 말까했능데\\n맥주와 매운 닭발+ 짜파게티\\n⭐️환상의 조합 ⭐️\\n(다들 이렇게 먹어보세요 ㅜ ㅜ)\\n꺼억\\n트러플오일 짜파게티 후기 끝 ❗️', '#트러플오일짜파게티컵라면 #트러플오일짜파게티 #화사짜파게티 #짜파게티 #짜파게티요리 #트러플오일 #요리 #먹스타그램 #동원심야식당 #무뼈닭발 #추천 #후기 #트러플오일후기 #솔직후기 #먹방 #서이추환영 #서이추 #이웃환영 #이웃추가 #화사짜파게티 #소통 #일상 #답방 #서로이웃 #트러플짜파게티후기 #트러플짜파게티편의점 #트러플짜파게티파는곳']\n",
      "['트러플 짜파게티 컵라면', '화사가 정말 대단하긴 한가봐요\\n나혼자 산다에서 딱 한번 먹었는데,\\n농심에서 이렇게 한정판으로 트러플 짜파게티를 출시하다니!\\n근데 정확한 맛도 모르고..무작정 양도많고 비싼 트러플오일을 사기엔 부담스러워서\\n궁금해만 하고 있었는데....ㅋㅋㅋㅋㅋㅋ\\n농심에서 이렇게 출시해줘서 좋았어요!\\n짱궁금했었습니당\\n일단 하나만 맛보기로했어요\\n내용물은 면,과립스프,후첨소스가 있어요.', '면이 샛노랗네요 ㅋㅋㅋㅋㅋㅋ\\n너무너무 기대됩니다!!!!!', '조리법을 살펴보면 기존과 큰 차이는 없지만\\n가장 다른점은 물을 버려야해요!!!!!!\\n하지만 다들 아시다시피 물을 모두 버리면 퍽퍽해서 잘 안비벼집니다!\\n조금은 남겨두시고 버리세용 ㅎㅎ', '후첨소스엔 트러플오일이 들어가져있어요!!!!\\n향은...음....응??? 이런반응이였어요.\\n일단 얼른먹어보자!!!!', '남김없이 쭉쭉 다 짜줍니당 ㅎㅎ', '요렇게 쉣킷쉣킷 잘 비벼주세요!\\n트러플오일의 향이 계속 올라옵니다!', '잘섞어진 트러플 짜파게티...ㅎㅎㅎ\\n향이 소스와 섞고나서는, 기존의 짜파게티와 별만 큰 차이는 모르겠더라구요\\n그냥 짜파게티 향...?!', '일단 얼른 먹어봅시당\\n음... 맛은... 음..되게 애매한맛이되어버린 짜파게티...\\n전 원래 짜파게티 끓여먹는 봉지 짜파게티를 선호하거든요,\\n컵라면으로 된건 안좋아해요....ㅋㅋㅋㅋㅋ\\n근데 거기에 트러플오일의 낯선향까지 나니까...\\n좀 거부감이 들었어요....ㅠㅠ\\n슬픈....흑흑...', '그래도 다시한번 돌돌말아서 먹어봅니당 ㅎㅎ\\n아... 다시 한번 이런게 트러플의향이구나\\n풍미가 뭔가 더 풍부해졌는데...기존의 짜파게티와 자꾸 비교가 되면서\\n봉지 짜파게티가 먹고싶었어요...ㅋㅋㅋㅋㅋㅋㅋㅋㅋㅋㅋㅋㅋㅋㅋ', '결론은...맛이 뭔가 애매한 맛이 나요...\\n다른 평을 보니까 트러플의 향이 많이 안난다고 하더라구요.\\n0.001%?정도 의 함유량이라 그런가요 ㅋㅋㅋㅋㅋㅋㅋㅋㅋ\\n무튼 향이 확!나는것도 아니고 애매하게 나서\\n오히려 짜파게티 맛도 같이...애매해진거같아요\\n음... 재구매는 없는걸로 ...ㅎㅎㅎㅎ\\n그래도 농심의 짜파게티 한정판 출시 덕분에\\n트러플오일의향을 알게되었고, 저와는 안맞는걸로...ㅎㅎ\\n이상 농심 한정판 트러플오일 짜파게티 큰사발면 후기였습니당 \\n#트러플짜파게티#농심#한정판#트러플오일#큰사발면#편의점#CU#씨유']\n",
      "['안녕하세요!', '이번 포스팅은 KFC 트러플치킨 후기입니다.', '(제 돈 주고 사먹었읍니다..)', '요즘 다이어트 중이라서(입으로만) 치킨을 안 먹은지 너무 오래되서\\n이왕 블로그 포스팅 한다고 생각하고\\nKFC 신메뉴도 나왔겠다..  트러플 치킨을 먹어보았읍니다.\\n(이런건 살 안찜 암튼 안찜)', '주문하니까 비닐장갑이랑 같이 주네요ㄷㄷ\\n(내가 아는 KFC는 셀프로 가져가는 거였는데 뭐지 코로나 때문인가..)\\n암튼 장착하고 먹어보겠습니다!', '그 전에 영롱한 자태부터 감상...', '한 입 먹은 사진\\n솔직후기_\\n사실 요즘 트러플 오일로 엄청 마케팅 하잖아요\\n트러플 짜파게티, 처갓집 트러플 치킨, 트러플 샌드위치 등등', '그러나 저는 트러플 식품을 하나도 먹지 않았습니다!\\n(공교롭게도 다이어트 시작 시기랑 트러플 유행시기가 겹쳐서..)\\n아무튼 그래서 제 먹생에선 이 트러플이 첫 경험인지라\\n트러플의 진짜 향을 1도 몰라요...\\n그래서 누구보다 솔직한 후기를 말할 수 있죠!\\n무슨 맛이냐면 진짜 거짓말 1도 안하고\\n달콤한(옥수수 특유의) 콘스프 맛이에요.\\n거기에 꿀 느낌나는?\\n꿀맛은 아님. 근데 꿀 느낌 남..\\n(아니 그 신조어 꿀 맛말고 Flavor of honey)\\nKFC 양념치킨 특징은\\n핫 크리스피에 양념 소스를 쳐발쳐발 하잖아요.\\n그거 감안해도 6조각 이상 먹으면 물릴 것 같아요.\\n(어떤 KFC는 그 크리스피 염지를 안하기도 하던데..)\\n조금 쓴 맥주랑 먹으면 잘 어울릴 것 같아요.\\n(제 기준으론)\\n청량한 한국 맥주 먹으면 둘다 느끼해서...음ㅇ...\\n그래서 조금은 호불호가 있지 않을까 싶어요.\\n이건 치킨이다 하고 이미지트레이닝 하고 먹어봐도\\n과자 중에 사또밥이 계속 생각나벌임..\\n어떻게 마무리하지 이 글을..\\n암튼 KFC 트러플치킨 후기였습니다!\\n읽어주셔서 감사합니다!', '사 먹은 매장은 여기에요!', '']\n",
      "['#압구정무탄 요즘 정말 핫해진 중식당\\n#멘보샤맛집 #압구정중식 #마카롱멘보샤\\n한번쯤은 가보자하여 애매한시간에 가서 웨이팅없이 들어갔습니다\\n예전에는 예약도 받고 브레이크타임도 있었는데\\n이제는 브레이크타임 없애고 예약도 없앴다고 해요\\n보여드릴게요', '우선 #무탄주차 발렛파킹 가능해요\\n매장 바로 옆에 발렛파킹 해주시는 분들이 계십니다', '미리 되어있는 테이블셋팅\\n정말 애매한 시간이었는데도 사람들이 많았어요', '여느 중식당과 같은 기본 반찬', '무탄 시그니처 메뉴가 모두 포함된 커플 시그니처 코스\\n커플이 아니어도 거의 모든 테이블이 이 세트를 먹고 있었습니다 ㅋㅋㅋㅋㅋ 커플이 아니라 세명까지 가능한 양이에요! 진짜루!\\n단품으로 세 가지 주문해 먹는것보다 조금 저렴해요\\n저도 당연히 이걸로 주문했어요\\n미리 결론부터 이야기하면 웨이팅하면서 먹고싶진 않아요\\n#스테이크트러플짜장면 #한우차돌짬뽕 마카롱멘보샤 모두 맛은 있지만 또 먹고싶은 맛인지는 잘 모르겠어요! \\n저처럼 막 아무도 밥 안먹을 시간에 가서 ㅋㅋㅋ 안기다리고 드시고 오시는 거라면 추천해요\\n식사시간에 무탄 앞 지나가면 웨이팅이 ㅎㄷㄷ하거든요\\n가격도 가성비 좋진 않아요\\n단품 가격으로는 한 그릇에 25000-28000 정도 였던 것 같아요\\n파스타 한그릇 가격이라 치면 비싼것도 아니긴 하지만 ㅎㅎ 그래도 기대보다 엄청 특별하지는 않았어서ㅜㅜ\\n무탄에도 짜장면 짬뽕 기본메뉴들이 있는걸 다들 모르시더라구요 \\n가격이 반 이하이니 참고하세용!\\n하긴 그래도 무탄에 왔으니 이왕이면 저처럼 시그니처 메뉴들을 드시고 싶게쬬ㅠㅠ 저도 그랬습니다\\n그래도 가장 좋았던 메뉴는 스테이크 트러플 자장면!', '주문을 마치고 가게를 둘러봤어요\\n손님이 많아서 홀 사진은 거의 못찍었어요', '인테리어가 깔끔하고 예뻐서 사람들이 더 많이 찾는 것 같아요', '주문하고 금방 나왔어요\\n빵은 거의 없고 새우살로 가득한 마카롱멘보샤\\n세가지 소스가 나와서 입맛대로 골라목울 수 있어요\\n멘보샤도 맛은 있었지만\\n전 그래도 멘보샤에서 빵맛도 중요하다고 생각해서\\n너무 새우살 튀김을 먹는 느낌이 났오요ㅠㅠ\\n아마도 그게 이 멘보샤의 매력포인트겠져?', '비주얼은 최고네요\\n저와 맞지 않을 뿐 ㅜㅜ', '아이올리소스 칠리소스 트러플마요소스\\n아주 멘보샤에 적합한 소스선정\\n칭찬합네당', '근데 무탄 장점이\\n부모님이나 어른 모시고 가기에도 분위기도 적당하구 \\n그런데도 젊은이들이 찾아오는 힙한 느낌도 조금 있어서 ㅋㅋㅋㅋ 좋을 것 같아요\\n메뉴들도 개성있잖아요\\n무탄 인기 비결인 듯 합니당\\n브레이크타임 없앤건 신의 한 수!\\n예전에는 예약이 됐ㄷㅏ 안됐다 ㅋㅋㅋ 좀 불친절하셨오요 넘 바쁘셨겠지만요ㅠㅠ', '제가 가장 마음에 들었던 메뉴예요\\n바같은데 가면 안주로 짜파게티 트러플오일 뿌려 나오는거 너무 맛있잖아요\\n그거의 고오급버전!\\n스테이크도 뭉텅뭉텅 크게 썰어져 들어가있구\\n저 튀긴 계란후라이가 차밍포인트 ㅋㅋㅋㅋ\\n맛있었어요\\n근데 트러플 향이 넘 강해서\\n먹자마자 더 먹고싶은 느낌은 아니고 조금 물렸어요\\n한두달 뒤에 먹고싶을 맛이에요', '옴뇸뇸\\n양도 많이 주셨어요오\\n왜 다시 배가 고픈것인가...', '한우 차돌 짬뽕도\\n프리미엄 짬뽕답게 내용물이 실해요\\n고기가 가득하고 국물도 진해서 좋았어요\\n하지만 기대만큼 특별하지는 않았다는 점 ㅠㅠ\\n넘 진해서 조금 담백하면 더 좋았겠다\\n그런 면에서 다른 곳 차돌짬뽕이랑 다르지 않았다는 생각이 들었어요', '맛있는 한끼였어요\\n하지만 뒷맛이 깔끔하지는 않았다!', '안기다리면 먹을만 합니당!!\\n담에 오면 짬뽕은 기본으로 시켜볼까 해요\\n국물이 조금 맑으려나요~~?\\n저는 고기러버라 진한 국물 좋아하는 편인데도\\n조금 과했습니당', '그래도 맛은 있었던 무탄 시그니처 세트 후기', '실망하고 왔다고 생각했는데 사진보니 배고파지네요', '정말 솔직한 후기였어요']\n",
      "['남자친구랑 평일에 데이트 했는데요. 아무래도 요새 또 맥주가 한잔씩 생각이 나더라구요. 직장인이라 저녁에 보면 다음날 출근도 해야 되니깐 밥 먹고 2차로 술 마시기에는 시간이 너무 어중띠라서 밥도 먹고 테라 한잔 할 수 있는 집 근처 핫플레이스를 찾아 봤어요. 그전부터 이웃님들 블로그에서 많이 보던 가보고 싶었던 주점이 있어요. 특이한 #이색 #데이트 했고 분식 및 안주를 파는 곳이에요. 바로 #장고상회 에요. #혜화술집 #대학로술집 으로 적극 추천하고 싶더라구요. 안주가 정말 맛있고 레트로감성이라 분위기도 좋고 다녀온 생생후기 남겨볼까 합니다.', '전화번호 : 02-747-3685\\n주소 : 서울 종로구 대명1길 21\\n지번주소 : 명륜4가 39지도보기\\n영업시간 : 매일 17:00 - 01:00연중무휴\\n이용정보\\n단체석, 예약, 무선 인터넷, 남/녀 화장실 구분', '4번출구로 나와서 걸어서 1~2분거리에요. 봉구비어 근처인데요. 찾기 완전 편했어요. 와서 보니 이 여자분들 누구죠? ㅎㅎ 제가 좋아하는 개그우먼들이 다 나오셨네요. 나중에 한번 봐야겠어요. 한옥을 개조해서 만든거 같아요. 정원도 있고 이쁘더라구요.', '왠지 일본여행 갔던게 생각이 났고 대나무 정원을 지나서 돌담을 걸어서 가면 되는데요. 조명이랑 이쁘죠? 완전 여기는 데이트로도 좋고 친한 지인들하고 한잔 하러 와도 좋을꺼 같아요.', '안전과 예방을 위해 매일 친환경 미생 방역제품으로 소독하고 있다고 해요. 매장 입장하면 비치된 손세정제 사용을 권유한다고. 저랑 남친도 들어가서 바로 손소독 했어요! 나올때도 한번 더 하구요 :)', '1층과 2층으로 구성이 되어 있는데 테이블이 몇개 없더라구요. 테이블 간격을 코로나때문에 더 벌려서 실제 매장에 가면 되게 널찍 널찍하게 운영하는 느낌이에요. ㅎㅎ 소비자 입장에서 좋으면서도 여기가 핫플이자나요. 아무래도 늦게 가면 웨이팅하겠더라구요. ', '대학로 혜화 술집 장고상회 메뉴판이에요. 레트로 분식 다이닝인데요. 육회에 훈제오리,치킨스테이트,곱창부대찌개,돼지머릿고기,만두술국,치즈순살불닭,꼬막*골뱅이무침,소시지*나초플래터,치즈*견과류플래터,튀김한소쿠리,먹태구이,새우유자샐러드등이 있고 떡볶이도 크림스타일 통영시장스타일등 다양하구요. 덮밥에 트러플오일짜파게티까지 다양해요!\\n저는 블로그랑 메뉴판을 몇일전부터 탐독 후 분식으로 가자 하고 마음을 먹고\\n테라2병,튀김한소쿠리,통영시장기름떡볶이,트러플오일짜파게티 주문해어요. 총 41000원', '단무지도 나오구요 ㅎㅎ 넘 귀엽죠? 조명이 어둑어둑하고 노래도 좋고 그냥 앉아서 식사겸 먹었는데 기분 완전 UP되더라구요. 여자는 화장실이 1층 남자는 2층에 있어요.', '트러플오일짜파게티에요! 이거 완전 맛있어요 ㅋㅋ 대박이에요. 다음에 또 먹으러가면 이거 꼭 재주문할꺼에요! 여러분 우리가 아는 그 짜파게티이긴한데 집에서 먹는거랑 맛이 다르더라구요. 트러플오일과 함께 색다르게 완전 맛있어요.', '통영시장스타일의 기름떡볶이 이것도 JMT 이것도 다시 가면 재주문 필수!!! 메추리도 튀겨서 나오고 귀엽죠? 짭조름 하면서 많이 맵지 않고 최근에 백종원님이 TV에서 기름떡볶이 만드는거 전수 하고 있는거 봤거든요. 새로운 TV프로그램에서 그거 보면서 계속 먹고 싶었는데 한이 풀리네요 ㅎㅎ', '케챱과 레몬맛이 났던 간장소스~ 튀김소스로 나왔구요!', '사진이 너무 양이 적게 나왔는데 고로케 닭튀김,감자튀김,돈까스,만두등 다양한 튀김이 정말 한소쿠리로 엄청 많이 나왔어요. 튀김덕후로서 밀가루 귀신이거든요. 완전 행복했어요 ㅎㅎ 양이 근데 진짜 많더라구요. 2이서 너무 과했다 싶어서 다음에는 이거 말고 감자튀김 있던데 그것도 JTM 이라는 후기가 많아서 그거 먹어볼까봐요.', '노래와 함께 혜화 대학로 술집의 안주들과 그날의 느낌을 담았네요.', '맥주가 계속 들어가는 기분 좋은 저녁시간이었어요. 좋은 사람과 함께 하는 시간은 늘 금방 지나가는거 같아요. 보니깐 지인들과도 많이 오는거 같더라구요.', '먹다가 전체컷 한장 촬영! ㅎㅎ 완전 행복했어요~ 분식 좋아하면 꼭 와서 먹어보세요. 색다를께 없을꺼 같은데 색다르더라구요. ㅎㅎ 어둑어둑한 조명에 맛있는 밀가루 파티~ 거기에 테라까지~', '기분좋게 2병마시고 나왔는데요. 각종 막걸리에 상그리아등 술 종류도 은근 많고 가격대가 정말 저렴하자나요. 확실히 대학교 근처라서 그런가요? 참 가격 싸다 라는 느낌을 받았네요. 맛도 좋고 데이트 하기 좋아서 한번은 꼭 가봐야할 핫플로 소개하드리고 싶네요.', '']\n",
      "['안녕하세요! \\n압구정에 생긴지 얼마 안됐는데\\n넘나 핫하다는 #압구정중식당 #무탄 다녀온 후기를 써볼까해요!\\n스테이크트러플 자장면이라니,,,\\n이름부터 맛이며 비주얼이며 넘나 궁금유발 아닌가요,,,?🤔\\n게다가 마카롱멘보샤라닛 ㅋㅋㅋㅋㅋ대박사건!\\n남자친구가 넘 궁금해했는데 마침 저도 중식이 끌려서\\n 그저께 드뎌 다녀왔지요❤️', '', '무탄 위치는 압구정역 2번 출구 근처로\\n걸어서 금방이랍니다!\\n갠적으로 생긴지얼마안됐는데 핫하대서\\n체인점이 생겼나?! 했는데\\n여기 하나밖에 없더라구요!!!!\\n그래서 기대감 대폭상승해버렸지모예유,,,!\\nㅋㅋㅋㅋㅋㅋㅋㅋㅋㅋㅋ', '#무탄영업시간 도 확인하세요!\\n브레이크타임 없는것도 넘 좋았어요!\\n어제도 오후 3시쯤 애매한 시간에 먹으러가서 웨이팅 없었는데\\n식사시간에 가면 웨이팅 있다해요ㅠㅠㅠ\\n가게 앞이 웨이팅 기계(?)가 있더라구요 🤣🤣\\n웨이팅 있다는 증거(!)', '생긴지 얼마 안된 식당답게 넘나 깔끔깔끔✨✨', '저희는 창가자리에 앉았어요!\\n시간이 3시로 애매해서 자리도 여유있었어요>,<', '기본 상차림!\\n한식에선 김치 맛난 집이 맛집이라 하죠,,,\\n여기는 짜사이가 넘 맛나더라구요,,,?', '다른 곳과 다르게 흰색 짜사인데 감칠맛 대박,,,\\n다 먹구 더 달라해서 더먹었어요❤️❤️', '#마카롱멘보샤\\n뚱카롱을 연상시키는 비주얼이예요!!\\n빵부분은 작고 새우부분이 큰데\\n호불호가 갈릴거같아요!!!\\n(남친이랑 저 둘 다 그냥그렇다함,,,!\\n다음에 오면 멘보샤말고 다른거만 시킬거같다구,,,)\\n새우 좋아하는 분들은 좋아하실거같아요!!!\\n근데 제입맛엔 너무 새우부분만 크달까요ㅠㅠ!\\n빵 튀긴거랑 새우가 어우러지는게 좋은데 \\n이건 그냥 새우씹는 맛밖에 없어서ㅠㅠ\\n오히려 근처에 있는 가담 멘보샤가 더 제스탈이였어요!!!🤣', '그리고 저는 가담에서 주는 칠리소스가 더 좋더라구요!\\n살짝 매콤하고 뭔지모르겠는 씹는(?)게 들어있는 소스!!!\\n대신 여기는 트러플마요&칠리&어니언\\n이렇게 다양한 소스를 제공해준답니다!\\n(어니언 찍어먹으면 리얼 새우버거맛!)\\n소스에서도 호불호가 갈리지않을까싶었어요!! ', '#스테이크트러플자장면\\n자장면에 트러플 넣는거 유행했었죠!\\n요 유행도 화사님덕에 시작한거였나요?*_*\\n트러플오일+짜파게티 열풍•••\\n전 한번도 안먹어보고 여기서 첨 먹어봤는데\\n와아 조합 넘 좋더라구요?!!!!\\n그리고 스테이크 대박,,,,\\n육즙 팡팡,,, \\n아닛 짜장면 먹으면서 \\n스테이크 씹는 날이 올 줄 누가 알았겠어요,,,\\n익숙한듯 낯선 조합이지만 jmt,,,,', '소스에 고기 아낌없이 넣어주셔서\\n소스 다 긁어먹었어요ㅠㅠㅠㅠ❤️\\n(근데 자장면 가격이 25000원이긴함•••\\n놀라운 자장면 가격이지만 \\n너무 맛나서 기억에 남아버렸어요,,,🤤)', '#뚝배기마파두부\\n요고!!! 요고도 맛났어요!!!!\\n전 사실 달달한 완전 한국식 마파두부(?)밖에\\n안먹어봤었는데\\n요고는 마라맛이 나더라구요!!!!\\n마라맛 나고 입안도 마라먹었을때처럼\\n약간 얼얼한 매운맛 나구!!!!\\n근데 또 너무 맵다 느낄 정도는 아닌!!!\\n뚝배기에 나오는 것도 넘 신기했어요 ㅋㅋㅋㅋ\\n(갠적으로 뜨끈뜨끈한 뚝배기들,,, 좋아함,, 헤헤)', '볶음밥이랑 먹는거 넘 맛났으니까\\n움짤도 ㅠㅠ❤️\\n안에 가지랑 두부 듬뿍 들어있는데\\n최고최고였어요 \\n아쉬운점 1도 없던 마파두부!!!!!!!!', '먹다가 황급하게 찍어본 전체 항공샷,,,\\n넘 배고파서 절대 음식 다 나오길 기다렸다\\n한곳에 모아놓고 찍을 수 없었슴당,,, ㅎㅎㅎㅎ\\n첨엔 느끼해서 다 못 먹을거같기도해서 \\n좀 걱정했는데 결국 시킨 거 다 먹었어용ㅋㅋㅋ❤️', '오늘은 이렇게 후기를 마무리 해볼까해요!\\n넘 맛나게 먹구온 곳은 신나서 얼른 블로그 올리고싶고\\n그러던데 여기가 그랬어요!ㅋㅋㅋㅋㅋ\\n근데 나름 빨리(?) 올려서 뿌듯합니다 ٩(ˊᗜˋ*)و \\n다들 행복한 토요일 맛점하세요오🔥❤️', '', '#압구정중식 #압구정역맛집 #압구정역근처맛집 #압구정무탄 #트러플한우 #트러플한우짜장면 #트러플자장면 #압구정멘보샤 ']\n",
      "['안녕하세요! 뿅뿅입니다❤ \\n오늘은~ 신상 컵라면 리뷰입니다!\\n나 혼자 산다에서 화사님이 드셔서 인터넷에서 트러플 짜파게티라고 한창 유행이 되었었죠~?\\n그 유명한 트러플 짜파게티를\\n큰 사발면(컵라면)으로 농심에서 출시했다고 해요!\\n소비자들은 대상으로 인터넷상에서 신제품 투표가 있었는데 트러플 짜파게티가 뽑혔다고 하더라구요!ㅎ\\n  화사님 파급력이 이 세상 파급력이 아니네여,,,,!\\n저번에 곱창 대란에 이어서..ㅎㅎ  \\n트러플 짜파게티 컵라면 솔직 후기\\n시작할게요^-^', '가격: 1,600원', '영양정보도 찰칵!\\n트러플 짜파게티 칼로리: 485kcal', '트러플 짜파게티에는 이렇게 면, 과립 스프, 후첨소스가 들어있어요!\\n일반 짜파게티에서 변한 건 후첨소스가\\n 올리브유->트러플오일\\n로 바뀐 점입니다!', '1. 뜨거운 물을 부어줍니다!', '센스 있게 젓가락 끼우는 곳이 있어요!❤ㅋㅋㅋ\\n모든 컵라면에 젓가락 끼우는 곳이 있었으면 좋겠네용,,', '2. 4분 후, \\n면은 한번 풀어주고,', '콕콕콕콕\\n3. 젓가락으로 구멍을 뚫고 뜨거운 물을 따라내 버려주세요!\\n<뜨거운 물이니 화상에 주의해주세요!>\\n원래 기존의 짜파게티 컵라면은 물 버리는 게 아닌데 조리법도 살짝 바뀌었어요~!', '4. 과립스프와 트러플오일(후첨소스)을 넣고 비벼주세요~~', '뻑뻑해서 잘 비벼지지 않으면 뜨거운 물을 조금 부어주시고 비벼주세요!\\n비빌 때 트러플오일 향이 올라오네요!!', '', '완성~!\\n트러플 짜파게티 컵라면 맛은....!\\n맛있어요!\\n먹으면 기존 짜파게티와 특별하게 달라진 점을 잘 모르겠어요~ㅋㅋㅋㅋㅋ쪼금 더 고급진 맛..?\\n트러플오일 자체가 엄청 비싸다보니까 소량으로 들어가서 그런지 향이 진하지않아서 호불호가 덜 갈릴 것 같아요!\\n살짝궁 더 느끼한 맛이 있다고하시는분들도 있던데 저는 잘 못느꼈어요!\\n요즘 짜파게티 이도저도 아닌 애매한 맛이 나서 잘 안먹었었는데 트러플짜파게티 괜찮네요~ ', '조금 먹어보고 계란 프라이를 넣고\\n먹어봤어요!\\n계란 노른자가 안익게 반숙으로 조리하는게 포.인.트!\\n짜파게티에는 역시 김치죠!\\n파김치랑 먹는 거 좋아하는데 냉장고에 깍두기가 있길래 깍두기랑 냠냠', '노른자가 터지니까 더 면에 윤기가 돌고\\n고소함이 업그레이드 되었어요!\\n노른자 안익은거 비린 맛 때문에 별로 안좋아하시는분들도 짜파게티랑 어우러져 거부감이 덜 느껴지실거예요~\\n역시 화사님 추천 레시피대로 해먹는게 짱이네용ㅎㅎ\\n집에서 드시는 분들은 꼭 계란 후라이도 같이 해서 드셔보세요!', '완컵 했어요! ㅎㅎ\\n트러플 짜파게티 컵라면은 트러플오일 사서 넣는 거보다는 풍미와 맛이 조금 덜 하겠지만\\n가격도 그렇고 트러플오일을 다른 요리에 활용을 못하실 것 같은 분들은\\n신상 컵라면 트러플 짜파게티를 추천할게요!', '<트러플 짜파게티 파는 곳>\\n저는 집 앞 gs25 편의점에서 구입했고요,\\ngs에서만 판매되는 건 아니고 다른 편의점, 마트에서도 구매가 가능합니다!\\n봉지 짜파게티를 좋아하시는 분들께 아쉬운 소식은 컵라면으로만 출시된다고 해요ㅠ\\n인기가 많아지면 봉지 라면으로도 나올 수 있지않을까요.??ㅎㅎ\\n한정판이라고 하니까 궁금하셨던 분들은 재빨리 드셔보세요!~\\n트러플 짜파게티 큰 사발면(컵라면)후기는 여기서 마칠게요! 뿅!']\n",
      "['안녕하세요 한번 더 돌아온 밍도리입니다\\n왜냐,, 렌더링 돌리는 동안 시간이 좀 뜨기도 하고 \\n오늘 점심에 먹은 편의점 신상 라면을 맛이 잊어지기 전에 좀더 생생한 후기를 전해드리고 싶어서 다시 왔어용\\n아직도 입에 짜파게티 맛이 좀 남아있는 것 같은..기분ㅋㅋ\\n네 맞습니당\\n오늘의 포슽팅~~~~', '솔직한 후기입니다\\n총총 \\n요새 들어서 급 편의점 후기 포스팅에 맛들림..?\\n점점 더 발을 늘리고 있는 맛도리 블로거 밍도리입니다요 ', '회사 앞 이마트24 편의점에서 신상 라면 트러플짜파게티를 구매해봅니다\\n가격은 1600원\\n비싸용\\n일반 짜파게티보다 무려 500원이나 비싼 가격입니다\\n트러플 소스가 무려 500원이나 한다는 소리인데용,,,\\n칼로리를 485 kcal 로 일반 짜파게티보다는 양도 좀 적고 칼로리도 적습니당\\n약이 적으니까 칼로리도 적겠죠..? 다이어트 할땐 트러플 짜파게티를... ^^ \\n아가리어터 밍도리 ', '뭔가 표지부터 어그로를 잔뜩 끌고 기대 만땅하게 만드는 농심이에요 \\n그냥 나혼자 산다에서 화사가 짜파게티에 트러플소스 부어 먹어서 만든거 아닌가요..?\\n화사로 인해 유명해진 트러플짜파게티..?잖아? ', '믿습니다 화사언니...!!!!!!!\\n소름인건 화사가 나보다 동생인점 ㅋㅋㅋㅋㅋㅋ 멋있으면 다 언니야 ㅠㅠ 화사 언니 사랑해욤 \\n이미 유명한 유튜버들께서 후기 영상을 진작에 올리셨지만~~~\\n저는 그 영상 하나도 안보고, 후기 블로그도 하나도 안보고 오직 내 혀만 믿고 포스팅합니다\\n괜히 여론에 휩쓸릴 것 같고 나의 솔직 후기를 위해.. (사실 귀찮아서 안봄)ㅋㅋ', '자 이제 뜯어봅니다\\n아 저는 오늘 혼자 편의점에서 쓸쓸하게 점심을 먹었어요\\nㅋㅋㅋㅋㅋㅋ 왜냐면 아침에 이마트24편의점에 아침밥을 사러 왔다가 이마트에도 아이돌샌드위치가 있길래 gs에서 아이돌인기샌드위치 맛있게 먹은 기억에 홀린 듯 샌드위치 구매..\\n사실 아침마다 삶은 계란 하나씩 먹음 딱 적당한데요,,, 과식 해버려서 점심 되서도 배가 안고프더라구용\\n그래서 그냥 혼자 편의점 가서 해결하게다고 하고 왔는데 ㅋㅋㅋㅋ\\n라면 먹을 생각 없었는데요 ㅋㅋㅋㅋ 트러플 짜파게티 본 순간 \\n아, 요새 핫한 트러플 짜파게티 맛도리 블로거로써 먹고 후기를 남겨야겠다 라는 생각이 스치고.. 구매...ㅎㅎ\\n이것이 바로 현생 < 블로그인생 인 순간\\n요새 뭐만 하면 포스팅 각이다 ㅋㅋㅋㅋㅋ 함ㅋㅋㅋㅋㅋㅋ\\n그리고 혼자 먹으러 와서 혼자 폰카로 게쏙 찰칵찰칵하면서 편하게 사진도 찍구 후훟 가끔  편안하게 혼밥도 좋아요...ㅎㅎㅎ', '건대기들이 바닥에 많이 깔려있던데 안보여요 ', '물 부으니까 고개를 내미는 건대기들\\n뜨거운물에 4분 익히면 된다고 설명서에 적혀있어서 정확히 4분뒤에 물을 버렸습니당', '옆에 조리법도 읽어줍니다\\n원래 조리법 이딴거 귀찮아서 안읽고 내가 먹고싶은데로 해먹는데 (요리고자의 이유는 여기있습니다.)\\n오늘은 포스팅 해야하니끼 특별히 읽어준다~~~ 트러플짜파게티야~~ 고맙징\\n근데 조리법 읽어도 뭐 별거 없음ㅋㅋ\\n요약 : 뜨거운 물 붓고 4분 있다가 물 빼서 소스 넣거 비비면 끝  \\n다이어트 하시는 분들이 궁금해 하실\\n트러플짜파게티 영양정보\\nㅋㅋㅋ떄랴챠! 다이어트 하는 중이면 걍 먹지맛!!!!', '스프는 2개로 구성되어있으용\\n과립스프는 기존에 있는 그 소스 그대로인것 같고\\n추가 된 트러플 !! 후첨 소스!!!!!!!!!!!!!!\\n이게 바로 500원이나 비싼 이유 ㅎ\\n기대하고잇다 ^^ 컵라면이 500원이나 차이난다는건 엄청난 차이니까욤 ', '폰 보다가 어느새 4분이 지나버려서 호다닥 물 버리고 왔는데 아까까지만 해도 안보이던 건더기들이 동동 떠나니네용..', '혼자 있으니까 소스 두개다 그냥 부어버리고 결과만 사진으로 담습니다 ㅋㅋㅋㅋㅋ\\n귀찮오 진짜,, 하지만 블로그는 짜릿해 재밌어 >_<', '열심히 비벼줍니다\\n막 향에서 와~~~트러플 향 joona 난다~~ 는 없었습니다\\n네. 없었어요.', \"크게 한젓가락~~~~~~ ->사진만 찍고 조금만 먹음 \\n딱 첫맛의 인상은 '짭다!!' \\n일명 짭다 였습니다\\n음~~트러플 향이 나네~~ 음 짜파게티 맛이네~~ 가 아니라 짭다 \\n밍도리 한줄 평 : 트러플 향이 나는 짜운 짜파게티 맛.\\n뭐 구구절절 설명할 게 없네요.. 저는 저 한줄평으로 퉁 칩니당!\\n저는 개인적으로 공화춘이 더 맛있어용\\n두번은 먹지 않을 듯한 편의점 라면 트러플 짜파게티...\\n화사 언냐 미안.. \"]\n",
      "예외가 발생했습니다. Message: no such element: Unable to locate element: {\"method\":\"css selector\",\"selector\":\".se-fs-.se-ff-\"}\n",
      "  (Session info: chrome=85.0.4183.121)\n",
      "\n",
      "['트러플이 대세인 요즘.\\n트러플파스타, 트러플감자튀김, 트러플짜파게티에 이어서 트러플양념치킨까지!\\n처갓집양념치킨의 대표 메뉴 슈프림양념치킨과 트러플이 만난 트러플슈프림양념치킨, 솔직 리뷰 시작합니다 ✧ڡ✧ ', '평소에도 트러플이 들어간 음식을 좋아하는데, 즐겨먹던 처갓집양념치킨에도 트러플 신메뉴가 출시되었어요!\\n처갓집양념치킨의 30년 헌정제품으로 2019년 12월 31일, 작년 마지막날에 출시 된 트러플슈프림양념치킨.', '참고로 저는 처갓집양념치킨의 슈프림시리즈는 거의 다 먹어봤어요.\\n처돌이 인형도 받은 처갓집양념치킨의 진정한 처돌이가 말하는 트러플슈프림양념치킨 솔직 후기입니다 :9', '비주얼은 지금까지 봐왔던 화이트 소스가 뿌려진 슈프림치킨과는 사뭇 달라요.\\n슈프림소스에 트러플이 추가되서 일까요. 빨간 양념소스와 머스타드색 소스가 듬뿍 뿌려져 있습니다.', '항공뷰. \\n(* 주의 : 지금부터 계속 치킨 사진만 나옵니다.)', '맛은 뼈 있는 치킨을 더 선호하지만, 먹기 간편해서 거의 순살치킨만 먹어요.\\n처갓집 치킨은 신선한 닭을 사용해서인지 비린내도 나지 않고 아주 부드럽더라구요.', '소스 맛은 슈프림양념치킨과 크게 다르지 않아요.\\n트러플은 아주 조금 들어가 있는 정도..?\\n강한 양념맛에 트러플 맛이 묻히는 느낌이였어요.', '트러플 맛을 더 살리려면 위에 트러플 가루를 뿌리거나, 후라이드 치킨에 트러플 맛을 더하는게 좋을 것 같아요.\\n트러플(2%)슈프림양념치킨이라고 생각하며 맛있게 먹습니다. \\n엄청 맛있긴 합니다.๑-﹏-๑', \"먹다 남아서 냉장보관 후 다시 데워먹어도 맛있어요.\\n역시 처돌이에겐 처갓집양념치킨입니다.\\n다음에는 처갓집양념치킨의 모든 슈프림 시리즈 리뷰할게요. ღ'ᴗ'ღ\", '주문은 집 근처 처갓집양념치킨 중 요기요에서 별점 가장 높은 상암점에서 주문했습니다.']\n",
      "['안녕하세요 당뷔에여 :)\\n요즘 저희 짝꿍이 사랑니 때문에 고통의 나날을 보내는중 \\nㅠㅠ 안쓰러워요 그래서 씹질 못하니 죽을 먹으러 갔어용\\n근데 또 본죽에서 신메뉴가 나왔더라구용\\n건강도 챙길겸 신메뉴도 먹을겸 본죽으로 GoGo', \"맛의 비밀,하나\\n바다의 불로초 '톳'과 신선한 '전복내장'으로 \\n더욱 깊어진맛\\n맛의 비밀, 둘\\n바다의 진미 '전복'은 더욱 크고 부드럽게\\n맛의 비밀, 셋\\n세계 3대 진미 '트러플'\\n트러플 오일로 우아한 향과 맛까지\", '한 끼로도 \\'죽\\'이네 \\n(이 글귀를 보고 키득키득 센스있는 문구 )\\n한끼를 먹어도 제대로,죽도 김밥도 고급화 바람\\n요즘은 하나를 먹어도 제대로 먹는 추세 혼밥 문화도 많이 발전하고 있고 유부초밥이며 김밥이며 \\n고급요리 처럼 발전중인듯 저번에 포스팅한\\n 도제 유부초밥이 예시가 될듯 ㅎㅎ\\n가성비와 질이 중요한거같은 요즘 음식문화\\n땅속의 다이아몬드 \\'트러플\\' \\n\"한번 맛보면 못빠져나와요\"\\n저번에 파라다이스시티 씨메르를 갔을때도 감자튀김에 트러플 오일을 뿌려 준적이 있는데 그 깊은 맛과 풍미가 감자튀김도 고급스런 음식으로 바꿔주더라고요 , 저번에 나혼자산다에서 화사도 짜파게티를 올리브유 대신 트러플오일을 뿌려서 먹더라구용?\\n저도 짝꿍이가 짜파게티 트러플오일 뿌려서 만들어 준다고 하네용 ㅋㅋㅋㅋ 사실 기본적인 맛을 젤 좋아하는 저라 살짝은 걱정\\n(맛있게 먹어야 될텐데 표정에서 거짓말 못하는 스탈ㅋㅋㅋ)\\n프리미엄 식재료 듬뿍 담은\\n \\'트러플전복죽\\' 인기\\n제가 한번 내돈내산 솔직후기 들려드리겠습니당 :)', '총평\\n일단 트러플 전복죽은 \\n죽을 먹을때 톳의 오득오득 씹히는 식감이 좋았고\\n전복내장이 들어가 고소하고 \\n트러플오일로 인한 풍미가 좋았는데요\\n제입맛엔 자극적으로 완전 맛있다기 보단\\n건강한맛으로 즐기기 좋았던거 같네요\\n사실 저는 전복내장의 더고소한맛이 더 있기를 바랬는데\\n살짝은 모자란 고소함 ㅠㅠ 제주도에서 먹은\\n전복리조또의 느낌을 원했나봄 ..\\n근데 이건 죽이니까 아무래도 좀더 자극적이지 않게\\n만들어서 저의 입맛을 충족 시켜주지 못한듯 \\n(사실 저는 씹는 식감을 유난히 좋아해서 죽을 평소에 즐기는편은 아님 )\\n지극히 제 입맛인걸로 \\n그렇다고 맛없는 느낌은 또아니였는데\\n가격에 비하면 아깝다는 느낌은 살짝 있었음 ..\\n16000원 이면 싼편은 아니라서 더 기대를 했었는데\\n이정도 맛이라면 전 그냥 기본 전복죽을 먹을래요 \\n트러플 전복죽은 이번에 그냥 맛본걸로 만족하자\\n이느낌 이였어요 :)\\n삼계죽은 말해뭐해 ㅋㅋㅋ 삼계죽은 그냥 사랑이죠 뭐\\n근데 전 본죽 먹을바에 그냥 집에서 해먹을래요\\n(본죽이 싼편은 아니라 ..)\\n백숙해가지고 닭 뜯어먹고 남은 닭가슴살로 야채 다져서 넣어서 찹쌀밥 넣고 해먹는 죽이 세상 꿀맛 이라\\n아무래도 밖에서 먹는건 정성이 덜 들어가 맛도 덜 맛있는거 같아요 ㅎㅎ\\n그래도 아플땐 본죽은 우리의 어머니죠 ❤️\\n아플때만 이용할게용 🙏\\n당뷔의 내돈내산 본죽 후기 였습니당 :)\\n(급마무리) ', '', '']\n",
      "예외가 발생했습니다. Message: no such element: Unable to locate element: {\"method\":\"css selector\",\"selector\":\".se-fs-.se-ff-\"}\n",
      "  (Session info: chrome=85.0.4183.121)\n",
      "\n",
      "['사천짜파게티 / 1600원\\n편의점에서 내 최애라면인 감자면이 2+1행사하길래 맛이 궁금해서 사천짜파게티도 한번 사봤다\\n디자인이 뭔가 되게 맛있게 생김', '먼저 물을 넣고 4분기다린 후 물 빼고 과립스프와 유성스프를 넣어주면된다', '과립스프와 유성스프넣고 비비기', '개인적으로 맛은...기대했던것보다 진짜 별로였음\\n뭔맛인지 잘 모르겠고 여태껏 먹었던 짜파게티랑 맛도다르고 별로좋아하지않는 맛\\n가격 ★☆☆☆☆ (비쌈ㅠㅠ)\\n맛 ☆☆☆☆☆ (개인적인생각)\\n재구매의사 ☆☆☆☆☆ (다음에는 절대 구매하지않을것..)\\n농심 사천짜파게티 사천짜파구리 농심 사천짜파게티 사천짜파구리 사천짜파게티 컵라면 사천짜파게티 맛있게 사천짜장 사천짜파게티큰사발 영양성분 까르보 짜파게티 사천짜파게티 가격 사천짜파게티 컵 까르보불닭 짜파게티 컵라면 삼계탕 컵라면 gs25 컵라면 편의점 컵라면 gs25 라면 맛있는 컵라면 순위 gs25 김밥 트러플 짜파게티 컵라면 편의점 컵라면 가격 라블링라면 틈새라면 컵라면']\n",
      "['피자스쿨 신메뉴 출시!\\n피자스쿨하면\\n치즈와 포테이토만 먹었었는데\\n신메뉴 시식에 도전해보았다!\\n트러플 크림 소스, 버팔로 스틱의 조화가\\n매우 적절한 \\n트러플 버팔로 피자 후기 갑니다~~', '맛도 맛이지만 \\n가격도 중요하니까!\\n트러플 버팔로 피자의 가격은\\n9,000원이다.', \"사실 '트러플'하면 버거킹의\\n'트러플 머쉬룸 와퍼'가\\n가장 먼저 생각난다.\\n(밤에 쓰니까 먹고 싶어지네)\\n사실 '나혼자 산다'를 통해 화제가 되었던 화사의 '트러플 짜파게티'도 생각난다.\\n심지어 농심에서 한정판으로 제품을 출시하기도...!\\n아무튼\\n버거깅 트러플 머쉬룸 와퍼는\\n그 특유의 소스 맛이 나의 입맛과\\n매우 잘 어울리기 때문에 자주 선택해서 먹는다.\\n그렇다면 피자스쿨의 '트러플'은 어떨까?\", '', '한마디로 정리하자면\\n버거킹 트러플 머쉬룸 와퍼 맛보다\\n트러플 크림 소스의 맛이 약하다\\n하지만 또 먹겠냐고 물어보면\\n답은 YES다!!\\n오히려 감자튀김을 함께\\n맛볼 수 있다는 것이 장점인 것 같다.\\n그리고 약간 매콤해서\\n많이 먹어도 그렇게 물리진 않는다.', '피자스쿨에서\\n치즈 아니면 포테이토만 먹었는데\\n신메뉴도 굉장히 맛있었다.\\n트러플 크림 소스의 맛이 상대적으로 약해도\\n나는 대만족이었다!\\n주변인들에게 충분히\\n추천할 만한 메뉴다.', \"사실 피자스쿨 메뉴는\\n무엇을 선택하든\\n실패할 확률이 적은 것 같다.\\n평소 먹던 것과 달리\\n색다른 맛을 즐기고 싶다면\\n신메뉴 '트러플 버팔로 피자'를 추천한다!\", '', '#피자스쿨 #피자스쿨뚝섬역점 #뚝섬역맛집 #뚝섬 #성수맛집 #성수동 #성수동맛집 #뚝섬역 #트러플버팔로피자 #트러플크림소스 #버팔로스틱 #버팔로감자튀김 #제로페이 #제로페이가맹점 #제로페이모바일상품권 #피자 #피자맛집 #트러플 #트러플짜파게티 #버거킹']\n",
      "예외가 발생했습니다. Message: no such element: Unable to locate element: {\"method\":\"css selector\",\"selector\":\".se-fs-.se-ff-\"}\n",
      "  (Session info: chrome=85.0.4183.121)\n",
      "\n",
      "['평가 ( 5점 만점 )\\n맛 : ♥♥♥ (3.0)\\n가성비 : ♥♥♥ (3.0)\\n재구매의사 : 없음\\n수유역점 기준', '트러플짜파게티 덕분에\\n알게된 트러플의맛을,,,,사랑하는 사람으로서^^\\n얼마 전에 간 버거킹에\\n트러플머쉬룸 버거가 있길래 냉큼 주문했습니다!', '패티위로 머쉬룸 소스로 보이는\\n크리미한 소스가 살짝 보이네요ㅎㅎ', '크리미한 소스에서는 약하지만 트러플향도나고\\n크림 자체는 부드럽고 맛있었습니다\\n근데 문제는 이 크림이 너무 조금 들어있었다는겁니다ㅠㅠ\\n그래서 전체적으로 간이 너무 삼삼하고\\n트러플향도 약해서 많이 아쉬웠어요ㅠㅠ', '디아블로 소스 추가해서\\n햄버거에 뿌려먹었는데\\n나름 잘어울렸어요 ㅎㅎ\\n근데 디아블로라는 이름값은 못하네요\\n별로 맵진 않았어요ㅎ', '요즘 와퍼들 2900원에 할인행사중이라니\\n궁금하신 분들은 얼른 가서 드셔보세요']\n",
      "['대만갈 때 리나 따라서 면세점에서 산 소금~\\n뭔지도 모르고 일단 삼 ㅋㅋㅋㅋㅋ', 'ㅋㅋㅋㅋㅋㅋㅋ \\n한달만에 개시했는데 먹으면서 찾아보니까 \\n나혼산에 나래언니가! 충재씨 오던날!!! \\n비싼건데!!! 하면서 무채에 뿌렸던 그 소금!!!! \\n이제야 알았다~~~!!! ㅋㅋㅋㅋㅋㅋㅋ', '나는 30g짜리로 샀고! 금액은 9천얼마... 정도?!\\n먹고 나서 찍은 사진이라 양은 쫌 다를수도...! ', '뚜껑을 열자마자 향이 확 올라오는데!\\n으흠?? 아 이게 트러플 향인가..!? 살짝 당황!ㅎㅎㅎ\\n향을 느끼기에는 고기에 뿌려 굽는 것보다는 찍어 먹는 게 더 낫다! \\n따로 덜어서 콕콕! ', '나는 완전 막입이라 풍미.. 향... 이런 건 잘... 모르겠고요... 그냥 소금.... \\n다른 음식에도 시도해봐야지\\n계란말이에 하면 완전 다른 음식이 된다던데ㅋㅋㅋ\\n내일 다시 도전~\\n트러플 오일도 함 사볼까 싶다... 화사가 트러플 짜파게티 만든 것도 사비니 트러플오일이라고 하던데! (욕심)\\n다음에 다시 먹으면 맛있을 수도 있어...', '']\n",
      "['매일 신선한 재료로 직접 만드는 요리 말고, 종종 인스턴트도 먹는 녀자네! \\n뭐든 땡기는 거 먹는건 중요하다고 믿거든요. \\n얼마전 #나혼자산다 #화사짜장 먹방을 보고는,,,,, 그렇잖아도 짜장면이 계속 땡겼는데 싶어서 짜장라면을 주문했습니다! \\n화사가 먹은건 짜파게티 같던데,,,, 뭐 저는 어차피 트러플 오일도 없고요,\\n안익은달걀 노른자를 비벼 먹는 건 못하니깐 (게다가...아까운 달걀 흰자는 버리고 T^T)\\n제 기준에 맞춰서 짜장라면을 주문했어요. \\n농심에서 나오는 건 짜파게티,  사천짜파게티, 짜왕이 있고  삼양 짜짜로니,오뚜기 진짜장, 팔도짜장면까지 \\n진짜 다양하던데,,,, 전 그냥 #노브랜드짜장라면 으로 선택!!! 쓱배송 하면서 할인쿠폰까지 썼더니 실제 결제금액은 5봉에 2,414원.', '본질에 충실한 깊은 맛이라고 써있지만,,, 짜장라면 본질이 어떤건진 잘 모르겠고요..\\n그냥 면발이 너무 특이하지 않고 평범했으면 좋겠고, \\n짜장이 너무 짜거나 너무 달지 않았으면 좋겠고, \\n어차피 건더기스프는 중요하지 않으니깐,,,,끓여도 여전히 질긴 건조파는 많이 들어있지 않으면 좋겠다는게 저의 바램! :D', '건더기 스프를 개봉 해 보니,,, 건조대파 같은 건 애초에 들어있지도 않더라고요.\\n말린 양배추가 아주 조금! \\n그래서 저는 냉장고에 있던 자투리 재료들 중에 브로콜리줄기/느타리버섯/감자 굵게 다져서 준비해뒀어요~', '물을 끓이고, 500㎖ 이었던 듯요~ \\n건더기스프를 넣고, ', '굵게 다진 감자, 느타리버섯, 브로콜리대를 같이 넣고요, ', '면도 넣고 끓입니다! \\n역시나 사각형 모양 면..\\n바닥이 넓은 냄비를 사용했더니 물 양을 맞췄음에도 면이 한번에 안잠겨서 뒤집어서 끓였구요, \\n이대로 5분 30초 끓인 후 국물을 반컵 정도 남기는 건데, ', '저는 이대로 그냥 쭉 끓였더니 국물이 반컵 정도 남고 졸아들었길래 \\n#화사처럼 국물을 버리는 과정 없이 그대로 짜장소스를 넣었어요~\\n끓는 중이라 국물이 반컵 좀 넘는 것 같지만 그렇게 많지 않았거든요! ', '게다가 노브랜드 짜장라면 뒷면에 있던 레시피는 국물을 반컵 정도 남기고\\n짜장라면소스를 넣은다음 센 불에서 1분 30초 정도 또 볶아주라고 했으니,\\n국물이 반컵 좀 넘어도 상관없겠다 싶음!!! ^ㅡ^\\n액상소스이기 때문에 짜장소스 한쪽끝을 잡고 나무 젓가락 두개 사이로 훑듯이 쭉 짜면 \\n손에 묻지 않고 짜 낼 수 있어요! ^^v \\n요거 넣고 1분 30초 휘리릭 볶아서 완성!!!! ', '짜장라면 1봉지만 먹을 수 있나요? \\n짜장라면 끓이는 동안 교자만두 3개도 옆에서 열심히 튀겨서 곁들였답니다. \\n짜장면 먹으러 갔을 때 군만두 안 파는 중국집이 가끔 있는데 진짜 서운해요~~~~ ', '감자, 브로콜리줄기, 버섯 송송 굵게 다져 넣었더니 비주얼이 삼선짜장 저리가라 아니던가요오~~~~♬\\n면이 조금 부는 걸 각오하고 열심히 사진 찍어 보았어요 ㅎㅎㅎㅎ ', '단무지는 안 사 먹는 집이라서,,, 이날은 직접 담은 홍열무피클을 꺼내서 덜었어요.\\n이 날을 마지막으로 홍열무피클도 다 비워서 보라무피클도 새로 담았어요 ^^ \\n조만간 무피클만드는법 포스팅 할꺼예요~~', '어릴 땐 만두는 무조건 찐만두만 고집했는데, \\n나이 드니 오히려 군만두가 맛있어요. \\n나이를 거꾸로 먹나봅니다. \\n참고로 이 만두는 #오뚜기XO교자 인데 속이 진짜 꽉 차있어서 맛있어요. 단점을 말하자면 제 입맛엔 너무 짜요 T-T\\n(요즘 나오는 교자 만두는 웬만해서는 다 맛있는 것 같아요! 흐흐 ) ', '어쨌든 중요한 건 짜장라면이고,, 불고 있으니 \\n사진을 찍으며 먹어볼게요! \\n돌돌돌~~ \\n저는 이렇게 젓가락에 가능한 얌전하게 말아서 먹어요. \\n자칫,,, 온 데 짜장소스가 튀니깐,,, 호로록~하고 먹지 않고 돌돌 말아먹기! ', '김이 모락 모락! \\n조금 불었던데 맛있더라고요 T^T \\n다행히 저에겐 아직 4봉 남아있습니다 흐흐흐 ', '면이 너무 두껍지 않아서 좋고요,\\n너무 짜지 않아서 좋고요, 너무 달지 않아서 또 좋았어요.\\n물론 주관적인 기준이고 개인적인 취향이예요. \\n그래도 협찬 아니고 직접 구매인데,,,, 딱 맛있게 만족스럽게 잘 먹어서 소개해봅니다! ', '불은 짜장면 싫어하는 분은 소스 넣고 1분 30초 볶을꺼니깐,,, 처음에 끓이는 시간을 조금 조절하시면 좋을 것같아요!\\n건더기스프는 부실한 편이니깐 (저는 그래서 더 좋음!) 자투리 채소가 있다면 추가하세요~~~~♬']\n",
      "['안녕하세요 햇살이에요!\\n크롱님 생일 마지막 피날레를 장식한\\n배식당 방문 후기를 써볼게요!', '위치 및 번호\\n 강남구 도산대로49길 9 B1,B2\\n02-514-4991\\n이용시간\\n평일 18:00~04:00\\n주말 18:00~06:00\\n일요일 휴무\\n기타사항\\n단체석, 발렛파킹, 예약', '분위기가 엄청 핫플이라 해서 방문한 배식당!\\n핫플이라 그래서 그런 걸까요..\\n직원들이 친절 한 것 같지는 않았어요..ㅠㅠ', '내부가 엄청 크고 인테리어가 어마어마하다던데,\\n소문대로여서 인지 앞에서 QR코드 검사도 하고,\\n평소 운영시간 보다 단축한다하니 참고하세요!', '사진이 중간중간 흔들린 이유는,,\\n너무 급하게 안내해서..ㅠㅠ\\n밑으로 내려가라고 부리나케 안내를 해서\\n막 찍었는데, 저희가 오픈 시간에 맞추어 갔는데도\\n사람이 이 정도더라구요.. 한 10분 뒤?\\n밑에 자리가 꽉 차더라구요.', '정말 분위기가 다 한 곳,,\\n소문에 의하면 재벌2세들이\\n인테리어에만 10억을 투자해서 만들었다는..\\n그럴 소문이 돌만도 한게, 웬만한 강남 비싼 펍보다\\n높은 층고, 깔끔한 테이블, 고급스러운 화장실, 분위기가\\n파티나 모임하기 너무 좋아보였어요..!', '제가 처음에 배식당을 알아 볼 때에는,\\n파스타며 피자며 진짜 먹을 게 많았다고 봤는데\\n이제 메뉴가 이렇게 밖에 없다 하더라구요.\\n여기 메뉴가 정말 많고 다 맛있다 했는데\\n메뉴는 이게 다이고 술이 엄~청 많았어요.\\n하우스 와인부터 바틀까지 정말 다양해요!', '저희가 시킨 건\\n[김치 라자냐]\\n[트러플 짜파게티]\\n트러플 짜파게티가 진짜 맛있대서\\n시켰는데, 저는 개인적으로\\n트러플 요리 몇 번 먹어봤는데 별로였거든요.\\n저는 불호인 줄 알았는데\\n여기 진짜 맛있더라구요!!\\n약간 트러플을 많이 안 넣어서 간이 안세서\\n제 입맛에 맞았을 수도 있어요 :)', '김치 라자냐도 먹을만 했어요.\\n코스요리를 먹고 3시간 만에 먹는데도\\n맛있더라구요ㅎㅎ', '그리고 시킨 위아더원\\n이거 사실 저희가 너무 배부른데 분위기 내려고\\n와인 시키려다가, 1+1 칵테일인가가 있어서 시켰는데\\n엥???ㅋㅋㅋㅋㅋ 한입거리ㅋㅋㅋㅋ\\n그만큼 가격이 만원이였나 그랬어요ㅋㅋ\\n근데 이거먹고 더 감칠맛 돌아서\\n맥주시켰어요ㅋㅋㅋ\\n맛은.. 시나몬 칵테일맛 엄청 달아요ㅋㅋ', '그리고 크롱님 생일 케이크 꺼내서 \\n축하해주기 희희', '이로케 생일 케이크도 후우 하고\\n크롱님 생일파티 마무리♥', '그리고 이 날 택시를 2번 탔는데,\\n2번 다 같은 기사님 택시를 타서ㅋㅋ\\n크롱님이 복권사자해서\\n인생 첫! 복☆권을 샀는데!!\\n앞으로도 열심히 일하는 걸로-!', '']\n",
      "['슬기아니었음 몰랐을 파스타맛집 볼피노\\n가격듣고 놀랬다 👀\\n언제 또 기장와보겠나싶어 콜~~\\n분위기하며 맛과 멋이 조화로운 이 곳에서 먹었던\\n3종류의 파스타를 소개해보도록 할게요', '점심예약시간\\n12시 - 1시20분\\n1시30분 - 3시\\n*마지막주문은 2시', '창가에 앉아서 보는 맛까지 즐기게 되었다 😃\\n나중에 지똥이가 더웠다구,,ㅋㅋㅋ\\n나는 눈부셔서 창가 등지고 먹음ㅋㅋㅋㅋㅋㅋ', '손님들 싸악 빠졌을 때\\n테이블 디자인이 되게 특이했다. 금간줄알았는데\\n알고보면 되게 유명한 디자이너의 브랜드의 음뭐 그런걸수도 ? ㅎㅎㅎㅎㅎㅎ', '슬기says 트러플타야린이 맛있다, 알리오 보따르가가 먹고싶다.\\n웬만한 맛집은 성에 안차는 설기씨를 위해 ㅇㅇ너먹고싶은걸루 해 ~~ 딱히 내의견 내세우지않음\\n금설기라고 저장해둔 이유 : 혀가 비쌈', '왜인지 오늘은 파스타에 와인을 마시고 싶어졌다.\\n잘모르니까 무난해보이는 스파클링 와인으로.. . .   .', \"식전 그리시니 & 하몽\\n옆테이블 트러플향기 맡고, 하몽에 트러플오일 들어간 줄\\n알고 '향이 큼큼하군'했는데 올리브유 ^;^ 허허\", '난 진짜 술이랑 안맞아요,,,\\n지헌이는 ㄱㅊ다던데 내 혀에는 너무 시고 썼다ㅠ\\n예민한 성격에 혀까지 예민한 깨알이입니다 ㅎㅎ', 'wild mushroon salad 22.0\\n버섯샐러드 안에 블루치즈가 있어서 찐-한 맛이 코를 찔렀다\\n 지금 글쓰면서 알게됐는데,, 20년 숙성한 발사믹이 소스였네요 더 시큼해지는건가?\\n몇 입 못먹어서 맛이 기억안나ㅠ 누가 다먹었노\\n헤이즐넛 씹는 재미가 있었던 🥗 샐러드로 기억하겠어요', 'truffle tajarin 33.0\\n트러플 타야린 볼피노왔다면 꼭 주문해야하는 메뉴\\n사실 집에서 짜파게티해먹을때랑 약간 비슷했어요\\n그치만 ! 그 깊이는 다르다는 것,, ☝️\\n3가지 중 제일 맛있게 먹었던 파스타\\n향이 진해서 트러플입문용으론 안될 듯,,, \\n입문은 우리 짜파게티로 해요 🤩🤩', 'lamb shoulder ragu 27.0 \\n양 어깻살 라구파스타 제가 가장 선호하는 파스타면이라\\n기대🙊 (중당처돌이)\\n양고기 냄새가 거의 안나고, 가장 무난했어요.', 'aglio e bottarga 33.0\\n말린숭어알 오일파스타 저는 솔직히 짜서 못먹겠던데\\n다른 두 친구들은 간이 딱맞다고, 제일 맛있다고 함\\n계속 먹다보니 익숙해져서 가장 빨리 빈그릇을 \\n보였던 것 같아요ㅋㅋㅋㅋㅋㅋㅋㅋ\\n명란파스타 최상위호환으로 드셔보시길 추천합니다 👍', '다 먹고난 후 바깥 구경하러\\n홀 매니저분이 메뉴설명도 차분히 잘해주셔서,\\n레스토랑 초보 깨알이도 부담없이 즐기고 온 볼피노\\n기장에 가면 꼭 들려보세요 !!']\n",
      "['', '홈플러스 신제품 삼양 국민짜장 포함\\n4종의 짜장라면 순위 솔직 후기', '안녕하세요, 푸드탐구생활 3기 연구원 페페토입니다:) 지난번 편의점 대용량 커피 비교에 이어 짜장라면 4종 비교! 솔직 후기를 들고 왔어요. 주말 아침 하면 또 짜장라면 아니겠어요~ 일요일 아침 엄마가 끓여 주셨던 짜파게티가 아직도 생각나는데요. 분명 같은 라면으로 끓여도 왜 다른 맛이 나는지. 성인이 된 지금도 그때 먹던 짜파게티 맛이 그리울 때가 있네요.', '요즘엔 짜장라면 제품들도 꽤 다양해졌잖아요. 그때만 하더라도 짜장라면과 짜파게티는 동의어였는데 말이죠. 그래서 그런지 여러 라면을 먹어봐도 결국엔 짜파게티로 돌아오게 되는 마법 ㅋㅋ 그럼에도 신제품이 나오면 꼭 한 번은 먹어본다죠. 얼마 전 홈플러스에 갔더니 삼양과의 콜라보로 \"국민짜장\", \"국민라면\"이 새로 나왔더라고요. 가격도 5개입 한 팩에 2천 원으로 저렴하길래 맛은 어떨까 궁금해 가져와봤어요. 이참에 그동안 안 먹어봤던 다른 브랜드 제품들도 겟겟! 비교 리뷰 포스팅을 준비했답니다:)', '짜장라면의 원조! 농심 짜파게티와 신제품 삼양 국민짜장 + 나머지 2종을 비교해보려고 해요. 편의점에 들렀을 때 눈에 띄어 골라 본 GS 유어스 공화춘 짜장면과 오뚜기 짜장면이에요. 포장지부터 홍보 포인트까지 정말 다 제각각이었어요. 본격적인 맛 비교 전, 영양정보 및 특징 내용물부터 소개해드리고 시작할게요~', '', '', '', '먼저 Since 1905년, 우리나라 최초의 자장면 집! 100년 전통 중화요리집의 맛을 담았다는 공화춘 자장면입니다. 이 라면은 자장면 고유의 풍미와 건더기의 식감을 잘 살린 자장스프 포함, 프리미엄급 짜장이라는 특징이 있었어요.', '면외에는 액상스프와 풍미유가 들어있더라고요. 자장스프는 뭔가 포장부터가 전문적인 느낌이 났더랬죠. 스프 크기도 일반 라면에 들어있는 것보다 훨씬 컸고요. 끓는 물 600cc에서 5분간 끓여준 다음 물을 완전히 다 따라버린 후에 스프를 넣고 비벼드시면 돼요:) 스프만 좀 다르지 짜파게티와 조리법은 동일했답니다.', '두 번째는 50년을 한결같이 걸어왔다는 삼양 & 홈플러스의 콜라보 짜장라면! 신제품 국민짜장이에요. 이 제품은 리얼 춘장을 사용해 좀 더 진하고 깊은 짜장 맛을 냈다고 해요. 부담은 덜고 마음은 채웠다는 국민을 위한 국민짜장.\\n굉장히 저렴한 가격에 출시됐는데 그만큼 맛도 좋았을까요? 구매 전 궁금하신 분들은 리뷰를 끝까지 읽어주세요:)', '국민짜장에는 건더기도 유성스프도 X! 액상스프 하나 심플하게 들어 있었어요. 조리법은 끓는 물 600ml에 면을 넣고 5분 30초를 더 끓여줍니다. 그런 다음 물을 약 8스푼 정도 남겨주세요.', '다른 짜장라면들과 달리 면을 익히는대서 조리가 끝나지 않아요. 8스푼의 물이 남아 있는 상태에서 액상스프를 넣고 1분 30초 이상 한 번 더 볶아주세요. 물이 살짝 많은 것 같아 걱정했는데 다행히 볶으면서 졸아 적당하게 완성됐어요 ㅎㅎ', '오뚜기 짜장면 또한 짜장의 진한 맛을 어필하고 있었는데요. 이 제품은 직화로 볶아낸 직화 짜장이란 사실! 대게 불 맛을 입으면 특유의 감칠맛이 잘 살잖아요. 직화 짜장은 어떤 맛일까 먹어보고 싶더라고요.\\n그러고 보니 오뚜기는 짜장라면 브랜드가 2개나 되는 거 있죠? 진짜장! 진짬뽕은 정말 맛있게 먹었는데 진짜장은 제 입맛엔 꽤 달아서 다른 제품으로 가져와봤어요.', '이건 550ml 끓는 물에 면을 넣고 5분 더 끓여주시고요. 면이 알맞게 익었으면 물 3큰술 정도만 남기고 분말스프와 유성스프로 맛있게 비벼드시면 돼요. 내용물 구성도 그렇고 건더기 형태도 그렇고 짜파게티와 가장 비슷했던 제품이에요.', \"마지막은 올리브 조미유가 들어있는 농심 짜파게티! 짜장면과는 분명 다르지만 짜파게티 특유의 맛이 입에 잘 맞더라고요. 오래 먹어왔던 라면이라 맛있다고 느끼는 건지 아니면 정말 '맛'이 있는 건지 이번 기회에 제대로 비교해 보려고 가져왔어요.\\n비슷한 라면 종류가 있으면 저는 칼로리를 꼭 확인하는 편인데요. 낮은 칼로리 제품을 가져올 줄 아셨죠? 아이러니하게도 높은 칼로리로 골라온답니다 ㅋㅋㅋㅋ 좀 더 자극적이고 맛있진 않을까 하는 생각 때문인데요. 전부는 아니지만 대체로 칼로리 높은 게 뭔가 더 당기는 맛이 있더라고요? 공교롭게도 제가 비교한 짜장라면 중에서는 짜파게티 칼로리가 가장 높았어요.\", '다른 라면들과 차이점이 있다면 짜파게티는 사각 형태가 아닌 원형으로 되어있다는 점! 오뚜기 짜장면과 같은 내용물에 그 외엔 육안으로 봐선 큰 차이는 못 느꼈다죠.\\n짜파게티는 600ml 끓는 물에서 5분, 8스푼의 물을 남기고 섞어주시면 좋아요. 어떤 라면이든 가장 맛있게 끓이는 방법은 조리법을 그대로 따르는 거라고도 하잖아요. 평소 같았으면 눈대중으로 대충 넣었을 테지만 번엔 생수병과 타이머까지 동원해 나름 정확하게 끓여봤어요:)', '', '액상 스프를 부어보니 제법 짜장면 느낌이 나죠? 구불구불한 라면 면만 빼면 가장 자장에 가까웠던 제품이에요. 안에 보면 큼지막한 건더기들도 보이고요. 이때 면과는 별도로 액상스프 역시 뜨거운 물에 1분 정도 데워 먹으면 훨씬 더 맛있게 즐길 수 있다고 해요.', '', '첫인상은 만족스러웠던 유어스 공화춘 자장면! 먹어보니 짜장의 짠맛과 감칠맛은 있더라고요. 건더기 씹히는 식감도 좋았고요. 고기 하나 먹어보니 오뚜기 3분 짜장맛도 살짝 났답니다.\\n액상스프가 타 라면들과는 달리 프리미엄급이었다는 건 인정! 공화춘 짜장으로 첫 스타트를 끊었는데 나쁘지 않은 시작이었어요~ 적당히 달고 맛났던 제품이에요.', '', '', '다음은 면을 삶고 다시 한 번 볶아줘야 했던 삼양의 신제품 라면, 국민짜장입니다. 이 역시 액상스프 짜장라면으로 공화춘과 비슷하지만 안에 건더기는 따로 들어있지 않았어요.\\n색으로만 봤을 때 4종 중 가장 진했으나 색에 비해 짠맛은 강하지 않았던 라면. 이건 맛이 굉장히 신기했어요. 분명 춘장맛은 나는데 짜장면 맛은 안 나는 놀라움? 리얼 춘장을 강조하더니 정말 춘장 맛 밖에 안 났더랬죠.. ㅋㅋ', '', '세 번째는 건더기가 꽤 많이 보였던 오뚜기 짜장면! 분말 스프에서도 직화 맛이 느껴질까 냄새도 맡아 봤는데 오히려 달달한 짜장향이 퍼지더라고요.', '', '촉촉하게 비벼 먹어봤는데 아니나 다를까 가장 달았던 짜장라면이었어요. 농심 짜파게티에 단맛이 추가된 느낌이라고나 할까요? 대체로 오뚜기 라면이 단맛이 강한 편인지 진짜장에 이어 이 라면도 달달합니다.\\n특히 아이들이 잘 먹지 않을까 싶었어요. 건더기 스프의 고기는 짜파게티에 비해 아쉬웠지만 아삭아삭 양배추는 식감 참 좋았어요:)', '', '괜히 원조라면이 아니었던 걸까요? 일부러 맨 마지막에 먹었음에도 역시 짜장라면은 농심 짜파게티구나! 재확인하는 시간이었어요.', '', '짠맛도 적당하고 단맛도 없이 깔끔한 게 감칠맛이 훌륭합니다. 개인적으로 굵은 면발을 좋아해 짜왕도 먹어봤지만 그래도! 역시나! 저는 짜파게티에 한 표를 던지겠어요. 흔들림 없는 짜장라면계의 절대강자인 이유가 다 있겠죠?', '라면이 4종류나 되다 보니 양이 많아 언니와 같이 시식해봤는데요. 역시나 사람마다 입맛이 다 다른지라 짜장라면 순위도 다르더라고요. 그럼에도 농심 짜파게티가 1등이라는 점에서는 의견이 일치했어요. 푸드탐구 리뷰를 하면서 항상 1등 제품만 언급했었는데 오늘은 개인적인 순위를 쭉 나열해볼까 해요.\\n단맛을 크게 좋아하지 않는 저는 오뚜기 짜장면이 4등이었고 공화춘 짜장면과 국민짜장이 각각 2, 3등을 차지했어요. 반면 단맛을 좋아하는 언니는 오뚜기 짜장면을 2등으로 꼽았답니다. 3등은 공화춘 짜장, 4등 국민짜장은 도통 무슨 맛인지 모르겠다며 오묘한 맛이라는 평을 내렸어요. 기대했던 것보다는 아쉬웠던 국민짜장!\\n이외에도 짜파게티를 능가하는 여러분의 인생 짜장라면이 있다면 추천해주세요. 저는 아직 트러플 짜파게티를 못 먹어봐서 조만간 도전해보려고요. 그럼 이만, 주말 간편하게 먹기 좋은 짜장라면 리뷰는 여기서 마칠게요.\\n액상스프 VS 분말스프 / 단맛 & 짠맛 등 입맛에 맞게 골라드시면 좋을 것 같아요. 지금까지 네이버 푸드탐구생활 3기 연구원 페페토였습니다. 다음 주에는 달달한 초코우유 비교 리뷰로 돌아올게요!\\n▼ 기분 좋아지는 달달함! 편의점 초코우유 끝판왕은?', '#네이버푸드 #푸드탐구생활 #네이버푸드탐구 #짜장라면 #맛있는짜장라면 #짜장라면순위 #짜장라면추천 #농심짜파게티 #유어스공화춘 #오뚜기짜장면 #삼양국민짜장 #삼양라면신제품 #짜장라면신제품 #짜장라면레시피 #짜장라면맛있게끓이는법 #액상스프짜장라면 #짜장라면분말스프 #짜파게티끓이는법 #맛있는짜장라면추천 #페페토 #식품리뷰 #짜장라면리뷰 #자장라면 #자장라면순위']\n",
      "[\"반갑습니다\\n후니강입니다\\n짜파게티 + 너구리의 환상 조합\\n짜파구리\\n맛있는건 진작부터 알고 있었지만\\n기생충 이후 인기 폭발\\n채끝살 짜파구리 한번 먹어보고 싶긴 함\\n트러플 오일 넣은 것도 궁금\\n사실 라면을 요즘 잘 안먹는 것 같은데\\n생각해보니 밖에선 잘 먹고\\n집에선 먹어본지 오래 된 것 같음\\n먹어도 가끔 컵라면 정도?\\n라면 끓이는 것도 넘나 귀찮,,\\n나같이 귀차니즘으로 가득한\\n사람에게 안성맞춤인 오늘의 컵라면\\n' 농심 앵그리 짜파구리 '\", '', '너구리 귀여운 거 보소\\n화나있는 너구리인데\\n졸귀탱ㄷㄷ\\n생긴건 귀여운데 맛은 상당히 매움ㅠㅠ\\n맵찔이들은 도전 비추\\n사실 불닭만큼 맵진 않음\\n근데 불닭보다 쪼-금 덜 매운 정도?\\n개인적으로 여기서 짜파게티랑 섞는다면\\n괜찮을 것 같음\\n지금은 너무 매움\\n미트 스파게티 불닭볶음면도 샀는데\\n그것도 기대됨', '농심 앵그리 짜파구리\\n영양정보\\n예전엔 지방이랑 나트륨 체크\\n좀 했었던 것 같은데\\n부질없는 일이란 것을 깨닫고 진작 접음', '전자레인지 조리법\\n그냥 먹어도 될 것 같은데\\n전자레인지 조리를 추천하는 농심\\n요즘 계속 전자레인지에 돌려 먹는 듯\\n그냥 물만 넣어 먹어본지 꽤 오래된 것 같음\\n컵라면은 신라면 블랙이 진리\\n2+1이라 사려고 했는데\\n많이 먹어봐서 구매는 안했음\\nCU에서 2+1 행사 중인\\n농심 앵그리 짜파구리\\nCU는 행사를 많이 해서 좋음\\n이번에 1층 상가에 편의점 들어왔다 해서\\nCU이길 내심 바랬건만\\n이마트24라 아쉽ㅠㅠ', '농심 앵그리 짜파구리\\n너구리 하윙\\n인기 많아지면 작은컵도 나오려나\\n큰컵인데 양은 별로 많지 않았음\\n근데 매워서 많게 느껴짐\\n조금만 덜 매웠으면 순삭했을 듯', '뚜껑 제거 후, 끓는 물 3분\\n전자레인지 전용 조리\\n말 잘 듣기 때문에 시키는대로 함', '스프 넣어버릴뻔\\n다행히도 안넣음\\n분말스프, 조미유\\n농심 앵그리 짜파구리', '안에 꽤 큰 고기가 들어있어서 놀람\\n짜파게티 고기분말보다 훨씬 큼\\n예상대로 맛은 느껴지지 않음\\n매운맛이 너무 강할 뿐\\n귀여운 너구리 얼굴의\\n그것(명칭 모름)도 들어있음', '면발 굵기는 그냥 그런 것 같음\\n짜파게티 면이 원래 좀 굵은 편일텐데\\n딱 그 느낌\\n양은 많지 않아 보임\\n근데 컵라면이 다 그렇지 뭐\\n보통의 양인 것 같음', '물을 따라 버리면 안되는데\\n습관대로 따라버림\\n하지만 뜨거운 물이 남아있어서\\n다시 넣고 먹음\\n별 차이 없었던 것 같음\\n오히려 몸엔 더 좋았을지도?\\n(합리화)', '농심 앵그리 짜파구리\\n다시 채워넣은 물에 분말스프 투척\\n면발이 굵어서 그런지\\n물이 거의 다 쫄았었음\\n너무 매운 분들은\\n물을 조금 더 넣어도 될 듯\\n2개 남았는데\\n다음에는 물을 좀 더 넣어봐야겠다', '농심 앵그리 짜파구리\\n비쥬얼은 좋았는데\\n너무 매웠음ㅠㅠ\\n매운걸 잘 못먹어서 유감\\n매운거 좋아하는 분들은 좋아할 듯!\\n기존의 라면으로 끓인 짜파구리보단\\n확실히 매운 맛!\\n맛은 있는 편인 것 같다\\n기회가 된다면 드셔보시길!\\n그럼 20,000 !', '']\n",
      "[\"저희의 마지막 숙소는 바로 '아르츠 스파앤 풀빌라 리조트'였어요\\n성산 일출봉쪽 숙소여서\\n저희는 결과적으로 제주공항을 기준으로\\n왼쪽에서 오른쪽으로 한바퀴 돌며 숙소를 잡은 셈이였어요 제주도를 여행할 때는 이렇게 한바퀴 돌면서 잡게 되는 것 같아요\\n괜히 한바퀴 안 돌면 아쉽다고 할까요 ㅋㅋ\\n저희만 그래요 ㅋㅋㅋㅋㅋㅋㅋㅋ\", '마지막 숙소였고\\n1박 숙소 비용으로 평일 139000원 지불했어요\\n아 그리고 여기 야외 욕조가 있는 숙소였는데\\n입욕제 쓰실 분은 프론트에서 판매중인 입욕제만\\n사용가능하대요 참고하세요', '체크인 할때 안내사항을 주시고\\n확인하고 서명하면 룸을 안내해 주세요', '리조트 내 도면입니다\\n저희는 10동을 사용했어요\\n그리고 도면에서 볼 수 있듯\\n들어오는 길이 좁은 편이예요 안전 운전 하세요', '설레는 맘으로 10동을 향해 전진', '여기는 풀장 전경이 예뻐서\\n사진을 찍으로 많이 오시기로 유명한 곳이였는데\\n입실하느라 바빠서 제대로 찍지도 못했네요\\n이게 다예요..............\\n이따 다시 나와서 찍어야지~\\n하고서는 구찮아서 그만...\\n여기 이쁜덴데 ㅜㅜ 알려주고 싶은데ㅜㅜ', '아쉬운대로 아르츠 홈페이지 사진이라도 첨부해봐요\\n실제로도 사진처럼 예뻣어요 \\n이날 6월 초였어서 많이 이용안하겠거니 했는데\\n꽤 이용하시는 분 있으셨어요', '드디어 10동 도착\\n주차장이랑은 거리가 조금 있어서\\n짐 나른다고 짝꿍이 한번 더 갔어요 ㅎㅎ\\n길도 참 예쁘더라구요?', '드디어 입성', '갤럭시S10+에 빛번짐이 조금 있어서 \\n양해바랍니다 ㅎㅎ\\n넓찍하죠 ㅎㅎ\\n숙소가 엄청 깔끔하고 마음에 들었어요\\n전날 숙소도 완전 가성비로 괜찮다~~하고 있었는데\\n확실히 더 비싼곳이 더 좋더라구요 허허^^;; ㅋㅋㅋㅋ', '침실은 슬라이드형 도어 건너에 있어서\\n공간이 더 넓게 느껴졌어요\\n원룸 같으면서도 분리된 느낌 \\n신기하고 좋았어요', '욕실도 큼직하고 깔끔했어요\\n어메니티는 저희가 잘 안 쓰다보니 기억이 안나요 ㅜ\\n샴푸 바디워시 같은 기본적인건 있었어요 \\n그건 저희도 사용 하거든요 ㅎㅎ\\n드라이기도 당연하게도 있었구요 \\n그리고 화장실 뒷문과 노천욕조와 연결되어 있어요', '짜잔~\\n여긴 가을 겨울 오면 더 좋을 것 같아요\\n노천느낌~\\n노천 온천이 왜 좋은지 아시죠?\\n공기는 찬데 물은 따듯한 느낌이 시원하잖아요\\n실내 온천은 공기가 습한데\\n노천 온천은 공기가 상쾌한 느낌>.<\\n주책은 뒤로하고 ^^\\n여기 벽이 높아서 프라이빗한 느낌이 들어요\\n그래도 아예 가려지는 정도는 아니구요', '테이블도 있어서 사용할 수 있는데\\n대신 욕조와 테이블 모두 야외에 있는 기물이다보니\\n사용하실거면 한번 청소해야 하는 게 번거로워요 ㅎㅎ\\n관리하시는 분들도 하시겠지만 야외에 있다보니 먼지가 있어요', '실내 분위기 너무 아늑하고 좋아요\\n바닥도 대리석이라 깔끔하고\\n모던 심플 편안 청결 느낌 ㅎㅎ\\n숙소 3곳 중에 제일 만족했어요\\n첫번째 숙소는 아기자기 했고 귀여웠지만\\n복층이 생각보다 다니기 힘들었고\\n두번째 숙소는 가성비 뛰어났지만\\n막~ 공간이 예쁘거나 하진 않았거든요\\n세번째 숙소인 아르츠는 공간이 연결되어 있어\\n사용하기에도 편안했고 공간도 넓고\\n예쁘기도 한데 식기들도 완벽하게 있으니\\n너무 실용적이기도 했어요 집같은 느낌 ', '그 전 숙소중엔 아무데도 와인잔은 없었는데\\n여긴 와인잔까지 완벽 구비\\n식기류도 완벽했어요\\n덕분에 와인 작은거 가져갔는데 잘 먹고 왔어요', '전자렌지 식기류 완벽\\n와인오프너까지 있어요', '도구 완벽\\n너무 깨끗하고 완벽하게 구비되어 있어서\\n음식을 안 해먹으면 아쉬울 지경이라\\n마트에 가서 장을 봐오기로 했어요 ㅋㅋ', '청소도구와 건조대까지\\n사진으로는 못 담았는데 침실 옆으로 건조대 놓을만한 야외 공간이 또 있어요\\n건조대에 빨래 널면 딱인 사이즈!!', '수세미까지 있고 조명도 들어옵니다 ㅜㅜ', '이건 참고해 보세요', '마트가는길에 성산일출봉~', '검색해보니 차로 그리 멀지 않은 곳에 큰 하나로 마트가 있길래 여기로 왔어요', '규모가 엄청 커서 회도 팔더라구요\\n급 연어 먹고 싶어서 하나 샀습니다\\n의식의 흐름대로ㅎㅎ\\n회 드실 줄 아시는 분은 연어 안 드신다면서요?\\n연어는 회로 안 쳐준대요 ㅎㅎ\\n그치만 저는 연어가 젤 먹음직 스러워서 겟 ㅎㅎ\\n기본 양념이 없으니 여행지에서 음식을 해먹을 수 있는건 한정되어 있어서\\n부대찌개랑 볶음곱창 치즈 햇반 치킨 맥주 정도만 사서\\n다시 돌아갔어요', '가는 길이였나 오는길이였나\\n사람들이 성산일출봉이 잘 보이는 갯벌에서\\n조개잡이를 하고 있길래\\n끝물에 살짝 들어가서 놀다 왔어요\\n제주도 오기 전에 국내 갯벌에서 조개잡이를 할까 하다가\\n제주도로 여행지를 틀었었거든요\\n그래서 재밌겠다~하고 멍때리고 구경하는데\\n짝꿍이 우리도 하자고 잠깐이지만 들어가보자고\\n적극 권유해서 들어갔는데 재밌었어요', '음료 컵을 통 삼아서\\n소소한 조개나 생물들을 잡으면서 놀았어요\\n사람들 안보이죠?\\n물 들어와서 많았던 사람들이 순식간에 사라지시더라구요 ㅋㅋ\\n저희는 그제야 들어가서 텀벙텀벙 ㅋㅋ', '꽤나 많이 잡았어요 ㅋㅋ', '살아 움직이는게 있나~\\n한참 쫒으면서 잡다보니 시간 가는 줄 모르겠더라구요\\n아무 생각없이 뭘 한다는게\\n참 힐링이 되는 것 같아요', '잡아보겠어~', '그렇게 한참 잡다가 집에 갈쯤에는 다 풀어주고\\n왕뿌듯 ~ 한 얼굴로 숙소로 돌아갔어요\\n다음에는 진짜 본격적으로 조개잡이 해보고 싶어요 ㅎㅎ', 'ㅋㅋ 소소한 저녁상 \\n치즈부대찌개\\n곱창볶음\\n연어회\\n편의점 치킨 넙적다리ㅋㅋㅋㅋ\\n조합 안 어울리죠 ㅋㅋ 저희도 그렇게 생각했어요 ㅋㅋ', '맥주 공장 안주 따라하기 ㅋㅋㅋ', '그리고 저녁에는 8주년 이벤트 했던 풍선으로 재탕하여\\n욕조도 꾸며봤어요 괜히 뿌듯뿌듯\\n있는데 써먹어야죠 ㅎㅎ\\n굉장히 분위기 있지만 현실은 조오타~입욕하고\\n실내에서 양반다리 하고 와인 흡입 ㅋㅋ\\n사진 한방 남기려고 저 셋팅 다 하고 \\n바로 초 불어서 껏습니다요 ^^ㅋㅋ', '담날 아침상\\n짜파게티만한게 없어요 ㅋㅋㅋㅋㅋㅋ\\n이탈리아 여행 때 사왔던 트러플 오일을 살짝 넣어서\\n트러플 짜파게티를 만들어 먹었습니다 ㅎㅎ\\n전날 못 먹은 넙적다리도 함께 ㅎ\\n뭔가 이날은 특별한건 안 먹었는데\\n집에서 소꿉장난하듯 뭘 해먹고 하는게 참 재밌었어요\\n내 집처럼 편안하고 깨끗했던 숙소였습니다~\\n종류별로 사용하기 편하게 두셨던 도구, 식기들 너무 감사히 잘 사용했어요\\n사용한 식기들도 깨끗하게 설겆이 해서 정리해두고\\n분리수거도 완벽하게 하고 나왔어요~\\n분리수거하는 쓰레기장이 프론트 옆쪽에 있어서 조금 머니까 체크아웃 시간 감안해서 준비하세요!', '제주도 여행 마무리 하고 아쉬운 맘을 뒤로하고 \\n공항으로 출발했습니당!\\n코로나라서 숙소마다 소독도 하고 \\n마스크쓰고 다니면서 조심도하고 참 요즘 시국에는\\n여행도 힘든데 다들 각자의 방법으로 힐링 하셨으면 좋겠어요', '']\n",
      "['람쥐 가보자 가보자 했던 애슐리 서울대입구역점에 드디어 다녀왔습니다~\\n이날 특별히 도리와 오랜만에 만나 맛있는 저녁 먹기로 했어요~\\n늘 가보자고 했던 애슐리 서울대입구역점!!\\n지금부터 솔직한 후기 남겨볼게요~~\\n애슐리 서울대입구역점은 서울대입구역 4번출구 또는 3번출구에 연결되어있는\\n라붐아울렛 9층에 있어요~\\n근데 여기 건물 이름이 카카오맵에는 라붐인데 네이버맵에는 에그옐로우로 나오네요~\\n여튼 지하철에 연결되어 있는 쇼핑몰이예요~\\n람쥐는 에스컬레이트를 타고 9층으로 왔어요\\n엘리베이터도 있지만 사람이 많아서 에스컬레이트 이용!!\\n에스컬레이트 타고 9층 도착하면 이런문을 마주하게 될거예요~~', '이쪽은 매장 가운데 있는 문이예요 ㅋㅋㅋ\\n입구라고 하기엔....ㅋㅋㅋㅋ\\n당황하지 마시고 들어가셔서 오른쪽으로 쭉 걸어가시면 캐셔 및 웨이팅공간이 있어요~\\n저희는 웨이팅 하지 않고 바로 들어갈 수 있었어요~', '엄청 신기한게 있어서 찍어봤어요~\\n키즈패밀리클럽이라고 새로 생겼나봐요~\\n36개월부터 초등학생 자녀가 있는 부모님이 가입하시는건데\\n가입하시면 어린이 할인혜택에 방문할 때마다 혜택이 있나봐요~~\\n어린이 기본 할인 혜택은 평일저녁와 주말에 방문시, \\n초등학생은 9,900원에서 할인받아 5,900원 미취학아동은 6,500원에서 3,900원으로 이용가능한가봐요~~\\n특히 2번째 방문하실때 테이크 또는 치즈케이크를 받을 수 있나봐요~\\n그리구 4번째 방문할땐 어린이 샐러드바 1인 무료 이용\\n이후 VIP 승급시 추가혜택 적용이 되나봐요~~\\n자세한 내용은 방문하셨을때 매장에서 문의하시면 될것같아요~~\\n초등학생이나 36개월 이상되는 아동이 있는 집에서는 좋은 혜택인것 같아요~~', '늘 헷갈리는 매장 이용 시간 및 가격\\n평일런치는 평일 오전11시부터 오후 5시까지 이용가능하시고 가격은 13,900원\\n평일 디너틑 평일 저녁5시부터 10시까지 19,900원\\n주말 및 공휴일은 오전11시부터 오후 10시까지 19,900원에 이용가능세요~\\n초등학생은 9,900원!\\n36개월 미만은 무료! 단 36개월 이상되는 미취학아동은 6,500원이예요~\\n근데 애슐리 서울대입구역점은 애슐리W이니 클래식이나 등등 매장마다 가격이 다를거예요~\\n본인이 방문하실 매장이 어딘지 확인하시고 가격확인 해주셔야 할것같아요~~', '애슐리 올때마다 저 치즈케이크....\\n사고싶은 유혹이 ㅎㅎㅎㅎ\\n저 치즈케이크 엄청 맛있거든요~ 람쥐가 좋아하는 진한 치즈케이크맛인데\\n혼자 다 먹긴 양도 많으니 늘 고민하다가 안사게 되는거같아요~\\n5천원이면 사실 고민도 안하고 사갈거같은데 ㅋㅋㅋㅋ\\n그랬다간 람쥐 살이 엄청 쪘을거같아요 ㅎㅎㅎㅎ\\n여튼 잘 참고 치즈케이크는 다음기회에 사는걸로~~', '와~~~ 애슐리 서울대입구역점 뷰예요~~\\n아직 밤이 어두워지지 않았는데\\n어라? 이날 해가 엄청 늦게졌네요 생각해보니까 ㅎㅎㅎ\\n나올땐 어두워져있었는데 ㅋㅋㅋㅋ\\n나올때 사진을 찍을껄 그랬어요\\n여기 뷰가 정말 이쁘더라구요~~~\\n근데 낮에도 저렇게 확 트인 공간에서 먹으면 기분이 좋지요~~\\n저긴 예약도 가능한거 같으니 혹시라도 중요한날?! ㅋㅋㅋㅋ 있으시면\\n저쪽자리로 예약하시면 칭찬받을것같아요~~', '와인도 쫘악~~~ 있어서 멋있어보이네요~\\n근데 여긴 와인은 바틀로 판매하진 않았던것 같아요~~\\n나중에 보시면 아시겠지만 디너에는 3천원만 더 추가하시면 와인을 무제한으로 즐기실 수 있으시거든요~~', '뷔페마다 있는 환경부담 기부금 제도\\n음식은 정말로 적당히 먹을만큼만 들고오셔야해요~\\n지구상엔 못먹는 사람들도 많은데 저희는 이렇게 풍족하게 먹으면서 음식을 버리는건\\n그 분들에게 너무 못된짓인것 같은....뭔가 죄책감이 들더라구요\\n그래서 람쥐는 사실 음식을 많이 시켜서 먹는거보단\\n먹을만큼 시켜서 먹고 부족하면 더 먹는 그런 스타일이예요\\n뷔페서도 그래요\\n첨 시작할때 한번에 여러종류를 들고 오지만 딱 맛볼만큼만 종류별로 조금씩 떠와요~\\n그러고 맛있는거면 두번째 한번 더 떠오고 이런식으로 먹어서 그런지 늘 제가 떠온 음식은 다 먹는답니다~~\\n환경부담금이 문제가 아니라 음식물 쓰레기 줄이는 차원에서 먹을만큼만 떠오는게 좋을것같아요~~^^', '이번 시즌 메뉴예요~\\n그릴파크!!!!\\n디너에 이렇게 맛있는 음식들이 넘쳐나다니!! 놀라시게 되실거예요~~', '제일 처음 맞이하는 요거트 ㅋㅋㅋㅋ\\n요거트는 디저트라 마지막에 먹어야지 하면서 늘 안먹게된다능....\\n이번에도 첨에 딱 보고 이건 마지막에 먹어야지 이랬는데 못먹었어요 ㅋㅋ\\n람쥐 요거트 좋아하는데 마지막엔 먹을배가 없다능....\\n그릴요리쪽으로 가볼게요~~~\\n어메이징 그릴 파크!!!\\n어메이징합니다~ 종류도 맛도! 고기 좋아하시면 추천!!!', '고기가 종류별로 다 있어요~\\n돼지고기, 소고기, 닭고기, 바베큐폭립, 거기다 크랩바스켓까지!!!\\n람쥐는 고기를 못먹어서 맛을 못봤지만\\n고기 하나하나 다 맛있다고 해요~~\\n아 그리구 저 필리치즈스테이크 첨에 갔을땐 치즈가 어딨지? 이랬는데\\n두번째 갔을때 사진 보여드릴게요~\\n잠시만요~~\\n사진 찾아봤습니당~~', '요로케 위에 흰색 치즈가 쫘아가 올려져있어요~\\n도리한테 무슨 치즈인가 물어봤는데 ㅋㅋㅋㅋㅋ\\n도리는 알수가 없다고 ㅋㅋㅋㅋ\\n도리 치즈종류 이런거 몰라서 ㅋㅋㅋㅋ\\n근데 치즈 올려져있는 부분이 맛있대요 ㅋㅋㅋㅋ', '그리구 필리치즈스테이크는 옆에 빵이랑 각종 소스, 양배추샐러드 이렇게 같이 챙겨오시면\\n맛있는 핫도그를 만들어드릴 수 있어요\\n도리말로는 그냥 고기도 맛있는데\\n빵에 넣어 먹어도 엄청 맛있대요~ 소스는 양배추샐러드위에 케챱을 올려먹었어요~', '음식 종류가 엄청납니당~~~\\n파스타종류는 인기가 많은지 갈때마다 없더라구요~\\n그래도 결국은 먹었다능~\\n트러플은 요즘 유행이자나요~ 트러플짜파게티도 있고 등등\\n그래서 람쥐는 한번 먹어보았습니다 \\n트러플은 호불호가 갈릴맛이었어요~\\n그래도 뷔페왔으니 한번 맛은 보시는것도 좋을것같아요~~', '칠리소떡소떡, 미니돈까스, 피쉬앤칩스, 맥앤치즈, 콘치즈, 버터옥수수구이\\n와 메뉴가 엄청나죠!!!!\\n소떡소떡메뉴는 요즘 정말 어딜가나 있는것같아요~\\n살짝 느끼할 수 있는데 칠리를 넣어서 살짝 매콤하게 먹을 수 있는 맛이라고 했어요~\\n맥앤치즈와 콘치즈는 느끼할 수 있지만 그래도 한입 먹으니 맛있더라구요~\\n피쉬앤칩스는 ㅋㅋㅋ 람쥐사랑케찹에 찍어먹으니 맛있었어요~~', '세가지 종류의 피자!!!\\n다 맛보았는데 람쥐 취향헤는 치즈케이크피자가 맛있었어요~~\\n달달한거 좋아하는 람쥐 취향저격!!\\n피자도 인기메뉴인것 같아요~\\n갈때마다 없어져있다능\\n근데 피자 구우시는분들이 정말 빨리 하시는거 같은데도\\n워낙 사람이 많으니까 빨리 없어지는것 같았어요!!!\\n그래도 람쥐와 도리는 먹었다죠!!!! ㅋㅋㅋㅋㅋ', '이건 길가다 중간에 마주친 스테이크\\n불판에서 아주 맛있는 냄새와 소리를 뿜뿜하고 있길래 한번 찍어봤어요 ㅋㅋㅋ\\n스테이크도 많이들 시켜드시더라구요~\\n도리말로는 여기 스테이크도 맛있다고 하더라구요~\\n추가 금액이 있긴 하지만 이거 시키면 아마 샐러드바 1인은 무료이용이 가능할거예요~\\n그러면 스테이크도 먹고 샐러드바도 먹고 개이득~~\\n고기 좋아하시는분들은 이렇게 드셔도 좋을것같았어요~', '여긴 애슐리타운이라고\\n애슐리의 시그니쳐메뉴들이 줄지어있어요~\\n꾸준히 사랑받는 메뉴들이래요~\\n까르보나라 떡볶이 람쥐도 좋아하는 메뉴~~\\n피쉬라따뚜이도 람쥐가 좋아하는 메뉴\\n저기 갈릭포테이토도 맛있었어요\\n위에 갈릭무스같은 느낌인데 감자무스랑 같이 먹으니까 맛있었어요~', '지나가다 우연히 마주친 ㅋㅋㅋ스테이크 ㅋㅋㅋㅋ\\n남의집 스테이크지만 참 맛있게 보여서 찍어봤어요 ㅋㅋㅋㅋㅋ\\n요렇게 스테이크도 많이 주문하시는듯~~', '여긴 그린샐러드 등등 각종 샐러드예요~\\n람쥐는보통 그린샐러드 좋아하는데 이날은 뭔가 맛이 더 가미된게 먹고싶어서\\n안먹어봤네요~~\\n그리구 도리가 좋아하는 쫄면\\n매운거 못먹는 람쥐도 좋아하는 맛이었어요\\n너무 맵지도 않고!!! 맛있었어요~', '여긴 월드메뉴? 라는 코너인데\\n중화풍배추침도 있고 마파두부도 있고 한국식 떡볶이도 있고 탕수육도 있고 가리비찜? 같은것도 있었는데\\n람쥐는 중화풍배추찜 좋았어요~~\\n다른건 람쥐가 못먹는거라 맛보진 못했지만\\n중화풍 배추찜 원래 좋아하는 람쥐는 저것도 많이 가지고와서 먹었네요~\\n가리비찜?은 매워서...못먹었는뎅 람쥐는 워낙에 매운거 못먹는...김치도 씻어먹는 사람이라...\\n그랬을수도 있어요~', '각종스프~~\\n도리와 람쥐는 머쉬룸스프와 클램차우더 먹었어요\\n느끼느끼한거 좋아하는 우리 둘 ㅋㅋㅋ\\n맛있게 잘 먹었답니당~~\\n근데 옆에 오른쪼겡 크루통도 있었는데\\n후추도 있었는데 몰랐어요 ㅠ ㅠ \\n저희 후추도 엄청 좋아하는게 좀 쳐서 먹을껄 그랬다는 생각이\\n다 먹고 또 돌다가 발견하고 했어요.....ㅋㅋㅋㅋ\\n배가 불러서 더이상 안들어가서 또 먹기 못해서 아쉽 ㅠ ㅠ ', '여긴 디저트코너\\n비주얼이 좀...그렇네요 ㅎㅎㅎㅎ\\n망고 요거트케이크는 맛있게 잘 나왔어요~~\\n람쥐는 과일좋아해서 과일이랑 젤리 들고와서 먹었어요~\\n근데 디저트코너에두 사람이 늘 붐볐다능\\n그래서 케이크가 저런모양이 됐나봐요 ㅠ ㅠ \\n그래도 맛있으면 됐죠 뭐 ㅋㅋㅋㅋㅋ', '여기는 키즈페이보릿인데\\n치즈들이 좋아하는 메뉴들인가봐요 ㅋㅋㅋ\\n근데 그런거 치곤....람쥐는 저런 계란찜도 좋아하고 궁중떡볶이도 좋아해서 ㅋㅋㅋ\\n역시 람쥐는 어린이입맛이 맛나보다 싶었던 ㅋㅋㅋ\\n근데 저 짜장 진짜로 맛있대요~~\\n도리가 두번먹었어요 ㅋㅋㅋㅋ\\n먹고 또 먹고  와~~ 맛있다 그럼서 ㅋㅋㅋ\\n참고로 저희 둘다 어린이 입맛이예요 ㅋㅋㅋㅋ\\n약간 엠에스쥐 좋아하는 그런 사람 둘 ㅋㅋㅋㅋ', '저희 둘이 가져온 첫상 ㅋㅋㅋㅋ\\n저희는 가고 또 가고 이런거 안좋아해서 ㅋㅋㅋ\\n엉덩이가 무겁다고들 하죠 ㅎㅎㅎㅎㅎ\\n한번에 갔을때 다 떠와서 저렇게 앉아서 먹어요\\n저렇게 먹으면 대화도 많이 하고 먹는속도도 맞출 수 있고 좋은것같아요 ㅋㅋ\\n하나씩 가져와서 먹으면 내 접시에 있는 음식 다 먹고나면\\n다시 가져와야하는데 한명이 안먹고있음 기다리고 이래야하자나요 ㅋㅋ\\n그런거 없이 이렇게 한번에 왕창 가져와서 먹기!!!!', '캬아~~~ 돼지고기와 쫄면의 조화 ㅋㅋㅋㅋㅋ\\n도리가 제일 좋아하는 조화예요\\n도리는 고기랑 쫄면 먹는걸 엄청 좋아해요 ㅋㅋ\\n특히 차돌박이에 쫄면이면 그냥 먹으면서 연신 웃으며 먹어요 ㅋㅋㅋ', '저 볶음우동 맛있다고 또 가지고 간 도리 ㅋㅋ\\n전 따라가서 사진 찍었어요\\n가만히 보니 도리도 면을 참 좋아하는것 같아요~\\n짜장면, 볶음우동, 쫄면 전부 다 맛있다고 2번씩 먹었거든요~~', '음료코너~~~\\n여긴 와인무제한이 있어서 3,000원 추가하면 와인잔을 주시는데\\n그럼 무제한으로 드실 수 있어요~\\n와인잔없이 이용하시면 안돼요 ㅋㅋㅋㅋㅋ\\n근데 람쥐랑 도리는 저녁에도 할일이 쌓여있었기 때문에 먹지 못했어요 ㅠ\\n먹고싶었지만 우린 일을 마무리해야한다며....\\n혼자 생각했다지요 ㅋㅋㅋ\\n나중에 이 얘기하니 도리가 그래도 얘기하지 그랬냐며...\\n아쉽지만 다음기회에~~~\\n와인 좋아하시면 무제한 꼭 드세요~~~\\n그리고 신기한 아이템!!!!\\n체리콕시럽!!!\\n이용방법은\\n컵에 얼음을 먼저 담고 콜라를 먹고싶으만큼 넣은다면 체리콕시럽도 먹고싶은만큼 넣으시면 돼요~\\n그리구 잘 저어서 드세요~~ 아님 안섞여서 따로따로의 맛을 느끼실 수 있어요 ㅋㅋㅋㅋ\\n꼭 젓가락으로 잘 섞어서 드셔보세요~~ \\n콜라쟁이 도리는 저건만 먹었어요 ㅋㅋㅋㅋ\\n람쥐는 깔라만시에이드!!!\\n상큼하니 맛있었어요!!! 람쥐가 딱 좋아하느맛~~~\\n당연히 커피는 필수로 있었고~~\\n디저트로 아이스크림도 있고~~\\n역시 없는게 없는 애슐리~~~', '저희의 두번째 다녀옴이예요 ㅋㅋㅋㅋ\\n처음에 왕창 가지고 와서 열심히 먹어서 두번째 갔을땐 얼마 못떠왔네요 ㅋㅋ\\n그래도 두번째 접시도 다 맛있었어요~~', '요렇게 꼭 드셔보세요~~\\n람쥐가 딱 좋아하는 맛이었어요\\n평소에도 코울슬로 같은 양배추 샐러드 이런거 좋아하는데\\n빵에다가 양배추샐러드 넣고 케찹넣어먹기!!\\n이거 진짜 맛있었어요~\\n또 먹고 싶으맛!!\\n도리는 여기에 고기까지 넣어 먹었어요 ㅋㅋㅋ\\n둘다 맛있대요 고기 없이도 맛있고 고기 넣어도 맛있고\\n둘다 만들어서 먹어보세요~~~\\n엄청난 저녁을 먹고왔어요!!!\\n애슐리 서울대입구역점!!!\\n뷰도 이쁘고\\n맛도 맛있고\\n특히 이번에 시즌메뉴가 특히 맛있었네요!!!\\n다양한 그릴요리!!!\\n고기 좋아하시는분들 꼭 한번 드셔보셔야 할것같아요~~\\n ']\n",
      "['친구의 퇴근 시간 때문에\\n부산에 새벽까지 영업하는 곳을 찾다가\\n스케줄 해운대 발견\\n카페 겸&프렌치 레스토랑\\n(Coffee ,brunch, dining, dessert, wine)\\nOpen 아침 9시 반\\nClose 새벽 5시\\n☎️051-741-1228\\n여기 조명 맛집이라 하더라고요', '[구성] 와규 스테이크, 고르곤졸라 치즈, 크림소스, 브로콜리\\n유일하게 접시 클리어 한 와규 스테이크\\n사전에 맵게 해달라고 부탁했는데\\n매콤한 맛은 하나도 안 나고\\n짠맛이 더 났어요\\n실수로 짠맛을 첨가한 건 아닌지 ..', '[구성] 후레쉬 블랙 트러플,계란\\n3대 진미 중 의 하나인 트러플\\n테이블에 세팅되자마자\\n친구가 밤꽃 향이 난다 했다\\n트러플을 먹지 않아서\\n비싸게 느껴졌던 짜파게티\\n트러플 오일 맛이 강하게 느껴졌는데\\n‘느끼함 그 자체’\\n친구랑 호불호 갈렸다\\n나 -불호\\n친구-호', '깔조네란?\\n밀가루 반죽 사이에 고기*치즈*야채 등을 넣고 만두처럼 만들어 오븐에 구운 이탈리아 요리\\n[구성 ] :닭다리살 ,양송이,피망,모짜렐라치즈,토마토 소스\\n닭 다리 살이 들어있는 깔조네\\n양념된 치킨 맛이 강하게 느껴진다\\n빵과 치킨의 만남\\n\"두툼, 무거운 느낌 그 자체\"', '총평:음식 선정을 잘못해서\\n매콤한 걸 좋아하는 저에겐\\n음식들이 다소 느끼하고 짜웠다\\n젤 무난한 김치볶음밥과 로제\\n고르곤졸라 피자를 먹을 걸 후회가 밀려왔다\\n생일파티 공간이 따로 꾸며져있었는데\\n친구는 생일파티하러 다시 방문한다고 한다\\n#부산생일파티하기좋은곳', '‘조명 맛집’ㅇㅈ #카르텔조명\\n.\\n.\\n.\\n.\\n.\\n.\\n.\\n.\\n.\\n.\\n.', '눈이 즐거웠던 [카페인 부산]', '스케줄 해운대에서 밥 먹고\\n근처에 있는 카페인 부산 방문\\n여기도 새벽까지 한다\\n목금토는 새벽 5시\\n일월 화 수 새벽 2시', '시그니처 메뉴는 망할 일 없어요', '다크초코 라떼 성공적', '전시관인지 카페인지\\n볼거리가 많았다', '.\\n.\\n.\\n.\\n.\\n.\\n.\\n.\\n.\\n.\\n.\\n.\\n.\\n.\\n.\\n.', '#해운대 #스케줄해운대 #해운대맛집\\n#해운대카페추천 #카페인부산\\n#해운대명소 #해운대가볼만한곳\\n#서이추 #서이추환영']\n",
      "['', '안녕하세요 드림블러 입니다 :)', '오늘은 수원시 금곡동에 위치한\\n술집 막내의주방 이라는 곳을\\n소개 시켜드리고자\\n블로그로 찾아뵙게 되었습니다 !', '메뉴들은 다양한 편이었구요.\\n다양한 주류들이 있는듯 했습니다.', '식당 내부의 홀은\\n한 6팀 정도 수용가능한 듯 했구요.\\n여자친구 혹은 남자친구\\n연인끼리 방문하기 좋은 술집인듯\\n합니다 :)\\n단체로 방문하기보단,\\n공간을 생각하셔서\\n두분 혹은 세분 최대 네분\\n정도 방문 하시는 방향을\\n추천드립니다.', '지어진지 얼마 안된듯 해요 !\\n가게는 깔끔한 편에 속했습니다 :)', '곳곳에 이런 액자도\\n걸려 있었구요 !', '광각으로 한번\\n내부사진을 남겨보았습니다.', '후문쪽으로 화장실을\\n통하는 문입니다 :)\\n막내의주방이란\\n문구가 써있더군요\\n막내의 주방이라는 쉽게\\n잊혀지지 않는\\n네이밍은 오래 기억에 남아\\n좋았던 것 같습니다.\\n여자친구 동네가 이쪽이라\\n지나가며, 런치때도 한번\\n방문을 해야겠다 싶었는데\\n때마침 좋은 기회가 있어\\n저녁때 방문을 하게 되었네요.', '저희는 따로 주류는 주문하지 않았답니다 :)\\n주류를 주문하지 않아도,\\n식사를 할 수 있다면\\n술집과 식당의 두가지 메리트를\\n가지는 점이라 생각이 들더군요 !\\n아마도 막내의주방도\\n그런느낌 아닐까요 ?\\n실제로 런치메뉴도 운영을 하고\\n있는거 보면\\n꼭 술 손님으로 한정짓는\\n느낌은 아닌것 같았습니다.', '저희는 고민을 하다가,\\n트러플짜파게티와\\n닭볶음탕과 공깃밥+콜라를\\n주문했습니다.', '요리가 준비되는 시간은\\n7-8분 정도 소요되었구\\n윤이 나는 짜파게티 였습니다.\\n불향이 배여있었구,\\n따뜻하게 조리가 되어\\n준비되었습니다.\\n일반 짜파게티에서 조금 더\\n업그레이드 된 느낌을\\n즐기고 싶으실 때\\n드시면 좋을듯 싶네요', '다음 타자로 준비된\\n닭볶음탕입니다.', '따로 부탄가스를 준비해주셔서\\n따뜻하게 먹을 수 있도록\\n준비해주셨구요.\\n국물은 마늘베이스가 큰듯 했습니다 :)\\n마늘향이 좀 강한 느낌이었습니다.\\n마늘향을 좋아하는 분들께는\\n호일듯 싶습니다.', '오붓하게 식사를 하기에는\\n좋았던 식당이며,\\n갓 지어진 건물로 깔끔한\\n느낌이 좋았던 가게였습니다.', '감사합니다.\\n이 포스팅은 업체로부터 식사권을\\n제공받아 작성된 솔직한 후기입니다.']\n",
      "['여러분 쏘입니다!!\\n하 힘든 한 주였어요..ㅠㅠ\\n아침당직에 행사들에 정말 몸이..... 너덜너덜....\\n오늘 제가 소개 해 드릴 아이는 바로 대전 선화동 매운실비김치에요!\\n제가 맵부심 장난 아닌거 다들 아시죠?ㅋㅋ\\n유튜버들에서 되게 입소문이 자자했고, 인스타에서도 너무나 유명한\\n제 친구들도 맛있다고 하더라구요\\n그래서 궁금해서 저도 주문해봤어요!!\\n바로 소개 해 드릴게요!', '3~4일 정도 걸렸던 것 같아요\\n주문하고 빠릴 와라 빨리 와라를 얼마나 기도했는지 ㅋㅋㅋㅋ\\n저때 한참 광주 코로나 유행이였던 시기였던 것 같은데...\\n아닌가.. 하도 오래전이라 기억이.......(고로 협찬 광고 아님 내돈내산', '이렇게 얼음팩도 2개나 큰 놈으로 있어서 생김치 그대로였어요!\\n전 생김치를 굉장히 좋아하거든요!!\\n히히.. 막 담은 김치 짱 쥬아!!', '대전 선화동 매운실비김치 등장이요!!!\\n이게 맵기도 맵지만 정말 맛있떼요 ㅋㅋ\\n근데 여기 양념이 엄청나게 많다고 해서 봤는데 양념이 아주\\n박스 여는 순간 매운 냄새 퐈악!', '맛있게 먹는 방법이에요!\\n저는 짜파게티에 같이 먹어봤고, 고기 구워 먹을 때 먹었고,\\n김치볶음밥도 해 먹었어요!\\n냉장보관하시면 되고 양념은 워낙 많으니 걷어서 냉동실에 보관 후 찌개나 국류에 양념 대용으로 \\n넣어서 먹으면 된다고 하더라구요!\\n저도 걷어서 놔두었는데 어딨더라....엄마가... 나 몰래 처리 한 것 같기도 하고....\\n김치볶음밥은 전 파기름 내서 볶다가 김치 쫑쫑 썰어서 넣고 볶았어요\\n그런 다음에 밥 볶고, 스크램블 만들어서 넣고\\n굴소스 조금 넣어 간 했던 것 같아요!\\n굴소스가 넣었는지 안 넣었는지 기억이 안나는데..\\n이렇게 먹으면 세상 존맛이에요!', '이렇게 컷팅 칼도 들어 있는 센스!!!\\n유통기한은 제조일로부터 20일까지고, 키로수는 다양하게 있어요', '새우함유 되어 있다는데 전 또 이렇게 새우젓 들어간 것은 괜찮은 불편한 사실...ㅡㅡ\\n저는 먹을만큼 덜어놓고 김치냉장고에서 서서히 익혀먹었어요\\n익혀서 먹고 싶은 날엔 전 날에 실온에 두었다 먹으니깐 적당히 익어서 좋더라구요!', '배추는 국내산이고 고춧가루는 베트남산 고춧가루 비율이 높네요!\\n아무래도 매운맛은 베트남 고춧가루가 장난아니잖아요!\\n근데 아무래도 이 베트남 고춧가루는 매운맛도 아픈 매운 맛이구\\n특유의 미세한 향도 있어서 호불호가 있을 것 같아요!\\n근데 전 극호호호호호호호', 'ㅋㅋㅋㅋ 포장지 뜯었는데 고춧가루 양 보이시나여 ㅋㅋㅋ\\n근데 저건 진짜 세 발의 피에요 ㅋㅋ\\n양념 진짜 진짜 많아요 \\n익히 많다고 들었지만 진짜 이렇게 많을 줄은 몰랐어요 ㅋㅋㅋ', '한 줄 뜯어서 겁 없이 먹기 ㅋㅋ\\n와 매워요 ㅋㅋㅋ 여러분 맵습니다!!!!!\\n처음엔 아 별론데 낚였네 아쒸 였는데\\n슬슬 매운 맛이 올라오더니 아파요 ㅋㅋㅋㅋ \\n역시 베트남고춧가루 ㅋㅋㅋ\\n와 근데 감칠맛이... 장난 아니에요\\n그리고 바로 물을 올렸죠', '트러플 짜파게티!!!!!에 같이 먹기\\n위 달래줄 반숙 후라이도 ㅋㅋㅋ', '아니 ㅋㅋㅋ 양념 걷어내서 온게 이 정도라구요 ㅋㅋㅋ\\n근데 여기 배추가 진짜 딱 제가 좋아하는 스타일!\\n너무 안절여진 것도 아니고 너무 절여진것도 아닌\\n제가 넘나리 좋아하는 생김치스타일!', '자파게티에 한 입 먹는데\\n와... 이겁니다 여러분\\n밥하고 같이 먹어도 맛있거든요?\\n근데 전 이 짜파게티에 먹는거 강추드려요...\\n짜파게티의 느끼함과 대전 선화동 매운실비김치의 매운 맛이 너무너무 찰떡이에요!', '사실 안 익어서 그런지 고춧가루 풋내는 심하긴 했는데\\n이건 익히면 사라지는거고\\n전 고춧가루 풋내도 좋아해서 괜찮았는데\\n싫어하시는 분들은 안 좋아하실 것 같긴해요\\n얼집 가져가서 선생님들도 조금 줬었는데\\n다들 호였어요 넘 매워서 그렇지 ㅋㅋㅋㅋ', '짜파게티 엄마 반 드리고 밥 비벼서 먹는데 와.. \\n존맛....\\n아 근데 다 먹고 위 아팠어요 ㅋㅋ\\n근데 맛있었고 계속 생각나는 맛이였어요!!\\n진짜 저거 혼자 거의 다 먹었는데 \\n직장 동료들은 엄청 엄청 작게 찢어서 먹고 전 크게크게 뇸뇸...\\n근데 이게 먹으면 땀이 삐질삐질 나면서 콧물 줄줄인 그런 매운맛이에요 ㅋㅋ\\n그러니 구매하실 분들은 참고하시는게 좋을 것 같아요!\\n너무 매우니 무조건 추천이라고는 못 하겠고\\n저처럼 맵부심 쩌시고 잘 드시는 분들만 추천드려요!!!\\n전 개인적으로 맛있었고 이건 지극이 개취기때문에 \\n제가 적었던 단점들(?) 잘 참고하시길 바래요!\\nhttp://www.hotkimchi.kr/?NaPm=ct%3Dke2o7evl%7Cci%3Dcheckout%7Ctr%3Dds%7Ctrx%3D%7Chk%3D3a8abef8a89bdf7b1ebf5dc2f237fa18d1104b5d', '구매처는 여기에요!!\\n링크도 남겼으니\\n그럼 전 가볼게요 안녕!', '#대전맛집 #대전선화동맛집 #대전선화동실비김치 #대전선화동매운실비김치 #실비김치 #유튜버실비김치\\n#매운김치추천 #배달김치추천 #선화동실비김치 #선화동실비김치솔직후기 #실비김치맛있게먹는방법 #내돈내산']\n",
      "['안녕하세요 \\n#빵꽁자매 입니다', '오늘 소개해 드릴 맛집은\\n대학로 맛집 혜화 맛집으로 \\n아주아주 핫!!한 ', '', '대학로에서 대학시절을 보낸 빵언니는\\n혜화 맛집 찾기가 하늘의 별 따기\\n라는 것을 알기 때문에 \\n대학로에 이런 곳이 생겼다는 것에\\n뭔가 뿌듯합니다 \\n(일단 감동)', '아.....\\n일단 외관부터 감성적입니다', '혜화에 이런 집이 있다니!\\n얼마 전에 \\n하트시그널3에 \\n여자 출연자들이 찾아와서\\n혜화 맛집으로\\n더더 핫해진 곳입니다!', '뭔가 비밀의 정원에 들어가는 느낌!\\n안쪽으로 들어와서 \\n가게 문에서 바라보니\\n요런 모습이더라구요', '오랜 시간 지내온 대학로에서\\n넘 이색적인 집이라 그런지\\n완전 설렘 설렘 하면서 \\n들어갔네요!', '넘나.. 설레는 것\\n1층은 이런 모습입니다', '1층 공간은 넓지는 않았어요!\\n사실 천장가 낮아서 답답했는데 \\n(2층, 기대하셔도 좋습니다...)\\n1층에서는 이 자리가 좋아보였어요\\n구석탱이', '그리고 \\n카운터랑 안쪽에 주방도 보입니다', '저희는 예약하고 갔는데 \\n6시 10분이라 \\n손님이 많지는 않았구요!\\n1층에 앉았어요!\\n(1층 먼저 채우시는 듯)\\n1층이 그다지 넓지가 않아서\\n생각보다 좁다 ... 하고 있는데\\n 2층이 더 좋다는 말에 바로 올라가 봤습니다!\\n카운터 옆에 요렇게 계단이 있어요', '그런데 2층 올라가 보니...', '헐.................\\n두둥!\\n이렇게 이쁠 수가!!!\\n전 특히 저 두 번째 사진 자리가 매우\\n탐나더라고요\\n이게 바로 혜화 맛집으로 \\n만들어준 이유일까...', '다음번엔 꼭 2층에 앉아야겠어요\\n아...\\n대학로에 이런 가게가 있다는 기쁨에\\n감상하다 보니 \\n메뉴 소개가 너무 늦었습니다 ㅠㅠ\\n혜화 맛집 장고상회 메뉴!!', '메뉴판도 뭔가 복고풍인 것이\\n히히 맛이 기대됩니다!\\n저희는\\n1. 훈제오리 & 치킨 스테이크 (23,000)\\n2. 육회비빔밥 (9,000)                          \\n3. 트러플오일 짜파게티 (6,800)           \\n4. 곱창부대찌개(23,000)                      \\n요롷게 주문했습니다!\\n제일 처음 등장한 육회비빔밥!\\n흐아 비쥬얼 넘 이쁘더라구요\\n색감도 알록달록하니\\n여심을 사로잡을 줄 아시는 듯!', '', '그런데...\\n잘 안 비벼졌어요 ㅠㅠ\\n그릇이 너무 작아요!!!!!!!!!!!\\n(그릇이 알맞아서 더 예쁜 거겠지만)', '빨리빨리 먹고 싶은데!!!!\\nㅋㅋㅋㅋㅋㅋㅋㅋㅋㅋㅋㅋㅋㅋㅋㅋㅋ악악\\n(음식 앞에서 인내심 제로)\\n그리고! \\n훈제오리 & 치킨 스테이크', '훈제오리는 \\n다른 집에서도 많이 먹을 수 있는 맛 이었고요!\\n치킨스테이크는 바삭하니 맛있었어요!\\n스테이크라기엔 빠삭빠삭 치킨 같은 맛!\\n잘 구워졌더라고요\\n(바삭한거 좋아함)\\n그리고 가운데는 \\n말린 토마토 절임? \\n무화과 절임????(맞나???)...맛이었어요\\nㅋㅋㅋㅋㅋㅋㅋㅋ히히...\\n그리고\\n트러플오일 짜파게티!', '아...\\n진짜 자꾸 쓰면서 침 나오네\\n정말', '넘나 신나잖아요\\n이 짜파게티는 오일리 하게 만든 맛에\\n노른자가 섞어지며\\n더 부드러워지고\\n먹을 때 입에 들어가는 순간과\\n씹으면서 코에서 계속 트러플 향이 \\n킁킁킁!\\n(황소??... 용가리...???)\\n맛있었어요!\\n(짜파게티를 6800원이나 줘야 하는지는 \\n잘 모르겠지만유)\\n트러플오일 사서 집에서 뿌려먹어야지\\n마지막으로\\n자꾸 배고픈 우리는\\n곱창부대찌개', '크으\\n이거 완전 쏘주안주입니다\\n술이 들어간다아아아~~~~~~', '또  신이 납니다 하하하하핳\\n부대찌개에 햄이랑 국물도 진하고\\n곱창에 곱도 실하게 들어있더라구요?\\n사실 처음에 곱창 먹었을 때는 약간 냄새가 났는데\\n나중에는 안 났어요!\\n(아마도  덜 익었을 때 먹은 듯?)\\n아님 나중에 취했나...\\nㅋㅋㅋㅋㅋㅋㅋㅋㅋㅋ\\nㅋㅋㅋㅋㅋㅋㅋㅋㅋㅋㅋㅋㅋㅋ\\n잘 익혀서 드세용 히히\\n여기 특이한 맥주가 있었는데\\n긍정신\\n이라는 맥주', '여기 특이한 맥주가 있었는데\\n흑맥이랑 밀맥섞은 맛이나고\\n맛있었어요 \\n노홍철천재라닠ㅋㅋㅋㅋㅋ\\n위치 첨부합니다', '이곳의 위치는\\n4번 출구에서 나오셔서\\n씨쥐브이 쪽으로 쭉 오시다가\\n뚜레쥬르 보이시면 그 골목으로 \\n쭉! \\n들어오시면 있습니다\\n저는 정말\\n대학로에 이런 곳이 생겼다는 것이\\n너무 좋습니다!\\n친구들이 오면 데려가고 싶어요\\n한옥 감성도 좋고\\n맛도 있고!\\n음식이 엄청나게 맛있는 메뉴가 딱!\\n있는 건 아니지만\\n분위기 좋고\\n다 맛있어요!\\n혜화 맛집, 대학로 맛집\\n추천 추천\\nㅋㅋㅋㅋㅋㅋㅋㅋㅋㅋ\\n내 돈으로 내가 사 먹고\\n무한 추천하기\\n하지만 좋은 곳은 공유해야 하니까요\\n그럼 오늘도 \\n혜화 맛집 내돈내먹 후기를 남기고\\n오늘도 맛집을 찾아 떠나렵니다\\n헤헤 안뇽...', '']\n",
      "['<개인 사비로 쓴 솔직 리뷰입니다>\\n안녕하세요 퓨이입니다ㅎㅎ', '오랜만에 “제품 리뷰 카테고리”로 돌아왔어요~\\n엄마가\\n예전에 나 혼자 산다 정려원 님\\n영상을 보고서\\n라면 포트를 인터넷에서 주문했더라고요\\n(참고로 티비 속 그 제품은 아닙니다!!)\\n엄마가 구입한 링크는 여기!!\\n👇👇', '(읽어보시면 아시겠지만 협찬 전혀 아닙니다 ㅋㅋ)\\n점점 날씨가 따뜻해지면서\\n다이어트를 해야 하지만\\n짜파게티가 너무 끌려요 ㅋㅋ\\n(맛있게 먹으면 0칼로리??^^)\\n그냥 라면만 먹으려다가\\n블로거 정신이 발동해서\\n이건 리뷰 써야겠다!! 싶어서\\n작성하게 되었습니다 ㅎㅎ', '혹시나 해서 다른 라면 포트도\\n찾아봤는데 오븐처럼\\n온도조절기가 있더라고요\\n(동그랗게 생겨서 돌리는!!)\\n하지만 이 제품은\\n제품 하단의 저 ON/OFF 버튼만 누르면 돼요\\n물과 후레이크를 넣고\\nON 버튼을 누르면서도\\n이게 과연 끓을까 의심이 들었어요', '오...\\n시간이 지나니까 팔팔 끓어요 ㅋㅋㅋ\\n커피포트와 다르게 밑에 받침대도 없고\\n오로지 전원 연결할\\n콘센트만 있으면 가능합니다!!', '', '바로 라면을 넣습니다\\n크기가 딱 맞아요 ㅋㅋㅋ\\n사이트 상에서는 1L라는데\\n라면 2개 정도 넣어야 적당할 것 같은 크기입니다', '잘 익으라고\\n꾹꾹 눌러줬어요', '밑에 받침대나 가스불이 있는 것도 아닌데\\n끓고 있다는 게\\n너무 신기해요 ㅋㅋㅋ', '짜파게티랑 반숙 계란을\\n섞어먹으면 맛있다 그래서\\n미리 계란도 반숙으로 부쳐놨어요', '그 사이에 면을 골고루 풀어줍니다', '이따 또 분말수프를 넣고 \\n끓여야 하기 때문에\\n2~3분 정도만 끓이고 전원은 OFF로~', '물을 버려야 하니\\n잊지 말고\\n코드는 꼭 빼주세요!!', '일반 냄비보다 훨씬 가볍고\\n그립감도 좋아요 ㅋㅋ\\n물 버릴 때도\\n의외로 내용물이 흘러내리지 않습니다\\n(수도관 상할까 봐 찬물도 틀어줬어요)', '냄비 안에 물을 어느 정도 남기고\\n다시 전원코드를 꽂아줬어요', '분말수프와 올리브유를 넣고', '전원 ON!!', '전원 켜자마자 바로 끓어요 ㅋㅋㅋ\\n움짤 만들라니까 여기부터\\n화면이 다 회전됐어요 ㅠㅠ', '', '크 군침 돌아요 ㅋㅋㅋ', '드디어 완성!!', '설거지하기 귀찮으니\\n냄비째로 먹어야죠 ㅋㅋㅋ\\n그릇에 덜기 귀찮아요 ㅋㅋㅋ\\n파김치를 다 먹어서\\n총각김치로 대체했어요\\n(너무 리얼한 반찬통 상태...ㅎㅎ)', '이거 보니까\\n화사님이 만든\\n트러플 오일 짜파게티도 먹어보고 싶어요 ㅠㅠ', '총각김치도 얹어서 한입~', '어느 정도 먹었으면\\n바로 계란 넣어봅니다\\n어느새\\n라면 포트 리뷰가 아닌 짜파게티 리뷰가 ㅋㅋㅋㅋ\\n(라면 포트 후기 마지막에 있으니 나가지마세요ㅎㅎ)', '', '계란 반숙 터트려서 비벼 먹는 것도\\n움짤로 만들라 했는데\\n또 회전돼서 안 넣었어요 ㅠㅠ\\n(왜 그래 핸드폰...ㅠㅠ)', '계란 반숙 비빈 짜파게티에\\n총각김치 올려서 한입~\\n오 반숙 넣으니까\\n뭔가 더 촉촉해져서 맛있어요 ㅋㅋㅋ', '뭔가 아쉬워서\\n마지막에 밥을 살짝 넣어서\\n밑에 안 긁고 조심히 비벼 먹었어요\\n근데 이때\\n살짝 쇠 맛이 나서 당황...\\n혹시나 해서 저 사이트 가서 후기 찾아보니\\n그런 리뷰가 많네요...\\n아!! 그리고 설거지할 때\\n전원 꼽는 부분 물 안 들어가게 조심하셔야 해요\\n이 부분이 살짝\\n일반 냄비와 다르게 불편해요ㅠㅠ\\n아무튼\\n마지막이 살짝 아쉬웠지만\\n잘 먹었습니다~', '', '라면 포트 후기를 쓰자면\\n기숙사 사는 분들이나 자취생분들이\\n쓰기에 좋은 제품인 것 같아요\\n사실 라면 자체가 몸에 안 좋긴 하지만\\n컵라면은 아무래도 몸에 더 안 좋아서\\n이왕 먹을 거 봉지 라면 끓여 먹는 게\\n양도 많고 좋잖아요ㅎㅎ\\n라면 포트 자체가 무게도 가볍고\\n주방이 아닌 거실에서도\\n콘센트만 연결하면 바로 조리 가능해요ㅎㅎ\\n저도 협찬받은 게 아니고\\n그냥 엄마가 샀길래 리뷰한 거뿐이에요\\n마지막에 살짝 쇠맛이 나서...\\n이 제품을 크게 추천드리고 싶진 않고\\n라면 포트 종류가 많으니\\n한 번 잘 알아보고 사세요!!', '오늘도 읽어주셔서 감사합니다\\n댓글과 공감 하트 부탁드려요\\n서로이웃도 언제든지 환영입니다❤️', '<이 리뷰는 개인 사비로 솔직하게 쓴 리뷰입니다>\\n<개인적인 평가라서 참고만 부탁드려요>']\n",
      "['안녕하세요\\n블로거 홍킹 입니다', '종로 돌아 다니다가 익선동이나 한바퀴 돌자 하고\\n익선동 갔는데 날씨 요즘 미쳤어요 ㅠㅠ\\n진짜 너무 더워서 겨메리키노 내리기 직전\\n시원한 맥주나 마시자 해서 갈 곳 찾아 봤는데\\n내가 피맥 고고???하니까 애들도 콜을 외쳤죠\\n저번에 다녀온 #아트몬스터 로 친구들 인도 하였죠\\nㅋㅋㅋㅋㅋㅋㅋㅋㅋㅋㅋㅋㅋㅋㅋ\\n그 말인 즉 익선동 아트몬스터에서 피맥한 포스팅\\n이라는 거죠 하하하하', '지하철 6번 출구 갈매기살 골목지나\\n카페 먹자골목에 있습니다 너무 골목 골목이라\\n자세히 설명 드리기가 힘드네요 ㅠ', '요 간판 찾으면 되겠습니다 ㅋㅋㅋㅋ\\n아트몬스터 익선동에서 처음 알았는데\\n체인점이래요 ㅋㅋㅋㅋㅋ 이 골목에 이런식의\\n음식점이 많아서 익선동에만 있는 줄 알았는데', '맥주 맛을 강조 하는 아트몬스터 ㅋㅋㅋㅋ\\n시원한 맥주 한모금 간절 할때 \\n이 문구 보면 안들어 갈 수가 없죠....\\n우리는 이날 엄청 갈증이 났거든요\\n 정말 개더워 \\n헥헥', '절대 그냥 지나쳐서는 안될 그곳 ㅋㅋㅋㅋㅋㅋㅋ\\n어차피 갈려고 했지만 문구 보고 더 들어가고 싶은걸요??', '익선동 아트몬스터 영업시간 입니다\\n그래도 익선동 중에선 그나마 늦게까지 하는 것 같아요\\n거의 10시에서 11시면 마감 하거든요', '자자 이제 실내로 들어가 보겠습니다.', '역시 여기도 익선동이구나 했죠\\n한옥과 현대식 인테리어를 접목시킨\\n익선동에서 자주 볼수 있는 인테리어!!\\n근데 우리 한옥은 이쁘긴 해요 정말 \\n갬성있죠.', '한옥 인테리어 잘 살렸긴 했어요!!\\n사진으론 찍지는 못했지만 주방도 인테리어랑\\n잘 어울리고요 테이블 정한후에 음식주문\\n직접 하시러 다녀 오시면 됩니다\\n셀프로 다녀 오셔야 하니 기다리지 마세요 ㅋㅋㅋ\\n종업원 안와요', '익선동 아트몬스터 화장실도 특색 있더라구요 ㅋㅋ\\n옛날 집 철문으로된 대문??? 아시죠??\\n나만 생각이 나나 ㅋㅋㅋㅋ\\n화장실 인테리어까지 신경 많이 쓴거 같죠?!', '자 앉았으면 우선 우리가 먹을 맥주 부터 시켜야겠죠?\\n물론 맥주랑 먹을 피자까지 ㅋㅋㅋㅋㅋ', '우선 맥주 메뉴판인데 진짜 종류가 \\n열가지가 넘는데 ㅋㅋㅋㅋㅋㅋㅋㅋ\\n설명들이 써있었지만 우린 뭐가 뭔지를 잘 몰라버림\\n맥주는 다 같은 맥주 아니였나??ㅋㅋㅋㅋ', '맥주 이름도 가지각색 ㅋㅋㅋㅋ\\n핵존심 잡스 사랑범벅등등 수제맥주 하나하나에\\n센스 있는 이름을 붙혀 놨어요 ㅋㅋㅋ', '머리아프게 고민하지 말고 우리는 맥주 샘플러로\\nㅋㅋㅋㅋㅋㅋㅋㅋㅋㅋㅋㅋㅋㅋㅋ\\n1-10까지 다시켜 버렸어요 \\n세명이서 맛 한번씩 다 보자며 \\n선택장애 있으신 분들은 샘플러 마시는걸 추천 드립니다', '맥주를 골랐으면 우리의 디저트(?) 골라야죠\\nㅋㅋㅋㅋㅋㅋㅋㅋㅋㅋㅋㅋㅋ\\n피자는 디저트 아닙니꼬???', '애들이 들어갈때 부터 페페로니 페페~~로니~로니\\n노래를 불렀다죠.... 하지만 저 홍킹은\\n트러플 버섯 피자를 추천 했어요!!!\\n저도 처음왔을때는 페페로니 먹었는데\\n이거 마지막에 시켰는데 배불러도 들어 가더라구요\\n전 배가 불러도 들어가는 도라이에몽\\n요술 배를 가졌거든요.\\n사실 이게 맛있음 ㅋㅋㅋㅋㅋㅋㅋ', '피자 가격은 킹브리 치즈피자 빼고\\n전부 13000원... 익선동에서 피자 13000원이면\\n혜자스런 아이템이죠..... 진짜 익선동 물가가...\\n핫플이라 월세가 올라서 겠죠....\\n암튼 가격은 착해요', '우리의 사랑 치느님도 있었지만\\n우린 이 날 피자 피자!!!!\\n치킨 안보이더 라구요 피자에 빙의됨', '나쵸도 있구 모듬소세지 등등 다른 안주들도 있습니다\\n사이드로 시키면 되겠네요', '맥주 부터 나왔다!!!!\\n샘플러 1-10다 시킨 ㅋㅋㅋㅋㅋㅋㅋㅋㅋ\\n근데 사진으로 보니까 두번째 저거 거품 왜이리 많어??\\n포스팅 하다 지금 봤네요 ㅠㅠ\\n컵도 작은데 거품은 좀.... ㅋㅋㅋㅋㅋ\\n내 맥주~~~~~', '자자 인스타 갬성 박습니다 ㅋㅋㅋㅋㅋㅋㅋ\\n바로 사진 찍어 주구요 ', '잔이 작은데 뭐 나름 맛보기 좋은 잔이라 생각이 되요\\n맛이 열가지다 특색 있게 틀려요 과일맛\\n커피맛 초코맛 등등 ㅋㅋㅋㅋㅋㅋㅋㅋ\\n근데 잘 어울린다는', '동영상 하나 첨부 합니다 ', '진동벨이 울리고 나온 #트러플 버섯 피자\\n화사씨가 트러플 짜파게티 먹는거 보고 엄청 먹고\\n싶었는데 우린 트러플 피자 라도 먹어서 배고픈\\n배를 달래 보자~ 비쥬얼 좋구나~', '피자 크기 딱 좋구요 6조각 이예요\\n토핑 부족함 없었습니다 포크에 은접시\\n버섯까지 듬뿍...', '바로 나와서 따끈 하구요 피자는 따뜻할때 \\n먹어야 제 맛!!! 바로 나온 피자 맛없으면 뭐다??\\n피자가 맛 없을 리가 없잖아.....\\n일단 한조각 접시에 덜어 버리구요', '맥주도 자기성향에 맞게 일단 들어 버리구요 ㅋㅋㅋ\\n이건 무슨 맛 맥주 였었지.... 헷갈리는군\\n그냥 맥주는 다 좋쥬???\\n이러다가 피자한판 다먹음....', '그래서 아까 부터 페페~~로니 노래를 불렀던\\n페페로니 피자 하나더 추가욧!!!\\n역시 페페로니는 진리인가....\\n아까 트러플 버섯은 잊혀진지 오래 ㅋㅋㅋㅋㅋㅋ', '와우스런 비쥬얼이 똭!!!\\n휴 치즈 아끼지 않으 셨군요...\\n오늘 피맥으로 밀어 붙히길 잘 했다는 생각을\\n한번 해봤어요.... 다들 그렇지???\\n띠용~~~', '자 입벌려 피자 들어 간다~~~~~~\\n그것도 페페로니~~~\\n사진 보니까 친구 놈 접시에 트러플 피자 있는데 \\n또 가져가네????', '개자석이 ㅋㅋㅋㅋㅋㅋㅋㅋㅋㅋㅋㅋㅋ\\n파자 겹치기 들어 갔네요....\\n사진 보다 딱 걸렸어 ㅋㅋㅋㅋㅋㅋ', '내 접시에도 페페로니 피자가 똭!!! \\n피자 쏴라 있네!!진짜 피자 맛있게 먹었네요 이날\\n그것도 두판 ㅋㅋㅋㅋㅋㅋㅋㅋㅋㅋㅋㅋ\\n엄청 더웠는데 에어콘 바람 쐬면서 맥주에\\n피자에.... 이게 힐링 이쥬???', '힐링 별거 없쥬?\\n이 날 익선동 투어를 한건지 맥주 먹고 피자를\\n먹을려고 한건지 모르겠던날 ㅋㅋㅋㅋㅋㅋ\\n익선동 아트몬스터 다녀온 솔직후기 였습니다\\n그럼 20000']\n",
      "['주소 : 청주시 청원구 율량로202번길 80 오 상그리아\\n호텔지 건너편\\n영업시간 : 매일 오후5시 ~ 새벽2시\\n인스타 : http://www.instagram.com/o_sangria_', '안녕하세요:)', '오늘은 남자친구랑 800일 기념으로 \\n율량동 술집 겸 레스토랑! 오상그리아에 방문했어요❣️\\n이날 한 데이트 포스팅은 링크 남겨둘게요🙌🏻\\nhttps://m.blog.naver.com/kk6074/221935090403\\n율량동 근처 맛있는 스테이크, 파스타를 찾으신다면\\n추천드립니다 !', '모던한 인테리어에 큰 문이 인상적이였어요!\\n저희는 방문하기 전 여러 곳에서 고민했지만\\n인스타를 보고 선택했답니다\\n특히 짜파게티....💗가 맛있다고 소문이 났더라구요 ㅋㅋ', '사장님이 이 댓글 보고 서비스주셨다는,,. 비밀💗🤭\\n감사합니다 ㅎㅁㅎ', '인테리어도 제가 좋아하는 간격 넓고 우드우드한\\n모던느낌이였어요 (아무말대잔치)\\n특히 둥근테이블...♨️ 좋습니다 ㅋㅋㅋㅋㅋㅋㅋㅋㅋㅋ', '제가 열심히 눈치보며 찍은\\n(블로그 초보 티내깋ㅎㅎㅎ)\\n율량동 레스토랑 오상그리아의 메뉴판이에요! \\n클릭한 뒤 확대하시면 더욱 잘 보입니다\\n저희는 이 중에서 살치살스테이크와 \\n살치살 짜파게티를 선택해써요\\n살치살로 조집니다 이번 저녁\\n앗 술은 한라토닉 1 bottle 이요❤️', '기본세팅은 레드와인에 절인 방울토마토와 피클이에요\\n진짜 와인맛 풍부하더라구요 비싼 토마토 ㅋㅋ\\n저 엔틱한 물병이 너무 예뻐서 인터넷에 쳐봤는데 안나와서 실망했어요 ㅠㅠ 어디있나요 저 존예물병!!!!!!!\\ntmi :\\n식기는 저희집에 있는거랑 똑같아서 2차로 놀랬답니다', '₩15000\\n율량동 술집답게 한라토닉도 있었어요!!\\n이건 한라토닉 1 bottle을 시키면 나오는 세팅이에요\\n저는 레몬슬라이스를 기대했지만 ㅠㅠ... 깍뚝썬 라임 🥺\\n한라토닉보다는 와인이나 맥주를 시키는 걸 추천드립니다\\n가성비도 안좋구 라임맛이 별로 안나요 ㅠㅠ 조금 실망쓰....', '심심해서 잔에 따르는 모습 한번 찍어봤어요', '먼저 나온 살치살 트러플 짜파게티\\n이거 존맛입니다 여러분\\n솔직히 파스타랑 이거 두개 다 시키려했는데\\n먹어보고 배고프면 시키자!! 하구 짜파게티만 시켰어요\\n\"다행이야,,,안시켰으면 이 맛을 몰랐을거야\" 라고\\n말해버렸어요\\nㄹㅇ 고급 상위 버전 짜파게티!!!!!!!!', '맛있으니 한장 더 남겨놓을래요\\n(내맘)', '그다음 나온 살치살 스테이크 : 미디움레어\\n남친왈 미디움레어보다는 미디움같았다 라고하지만\\n전 맛있으면 그만이였기에 그냥 먹었습니다 ㅋㅋㅋ\\n치즈감자도 엄청 맛있고 양도 많았어요!\\n촉촉하니 반 잘라먹으면 딱 알맞더라구요\\n사장님이 빈그릇보면 뿌듯하다 하신 인스타가 생각나여 싹싹 긁어먹었답니다 ㅋㅋㅋㅋㅋㅋㅋㅋㅋㅋㅋㅋ (안시켰음)', '인스타에 댓글남겨주신 분 맞으시냐고 여쭤보시길래\\n수줍게 맞다고했더니....\\n❣️이건 사장님이 주신 서비스❣️\\n카프리제샐러드\\n감사히 잘먹었습니다', '', '네, 저희도 싹싹 다 긁어먹었어요\\nㅋㅋㅋㅋㅋㅋㅋㅋㅋㅋㅋㅋ 이렇게 보니 창피하네요...ㅎㅎ\\n아무튼 한라토닉 빼구 다 맛있었던\\n율량동 술집 겸 레스토랑 겸 와인바 : 오상그리아\\n포스팅을 마치겠습니다!!', '#율량동술집 #청주율량동맛집 #율량동데이트 #율량동파스타 #율량동오상그리아']\n",
      "['코로나의 여파가 지속되면서 사업자들의\\n힘든시기가 계속되는 것같습니다.\\n외국이 더욱 심각해지는것같은데\\n몸조심해야겠습니다.\\n이번에 포스팅할 곳은 작년에 방문한 분식집\\n인계동에 위치한 \\n김승용분식', '영업시간 : 오후 12시 ~ 밤 10시\\n아시안푸드 전문점으로 설명되어있는데\\n분식집이 더욱 어울립니다.', '대기는 직원에게 말해주어야합니다.\\n그냥 멍하니 있으면 안될듯\\n우리는 대기없이 잘 들어왔습니다.', '메뉴판 확인하세요\\n일반적인 메뉴도 있는데 \\n조금 특이한 메뉴도 보입니다.', '약간 엔틱한 분위기로 옛날느낌이 납니다.\\n그릇도 그렇고 식탁도 그렇고', '먼저 주먹밥이 나왔습니다.\\n보통 주먹밥은 분식집에서 떡볶이 국물에\\n찍어서 먹으려고 시키지 않나요\\n나만 그런가..', '트러플오일 짜파게티라고 해서 시켜보았습니다.\\n향이 남다르긴 합니다만 \\n사실 맛이 크게 있다거나 하지는 않았습니다.\\n개인적인 의견이니 참고만 해주세요', '떡볶이가 나옵니다.\\n엄청나게 큰 떡이 나오기를 바랐는데\\n그런 느낌은 아닌것같지만\\n맛있기만 하면 되죠\\n맛있게 먹었습니다.\\n그릇이 옛날 그느낌.. 크으..', '돈가스도 추가 주문했습니다.\\n식탐이 많은 것은 맞지만 이정도일줄은..\\n전체적으로 옛날 느낌이 많이 나네요\\n돈가스도 옛날 경양식집에서 본 느낌이 \\n그대로 남아있어 좋았습니다.\\n전체적으로 분위기는 좋았습니다.\\n맛은 주관적인 부분이 있으나 \\n트러플 짜파게티는 입에 맞지 않았습니다.\\n개인적인 의견입니다.', '위치는 아래 확인']\n",
      "['꿉 당', '서울 서초구 강남대로 615', '신사 목살구이 맛집, 신사 목살구이 강자로 떠오르는 #꿉당 에 다녀왔다.\\n나는 금요일 퇴근후 5시 30분정도 도착했는데 웨이팅이 없었다.\\n그러나 나는 같이 먹기로한 지인이 오지않아서 꿉당 웨이팅리스트에 이름을 올리고 6시30분정도에 다시왔다.\\n요새 코로나때문에 사람이 없을 줄 알았는데, 6시30분에 오니 웨이팅을 하고있었다!!\\n아마 평일엔 6시전에는 기다리지않고 무난히 먹을 수 있을 것 같고, 그 이후엔 많이 기다려야 할 것 같다.\\n그래도 전화번호를 남기면 전화를 주시고\\n나처럼 일찍 온 사람들은 명단에 이름 올려놓고 시간 맞춰서 오면 웨이팅 1순위로 해주시니 넘 감사했다.\\n(**이건 매장 상황에 따라 다를 것 같다.)\\n#신사꿉당주차\\n신사역 꿉당은 주차는 따로 되지않는 것 같고, 나는 주변 공영주차장을 이용했다.\\n잠원동방음언덕형 공영주차장\\n도보로 5분정도 걸리고, 10분당 300원으로 저렴한 편이다. (1시간에 1,800원)\\n앞으로 가로수길 또는 신사역 주차장을 찾을 때 종종 이용해야겠다.\\n신사 꿉당은 신사역 5번출구에서 나오면 바로 앞에 있어서 쉽게 찾을 수 있다.\\n목살구이집 중에서 최고의 역세권에 위치하고 있는 것 같다.\\n술도 한 잔 하려면 역시 지하철을 이용해야 한다.\\n초역세권이니 다음 방문 땐 지하철로 와야겠다.', '', 'KOKUMI란 일본어 KOKU(풍부한)와 MI(맛)에서 온 말로 깊고 풍부한 맛을 의미한다고 한다.\\n신사 꿉당의 대표메뉴인 KOKUMI목살에서 깊고 풍부한 맛을 느낄 수 있으니 이런 단어가 붙은거겠지?\\n다들 신사에서는 꿉당 목살을 먹어야한다고 하고, 다이나믹 듀오 최자 역시 꿉당을 맛집으로 소개한적이 있다.\\n한껏 기대를 안고 방문한 신사역 목살구이 맛집 꿉당.', '최초 주문시엔 2인분 이상 주문해야해서 우리는 KOKUMI목살 2인분을 먼저 주문했다.\\n신사 꿉당은 국내산 돼지고기를 사용한다. \\n국내산 돼지고기를 사용하는데 일본어 KOKUMI가 붙다니 살짝 아이러니(?)했다.ㅎㅎ\\n목살을 주문하면서 다른 메뉴 스캔하기.\\n목살 말고도 삼겹살, 가브리살, 갈매기살이 있는데 \\n다른 후기를 보니 가브리살은 목살에 비해 감동이 덜 하다고 한다. \\n꿉당에는  사이드 메뉴가 다른 고기집에 비해 다양한편인데 팔도비빔면가 트러플 짜파게티도 눈에 띄었다.', '주문하고 앉아 있으면 숯불과 밑반찬을 세팅해준다.\\n숯은 일반 번개탄이 아니라 참숯같아 보였다. \\n숯불때문인지 겨울인데도 가게 안에 열기가 굉장했다. (더웠음)\\n한 눈에 봐도 정갈해 보이는 꿉당의 밑반찬들.', '할라피뇨부터 깻잎장아찌, 쌈무, 마늘쫑장아찌\\n생강초절임, 쌈장, 와사비\\n갓김치, 고들빼기 나물\\n파무침까지\\n고기와 함께 먹으면 궁합이 좋은 반찬들이 였고 전부 내가 좋아하는 것들이라 마음에 들었다.\\n그리고 말하지 않아도 밑반찬이 떨어져가면 채워주시는 꿉당의 섬세한 서비스가 좋았다.', '많이 새콤하지 않았던 꿉당의 파무침\\n목살구이와 아주 잘 어울렸다. \\n생 파에 소스가 뿌려져나와 내가 직접 비벼 먹어야 하는 가게들도 많은데 꿉당은 처음부터 잘 무쳐서 나와서 좋았다.\\n내가 비벼먹으면 골고루 소스가 안베어나고 여기저기 소스가 튀기 일수...\\n이 파무침도 한 번 더 리필해 먹었다.', '', '드디어 나온 꿉당의 시그니처 메뉴 목살\\n모두가 찬양하던 꿉당의 목살\\n한눈에 봐도 고기 퀄리티가 너무 좋아보여서 더욱 기대하게 됐다.\\n국내산 돼지고기를 사용해서 더 안심하고 먹을 수 있었다.\\n아 그리고 여러 정보들에 의하면 바로 꿉당이  내가 너무 좋아하는 목살구이집 중 한 곳인  #땅코참숯구이 에서 실습(?)을 하고 오픈한 곳이라고 한다.\\n그래서 더 기대를 하고 먹었던 목살구이집 꿉당', '직원분이 불판에 화력을 체크해주시고 드디어 올라간 목살\\n손님이 직접 굽지않아도 직원분들이 직접 다 구워주셔서 좋았다.\\n타지않게 계속 목살을 집도해주시고 알맞게 구워주신다.', '한쪽면이 잘 구워지면 다시 뒤집어서 구워주기.\\n가끔 고기집에서 고기 못구워주면 약간 화(?)가 나서 내가 굽는게 편할때도 있는데\\n꿉당은 모든 직원들이 고기 굽는 것에 숙련이 되어있는 듯 했다.', '가위로 먹기 좋게 싹둑싹둑 잘라주기.\\n고기 자를 때 그 소리는 유독 경쾌하게 들린다. (저만 그런가요?)\\n목살이라 더욱 더 경쾌했다.\\n고기를 잘구워주셔서 눈을 못떼고 구경했다.', '숯의 화력이 쎄서 그런지 목살이 두꺼워도 금방 익는다.\\n부담스럽지않고 먹기 좋은 크기로 딱 잘라주셨다.\\n신사 꿉당은 파워블로거 분이 차린 가게라고 하니 고기가 익어갈수록 더욱 기대되었다.\\n그래서 1~2시간 웨이팅은 다들 감수하나보다.', '파워블로거이기도 하지만 5년동안 다른 식당에서 일하셨다는 꿉당 사장님.\\n블로그를 하며 쌓아온 노련미와 감각에 경험이 더해져 좋은 가게를 차릴 수 있던게 아닐까?\\n잘 익은 고기들은 꿉당 각인이 있는 불판 한쪽에 예쁘게 놓아주신다.', '드디어 먹어보는 완전 기대되는 꿉당 목살!!!!\\n보기 좋게 익은 목살.\\n개인적으로 목살은 퍽퍽한 식감때문에 삼겹살보다 선호하지는 않는데 꿉당 목살은 퍽퍽하지 않고 부드러웠다. \\n다들 엄지척 👍 하는 이유가 있었네.', '내가 좋아하는 파절이와 와사비 그리고 쌈무까지 올려서 한입 더~!\\n목살이 부드러우니까 정말 맛있긴 했다.\\n다만 지인과 나의 공통된 아쉬운 점은 육향이 별로 없는것.\\n고기 좋아하는 사람들은 누구나 가봤을 것 같은 땅코숯불구이나 육전식당 고기를 먹을때는 육향과 육집이 동시에 입안에 퍼지는게 \"와 이거 진짜 대박이다!\" 라는 생각을 하게했는데, 아쉽게도 꿉당 목살은 육즙은 풍부해서 씹었을때 퍽퍽함은 덜하지만 기분좋은 육향은 없었다.\\n굳이 줄서서 기다리지 않아도 고기 괜찮게 하는집, 고기 평균 정도 하는 집의 맛 이랄까..\\n(지극히 개인적인 의견입니다.)', '사실 목살보다 제일 기대를 많이했던 건 꿉당의 시그니처 쌀밥이다.\\n스시쇼우키에서 배워오셨다는 이 밥!\\n개인적으로 이 밥이 진짜 대박이다.\\n꿉당은 KOKUMI 쌀밥 맛집이다!!!!\\n씹을수록 더 달고 고소한 그런 맛이였다. ', '밥 위에 고기를 올려먹으면 얼마나 맛있게요?\\n당연히 꿀맛임!!! 신사 꿀맛 인정\\n쌀밥이 너무 맛있어서 탄수화물 자제중이였는데 한그릇 더 시켰다.', '궁금해서 시켜본 꿉당 삼겹살\\n삼겹살을 1인분을 추가해보았다.\\n비계가 좀 많아보이고  목살과 마찬가지로 고기 퀄리티는 진짜 좋아보인다.', '숙련된 스킬로 샤샤샥 구워주신다.\\n요새 냉삼집이 유행했고 나도 한때 꽂혀서 자주 갔었지만\\n결국엔 이렇게 두툼한 삼겹살로 다시 돌아오게 된다.\\n꿉당도 두꺼운 삼겹살이라 마음에 들었다.', '고기를 잘 구워주셔서 인지 겉바속촉의 정석인 삼겹살로 만들어주신다.\\n목살보다는 비계때문에 좀 더 부드럽고 마찬가지로 향은 좀 아쉬웠다.\\n굳이 찾아와서 먹지 않아도 될것 같은 평범한 맛\\n(지극히 개인적은 의견입니다.)', '쌀밥을 추가했으니 당연히 된장찌개도 추가해야겠지?\\n꿉당 후기를 보니까 다들 팔도비빔면을 많이 먹던데\\n잠깐 고민하다가 쌀밥과 같이먹을 된장찌개로 결정!!!\\n팔도비빔면이나 트러플 짜파게티는 집에서도 해먹을수 있으니까', '강변 외할머니 된장찌개 8천원\\n우선 전형적인 시판용 고기집 된장찌개가 아니라서 너무 좋았다.\\n지옥처럼 뜨거웠고 양이 엄청 많다.\\n된장찌개 안에도 고기가 들어있고 두부와 야채가 있다.\\n예상대로 쌀밥과 매우 잘 어울렸고\\n점심시간에 단일메뉴로 판매하면 꼭 먹고싶은 그런 맛이였다.\\n꿉당 된장찌개 강추~!', '된장찌개가 함께하니 고기가 안느끼하고 술술 들어갔다.\\n찌개에 소주를 못먹고 온게 너무 아쉽다.\\n안주와 해장을 동시에 할 수 있는 무한 루트의 된장찌개!!\\n꿉당에 오면 쌀밥과 된장찌개는 꼭 먹어봐야 한다!', '내돈 주고 먹은 솔직 후기입니다.\\n#내돈내산', '']\n",
      "['오늘은 주말이라 세종시로 쇼핑을 갔어요!\\n친한 동생이 강추!했던 돈가스집을 갔었는데 대기 팀이 14팀..ㅠㅠ', '바로 포기하고 다른 맛집을 열심히 찾았어요!\\n맛없는거 먹고 돈 쓰고 살 찌는게 세상 가장 억울한 일이므로ㅠㅠ\\n그래서 찾은 곳이 #빠스타스 인데 여긴 이미 세종시 맛집으로 유명한 곳이더라구요. 😍\\n세종시에 빠스타스는 3군데 있어요.\\n한군데는 전화 안받고 어진점은 전화를 받아서 거기로 GoGo!!', '#세종시맛집 #세종시빠스타스 #세종빠스타스 #세종파스타 #세종시파스타맛집', '미리 전화로 예약하고 갔는데 저희 가고 바로 만석이 돼서 바로 온 다음 팀은 대기하더라고요.\\n처음 왔는데 맛집 기운이 뿜뿜🥰', '메뉴판이에요.\\n12월 세트 메뉴가 따로 있나봐요.', '직원분께 메뉴 추천을 부탁드렸더니 알리오올리오랑 까르보나라를 많이 드신대요.\\n그래서 저희는 명란로제빠네랑 풍기피자를 시켰지요..^-^;\\n왜냐면 옆 테이블에서 먹는 풍기피자가 맛있어 보이더라구요ㅋㅋ', '오픈키친이라 조리하는 모습을 다 볼 수 있어요!\\n서빙하시는 분까지 직원이 3명이었는데 말한마디 안하고 다들 바쁘셨어요.ㅋㅋ', '먹다가 탄산이 먹고싶어져서 시킨 레몬에이드!\\n피자랑 빠네만 계속 먹으니까 좀 느끼했어요.\\n근데 레몬에이드도 맛있음..❤\\n(레몬에이드에 대한 기준이 좀 까다로워요.ㅋㅋ)', '빠네랑 로제파스타를 좋아하는 편인데 명란로제파스타가 어떤 맛일지 궁금했어요.\\n다른 식당에서 빠네를 시키면 소스가 적당(?)해서 빵 찍어먹을 소스가 부족하거든요.\\n근데 여긴 소스가 넘쳐흘러 빵을 다 찍어먹고 피자도 찍어먹어도 남을 정도였어요!\\n대만족..', '풍기피자는 맛있어 보여서 시켜봤는데 제가 좋아하는 버섯이 많아서 좋았구요,\\n트러플오일을 많이 뿌렸는지 향이 넘 좋았어요.\\n집에 트러플 오일이 있는데 요리를 잘 못해서 짜파게티에 몇번 부어 먹어봤거든요ㅎㅎ\\n그래서 그런지 짜파게티 먹는 기분이 들었어요.\\n(맛있었다는 얘기임..😍👍)\\n첨에 간 돈까스집을 못가서 슬펐지만 괜찮을 정도로 맛있었어요.\\n(전 계획이 어긋나면 스트레스ㅜㅜ)\\n가격은 조금 비싼것 같지만 저랑 남편은 꽤 만족하고 나왔어요.❤\\n세종시에서 파스타 드시고 싶을 때 한번 들러보세용!']\n",
      "['', '안녕하세요:-)\\n쭈니맘 찌니에요!\\n저는 작년 10월부터 다이어트에 돌입해서\\n 12kg 감량을 했으나....\\n유지가 힘들어 최근에 3kg 다시 쪄버렸습니당ㅠㅠㅠㅠㅠㅠㅠ\\n저는 다이어트 기간에는 야식 참는게 제일 힘든부분이였는데 \\n다이어트 쇼핑몰 에잇템에서\\n야식대용으로 곤약면 알게되어\\n 주문하고 먹어보았습니다!', '밤이 되면 곤약 시리즈가\\n여러가지 맛이 있었지만 \\n저는 사천짜장맛 + 까르보나라맛\\n주문을 했습니다\\n저는 야식 대용 으로 먹을거라 \\n복잡하게 먹는건 싫은데\\n에잇템 곤약면\\n먹는방법은 정말 간단하게\\n곤약면 2번 정도 체에 헹궈주고\\n (안헹구면 곤약 냄새 무지하게 납니다ㅠㅠㅠㅠㅠㅠ)\\n분말가루 넣어서 비벼 준 후에\\n짜장은 3분 + 까르보나라 5분 \\n전자레인지에 돌려주기만 하면 끝이에여!!!\\n정말 간단하쥬?', '', '저는 에잇템 곤약면이 좋았던 점은 곤약면에\\n칼집?처럼 되어 있어서 \\n양념이 잘 베여지는 느낌이 들었고\\n두가지 모두 살짝 매콤한 맛도 느껴져서 만족한 편이에욯ㅎ!!', ' 그리고 다이어트 중 에는 칼로리를 정말 신경을\\n많이 쓰는 편인데 에잇템 곤약면은 낮은칼로리...\\n정말 행복쓰..☺☺☺☺\\n까르보나라 81 칼로리\\n짜장맛 66 칼로리\\n솔직히 식욕 폭발 하는 날 에는 \\n두개 다 먹어도 됩니닼ㅋㅋㅋㅋㅋㅋ🙊🙊', '저는 이 날 곤약면 짜장맛 + 까르보나라맛 \\n2개 모두 맛보았는데요\\n두개 같이 드시게 된다면 까르보나라 먼저 드시고 \\n짜장맛 드셔요....\\n짜장맛이 맛이 더 강해서\\n짜장맛을 먹고 까르보나라맛을 먹었더니\\n아무맛도 안ㄴ.....ㅎㅎㅎㅎ', '그리고 저는 짜장맛 먹을땐\\n트러플오일 조금 넣어서 먹습니당..ㅎㅎㅎㅎ\\n곤약면이라고 해서 툭툭 끊어지고 식감이 \\n별로 일까봐 많이 걱정했는데\\n질기지않은 당면?느낌 나서 \\n저는 맛있게 먹었습니당ㅎ.ㅎ\\n솔직히 다이어트 식품인데..\\n정말 짜파게티나 서가앤쿡 같은 까르보나라 같은 맛을\\n생각한다면...전 욕심이라고 생각합니닼ㅋㅋㅋㅋㅋ\\n늦은 저녁에 먹더라도\\n다음날 살찔 걱정 안해도되고\\n두가지 맛을 다 즐길 수 있어서\\n매우 만족해용🥰🥰\\n에잇템 곤약면 시리즈에\\n마라탕 불닭비빔도 있던데...다 먹고나면 도전해볼까 생각중입니당..ㅎㅎㅎ', '한개만 먹는 경우 저는 배가 안차서\\n곤약면 + 샐러드 + 고기\\n이렇게 먹어두 맛있고 \\n행복한 조합입니다..헿...ㅎㅎㅎ\\n더운 여름이 다가오고..옷은 얇아지니\\n다이어트 하시고 계시다면\\n야식으로 떡볶이,치킨,라면 대신\\n밤이 되면 곤약 드시는것도 괜찮을거 같아요^♡^', '다른 분들의 리뷰나 제품을 더 자세히 보시려는 분들 \\n편하시라고 링크 기재하였습니다 ㅇ_ㅇ', '']\n",
      "['대구 동성로술집 1943이 생기기전에 부산에서 처음가보았는데 안주가격도 저렴하고 맛있어서 대구에도 많이생기면 좋겟다했는데 광코도 얼마전 오픈했다네요 ~ 나이스!!\\n지난주말 저희커플은 1943동성로점 다녀왔어요~ 솔직후기와 좋았던 메뉴 추천해드릴게요', 'CNS24 편의점 2층에 위치해있어요!\\n주차는 유료주차장을 이용하셔야될듯합니다~', '내부는 엄청넓어요 천장도높아서 답답하지않고 시원시원한 느낌입니다~조명도 이뻐요!!\\n동성로 핫플답게 일요일인데 손님들이 엄청많았어요.', '저희들은 마지막남은 창가쪽 자리로 착석!!!\\n술먹으면서 사람들지나가는거 구경하는재미?\\nㅋㅋㅋㅋㅋ', '대구 동성로술집은 대부분입장할때 도장을 찍어주더라구요~ 밑에사진은 3차로 치치 갔을때 도장찍음 ㅋㅋㅋ', '대구 동성로술집 1943 메뉴판 입니다.\\n가격대가 저렴한편이에요~ 저희가 여러번 방문해서 안주도 다양하게먹어봤는데\\n저렴하다고해서 양이 적거나 퀄리티가 떨어지지않았어요.이날 2차로 온거라서\\n생맥주500 두잔이랑 마시멜로아이스크림 으로 주문했어요! ', '첫스타트는 생맥주~바로원샷후 \\n진로 주문!ㅋㅋㅋ', '1943 메뉴추천 마시멜로아이스크림(6900원)\\n가격도저렴하고 가볍게먹기좋은 안주에요~\\n2차로 주로와서그런지 이런메뉴들이 배도안부르고 아이스크림이라서 맛도있어요^^', '방울토마토,찹쌀떡,가운데 네모난게 마시멜로 아이스크림이에요 ㅎㅎ 부드럽고 달달함!', '이런안주들은 자극적이지않고 살도안쪄요!!\\n여자들이 좋아할수밖에없는  1943추천메뉴입니다 무조건 드세요!!!', '1943 메뉴추천 트러플짜파게티(7900원)\\n나혼자산다 화사의 먹방이화제되면서 유명해진 트러플짜파게티!소세지,치즈와 트러플오일이 들어가서 살짝 느끼할수있지만 술안주로 먹기엔 최고인듯', '트러플짜파게티 먹기전골고루 비벼줍니다~\\n그리고 흡입~ㅋㅋ 진짜 완전존맛ㅠㅠ\\n다먹은뒤에도 계속생각나는 맛...\\n사진에는없지만 연유큐브수박도 추천!!\\n개인기준 1943 메뉴추천 정리를하자면\\n1,마시멜로아이스크림\\n2,트러플짜파게티\\n3,연유큐브수박 \\n대구 동성로술집 1943 후기끝!\\n다음에는 집이랑가까운 1943광코점으로 가야겠어요 ㅎㅎ']\n",
      "['오늘은 날씨가 조금 쌀쌀하네요~~ \\n어제까지만 해도 반팔을 입고 돌아다닐 정도로 더웠는데 말이에요. ㅎㅎ\\n예전에 다녀온 부산기장힐튼맛집 볼피노 후기를 포스팅해볼까 합니다.\\n겨울 느즈막에 다녀와서 지금과 계절감이 살짝 다르긴 하지만 이해해주세요~ ', '부산기장힐튼은 굳이 숙박을 안 해도 출입이 가능해서 좋다. \\n하지만 주차시간이 굉장히 야박한 편... 5만원에 1시간 무료라니. ㅂㄷㅂㄷ \\n뭐 숙박객들을 위해 외부인 제한을 해야하니 이해는 하지만..\\n어쩐지 힐튼 들어오는 입구에서부터 차가 양 옆으로 주차되어 있더라니. ㅋㅋ \\n한창 기장힐튼이 유명할 때 다녀온 볼피노. \\n서울의 유명한 쉐프가 오픈한 레스토랑이라고 한다. \\n트러플파스타가 유명하다길래 무슨맛인지 궁금하여 방문.', '부산기장힐튼 위치가 처음에는 왜 그런 구석탱이에 짓나 했는데 직접 와보니 알겠다.\\n바다색도 이쁘고 자주 오던 기장이지만 여긴 좀 휴양지같은 느낌이 난다. \\n부산사람이지만 그냥 하루 쉬러오기에도 좋을 것 같은.', '식전빵 대신 나온 프로슈토.\\n그냥 짜고 바삭하다. ㅋㅋ', '에피타이저로 시킨 브루스게따.\\n밑에 바질이 깔려있다. 바삭하고 맛있음. 바질맛 좋아해서 내 입에 잘 맞음.', '요것이 트러플 파스타. \\n메뉴에서는 트러플 타야린.\\n비쥬얼은 짜파게티처럼 나왔네....\\n한 입 먹어보니 아 이게 바로 트러플 맛이구나 이런 느낌..? ㅋㅋㅋ \\n뭔가 찐득하고 꼬릿한 맛 ㅋㅋ \\n집에 트러플소금도 있는데 그거랑은 또 다른 맛. \\n계속 먹다보니 적응되서 맛있음.', '스파이시 보드카 토마토 리가토니.\\n이름도 길다. \\n개인적으로 면은 스파게티니를 좋아해서.. 살짝 고급진 떡볶이 비쥬얼. ㅋㅋ \\n요것도 바질향이 잘 배여있고 , 누구나 먹기쉬운 무난한 맛.\\n그렇게 맵지는 않았다.', '와인이랑 먹었어야 했나..\\n사진보니 조금 느끼해 보이는 음식들.', '경치 감상. 날씨가 좋아서 그런지 뷰가 너무 멋있게 나온다.', '다 먹고 테라스에 나와서 또 다시 기장바다 경치감상.', '부산기장힐튼 볼피노 입구 타일이 맘에 들어서 한 컷. ', '평일 겨울이라 쌀쌀해서 그런지 사람도 별로 없다.\\n여름에 와서 커피 한 잔 하면 참 좋겠네.\\n다음엔 숙박을 해야지.', '살짝 느끼해진 속을 커피로 달래주고...\\n이집 커피 비싸다. 라떼를 먹어봤는데, 생각보단 그냥 그랬다.', '이국적으로 나온 사진!!\\n다음엔 진짜 하루 숙박해봐야지 ~!\\n이상 부산기장힐튼 볼피노 내 돈주고 사먹은 솔직후기였습니다.']\n",
      "['', '수비니가 혜화에 놀러온 기념으로\\n나도 한 번도 안가본 곳에서 저녁먹기로했다\\n요즘 인별에서 핫한 음식점인 장고상회로 결정!\\n사실 입구쪽 분위기가 이뻐서 끌렸음', '내부는 의외로 복고스타일(?)이었다\\n내스타일과 전혀 반대였지만 \\n분위기는 나쁘지않았으므로 일단 착석', '타르타르(육회), 곱창부대찌개,  트러플오일짜파게티...\\n일반적인 다이닝펍에서는 볼 수 없는 \\n다양하고 독특한 음식들', '일단 배맛막걸리부터 와인잔에 짠\\n맛은 음^^ 취향갈릴 맛이랄까\\n그냥 장×생막걸리가 나은듯', '우리가 시킨 훈제오리구이&쳐트니와\\n트러플오일 짜파게티\\n훈제오리구이 양 실화입니까..?\\n이마트에서 9900원짜리사도 저것보단 많은데\\n물론 데코값 자리세 소스 등 추가 비용이 있지만..\\n하지만 고기는 다 맛있으니까...', '갠적으로 트러플향 싫어하는데 \\n친구가 넘 먹고싶어해서 주문했다\\n그래도 이 짜파게티는 먹을만했다 맛있었음\\n근데 가성비가 다 죽어버렸슴다--; \\n양이 너무 코딱지임', '그리고 샹그리아 추가주문\\n한 잔에 6.5\\n막걸리가 더 나았다...', '육회가 먹고싶다면 근처 광장시장으로 갔어야...\\n일단 육회전문점이 아닌지라 당연히 광장시장같은\\n생고기의 부드럽고 쫄깃한 식감을 기대하긴 힘들겠지만\\n그래도 비쥬얼에 비해 좀 실망스러운 맛이었다', '분위기때문에 데이트코스로 많이 오는 것 같은데\\n배채우려고 오는게 아니라 가볍게 한잔씩만\\n하러오기에는 괜찮을 것 같다\\n식사하려고 각잡고 오는건 좀...비추^^\\n먹어도 먹어도 배고프기때문에\\n계속 시켜먹다가 영수증 받으면 기절할 수 있음']\n",
      "['글램핑클럽레스피아 \\nin포천백운계곡', '경기 포천시 이동면 화동로 2440-36', '코로나때문에 자가격리하고 여행도 취소되고 하는 요즘 사회적 거리두기를 실천하라고 하루에도 몇번씩 재난문자가 와서 취소할까 말까 고민했던 그 캠핑\\n우여곡절 끝에 그래도 어렵게 맞춘 시간인지라 강행하기로 하고 포천으로 출발!\\n내 인생 첫 캠핑이라 떨렸고\\n코로나때문에 떨렸고\\n여러모로 떨리는 캠핑이였다.', '친구들과 서울 근교 글램핑, 서울 근교 캠핑을 알아보다가 오게된 포천에 있는 글램핑클럽레스피아\\n캠핑이 처음이라 장비도 없고 아직 날이 춥기도 해서 포천 글램핑으로 첫 시작을 해봤는데 꽤 재밌었다.\\n포천 이마트에서 장을 보고 약 40분거리를 더 달려 글램핑클럽레스피아 in포천백운계곡 에 도착했다.\\n서울에서 포천 이마트 까지는 40분정도 밖에 안걸려서 진짜 가깝다고 생각했는데 이마트에서 40분정도 더 들어갔으니 2시간 이내로 도착할 수 있다.', '이게 포천 백운계곡인가..\\n물이 엄청 맑았다.\\n아직 계곡물이 차가울텐데 벌써 계곡물 안에 들어가서 고둥같은걸 잡으시는 분들이 계셨다.\\n나는 발을 담궈볼 엄두도 안남..^^...\\n여름에 놀러와서 포천백운계곡에서 놀고 쉬다가 고기구워먹고 하면 재밌긴 하겠다. \\n근데 여름엔 벌레를 어떡하지...하...', '생각보다 규모가 엄청 컸던 포천 글램핑클럽레스피아\\n글램핑텐트 말고도 캐러반도 있고 일반 숙소(?) 같은 것도 있는것 같았다.\\n체크인이 3시였는데 다른 후기를 보니  화장실 근처는 시끄럽다고 피하라길래 30분정도 일찍 도착했는데 아직 정리가 덜 됐다고 기다리라고 하셨다.\\n3시가 가까워지니 글램핑장으로 차들이 엄청 들어왔다.\\n다들 후기를 보고 좋은 자리 선점하려 일찍 오는 것 같은 느낌적인 느낌이 들었다.', '우리는 네이버예약 1+1 으로 예약을 하고 가서 일행이랑 옆 텐트로 할 경우엔 만실이라 선택권이 없다고 사장님께서 주시는대로 배정받았다.\\n괜히 어디가 좋을지 고민함ㅋㅋㅋ\\n주말에도 네이버예약 1+1이 돼요? 라고 사장님이 오히려 물어보셔서 정말 당황스러웠지만...\\n예약이 되니까 왔는걸요?...\\n배정받은 텐트는 화장실 바로 옆은 아니고 뒷편 이였는데 생각보다 시끄럽다는 느낌은 받지 못했다. \\n(이건 내가 취해서 일수도^_^...)', '포천 글램핑클럽레스피아 텐트 안에 냉장고가 있나 없나 궁금했는데 다행히 있었다.\\n냉동은 안되고 냉장만 된다.', '이런 공용시설은 대부분 비위생적이라 내심 걱정했는데 생각보다 깨끗했다. \\n세제랑 수세미도 있었는데 다음번에 간다면 수세미랑 고무장갑은 챙겨가야겠단 생각이 들었다.\\n수세미는 괜히 내가 찝찝해서, \\n고무장갑은 온수 나오는 개수대가 한정적이라 손시려워서...그리고 설거지 할 일이 많아서...하\\n이번 글램핑때 젤 잘한일은 바로 \\n‼️일회용품 많이 가져간 것‼️\\n환경을 생각해서 평소 일회용품 사용을 지양하고 있지만 이런곳에선 위생을 위해서라도 일회용품을 부득이하게 쓰는게 좋을 것 같다.\\n준비된 식기류가 기본적으로 세척이 잘 안되어있다.\\n집에 돌아가는 사람들이 정리하고 가기때문에 설거지를 대충할거라 생각한다. 이부분은 어쩔수없다고 생각하지만서도 크게 눈에 띄는 이물질이 묻은 집게나 접시류는 그래도 업체 측에서 걸러주셨으면 좀 덜 찝찝했을텐데..\\n나무젓가락, 종이컵, 일회용 숟가락 등등 많이 챙겨간게 정말 신의 한수^^..', '화장실에 휴지가 없을까봐 두루마리 휴지도 사실 챙겨갔었는데 다행히 휴지는 있었고, 아무래도 공용이다보니 밤이되면 휴지통이 넘쳐서 더러워진다.\\n휴지는 화장실 칸마다 다 있는게 아니여서 그래도 챙겨가는게 좋은 듯!!!\\n화장실도 생각보다 깨끗한 편!', '관리실에서 바베큐에 필요한 장작, 숯, 그릴부터 부탄가스, 라면, 칫솔, 세면도구 등등 다양하게 판매중이고 현금만 가능하다고 한다.\\n나는 이런데 놀러와서 괜히 비싸게 돈주고 사는게 너무 아까워서 바리바리 철저하게 챙겨갔다.\\n내가 생각해봐도 이번 여행 준비가 너무 철저했다.\\n‼️부탄가스 꼭 챙기세요‼️\\n가스 버너는 있는데 부탄가스는 없음', '대충 짐을 풀고 점심을 안먹은지라 배채우기\\n트러플오일도 챙겨가서 트러플 짜파게티를 끓여먹는 치밀함과 철저함^^\\n(페페론치노도 가져갔으니 철저함 말해뭐해ㅎ)', '마켓컬리에서 주문한 쭈꾸미 볶음도 성공적!!\\n이마트에서 산 콩나물도 듬뿍 넣고 우삼겹도 넣어서 쭈꾸미삼겹살을 금방 완성했다.', '캠핑에서 고기만 구워먹지말고 요새 밀키트 잘나오니까 이런거 가져가면 너무 편함!!\\n야채만 추가로 더 넣으면 맛도 좋고 비주얼도 좋고.\\n역시 내사랑 마켓컬리 💜', '깻잎위에 쌈무 얹고 쭈꾸미 얹으니 환상적이다.\\n가뜩이나 쭈꾸미를 오랜만에 먹는데 포천 글램핑클럽레스피아에 와서 야외에 앉아 먹으니 더 맛있었다.\\n정말 꿀맛이였다!!\\n친구가 만들어온 저 소스랑 궁합도 좋았다.', '쭈삼 다먹었으면 볶음밥 당연히 말해뭐해\\n햇반 넣고 볶볶\\n볶음밥까지 먹으니 이게 바로 찐행복이다.\\n아, 전자레인지는 개수대 있는 쪽에 딱1대 있다.\\n그래서 전자레인지 경쟁이 치열했다.', '낮부터 술 마시기^_^...\\n낮이니까 가볍게 맥주로 시작했다.\\n우리 넷다 술 좋아해서 천만다행이야 너무 잘맞아서!\\n(깨알 보이는 짜파게티 속에 삶은달걀... \\n또 나오는 나의 철저함ㅋㅋㅋ)', '밥도 두둑히 먹었겠다 꼭 필요한 낮잠 타임!\\n이불도 생각보다 두툼한 이불이고 전기장판이 있어서 그나마 다행이였다.\\n낮에 누워있을땐 몰랐는데 밤엔 진짜 추웠다.\\n나는 너무 추울까봐 롱패딩을 침낭처럼 입고자려고 챙겨갔고, 엉덩이만 데울수 있는 미니전기장판(거의 찜질기)도 챙겨갔다.\\n아 그리고 추위를 많이 타서 발 시려울까봐 챙겨간 수면양말도 너무 잘 가져간 물건 중 하나였다.\\n(다시 생각해도 너무 철저히 준비했네) ', '낮잠자고 일어나서 장작불 피우기\\n훨훨 잘 타라고 신문지도 넣어줬다.\\n처음에 불이 잘 안붙어서 뭐지?뭐지? 했는데\\n부채질을 안해서 장작에 불이 잘 안붙었었다.\\n불피울때 부채질은 필수!!', '화르르 타오른 장작\\n장작 타는거 보면서 요새 유행(?)한다는 불멍도 한 번 때리고.. 이런 감성 너무 좋다.\\n근데 다음날 샤워를 해도 내 몸에서 불냄새, 장작타는 냄새 나는것 같은건 착각인가ㅋㅋㅋ\\n그래도 장작불 덕분에 난로 없이도 따뜻했다.', '글램핑클럽레스피아에 사실 난로도 있긴하다.\\n난로 대여비는 25,000원인데 잘못하면 일산화탄소 중독 될수도 있고, 사고났다는 기사를 많이 보고 너무 위험해서 애초에 빌릴 생각조차 안했다. \\n(내 목숨 소중해)', '본격적으로 캠핑의 묘미!\\n바베큐 시작~!\\n글램핑클럽레스피아 네이버 예약으로 예약할때 같이 하면 추가 5,000원 할인해준다고 해서 예약했는데, 정확하진 않지만 그냥 현장결제 했어도 3만원 받는 것 같다.', '목살부터 찐하게 시작!\\n포천 이마트에서 시즈닝된 목살을 샀는데 이 목살은 생각보다 별로 였다.\\n그래도 야외 바베큐 is 뭔들....', '삼겹살이 역시 진리였다.\\n삼겹살은 우리를 역시 배신하지 않지.', '잘 안익는것 같아 토치로 고기를 익혀보았다.\\n토치로 쉐프처럼 익혀보기.\\n괜히 토치 욕심나네.\\n하나 사서 집에서 쓰고싶었다.', '숯 양이 생각보다 적고 금방 불이 약해졌다.\\n삼겹살부터 잘 안익는것 같길래 장작을 하나 넣어줬더니 이렇게 화르르....\\n(손에 불붙은거 아님ㅋㅋㅋㅋ)', '와씨 화력 대박\\n장작 하나가 이렇게 강력할줄이야\\n고기 구울때 장작 넣는 거 웬만하면 비추..\\n장점은 추위를 느낄세가 없다는 것', '화장실 가며 찍어본 시네마 글램핑\\n포천 글램핑클럽레스피아 시네마 글램핑도 좋아보였다.\\n다음에 남자친구랑 둘이 온다면 시네마글램핑으로 예약해야지! 뭔가 운치있는 빔프로젝터.', '다들 오손도손 너무 즐거워 보였다.\\n밤이 되고 조명이 들어오니 더욱 예뻐 보이는 글램핑클럽레스피아 in포천백운계곡', '바베큐 끝내고 2차전 시작\\n2차도 역시 마켓컬리에서 주문한 곱창전골.\\n곱창전골에 알배추와 버섯, 청양고추는 따로 추가했는데 배추가 진짜 국물 맛을 더 좋게 해주어 소주 안주로 딱이였다.', '바람때문에 가스버너 위에서 잘 안끓길래 이젠 냄비째로 장작 속으로 go...go....!\\n불맛이 더해져서 인지 더 맛있었다.\\n아 다시 먹고싶다.\\n곱창에 곱도 실하고 진짜 국물이 대박이였는데..', '장작의 화력이 맛을 한번 보고나니 가스버너로는 채워지지 않는 끊을수 없는 매력의 마성의 장작.\\n남은 삼겹살을 젓가락에 꽂아서 리얼 바베큐처럼 익혀주었다. 이렇게 하니까 기름도 쫙 빠지고 겉은 바삭 속은 촉촉해서 그냥 그릴 위에 굽는거보다 훨씬 맛있었다.', '그럼 이번엔 새우를 구워볼까?\\n화력이 쌔서 새우는 진짜 금방 익었다.\\n새우껍질까지 먹어도 될 정도로 새우가 바삭바삭하게 잘 익어서 맛있게 먹었다.', '그리고 대망의 하이라이트는 바로 고구마.\\n고구마를 호일에 싸서 장작안에서 오랫동안 익혔다.\\n배가 엄청 부른데도 이 고구마는 잘 들어갔다.\\n새우 버터구이 해먹으려고 챙겨간 버터를 고구마에 써먹을 줄이야!!! 정말 환상이야...🥰\\n마지막은 신라면으로 마무리를 하고 씻고 취침했다.\\n씻는게 조금 불편하긴 했어도, 아침에 일어나서 숙취가 있는 상태로 밤새 어지른걸 치우는게 참 곤욕스러웠지만 친구들과 좋은 추억을 만들 수 있었던 나의 첫 글램핑! \\n대성공 ⛺\\n다음엔 실전이다.']\n",
      "['(내돈내산 솔직후기)\\n안녕하세요! ', '오늘 포스팅할 것은 ', '입니다!', '내용물은 이렇게 사리면, 어묵 건더기, 떡, 짜빠게티 라볶이 소스가 있습니다!', '뒷면에는 조리방법과 영양 정보가 적혀 있어요!\\n소스를 따로 만들지 않아도 돼서 조리방법은 정말 간단합니다!', '먼저, 물을 끓일때 떡을 같이 넣고, 물이 끓으면 면을 넣습니다!', '다음, 짜파게티맛 국물라볶이 소스를 넣습니다!', '그리고~~  \\n쉐킷쉐킷!!\\n저어 줍니다!', '그럼, 완성입니다~~!!', '완성까지 시간이 별로 안 걸렸는데 윤기도 나고 정말 맛있어 보이지 않나요?\\n다만 아쉬운 점은 어묵 건더기에서 비린 향이 나서 넣지 않았어요ㅠㅠ ', '그래도 충분히 맛있어 보입니다!', '짜파게티 역시~~!\\n 고춧가루 그리고 트러플 오일이죠!!\\n고춧가루는 원래부터 뿌려 먹는 거고,\\n 트러플 오일은  뿌려 먹으니까 레스토랑 고급음식이 되었어요!!\\n😆\\n이상 잘 먹었습니다!!', '(트러플 오일 포스팅)', '#짜파게티 #짜파게티라볶이 #라볶이키트 #라볶이만들기 #짜파게티라볶이만들기 #라볶이간단하게만들기 #농심짜빠게티']\n",
      "['두근두근 설레는 불금에 친구와 함께\\n핫하다는 혜화 장고상회에 다녀왔어요~~', '입구는 너무나 예쁜데....\\n그런데...\\n몫을 다하지 못한 저의 카메라 입니다.\\n정말 눈에 띌 정도로 아기자기 예쁘답니다. ', '사진이 다 왜.......\\n앞뜰이 예뻐서 여기서 사진 찍는 여자분들도 많았어요!\\n앞으로는 디지털카메라를 좀 가지고 다녀야겠어요 ㅠㅠ \\n다행히 웨이팅은 없었고 안쪽으로 들어갔습니다.', '너무나 예쁜 조명과 물병♥\\n분위기가 앤틱하면서 참 신비로웠어요\\n저희가 앉았던 끝자리가 유독 예뻤다고 생각합니다 ㅎㅎ ', '앞접시는 이렇게 셋팅이 되어요~\\n친구 기다리면서 이제 음식을 골라봐야죠!\\n이때 배가 너무나 고팠어요~~~ ', '메뉴판입니다!\\n미리 봤던 대로 정말 메뉴가 비범하네요 ㅋㅋ\\n술안주류도 있고 식사류도 있습니다\\n뭔가 식당인듯 술집인듯 애매~~하네요', '술 종류도 이렇게 많아요!\\n친구랑 술한잔 하기에 참 좋은 곳인 것 같다고 생각했습니다', 'SNS 이벤트도 하고 있으니 SNS 있으신 분들은\\n적극적으로 참여 하셔요~~~ ^_^', '어둡고 조용한 분위기의 장고상회', '친구는 언제 올까....(주문해놓고 기다리는 중)\\n저는 명란로제수제고로케, 트러플오일짜파게티를 주문했습니다~~~', '명란로제수제고로케~~~~~~~\\n정말 기대 이상으로 너무 맛있었어요!!!\\n로제소스와 명란과 함께 먹는 고로케~~ 굿굿!!! :)', '트러플오일짜파게티ㅋㅋㅋ\\n사실 그냥 짜파게티와 큰 차이 없었지만\\n단맛이 좀더 나고 계란을 추가한 정도?\\n두 명이 먹는데 고로케 하나씩이랑 짜파게티 하나로 배 안차죠!!!\\n배고팠어요!!!\\n그래서  \\n해산물사골떡볶이를 추가로 주문했습니다', '해산물사골떡볶이\\n비쥬얼과 향은 감탄을 자아냈습니다\\n그런데 왜케... 쪼꼬미야.... \\nㅠㅠㅠㅠㅠ 우리 배부르게 먹고싶다고요', '해산물사골떡볶이까지 다 먹어치우고\\n부르지 않은 배를 잡고 나왔습니....ㅋㅋㅋㅋ\\n(저만 그럴수도...)_\\n솔직히 저희처럼 식사만 하러 가실 분들은\\n그렇게 좋은 선택지는 아닌 것 같아요!\\n메뉴가 식사로 할만한 것은 별로 없고 안주류가 많더라고요.\\n가성비는 좀 떨어지는 것 같아요~\\n그리고 해물사골떡볶이는 비추!!!!\\n떡에 간이 제대로 안베어있고 양도 적고 해물양도 별로 없어요! \\n소규모로 술한잔 하실 분들에게는 추천!!!\\n다음에 또 간다면 곱창부대찌개를 꼭 먹어보고 싶네용♥\\n위치는 요기!', '']\n",
      "['안녕하세요 IK입니다.\\n요즘 롯데리아가 갓데리아 라는 소문을 듣고\\n청량리역에 위치한 롯데리아로 향했습니다.\\n물론 이거 먹으러간건 아니구 ㅎ \\n갈 일이 있어서 갔다가 생각나서 들르게 되었네요.\\n경포는 고소한 맛만 먹어봤는데 엄청 맛있다 하더라구요.\\n두 가지 맛 다 너무 궁금해가지구 그냥 두 개 다 사야겠다!\\n마음 먹고 갔습니당.\\n생각보다 손님이 매장에 많아서 놀랐어요 \\n진짜 갓데리아인가 싶기고 하고 ㅋㅋㅋㅋㅋ\\n아우 주변에 맥도날드나 버거킹이 사라져서.. ㅠ\\n있었으면 가끔 갔을텐데\\n저희 학교 근처에는 맘스터치만 2개에여\\n롯데리아도 청량리역까지 나와야하니 어후..\\n어쨌든 그렇습니다.\\n롯데리아 지파이 고소한 맛과 하바네로 맛 먹은 후기\\n바로 시작합니다.', '#롯데리아 #롯데리아지파이 #롯데리아지파이고소한맛 #롯데리아지파이하바네로맛\\n#지파이고소한맛 #지파이하바네로맛', '혼자 쭈루루룩 가서 사진을 찍어봅니다 ㅋㅋㅋ\\n버거 실험실이라는데요?\\n다른 뜻이 있낭?\\n어쨌든 손님이 많아서 분주한 실험실입니다.', '요즘은 진짜 키오스크 없는데가 없어유\\n특히 이런 체인들은 다 있는거 같아요.\\n제가 먹을 메뉴는요~?~ \\n지파이 고소한맛(3,400)과 하바네로맛(4,300)\\n여기에 어니언 시즈닝(200) 하나 추가하구용\\n집에 가져가야해서 종이백(100)도 하나 추가했어용\\n이왕이면 뭐 하나 들고가시길..\\n전 계획에 없던 구매였어서 가방 들고 갈 생각을 못했어유', '넹\\n저는 126번 대기번호를 받았어용\\n갑자기 영수증에 부가세를 보니 지난 학기에 들었던\\n현대사회와 세금의 이해라는 과목이 막 떠오르는데요.\\n부가가치세는 원래 금액에 1/10이 붙는거라\\n우리가 구매하는 금액에는 1/11하면 부가가치세를 \\n알 수 있답니다~ 참고해주세용\\n단체주문 환영이고 최대 20%할인되고 캔콜라 무료로 주신다고 하니 근처 학교나 학원 참고해주세요~!~', '생각보다 금방나왔어요.\\n후딱 들고 집으로 버스타고 돌아왔습니다.\\n엊그제 배송시킨 트러플 짜파게티와 함께 먹어볼 건데요.\\n트러플 짜파게티는 따로 포스팅할 예정이라 \\n여기서는 롯데리아 지파이 고소한맛과 하바네로맛을\\n중점적으로 포스팅할게요 ㅎ', '종이백에서 꺼내봤습니다.\\n야무지게 어니언 시즈닝은 종지에 담아주구용\\n마음같아선 장갑끼구 그냥 와구와구 먹고싶지만\\n혼자서 그렇게 먹으면서 사진찍기믄 어려우닝\\n가위로 잘라서 먹어볼게용 ㅎ', '롯데리아 두 종류의 지파이를 크기와 모양 색깔\\n자세히 보려드리기 위해 영상으로 가져와봤어용\\n겉 표지에 있는 사진을 보면 참 광고를 잘한거같아요.\\n작은 얼굴을 가진 여성의 얼굴만하다!! 이런느낌의 광고!\\n제 얼굴보다 훨씬 작아서 그냥 안찍었어요.', '저는 그래서 가위로 아주 조금 자른 지파이를\\n제 손바닥에 올려보았는데요.\\n손을 그냥 다 덮었네요 ㅎ\\n이렇게 크다니.. 아니 근데 개 뜨거워요..\\n집에 오는데 식지도 않고 유지되네요.\\n진짜 주문 들어가면 바로 튀기시나봐요.\\n요건 지파이 고소한 맛인데 지파이 하바네로맛은 더 커요.\\n1.2~3배정도 더 큰거 같아요.\\n단지 매콤해서 비싼게 아니라 \\n크기도 더 커서 그런듯 합니다.', '일단 이렇게 맛을 힌번씩 봐보기 위해 조금씩 잘랐구요.\\n한 번 먹어보겠습니당\\n이거 먹고 쭉 잘라볼게용', '고소한 맛은 어니언 시즈닝에 살짝 직어서 한입 먹고\\n절반은 그냥 먹어봤는데요.\\n음.. 뜨거워서 일단 맛있구요. \\n겉은 바삭한데 속이 부드러워요. 정말 잘 만들었네요.\\n개인적으로는 하바네로 맛이 더 좋았어요.\\n매콤하지 않은듯 꽤 매워요 \\n중독되는 그 맛 잊을 수 없엉~\\n누구든 맛을 보면 이렇게!!!', '자르는 영상이 짱이지만 \\n손이 2개인 관계로\\n잘라놓은것만 보여드릴게용\\n하바네로맛과 고소한 맛이 섞여있지만 \\n색으로 딱 구분되쥬~\\n더 빨간게 하바네로~', '이게 무슨 영상인지 기억이 안나여..\\n사진만 올려놓고 글을 안쓰고 있다가 쓰려니\\nㅋㅋㅋㅋㅋㅋㅋ\\n뭐 지파이 영상입니다. \\n제 기억으론 먹는 걸 보여주는거지 않을까.', '네 다 먹었습니당.\\n금방 먹네여.\\n롯데리아 지파이 요약하겠습니다.\\n1. 주문 직후 조리해서인지 집가져와서 먹었는데도\\n뜨거운게 유지됐고 겉은 바삭 속은 촉촉해서 \\n완전 기대이상이었다. 갓데리아 \\n2. 개인적으로 하바네로맛이 고소한맛보다 더 맛있었다.\\n요즘 매콤한게 조금씩 좋아지고 있어서 그른강..?\\n다음번엔 하바네로맛만 사먹을 예정이다.\\n3. 롯데리아 빙수도 한번 먹어보고 싶은데\\n가성비라는 소문이!?!\\n다음 롯데리아 포스팅으로 결정!\\n(이미 올라갔네요 ㅋㅋ)\\n입니다. 감사합니다.']\n",
      "['#자이글, #자이글파티스페셜, #자이글스페셜, #자이글파티', '말 그대로 솔직 후기이며\\n누구에게서 제품 제공이라던가 받은 것 없이 포스팅하는 것이다.\\n그래, 미리 이 포스팅의 목적을 말하자면\\n\"중고\"로 팔기 전에\\n자이글 파티 스페셜에 대해 포스팅 작성해 보는 것이다.\\n포스팅 작성하고 있는\\n2019년 6월 중순 경\\n네이버 쇼핑 최저가로 138,170원이 있는데\\n배송비가 10000원인 것을 생각하자\\n그러니까 평균적으로 15만 원 전후로 구입하게 되는 제품이고\\n이걸 제대로 쓰기 위해서는\\n각 용도에 맞는 팬 추가 구입이 필수적이다.\\n(보통 15만 원 중반대가 팬 2종, 17만 원대가 팬 3종이 들어가는 듯싶더라)', '집 한구석을 차지하고 있는 자이글 스페셜 파티\\n홈쇼핑을 통해 구입 가능하며\\n본 제품은 별도 재판매가 금지된(불가한) 제품입니다.\\n모델명은 ZG-KR2051A 가정용 제품이다.\\n그거야 이걸 홈쇼핑에서 싸게 구입해서\\n타 매장에 가져다 두고 비싸게 파는\\n그러지 말란 거지\\n개인 중고 거래를 막는 법은 어디에도 없다 ㅋ\\n이게 선물 받은 지 약 한 달이 넘어가는 것 같은데\\n처음에야 신기하다고 이것저것 해먹으려 했으나\\n귀차니즘 때문에 딱 2번 해 먹고\\n이번 포스팅을 위해 소시지 구운 것까지 총 3번 사용하였다.\\n사실 그렇게 불필요하다, 쓸모없다 그런 것은 아니고\\n미리 결론을 말하자면\\n난 집에 에어프라이어가 있는데\\n그걸 쓰는 게 더 편하기 때문에\\n굳이 자이글을 사용하지 않게 되더라\\n그렇다고 가만히 두게 되면 장소만 차지하는 것이고\\n중고로 팔아서 아기 분유값이라도 벌 생각으로 ㅎㅎ', '원래는 자이글을 감싸고 있는 스티로폼이 있어야 하는데\\n청소하다가 버려 버렸다.\\n만약 택배를 원하시는 분이 계시다면\\n뾱뾱이 잔뜩 넣어서 안전하게 배송해야지', '김혜수 자이글 요리 추천 가이드\\n자이글로 만드는 추천 요리에서부터\\n안전에 관한 경고 표지와\\n자이글 파티, 자이글 스페셜 사용설명서\\n그리고 간편 사용설명서까지 들어 있었다.', '그래서 자이글이 무엇인고 하니\\n집에서 연기 안 나게 고기를 구울 수 있는 전용 기구라고 생각하면 될 듯싶다.\\n이게 연도별로 모델이 조금씩 차이가 있는데\\n최신 2019년 모델은 상부 열팬이 회전이 가능하기 때문에\\n좀 더 편하고, 안전하게 사용이 가능한 것으로 알려져 있다.', '일단 가장 밑에는 기름 받이가 있어서\\n기름이 많은 고기를 구울 때는 미리 물을 살짝 부어두면\\n설거지를 좀 더 편하게 할 수 있고\\n가장 기본적으로 들어 있는 구이팬은\\n가운데로 살짝 파져 있으면서 홈이 있기 때문에\\n그곳으로 기름이 빠져나가게 된다.\\n기본 팬 말고도 이런저런 팬들이 있는데\\n각 용도에 맞게 구입해서 사용하면 될 것 같았다.\\n현재 기본 팬으로는 연기 없이, 기름기를 제거해주며 재료, 고기를 굽는데 특화되어 있다.\\n고기뿐 아니라 야채 등도 함께 구워주는 것이 당연히 가능하다.\\n자이글은 아래쪽 열선과 위쪽 적외선을 이용해 팬 위의 재료를 익혀주는데\\n위아래로 동시에 익혀주기 때문에 재료를 좀 더 빨리 조리해주는 장점도 있다.', '조절은 간단.\\n전원 코드를 연결 후에\\n1단, 2단으로 변경만 해주면 된다.\\n1단은 위에 상부 적외선만 가동되며\\n2단은 상부 적외선 및 하부 열선까지 동시에 가열된다.', '이 날 구워 먹은 소시지는\\n집 근처 마트에서 5천 원에 샀던가?\\n정확히 기억은 나지 않는데 여간 엄청 싸게 샀다.\\n거의.. 장사하는 사람들 도매로 구입하는 가격? ㅎㅎ\\n저걸 사서 핫도그 해 먹기 딱 좋은 느낌의 소시지였고', '어떻게 제대로 작동하는 것을 한 번 찍어봐야 하지 않겠어? ㅎㅎ\\n1단으로 스위치를 돌리면 상부 적외선이 켜지고\\n그 적외선부를 회전이 가능하게 되어 있어서\\n옆으로 돌리면 그 적외선이 안전을 위해 꺼지게 된다.\\n2단으로 돌리면 상부 적외선 및 하부 열선이 켜지고\\n마찬가지로 상부를 돌렸을 때 상부 적외선이 종료된다.\\n(아마 하부 열선은 계속 작동하는 것으로 알고 있다.)', '그래서 소세지를 올려놓고 구워주는 데\\n사실 이건 고기를 굽는 것에 가장 특화되어 있다\\n실내에서 연기(냄새) 안 나고, 기름 안 튀고\\n무엇보다 위, 아래 동시 가열하기 때문에\\n그냥 아래 한쪽만 가열하는 팬보다 빨리 익는다.', '그렇게 구워진 소세지 구이 위로 계란 반숙 하나', '이게 어제 점심으로 먹은 건데\\n소시지 6개로 배가 차겠어??\\n짜파게티,\\n트러플 오일을 넣어서\\n화사 트러플 짜파게티를 만들어 먹었다.\\n거기에 청경채도 함께 넣어주었고', '이게 요리 완성본? ㅎㅎㅎ\\n앞서 계속해서 이야기했듯\\n기름 잘 빠지고, 그러면서 설거지도 꽤 편하게 할 수 있다.\\n거기에 아예 안 나는 것은 아니지만\\n일반적인 팬에 굽는 것보다 연기도 적게 난다.\\n마찬가지로 냄새도 적게 난다.\\n하지만 개인적으로는 에어프라이어를 선호하는 것이\\n그냥 넣고 온도, 시간 맞추고 기다리면 끝이잖아 ㅋㅋ\\n자이글은 너무 금세 익기 때문에\\n오히려 타지 않도록 계속해서 지켜봐야 한다.\\n물론 그 반면에 에어프라이어보다 전기세가 덜 들면서\\n더 빨리 익고,\\n아무래도 뜨거운 공기로 익힌 것보다\\n(에어프라이어라고 하지만 사실 튀김기라기보다는 오븐에 가깝지)\\n밑에 팬을 달궈서, 열로 익힌 게 맛이 좀 더 좋다\\n(물론 이 부분은 개인 입맛에 따른 차이가 있을 듯)\\n각 제품에 장단점이 있는데\\n일단 내 생활 패턴에 그다지 필요하지는 않네 ㅋㅋ\\n정말 솔직 후기지 아니한가 ㅎㅎ', '네이버 쇼핑 링크로 이번 포스팅 마무리한다.']\n",
      "['#도쿄등심 #여의도도쿄등심 #도쿄등심디너 #여의도도쿄등심디너 #도쿄등심여의도점 #도쿄등심여의도 #토니정 #토니정도쿄등심 #여의도맛집 #여의도소고기집 #여의도한우오마카세 #여의도오마카세 #워터에이징한우 #DinnerspecialC #도쿄등심디너스페셜C #무시아와비죽 #연어카르파쵸 #크림새우고로케와와사비소스 #트러플한우육회 #쁘띠우니 #유자폰즈소스를곁들인석화 #한우우삼겹토마토김치찌개 #귀리쌀밥 #쉐프s디저트 #주파마 #주파마씨블로그\\n시간 없으시면 맨 밑에 총평으로!', \"도쿄등심 디너 스페셜코스C\\n130g 99,000원\\n(굽기 : 미디움)\\n테이블 담당 : DANNY\\nMenu\\n워터에이징 한우 오마카세\\n(=살치살, 새우살, 안심, 등심, 전복, 임실치즈)\\n살치살 : 4.5점/5점\\n꽃새우살 : 4.5점/5점\\n안심 : 3.9점/5점\\n등심 : 4.1점/5점\\n전복 : 4.0점/5점\\n임실치즈 : 3.5점/5점\\n무시아와비죽\\n(=전복죽)\\n무시아와비죽  : 2.8점/5점\\n유자 폰즈소스 석화\\n(=폰즈소스에 레몬 생굴)\\n석화(생굴)  : 3.1점/5점\\n연어카르파초\\n(=아주 저렴한 맛의 연어)\\n연어카르파초  : 2.5점/5점\\n크림새우고로케와 와사비소스\\n크림새우고로케  : 3.7점/5점\\n쁘띠우니\\n(=성게알)\\n성게알  : 3.5점/5점\\n트러플한우육회\\n(=적당한 크기 트러플4조각 육회)\\n트러플한우육회  : 3.8점/5점\\n한우우삼겹토마토김치찌개\\n&귀리쌀밥\\n한우우삽격토마토김치찌개  : 3.0점/5점\\n귀리쌀밥 : 3.5점/5점\\n쉐프's디저트\\n(블루베리 올려진 조그마한 치즈케익?!)\\n(항상바뀌는듯?!)\\n디저트  : 3.5점/5점\", '~Story~\\n학원 센터장인 친구의 추천으로 어머니를 모시고 \\n도쿄등심(여의도점)을 갔다.\\n그 친구는 도산공원에 있는 도쿄등심을 추천해줬지만,\\n오늘은 일요일!\\n일요일은 여의도에 사람이 별로 없는 날이고\\n집에서도 차로 6분거리인 가까운 \\n도쿄등심 여의도점을 선택!\\n당일 오후 3시에 전화로 룸예약했다.(오후5시 디너)\\n원래 시그니처 코스 시키려고 했는데 \\n랍스터를 질리도록 최근에 먹어서 C코스로 선택을 바꿨다.\\n참고 : 시그니처 - 랍스터, 우니(성게알)\\nC코스 -  트러플한우육회, 우니(성게알)\\nB코스 - 전복\\n이정도 특징으로 생각하면 된다.\\n룸은 2시간 이용이 가능했다.\\n도쿄등심 여의도점 \\n주말 12:00-23:00\\n (브레이크타임 : 16:00-17:00)\\n주중 11:00~23:00\\n(브레이크타임 : 15:00~17:00)\\n위치 : 서울특별시 영등포구 여의나루로 50 \\n한국교직원공제회관 지하1층 9호\\n주차장 : 한국교직원공제회관 지하3층~지하5층 \\n주차는 최초 30분 무료 & 영수증(198000원) 지참시 \\n                           3시간 무료', '지하3층에 주차하시고 지하1층으로 가시면 도쿄등심!\\n주차장 아주 좋음', '이제 하나하나 리뷰해보겠다!\\n(가는 길도 사진과 영상을 남겼지만, 찾기 쉬워서 패스~)\\n지하1층 엘베타고 가면 딱 보인다.', '들어가면 느낌있는 인테리어가 우릴 반긴다.\\n(도쿄등심이라는 주제와는 좀...먼듯한 인테리어?!)\\n우선 룸은 안쪽 룸을 주셨는데 2시간 이용가능하다.\\n17:00~19:00', '옷장도 있어서 아주 공간적으로 좋다!\\n참고로 룸에서 보는 일반테이블은 이렇게 생겼다.', '예쁜다지인!\\n룸의 장점 : 조용하고 프라이빗한 느낌을 준다.\\n& 옷장이 있어서 두꺼운 옷입고 와도 공간적으로 \\nGOOD!\\n&스피커가 바로 옆에 있는데... \\n기분 좋은 음악이 흘러나온다\\n룸의 단점 : 서빙 후, 문이 조금 열려있길래\\n직원의 실수인가해서\\n 직접 닫으러 갔는데 스르르 열린다.\\n이거 아주...큰 단점..\\n아마 내가 예약한 룸만 그러겠거니..한다.\\n2시간만 이용가능한점 : 하지만 이건 충분!', '이제 부터 메뉴 리뷰 간다!', '전복죽 : 식어서 나왔다... 그냥 아주 평범...\\n전복씨알도 작은편\\n연어 : 마트에서 파는 냉동 퀄리티...\\n하아... 여기까지만 보고 어머니 모시고 괜히왔다는 생각...\\n굴 : 씨알 작은편... 맛은 평범\\n(요즘 굴 철?! 이라 그래도 갠츈)', '크림새우고로케와 저 와사비소스!\\n맛있었다!\\n평소 튀김 안좋아하시는 어머니도 잘드셔서 기분 좋았다!\\n나는 그냥 흡입해버렸다.', '(초점 안맞아서 슬프다)\\n한우트러플 육회가 나왔다.\\n일단 비주얼 예쁘게 나왔다!\\n계란 노른자를 비벼서 먹으면 된다!\\n평소 트러플을 좋아하기에 ...\\n맛있게 먹었다. (적당히 맛있었다)\\n트러플이 적당히 얇았다.\\n트러플, 무, 육회 조합은 처음이었는데 \\n육회랑 먹어도 맛있었다.\\n(Tip : 마트에서 트러플오일소스 사다가 \\n짜파게티랑 같이 먹으면 꿀맛!)', '이름 참 귀엽게 지었다. 쁘띠우니!\\n(쁘띠건희님이 생각나는...)\\n성게알 퀄리티는 그냥 보통이었다.\\n(아마 보라성게인듯?!)\\n아주 살~짝 쓴맛이 있었고\\n전체적으로는 고소한 맛이 혀를 감는다.\\n(단맛이 부족했다)\\n사진에서 보면 알 수 있듯이 밑의 한 뭉치의 우니만 색이 진하다.\\n이론적으로 이게 아마 암컷의 난소?! 라서 그런 것 같다.\\n수컷의 정소는 색이 예쁘고 좀 더 맛있었다.\\n(좀 더 단맛이 있었다)\\n보통 퀄리티있는 곳은 수컷의 정소로만 내준다.', '드이어 대망의 고기!\\n이 음식점의 이름인 등심을 포함한 고기가 나왔다!\\n비주얼은 일단 갠츈\\n딱 봐도 새우살과 살치살의 마블링이 좋아보인다.', '소스들을 잠깐 설명하자면,\\n왼쪽 상단 : 야끼니쿠 소스 (그냥 불고기 소스 정도 생각하면 된다)\\n오른쪽 상단 : 로즈마리 소금\\n왼쪽 하단 : 트러플치즈소스\\n와사비\\n오른쪽 하단 : 명의나물 잘게 잘라놓음\\n로즈마리소금...처음 먹어봤다...\\n나름 괜찮았다. (짠 농도가 다른 소금에 비해 약간 느낌)\\n로즈마리향이 잘 느껴지지는 않았다.ㅠ \\n내 무딘혀...ㅠㅠ\\n트러플치즈소스! 이거 좀 별미였다.\\n트러플치즈소스에 와사비 조금 넣고 야끼니쿠소스 찍어먹었는데\\n개꿀맛! (한두점먹기에 좋음)\\n그리고 보통은 그냥 로즈마리소금에 와사비만 먹었다.\\n명이나물 으깬건 소고기 풍미를 좀 저해하는 느낌?!\\n그리고 서브메뉴인 \\n순두부?! : 손도 안댔다. 어머니는 잘 드셨다.\\n파채 : 소고기랑은 개인적으로 안어울렸다.\\n(내 취향인데 소고기 소금만 찍어 먹거나 \\n와사비만 올려 먹는거 좋아함)\\n오이무침 : 이거 완전 별미다! 맛있다!\\n사과김치?! : 그냥 쏘쏘\\n깍두기 : 손도안댔다.\\n(어머니 평가로는 그냥 맛없다라고 하셨다)', '일단 테이블을 맡아주신 분은 \\nDANNY님\\n굽기는 미디엄으로 부탁드렸다.\\n친절하셨다. 개인적으로는 새우살과 살치살을 \\n가장 잘 구워주셨다고 생각한다.', '', '맨 왼쪽부터\\n임실치즈 : 우리가 아는 임실치즈였다.\\n그냥 먹어도 맛있었고, 나중에 안심이랑 살짝 곁들어서 먹었는데 \\n맛있었다.\\n중간은 꽃새우살이다. 아주 퍼팩트한 내가 좋아하는 굽기와 맛이었다.\\n맨 오른쪽은 살치살. 굽기는 적당했고,\\n역시 맛있었다.\\n이 2가지 고기부위가 \\n가장 맛있었던 메뉴이기도 하고...\\n잘 구워주신 DANNY님 덕분이기도 하다.', '안심이 나왔다. \\n굽기는 미디움보다 조금 많이 익혀진 부분이 많았다.\\n생각보다 안심이 두껍게 썰어오기도 했고\\n여기는 구울 때 뚜껑을 덮어\\n압력을 이용해서 굽는데 \\n조금 오래 덮어 놓은 것 같은 느낌이었다.\\n안심구이의 맛은 보통이었다.\\n(아마 새우살과 살치살이 너무 맛있어서\\n상대적으로 느낀 걸 수도 있다.)\\n야채, 올리브, 마늘 다 신선하고 아주 적당하게 \\n구워주셨다!', '', '드디어 대망의 도교등심의 등심!\\n안심보다는 좋았고, 굽기도 좋았다.\\n누구나 아는 등심의 맛이었지만...\\n(마블링이 살짝 부족함을 느꼈다)\\n(맛있다! 하지만 엄~청 맛있는건 아니다)\\n부첼리하우스의 등심보다는 많이 아쉬운 맛이었다.\\n(다음에는 부첼리하우스 리뷰를 해보겠다)', '등심을 굽고 마지막은\\n버터전복구이다. 간이 조금 되어 있어서 \\n와사비만 넣어 먹으라고 말씀해주셨다.\\n우리가 아는 전복구이 그 맛이고,\\n전복 씨알은 크지는 않았다.\\n그냥 보통 맛!', '김치찌개에 토마토라?!\\n유럽에서 먹었던 보르쉬가 아주 살~짝 느껴졌다.\\n그냥 새콤한 맛이 좀 더해진 느낌!\\n어머니께서는 김치찌개 만드실 때,\\n 한번 넣어보겠다고 하셨다.\\n나는 그냥 쏘쏘했다. 특이한 맛?!\\n(찌개에 들어간 한우 우삼겹은 질기고 별로였다)\\n귀리쌀밥...\\n우리가 아는 그 맛인데 꼬드밥?! 으로 나와서 \\n좋았다.\\n(건강해지는 맛)', \"이게 대망의 마지막 쉐프's 디저트다.\\n우리가 아는 그 크림치즈케익 맛!\\n맛있었다.\\n그런데 녹차나 얼그레이가 있었으면 \\n 더 좋았을 것 같다.\\n(목이 메었다.)\", '총평 : 그냥 깔끔한 소고기집 찾는다면 좋다!\\n4.0점/5점\\n재방문의사 : 75% \\n1. 꽃새우살, 살치살이 맛있다.\\n2. 은근 크림새우고로케가 \\n     와사비소스와 잘 맞았다.\\n(나머지 코스요리에 나오는 모든 메뉴는 평범)\\n3. 이름이 도쿄등심인데... 등심은 평범했다.\\n 다음에 오면 꽃 새우살이나 살치살 단품\\n으로 먹을 것 같다.\\n(좋아하는 술도 가지고 올듯 !!\\n: 콜키지차지 무료!!!)\\n* 룸으로 예약하는 것 강추\\n(하지만 일반테이블 또한 감각적인 디자인)\\n*어머니께서는 만족하셨다.\\n가장 작은 양인 130g코스였지만\\n마지막에 배불러서 겨우겨우 먹음\\n(저, 그리고 어머니는 평소 소식함)', '', '']\n",
      "['하잇 방가방가\\n2020년 08월 여름방학에 다녀온\\n캠핑 후기를\\n09월 말에야 올립니다.\\n귀찮아서 안올릴라구 했는데\\n캠핑장 사장님이 넘 잘해주셨고\\n알바생들이 엄청 친절하고\\n재밌게 놀아준 기억이 고마워\\n어쨌든 올립니다요!\\n스따뜨', '캠핑은\\n8월 초로 기억하고,\\n무려 금, 토, 일 .\\n엄청난 성수기 때 다녀왔는데,\\n미리 2~3달 전에 예약했습니다.\\n여튼 3일이나 놀고 먹어야 했기 때문에\\n장을 엄청 많이 봤는데\\n진짜 먹을거에만 30만원 넘게 썼습니다.\\n롯데마트 우리가 부쉈따 ㅋ\\n가는 길에는 또 차가 엄청 막히더라구요\\n주말 전이라 다들 휴가 갔나봐\\n서울에서 춘천가는데,\\n3시간 더 걸린 것 같삼\\n짐들 사이에 낑겨 갔는데\\nBMW 뒤에 내려 앉는 줄 알았삼;;', '우리가 간 곳은 \\n강원도 춘천과 가평? 그 사이에 위치한', '여기는 글램핑, 카라반, 수상레저 모두 가능한 곳\\n바로 강 앞에 있는데,\\n캠핑장 말고는 아무 것도 없는 곳.\\n정말 구불구불 버스도 안다니는\\n그런 깊은 숲길을 한창 달려야 도착하는 곳.\\n근처에 마트도 없어요.\\n물론 캠핑장 안에 매점 있는데,\\n편의점 만큼 다양하지는 않으니까\\n무조건 미리 장봐오기~\\n매정 안에는 대충 과자나 라면이랑 먹을거랑\\n불멍할 때 쓰는 나무 장작이나 일회용품?\\n여튼 캠핑 필수품 대충 구비되어 있더라구용.\\n아 약은 안팔아서\\n만약 다치면, 카운터 가서 문의해야 함. ㅠㅠ\\n조심조심하세요.', '도착하자마자 텐트 설치하기....\\n우리는 미리 예약해서\\n강 바로 앞, 가장자리!\\n엄청 좋은 자리에 위치 잡았습니다~\\n보니까 캠핑 장비 없는 사람들은\\n이미 설치되어 있는 글램핑이나\\n카라반 예약하면 됩니다.\\n근데 텐트 설치해서 이용하는게 \\n더 저렴하긴 함.. = 당연한 소리\\n근데 내가 텐트 설치해보니까..\\n진짜 캠핑에 미쳐가지고\\n시도때도 없이 시간 날 때마다\\n여기저기 텐트 설치하고 자고 댕길꺼 아니면\\n그냥 글램핑아니 카라반 쓰세요\\n캠핑 장비만 수백만원임을..\\n설치하고 다시 해체하는 게 엄청난 노동임을...\\n잊지마십쇼...☆', '타임랩스로 찍었ㄴㄴ데..\\n아 텐트 설치하는 영상은 지웠나봐\\n사진이랑 동영상 엄청 찍었는데,\\n늦게 업로드 하려니 다 삭제했나봐요ㅠ', '더운 여름 날, 나를 태워서 재로 만들 것 마냥\\n뜨겁게 내리 쬐는 태양 아래\\n한 조각의 그늘도 없이 온 몸으로 열을 흡수하며\\n피땀눈물 뿌려가며 완성한 텐트\\n그 안에서 바라보는 리버뷰', '날씨 더워서 죽을 것 같은데,\\n그늘막에서 쉬니까 너무 좋았슴.\\n글구 강바람 꽤 선선해서 행복했다\\n첫날이라 그런가 희망가득!', '텐트 설치하느라 너무 힘뺐고ㅠ\\n배고파서 후다닥 만들어 먹은 첫끼.\\n미식가와 함께 한 여행이라 그런지,\\n간단히 먹는 점심도 전혀 심플하지 않았다.\\n찐 트러플 오일 듬뿍 넣어서 만든\\n짜파게티 먹었는데요\\n그거 알져.\\n밖에서 먹는 음식 특히 맛있는 고.\\n특히 캠핑가서 먹은 음식?\\n진짜 존맛탱인고.', '대충 배도 채웠겠다.\\n본격적으로 캠핑장 구경햇슴.\\n아 사진 찍은 것 같았는데\\n솔직히 머 캠핑장 홈페이지 가면\\n상세 안내 되어 있잔하요\\n그래서 그냥 지웠슴\\nㅋㅋㅋㅋㅋㅋㅋㅋㅋㅋㅋㅋㅋㅋㅋㅋㅋㅋㅋ\\nㅋㅋㅋㅋㅋㅋㅋㅋㅋㅋㅋㅋㅋㅋㅋㅋㅋㅋㅋㅋㅋㅋㅋ\\n후후후\\n가격이랑 전체적인 시설은 홈페이지 참고하세요.\\n이곳은 수상레저도 있는데,\\n실외 수영장도 따로 있더라구용.\\n물론 작고.. 주로 애기들이 튜브 타는 곳임.', '나는 수상레저할거라서~\\n수영장 욕심은 크게 없었구\\n애기들 노는거 구경하다가\\n발만 담그고 왔답니다.', '사진 찍고 나니까,\\n수영장 물 색깔이 예뻐서\\n맘에 듭니다요\\n내가 이 때, 여름이라고\\n파란색으로 염색했거든요.\\n머 블루밍 아이유 따라한건 아니궁~^^\\n그냥 여름이고 난 쿨톤이고\\n구래서 한번 해본거야~~\\n근데 이 머리 일주일 감 ㅠㅠ\\n유일하게 기록한 파란머리 사진이 이거뿐이야ㅠ\\n아쉬워라', '이 길이 캠핑장 메인 길목.\\n안내 본부? 거기랑 수상레저 카운터랑 연결되어 있는\\n가운데 길목입니다.\\n예뻐서 사진 찍엇슴당.', '사실 여름 휴가 간다고.. 캠핑간다고...\\n나름 안성해랑 옷을 맞춰 입었어요..\\n이때 여름에,, 트와이스 친구들이\\n모어앤모어 활동을 한창 했거덩요...\\n그때 전반적인 앨범 컨셉..?\\n무대의상이.. 빈티지...? 약간 이국적인..\\n머냐.. 히피..? 그런 스타일이었삼..\\n그래서 우리도 따라입어봤삼.. ㅋㅋ\\n저거 입고 모어앤모어 틀고\\n춤까지 추고 동영상도 찍었는데\\n진짜 못볼꼴이라 삭제했습니다;;\\n글구 사진 찍을 때도\\n막 마주보라는데\\n진짜 짜증나서 죽는 줄 알았습니다.\\n왜냐면 캠핑 가서도 겁나 싸웠거든요.\\n진짜 한대 치고 싶었음 ㅠ\\n마주보는데 눈마주쳐서 혀깨물고 싶었음.\\n글구 쟤가 막 웃으라고\\n가식적으로 눈웃음치는데\\n어이없어서 난 찐 웃음 나아버림\\nㅋㅋㅋㅋㅋㅋㅋㅋㅋㅋㅋㅋㅋㅋㅋㅋㅋㅋㅋ\\n덕분에 사진은 정말 행복해보이는 것마냥^^\\n정말~ 인생이란~\\n멀리서 보면 희극이라는 말이 맞네요.', '캠핑장 구경하다 저녁이 왔어요.\\n첫날에는 물놀이 하기 애매해서 안했음.\\n왜냐면 다음 날 하루종일 할거라서!', '간단히 고기도 먹었다네요.\\n고기에 허브?랑 올리브유인가\\n여튼 밑간? 해서 풍미를 살린다 웅앵웅\\n사실 난 잘 모름 ㅋ 셰프님이 알아서 해줌 ㅋ\\n난 맛잇게 먹기만 했죠 냐암.', '맥주는 어디?\\n맥주는 카스 ♡♥\\n카스 모델이 누구?\\n엑소 세찬이다 ♥♡\\n세찬이 누구?\\n일어서현 남편들이다 ><\\n특히나 이때, 카스 모델된지 얼마 안됐을 때라\\nㅋㅋㅋㅋㅋㅋㅋㅋㅋㅋㅋㅋㅋㅋㅋㅋㅋㅋㅋㅋㅋ\\n완전 과몰입 덕후되어서\\n카스 홀짝 거림 \\nㅋㅋ', '아까 미리 밑간한 고기\\n불판에다가 구웠다\\n근데 진자 손에 꼽을 정도로\\n맛있는 고기였음\\n분위기도 분위기인데\\n고기 자체도 맛있었어ㅠ\\n행복했습니다', '첫날 시간은 금방 갔어요.\\n이동하랴 텐트 설치하랴 캠프 꾸미랴\\n캠핑장 구경하고 적응하고!\\n사실상 먹기만 했다는..\\n행복한 첫날밤 끝났어요.', '그리고 밝은 대망의 둘째날!\\n이 날은 오전부터 해질 때까지\\n오직 물놀이. 수상레저. \\n그것만을 목표로 움직였슴다.\\n살이 탈까봐 레깅스랑 긴팔 입었어요.\\n지금에 와서야 아쉬운 점이ㅠㅠ\\n살 많이 탈 줄 모르고\\n모자 안쓴거ㅠ\\n선크림 별로 안바른거ㅠ\\n내가 살짝~ 하얀 편인데\\n진짜 이 날 이후로\\n살이 경계질만큼 타버렸슴다ㅠ\\n그만큼 끝장나게 놀긴 햇음 ㅋ', '아 여기가 샤워실인데, 내가 설명을 안했넹.\\n혹시나 여기 놀러갈 사람 있을 수 있으니까.\\n여기 시설 진자 좋아요\\n캠핑장 전체적으로 아기자기하고\\n인테리어, 조명 모든게 완벽함\\n글구 샤워실도 아기자기하고 따듯한 물도 잘 나오고\\n단체 샤워장이더라도\\n개별 샤워부스 구별되어 있어서\\n사실상 나 혼자 샤워하는 거임.\\n하지만 문제가 있는데...\\n충격적으로 벌레가... 많다는 것...\\n내가 사진을 찍었다가\\n블로그에 올릴 줄 모르고 지웟는데..\\n진짜 무슨 벌레인지 모르겠는데\\n무슨 지네...? 같은게 수십마리가 기어다님 ㅠ\\n밤만 되면 온천지가 벌레 천지입니다..\\n이거 이따 마저 설명하겟음.\\n여튼 옷 갈아입구 물놀이 하러 갓슴다.', '그 공기로 띄어놓은 코스도 있는데,\\n사실 저거는 걍 그저 그렇구\\n무.족.권\\n수상레저 타야합니다.\\n빠지는 뭐다?\\n수상레저! 놀이기구!\\n보트 타야죠 열어분\\n저기에 바나나보트, 플라잉보트, 팽이 등등\\n거의 5~6개 있는데\\n진짜 나랑 안성해랑 아침 일찍부터 오후6시까지\\n대략 6~7시간을 놀았기 때문에\\n질릴 정도로 한 놀이기구를 2~3번씩 탔습니다.\\nㅋㅋㅋㅋㅋㅋㅋㅋㅋㅋㅋㅋㅋㅋㅋㅋㅋㅋㅋ\\n오죽하면 알바생이 질릴 정도ㅠ\\n매니저가 너네 지겹다 정말.. 이러셨음\\nㅋㅋㅋㅋㅋㅋㅋㅋㅋㅋㅋㅋㅋㅋㅋㅋㅋㅋㅋㅋㅋ', '하루 종일 터줏대감처럼 있어서\\n알바생들이랑 다 친해지고\\n다른 손님들이랑도 친해지고\\n넘 재밌었습니다.\\n그리고 알바생 분들, 너무 친절해요!\\n물론 내 또래라서 그런지 (20대 초중반)\\n친구처럼 말까고 장난치고 놀았슴다.\\n아 글고 사장님이 수상레저 마감하고 나서,\\n우리만 보트 태워서 강가 구경시켜줌 ㅠ', '강바람 진짜 시원하고! 재밌었어요!\\n감사합니다.', '그리고 우리 또래 남자애들도 놀러왔는데\\n한팀은 해병대 동기들이었고\\n한팀은 부산 친구들이었고\\n걔네랑 같이 우르르 보트 타고\\n사진도 찍고\\nㅋㅋㅋㅋㅋㅋㅋㅋㅋㅋㅋㅋㅋㅋㅋㅋ\\n누가보면 짱친인줄;;', '전체적으로 다 유쾌한 사람들이 많았어요.\\n킬포는 아직도 저 셀카들 못전해줬다는 사실.. ㅠ\\n죄송합니다.. 사진 속 주인공 분들 ㅠ', '개인적으로 나는 고소공포증이 심해서\\n이거 타는데 넘 무서웠다ㅠ\\n꽤 높이 하늘을 나는데\\n허으으으윽 무서워서 하늘만 봤다네요\\n떨어질까봐 몸에 힘 꽉주고ㅠ\\n나는 정말 누굴 닮아서 이렇게 쫄보란 말야!\\n속상해ㅠ', '정말 세상이랑 굿바이하는 줄 ㅠ\\n안성해는 옆에서 더 높게 띄어달라고 난리치고ㅠ\\n노잼이랑 놀게 해서 미안하다 진짜.\\n여튼 이렇게 하루종일 수상레저 즐겼슴다.', '하루종일 물놀이 하니까\\n배가 많이 고팠다.\\n그래서 저녁 허버허버 먹으러 갔다.', '이것말도고 많이 먹었는데\\n먼가 계속 쉬지 않고 먹는 느낌이라\\n사진도 안찍음\\nㅋㅋㅋㅋㅋㅋㅋㅋㅋㅋㅋㅋㅋㅋㅋㅋ\\n다 찍기엔 너무 많았따.', '', '누가 캠핑은 장비빨이라고 했는데,\\n정말 맞는 말이다.\\n반짝반짝 예쁜 전구 설치했더니\\n아기자기하고 포근한 분위기가 뿜뿜했다.\\n앞에서는 강바람이 솔솔불고\\n반짝이는 자리에서 맛있는 고기 구워먹으니까\\n이게 정말 휴가군! 싶었다.', '근데 이짜나요\\n다들 불멍이 뭔지 알았어요?\\n이제 불멍할까?\\n그러길래 \\n그게 머지... ㅇㅅㅇ 불멍...?\\n갸우뚱한건 나 뿐인건가?\\n난 진짜루 불멍이 뭔지 캠핑 가서 처음 알았어\\n근데 안성해가 불멍도 모르냐고 개찐따라고\\n겁나 무시했어\\n역시 싹바가지;;\\n여튼 불멍은 불 때우고 멍~ 때리는거랍니다.\\n번외로 물멍은 물 보면서 멍~ 때우는거래.\\n참나 ㅋㅋ\\n근데 여기서도 캠핑은 장비빨 2\\n저거 장작 담는 통. 화로?\\n저거 엄청 예뻤는데,\\n무늬 있는 통에 불때우니까\\n분위기 더 살아나는 느낌 ㅠ\\n정말로 불만 쬐는데도 재밌었어요.\\n글구 불꽃놀이도 했다.\\n막대에 불붙이고 하트 그리고 놀았다\\nㅋㅋㅋㅋㅋㅋㅋㅋㅋㅋㅋㅋㅋㅋㅋㅋㅋㅋ\\n아 정말 하루종일 재밌게 놀았는데\\n동영상 삭제하지 말걸 ㅠㅠ\\n히잉 아쉬워\\n역시 동영상이 최고인데 말야.', '장작 엄청 많이 사가서,\\n이거 다 쓸 수 있어? 했는데\\n이틀 내내 태워가지고 ㅋㅋㅋㅋㅋㅋ\\n결국 매점에서 장작 추가로 더 샀다\\nㅋㅋㅋㅋㅋㅋㅋㅋㅋㅋㅋㅋㅋㅋㅋㅋㅋ\\n분위기는 돈으로 만드는거지! 그치!\\n따듯하고 예쁘고 포근하긴 했어!\\n어반 슬로우 시티 \\n#내돈내산 #솔직후기\\n입니다만,\\n정말 캠핑장 자체가 외딴 곳에 있어서\\n조용하고 한적하고\\n특히나 밤 10시 이후에는 매너타임이라고 해서\\n모두 불끄고 조용히 있거든요\\n그래서 캠핑 분위기 내기 딱이었어.\\n시설도 놀이도 모든게 좋았는데.\\n단점이 딱 하나 있습니다.\\n바로', '근데 진짜 많아도 너무 많았음 ㅠ\\n그래서 사장님한테 문의해봤는데,\\n아무리 약뿌리고 해봐도\\n이게 여름이고, 산 속이고\\n한창 이 벌레가 산란기? 라서\\n어케 할 수가 없다고 하더이다ㅠ\\n그데 진자 샤워실에 지네 떼는 충격이었어ㅠㅠ\\n온 사방에 새끼손가락 반 정도 되는\\n지네가 막 기어다니니까ㅠ\\n주저 앉을 뻔 했따네요..', '무슨 벌레인지 모르겟는데\\n위에 첨부한 동영상 속 벌레 수천마리가 캠핑장 온 바닥에 돌아다닙니다\\n으악!\\n근데 이거 빼고는 단점 없었음.\\n알바생도 사장님도 친절하시고\\n시설도 좋고\\n그냥 행복한 추억 쌓고 왔습니다!', '이렇게 행복했던 한 여름의 휴가도 추억 끝!\\n다음에는 친구들끼리 놀러갈게요!\\n안녕.']\n",
      "예외가 발생했습니다. Message: no such element: Unable to locate element: {\"method\":\"css selector\",\"selector\":\".se-fs-.se-ff-\"}\n",
      "  (Session info: chrome=85.0.4183.121)\n",
      "\n",
      "['햄-하!(햄영이의 이웃여러분 하이!)\\n오늘은 대구 광장코아 신상 술집\\n인쌩맥주를 소개시켜드리려구왔어용!\\nㅎㅎ광코 술집 광코 맛집하면\\n마땅히 떠오르는데가 없기도하고\\n그래서 새로 생긴곳으로 가봤습니당!\\n내돈내산, 솔직후기입니다. 광고 절대 아님!!!!!!!', '대구 두류동 인쌩맥주 입구입니다!\\n기와가 있어 올드해보이면서도\\nled 간판이 세련되어보이는(?)\\n그런 신기한 외관이에욬ㅋㅋㅋㅋ\\n궁금증을 유발한달깤ㅋㅋㅋ', '밖에서도 메뉴 파악을 할 수 있게끔 되어있어요!\\n요즘 살얼음맥주 없는곳 없잖아요ㅋㅋ\\n인쌩맥주에도 살얼음맥주 판매중이에요~\\n학생들이 오기 좋게 안주도 굉장히 저렴하네용!', '그럼 들어가볼까용~~', '실내에 테이블이 굉장히 많아요!!!\\n광코 신상오픈 술집이라 그런지 굉장히 깔끔하구ㅎㅎ', '초록초록 풀이 있어서 \\n정말 기와집에 온것같은 기분도 드네용ㅎㅎ', '제가 진짜 놀랐던건 이렇게 야외 테이블처럼\\n하늘이 뻥 뚫린 테이블도 있었다는거에요!!!!!', '이날 날씨만 좀 더 시원했으면\\n여기 앉았을텐데ㅠㅠ 비오고 난 후라 꿉꿉해서\\n그냥 실내에 앉았습니당ㅎㅎ', '대구 두류동 광장코아 인쌩맥주 메뉴판입니다!\\n메뉴를 보고 주문하고 주문확인까지 할 수 있는\\n전자식 메뉴판이라\\n동영상이 최선이였어요...\\n천천히 넘기려구 노력했으니 봐주세요ㅠㅠ흑흑', '레몬맥주 1잔 3,500원\\n이날 왠지 달달한 맥주가 먹고싶어서\\n레몬맥주 시켜보았뜹니다!\\n근데 달달하기보단 좀 많이 셨음ㅠㅠ\\n다른데 레몬맥주랑 좀 달라서 당황쓰 했지만\\n나름대로 맛있게 잘 먹었어용', '바삭감자전 7,900원\\n그냥 간단한 안주 여러개 시켜서 맛보고\\n2차에서 치킨먹으려구\\n감자전 시켜보았뜹니당ㅎ\\n감자채를 얇게 썰어서 부쳤는데용\\n옆에 샐러드 소스 물어보고싶다...존맛', '감자전은 쏘쏘였어요!\\n감자전에는 아예 간을 안하신듯\\n간장찍어드세용ㅎㅎ~', '트러플짜파게티 7,900원\\n짜...요..ㅎㅎ\\n짜파구리도 아니고 짜파게티도 아니고\\n컵라면 면같이 얇은 라면면이라\\n간이 잘 베서 그런지 짜용...\\n그치만 맥주랑 먹으면 괜찮아용', '싱거운 감자전과 짠 짜파게티의 만남\\n서로 중화시켜줘서 맛났어요ㅋㅋㅋ\\n새로운 조합 발견 짝짝~', '찹쌀핫도그 6,900원\\n대구 두류동 인쌩맥주 가서 찾은 존맛안주\\n아니 이거 소스 뭐에요? 흰소스?\\n핫도그 찍어먹고는 넘 맛있어서\\n기절할뻔했음ㅋㅋㅋㅋㅋ\\n핫도그도 쫄깃하고 햄도 적당한게\\n바삭 쫄깃을 충족하는 존맛 안주!\\n옆에 감튀도 넘나마싯슴!!!', '인쌩맥주 찹쌀핫도그 이렇게 먹는거 국룰로 정해야됨\\n왜 이렇게 안먹어요? 왜 찹쌀핫도그 안먹어요?', '자몽맥주 3,500원\\n레몬맥주가 셔서 주문해본\\n자몽맥주! 이거 완전 제스탈\\n자몽 때려부어 마구부어 맛이에요\\nㅋㅋㅋㅋㅋㅋㅋㅋㅋㅋㅋㅋ\\n달달한 맥주 땡기면 레몬 말구 자몽드세오', '그리고 먹지 못한 인생떡볶이...\\n시킨지 한참 됐는데 안나와서 여쭤보니\\n아마 누락됐던듯ㅠㅠ 손님이 많지는 않았는데..\\n어쨌든! 담에 가면 먹어봐야징~', '✔️ 날씨 좋을땐 하늘이 뚫린 자리에 앉아보기!\\n✔️ 저렴한 가격\\n✔️ 젊은이들 분위기라 조금 시끄러울 수 있음\\n✔️ 테이블 많음', '대구 두류동 인쌩맥주는\\n가볍게 맥주 한 잔 하고싶을때,\\n날씨 좋은 날 시원한 맥주가 먹고싶을때\\n가면 좋을것같아요ㅎㅎ\\n기본적으로 안주가 매우 싼데\\n맛이 그저그래서 좀 아쉬웠어요ㅠㅠ\\n사장님도 직원도 모두 친절하셔용!\\n나중엔 3차정도로 방문해서\\n찹쌀핫도그에 자몽맥주 먹고싶네용!', '대구 두류동 인쌩맥주\\n주소를 마지막으로\\n포스팅 마무리할게요!\\n다음 포스팅에서 만나요!\\n햄-빠!(햄영이의 이웃여러분 빠이!)', '']\n",
      "['일주일에 한번씩 꼬박꼬박 만나는 제블리...\\n동네는 똑같고 학교가 지하철로 10분거리라\\n학교 끝나고 시간이 맞으면 같이 자주 밥먹고 카페가고, 또는 연락해서 기다렸다가 그냥 같이 가기도 한다.ㅋㅋㅋㅋㅋㅋㅋㅋㅋㅋㅋ 그만큼 둘다 할일이 없단 얘기;; \\n이번에는 어쩌다가 2주정도? 얼굴을 못봤다.\\n자주보다가 안보니 괜히 더 오래된 느낌? ㅎ\\n저번주에 내생일이었는데 못봐서 늦은생일파티겸~\\n오랫만에 데이트하는겸~\\n제블리가 가보고 싶었던 을지로로 향했다.\\n요즘 을지로가 힙지로 라고 불리면서 20-30대들 사이에서 엄청 뜨는데 올해 봄에 을지로가 하도 핫플이라고 해서 갔는데 실망을 많이 했었다. 약간 애매한 갬성과 억지로 힙한 척 하려는 그런 노력... 성의없는 손님 응대, 낡은 비위생적인 가게, 찾기힘든 위치 등등... 힙 이라는 것으로 모든 허접함을 어떻게든 포장하려고 하는 그런 느낌?\\n특히나 요즘엔 뭐든지 인스타가 대세라서 사진에 예쁘게만 담기고 느낌만 있다면 사람들이 선호하기 때문에 을지로가 더욱 인기가 많은것 같다.\\n그래도 나의 이런 생각들을 뒤로하고 을지로가 첫 방문인 제블리를 위해 다시 을지로 도전! \\n을지로 하면 짜치계(짜파게티 치즈 계란), 치즈에 와인\\nor 노가리에 맥주\\n극단적으로 분위기가 갈리는데 이날은 두곳 다 갔다! \\n먼저 우리가 간 곳은 !', '을지로에 있는 카페나 펍들은 보통 구석진 곳에 있거나 간판이 없거나, 엥? 스러울 정도로 낡은 건물에 있는 경우가 많아서 찾아가기 힘들다.\\n근데 평균율은 네이버 지도를 켜고 아! 하고 바로 찾을 수 있었다. 다행히 간판이 있었기 때문~ 하지만 한자로 쓰여져 있으니 대충 알아맞혀야함ㅋㅋㅋㅋㅋㅋㅋㅋㅋ', '평균율은 테이블 8개 정도가 있고 바 형식으로 되어 4명정도 앉을 수 있는 공간이 있다. 그렇게 널찍한 편은 아니지만 그래도 생각보다 많은 사람을 수용할 수 있다. \\n평균율의 시그니처는 역시 LP바... 재즈음악이나 올드팝같은 노래가 계속 흘러나와서 진짜 딱! 분위기 내기에 좋다. 사장님께서 중간중간 조정도 하시고 새로운 LP로 갈기도 하셨다. LP를 잘 몰라서 그런지 신기했당.\\n나잇대는 다양하긴 했지만 직장인 분들이 꽤 많았다. 퇴근 후 와인한잔 딱 하시러 오시는듯?! 멋있어~~', '우리는 와 알 못 이기 때문에 또 하루살이 대학생이라 와인을 보틀로 시키진 않고 글라스로 두 잔 시켰다.\\n빨간 건 탈리스키 하이볼이고 투명한 건 고든? 고른? 스킨 하이볼이다. 메뉴판을 직접 손으로 쓰셔서 글씨를 알아보기 조금 힘들다ㅋㅋㅋㅋㅋㅋㅋㅋ아직도 정확한 메뉴이름 모름 ~~~ 그리고 메뉴판에 음료에 대한 설명이 다 나와있지는 않아서 네이버에 몇번이고 쳐보고 결정했다. 설명이 있다면 더 좋았을듯~.~ㅠ\\n사이드 디쉬로는 가장 기본적인 치즈 플레이트를 시켰다. ', '을지로 와인 LP바 평균율, 힙지로 \\n대표메뉴 : 그런거 없고 취향대로 시키세용 🤟🏻\\n글라스 술은 와인이랑 위스키, 하이볼, 맥주가 있고 \\n보틀로는 화이트 와인과 레드 와인이 있다.\\n사이드로는 트러플 달걀 샐러드, 여러 치즈 시리즈, 올리브, 과일, 짜파게티 치즈 계란이 있다.\\n평균율 이전에 을지로에 있는 다른 와인바를 간적이 있는데 거기서 짜치계를 처음 시켜먹어봤다. 물론 내가 아는 그 맛이라 맛은 있지만... 편의점에서 1,500원이면 살 짜파게티를 6-8,000원에 팔다니 ! 약간 짜증났다ㅋㅋㅋㅋㅋㅋㅋㅋㅋㅋㅋㅋㅋ 그래서 이번엔 안시킴 ^_^', '처음에 샐러리와 마요네즈를 주신다.\\n웃긴게 샐러리를 태어나서 한번도 안먹어봐서 이번에 먹어봤는데 앞으로 먹을 일은 없을거 같다ㅋㅋㅋㅋㅋㅋㅋㅋㅋㅋㅋㅋㅋㅋㅋㅋㅋㅋㅋㅋ ㅎㅎ 애기입맛 🍼;;\\n마요네즈만 푹푹 찍어먹었음 ...\\nasmr보면 사각사각 다들 잘만 먹던데 나 외 몯 머 거 ?', '하이볼은 5분정도 있다 나왔고 치즈 플레이트는 15분정도 기다린거 같다. 그냥 치즈만 썰어서 주시면 될텐데 늦게나와서 치즈를 편의점에서 급하게 사왔다 설, 우유로 방금 치즈를 만들어왔다 설, 소젖을 짜온거다 설 등등 헛소리좀 하고 있었다.\\n치즈 플레이트에는 올리브와 방울토마토, 복숭아가 있고 과일치즈, 스모크치즈, 갈릭치즈, 내가모르는 치즈 1, 2 총 5가지가 있었다. 치즈물론 비싼거 알지만 너무 조금씩 나와서 약간 감질맛 났음ㅋㅋㅋㅋㅋㅋㅋㅋㅋㅋㅋ\\n치즈는 다 맛있었다. 그 중 과일치즈가 제일 입맛에 맞았음! 또먹고싶다 그건ㅠㅠㅜ 근데 와우 올리브가 상상이상으로 맛없🤭 ㅋㅋㅋㅋㅋㅋㅋㅋㅋㅋㅋㅋㅋㅋ맛은 뭐 주관적인거니까 (친구가 🐶 맛없다함) ㅋㅋㅋㅋㅋㅋㅋㅋㅋㅋㅋㅋㅋㅋㅋㅋㅋㅋㅋㅋㅋ\\n올리브하면 피자위에 올려진 그 바퀴모양을 생각하고 있었는데 생올리브.. 그것도 기름에 절여진건 처음이라 아마 우리가 맛없다고 느꼈던거 같다. 궁금하신 분은 가서 올리브 와그작 한번에 먹어보시고 댓글을 달아주세요... ', '이건 제블리가 사준 생일케잌~\\n선물도 어차피 기브앤테이크, 인생은 뭐든 깊테~ \\n친한 사이에는 이렇게 소소하게 같이 시간보내고 축하해주고 하는게 짱인거 같다. 그냥 같이 밥먹고 놀아주고 마음만 느껴지면 된거야ㅎㅎ ', '평균율은 딱 파스타 같은 저녁을 먹고 \\n2차로 오면 좋을것같다. 우리는 뭣도 모르고 평균율 갔다가 만선호프가ㅓ 치킨뜯고옴ㅋㅋㅋㅋㅋㅋㅋㅋㅋㅋㅋㅋㅋㅋㅋㅋㅋㅋㅎㅎㅎ 힙지로와 감성,,, 분위기를 느끼고 싶다 또는 와잘알이다! 하면 평균율 추천! 데이트나 약간 만난지 얼마 안된 couple에게도 추천... ㅋㅋㅋㅋㅋㅋㅋㅋㅋㅋㅋㅋㅋ 하 나는 언제;;\\n평균율 별 ⭐️⭐️⭐️⭐️드립니당~~ ']\n",
      "['얼마 전 나혼자산다에 나와\\n핫한 화사의 짜장라면\\n오늘 시도해봤습니다.', '입을 찰싹찰싹 휘감을지\\n마님께 찰싹찰싹 맞을지', '마님은 노른자 분리의 달인이라 하셨다.\\n하지만 저게 터진건 분명\\n 그릇에 가시가 돋아있다거나\\n칼날같은 바람이 불었거나 뭐..\\n아무튼 회장님 탓은 아닐 것으로', '야채 스프를 넣고 끓기 전에 면 투하\\n그리고 물을 버리지 않고 분말 스프도 넣기', '너무 불게 되는 것 아닌가\\n걱정에 가슴을 졸이지 말고\\n대신 물을 졸여본다.', '트러플 오일 투하', '화사가 쓴 오일은  \\n셀렉티아 트러플 오일이라고', '나는 지난 여행 때 사온 트러플 오일과\\n슬라이스된 트러플을 넣기로\\n짜파게티 호강하네 호강해', '뭔가 쓰기 아까운 마음은 있지만\\n아끼다 버린 식재료만 얼만지', '좀 더 졸이다가 그릇에 담아내고\\n노른자를 얹어줬다.', '마침 집에 있던 파김치를 곁들여서', '시식평\\n넣는다고 넣었는데 막상 첫 입에는\\n트러플 향이 약하다 느꼈다.\\n화사가 콸콸 넣는만큼은 안했어서..\\n다시 위로 한번 훅 둘러서 먹어봤다.\\n많이 넣으니 확실히 고급스러운 맛이 난다\\n생각보다 잘어울리고 불은 면발도\\n후룩후룩 잘넘어가기는 한다.\\n다만 느끼하긴 해서 많이는 못먹겠고\\n딱 반개 정도만 먹는 게 베스트인듯\\n마님은 노른자가 별로 안어울린다고 하심', '농심이 생각이 있으면\\n짜파게티 블랙 에디션으로\\n한 철 팔아먹는 것도 나쁘지 않아보임\\n암튼 호기심은 충족했으나\\n다시 해먹어보지는 않을 듯']\n",
      "['안녕하세요~ 아담이에요~~\\n오늘은 신불당동에 있는 우리미엄을 다녀왔어요~~', '처음에 들어갔을 때 저는 이 전등부터 보였어요~ 너무 이쁘지 않나요??\\n생각보다 안에 분위기가 고급스럽고 이쁘더라고요~~', '식사 주문하면 애피타이저로 나오는데요,\\n바질 향이 가득한 새우 맛이었어요\\n우리미엄은 가격이 있는 편이에요\\n 하지만 맛도 좋고 무엇보다 반찬이 하나 나올 때도 깔끔하면서 정성스럽게 나오는 느낌이었어요', '제가 주문한 고기가 나왔어요!!!\\n주문했던 고기가 등심인 거 같은데,, 잘 기억이 나지 않네욥 ㅎㅎㅎㅎㅎ\\n  다른 종류도 시켜보고 싶었지만 다 매진돼서 등심만 먹을 수 있었어요ㅜㅜ\\n우리미엄은 고기를 직접 구워 주셔서 먹기 너무 편했고\\n저한테 익힌 상태를 물어보시면서 구워 주셔서 더 맛있었던 거 같아요~~~', '그리고 짜파게티가 있어서 한번 주문해 봤는데요..\\n위에 고기도 얹어서 나와요.....\\n저의 솔직 후기는 \\n그리고 다른 테이블과 간격이 넓고, 벽 이런 게 있어서 저희만의 시간을 존중받으면서 먹는 느낌이 들었어요\\n음.. 뭔가 룸에 따로 예약 하시자나요? 여기는 룸에서 먹는 느낌도 있고 먹는 곳 옆에 옷장이 있어서 좋았어요~~\\n  고기도 대박이고 특히 감자도 구워 주시는데 감자도 너무 맛있었어요!!!\\n하지만 저는 트러플 짜파게티가 제 입맛에 안 맞았어요....\\n다음에는 그 돈을 주고 사 먹지는 않을 거 같아요~~\\n분위기 내면서 맛있는 스테이크 먹을 수 있는 공간이었어요!!\\n한번 가보시는 걸 추천드려요~~~~', '매일 11:30 - 15:00 last order 14:00\\n매일 17:30 - 23:00 last order 21:30']\n",
      "['', '부산대 밥집\\n몽포트', '', \"오\\n늘은 부산대 밥집으로 유명한 양식당 '몽포트' 솔직 후기 포스팅!\\n친구와 함께 오랜만에 분위기 좋으면서도 가성비도 괜찮고 맛도 있었던 곳이어서, 후기를 남겨보려 한다.\\n스테이크, 파스타, 리조또, 샐러드까지 알차게 먹어서 너무 배불렀던 기억이...ㅎㅎ\", '', '', '부산대 근처에 파스타 맛있게 하는 곳을 찾다 보니 발견하게 된 곳인데\\n전체적인 분위기도 너무 좋았고 맛도 괜찮았기에 별 5개를 주고 싶은 레스토랑이 되었다.\\n부산대 밥집, 부산대 스테이크 등 여러 번 검색을 한 결과....ㅋㅋㅋㅋ\\n이렇게 맛있는 곳을 발견했다는 거에 너무나도 뿌듯했다는...!!', '', '원목 인테리어가 돋보였던 몽포트!\\n큰 창문 때문인지 공간이 훨씬 더 넓어 보이는 효과도 있었고, 답답한 느낌이 없는 듯했다.\\n테이블도 널찍 널찍하게 있고, 많아서 2인부터 4인까지 다양하게 방문해도 문제없을 만한 규모였다.', '큰 창문 덕분에 밖의 모습까지 볼 수 있는데, 날씨가 좋은 날이면 더할 나위 없이 행복할 듯싶었다.\\n하늘도 파랗고 따사로운 햇살이 들어오고 밥까지 맛있다면.... 그곳이 천국이랴~!', '', \"몽\\n포트는 오너 셰프가 가족과 함께 운영하는 양식당이라고 한다.\\n오픈형 주방으로 요리하는 모습이 보이고, 맛있는 냄새와 소리들까지 들리니...\\n청각, 시각, 후각 거기에 음식이 나오면 미각까지 사로잡는 부산대 밥집 '몽포트'\", '예쁜 꽃들까지 있으니, 분위기도 UP 되고, 인테리어 효과 톡톡~!\\n부산대 근처 소개팅 장소 찾으시는 분들은 이곳도 참 좋을 것 같기도 했다.\\n메뉴도, 인테리어도, 분위기도 모두 안성맞춤 :-)\\n여자들이 좋아할 만한 스타일~~ 남자분들 참고하시길!', '본격적으로 어떤 걸 먹어야 할까~ 늘 고민하는 메뉴 정하는 시간!\\n우리는 2인이 방문했고, 디너세트가 있길래 A로 주문하였었다.\\n디너세트 A는 채끝 등심 스테이크, 트러플오일이 들어간 버섯 리조또, 샐러드와 식전 빵 이렇게 구성되어 있다.', '따로 메뉴판을 찍어 왔어야 했는데...ㅠㅠ\\n네이버에 등록된 정보에는 디너세트가 표시되어 있지 않았다...\\n그래도 이거라도 참고하시면 좋을 것 같아 캡처해서 가져와 봤음!', '제\\n일 먼저 등장해 준 메뉴는 식전 빵과 싱싱한 야채들과 토마토, 리코타 치즈가 곁들어진 샐러드!\\n올리브, 건포도, 견과류까지 알차게 뿌려져 잇고 맛있는 소스와 야채, 빵을 함께 먹으니 식감도 살아 있고\\n애피타이저로 아주 만족스러운 샐러드였다. 무엇보다 리코타 치즈는 사랑....♥', '', '토마토, 치즈, 야채, 올리브 이렇게 빵이랑 함께 한입에 넣으면...?!\\n옴마야~ 고소하면서도 달달하고... 빵은 또 촉촉하니... 취향 저격 샐러드ㅋㅋㅋㅋㅋ\\n세트 메뉴로 주문하니 메뉴 별로 다양하게 맛볼 수 있고 가격도 착하니까 너무 괜찮았다.', '두 번째로 등장했던 메뉴는 트러플 오일이 들어간 버섯 리조또!\\n얼마 전 화사가 만들어 먹었던 트러플 오일 짜파게티.... 그때 이후로 트러플 오일 맛에 빠져 있었는데...!!\\n버섯 리조또도 완전 내 스타일이었다ㅠㅠ~\\n버섯 향이 코 끝을 자극하면서 쫄깃쫄깃한 식감도 있으며 리조또가 너무 퍼지 지도 않아서 만족스러웠던 메뉴!\\n이건, 다음에 꼭 다시 와서 또 먹을테야.....ㅋㅋㅋㅋ', '다음은 메인 메뉴라고 할 수 있는 채끝 등심 스테이크!\\n스테이크와 함께 나온 가니쉬들도 참 예쁘고 마음에 들었음과 동시에 맛도 좋았다.\\n가니쉬가 잘 준비되어 나오니까 음식 자체가 더 맛있어 보이고... 스테이크 비주얼이 훨씬 좋아 보인다는...!!', '그렇게 본격적으로 스테이크를 썰어 보는데... 어찌나 부드럽게 잘 썰리던지ㅋㅋㅋㅋ\\n잘 썰림과 동시에 소스도 너무 맛있었고 육즙이 입안에서 싸악- 퍼질 때의 황홀함!\\n부산대 스테이크 밥집 찾는다면.... 몽포트 추천 안 할 수가 없는 맛이었다.', \"가\\n성비도 괜찮아서 음식 하나하나 더욱 마음에 들었던 부산대 밥집 '몽포트'\\n내가 먹었던 버섯 리조또랑... 채끝 등심 스테이크는 신의 한 수와 같은 그런 행복한 맛이었다.\\n부산대 스테이크로도 검색해서 '어디 맛있는 곳 없나~' 찾으신다면 꼭 한번 방문해 보시길 추천드리는 바이다.\", '', '', '', '']\n",
      "['#의정부스테이크맛집\\n#의정부와인바\\n#의정부펠리치타36 ', \"안녕하세용 '-' 치치커플입니다! 몇일 전 쌍둥이 언니랑 분위기 좋은 곳에서 맛있는 술이 먹고싶어지는 날이였어요! 특히 제 친언니가 소주나 맥주도 좋아하지만 그중에서도 와인을 굉장히 좋아하거든요!  그래서  의정부 와인바를 찾아보니, 저렴한 가격의 와인은 물론! (와인이 잔당 2,900원밖에 안하더라구용! ), 로맨틱한 분위기까지..! 와인에 곁들일 수 있는 메뉴도 판매하고, 식사메뉴도 판매하고 있더라구용! 마침 저녁겸 간단하게 와인한잔 곁들일 곳을 찾고 있었기 때문에 고민하지 않고 바로 의정부펠리치타36으로 향했답니다 :) 치치커플은 아쉽게 의정부 스테이크 맛집으로 유명한 곳이였지만, 전 날 고기를 많이 먹어  스테이크는 맛보지 못햇어요!  하지만 맛있는 파스타와 피자를 맛보니 이 집은 모든 음식이 다 맛있을 것 같더라구용! 다음에는 가격도 저렴한데 맛도 있는 스테이크에 와인한잔 곁들여서 먹으러 와야겠더라구요~ 가격도 저렴해서 부담없이 마음껏 배터지게 먹고온 곳이였어용!  로맨틱한 분위기는 물론, 와인가격도 저렴한 의정부 스테이크 맛집 , 의정부 와인바 펠리치타36 리뷰 시작합니다~!  \", '의정부 와인바 펠리치타36의 영업시간은 연중무휴로, 매일 오전 11시30분부터 새벽 1시까지 영업한다구해용 :) 참고로 주차공간은 따로 구비되어 있지 않으니 참고해주세용! ', '의정부 펠리치타36의 위치는 바로 의정부 시내 중앙에 위치해있는데요! 의정부 농협 맞은편, 이디야 옆건물에 위치해있어서 찾기도 쉽고 가까워서 좋더라구용! 위치가 가까워서 맨날 언제가보지 했는데~ 쌍둥이랑 시간이 생겨 드디어 다녀올 수 있어서 너무 좋았답니다 :) ', '', '짠! 의정부 펠리치타36 외관이에요! 1층은 돈돈정건물, 2층에 위치해있는데요~ 외관에서부터 너무 고급진 느낌 가득하지 않나요?! 항상 의정부 지나다니면서 여기는 시간되면 꼭 가봐야지 햇었는데 드디어 입성..! 고급지고 깔끔한 외관에서부터 맛집스멜이 느껴지는 곳이였어요! ', '의정부 펠리치타36의 듯은 이태리아어로 행복을 뜻하며, 행복로 36에 위치한 펠리치타 36을 의미한다고해용! 와,, 방문하기 전 무슨의미인지 생각했는데 넘 센스있는 펠리치타36이였어용~ 펠리치타36은 고급지지만 착한가격에 와인과, 수제맥주,칵테일 그리고 전문쉐프의 맛있는 음식을 맛볼 수 있는 곳이라고 하네요 :) ', '요기는 입구로 올라가기 전 1층에도 테이블이 있어서 한번 찍어보았는데요~ 너무이쁘지 않나요! 날씨가 많이 풀리면 요기 야외에서 앉아서 우아하게 와인한잔 먹어도 너무 좋을 것 같더라구용 ㅎㅎㅎ 저희가 방문한 날은 눈이 많이오는 날이여서 야외에서 먹진 못했어용! ', '기다리고 기다리던 펠리치타36으로 들어왔어요! 와 들어오자마자 분위기보고 깜놀..! 분위기 너무이쁘지 않나요..?! 우아하면서 고급진 분위기가 물씬 나는 의정부 와인바 였네요 :) 수십가지의 와인종류는 물론, 일요일 저녁부터 대부분 커플분들이 와인을 즐기면서 데이트를 하고 있으시더라구용! ', '쌍둥이랑 온 저는 나중에 남자친구랑 꼭 와야겠다는 생각이 들정도로 너무너무 이쁜 곳이였어용! 나중에 기념일이나 생일때 오면 특별한 분위기에서 저렴한가격으로 분위기있는 와인한잔 하러오기 너무너무 좋을것 같더라구용 ㅠㅠ! 왜 이제서야 왔는지 후회,,, 다음 남자친구생일때 이벤트장소는 바로 요기닷..! ㅋㅋㅋ ', '이렇게 와인전용 냉장고도 구비되어있어서 좋더라구용! 와인을 전문적으로 판매하는 와인바다운 펠리치타36이였어요! 와인외에도 수제맥주 종류와 칵테일 종류도 다양해서 취향대로 원하는 술을 먹을 수 있는 점도 너무 좋은 곳이였답니다! ', \"펠리치타36의 메뉴판은 저녁메뉴판과, 와인메뉴판 두가지로 나누어져있었는데 메뉴판의 메뉴가 너무 많아서 사진으로 다담지는 못했어용 :) 술종류가 어마어마하고 다양하니 방문해서 직접 보시는걸 추천드려용 '-^ 저희는 파스타와 피자, 그뿐만으로는 아쉬워서 감자튀김도 주문했답니다! \", '짠! 맛있게 셋팅된 메뉴전체를 동영상으로도 담아보았어요 ㅎㅎ! 음식비주얼부터 시작해서 가게분위기까지! 빠짐없이 너무 좋았던 펠리치타36이였어용! 음식도 주문한지 10분내로 금방 나와서 빨리먹을 수 있어서 좋더라구용 ', '피자 + 파스타 + 감자튀김 = 사랑', '주문을 하면 가장먼저 밑반찬으로 무와 할라피뇨를 준비해주시는데용! 개인적으로 할라피뇨는 안먹어서 모르겠지만 저무피클은 새콤달콤한게 파스타랑 피자에 정말 잘어울리는 밑반찬이더라구용 :) 아삭아삭한게 꿀맛..! ', '그리고 식전빵을 준비해주시는데용! 식전빵조차도 맛있는거 무엇..? 버터라고 생각했는데 버터에다가 귤향이 가미된?! 상큼한 향을 빵에 덧발라서 먹으니 얼마나 맛있던지 ㅠㅠ 식전빵답게 메인메뉴를 먹기 전 입맛을 확 돋구어주는 맛있는 식전빵이였네용! ', '자리셋팅을 미리준비해주셨는데 정말 좋았던 점 중하나! 바로 수저가 봉투안에 들어있다는 점인데용~ 위생적으로 깔끔하게 준비되어 있는점이 너무 마음에 들더라구용! ', '가장먼저 나온 알리오올리오파스타에용! 요 알리오올리오파스타는 올리브오일과 마을을 넣어서 만든 파스타라고하는데용! 파스타비주얼 넘 영롱하니 이쁘지 않나용!? 마늘도 아낌없이 듬뿍, 토마토도 아낌없이 듬뿍! 면의 양도 충분히 먹고남을 양으로 푸짐하니 좋더라구용! ', '부끄럽게도 알리오올리오파스타를 처음먹어보았는데용, 항상 토마토아니면 크림파스타만을 먹던 저에게 알리오올리오파스타는 저에게 충격을 선사해주었지뭐에요,,, 먹어보고 왜 여태 이맛있는걸 안먹어봣을까 라는 후회가 들더라구용 ㅋㅋㅋㅋ 올리브오일이 들어가서 느끼하진 않을까 걱정했는데 전혀 느끼하지않고 마늘이 들어가서 마늘향과 올리브오일향의 조합이 엄청나더라구용 ㅠㅠ! ', '너무 맛있어서 끊임없이 흡입하게 되는 마법의 파스타,,★ 너란녀석 내가 다 먹어줄꺼야! 마늘외에도 각종 채소와 토마토도 풍부하게 들어가 있어서 각종 야채와 채소를 곁들여서 먹으면 더더욱 풍미가 더해져 맛있더라구용! ', '개인적으로 파스타면은 푹삶은 면보다 조금 덜익힌 상태의 알덴테 정도의 면 익기를 좋아하는데 펠라티차36의 면식감은 제가 정말 좋아하는 식감으로 꼬들꼬들하니 맛있는 면의 익기였네요 :)', '다음은 쌍둥이언니의 추천으로 시켰던 트러블오일프렌치프라이인데요~ 일반 프렌치프라이는 많이 먹어봤어도 트러플오일이 들어간 감자튀김은 처음이였어용! 무려 송로버섯의 트러플 오일이들어간 감자튀김이라는데용! 요즘 트러플짜파게티가 유행이잖아용! 이거이거~ 트러플오일이들어간 감자튀김도 대박유행일 예감..! ', '트러플오일향이 사르르 입안에 퍼지면서 튀김에 은은하게 향이 베어있는데, 개인적으로 캐첩에 찍어먹는 것보다 그냥 아무것도 찍지않고 먹는 감자튀김이 더욱 맛있더라구용! 감튀에 케찹은 필수라고 생각했던 제가, 트러플오일이 들어간 감자튀김은 그냥먹는게 더 맛있어서 놀랬어요! ', '무엇보다 요 감자튀김은 간단하게 와인한잔 하면서 시키기좋은 사이드메뉴라는 생각이 들더라구용~ 밥을 먹고와서 배부를때 간단하게 집어 먹을 수 있는 안주가 필요하다!면 트러플오일이 곁들여진 프렌치프라이 강추에요~ 짭조롬한게 바삭하니 손이 계속가는 맛이더라구용 ㅎㅎ! 쌍둥이언니는 화이트와인을 주문! 저는 칵테일을 주문했어요! ', '요 감자튀김에  음주를 안하는건 예의가 아니라는 생각이 든 저는 당장 라임모히또 칵테일도 한잔 주문했답니다! 라임모히또 맛이 알콜을 잘 못드시는 분들도 충분히 마실 수 있을정도로 달달하고 새콤한게 맛있더라구용 ㅎㅎ! 앞으로 술 잘못먹는 친구들 있으면 분위기좋은 칵테일먹으러 와야겟더라구용', '마지막으로 피자를 좋아하는 제가 시킨 갈릭베이컨피자인데용! 뽀오얀치즈위에 구운 베이컨과, 구운갈릭이 올라가져있는데 이거또한 별미더라구용! 피자는 가끔 느끼하단 느낌이 들때가 있는데 구운마늘이 위에 칩처럼 올라가있어서 피자를 먹을 때 아삭!하고 씹히는데 마늘이 들어가서 전혀~ 느끼하지 않았던 피자였어요! ', '피자를 주문하면 타바스코핫소스도 준비해주시는데 요 아이를 뿌려먹으면 감칠맛이 더해지더라구용~ 근데 저는 개인적으로 피자자체가 너무 맛있어서 아무것도 뿌려먹지않고 맛있게 먹었답니다 :) ', '헤헷 포테이토피자도 먹고싶어서 갈릭베이컨피자에다가 주문했던 짭조롬 한 트러플오일이 더해진 감자튀김을 올려서 먹으니 포테이토피자 탄생★ 너무맛있어서 여자둘이서 피자까지 남김없이 싹싹 긁어먹고왔던 펠리치타36이였답니다! ', '펠리치타36 솔직후기로! 로맨틱하고 데이트하기 좋은 분위기는 물론, 잔당 2,900원의 저렴한 가격으로 \\n와인을 즐길 수 있는 곳이였어요! 무엇보다 분위기가 너무 좋아서 가격이 비쌀 줄 알았는데 가격도 저렴하니 \\n앞으로 자주 올 것 같더라구용! ', '가성비도좋고 맛도좋은 의정부 맛집 인정이에용! \\n그럼저는 마지막으로 장소 남기고 다음에 다른포스팅에서 뵙겠습니다! 감사합니다! ', '#의정부스테이크 #의정부스테이크맛집 #펠리치타36 #의정부펠리치타36 #의정부와인바\\n#의정부술집 #의정부레스토랑 #의정부분위기좋은곳 #의정부데이트 #의정부데이트장소추천\\n#의정부와인바추천 #의정부와인 #의정부저렴한술집 #의정부가성비술집 #의정부존맛\\n#의정부피자 #의정부맛집 #의정부맛집추천 #의정부맛집베스트 #의정부파스타 #의정부파스타맛지\\n#의정부파스타맛집추천 #의정부레스토랑 #의정부펠리치타 #의정부레스토랑추천  #의정부카페\\n#의정부데이트코스 #의정부데이트코스추천 #존맛 ']\n",
      "['안녕하세요 해가빛입니다!', '오늘은 간단한 먹먹 리뷰로 돌아왓어요!', '해가빛이 동생이랑 먹은 메뉴는요!', '잔슨빌 소시지랑 콜라보해서 핫한 아메리칸 독이랑 트러플통모짜버거에요!\\n아메리칸독은 2900원 트러플통모짜버거는 세트업! 쿠폰으로 단품가격인 6600원에 먹엇습니다. ', '머스타드랑 케첩소스만 뿌린 비쥬얼이에요!\\n식감은 살아있는 다진 피클소스?도 포함이에요!\\n이 제품은 동생이 먹었는데 2900원 이상의 혜자롭한 맛이었데요!\\n소시지가 통통하고 식감좋고b\\n꽤 배부르대요!', '해가빛이 시킨 트러플통모짜버거에요.\\n통모짜버거는 쉬림프와퍼때처럼 매콤~한 소스를 사용하고\\n트러플통모짜버거는  트리플머쉬룸버거때처럼 버섯크림소스로 고소~한 맛이에요. \\n트러플통모짜버거X는 패티가 스테이크패티라고 해요!', '두툼두툼\\n해가빛은 핫한 롯리 모짜렐라버거도 안 먹어봤는데! 원래 모짜렐라 패티는 튀겨 나오나요...?\\n와퍼패티랑 베이컨, 모짜패티, 트러플머쉬룸소스, 토마토, 양파, 양상추가 들어있어요.', 'BITE\\n솔직리뷰\\n베이컨이 2피스 들어있어서 고소하면서도 조금 짜요..ㅠ \\n5분거리 집앞에 있는 버거킹에서 테이크아웃 한건데 제가 예상했던 쭈욱 들어나는 모짜렐라는 아니었어요 ㅠㅠㅠ\\n굳굳 굳은 모짜렐라...\\n맛은 고소했어요!\\n전체적인 밸런스는 무난하지만 느끼할 수 있는 맛..?\\n통모짜버거의 매콤소스면 더 맛잇게 먹을 거 같아요. \\n아니 그리고 양이 늘었낰ㅋㅋㅋㅋㅋ 저 여자치고 굉장히 많이 먹는 편이긴 하지만 ... 통새우와퍼나 트러플치즈와퍼 같은 경우는 먹고 나서 우와 양 너무 많다! 배부르다...! 하면서 다 먹는 편인데...\\n양이 별로 많지 않은 느낌이었어요\\n꼬소한~모짜렐라맛이 살아있는(벗 와퍼 패티와 베이컨 맛이 더 많이 나는...) 버거킹 와퍼를 먹고 싶다! 하시는 분들은 추천드려요!\\n해가빛은 치즈맛을 좋아해서 트러플치즈와퍼를 좋아했는데 느끼한 맛이 덜하고 고소한 맛은 더 강해서 통모짜와퍼로 갈아탈거 같아요! \\n벗... 트러플 오일을 스파게티, 짜파게티, 샐러드 등등 온갖음식에 뿌려먹는 해가빛한테는 트러플 맛은 좀 약했어요. ']\n",
      "\n"
     ]
    }
   ],
   "source": [
    "dict = {}\n",
    "\n",
    "number = 100 \n",
    "for i in tqdm(range(0, number)):\n",
    "    \n",
    "    url = url_load['url'][i]\n",
    "    driver = webdriver.Chrome(r\"C:\\Users\\ASIA_12\\chromedriver.exe\")\n",
    "    driver.get(url)\n",
    "\n",
    "    try:\n",
    "        driver.switch_to_frame('mainFrame')\n",
    "        \n",
    "        target_info = {}\n",
    "        \n",
    "        overlays = \".se-fs-.se-ff-\"\n",
    "        tit = driver.find_element_by_css_selector(overlays)\n",
    "        title = tit.text\n",
    "        title\n",
    "        \n",
    "        overlays = \".nick\"\n",
    "        nick= driver.find_element_by_css_selector(overlays)\n",
    "        nickname = nick.text\n",
    "        \n",
    "        overlays = \".se_publishDate.pcol2\"\n",
    "        date = driver.find_element_by_css_selector(overlays)\n",
    "        datetime= date.text\n",
    "        \n",
    "        overlays = \".se-component.se-text.se-l-default\"\n",
    "        contents = driver.find_elements_by_css_selector(overlays)\n",
    "        \n",
    "        content_list = []\n",
    "        for content in contents:\n",
    "            content_list.append(content.text)\n",
    "        \n",
    "        content_str = ' '.join(content_list)\n",
    "            \n",
    "#         content_str = ' '.join(content_list)\n",
    "        print(content_list)\n",
    "    except Exception as e:    # 모든 예외의 에러 메시지를 출력할 때는 Exception을 사용\n",
    "        print('예외가 발생했습니다.', e)"
   ]
  },
  {
   "cell_type": "code",
   "execution_count": 98,
   "metadata": {},
   "outputs": [
    {
     "name": "stdout",
     "output_type": "stream",
     "text": [
      "99 [버거킹]트러플통모짜버거랑 잔슨빌핫도그 먹어보기 할인받는 꿀팁 내돈주고 사먹은 후기 버거킹 신메뉴 버거킹 추천 메뉴\n"
     ]
    }
   ],
   "source": [
    "target_info['title'] = title\n",
    "target_info['datetime'] = datetime\n",
    "target_info['content'] = content_str\n",
    "\n",
    "dict[i] = target_info\n",
    "time.sleep(1)\n",
    "\n",
    "print(i, title)\n",
    "\n",
    "if i == 30 or 50 or 80:\n",
    "    import pandas as pd \n",
    "    result_df =pd.DataFrame.from_dict(dict,'index')\n",
    "\n",
    "    result_df.to_excel(\"C:/Users/ASIA_12/blog_트러플짜파게티후기.xlsx\")\n",
    "    time.sleep(3)"
   ]
  },
  {
   "cell_type": "code",
   "execution_count": null,
   "metadata": {},
   "outputs": [],
   "source": []
  },
  {
   "cell_type": "code",
   "execution_count": null,
   "metadata": {},
   "outputs": [],
   "source": []
  },
  {
   "cell_type": "code",
   "execution_count": null,
   "metadata": {},
   "outputs": [],
   "source": []
  }
 ],
 "metadata": {
  "kernelspec": {
   "display_name": "Python 3",
   "language": "python",
   "name": "python3"
  },
  "language_info": {
   "codemirror_mode": {
    "name": "ipython",
    "version": 3
   },
   "file_extension": ".py",
   "mimetype": "text/x-python",
   "name": "python",
   "nbconvert_exporter": "python",
   "pygments_lexer": "ipython3",
   "version": "3.7.7"
  }
 },
 "nbformat": 4,
 "nbformat_minor": 4
}
