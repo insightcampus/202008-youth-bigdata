{
 "cells": [
  {
   "cell_type": "markdown",
   "metadata": {},
   "source": [
    "# 원핫인코딩 직접구현\n",
    "- 데이터 분석가는 직접구현을 하는 게 맞지만\n",
    "- 마케팅에서 데이터 분석을 강점으로 가져가고 싶다면 라이브러리 사용해서 익숙하게"
   ]
  },
  {
   "cell_type": "code",
   "execution_count": 10,
   "metadata": {},
   "outputs": [],
   "source": [
    "#인코딩 대상 단어를 담은 리스트\n",
    "word_ls=['원숭이','바나나','사과','코끼리']"
   ]
  },
  {
   "cell_type": "code",
   "execution_count": 4,
   "metadata": {},
   "outputs": [],
   "source": [
    "from collections import defaultdict\n",
    "import numpy as np"
   ]
  },
  {
   "cell_type": "code",
   "execution_count": 8,
   "metadata": {},
   "outputs": [],
   "source": [
    "# {단어:인덱스} 사전구축\n",
    "word2id_dic = defaultdict(lambda:len(word2id_dic))\n",
    "\n",
    "for word in word_ls:\n",
    "    word2id_dic[word]\n",
    "\n",
    "#고유단어 갯수 : 4개\n",
    "n_unique_words = len(word2id_dic)\n",
    "\n",
    "#원핫 벡터를 만들기 위해 비어있는 벡터 생성\n",
    "one_hot_vectors = np.zeros((len(word_ls), n_unique_words))"
   ]
  },
  {
   "cell_type": "code",
   "execution_count": 9,
   "metadata": {},
   "outputs": [
    {
     "data": {
      "text/plain": [
       "array([[1., 0., 0., 0.],\n",
       "       [0., 1., 0., 0.],\n",
       "       [0., 0., 1., 0.],\n",
       "       [0., 0., 0., 1.]])"
      ]
     },
     "execution_count": 9,
     "metadata": {},
     "output_type": "execute_result"
    }
   ],
   "source": [
    "# 단어 고유 인덱스\n",
    "for i, word in enumerate(word_ls):\n",
    "    index = word2id_dic[word]\n",
    "    one_hot_vectors[i,index] += 1 # 단어 고유 인덱스에 1을 더해줌\n",
    "one_hot_vectors"
   ]
  },
  {
   "cell_type": "code",
   "execution_count": null,
   "metadata": {},
   "outputs": [],
   "source": []
  },
  {
   "cell_type": "code",
   "execution_count": null,
   "metadata": {},
   "outputs": [],
   "source": []
  },
  {
   "cell_type": "code",
   "execution_count": 11,
   "metadata": {},
   "outputs": [],
   "source": [
    "# 라이브러리 사용해서 구현"
   ]
  },
  {
   "cell_type": "markdown",
   "metadata": {},
   "source": [
    "# sklearn을 활용한 one-hot encoding"
   ]
  },
  {
   "cell_type": "code",
   "execution_count": 13,
   "metadata": {},
   "outputs": [],
   "source": [
    "#sklearn 을 이용한 one-hot encoding  3단계로 \n",
    "from numpy import array\n",
    "from numpy import argmax # 큰값부터 sorting 하는거\n",
    "from sklearn.preprocessing import LabelEncoder\n",
    "from sklearn.preprocessing import OneHotEncoder"
   ]
  },
  {
   "cell_type": "code",
   "execution_count": 14,
   "metadata": {},
   "outputs": [
    {
     "data": {
      "text/plain": [
       "['원숭이', '바나나', '사과', '코끼리']"
      ]
     },
     "execution_count": 14,
     "metadata": {},
     "output_type": "execute_result"
    }
   ],
   "source": [
    "word_ls"
   ]
  },
  {
   "cell_type": "code",
   "execution_count": 17,
   "metadata": {},
   "outputs": [
    {
     "data": {
      "text/plain": [
       "array(['원숭이', '바나나', '사과', '코끼리'], dtype='<U3')"
      ]
     },
     "execution_count": 17,
     "metadata": {},
     "output_type": "execute_result"
    }
   ],
   "source": [
    "#예제 데이터 배열\n",
    "values = array(word_ls) # 리스트였던 word_ls 배열로 바꿔주기\n",
    "values"
   ]
  },
  {
   "cell_type": "code",
   "execution_count": 18,
   "metadata": {},
   "outputs": [
    {
     "data": {
      "text/plain": [
       "array([2, 0, 1, 3], dtype=int64)"
      ]
     },
     "execution_count": 18,
     "metadata": {},
     "output_type": "execute_result"
    }
   ],
   "source": [
    "# 문자열에 숫자를 붙임\n",
    "label_enc = LabelEncoder() # labelencoder 쓸거라고 선언\n",
    "int_enc = label_enc.fit_transform(values)\n",
    "int_enc # 나온 숫자값들은 컴퓨터가 알아서 붙인거임.."
   ]
  },
  {
   "cell_type": "code",
   "execution_count": 21,
   "metadata": {},
   "outputs": [
    {
     "data": {
      "text/plain": [
       "array([[0., 0., 1., 0.],\n",
       "       [1., 0., 0., 0.],\n",
       "       [0., 1., 0., 0.],\n",
       "       [0., 0., 0., 1.]])"
      ]
     },
     "execution_count": 21,
     "metadata": {},
     "output_type": "execute_result"
    }
   ],
   "source": [
    "#binary ecndoe\n",
    "onehot_enc=OneHotEncoder(sparse=False) #선언(False로 디폴트 인데, true로하면 행렬로나오고, False로하면 배열로나옴)\n",
    "int_enc = int_enc.reshape(len(int_enc),1) # n:1 matrix로 변환\n",
    "onehot_enc = onehot_enc.fit_transform(int_enc)\n",
    "onehot_enc"
   ]
  },
  {
   "cell_type": "code",
   "execution_count": null,
   "metadata": {},
   "outputs": [],
   "source": []
  }
 ],
 "metadata": {
  "kernelspec": {
   "display_name": "Python 3",
   "language": "python",
   "name": "python3"
  },
  "language_info": {
   "codemirror_mode": {
    "name": "ipython",
    "version": 3
   },
   "file_extension": ".py",
   "mimetype": "text/x-python",
   "name": "python",
   "nbconvert_exporter": "python",
   "pygments_lexer": "ipython3",
   "version": "3.6.4"
  }
 },
 "nbformat": 4,
 "nbformat_minor": 2
}
