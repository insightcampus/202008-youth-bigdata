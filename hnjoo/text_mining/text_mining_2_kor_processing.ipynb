{
  "nbformat": 4,
  "nbformat_minor": 0,
  "metadata": {
    "colab": {
      "name": "text_mining_2_kor_processing.ipynb",
      "provenance": [],
      "collapsed_sections": [],
      "authorship_tag": "ABX9TyNIC/e3oRjBRBcG32C01YzR",
      "include_colab_link": true
    },
    "kernelspec": {
      "name": "python3",
      "display_name": "Python 3"
    }
  },
  "cells": [
    {
      "cell_type": "markdown",
      "metadata": {
        "id": "view-in-github",
        "colab_type": "text"
      },
      "source": [
        "<a href=\"https://colab.research.google.com/github/insightcampus/202008-youth-bigdata/blob/master/hnjoo/text_mining/text_mining_2_kor_processing.ipynb\" target=\"_parent\"><img src=\"https://colab.research.google.com/assets/colab-badge.svg\" alt=\"Open In Colab\"/></a>"
      ]
    },
    {
      "cell_type": "code",
      "metadata": {
        "id": "vFaBCqotcVhN",
        "colab_type": "code",
        "colab": {}
      },
      "source": [
        "# 코렙에서 Konlpy, Mecab 설치하기 \n",
        "! sudo apt-get install g++ openjdk-7-jdk #Install Java 1.7+ \n",
        "#!sudo apt-get install python-dev; pip install konlpy # Python 2.x \n",
        "!sudo apt-get install python3-dev; pip3 install konlpy # Python 3.x \n",
        "!sudo apt-get install curl \n",
        "! bash <(curl -s https://raw.githubusercontent.com/konlpy/konlpy/master/scripts/mecab.sh)"
      ],
      "execution_count": null,
      "outputs": []
    },
    {
      "cell_type": "markdown",
      "metadata": {
        "id": "kSGOoeftdFBE",
        "colab_type": "text"
      },
      "source": [
        "# 텍스트 전처리 (Text Preprocessing)\n",
        "- 텍스트를 자연어 처리를 위해 용도에 맞도록 사전에 표준화 하는 작업\n",
        "- 텍스트 내 정보를 유지하고, 중복을 제거하여 분석 효율성을 높이기 위해 전처리를 수행"
      ]
    },
    {
      "cell_type": "markdown",
      "metadata": {
        "id": "9fW-Zm4CdOWx",
        "colab_type": "text"
      },
      "source": [
        "## 1. 토큰화 (Tokenizing)\n",
        "- 텍스트를 자연어 처리를 위해 분리하는 것\n",
        "- 토큰화는 단어별로 분리하는 \"단어 토큰화(Word Tokenization)\"와 문장별로 분리하는 \"문장 토큰화 (Sentence Tokenization)\"로 구분\n",
        "  + (이후 실습에서는 단어 토큰화를 \"토큰화\"로 통일하여 칭하도록 한다)\n",
        "\n",
        "\n",
        "- 참고: https://konlpy.org/en/latest/api/konlpy.tag/(https://konlpy.org/en/latest/api/konlpy.tag/)\n"
      ]
    },
    {
      "cell_type": "code",
      "metadata": {
        "id": "g6K7DXFwcYuA",
        "colab_type": "code",
        "colab": {}
      },
      "source": [
        "# 모든 형태소 분석기 한 번에 호출\n",
        "# from konlpy.tag import *"
      ],
      "execution_count": 2,
      "outputs": []
    },
    {
      "cell_type": "code",
      "metadata": {
        "id": "myMGYVlJd4sy",
        "colab_type": "code",
        "colab": {
          "base_uri": "https://localhost:8080/",
          "height": 35
        },
        "outputId": "37bab4cf-775d-4d25-f440-e7e4d6c42b7e"
      },
      "source": [
        "text='인생은 모두가 함께하는 여행이다. 매일매일 사는 동안 우리가 할 수 있는 건 최선을 다해 이 멋진 여행을 만끽하는 것이다.'\n",
        "print(text.split(' '))"
      ],
      "execution_count": 3,
      "outputs": [
        {
          "output_type": "stream",
          "text": [
            "['인생은', '모두가', '함께하는', '여행이다.', '매일매일', '사는', '동안', '우리가', '할', '수', '있는', '건', '최선을', '다해', '이', '멋진', '여행을', '만끽하는', '것이다.']\n"
          ],
          "name": "stdout"
        }
      ]
    },
    {
      "cell_type": "markdown",
      "metadata": {
        "id": "ZR8aOwdyd_h7",
        "colab_type": "text"
      },
      "source": [
        "### 1.1. Komoran (코모란)"
      ]
    },
    {
      "cell_type": "code",
      "metadata": {
        "id": "S2d40WQmd9oo",
        "colab_type": "code",
        "colab": {
          "base_uri": "https://localhost:8080/",
          "height": 55
        },
        "outputId": "a356f9b0-fb3c-4f7d-c7b5-55251aee959f"
      },
      "source": [
        "# 코모란\n",
        "from konlpy.tag import Komoran\n",
        "# 선언\n",
        "komoran = Komoran()\n",
        "# 토큰화 : morphs\n",
        "komoran_tokens = komoran.morphs(text)\n",
        "print(komoran_tokens)"
      ],
      "execution_count": 4,
      "outputs": [
        {
          "output_type": "stream",
          "text": [
            "['인생', '은', '모두', '가', '함께', '하', '는', '여행', '이', '다', '.', '매일', '매일', '살', '는', '동안', '우리', '가', '하', 'ㄹ', '수', '있', '는', '건', '최선', '을', '다', '하', '아', '이', '멋지', 'ㄴ', '여행', '을', '만끽', '하', '는', '것', '이', '다', '.']\n"
          ],
          "name": "stdout"
        }
      ]
    },
    {
      "cell_type": "markdown",
      "metadata": {
        "id": "-vye25REeIx5",
        "colab_type": "text"
      },
      "source": [
        "### 1.2. Hannanum (한나눔)"
      ]
    },
    {
      "cell_type": "code",
      "metadata": {
        "id": "hatd7uHIeC3c",
        "colab_type": "code",
        "colab": {
          "base_uri": "https://localhost:8080/",
          "height": 55
        },
        "outputId": "08f02f96-d1fd-44b8-dbf4-158c2b5d72c7"
      },
      "source": [
        "from konlpy.tag import Hannanum\n",
        "hannanum = Hannanum()\n",
        "hannanum_tokens = hannanum.morphs(text)\n",
        "print(hannanum_tokens)"
      ],
      "execution_count": 5,
      "outputs": [
        {
          "output_type": "stream",
          "text": [
            "['인생', '은', '모두', '가', '함께하', '는', '여행', '이', '다', '.', '매일매일', '사', '는', '동안', '우리', '가', '하', 'ㄹ', '수', '있', '는', '거', '은', '최선', '을', '다하', '어', '이', '멋지', 'ㄴ', '여행', '을', '만끽', '하', '는', '것', '이', '다', '.']\n"
          ],
          "name": "stdout"
        }
      ]
    },
    {
      "cell_type": "markdown",
      "metadata": {
        "id": "ns1L4UjOea0B",
        "colab_type": "text"
      },
      "source": [
        "### 1.3. Okt\n",
        "- Twitter tokenizer 가 v0.5.0.부터 Okt로 변경\n",
        "- 이모티콘 구분 가능"
      ]
    },
    {
      "cell_type": "code",
      "metadata": {
        "id": "WjLzm8yfeXfr",
        "colab_type": "code",
        "colab": {
          "base_uri": "https://localhost:8080/",
          "height": 55
        },
        "outputId": "c50e7377-ca1f-44d0-b6cc-737ea8a09c5f"
      },
      "source": [
        "#Okt (Twitter tokenizer가 v0.5.0.부터 Okt로 변경) \n",
        "from konlpy.tag import Okt \n",
        "okt= Okt() \n",
        "okt_tokens = okt.morphs (text)\n",
        "print(okt_tokens)"
      ],
      "execution_count": 6,
      "outputs": [
        {
          "output_type": "stream",
          "text": [
            "['인생', '은', '모두', '가', '함께', '하는', '여행', '이다', '.', '매', '일', '매일', '사는', '동안', '우리', '가', '할', '수', '있는', '건', '최선', '을', '다해', '이', '멋진', '여행', '을', '만끽', '하는', '것', '이다', '.']\n"
          ],
          "name": "stdout"
        }
      ]
    },
    {
      "cell_type": "markdown",
      "metadata": {
        "id": "yIBvLa2Be0tw",
        "colab_type": "text"
      },
      "source": [
        "### 1.4. Kkma (꼬꼬마)"
      ]
    },
    {
      "cell_type": "code",
      "metadata": {
        "id": "ROGgfYA5epic",
        "colab_type": "code",
        "colab": {
          "base_uri": "https://localhost:8080/",
          "height": 55
        },
        "outputId": "774e62c5-4936-434d-8516-e6f33026c450"
      },
      "source": [
        "# Kkma \n",
        "from konlpy.tag import Kkma\n",
        "kkma= Kkma()\n",
        "kkma_tokens = kkma.morphs(text)\n",
        "print(kkma_tokens)"
      ],
      "execution_count": 7,
      "outputs": [
        {
          "output_type": "stream",
          "text": [
            "['인생', '은', '모두', '가', '함께', '하', '는', '여행', '이', '다', '.', '매일', '매일', '살', '는', '동안', '우리', '가', '하', 'ㄹ', '수', '있', '는', '것', '은', '최선', '을', '다하', '어', '이', '멋지', 'ㄴ', '여행', '을', '만끽', '하', '는', '것', '이', '다', '.']\n"
          ],
          "name": "stdout"
        }
      ]
    },
    {
      "cell_type": "markdown",
      "metadata": {
        "id": "49SKZWDKgCAd",
        "colab_type": "text"
      },
      "source": [
        "## 2. 품사 부착 (PoS Tagging)\n",
        "- 각 토큰에 품사 정보를 추가\n",
        "- 부석시에 불필요한 품사를 제거하거나 (예: 조사, 접속사 등) 필요한 품사를 필터링 하기 위해 사용\n",
        "- 필수 참고: https://docs.google.com/spreadsheets/d/1OGAjUvalBuX-oZvZ_-9tEfYD2gQe7hTGsgUpiiBSXI8/edit#gid=0"
      ]
    },
    {
      "cell_type": "code",
      "metadata": {
        "id": "DcryCDU7gBee",
        "colab_type": "code",
        "colab": {
          "base_uri": "https://localhost:8080/",
          "height": 55
        },
        "outputId": "e25d86a0-eb15-413f-b86b-90d77a040ff5"
      },
      "source": [
        "# 코모란\n",
        "komoranTag = [] \n",
        "for token in komoran_tokens:\n",
        "  komoranTag += komoran.pos(token) \n",
        "print(komoranTag)"
      ],
      "execution_count": 8,
      "outputs": [
        {
          "output_type": "stream",
          "text": [
            "[('인생', 'NNG'), ('은', 'NNP'), ('모두', 'MAG'), ('가', 'VV'), ('아', 'EC'), ('함께', 'MAG'), ('하', 'NNG'), ('늘', 'VV'), ('ㄴ', 'ETM'), ('여행', 'NNG'), ('이', 'MM'), ('다', 'MAG'), ('.', 'SF'), ('매일', 'MAG'), ('매일', 'MAG'), ('살', 'VV'), ('ㄹ', 'ETM'), ('늘', 'VV'), ('ㄴ', 'ETM'), ('동안', 'NNG'), ('우리', 'NP'), ('가', 'VV'), ('아', 'EC'), ('하', 'NNG'), ('ㄹ', 'NA'), ('수', 'NNB'), ('있', 'VV'), ('늘', 'VV'), ('ㄴ', 'ETM'), ('건', 'NNB'), ('최선', 'NNP'), ('을', 'NNG'), ('다', 'MAG'), ('하', 'NNG'), ('아', 'IC'), ('이', 'MM'), ('멋', 'NNG'), ('지', 'NNB'), ('ㄴ', 'JX'), ('여행', 'NNG'), ('을', 'NNG'), ('만끽', 'NNP'), ('하', 'NNG'), ('늘', 'VV'), ('ㄴ', 'ETM'), ('것', 'NNB'), ('이', 'MM'), ('다', 'MAG'), ('.', 'SF')]\n"
          ],
          "name": "stdout"
        }
      ]
    },
    {
      "cell_type": "code",
      "metadata": {
        "id": "F2125uungpC2",
        "colab_type": "code",
        "colab": {
          "base_uri": "https://localhost:8080/",
          "height": 55
        },
        "outputId": "d09b249f-e235-49db-eacf-78a3d58d5746"
      },
      "source": [
        "# 한나눔\n",
        "hannanumTag = [] \n",
        "for token in hannanum_tokens:\n",
        "  hannanumTag += hannanum.pos(token)\n",
        "print(hannanumTag)"
      ],
      "execution_count": 9,
      "outputs": [
        {
          "output_type": "stream",
          "text": [
            "[('인생', 'N'), ('은', 'N'), ('모두', 'M'), ('가', 'J'), ('함께하', 'P'), ('어', 'E'), ('늘', 'P'), ('ㄴ', 'E'), ('여행', 'N'), ('이', 'M'), ('다', 'M'), ('.', 'S'), ('매일매일', 'M'), ('사', 'N'), ('늘', 'P'), ('ㄴ', 'E'), ('동안', 'N'), ('우리', 'N'), ('가', 'J'), ('하', 'I'), ('ㄹ', 'N'), ('수', 'N'), ('있', 'N'), ('늘', 'P'), ('ㄴ', 'E'), ('것', 'N'), ('은', 'N'), ('최선', 'N'), ('을', 'N'), ('다하', 'P'), ('어', 'E'), ('어', 'N'), ('이', 'M'), ('멋지', 'N'), ('ㄴ', 'N'), ('여행', 'N'), ('을', 'N'), ('만끽', 'N'), ('하', 'I'), ('늘', 'P'), ('ㄴ', 'E'), ('것', 'N'), ('이', 'M'), ('다', 'M'), ('.', 'S')]\n"
          ],
          "name": "stdout"
        }
      ]
    },
    {
      "cell_type": "code",
      "metadata": {
        "id": "9xpdQQ1sgtFN",
        "colab_type": "code",
        "colab": {
          "base_uri": "https://localhost:8080/",
          "height": 55
        },
        "outputId": "7a85a8c6-f401-489a-973d-0565dc5778de"
      },
      "source": [
        "# Okt\n",
        "oktTag = []\n",
        "for token in okt_tokens:\n",
        "  oktTag += okt.pos(token)\n",
        "print(oktTag)"
      ],
      "execution_count": 10,
      "outputs": [
        {
          "output_type": "stream",
          "text": [
            "[('인생', 'Noun'), ('은', 'Noun'), ('모두', 'Noun'), ('가', 'Verb'), ('함께', 'Adverb'), ('하는', 'Verb'), ('여행', 'Noun'), ('이다', 'Josa'), ('.', 'Punctuation'), ('매', 'Noun'), ('일', 'Noun'), ('매일', 'Noun'), ('사는', 'Verb'), ('동안', 'Noun'), ('우리', 'Noun'), ('가', 'Verb'), ('할', 'Verb'), ('수', 'Noun'), ('있는', 'Adjective'), ('건', 'Noun'), ('최선', 'Noun'), ('을', 'Josa'), ('다해', 'Noun'), ('이', 'Noun'), ('멋진', 'Adjective'), ('여행', 'Noun'), ('을', 'Josa'), ('만끽', 'Noun'), ('하는', 'Verb'), ('것', 'Noun'), ('이다', 'Josa'), ('.', 'Punctuation')]\n"
          ],
          "name": "stdout"
        }
      ]
    },
    {
      "cell_type": "code",
      "metadata": {
        "id": "9w1P20Psg2Lt",
        "colab_type": "code",
        "colab": {
          "base_uri": "https://localhost:8080/",
          "height": 55
        },
        "outputId": "a1db1696-b94d-4102-f7f0-5da6666cc917"
      },
      "source": [
        "# Kkma\n",
        "kkmaTag = []\n",
        "for token in kkma_tokens:\n",
        "  kkmaTag += kkma.pos(token)\n",
        "print(kkmaTag)"
      ],
      "execution_count": 11,
      "outputs": [
        {
          "output_type": "stream",
          "text": [
            "[('인생', 'NNG'), ('은', 'NNG'), ('모두', 'MAG'), ('가', 'NNG'), ('함께', 'MAG'), ('하', 'NNG'), ('늘', 'VA'), ('ㄴ', 'ETD'), ('여행', 'NNG'), ('이', 'NNG'), ('다', 'NNG'), ('.', 'SF'), ('매일', 'MAG'), ('매일', 'MAG'), ('살', 'NNG'), ('늘', 'VA'), ('ㄴ', 'ETD'), ('동안', 'NNG'), ('우리', 'NP'), ('가', 'NNG'), ('하', 'NNG'), ('ㄹ', 'NNG'), ('수', 'NNG'), ('있', 'VA'), ('늘', 'VA'), ('ㄴ', 'ETD'), ('것', 'NNB'), ('은', 'NNG'), ('최선', 'NNG'), ('을', 'NNG'), ('다하', 'VV'), ('어', 'NNG'), ('이', 'NNG'), ('멋지', 'VA'), ('ㄴ', 'NNG'), ('여행', 'NNG'), ('을', 'NNG'), ('만끽', 'NNG'), ('하', 'NNG'), ('늘', 'VA'), ('ㄴ', 'ETD'), ('것', 'NNB'), ('이', 'NNG'), ('다', 'NNG'), ('.', 'SF')]\n"
          ],
          "name": "stdout"
        }
      ]
    },
    {
      "cell_type": "markdown",
      "metadata": {
        "id": "u64KhdJzhFeQ",
        "colab_type": "text"
      },
      "source": [
        "## 3.불용어 처리(Stopword)¶\n",
        "- 자연어 처리를 위해 불필요한 요소를 제거하는 작업\n",
        "- 불필요한 품사를 제거하는 작업과 불필요한 단어를 제거하는 작업으로 구성\n",
        "- 불필요한 토큰을 제거함으로써 연산의 효율성을 높임\n",
        "\n",
        "- 참고 : https://konlpy-ko.readthedocs.io/ko/v0.4.3/morph/ (https://konlpy-ko.readthedocs.io/ko/v0.4.3/morph)"
      ]
    },
    {
      "cell_type": "code",
      "metadata": {
        "id": "6l4SIR3Whlwj",
        "colab_type": "code",
        "colab": {
          "base_uri": "https://localhost:8080/",
          "height": 472
        },
        "outputId": "a814f8a4-fadb-4a71-d0dc-9e5207c1dbb8"
      },
      "source": [
        "# Okt\n",
        "# 최빈어 조회. 최빈어를 조회하여 불용어 제거 대상을 선정\n",
        "from collections import Counter\n",
        "Counter(oktTag).most_common()"
      ],
      "execution_count": 12,
      "outputs": [
        {
          "output_type": "execute_result",
          "data": {
            "text/plain": [
              "[(('가', 'Verb'), 2),\n",
              " (('하는', 'Verb'), 2),\n",
              " (('여행', 'Noun'), 2),\n",
              " (('이다', 'Josa'), 2),\n",
              " (('.', 'Punctuation'), 2),\n",
              " (('을', 'Josa'), 2),\n",
              " (('인생', 'Noun'), 1),\n",
              " (('은', 'Noun'), 1),\n",
              " (('모두', 'Noun'), 1),\n",
              " (('함께', 'Adverb'), 1),\n",
              " (('매', 'Noun'), 1),\n",
              " (('일', 'Noun'), 1),\n",
              " (('매일', 'Noun'), 1),\n",
              " (('사는', 'Verb'), 1),\n",
              " (('동안', 'Noun'), 1),\n",
              " (('우리', 'Noun'), 1),\n",
              " (('할', 'Verb'), 1),\n",
              " (('수', 'Noun'), 1),\n",
              " (('있는', 'Adjective'), 1),\n",
              " (('건', 'Noun'), 1),\n",
              " (('최선', 'Noun'), 1),\n",
              " (('다해', 'Noun'), 1),\n",
              " (('이', 'Noun'), 1),\n",
              " (('멋진', 'Adjective'), 1),\n",
              " (('만끽', 'Noun'), 1),\n",
              " (('것', 'Noun'), 1)]"
            ]
          },
          "metadata": {
            "tags": []
          },
          "execution_count": 12
        }
      ]
    },
    {
      "cell_type": "code",
      "metadata": {
        "id": "AJD2iCx3hqDM",
        "colab_type": "code",
        "colab": {
          "base_uri": "https://localhost:8080/",
          "height": 35
        },
        "outputId": "22afae62-9e4d-4cd3-8997-826a31a1e873"
      },
      "source": [
        "# 불용어 처리 \n",
        "stopPos = ['Determiner', 'Adverb','Conjunction', 'Josa', 'PreEomi', 'Eomi', 'Suffix', 'Punctuation', 'Foreign', 'Alpha', 'Number', 'Unknown']\n",
        "stopWord = []\n",
        "word = []\n",
        "for tag in oktTag:\n",
        "  if tag[1] not in stopPos:\n",
        "    if tag[0] not in stopWord:\n",
        "      word.append(tag [0])\n",
        "print(word)"
      ],
      "execution_count": 13,
      "outputs": [
        {
          "output_type": "stream",
          "text": [
            "['인생', '은', '모두', '가', '하는', '여행', '매', '일', '매일', '사는', '동안', '우리', '가', '할', '수', '있는', '건', '최선', '다해', '이', '멋진', '여행', '만끽', '하는', '것']\n"
          ],
          "name": "stdout"
        }
      ]
    },
    {
      "cell_type": "code",
      "metadata": {
        "id": "8xURLp05htGa",
        "colab_type": "code",
        "colab": {
          "base_uri": "https://localhost:8080/",
          "height": 55
        },
        "outputId": "32f4de9d-b5b0-4e60-cc3d-3de35dbbb540"
      },
      "source": [
        "print(okt_tokens)"
      ],
      "execution_count": 14,
      "outputs": [
        {
          "output_type": "stream",
          "text": [
            "['인생', '은', '모두', '가', '함께', '하는', '여행', '이다', '.', '매', '일', '매일', '사는', '동안', '우리', '가', '할', '수', '있는', '건', '최선', '을', '다해', '이', '멋진', '여행', '을', '만끽', '하는', '것', '이다', '.']\n"
          ],
          "name": "stdout"
        }
      ]
    },
    {
      "cell_type": "markdown",
      "metadata": {
        "id": "gzYEQ0Qwe2EX",
        "colab_type": "text"
      },
      "source": [
        "## 4. Mecab으로 총정리\n",
        "- 에러는 하단 링크 참조\n",
        "- ref. https://sosomemo.tistory.com/31"
      ]
    },
    {
      "cell_type": "code",
      "metadata": {
        "id": "C5qnQDUde5zf",
        "colab_type": "code",
        "colab": {
          "base_uri": "https://localhost:8080/",
          "height": 35
        },
        "outputId": "6382e98f-357b-48d9-8333-8850eb1430bc"
      },
      "source": [
        "# 토큰화\n",
        "from konlpy.tag import Mecab\n",
        "mecab = Mecab()\n",
        "mecab_tokens = mecab.morphs(text)\n",
        "mecab_tokens[:10]"
      ],
      "execution_count": 15,
      "outputs": [
        {
          "output_type": "execute_result",
          "data": {
            "text/plain": [
              "['인생', '은', '모두', '가', '함께', '하', '는', '여행', '이', '다']"
            ]
          },
          "metadata": {
            "tags": []
          },
          "execution_count": 15
        }
      ]
    },
    {
      "cell_type": "code",
      "metadata": {
        "id": "X1lZhsIlh6F0",
        "colab_type": "code",
        "colab": {
          "base_uri": "https://localhost:8080/",
          "height": 55
        },
        "outputId": "154b9269-db63-4783-f09d-d53982ac199e"
      },
      "source": [
        "# 품사 부착\n",
        "mecabTag = []\n",
        "for token in mecab_tokens:\n",
        "  mecabTag += mecab.pos(token)\n",
        "print(mecabTag)"
      ],
      "execution_count": 16,
      "outputs": [
        {
          "output_type": "stream",
          "text": [
            "[('인생', 'NNG'), ('은', 'NNG'), ('모두', 'NNG'), ('가', 'VV+EC'), ('함께', 'MAG'), ('하', 'VV'), ('는', 'JX'), ('여행', 'NNG'), ('이', 'MM'), ('다', 'MAG'), ('.', 'SF'), ('매일', 'NNG'), ('매일', 'NNG'), ('사', 'VV+EC'), ('는', 'JX'), ('동안', 'NNG'), ('우리', 'NP'), ('가', 'VV+EC'), ('할', 'VV+ETM'), ('수', 'NNG'), ('있', 'VA'), ('는', 'JX'), ('건', 'NP+JX'), ('최선', 'NNG'), ('을', 'JKO'), ('다', 'MAG'), ('해', 'VV+EC'), ('이', 'MM'), ('멋진', 'VA+ETM'), ('여행', 'NNG'), ('을', 'JKO'), ('만끽', 'NNG'), ('하', 'VV'), ('는', 'JX'), ('것', 'NNB'), ('이', 'MM'), ('다', 'MAG'), ('.', 'SF')]\n"
          ],
          "name": "stdout"
        }
      ]
    },
    {
      "cell_type": "code",
      "metadata": {
        "id": "8IXI3VUyiapw",
        "colab_type": "code",
        "colab": {
          "base_uri": "https://localhost:8080/",
          "height": 455
        },
        "outputId": "c7c490a7-cfb1-4ce9-8e18-eea02ce71bdb"
      },
      "source": [
        "# 불용어 처리_최빈어 조회\n",
        "from collections import Counter\n",
        "Counter(mecabTag).most_common()"
      ],
      "execution_count": 17,
      "outputs": [
        {
          "output_type": "execute_result",
          "data": {
            "text/plain": [
              "[(('는', 'JX'), 4),\n",
              " (('이', 'MM'), 3),\n",
              " (('다', 'MAG'), 3),\n",
              " (('가', 'VV+EC'), 2),\n",
              " (('하', 'VV'), 2),\n",
              " (('여행', 'NNG'), 2),\n",
              " (('.', 'SF'), 2),\n",
              " (('매일', 'NNG'), 2),\n",
              " (('을', 'JKO'), 2),\n",
              " (('인생', 'NNG'), 1),\n",
              " (('은', 'NNG'), 1),\n",
              " (('모두', 'NNG'), 1),\n",
              " (('함께', 'MAG'), 1),\n",
              " (('사', 'VV+EC'), 1),\n",
              " (('동안', 'NNG'), 1),\n",
              " (('우리', 'NP'), 1),\n",
              " (('할', 'VV+ETM'), 1),\n",
              " (('수', 'NNG'), 1),\n",
              " (('있', 'VA'), 1),\n",
              " (('건', 'NP+JX'), 1),\n",
              " (('최선', 'NNG'), 1),\n",
              " (('해', 'VV+EC'), 1),\n",
              " (('멋진', 'VA+ETM'), 1),\n",
              " (('만끽', 'NNG'), 1),\n",
              " (('것', 'NNB'), 1)]"
            ]
          },
          "metadata": {
            "tags": []
          },
          "execution_count": 17
        }
      ]
    },
    {
      "cell_type": "code",
      "metadata": {
        "id": "pMwTGR1Ciry0",
        "colab_type": "code",
        "colab": {
          "base_uri": "https://localhost:8080/",
          "height": 35
        },
        "outputId": "c36edc2f-5243-4bb5-bed0-2e3c348ec232"
      },
      "source": [
        "# 불용어 처리_불용어 처리\n",
        "stopPos = ['Determiner','Adverb','Conjunction','Josa','PreEomi','Eomi','Suffix',\n",
        "          'Punctuation','Foreign','Alpha','Number','Unknown']\n",
        "stopWord = ['을','다','는','은','(',')','.']\n",
        "word = []\n",
        "for tag in mecabTag:\n",
        "    if tag[1] not in stopPos:\n",
        "        if tag[0] not in stopWord:\n",
        "            word.append(tag[0])\n",
        "print(word)"
      ],
      "execution_count": 18,
      "outputs": [
        {
          "output_type": "stream",
          "text": [
            "['인생', '모두', '가', '함께', '하', '여행', '이', '매일', '매일', '사', '동안', '우리', '가', '할', '수', '있', '건', '최선', '해', '이', '멋진', '여행', '만끽', '하', '것', '이']\n"
          ],
          "name": "stdout"
        }
      ]
    },
    {
      "cell_type": "code",
      "metadata": {
        "id": "qvLP_t-MiybU",
        "colab_type": "code",
        "colab": {
          "base_uri": "https://localhost:8080/",
          "height": 367
        },
        "outputId": "75acd33e-9856-4621-de1d-bba644ac5d33"
      },
      "source": [
        "Counter(word).most_common()"
      ],
      "execution_count": 19,
      "outputs": [
        {
          "output_type": "execute_result",
          "data": {
            "text/plain": [
              "[('이', 3),\n",
              " ('가', 2),\n",
              " ('하', 2),\n",
              " ('여행', 2),\n",
              " ('매일', 2),\n",
              " ('인생', 1),\n",
              " ('모두', 1),\n",
              " ('함께', 1),\n",
              " ('사', 1),\n",
              " ('동안', 1),\n",
              " ('우리', 1),\n",
              " ('할', 1),\n",
              " ('수', 1),\n",
              " ('있', 1),\n",
              " ('건', 1),\n",
              " ('최선', 1),\n",
              " ('해', 1),\n",
              " ('멋진', 1),\n",
              " ('만끽', 1),\n",
              " ('것', 1)]"
            ]
          },
          "metadata": {
            "tags": []
          },
          "execution_count": 19
        }
      ]
    }
  ]
}