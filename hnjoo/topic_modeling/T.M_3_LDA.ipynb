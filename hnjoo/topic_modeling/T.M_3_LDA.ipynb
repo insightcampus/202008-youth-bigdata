{
  "nbformat": 4,
  "nbformat_minor": 0,
  "metadata": {
    "colab": {
      "name": "T.M_3_LDA.ipynb",
      "provenance": [],
      "collapsed_sections": [],
      "authorship_tag": "ABX9TyNj1IYSSd8oB9wzdtXWma1v",
      "include_colab_link": true
    },
    "kernelspec": {
      "name": "python3",
      "display_name": "Python 3"
    }
  },
  "cells": [
    {
      "cell_type": "markdown",
      "metadata": {
        "id": "view-in-github",
        "colab_type": "text"
      },
      "source": [
        "<a href=\"https://colab.research.google.com/github/insightcampus/202008-youth-bigdata/blob/master/hnjoo/topic_modeling/T.M_3_LDA.ipynb\" target=\"_parent\"><img src=\"https://colab.research.google.com/assets/colab-badge.svg\" alt=\"Open In Colab\"/></a>"
      ]
    },
    {
      "cell_type": "markdown",
      "metadata": {
        "id": "QX4Rp5SJBwwJ",
        "colab_type": "text"
      },
      "source": [
        "## [토픽 모델링 실습3] LDA: 네이버 영화 리뷰 토픽 모델링"
      ]
    },
    {
      "cell_type": "markdown",
      "metadata": {
        "id": "nb-y7ySjutjU",
        "colab_type": "text"
      },
      "source": [
        "### 0. 사전준비"
      ]
    },
    {
      "cell_type": "code",
      "metadata": {
        "id": "boDM2uFvBivH",
        "colab_type": "code",
        "colab": {}
      },
      "source": [
        "# 나눔폰트 설치\n",
        "!sudo apt-get install -y fonts-nanum\n",
        "!sudo fc-cache -fv\n",
        "!rm ~/.cache/matplotlib -rf\n",
        "# 런타임 다시 시작"
      ],
      "execution_count": null,
      "outputs": []
    },
    {
      "cell_type": "code",
      "metadata": {
        "id": "OEYcc21JJy6K",
        "colab_type": "code",
        "colab": {}
      },
      "source": [
        "# 코렙 mecab 설치 \n",
        "!sudo apt-get install g++ openjdk-7-jdk # Install Java 1.7+\n",
        "# !sudo apt-get install python-dev; pip install konlpy     # Python 2.x\n",
        "!sudo apt-get install python3-dev; pip3 install konlpy   # Python 3.x\n",
        "!sudo apt-get install curl\n",
        "!bash <(curl -s https://raw.githubusercontent.com/konlpy/konlpy/master/scripts/mecab.sh)"
      ],
      "execution_count": null,
      "outputs": []
    },
    {
      "cell_type": "code",
      "metadata": {
        "id": "QF3NbGxgC15g",
        "colab_type": "code",
        "colab": {
          "base_uri": "https://localhost:8080/",
          "height": 55
        },
        "outputId": "9446f205-88db-47c9-e90b-343cf3d5b100"
      },
      "source": [
        "from google.colab import drive\n",
        "drive.mount('/content/gdrive')"
      ],
      "execution_count": 2,
      "outputs": [
        {
          "output_type": "stream",
          "text": [
            "Drive already mounted at /content/gdrive; to attempt to forcibly remount, call drive.mount(\"/content/gdrive\", force_remount=True).\n"
          ],
          "name": "stdout"
        }
      ]
    },
    {
      "cell_type": "code",
      "metadata": {
        "id": "EvVrSTO_DKHY",
        "colab_type": "code",
        "colab": {
          "base_uri": "https://localhost:8080/",
          "height": 35
        },
        "outputId": "30ca13cb-9d04-478f-8fce-24f9b92b4335"
      },
      "source": [
        "%cd "
      ],
      "execution_count": 3,
      "outputs": [
        {
          "output_type": "stream",
          "text": [
            "/root\n"
          ],
          "name": "stdout"
        }
      ]
    },
    {
      "cell_type": "markdown",
      "metadata": {
        "id": "jHbxgV11u7Zk",
        "colab_type": "text"
      },
      "source": [
        "### 1. 데이터 전처리"
      ]
    },
    {
      "cell_type": "code",
      "metadata": {
        "id": "ojDp2L49CSo4",
        "colab_type": "code",
        "colab": {}
      },
      "source": [
        "import pandas as pd\n",
        "from sklearn.datasets import fetch_20newsgroups"
      ],
      "execution_count": 4,
      "outputs": []
    },
    {
      "cell_type": "code",
      "metadata": {
        "id": "F0vQ6wXfDayG",
        "colab_type": "code",
        "colab": {}
      },
      "source": [
        "import re\n",
        "from konlpy.tag import Mecab\n",
        "mecab = Mecab()\n",
        "\n",
        "# 데이터 불러오기\n",
        "df = pd.read_csv('/content/gdrive/My Drive/Colab Notebooks/NLP_edu/LDA_example.csv의 사본')\n",
        "\n",
        "# 데이터 전처리 (결측치 확인)\n",
        "  # 특수 문자 제거\n",
        "remove_except_ko = re.compile(r\"[^가-힣ㄱ-하-ㅣ\\\\s]\")\n",
        "\n",
        "def preprocess(text):\n",
        "  text = re.sub(remove_except_ko,' ',text).strip()\n",
        "  return text\n",
        "\n",
        "df['clean_doc'] = df['content'].map(lambda x : preprocess(x))"
      ],
      "execution_count": 8,
      "outputs": []
    },
    {
      "cell_type": "code",
      "metadata": {
        "id": "TwYSe6yyNyMo",
        "colab_type": "code",
        "colab": {
          "base_uri": "https://localhost:8080/",
          "height": 1000
        },
        "outputId": "cc8ad95a-08a8-4894-87ba-e3aae8458d69"
      },
      "source": [
        "mecab.pos(df['clean_doc'][0])"
      ],
      "execution_count": 9,
      "outputs": [
        {
          "output_type": "execute_result",
          "data": {
            "text/plain": [
              "[('후불', 'NNG'),\n",
              " ('정산', 'NNG'),\n",
              " ('방식', 'NNG'),\n",
              " ('악용', 'NNG'),\n",
              " ('해', 'XSV+EC'),\n",
              " ('서버', 'NNG'),\n",
              " ('혹사', 'NNG'),\n",
              " ('시키', 'XSV'),\n",
              " ('고', 'EC'),\n",
              " ('잠', 'NNG'),\n",
              " ('적', 'XSN'),\n",
              " ('비트코인', 'NNP'),\n",
              " ('등', 'NNB'),\n",
              " ('가상', 'NNG'),\n",
              " ('통화', 'NNG'),\n",
              " ('광풍', 'NNG'),\n",
              " ('으로', 'JKB'),\n",
              " ('국내', 'NNG'),\n",
              " ('클라우드', 'NNP'),\n",
              " ('업계', 'NNG'),\n",
              " ('가', 'JKS'),\n",
              " ('피해', 'NNG'),\n",
              " ('를', 'JKO'),\n",
              " ('받', 'VV'),\n",
              " ('고', 'EC'),\n",
              " ('있', 'VX'),\n",
              " ('다', 'EC'),\n",
              " ('비트코인', 'NNP'),\n",
              " ('의', 'JKG'),\n",
              " ('채굴', 'NNG'),\n",
              " ('과정', 'NNG'),\n",
              " ('에서', 'JKB'),\n",
              " ('고', 'XPN'),\n",
              " ('성능', 'NNG'),\n",
              " ('그래픽', 'NNG'),\n",
              " ('카드', 'NNG'),\n",
              " ('등', 'NNB'),\n",
              " ('비싼', 'VA+ETM'),\n",
              " ('하드웨어', 'NNG'),\n",
              " ('가', 'JKS'),\n",
              " ('필요', 'NNG'),\n",
              " ('한데', 'XSA+EC'),\n",
              " ('이', 'MM'),\n",
              " ('부담', 'NNG'),\n",
              " ('을', 'JKO'),\n",
              " ('줄이', 'VV'),\n",
              " ('기', 'ETN'),\n",
              " ('위해', 'VV+EC'),\n",
              " ('클라우드', 'NNP'),\n",
              " ('서비스', 'NNG'),\n",
              " ('를', 'JKO'),\n",
              " ('통해', 'VV+EC'),\n",
              " ('가상', 'NNG'),\n",
              " ('통화', 'NNG'),\n",
              " ('를', 'JKO'),\n",
              " ('채굴', 'NNG'),\n",
              " ('하', 'XSV'),\n",
              " ('는', 'ETM'),\n",
              " ('변칙', 'NNG'),\n",
              " ('사례', 'NNG'),\n",
              " ('가', 'JKS'),\n",
              " ('증가', 'NNG'),\n",
              " ('하', 'XSV'),\n",
              " ('고', 'EC'),\n",
              " ('있', 'VX'),\n",
              " ('기', 'ETN'),\n",
              " ('때문', 'NNB'),\n",
              " ('이', 'VCP'),\n",
              " ('다', 'EF'),\n",
              " ('일', 'NR'),\n",
              " ('관련', 'NNG'),\n",
              " ('업계', 'NNG'),\n",
              " ('에', 'JKB'),\n",
              " ('따르', 'VV'),\n",
              " ('면', 'EC'),\n",
              " ('엔터', 'NNP'),\n",
              " ('테', 'NNG'),\n",
              " ('인', 'VCP+ETM'),\n",
              " ('먼', 'VA+ETM'),\n",
              " ('트', 'NNG'),\n",
              " ('의', 'JKG'),\n",
              " ('토스트', 'NNP'),\n",
              " ('클라우드', 'NNP'),\n",
              " ('는', 'JX'),\n",
              " ('다음', 'NNG'),\n",
              " ('달', 'NNG'),\n",
              " ('사용', 'NNG'),\n",
              " ('약관', 'NNG'),\n",
              " ('에', 'JKB'),\n",
              " ('가상', 'NNG'),\n",
              " ('통화', 'NNG'),\n",
              " ('채굴', 'NNG'),\n",
              " ('금지', 'NNG'),\n",
              " ('조항', 'NNG'),\n",
              " ('을', 'JKO'),\n",
              " ('신설', 'NNG'),\n",
              " ('키로', 'XSV+ETN+JKB'),\n",
              " ('했', 'VX+EP'),\n",
              " ('다', 'EC'),\n",
              " ('채굴', 'NNG'),\n",
              " ('자', 'XSN'),\n",
              " ('들', 'XSN'),\n",
              " ('이', 'JKS'),\n",
              " ('단기간', 'NNG'),\n",
              " ('엄청난', 'VA+ETM'),\n",
              " ('전산', 'NNG'),\n",
              " ('자원', 'NNG'),\n",
              " ('을', 'JKO'),\n",
              " ('쓰', 'VV'),\n",
              " ('는', 'ETM'),\n",
              " ('만큼', 'NNB'),\n",
              " ('정상', 'NNG'),\n",
              " ('적', 'XSN'),\n",
              " ('서비스', 'NNG'),\n",
              " ('이용', 'NNG'),\n",
              " ('으로', 'JKB'),\n",
              " ('보', 'VV'),\n",
              " ('기', 'ETN'),\n",
              " ('어렵', 'VA'),\n",
              " ('다는', 'ETM'),\n",
              " ('것', 'NNB'),\n",
              " ('이', 'VCP'),\n",
              " ('다', 'EC'),\n",
              " ('클라우드', 'NNP'),\n",
              " ('가', 'JKS'),\n",
              " ('후불', 'NNG'),\n",
              " ('정산', 'NNG'),\n",
              " ('방식', 'NNG'),\n",
              " ('이', 'VCP'),\n",
              " ('라는', 'ETM'),\n",
              " ('점', 'NNG'),\n",
              " ('을', 'JKO'),\n",
              " ('악용', 'NNG'),\n",
              " ('해', 'XSV+EC'),\n",
              " ('채굴', 'NNG'),\n",
              " ('로', 'JKB'),\n",
              " ('서버', 'NNG'),\n",
              " ('를', 'JKO'),\n",
              " ('혹사', 'NNG'),\n",
              " ('시키', 'XSV'),\n",
              " ('고', 'EC'),\n",
              " ('정산', 'NNG'),\n",
              " ('절차', 'NNG'),\n",
              " ('없이', 'MAG'),\n",
              " ('잠적', 'NNG'),\n",
              " ('하', 'XSV'),\n",
              " ('는', 'ETM'),\n",
              " ('사례', 'NNG'),\n",
              " ('도', 'JX'),\n",
              " ('많', 'VA'),\n",
              " ('은', 'ETM'),\n",
              " ('것', 'NNB'),\n",
              " ('으로', 'JKB'),\n",
              " ('전해진다', 'VV+EC+VX+EC'),\n",
              " ('네이버', 'NNP'),\n",
              " ('도', 'JX'),\n",
              " ('약관', 'NNG'),\n",
              " ('을', 'JKO'),\n",
              " ('개정', 'NNG'),\n",
              " ('해', 'XSV+EC'),\n",
              " ('판촉', 'NNG'),\n",
              " ('용', 'XSN'),\n",
              " ('크', 'VA'),\n",
              " ('레딧', 'NNP'),\n",
              " ('이나', 'JC'),\n",
              " ('무료', 'NNG'),\n",
              " ('서버', 'NNG'),\n",
              " ('를', 'JKO'),\n",
              " ('써서', 'VV+EC'),\n",
              " ('가상', 'NNG'),\n",
              " ('통화', 'NNG'),\n",
              " ('를', 'JKO'),\n",
              " ('채굴', 'NNG'),\n",
              " ('하', 'XSV'),\n",
              " ('는', 'ETM'),\n",
              " ('행위', 'NNG'),\n",
              " ('를', 'JKO'),\n",
              " ('전면', 'NNG'),\n",
              " ('금지', 'NNG'),\n",
              " ('했', 'XSV+EP'),\n",
              " ('다', 'EC'),\n",
              " ('업계', 'NNG'),\n",
              " ('에선', 'JKB+JX'),\n",
              " ('국내', 'NNG'),\n",
              " ('클라우드', 'NNP'),\n",
              " ('업체', 'NNG'),\n",
              " ('들', 'XSN'),\n",
              " ('이', 'JKS'),\n",
              " ('가상', 'NNG'),\n",
              " ('통화', 'NNG'),\n",
              " ('채굴', 'NNG'),\n",
              " ('대책', 'NNG'),\n",
              " ('을', 'JKO'),\n",
              " ('마련', 'NNG'),\n",
              " ('하', 'XSV'),\n",
              " ('는', 'ETM'),\n",
              " ('사례', 'NNG'),\n",
              " ('가', 'JKS'),\n",
              " ('앞', 'NNG'),\n",
              " ('으로', 'JKB'),\n",
              " ('도', 'JX'),\n",
              " ('계속', 'MAG'),\n",
              " ('늘', 'VV+ETM'),\n",
              " ('것', 'NNB'),\n",
              " ('으로', 'JKB'),\n",
              " ('전망', 'NNG'),\n",
              " ('하', 'XSV'),\n",
              " ('고', 'EC'),\n",
              " ('있', 'VX'),\n",
              " ('다', 'EC'),\n",
              " ('외국', 'NNG'),\n",
              " ('에서', 'JKB'),\n",
              " ('도', 'JX'),\n",
              " ('클라우드', 'NNP'),\n",
              " ('기반', 'NNG'),\n",
              " ('의', 'JKG'),\n",
              " ('가상', 'NNG'),\n",
              " ('화폐', 'NNG'),\n",
              " ('채굴', 'NNG'),\n",
              " ('이', 'JKS'),\n",
              " ('문제', 'NNG'),\n",
              " ('가', 'JKS'),\n",
              " ('되', 'VV'),\n",
              " ('고', 'EC'),\n",
              " ('있', 'VX'),\n",
              " ('다', 'EC'),\n",
              " ('올해', 'NNG'),\n",
              " ('월', 'NNG'),\n",
              " ('에', 'JKB'),\n",
              " ('는', 'JX'),\n",
              " ('해커', 'NNG'),\n",
              " ('들', 'XSN'),\n",
              " ('이', 'JKS'),\n",
              " ('아마존', 'NNP'),\n",
              " ('웹', 'NNG'),\n",
              " ('서비스', 'NNG'),\n",
              " ('의', 'JKG'),\n",
              " ('기업', 'NNG'),\n",
              " ('용', 'XSN'),\n",
              " ('계정', 'NNG'),\n",
              " ('을', 'JKO'),\n",
              " ('빼돌려', 'VV+EC'),\n",
              " ('이', 'NP'),\n",
              " ('를', 'JKO'),\n",
              " ('가상', 'NNG'),\n",
              " ('통화', 'NNG'),\n",
              " ('채굴', 'NNG'),\n",
              " ('에', 'JKB'),\n",
              " ('악용', 'NNG'),\n",
              " ('한', 'XSV+ETM'),\n",
              " ('사실', 'NNG'),\n",
              " ('이', 'JKS'),\n",
              " ('드러났', 'VV+EP'),\n",
              " ('다', 'EC'),\n",
              " ('가상', 'NNG'),\n",
              " ('통화', 'NNG'),\n",
              " ('는', 'JX'),\n",
              " ('전산', 'NNG'),\n",
              " ('암호', 'NNG'),\n",
              " ('기술', 'NNG'),\n",
              " ('을', 'JKO'),\n",
              " ('토대', 'NNG'),\n",
              " ('로', 'JKB'),\n",
              " ('한', 'MM'),\n",
              " ('사이버', 'NNG'),\n",
              " ('화폐', 'NNG'),\n",
              " ('로', 'JKB'),\n",
              " ('중앙', 'NNG'),\n",
              " ('발급', 'NNG'),\n",
              " ('기관', 'NNG'),\n",
              " ('이', 'JKS'),\n",
              " ('없', 'VA'),\n",
              " ('고', 'EC'),\n",
              " ('국외', 'NNG'),\n",
              " ('송금', 'NNG'),\n",
              " ('비용', 'NNG'),\n",
              " ('이', 'JKS'),\n",
              " ('매우', 'MAG'),\n",
              " ('싼', 'VA+ETM'),\n",
              " ('것', 'NNB'),\n",
              " ('이', 'JKS'),\n",
              " ('특징', 'NNG'),\n",
              " ('이', 'JKS'),\n",
              " ('다', 'MAG'),\n",
              " ('실제', 'NNG'),\n",
              " ('채굴', 'NNG'),\n",
              " ('은', 'JX'),\n",
              " ('개인', 'NNG'),\n",
              " ('의', 'JKG'),\n",
              " ('고', 'XPN'),\n",
              " ('성능', 'NNG'),\n",
              " ('로', 'JKB'),\n",
              " ('거래', 'NNG'),\n",
              " ('인증', 'NNG'),\n",
              " ('등', 'NNB'),\n",
              " ('가상', 'NNG'),\n",
              " ('통화', 'NNG'),\n",
              " ('의', 'JKG'),\n",
              " ('전산', 'NNG'),\n",
              " ('운영', 'NNG'),\n",
              " ('에', 'JKB'),\n",
              " ('참여', 'NNG'),\n",
              " ('하', 'XSV'),\n",
              " ('는', 'ETM'),\n",
              " ('행위', 'NNG'),\n",
              " ('로', 'JKB'),\n",
              " ('채굴', 'NNG'),\n",
              " ('자', 'XSN'),\n",
              " ('는', 'JX'),\n",
              " ('이런', 'MM'),\n",
              " ('기여', 'NNG'),\n",
              " ('의', 'JKG'),\n",
              " ('대가', 'NNG'),\n",
              " ('로', 'JKB'),\n",
              " ('일정량', 'NNG'),\n",
              " ('의', 'JKG'),\n",
              " ('화폐', 'NNG'),\n",
              " ('를', 'JKO'),\n",
              " ('받', 'VV'),\n",
              " ('는다', 'EC'),\n",
              " ('이', 'MM'),\n",
              " ('중', 'NNB'),\n",
              " ('세상', 'NNG'),\n",
              " ('에', 'JKB'),\n",
              " ('나올', 'VV+ETM'),\n",
              " ('수', 'NNB'),\n",
              " ('있', 'VV'),\n",
              " ('는', 'ETM'),\n",
              " ('비트코인', 'NNP'),\n",
              " ('은', 'JX'),\n",
              " ('만', 'NR'),\n",
              " ('개', 'NNBC'),\n",
              " ('로', 'JKB'),\n",
              " ('한정', 'NNG'),\n",
              " ('돼', 'XSV+EC'),\n",
              " ('채굴', 'NNG'),\n",
              " ('하', 'XSV'),\n",
              " ('면', 'EC'),\n",
              " ('할수록', 'VX+EC'),\n",
              " ('돈', 'NNG'),\n",
              " ('을', 'JKO'),\n",
              " ('얻', 'VV'),\n",
              " ('을', 'ETM'),\n",
              " ('수', 'NNB'),\n",
              " ('있', 'VV'),\n",
              " ('는', 'ETM'),\n",
              " ('효율', 'NNG'),\n",
              " ('이', 'JKS')]"
            ]
          },
          "metadata": {
            "tags": []
          },
          "execution_count": 9
        }
      ]
    },
    {
      "cell_type": "code",
      "metadata": {
        "id": "F2JdVeIeGHqu",
        "colab_type": "code",
        "colab": {}
      },
      "source": [
        "  # 토큰화 및 불용어 처리  \n",
        "stop_word = ['께서','에서','이다','에게','으로','이랑','까지','부터','하다']\n",
        "stopPos = 'JKS JKC JKG JKO JKB JKY JKQ JC JX SF SE SS SP SSO SSC SC SY SH SL SN MM MAG MAJ'.split()\n",
        "  \n",
        "def postagging_mecab(text):\n",
        "  text = mecab.pos(text)\n",
        "  text = [i for i in text if len(i)>1]\n",
        "  text = [i for i in text if i[0] not in stop_word]\n",
        "  text = [i[0] for i in text if i[1] not in stopPos]\n",
        "  return text\n",
        "\n",
        "df['clean_doc'] = df['clean_doc'].apply(lambda x : postagging_mecab(x))\n",
        "tokenized_docs = df['clean_doc'].apply(lambda x: ' '.join([item for item in x]))"
      ],
      "execution_count": 10,
      "outputs": []
    },
    {
      "cell_type": "code",
      "metadata": {
        "id": "XA93eh2PFfge",
        "colab_type": "code",
        "colab": {
          "base_uri": "https://localhost:8080/",
          "height": 278
        },
        "outputId": "ad051607-1c71-4414-ecbe-b4ce31573309"
      },
      "source": [
        "df.head()"
      ],
      "execution_count": 11,
      "outputs": [
        {
          "output_type": "execute_result",
          "data": {
            "text/html": [
              "<div>\n",
              "<style scoped>\n",
              "    .dataframe tbody tr th:only-of-type {\n",
              "        vertical-align: middle;\n",
              "    }\n",
              "\n",
              "    .dataframe tbody tr th {\n",
              "        vertical-align: top;\n",
              "    }\n",
              "\n",
              "    .dataframe thead th {\n",
              "        text-align: right;\n",
              "    }\n",
              "</style>\n",
              "<table border=\"1\" class=\"dataframe\">\n",
              "  <thead>\n",
              "    <tr style=\"text-align: right;\">\n",
              "      <th></th>\n",
              "      <th>content</th>\n",
              "      <th>clean_doc</th>\n",
              "    </tr>\n",
              "  </thead>\n",
              "  <tbody>\n",
              "    <tr>\n",
              "      <th>0</th>\n",
              "      <td>후불정산 방식 악용해 서버 혹사 시키고 잠적 비트코인 등 가상통화 광풍으로 국내 클...</td>\n",
              "      <td>[후불, 정산, 방식, 악용, 해, 서버, 혹사, 시키, 고, 잠, 적, 비트코인,...</td>\n",
              "    </tr>\n",
              "    <tr>\n",
              "      <th>1</th>\n",
              "      <td>개인정보 유출 공지 안내 이메일로 위장한 '가상화폐 채굴 악성코드'가 나타났다. P...</td>\n",
              "      <td>[개인, 정보, 유출, 공지, 안내, 이메일, 위장, 한, 가상, 화폐, 채굴, 악...</td>\n",
              "    </tr>\n",
              "    <tr>\n",
              "      <th>2</th>\n",
              "      <td>행정안전부 국가기록원은 9일부터 국민의 열람 수요가 많은 서울 경기권 지적원도 약 ...</td>\n",
              "      <td>[행정, 국가, 기록원, 일, 국민, 열람, 수요, 많, 은, 서울, 경기, 권, ...</td>\n",
              "    </tr>\n",
              "    <tr>\n",
              "      <th>3</th>\n",
              "      <td>소비자잡지 초이스, 추천제품 선정 LG전자 건조기가 호주서 호평을 받았다.LG전자 ...</td>\n",
              "      <td>[소비자, 잡지, 초이스, 추천, 제품, 선정, 전자, 건조기, 호주, 호평, 받,...</td>\n",
              "    </tr>\n",
              "    <tr>\n",
              "      <th>4</th>\n",
              "      <td>스타크래프트 AI대회 韓 첫 1위데이비드 처칠 David Churchill 캐나다 ...</td>\n",
              "      <td>[스타크래프트, 대회, 韓, 위, 데이비드, 처칠, 캐나다, 메모리얼, 대학교, 컴...</td>\n",
              "    </tr>\n",
              "  </tbody>\n",
              "</table>\n",
              "</div>"
            ],
            "text/plain": [
              "                                             content                                          clean_doc\n",
              "0  후불정산 방식 악용해 서버 혹사 시키고 잠적 비트코인 등 가상통화 광풍으로 국내 클...  [후불, 정산, 방식, 악용, 해, 서버, 혹사, 시키, 고, 잠, 적, 비트코인,...\n",
              "1  개인정보 유출 공지 안내 이메일로 위장한 '가상화폐 채굴 악성코드'가 나타났다. P...  [개인, 정보, 유출, 공지, 안내, 이메일, 위장, 한, 가상, 화폐, 채굴, 악...\n",
              "2  행정안전부 국가기록원은 9일부터 국민의 열람 수요가 많은 서울 경기권 지적원도 약 ...  [행정, 국가, 기록원, 일, 국민, 열람, 수요, 많, 은, 서울, 경기, 권, ...\n",
              "3  소비자잡지 초이스, 추천제품 선정 LG전자 건조기가 호주서 호평을 받았다.LG전자 ...  [소비자, 잡지, 초이스, 추천, 제품, 선정, 전자, 건조기, 호주, 호평, 받,...\n",
              "4  스타크래프트 AI대회 韓 첫 1위데이비드 처칠 David Churchill 캐나다 ...  [스타크래프트, 대회, 韓, 위, 데이비드, 처칠, 캐나다, 메모리얼, 대학교, 컴..."
            ]
          },
          "metadata": {
            "tags": []
          },
          "execution_count": 11
        }
      ]
    },
    {
      "cell_type": "code",
      "metadata": {
        "id": "ajc2AQ9FOP_V",
        "colab_type": "code",
        "colab": {
          "base_uri": "https://localhost:8080/",
          "height": 1000
        },
        "outputId": "e040ad90-bc0d-42f7-ec36-7791c0c56726"
      },
      "source": [
        "tokenized_docs"
      ],
      "execution_count": 12,
      "outputs": [
        {
          "output_type": "execute_result",
          "data": {
            "text/plain": [
              "0     후불 정산 방식 악용 해 서버 혹사 시키 고 잠 적 비트코인 등 가상 통화 광풍 국...\n",
              "1     개인 정보 유출 공지 안내 이메일 위장 한 가상 화폐 채굴 악 성 코드 가 나타났 ...\n",
              "2     행정 국가 기록원 일 국민 열람 수요 많 은 서울 경기 권 지적 원 만 건 공공누리...\n",
              "3     소비자 잡지 초이스 추천 제품 선정 전자 건조기 호주 호평 받 았 다 전자 대표 조...\n",
              "4     스타크래프트 대회 韓 위 데이비드 처칠 캐나다 메모리얼 대학교 컴퓨터 공학 교수 스...\n",
              "5     성균관 대 연구 팀 표지 논문 니켈 양극 소재 결정 구조 특성 발견 특정 원소 조절...\n",
              "6     손건재 포스코 신임 대표 사진 는 일 포스코 만 차별 화 된 핵심 역량 확보 하 겠...\n",
              "7     가 국내 통신사 중 유일 하 게 아시아 최대 이동 통신 박람회 인 상하 이 에 참가...\n",
              "8     반도체 경쟁력 강화 무역 장벽 완화 노력 대외 환경 변화 따른 우리나라 주요 대응 ...\n",
              "9     하이닉스 지난 일 임직원 설 명회 개최 해 주 최대 시간 근무 제 시범 운영 유연근...\n",
              "10    보도 합니다 손등 위 얇 은 패치 심장 박동 확인 해 로 건강 상태 알려 줍니다 피...\n",
              "11    팹 리스 기업 인 지니 틱 스 는 산업 통상 자원 부 중소 벤처 기업 부 한국 산업...\n",
              "12    주 는 자사 인공지능 서비스 에이브릴 보유 한 솔루션 산업 별 활용 사례 여종 담 ...\n",
              "13    출고가 만 원 자기 부상 디자인 채용 스피커 경쟁 디자인 옮아간다 전자 대표 조성진...\n",
              "14    모바일 플랫폼 서비스 회사 라인 플러스 대표 신중 호 는 블록체인 기술 전문 자회사...\n",
              "15    사진 서울산 업진 흥원 제공 서울시 핵심 사업 수행 담당 하 는 서울산 업진 흥원 ...\n",
              "16    한국 중견 기업 연합회 중견 기업 대한 합리 적 인식 확산 하 고 바람직 한 기업 ...\n",
              "17    지난 월 일 전 구간 데이터 무제 한 시대 선언 하 며 출시 한 데이터 요금제 월 ...\n",
              "18    모바일게임 위 커뮤니티 헝그리 앱 서비스 하 는 리워드 어플리케이션 하 어 플 애드...\n",
              "19    공공 기관 보안 관제 현장 사이버 위기 경보 발령 되 거나 긴급 상황 발생 했 을 ...\n",
              "20    들 만나 판문점 연락 접촉 했 느냐 는 질문 평소 오전 시 전화 했었 지만 북측 반...\n",
              "21    우원식 더불 어 민주당 원내대표 일 사실 상 야권 다음 해 지방 선거 개헌 국민 투...\n",
              "22    입니다 검찰 민간 인 사찰 사건 폭로 한 장진수 씨 입막음 조 관봉 전달 한 류충렬...\n",
              "23    탈 북 민 명 대상 월 말 검사 결과 발표 美 길주군 탈 북 민 인용 귀신 병 피해...\n",
              "24    강경화 외교부 장관 이르 면 이달 중 중국 방문 하 는 방안 추진 하 고 있 는 것...\n",
              "25    북측 지난 일 일 양일 간 걸쳐 북한 중부 전선 사진 철거 했 다 남측 일 강원도 ...\n",
              "26    김부겸 행정 장관 이 일 서울 종로구 정부서울청사 집무실 리베라 로살레스 온두라스 ...\n",
              "27    의 단독 보도 입니다 입수 한 사이버 사령부 격려금 집행 내용 입니다 국정 원장 사...\n",
              "28    청와대 일 남북 판문점 연락 채널 이 년 개월 만 복원 되 는 것 관련 연락망 복원...\n",
              "29    들 만나 유엔 대북 제재 위원회 남북 정상 간 오간 선물 대해 제재 위반 의혹 조사...\n",
              "30    회견 열 고 새로운 비전 리더십 절실 하 다고 판단 해 지방 선거 전북 지사 후보 ...\n",
              "31    동영상 뉴스 자유 한 국당 제외 한 여야 당 이명박 대통령 대한 보석 허가 대해 국...\n",
              "32    회견 그간 협상 팀 큰 진전 이루 기 위해 노력 했 지만 끝 가 지 못했 다 면서 ...\n",
              "33    동영상 뉴스 앵 커멘트 국회 원 명 피 감 기관 돈 해외 출장 다녀온 것 대해 논란...\n",
              "34    북한 김정은 노동당 위원장 럭비공 같 습니다 행동 할지 몰라서 죠 문재인 대통령 대...\n",
              "35    동영상 뉴스 이세옥 뉴스 읽 기 입니다 김정은 위원장 중국 번 째 방문 하 면서 선...\n",
              "36    김 위원장 알아보 지 않 고 비판 하 는 건 옳 지 않 다 김용태 탄핵 전 돌아갈 ...\n",
              "37    문재인 대통령 이 일 청와대 국무 회의 주재 하 며 의사봉 두드리 고 있 다 청와대...\n",
              "38    동영상 뉴스 북한 일 한국 국회의원 총선거 해당 하 는 기 최고 인민 회의 대의원 ...\n",
              "39    서필언 김동진 법 적 절차 탈당 양문석 정점식 박청정 명 등록 통영 고성 국회의원 ...\n",
              "40    생활비 지출 줄이 고 등 고 수익 상품 투자 늘려야 정기예금 만 원 당장 해지 적 ...\n",
              "41    대통령 직속 일자리 위원회 일 발표 한 일자리 일 계획 크 게 일자리 늘리 는 대책...\n",
              "42    동영상 뉴스 국내 제조사 들 스마트폰 품질 보증 기간 현행 년 년 늘어납니다 공정거...\n",
              "43    일 코스피 지수 사상 처음 선 돌파 했 다 미국 증시 호조 영향 받 은 것 보인다 ...\n",
              "44    임직원 기부금 모아 질병 장애 아동 치료 도와 현대 해 상 지난 일 서울 강남구 수...\n",
              "45    최병오 형지 회장 사진 제공 패션 그룹 형지 패션 그룹 형지 최병오 회장 대통령 프...\n",
              "46    백운규 산업 통상 자원 부 장관 오 는 일 싱가포르 태국 차례 방문 현지 정부 관계...\n",
              "47    산업 부 주 시간 요 회사 하 고 비슷 해요 상황 보 고 맞춰서 해야죠 다음 달 시...\n",
              "48    전자 지난달 문 연 메르세데스 벤츠 청담 전시장 비디오 월 등 대 사이 니지 설치 ...\n",
              "49    계란 옷 입히 지 않 은 소시 지전 사진 온라인 커뮤니티 캡처 살충제 계란 파동 확...\n",
              "50    중소기업 진흥 공단 중소기업 진흥 공단 이하 중 진공 강원도 인재 개발 원 중소 벤...\n",
              "51    일 국제 금융 시장 북미 간 긴장 고조 안전 자산 강세 움직임 제한 적 美 북한 추...\n",
              "52    대한 결핵 호흡기 학회 추계 학술 대회 연구 결과 발표 안국 약품 진해 거담제 시네...\n",
              "53    현대차 정의선 부회장 이 일 인도 현지 개최 된 무 브 글로벌 모빌리티 서밋 에 참...\n",
              "54    이정환 주택 금융 공사 사장 이 일 부산시 문현 금융 본사 취임사 하 고 있 다 이...\n",
              "55    대덕 가 지난해 호실 적 소식 힘입 어 급등세 다 일 오전 시 분 현재 대덕 는 전...\n",
              "56    기준 금리 동결 하 자 리라 화 장중 넘 게 하락 국채 금리 급등 증시 급락 중앙 ...\n",
              "57    골든 브릿지 투자 증권 광동 제약 대해 외형 성장 정체 원가 율 상승 해 영업 이익...\n",
              "58    비트코인 가격 상승 우리 나라 국내 총생산 와 물가 높여 채권 시장 약세 요인 될 ...\n",
              "59    누가 우리 목소리 내 줬 으면 하 지만 목소리 들어줄 사람 해 줄 사람 없 습니다 ...\n",
              "Name: clean_doc, dtype: object"
            ]
          },
          "metadata": {
            "tags": []
          },
          "execution_count": 12
        }
      ]
    },
    {
      "cell_type": "markdown",
      "metadata": {
        "id": "Pvw7jFdXvAGa",
        "colab_type": "text"
      },
      "source": [
        "### 3. 토픽 모델링"
      ]
    },
    {
      "cell_type": "code",
      "metadata": {
        "id": "t6I21rBjGDxA",
        "colab_type": "code",
        "colab": {}
      },
      "source": [
        "from sklearn.feature_extraction.text import TfidfVectorizer\n",
        "from sklearn.decomposition import LatentDirichletAllocation"
      ],
      "execution_count": 13,
      "outputs": []
    },
    {
      "cell_type": "code",
      "metadata": {
        "id": "CmOjZXCIqebq",
        "colab_type": "code",
        "colab": {}
      },
      "source": [
        "my_tokenizer = mecab.pos"
      ],
      "execution_count": 14,
      "outputs": []
    },
    {
      "cell_type": "code",
      "metadata": {
        "id": "hi2q7Mj8pMli",
        "colab_type": "code",
        "colab": {}
      },
      "source": [
        "tfidf_vect = TfidfVectorizer()\n",
        "tfidf = tfidf_vect.fit_transform(tokenized_docs)\n",
        "\n",
        "# 모델 선언\n",
        "lda = LatentDirichletAllocation(n_components=20, max_iter=20, learning_method='online')\n",
        "lda_output = lda.fit_transform(tfidf)"
      ],
      "execution_count": 15,
      "outputs": []
    },
    {
      "cell_type": "code",
      "metadata": {
        "id": "S289udQKpg9K",
        "colab_type": "code",
        "colab": {}
      },
      "source": [
        "!pip install pyLDAvis"
      ],
      "execution_count": null,
      "outputs": []
    },
    {
      "cell_type": "code",
      "metadata": {
        "id": "PHGIfRmjpY9p",
        "colab_type": "code",
        "colab": {
          "base_uri": "https://localhost:8080/",
          "height": 880
        },
        "outputId": "54c3a392-3835-4358-ba63-a4ca6d31a0b5"
      },
      "source": [
        "import pyLDAvis\n",
        "import pyLDAvis.sklearn\n",
        "\n",
        "pyLDAvis.enable_notebook()\n",
        "vis = pyLDAvis.sklearn.prepare(lda, tfidf, tfidf_vect, mds='tsne')\n",
        "pyLDAvis.display(vis)"
      ],
      "execution_count": 17,
      "outputs": [
        {
          "output_type": "execute_result",
          "data": {
            "text/html": [
              "\n",
              "<link rel=\"stylesheet\" type=\"text/css\" href=\"https://cdn.rawgit.com/bmabey/pyLDAvis/files/ldavis.v1.0.0.css\">\n",
              "\n",
              "\n",
              "<div id=\"ldavis_el93501403860893898968454832301\"></div>\n",
              "<script type=\"text/javascript\">\n",
              "\n",
              "var ldavis_el93501403860893898968454832301_data = {\"mdsDat\": {\"x\": [-10.878067970275879, -60.88402557373047, -2.3361191749572754, -61.385318756103516, -28.737743377685547, 1.0666056871414185, 45.14072036743164, -140.7959747314453, 61.531681060791016, -72.56305694580078, 15.984491348266602, -160.85162353515625, 85.96183013916016, -99.02083587646484, -176.76412963867188, -117.18988037109375, 108.82991790771484, 47.588096618652344, -106.46783447265625, -50.61380386352539], \"y\": [10.538727760314941, -75.5918197631836, -53.2890739440918, -12.914633750915527, 126.2969970703125, -123.55281066894531, -7.947869300842285, -98.53054809570312, -83.24056243896484, -140.39688110351562, 63.57818603515625, 68.94514465332031, 51.922935485839844, 109.93634796142578, -8.681683540344238, -37.42020034790039, -22.946203231811523, 121.934814453125, 30.176889419555664, 59.32884216308594], \"topics\": [1, 2, 3, 4, 5, 6, 7, 8, 9, 10, 11, 12, 13, 14, 15, 16, 17, 18, 19, 20], \"cluster\": [1, 1, 1, 1, 1, 1, 1, 1, 1, 1, 1, 1, 1, 1, 1, 1, 1, 1, 1, 1], \"Freq\": [23.315030805548016, 10.598825702292753, 8.450109581976855, 8.163926099645924, 6.437164068377012, 6.232869040741592, 4.585542394525006, 4.422564034992462, 4.385965338756289, 3.3019353141807817, 3.1346899391385947, 3.0361452200326116, 2.720496964469026, 2.4911138602936447, 2.381871203477113, 1.848670305945761, 1.7115410994578557, 1.6032504170337734, 0.5891443045607604, 0.5891443045541516]}, \"tinfo\": {\"Term\": [\"\\uac1c\\ud5cc\", \"\\uc2b5\\ub2c8\\ub2e4\", \"\\uc2a4\\ud53c\\ucee4\", \"\\uc7a5\\uad00\", \"\\uc2dc\\uac04\", \"\\uc120\\uac70\", \"\\uc804\\uc790\", \"\\uc0b0\\uc5c5\", \"\\uc911\\uacac\", \"\\uc2a4\\ub9c8\\ud2b8\", \"\\uc5d0\\uc774\\ube0c\\ub9b4\", \"\\uc0ac\\ub839\\ubd80\", \"\\ucca0\\uc218\", \"\\ud611\\uc0c1\", \"\\uac74\\uc870\\uae30\", \"\\ub0a8\\ubd81\", \"\\ubc18\\ub3c4\\uccb4\", \"\\uae30\\uc5c5\", \"\\ud6c4\\ubcf4\", \"\\uc81c\\uc7ac\", \"\\ub300\\ub355\", \"\\uc2dc\\ud2f0\", \"\\uc785\\ub2c8\\ub2e4\", \"\\uac00\\uc0c1\", \"\\uae30\\uc220\", \"\\ucca0\\uac70\", \"\\ub2c8\\uc9c0\", \"\\uc2dc\\ubc94\", \"\\uac1c\\ubc1c\", \"\\uc5f0\\uad6c\", \"\\uc2b5\\ub2c8\\ub2e4\", \"\\ub300\\ud1b5\\ub839\", \"\\uc785\\ub2c8\\ub2e4\", \"\\uc77c\\uc790\\ub9ac\", \"\\uc804\\ubd81\", \"\\uad6d\\ud68c\", \"\\uc758\\uc6d0\", \"\\ub9cc\\ub4e4\", \"\\uc9c0\\uc218\", \"\\uc131\\ud76c\\ub871\", \"\\ube44\\uc0c1\", \"\\uacf5\\uacf5\\ub204\\ub9ac\", \"\\uc218\\uc775\", \"\\ube44\\uc815\\uaddc\\uc9c1\", \"\\ub300\\ucc45\", \"\\ube44\\uc11c\\uad00\", \"\\uac80\\ucc30\", \"\\uc608\\uae08\", \"\\uc9c1\\uc7a5\", \"\\uae30\\uad00\", \"\\uc870\\uc0ac\", \"\\ub300\\ubcc0\\uc778\", \"\\uace0\\ubb34\", \"\\ube44\\ud2b8\\ucf54\\uc778\", \"\\uc7a5\\uc911\", \"\\uad6d\\ubbfc\", \"\\uc704\\uc6d0\\ud68c\", \"\\uc9c0\\uc801\", \"\\ubb38\\uc7ac\\uc778\", \"\\uc0c1\\ud488\", \"\\ud569\\ub2c8\\ub2e4\", \"\\ubbf8\\uad6d\", \"\\ubb38\\uc81c\", \"\\uae30\\uac04\", \"\\uc704\\uc6d0\\uc7a5\", \"\\ub3c4\\ub85d\", \"\\ud130\\ud0a4\", \"\\ub370\\uc774\\ud130\", \"\\uc120\\uac70\", \"\\uc694\\uae08\\uc81c\", \"\\ucc44\\uad74\", \"\\ud504\\ub791\\uc2a4\", \"\\ub300\\uc758\\uc6d0\", \"\\uac00\\uc785\\uc790\", \"\\ud328\\uc158\", \"\\uc7a5\\uad00\", \"\\ud615\\uc9c0\", \"\\ubc29\\ubb38\", \"\\ub9ac\\ub77c\", \"\\uac00\\uc0c1\", \"\\ud1b5\\ud654\", \"\\ud074\\ub77c\\uc6b0\\ub4dc\", \"\\uc678\\uad50\", \"\\ud68c\\ub2f4\", \"\\ubc14\\uc791\", \"\\uae4c\\uc2a4\", \"\\uc911\\uad6d\", \"\\uc911\\uc559\\uc740\\ud589\", \"\\ud68c\\uc7a5\", \"\\uc704\\uae30\", \"\\uc591\\uad6d\", \"\\ubcf4\\uc548\\uad00\", \"\\ucd5c\\ubcd1\\uc624\", \"\\uc774\\ubc88\", \"\\uae08\\ub9ac\", \"\\uc591\\uc790\", \"\\ud55c\\ub2e4\", \"\\ucd94\\uac00\", \"\\uc5c5\\uacc4\", \"\\uc2dc\\uac04\", \"\\ub300\\ud1b5\\ub839\", \"\\uae30\\uad00\", \"\\uacc4\\ub780\", \"\\ud604\\ub300\\ucc28\", \"\\ub300\\ud68c\", \"\\uc778\\ub3c4\", \"\\uac80\\uc0ac\", \"\\uc6b0\\uc2b9\", \"\\ub77c\\uadf8\\ub098\", \"\\uc18c\\uc2dc\", \"\\ubaa8\\ube4c\\ub9ac\\ud2f0\", \"\\uc9c0\\uc804\", \"\\ubd80\\ud68c\\uc7a5\", \"\\uc0bc\\uc131\", \"\\uc0ac\\uc774\\ub2e4\", \"\\uae38\\uc8fc\\uad70\", \"\\ucee4\\ubba4\\ub2c8\\ud2f0\", \"\\ub85c\\ud06c\", \"\\ucea0\\ud398\\uc778\", \"\\uc11c\\ubc0b\", \"\\ub124\\ud2f0\\uc98c\", \"\\ub0c9\\uba74\", \"\\ud53c\\ud3ed\", \"\\uc778\\uae30\", \"\\ubc15\\uc2a4\", \"\\ud1b5\\uc77c\\ubd80\", \"\\uc560\\ub4dc\", \"\\ud575\\uc2e4\\ud5d8\", \"\\ubaa8\\ubc14\\uc77c\\uac8c\\uc784\", \"\\uc2a4\\ud0c0\\ud06c\\ub798\\ud504\\ud2b8\", \"\\ucf54\\uc778\", \"\\uc628\\ub77c\\uc778\", \"\\uac8c\\uc784\", \"\\uc74c\\uc2dd\", \"\\ud3ec\\uc2a4\\ucf54\", \"\\ud130\\uce58\", \"\\uac1c\\ubc1c\", \"\\uae30\\uc220\", \"\\ub2c8\\ucf08\", \"\\uac15\\uc6d0\\ub3c4\", \"\\uad50\\uc721\", \"\\uad6c\\uc870\", \"\\ud3c9\\ucc3d\", \"\\uc778\\uc7ac\", \"\\uc6d4\\ub4dc\", \"\\uc18c\\uc7ac\", \"\\ud074\\ub798\\uc2a4\", \"\\uc5f0\\uc218\", \"\\uc6d0\\uc18c\", \"\\uc911\\uc18c\\uae30\\uc5c5\", \"\\ub300\\ud45c\", \"\\uc9c0\\uc6d0\", \"\\uc0c1\\ud558\", \"\\uc120\\uc815\", \"\\ud568\\ub7c9\", \"\\uc6d0\\uc7a5\", \"\\uacfc\\uc815\", \"\\uc9c0\\ub2c8\", \"\\uc591\\uadf9\", \"\\uae30\\uc5c5\", \"\\uc138\\uacc4\", \"\\uc0ac\\uc5c5\", \"\\uc5f0\\uad6c\", \"\\uc2a4\\ud0c0\\ud2b8\\uc5c5\", \"\\ud2b9\\uc131\", \"\\uc131\\uc7a5\", \"\\ub3c4\\ub85d\", \"\\ud655\\ubcf4\", \"\\uc784\\uc9c1\\uc6d0\", \"\\uc2dc\\uac04\", \"\\ud604\\ub300\", \"\\uadfc\\ubb34\", \"\\uc7a5\\uc560\", \"\\uac00\\uc0c1\", \"\\uc544\\ub3d9\", \"\\ud654\\ud3d0\", \"\\ud558\\uc774\\ub2c9\\uc2a4\", \"\\ud638\\uce6d\", \"\\uc5c5\\ubb34\", \"\\uc2dc\\ubc94\", \"\\uce58\\ub8cc\", \"\\uae30\\ubd80\\uae08\", \"\\ucf54\\ub4dc\", \"\\uc800\\ub141\", \"\\uc774\\uba54\\uc77c\", \"\\uce58\\ub8cc\\ube44\", \"\\ud1b5\\ud569\", \"\\ub3c4\\uc785\", \"\\uc2dc\\ud589\", \"\\uc720\\uc5f0\\uadfc\", \"\\uadfc\\ub85c\", \"\\ud574\\ucee4\", \"\\ud68c\\uc0ac\", \"\\uc0ac\\uc6d0\", \"\\ubb34\\uc81c\", \"\\uac15\\ub0a8\\uad6c\", \"\\uc5c5\\uacc4\", \"\\ud574\\uc0c1\", \"\\uac1c\\uc778\", \"\\ucc44\\uad74\", \"\\uc704\\ud55c\", \"\\ub300\\ub355\", \"\\uc601\\uc5c5\", \"\\uc0c1\\ubc18\\uae30\", \"\\uc804\\uc6a9\\uae30\", \"\\uc9c0\\ub09c\\ud574\", \"\\uc815\\uccb4\", \"\\ub9e4\\ucd9c\", \"\\ube44\\ud589\\uae30\", \"\\uc774\\uc775\", \"\\uc804\\ub144\", \"\\uc9c8\\ubb38\", \"\\uc62c\\ub9bc\\ud53d\", \"\\uac10\\uc18c\", \"\\ubc29\\ubb38\", \"\\ubd81\\uce21\", \"\\ud638\\uc2e4\", \"\\uacf5\\uc2dc\", \"\\ub9e4\\ucd9c\\uc561\", \"\\ub300\\ube44\", \"\\uc18c\\uc2dd\", \"\\uc804\\ub0a0\", \"\\uc0bc\\ub2e4\\uc218\", \"\\uc911\\ub2e8\", \"\\uc9c0\\ub3c4\\uc790\", \"\\ucc38\\uac00\", \"\\uae09\\ub4f1\\uc138\", \"\\uae40\\uc815\\uc77c\", \"\\uae40\\uc77c\\uc131\", \"\\uc804\\uc77c\", \"\\ud798\\uc785\", \"\\uc774\\uc138\\uc625\", \"\\ud3c9\\ucc3d\", \"\\ubd81\\ud55c\", \"\\uae30\\ub85d\", \"\\uc5f4\\ucc28\", \"\\uc624\\uc804\", \"\\uc911\\uad6d\", \"\\ud68c\\ub2f4\", \"\\uc785\\ub2c8\\ub2e4\", \"\\uba74\\uc11c\", \"\\uc131\\uc7a5\", \"\\uc2b5\\ub2c8\\ub2e4\", \"\\uc5d0\\uc774\\ube0c\\ub9b4\", \"\\ub77c\\uc778\", \"\\uce74\\ud0c8\\ub85c\\uadf8\", \"\\ube14\\ub85d\\uccb4\\uc778\", \"\\uc0ac\\uc7a5\", \"\\uc8fc\\ud0dd\", \"\\ube14\\ub77d\", \"\\uae08\\uc735\", \"\\uacf5\\uc0ac\", \"\\uc11c\\ube44\\uc2a4\", \"\\ud3ec\\ud138\", \"\\uc774\\uc815\\ud658\", \"\\ubd84\\uc57c\", \"\\ucde8\\uc784\\uc0ac\", \"\\ubcf4\\uc720\", \"\\uce5c\\ud654\", \"\\ubd80\\uc0b0\", \"\\uc0ac\\ub840\", \"\\ub9ac\\uc11c\\uce58\", \"\\u318d\\uaddc\\uc81c\\u318d\\uc0c1\\ud488\\u318d\\uc2dc\\uc7a5\", \"\\uc778\\uacf5\\uc9c0\\ub2a5\", \"\\ubcf8\\uc0ac\", \"\\ucd9c\\ubc94\", \"\\uacbd\\uc601\", \"\\uace0\\ubbfc\", \"\\uc804\\ubb38\", \"\\uc554\\ud638\", \"\\uacf5\\uc815\", \"\\ucde8\\uc784\\uc2dd\", \"\\uc0b0\\uc5c5\", \"\\ub300\\ud45c\", \"\\ud68c\\uc0ac\", \"\\uc5c5\\ubb34\", \"\\uc2dc\\uc791\", \"\\uacbd\\uc81c\", \"\\ud655\\uc778\", \"\\uc2dc\\uc7a5\", \"\\ud654\\ud3d0\", \"\\ubc18\\ub3c4\\uccb4\", \"\\ud611\\uc0c1\", \"\\ub2c8\\uc9c0\", \"\\uc0ac\\uc774\", \"\\uc9c4\\uc804\", \"\\uc774\\ub8f0\", \"\\ubb34\\uc5ed\", \"\\uc124\\uce58\", \"\\uc804\\uc2dc\\uc7a5\", \"\\uace0\\ub3d9\\ud658\", \"\\ubaa8\\ub378\", \"\\ube44\\ub514\\uc624\", \"\\ubca4\\uce20\", \"\\uad50\\uc5ed\", \"\\uc800\\ud76c\", \"\\ud3fc\\ud398\\uc774\", \"\\ubabb\\ud588\", \"\\uc804\\uc790\", \"\\uacf5\\uae09\", \"\\uc704\\uc6d0\", \"\\uccad\\ub2f4\", \"\\uba54\\ub974\\uc138\\ub370\\uc2a4\", \"\\uba54\\ubaa8\\ub9ac\", \"\\ub178\\ub825\", \"\\uc9c0\\ub09c\\ub2ec\", \"\\ubd99\\uc778\", \"\\ucc28\\ub7c9\", \"\\uc62c\\ub808\\ub4dc\", \"\\uc77c\\uc73c\\ud0a4\", \"\\ub0a8\\uacbc\", \"\\uadf8\\ub7ec\", \"\\uc9c0\\ub9cc\", \"\\uc73c\\uba74\", \"\\uc5f0\\uad6c\", \"\\uba74\\uc11c\", \"\\uc704\\ud574\", \"\\uac74\\uc870\\uae30\", \"\\uc694\\uccad\", \"\\uc81c\\uc7ac\", \"\\ucd08\\uc774\\uc2a4\", \"\\uc5f0\\ub77d\", \"\\ud310\\ubb38\\uc810\", \"\\ucc44\\ub110\", \"\\ub300\\ubd81\", \"\\uc790\\ub8cc\", \"\\uac1c\\ud1b5\", \"\\uc120\\ubb3c\", \"\\uc804\\uc790\", \"\\uc7a1\\uc9c0\", \"\\ud638\\uc8fc\", \"\\ucd94\\ucc9c\", \"\\ubcf5\\uc6d0\", \"\\uc810\\uc218\", \"\\uc624\\ud6c4\", \"\\ud3c9\\uac00\", \"\\uc120\\uc815\", \"\\ub0a8\\ubd81\", \"\\uad00\\ub828\", \"\\ucc28\\ubcc4\", \"\\uc724\\uc601\\ucc2c\", \"\\ubaa9\\uc801\", \"\\ub9cc\\uc218\\ub300\", \"\\uc1a1\\uc774\\ubc84\\uc12f\", \"\\uc6b0\\ub9ac\", \"\\uc774\\ub904\\uc9c8\", \"\\uc704\\uc784\", \"\\uc785\\uc7a5\", \"\\uccad\\uc640\\ub300\", \"\\uc81c\\ud488\", \"\\uc2b5\\ub2c8\\ub2e4\", \"\\ubc1d\\ud614\", \"\\uc704\\uc6d0\\uc7a5\", \"\\ubd81\\ud55c\", \"\\uc18c\\ube44\\uc790\", \"\\ub2e4\\uace0\", \"\\uc870\\uc0ac\", \"\\uc911\\uacac\", \"\\uc2dc\\ub124\", \"\\uc5f4\\uc804\", \"\\uc5fc\\uc99d\", \"\\uc548\\uad6d\", \"\\uc57d\\ud488\", \"\\ud658\\uc790\", \"\\ud638\\ud761\\uae30\", \"\\uae30\\uc5c5\", \"\\uacac\\ub828\", \"\\ud0dc\\uc591\\uad11\", \"\\ud559\\ud68c\", \"\\ud648\\ud398\\uc774\\uc9c0\", \"\\uac00\\ub798\", \"\\uc2e0\\uc131\", \"\\uc99d\\uc0c1\", \"\\ub9cc\\uc131\", \"\\ucd94\\uacc4\", \"\\uc5d4\\uc9c0\", \"\\uacb0\\ud575\", \"\\uc5f0\\uc7ac\", \"\\ud559\\uc220\", \"\\ubc15\\uc885\\uc9c4\", \"\\uc5f0\\ud569\\ud68c\", \"\\uad50\\uc218\", \"\\uc5f0\\uad6c\", \"\\ubc1c\\ud45c\", \"\\uac70\\ub2f4\\uc81c\", \"\\uacf5\\uc9dc\", \"\\ub77c\\uac00\", \"\\ud55c\\ud3b8\", \"\\ud6a8\\uacfc\", \"\\uac1c\\uc120\", \"\\uacb0\\uacfc\", \"\\ub300\\ud68c\", \"\\ub274\\uc2a4\", \"\\uacbd\\uc120\", \"\\ud0dc\\uad6d\", \"\\uc0b0\\uc5c5\", \"\\ud6c4\\ubcf4\", \"\\ud611\\ub825\", \"\\ud1b5\\uc601\", \"\\uc2f1\\uac00\\ud3ec\\ub974\", \"\\uae40\\ub3d9\\uc9c4\", \"\\uc11c\\ud544\\uc5b8\", \"\\uc5ec\\ub860\", \"\\uc544\\uc138\\uc548\", \"\\uc608\\ube44\", \"\\uc7a5\\uad00\", \"\\uc815\\uc810\\uc2dd\", \"\\uad6d\\ub2f9\", \"\\ud601\\uba85\", \"\\ub17c\\uc758\", \"\\ub4f1\\ub85d\", \"\\uc790\\uc720\", \"\\uc2a4\\ub9c8\\ud2b8\", \"\\ub0a9\\ub4dd\", \"\\ucc28\\uad00\", \"\\ud0c8\\ub2f9\", \"\\ud655\\ub300\", \"\\uc758\\uc0ac\", \"\\uc591\\ubb38\\uc11d\", \"\\ubc15\\uccad\\uc815\", \"\\uc9d1\\uacc4\", \"\\ud1b5\\uc0c1\", \"\\uc808\\ucc28\", \"\\uacb0\\uacfc\", \"\\uad6d\\uac00\", \"\\uc870\\uc0ac\", \"\\ubc29\\ubb38\", \"\\uc785\\ub2c8\\ub2e4\", \"\\uc0ac\\ub839\\ubd80\", \"\\uc0ac\\uc774\\ubc84\", \"\\uaca9\\ub824\\uae08\", \"\\uc601\\uc0c1\", \"\\ub9ac\\ubca0\\ub77c\", \"\\ucd2c\\uc601\", \"\\ub3c5\\uc790\", \"\\ud654\\uc81c\", \"\\uc9d1\\ubb34\\uc2e4\", \"\\uc81c\\ubcf4\", \"\\uacf5\\uac10\", \"\\ubd80\\ud1b5\\ub839\", \"\\uc628\\ub450\\ub77c\\uc2a4\", \"\\uc7a5\\uad00\", \"\\ub85c\\uc0b4\\ub808\\uc2a4\", \"\\uc5b8\\ub860\", \"\\uae40\\ubd80\\uacb8\", \"\\uc815\\ubd80\\uc11c\\uc6b8\\uccad\\uc0ac\", \"\\uc18c\\uc911\", \"\\uc5ec\\ub7ec\\ubd84\", \"\\uc885\\ub85c\\uad6c\", \"\\ud589\\uc815\", \"\\uae30\\ub2e4\\ub9bd\\ub2c8\\ub2e4\", \"\\ubc18\\uc601\", \"\\uae40\\uad00\\uc9c4\", \"\\ub313\\uae00\", \"\\ubd80\\ub300\", \"\\uae30\\ub150\", \"\\uc811\\uacac\", \"\\uad6d\\uc815\\uc6d0\", \"\\uc0ac\\uc9c4\", \"\\ub2f9\\uc2dc\", \"\\uc2b5\\ub2c8\\ub2e4\", \"\\ubcf4\\ub0b4\", \"\\ub0b4\\uc6a9\", \"\\uc785\\ub2c8\\ub2e4\", \"\\uc7ac\\uacc4\", \"\\ubaa9\\uc18c\\ub9ac\", \"\\uc7ac\\ubc8c\", \"\\uc18c\\ub9ac\", \"\\ubcf4\\uc218\", \"\\uc815\\ucc45\", \"\\ub4f1\\uc7a5\", \"\\uc804\\uacbd\\ub828\", \"\\uc8fc\\uc7a5\", \"\\ucc28\\uc7a5\", \"\\uae40\\uc601\\ubc30\", \"\\ub178\\ub3d9\", \"\\ub2e4\\uba74\", \"\\uacbd\\uc81c\", \"\\uc790\\ucde8\", \"\\uc6b0\\ud30c\", \"\\uc8fc\\ubc94\", \"\\uc774\\uacbd\\ud638\", \"\\ubcf8\\uc0b0\", \"\\ub2e8\\uccb4\", \"\\ub9cc\\ub2a5\", \"\\uac10\\ucd94\", \"\\ud6c4\\uc6d0\", \"\\uacfc\\uac70\", \"\\uc73c\\uba74\", \"\\ud1a0\\ub860\", \"\\uc815\\ubd80\", \"\\uc911\\ub3c4\\uc6b0\\ud30c\", \"\\uadfc\\uac04\", \"\\uc2e4\\uad6d\", \"\\ud3c9\\ub4f1\", \"\\uc591\\uadf9\", \"\\uc0ac\\ub78c\", \"\\ub77c\\ub294\", \"\\uc790\\uc720\", \"\\ud55c\\ub2e4\", \"\\uace0\\uc870\", \"\\uae34\\uc7a5\", \"\\uc720\\ub85c\\uc874\", \"\\ub2ec\\ub7ec\", \"\\ud658\\uc728\", \"\\uc6c0\\uc9c1\\uc784\", \"\\ubcf4\\ud569\", \"\\uc8fc\\uac00\", \"\\uc720\\uac00\", \"\\uc720\\ub85c\", \"\\ub2ec\\ub7ec\\ud654\", \"\\ub2e4\\uc6b0\", \"\\uc774\\ud589\", \"\\ubd81\\ubbf8\", \"\\uc6d0\\uc720\", \"\\uac15\\uc138\", \"\\uadf9\\uc6b0\", \"\\uc5f0\\ubc29\", \"\\ud55c\\uacbd\", \"\\uc5f0\\ubc29\\uc740\\ud589\", \"\\uc6d4\\ub798\", \"\\uac10\\uc548\", \"\\ud604\\ubb3c\", \"\\uc0cc\\ud504\\ub780\\uc2dc\\uc2a4\\ucf54\", \"\\ub3d9\\ud5a5\", \"\\uae08\\ub144\", \"\\uc2dc\\ucd94\\uae30\", \"\\ub85c\\ubc84\\ud2b8\", \"\\ucd1d\\uc7ac\", \"\\ub274\\uc2a4\\ub8f8\", \"\\uc548\\uc804\", \"\\uad6d\\uc81c\", \"\\uc57d\\uc138\", \"\\ucd94\\uac00\", \"\\uae08\\ub9ac\", \"\\uc790\\uc0b0\", \"\\uc57d\\ud654\", \"\\ub300\\ube44\", \"\\uc0c1\\uc2b9\", \"\\uc9c0\\uc218\", \"\\uba74\\uc11c\", \"\\uc2dc\\uc7a5\", \"\\ubd81\\ud55c\", \"\\uc2dc\\ud2f0\", \"\\uc2a4\\ub9c8\\ud2b8\", \"\\uc11c\\uc6b8\\uc0b0\", \"\\uc5c5\\uc9c4\", \"\\ud765\\uc6d0\", \"\\ud559\\uae30\", \"\\ubc30\\uc6c0\\ud130\", \"\\uc5f0\\uc138\\ub300\", \"\\uc870\\uc6d0\", \"\\ubc1c\\ud45c\\ud68c\", \"\\ub0b4\\ub193\", \"\\uad6c\\uc120\", \"\\uc0c1\\uc554\\ub3d9\", \"\\uac70\\uc810\", \"\\uc804\\ub7b5\", \"\\uc218\\uac15\", \"\\ud504\\ub85c\\uadf8\\ub7a8\", \"\\uc735\\ud569\", \"\\ucd5c\\uc885\", \"\\uacb0\\uacfc\\ubb3c\", \"\\uc9c4\\ud589\", \"\\ubc1c\\uc804\", \"\\ub2e4\\uc591\", \"\\ucd5c\\uc774\\uad8c\", \"\\ud5a5\\ud55c\", \"\\uba85\\uc18c\", \"\\ud65c\\uc131\", \"\\ub3fc\\uc654\", \"\\uc608\\uc220\", \"\\uc81c\\uc2dc\", \"\\ubcf8\\ubd80\", \"\\uc0ac\\uc9c4\", \"\\uc5f0\\uad6c\", \"\\uc81c\\uacf5\", \"\\ubd84\\uc11d\", \"\\uc11c\\uc6b8\", \"\\ubc29\\uc548\", \"\\ucca0\\uc218\", \"\\ucca0\\uac70\", \"\\ub0a8\\ubd81\", \"\\uc0c1\\ud638\", \"\\uc2dc\\ubc94\", \"\\uac80\\uc99d\", \"\\ud3ed\\ud30c\", \"\\uc911\\ubd80\", \"\\uc804\\uc120\", \"\\ud30c\\uad34\", \"\\ubd81\\uce21\", \"\\uad6d\\ubc29\\ubd80\", \"\\uad70\\uc0ac\", \"\\ube44\\ubb34\\uc7a5\", \"\\ud569\\uc758\\uc11c\", \"\\uc644\\uc804\", \"\\ud1b5\\uc2e0\\uc120\", \"\\ud1b5\\uc9c0\", \"\\uc81c\\uac70\", \"\\uc6d0\\ud615\", \"\\uac10\\uc2dc\\ucd08\", \"\\uc11c\\ud574\", \"\\uac78\\uccd0\", \"\\uc9c0\\uad6c\", \"\\ub0a8\\uce21\", \"\\uc9c0\\ub300\", \"\\uc77c\\uad04\", \"\\ud3c9\\uc591\", \"\\ucca0\\uc6d0\", \"\\uc0ac\\uc804\", \"\\ub300\\uc0c1\", \"\\uc774\\ud6c4\", \"\\uac15\\uc6d0\\ub3c4\", \"\\uc2a4\\ud53c\\ucee4\", \"\\ub514\\uc790\\uc778\", \"\\uc790\\uae30\", \"\\uc6b0\\ud37c\", \"\\ubd80\\uc0c1\", \"\\uacf5\\uc911\\ubd80\\uc591\", \"\\ucd9c\\uace0\\uac00\", \"\\ucda9\\uc804\", \"\\ubc30\\ud130\\ub9ac\", \"\\uc77c\\uc73c\\ud0ac\", \"\\uc804\\uc790\", \"\\ubc84\\ud2bc\", \"\\ub204\\ub974\", \"\\ub9c8\\ucf00\\ud305\", \"\\ub5a0\\uc624\\ub978\\ub2e4\", \"\\ub4f1\\uae09\", \"\\uc190\\ub300\", \"\\ub5a8\\uc5b4\\uc9c0\", \"\\uc0ac\\ub85c\\uc7a1\", \"\\ubc29\\uc218\", \"\\ub0b4\\ub824\\uc640\", \"\\uc62e\\uc544\\uac04\\ub2e4\", \"\\uc5c5\\uadf8\\ub808\\uc774\\ub4dc\", \"\\uacbd\\uc7c1\", \"\\ube14\\ub8e8\\ud22c\\uc2a4\", \"\\uc2dc\\uc120\", \"\\uc990\\uac70\\uc6b4\", \"\\ub300\\uc548\", \"\\ub3cc\\ud48d\", \"\\ucc44\\uc6a9\", \"\\ud55c\\uad6d\", \"\\uac1c\\ud5cc\", \"\\ud22c\\ud45c\", \"\\uc6d0\\ub0b4\\ub300\\ud45c\", \"\\uc6d0\\ub0b4\", \"\\ud2b9\\uc704\", \"\\uc9c0\\ubc29\", \"\\ub3d9\\uc2dc\", \"\\ub294\\ub2e4\\uba74\", \"\\uc120\\uac70\", \"\\ub300\\uc120\", \"\\uc2e4\\uc2dc\", \"\\uc5f0\\uc7a5\", \"\\uad6d\\ubbfc\", \"\\ud5cc\\ubc95\", \"\\uc6b0\\uc6d0\\uc2dd\", \"\\ub193\\uce58\", \"\\uc2dc\\uae30\", \"\\ubaa8\\ub978\\ub2e4\", \"\\uc555\\ubc15\", \"\\uac70\\ubd80\", \"\\uc720\\ubd88\\ub9ac\", \"\\uc57c\\uad8c\", \"\\uc815\\ud574\", \"\\uaf2c\\uc9d1\", \"\\uc720\\ud0dc\\ud658\", \"\\uce58\\ub974\", \"\\uc774\\uac83\", \"\\uc815\\ud558\", \"\\ub098\\uc120\", \"\\ud0c0\\uc784\", \"\\ub3d9\\ucc38\", \"\\uc57d\\uc18d\", \"\\ub77c\\uba70\", \"\\ub17c\\uc758\", \"\\uc785\\uc7a5\", \"\\uacf5\\uc57d\", \"\\ud55c\\uad6d\", \"\\ud2b9\\ubcc4\", \"\\uc9c0\\ub09c\", \"\\ub0b4\\uc654\", \"\\ubcc4\\uba85\", \"\\ud0dc\\ud3c9\\uc591\", \"\\uc774\\ub904\\uc9c0\\uae30\", \"\\ud569\\uc758\\uc11c\", \"\\uc628\\ub3c4\", \"\\ub118\\uc5b4\\uac00\", \"\\uc8fc\\ub958\", \"\\ub9cc\\ub0a0\", \"\\uc808\\ub300\", \"\\ud669\\uc601\", \"\\uce58\\ub97c\", \"\\ub85c\\uc6b4\", \"\\uc7ac\\ubb34\", \"\\uc2f1\\ud06c\\ud0f1\\ud06c\", \"\\uc6b0\\ucd95\", \"\\ubd80\\uc791\\uc6a9\", \"\\uc6b0\\ud37c\", \"\\uc720\\uba85\", \"\\ud504\\ub85c\\uc81d\\ud2b8\", \"\\uc774\\ub3d9\\uc758\", \"\\uace0\\uc870\", \"\\ub298\\ub824\", \"\\uc0c1\\uc554\\ub3d9\", \"\\uc774\\ub178\\ubca0\\uc774\\uc158\", \"\\uc0ac\\ub85c\\uc7a1\", \"\\ubc29\\uc804\", \"\\uc88c\\ud30c\", \"\\uc758\\ubbf8\", \"\\ud310\\uad00\", \"\\ube0c\\ub9bf\\uc9c0\", \"\\uc790\\ub294\", \"\\ub300\\ud55c\\ubbfc\\uad6d\", \"\\uce5c\\ud654\", \"\\uad6c\\uc0c1\", \"\\uc190\\uc27d\", \"\\uc544\\uc2dc\\uc544\", \"\\uac04\\uc811\", \"\\ud574\\uc11c\", \"\\uc778\\uc99d\", \"\\uc18c\\uc9c0\", \"\\uc815\\uc6b0\\ud0dd\", \"\\ub294\\uc9c0\", \"\\ub7ec\\uc2dc\\uc544\", \"\\uc7a5\\uc18c\", \"\\ud68c\\uc7a5\", \"\\ube44\\uc0c1\", \"\\uae08\\uc18d\", \"\\uac15\\uc870\", \"\\ud655\\uc0b0\", \"\\uc785\\ub2c8\\ub2e4\", \"\\uad00\\ub9ac\", \"\\ud3ed\\ud30c\", \"\\ubc1c\\uc804\", \"\\uc81c\\uc5b4\", \"\\uc54c\\ub824\\uc9c4\", \"\\ub77c\\uac00\", \"\\ud669\\uc2e4\\uc7a5\", \"\\ubc1b\\ub4e4\", \"\\uac10\\uc0b0\", \"\\ub4dc\\ub860\", \"\\uac10\\uc548\", \"\\uc6b4\\uc2e0\", \"\\ubbf8\\uc2a4\\ud2b8\", \"\\uc5f0\\ud569\\ud68c\", \"\\ub6f0\\uc5b4\\ub4e0\", \"\\uc790\\uae30\", \"\\uc9c0\\ucf1c\\ubcf8\", \"\\ubc1d\\ud788\", \"\\ubbf8\\uc138\\uba3c\\uc9c0\", \"\\ub2f5\\ub2f5\", \"\\uc815\\ub840\", \"\\ub2ec\\ub9ac\", \"\\uc678\\ucc44\", \"\\ud569\\uc758\\uc11c\", \"\\uc815\\ud558\", \"\\ud328\\ub110\", \"\\uae30\\uac00\\ubc14\\uc774\\ud2b8\", \"\\uc131\\ud5a5\", \"\\ub9d0\\uc500\", \"\\ud3c9\\uc591\", \"\\ud574\\uc694\", \"\\uce5c\\ud658\\uacbd\", \"\\ubc14\\ub85c\\uc7a1\\ud788\", \"\\ub9ac\\ud50c\\ub808\\uc774\", \"\\ud1a0\\ub300\", \"\\ub2e8\\uae30\\uac04\", \"\\uc18d\\ub3c4\", \"\\uc138\\ubc00\", \"\\ub192\\uc5ec\", \"\\uc99d\\ud6c4\\uad70\", \"\\uc54c\\ub824\", \"\\uc678\\uad6d\", \"\\uce58\\ub8cc\\ube44\", \"\\ub300\\uc0c1\", \"\\uc9c0\\uc704\", \"\\uc9c4\\ud589\", \"\\ud3b8\\uc758\", \"\\uc6b0\\uc704\", \"\\uc131\\uacf5\", \"\\ub300\\ub355\", \"\\ub3c4\\ub85d\", \"\\uae30\\uc900\"], \"Freq\": [0.0, 0.0, 0.0, 0.0, 0.0, 0.0, 0.0, 0.0, 0.0, 0.0, 0.0, 0.0, 0.0, 0.0, 0.0, 0.0, 0.0, 0.0, 0.0, 0.0, 0.0, 0.0, 0.0, 0.0, 0.0, 0.0, 0.0, 0.0, 0.0, 0.0, 0.3243803658165848, 0.19508063363385478, 0.18508353779780587, 0.15056085179935774, 0.13329819471979745, 0.1361568403250611, 0.12534275206432202, 0.12852088165543887, 0.1315430324429374, 0.11918129001162077, 0.11834169444508963, 0.10912680748188537, 0.11314401216934636, 0.10586184144588527, 0.12114641488493826, 0.10423415816556744, 0.104574964006826, 0.09968236351274162, 0.10862744069978035, 0.12980043609398395, 0.11139244357019647, 0.11027925543800687, 0.09753408296234355, 0.11114153276701913, 0.0983870006491667, 0.10374096971889463, 0.10110231553231042, 0.09580611899754367, 0.09684862058632314, 0.09056813261547142, 0.09646112481977728, 0.10833826932208496, 0.10142729296961268, 0.10179076390979266, 0.10381116121856693, 0.0994068273981068, 0.07941941531464874, 0.07848146846725408, 0.08782656330977123, 0.06598301647061149, 0.0728006507525102, 0.06373407687519632, 0.06127367276381132, 0.056959530622324527, 0.052146574843698855, 0.06299603751387105, 0.046504679890324016, 0.0621209368795316, 0.04629742199733338, 0.059740803433259236, 0.052202920587717506, 0.04555821189352873, 0.04529756932248938, 0.04869520028797555, 0.0406962269895597, 0.04143874342977986, 0.05470469408528501, 0.039478146309413445, 0.04282694763626872, 0.04844092996205434, 0.03845419858496881, 0.03803299855257858, 0.03554271191773422, 0.04917740856569547, 0.05238304705539875, 0.035826358600375974, 0.05142263800570316, 0.03725869477972953, 0.038147661768924916, 0.0412722309476873, 0.04141111858676774, 0.0392072165296455, 0.056655879207133136, 0.050737030040442034, 0.052936487495312046, 0.04943003863316974, 0.0493272939191095, 0.04894114507829705, 0.043167623241976705, 0.042551738291586816, 0.042556355524758734, 0.04224192881492147, 0.04154811893981924, 0.03758584128954818, 0.03811284561645675, 0.037094907556079956, 0.03731694569165367, 0.03750249469442613, 0.03728488578961327, 0.035328759784029204, 0.03385582084708484, 0.03332135850768574, 0.032573521670205954, 0.032398034118422216, 0.031518677205288566, 0.032687129569159104, 0.031128653955976204, 0.03151428505989248, 0.030925558939788066, 0.030543326331950626, 0.030858161825533265, 0.03219651868525866, 0.031383513281780684, 0.03147528827553476, 0.05923729622134301, 0.05250390850280672, 0.06270753230770632, 0.06601359524845644, 0.046831112495269445, 0.044690408654499296, 0.0447126001829745, 0.0454964207295457, 0.04336918270273251, 0.03778612113821355, 0.03611284982473977, 0.047498648109949644, 0.034690474347381525, 0.0334255123441142, 0.03371859778123234, 0.03776472472833069, 0.036845857753485534, 0.045395948995877185, 0.030276707730906436, 0.03251052209920933, 0.030101531352081608, 0.030619275287848243, 0.03339865344293986, 0.028887250111000323, 0.02845902592253031, 0.03998867189747794, 0.03271530785396169, 0.03171175530360077, 0.039353576813408876, 0.02775142852187872, 0.028559534353559256, 0.03215622161305446, 0.03558627714146141, 0.02913749102527848, 0.044974998377167126, 0.06995170509535864, 0.03861194002503524, 0.039703529228334075, 0.03326179288420236, 0.04331816017223342, 0.031215054475667744, 0.03936885295310136, 0.027381073777040476, 0.027730766638342206, 0.037503147222803554, 0.02853618593629882, 0.027927047239278604, 0.0249413969916664, 0.02488217846744571, 0.024781113724268018, 0.02403321887063039, 0.02494948358156873, 0.0235410258164316, 0.026227511196948904, 0.02585290852540903, 0.023373447568184467, 0.02962684410888378, 0.02291007586552879, 0.025283257755081754, 0.021061113839343837, 0.02294676401257936, 0.02053037810196459, 0.025200789981716182, 0.019525606440283682, 0.024642359571742944, 0.022788362771963274, 0.021983836738165966, 0.04761289112984389, 0.03739020656858008, 0.03578960658874019, 0.03374313922018489, 0.0364566204309483, 0.03141145641298273, 0.03064795352191501, 0.027336443598457716, 0.02855248253307883, 0.025033434151690223, 0.02509096345038653, 0.02549562156624378, 0.02429233300701231, 0.033230536750676616, 0.023855382801976296, 0.022249279711374383, 0.022423845561759113, 0.022503225759809946, 0.026730444942971155, 0.021768310787240872, 0.024099207602432657, 0.021315034118311517, 0.021427154484835374, 0.02115886434640175, 0.023641939231319735, 0.021128349970929, 0.020873875662201592, 0.021188447705735677, 0.020562130810643134, 0.02098208296180342, 0.02067748259006109, 0.024268605928735136, 0.030195440120347066, 0.024006740200304147, 0.023783332200359143, 0.024250498805081965, 0.024350073441445273, 0.022812660793153187, 0.025360573639113475, 0.02380302050466701, 0.022401752261003587, 0.02267076306282295, 0.03780097836747479, 0.029764444004669374, 0.027588449003479554, 0.030698504152922173, 0.026748420950518773, 0.023445890647773828, 0.023986255499995286, 0.02815716223115218, 0.021138248915731746, 0.025400329091119275, 0.016804825707411663, 0.015321578378389173, 0.017835426049210155, 0.014919157975369903, 0.0159909432528785, 0.014384416031868182, 0.014372546464066273, 0.015230460403122592, 0.012899633487886688, 0.01242876947173627, 0.014725996268714273, 0.01347702274933639, 0.012446084159235109, 0.013689433896038133, 0.012158147053674904, 0.013197547457914047, 0.01389157661420279, 0.011582859957408763, 0.011494689108686309, 0.017290781625727683, 0.014239701207327957, 0.013117404461484239, 0.014665816700307534, 0.013474986917424284, 0.013774363413369106, 0.01342664121910665, 0.014084522013281486, 0.013553568432066893, 0.034000783087415894, 0.033676582296224014, 0.030390762906840608, 0.02653815906810478, 0.022222820503139534, 0.02227176567537869, 0.020693567809854502, 0.020190575536887398, 0.01946749743864862, 0.018898345400024837, 0.020242787053056252, 0.019691041972393356, 0.016980063994011668, 0.0168067989610565, 0.016566256329125614, 0.01669554025674294, 0.01648448028002394, 0.022292037602755013, 0.015343525209846403, 0.017150698975785104, 0.015308798829740832, 0.014869160081114625, 0.013997379981811983, 0.017779558315421586, 0.013276238970944371, 0.012686232989369408, 0.012778761726587061, 0.012437964805493569, 0.012336862028176418, 0.011811218241675196, 0.015379611117818211, 0.018110916198611004, 0.014376268284663526, 0.01506761031924655, 0.01572393322995762, 0.0138877249603644, 0.03419021957811481, 0.02327622550075365, 0.029302552359732763, 0.020808119038304682, 0.02090734243742742, 0.021680762381904948, 0.021207605970522726, 0.024005563952915723, 0.01919042343523048, 0.017331642990437615, 0.016919108855850327, 0.022785668960772474, 0.01595518601601162, 0.015945722004896475, 0.016001065448800915, 0.015723750858272004, 0.014494434380866715, 0.014641021491043545, 0.013950958263506156, 0.015441535567250027, 0.015126523883496322, 0.019409405188322373, 0.01392473155814468, 0.012019677934009257, 0.012423598201463958, 0.01209449451069537, 0.012009881477012442, 0.01419214981147746, 0.01207155696243571, 0.012246621762235413, 0.01821828070603899, 0.015011994760567105, 0.013732950454041892, 0.02655585871446345, 0.016209581319336155, 0.01725056645552866, 0.015754408995803975, 0.014696501379357624, 0.014672106481402143, 0.01449188960186812, 0.026022990968950707, 0.01956692403301743, 0.016020769115969467, 0.014634893773772832, 0.0148063840826601, 0.014638513421039077, 0.016340268694223378, 0.014225769026403448, 0.02091416340479206, 0.011937340564859716, 0.0118153930472704, 0.01115237011812409, 0.011063011138981362, 0.009646569126759848, 0.009799907336659574, 0.009644121678262852, 0.009652433477609612, 0.009536752682948436, 0.009594407434068348, 0.009385440764604104, 0.009545322367196418, 0.009516703226938638, 0.00909601236834236, 0.008907962485509627, 0.00876969939771087, 0.013138373004560167, 0.010890486750462712, 0.007679959443876029, 0.007935597099712258, 0.0075305415538520805, 0.008586004221781464, 0.008523468301604763, 0.009627317809561579, 0.010845113840094062, 0.00938061980287881, 0.009047221415447407, 0.01667605839567881, 0.015558446642460151, 0.021638912257519773, 0.01921536530090898, 0.015441715920226794, 0.012617649434508025, 0.013457089021215467, 0.01244268038982249, 0.012372271954682778, 0.01178878660123517, 0.011482076817572913, 0.010527896284853863, 0.015831055480075996, 0.010320083611023023, 0.013398811690338847, 0.00942365700770185, 0.010471825692324438, 0.008729834491538411, 0.01236904868180415, 0.011131779430314731, 0.008708357460003322, 0.008337004054006152, 0.008386477615335322, 0.011453926037147042, 0.008552820567068641, 0.008250571192303912, 0.008215999931559484, 0.008222962404062355, 0.008747843319021743, 0.008050097066923601, 0.011184346634713507, 0.010522420465250858, 0.010136252474243775, 0.00949730925784135, 0.009844610624585436, 0.02219542856514554, 0.01699972819365732, 0.011978021473226063, 0.014055279527536848, 0.011051919590734361, 0.010933349269081903, 0.011179975044021052, 0.011081271254913537, 0.01073324432219958, 0.011045571946750678, 0.011133018869742424, 0.011039845638843105, 0.010629356358634837, 0.016444908447112477, 0.010870453236675518, 0.010676122046029954, 0.010669569765017867, 0.010326648265252172, 0.01077642067734712, 0.010725692111134983, 0.010653274259076912, 0.013724583795685124, 0.010266513425400924, 0.010550085278683237, 0.00948952133205985, 0.009622800794646228, 0.009551524817362069, 0.010145093402869508, 0.00987153441909728, 0.009673476768782033, 0.012083044047930272, 0.010540259999389538, 0.015913928435080164, 0.009837906607971583, 0.01026319914114798, 0.011131936833931284, 0.013486407963093182, 0.011817824782535992, 0.008754880371406483, 0.00874244688585767, 0.008474683363780827, 0.010864425401988521, 0.008365124505499708, 0.00860718694327393, 0.008170452643442573, 0.00712709025526765, 0.00708817167353119, 0.007741777596141928, 0.006891441754383218, 0.010228382700309699, 0.006913508757981539, 0.006971440870578363, 0.006877907864982532, 0.006887540639100907, 0.006910652912110596, 0.007561519785052019, 0.006779837088171537, 0.006739194069635963, 0.006439941200180188, 0.007671182136670356, 0.0075860256785439594, 0.006035236504335955, 0.010096732015883897, 0.0056336757702489595, 0.006022248407032294, 0.005620211486569544, 0.006573931966021632, 0.0064405921023993696, 0.007060189220279741, 0.007122168435920125, 0.006734897706580112, 0.006549607026680154, 0.011172502794803843, 0.008576919353378192, 0.008602516617526635, 0.010257404464098133, 0.008498281000953236, 0.008408785648880812, 0.008415655038023363, 0.00930392678188539, 0.008271930433666044, 0.008332210625509514, 0.007903074031074863, 0.008041134313442734, 0.007544450049069785, 0.007716904475092515, 0.006592027160504547, 0.007629636653564725, 0.006357507734752448, 0.006318644628284758, 0.006198815048115662, 0.0062019964280076246, 0.006036166166769287, 0.006359626916945742, 0.006151909866410391, 0.006361136125791985, 0.0062340803496835845, 0.006000252649343083, 0.006105285287536282, 0.005997381118695949, 0.006317768216447513, 0.006045026759116249, 0.007167879106117794, 0.007728382873868727, 0.0075372182413219364, 0.007328201548538098, 0.008896419384263532, 0.0074275781136539905, 0.00632794083030678, 0.006842040972316664, 0.006965742576912231, 0.007406430400867326, 0.006722993697526879, 0.006664581779411542, 0.006363579182782407, 0.014714303675773897, 0.01425292830493227, 0.011323784840587292, 0.010767117049570892, 0.010644572052191638, 0.007250796730812915, 0.007266370072597903, 0.007579513639751592, 0.007026359601768605, 0.006956933352701671, 0.006118332980628001, 0.005894402595984613, 0.006108772118537013, 0.006075229999097911, 0.006550367184100112, 0.005687193558747582, 0.0057271927744806245, 0.005750288974832794, 0.005888185364103416, 0.005422807132804039, 0.007034172575968205, 0.005087771976720149, 0.006055309507130928, 0.005093413187914429, 0.00500147078496084, 0.005094076805272219, 0.004925538600076813, 0.004935602503392554, 0.005147772688087197, 0.0059188594831023214, 0.005288845772051494, 0.006394757238299678, 0.006754193262184603, 0.005591966048533841, 0.005450809823754892, 0.005368560759673117, 0.005333071417860153, 0.011520883108522922, 0.009818653500244894, 0.009915401225793812, 0.00755110122829843, 0.008545391781316013, 0.007445250496751141, 0.006246205354221634, 0.006335393123851082, 0.006323756233065273, 0.00618244065790152, 0.00705667612175708, 0.006086068020478367, 0.005910155135264397, 0.004614909771177211, 0.004557314294219247, 0.0046009451840067425, 0.0045774252907688495, 0.004604656426732099, 0.004543333898764347, 0.004524996019042211, 0.004557474404486627, 0.004460512455189334, 0.004579869381041203, 0.004304254893853658, 0.0045425917949131886, 0.004435058403238233, 0.004504633594379601, 0.004296554467581565, 0.0043861693577579835, 0.004457069391260433, 0.006093023053397919, 0.004642408198086767, 0.004408695888982547, 0.015099288268670066, 0.007992005170943088, 0.006623698623827672, 0.006453093356670147, 0.0063140154576979465, 0.006368952427449272, 0.0065744609422304975, 0.006224179408666163, 0.005999328337060642, 0.004866183395955502, 0.006970359179630966, 0.004582876811950138, 0.004671600427482971, 0.004721824552283715, 0.004497765228385703, 0.004553049386382655, 0.004547487027930326, 0.004476112627457033, 0.004582516325679082, 0.004497541653774154, 0.004583111501109972, 0.0045190504147319685, 0.004357914241849422, 0.004363510808104747, 0.0043343588614644536, 0.004283786366141717, 0.0042284050222850655, 0.00430721762106607, 0.00430857837058919, 0.004273011776949657, 0.00480556854525284, 0.015632006253778155, 0.007401216025221653, 0.005605413394029538, 0.0048011474948229495, 0.005916448398330094, 0.006461015308876383, 0.005851594441794522, 0.004173288480610588, 0.006792774211156449, 0.003892210539362864, 0.004188508866075937, 0.00436699493600645, 0.005919690131984743, 0.0034948895470839005, 0.003354688123474404, 0.003338983459236318, 0.003633947447523757, 0.00321322911675795, 0.0032874349249810498, 0.003207143245981863, 0.0033232719894373073, 0.0031676528680774302, 0.003244120893623837, 0.0032738471468621087, 0.003181205533126771, 0.0031646337408394727, 0.0032294795651482845, 0.0031747326334921095, 0.0032224143662165816, 0.0030964480669708606, 0.0032283223427766144, 0.003716697361372656, 0.004213972605179535, 0.003548180904779909, 0.004095392323796976, 0.0035903940714076756, 0.004001752495544137, 0.003240155515506525, 0.003274557078618158, 0.0010670571900541726, 0.0010334288101803873, 0.0010313516847437556, 0.0010503628951466172, 0.0009803146602690152, 0.001029293780403679, 0.0009687973795554996, 0.0009716910700901007, 0.0009842680120052303, 0.0009840984336074636, 0.0010298779193340937, 0.0009894518470942289, 0.0009938021687869896, 0.001008382038037717, 0.0009829652724794727, 0.0009659161491792608, 0.0009577189730216518, 0.0009807136031367621, 0.0010074720863400882, 0.0009934915916476042, 0.001007240967024653, 0.0009862448922519458, 0.0009930307344092474, 0.0009912607636294133, 0.0009903808392381017, 0.0009883101617251568, 0.0009782937941663875, 0.0009621088666194406, 0.0010206450243629278, 0.0009798343459023044, 0.0010106328403996, 0.0010199131154601236, 0.0009972609907154734, 0.0009945154994453905, 0.0009941731218024103, 0.0009990250416356528, 0.0010082682168149287, 0.0009922542993461433, 0.0010177665152620175, 0.0010042689272298923, 0.0009966466389863982, 0.001013875551049259, 0.0010639239607468697, 0.0010052398791247678, 0.0010086185359463587, 0.0010199349775263091, 0.0010557143152316528, 0.001004513110630247, 0.0010079303228772392, 0.0009960417434270975, 0.0010033860126642303, 0.000995560307149393, 0.001080383787872692, 0.0010229713261869686, 0.0010447388383355593, 0.0010295737901823594, 0.0009901693345567147, 0.0010177254472094137, 0.0009890601642513095, 0.0009545183097620771, 0.0009835691154080864, 0.0010303769201033084, 0.0010022734406981767, 0.0009893460415453196, 0.001035947132729318, 0.0009900005272084013, 0.0009963055775468266, 0.0010049626798085776, 0.0009928955900400458, 0.000985313594248807, 0.0009744302353832783, 0.0010441565998070446, 0.0010008821049378575, 0.000983262023214197, 0.00094426173397226, 0.000965766741745184, 0.0009869427450647865, 0.0009993270979904863, 0.0010038559252726368, 0.0010035663567199182, 0.000962199732811508, 0.0009688524622164254, 0.0010089709148403453, 0.0010083583305139153, 0.000996668897374267, 0.0009867775344485545, 0.0010063395104192969, 0.0009999720734450996, 0.0009917715044121455, 0.0009996973896581926, 0.0009973593240486865, 0.0010353075219940125, 0.0010019737370397714, 0.000999718594894726, 0.0010169837472072342, 0.0009954030413054983, 0.0010068739669360544, 0.0009977499367145983, 0.000998516390813228, 0.0010010691301788408, 0.0010017209260996716, 0.0010044493057558912, 0.0009984025894601305], \"Total\": [0.0, 0.0, 0.0, 0.0, 0.0, 0.0, 0.0, 0.0, 0.0, 0.0, 0.0, 0.0, 0.0, 0.0, 0.0, 0.0, 0.0, 0.0, 0.0, 0.0, 0.0, 0.0, 0.0, 0.0, 0.0, 0.0, 0.0, 0.0, 0.0, 0.0, 0.490661068436725, 0.33193690626651573, 0.3209670253441862, 0.2617973302381848, 0.23935380195498704, 0.24747410381257362, 0.2328151389713843, 0.23962008470700497, 0.24564702036091315, 0.22384574090966725, 0.22494660921267107, 0.2145341182589757, 0.2249482468857336, 0.2106102630676101, 0.24408968961845198, 0.21015642606070703, 0.2116614151587693, 0.20340737402223144, 0.22269865499953015, 0.2687539689892658, 0.23079686917350622, 0.2295955663395303, 0.2036151666790333, 0.23444461507879644, 0.2080857959193738, 0.2218713451176306, 0.21769165305013127, 0.2070278924547333, 0.21010381485230928, 0.19658329150232545, 0.21028661529828055, 0.24233127466693818, 0.2246600609645003, 0.22658896313056126, 0.25131534795034677, 0.2555275580183066, 0.19871204134124099, 0.205258723984823, 0.23979812355847857, 0.18701364980570437, 0.20705620632280075, 0.18142144147287206, 0.18220843144492213, 0.17485075547939022, 0.17022211587019237, 0.21228868794922556, 0.16090752727005783, 0.21622290338900724, 0.16340934123486967, 0.21336802614438155, 0.18963512297549906, 0.16605143110310144, 0.16898434998677417, 0.18182628368590664, 0.15421505421890921, 0.1589345920450522, 0.21026677149508108, 0.15621608803909443, 0.17045377560441563, 0.19756656449927743, 0.156863369202453, 0.16044125505329682, 0.15125991506744205, 0.20997546229744382, 0.22463259785620618, 0.15484392931904187, 0.2531463942761443, 0.1708990988311016, 0.18322498681494895, 0.26651298546598157, 0.33193690626651573, 0.2687539689892658, 0.17970544067638827, 0.1699999371935098, 0.18016243468403834, 0.17182308330282914, 0.17349242241679486, 0.17246821907669962, 0.16153873326316787, 0.16277114793243352, 0.1644378004582141, 0.16406210289241427, 0.1658803403668669, 0.158269232323193, 0.16068713348165128, 0.15754016461563713, 0.1588121638890451, 0.160240101971753, 0.16300881888163304, 0.1591933348669051, 0.1544129897841657, 0.1554290629720031, 0.15368739573276358, 0.15288483002899347, 0.15030444749222774, 0.1575225253141996, 0.15110729993292613, 0.1548614434134448, 0.15271297930510497, 0.1515053056781391, 0.1544298906569501, 0.161189854035051, 0.1580308059544081, 0.16068775230502833, 0.18335627787684902, 0.1771480885016256, 0.21406998631185983, 0.2323124452103801, 0.1699016605565272, 0.1670001369157507, 0.17505373545615904, 0.17946496054058017, 0.17690819357228488, 0.15850341126277326, 0.15826063705005797, 0.21286481880956196, 0.1565493336350683, 0.15488992055733744, 0.1574225038795011, 0.17631326872573505, 0.17416585003278034, 0.22082270654362263, 0.14812277409945626, 0.1627580899159534, 0.15204309483194645, 0.15608345140870294, 0.17166659502505435, 0.1486222134573058, 0.15449605949050252, 0.21904626708568847, 0.1797042391730744, 0.17563492329986574, 0.21875419931404533, 0.1545763914715065, 0.15935989444615206, 0.18484206756578755, 0.2555275580183066, 0.1933861447619559, 0.1708225951294489, 0.26651298546598157, 0.1686254142031647, 0.17630019238549693, 0.16127695687443167, 0.21336802614438155, 0.15653804509128913, 0.20388347099293366, 0.15003146423270972, 0.15197327267006872, 0.20590299828471412, 0.16579884866097686, 0.1674516463221763, 0.14963988059271435, 0.15048944821731222, 0.1507999464221932, 0.14691536913909553, 0.15258835965883297, 0.14580338996232672, 0.16488571467013255, 0.16273166538929507, 0.15102811100921992, 0.1943853707974749, 0.15278204198975087, 0.1698499040427473, 0.144070476388941, 0.1591861480007486, 0.14559877418821068, 0.18322498681494895, 0.14225070445980323, 0.17999026663555326, 0.20705620632280075, 0.19006307963787789, 0.17285779935120954, 0.16598520769793704, 0.16107141449000864, 0.15585100079703185, 0.1758460881498736, 0.155277055778224, 0.16008533538477052, 0.14732105735535345, 0.16287886046867722, 0.14799156156906823, 0.15475574764106753, 0.16211907140537601, 0.15806233812537293, 0.21622290338900724, 0.15611473340598, 0.1471302055538346, 0.1485556769688268, 0.15055447128313532, 0.17990666753367032, 0.14776473019369796, 0.16400113754505297, 0.1452181593707826, 0.14616626391400306, 0.14476204100269596, 0.16244527278987717, 0.14555583277332532, 0.14394367272158845, 0.14621117969063943, 0.14411916668924818, 0.14708928404964652, 0.1449815565101713, 0.17690819357228488, 0.23381420758318552, 0.1831977874754036, 0.18161721530761799, 0.18999458063504693, 0.21026677149508108, 0.18182628368590664, 0.3209670253441862, 0.2480002963225821, 0.18484206756578755, 0.490661068436725, 0.16598093517293042, 0.1591252492081257, 0.1561821248416338, 0.17553946170396884, 0.15457007354738367, 0.1465014216980681, 0.15263290365358764, 0.19438704508135213, 0.1602188198614043, 0.21226617528599548, 0.1413344998676847, 0.13868332553284357, 0.16261885082060581, 0.14003865831342602, 0.15135066151267396, 0.13803094154089965, 0.14111873701975822, 0.1572992660979845, 0.13557620791240493, 0.13505209094530138, 0.16038779142043208, 0.14894520592937896, 0.14004155560154463, 0.1547402106948102, 0.1406954895436562, 0.15340715960286175, 0.16487586076824096, 0.13756296808730964, 0.13754596615047146, 0.20794473181194723, 0.17416585003278034, 0.1698499040427473, 0.20590299828471412, 0.18368320857120884, 0.19895691813627528, 0.18557173897134133, 0.22933239610084719, 0.20388347099293366, 0.1651949626146133, 0.1638057251501569, 0.15643479881458539, 0.16147585381987237, 0.14486176397814118, 0.1516692116059916, 0.15599379335184685, 0.152253258054535, 0.14707343269930218, 0.1445275651932319, 0.15590852090040505, 0.1542735224474631, 0.1390989656132126, 0.14139045612854234, 0.1397752675478462, 0.14147946965410346, 0.1423346517639571, 0.20001534189122191, 0.1408440114996109, 0.16126196504457999, 0.1466535180672734, 0.14394525053747267, 0.14062639658716575, 0.18852956767156512, 0.1429943449658827, 0.13825680914170976, 0.13989842808132164, 0.13785856384477554, 0.14074546002483113, 0.13566484942601162, 0.18288315582598802, 0.2232745061681123, 0.17045710293238958, 0.21875419931404533, 0.2480002963225821, 0.1850586460609712, 0.16006302412891088, 0.1505979166636824, 0.19602190838858993, 0.14911670214423678, 0.15389688757410191, 0.16045130269737068, 0.16688866860867654, 0.18935041478210027, 0.15403184711102968, 0.1451622858670167, 0.14349568462609547, 0.20001534189122191, 0.14066250464878682, 0.14286433218623432, 0.14501610815322735, 0.14640861049719225, 0.14542076603666096, 0.14883776129729423, 0.14633896174563713, 0.1627580899159534, 0.15977714950886382, 0.21048545261630272, 0.152466285714493, 0.13427902360196467, 0.13958435771232472, 0.13612126883853232, 0.1360046820610263, 0.16094915297824028, 0.13880384589392833, 0.14091388834200524, 0.21351390236174003, 0.18018270459319072, 0.1629984171598268, 0.490661068436725, 0.22173024436493424, 0.25131534795034677, 0.23381420758318552, 0.1948919020236365, 0.248764511738041, 0.23079686917350622, 0.16136157684039293, 0.14825432036801534, 0.14832562182378684, 0.14019385893441563, 0.14424030673369, 0.14274514159495408, 0.15950786727497807, 0.1424826454754726, 0.21904626708568847, 0.14231430358188166, 0.14118544416076173, 0.14180860941939016, 0.14195141547936713, 0.13478606144790797, 0.1386659633876632, 0.13675413033369246, 0.13829151630825604, 0.13786316827133066, 0.14013714343360745, 0.13717838277698377, 0.1416217295353925, 0.14150043800175344, 0.13603706611192654, 0.14034732509131598, 0.14547825770216, 0.21875419931404533, 0.18236177441896104, 0.13261180359220712, 0.1378147823254058, 0.13175571635016425, 0.15026344878065034, 0.15201790492729958, 0.18039543958799897, 0.21450261505721546, 0.18016243468403834, 0.23337889125934358, 0.1465788328266401, 0.14649454686444663, 0.20794473181194723, 0.18487953312456087, 0.15870245302196745, 0.13890849866801014, 0.15049163259645706, 0.14309065752223035, 0.142946207922415, 0.1426747774239552, 0.14834891043926562, 0.13862292959426886, 0.21228868794922556, 0.14139510757051932, 0.18459386944985012, 0.1426328850539968, 0.16087431853715928, 0.1353017305825163, 0.19249147055240676, 0.17447944850171443, 0.13762858465250924, 0.13311370513687273, 0.13414648619510977, 0.1853602223690785, 0.1395679593685824, 0.13568757663285771, 0.139915821985968, 0.14227493864136304, 0.15345845260914912, 0.1416422366530636, 0.21450261505721546, 0.20102363302216514, 0.23079686917350622, 0.21622290338900724, 0.3209670253441862, 0.15027120780717243, 0.16963789748970579, 0.14031753624155635, 0.16752773496084924, 0.13665407687966727, 0.1372424863785513, 0.1407160243762195, 0.13979049478695382, 0.13590569999749338, 0.13992826196185307, 0.14139206262511803, 0.14063426551728792, 0.13689789410058514, 0.21228868794922556, 0.14038290085225558, 0.13846558518732022, 0.13862877071306862, 0.13487571598082654, 0.14128423614628324, 0.1409581457200448, 0.14211968075089212, 0.18778678381626948, 0.14148741391218286, 0.14658258317646408, 0.1337078514265028, 0.13702637076396357, 0.1360288243366167, 0.14574871654985694, 0.14248684603233705, 0.13968112869752713, 0.1990559112774194, 0.16382201085260964, 0.490661068436725, 0.1495619597508334, 0.18198198456086595, 0.3209670253441862, 0.14409384776289172, 0.1492178404461683, 0.13780176758131513, 0.13916893552284207, 0.13687094270299321, 0.17591050532369967, 0.13544408218839601, 0.14016281466207278, 0.1404191087650525, 0.13342662069927205, 0.132729015644526, 0.14705890712776323, 0.13186348603102188, 0.19895691813627528, 0.1349033913027411, 0.13766884645308766, 0.13615678543862, 0.13670086538532314, 0.13757739615133327, 0.15171824912591755, 0.13618076117633712, 0.13786203871754887, 0.13616541940302568, 0.16412448747414227, 0.17045710293238958, 0.13583430377410444, 0.2286085822221122, 0.12995816119558914, 0.139460312609115, 0.13020848307805616, 0.15513638971165017, 0.15449605949050252, 0.1859325964483444, 0.1891261839728268, 0.19249147055240676, 0.2531463942761443, 0.13566115034389076, 0.1344753115963261, 0.1351426653284297, 0.16223305936882831, 0.13486517667932948, 0.13438169172762784, 0.13510121198124117, 0.15430919087576275, 0.13762834966628554, 0.14005400666036913, 0.1411538179540227, 0.15297966211205324, 0.14597293095637107, 0.15513412438313284, 0.13668929777434952, 0.15901426639011748, 0.13373415309923004, 0.13365455443890767, 0.1332309874525348, 0.1334654457469739, 0.13116021375253464, 0.1382824651282376, 0.13446349627782067, 0.13947138312182616, 0.13669980321553402, 0.13163770557379034, 0.13424540626288667, 0.13208527214425092, 0.13946831171748508, 0.1336369812084826, 0.15863481831262916, 0.1794214181666578, 0.1769976530086361, 0.1708990988311016, 0.22463259785620618, 0.18938736794090577, 0.14172544717182692, 0.17990666753367032, 0.19117054889913002, 0.24564702036091315, 0.2480002963225821, 0.22933239610084719, 0.23381420758318552, 0.14867075952330006, 0.17447944850171443, 0.14366048865196643, 0.14347692881365212, 0.1497516836959733, 0.13392265336716708, 0.1346967666410379, 0.14080242629966883, 0.13621070722917528, 0.13715904182840447, 0.1334843692626122, 0.1312136253116094, 0.1366112888493007, 0.1389009466928684, 0.15161336948529952, 0.13275703735787242, 0.13844007915728773, 0.14052911191784326, 0.14473984132924936, 0.1342203876978181, 0.17653256390086122, 0.1313398223075348, 0.16006085034631262, 0.13538390647714563, 0.13324754850919887, 0.13666931860359496, 0.13227826731399642, 0.1328885744445424, 0.13986215408573385, 0.16135672752844002, 0.14514547862289962, 0.1990559112774194, 0.21875419931404533, 0.18629849363760662, 0.1782624135586797, 0.16954795385949414, 0.1735159078356243, 0.14168223492673854, 0.13964058519411157, 0.15977714950886382, 0.1419548809795312, 0.16579884866097686, 0.14894445299317513, 0.1351479498749027, 0.13745013656227897, 0.13875492137607187, 0.13653544610027782, 0.15611473340598, 0.1358179714273318, 0.14316296529796405, 0.1292156161333937, 0.12979052095790286, 0.13232870028427432, 0.13254808589900116, 0.13420670123142303, 0.13444248457255717, 0.1345574763112801, 0.13568788751803681, 0.13304640048856547, 0.13697004500970666, 0.12921840356998573, 0.136439340732076, 0.13473747352884988, 0.13842663957534826, 0.13275871253941302, 0.13555354079541007, 0.1377526800410546, 0.19209434293716257, 0.16334443819040592, 0.1670001369157507, 0.13922604293567345, 0.1434731831936109, 0.13507448688717238, 0.13402618068584224, 0.13311917281651856, 0.13681701623249312, 0.1414167183079454, 0.1400974561477205, 0.1652317832541799, 0.1378497239768815, 0.20001534189122191, 0.1317736275010536, 0.13491682413104095, 0.1390243715571898, 0.1326803395989475, 0.1345566120138549, 0.1345742606746096, 0.13296811121988183, 0.13629577580263172, 0.13527336528676845, 0.1394748786102109, 0.1383495585129862, 0.13487692897052683, 0.13595018801866304, 0.13712331749824594, 0.1366026035881249, 0.13595001154950215, 0.14006570387012965, 0.14023626313975243, 0.1412798427225625, 0.209664643828132, 0.14924631980719316, 0.13586249493271327, 0.13927414142324487, 0.13231393583260911, 0.16730296707766712, 0.1842084290608069, 0.1692873375758105, 0.12996637896070296, 0.23979812355847857, 0.13897792058291117, 0.1503714300849946, 0.1627859848262119, 0.2218713451176306, 0.13542855154416486, 0.13383646566156193, 0.13387522905068508, 0.14742218016812936, 0.13072189611626928, 0.13431730883031975, 0.1318369537199159, 0.13692385326376363, 0.1305206056020622, 0.1337823428649439, 0.13519249204023545, 0.13140817838479688, 0.13081287375827713, 0.13400540671373073, 0.13275913665742373, 0.1347731095381852, 0.12983204810969332, 0.13571166777454785, 0.16655884191854492, 0.21605008823997332, 0.16087431853715928, 0.21351390236174003, 0.16704942571650852, 0.209664643828132, 0.14235939807966339, 0.21474001099385537, 0.13437717464491294, 0.13386141984884942, 0.13475670365649134, 0.13784897757892692, 0.12979052095790286, 0.13645403496313754, 0.12844503109077524, 0.12949103679183763, 0.13165905452321922, 0.13183188212682626, 0.1379709647055214, 0.13443510451743584, 0.13523083425502527, 0.1372283600487487, 0.1338196799043643, 0.13163378763974137, 0.13076241810914838, 0.13402618068584224, 0.1382018773692864, 0.1363238915942354, 0.13853571343735951, 0.13566115034389076, 0.13665331011043114, 0.1366112888493007, 0.13652351732240134, 0.13629577580263172, 0.1349543260382966, 0.13280371755204434, 0.14094503530255417, 0.135391132020244, 0.1399815463244515, 0.14222245654754653, 0.13845575101599508, 0.13803094154089965, 0.1383290848454194, 0.13970693153423672, 0.14283101746884264, 0.13847004165370846, 0.15201383198587323, 0.1449007993713458, 0.14108558464965604, 0.15245100286365296, 0.20284132112342915, 0.1489408444231767, 0.15455494629130978, 0.17045377560441563, 0.22494660921267107, 0.15400650406485486, 0.174198947561688, 0.15044187443072904, 0.3209670253441862, 0.14925033488057055, 0.1351479498749027, 0.1313398223075348, 0.13535351267623533, 0.1340119778200646, 0.13175571635016425, 0.13598547952803014, 0.13245544964255293, 0.1278601042667119, 0.13195633238142915, 0.1382824651282376, 0.13532961201627924, 0.13373204579999098, 0.14034732509131598, 0.13414168392908368, 0.13507448688717238, 0.1367592491393492, 0.13518427113349663, 0.13430324550430012, 0.1332904756122615, 0.14291456869923333, 0.1371383571948863, 0.13501885049977275, 0.12979052095790286, 0.13275913665742373, 0.1358812908782273, 0.13758645793136248, 0.13835294322983485, 0.13838760005974346, 0.13275871253941302, 0.133784829784987, 0.1396245931333681, 0.1407918394579634, 0.13901038200291468, 0.13714882011315221, 0.14142295403346078, 0.1407282437213543, 0.13859047317629883, 0.14237432363995361, 0.14346516236160872, 0.1864528044459011, 0.1502294350831575, 0.15258835965883297, 0.19209434293716257, 0.1452307302750938, 0.17653256390086122, 0.15364072717548682, 0.15667782380441458, 0.16809840326582187, 0.17285779935120954, 0.2555275580183066, 0.19024904803911163], \"Category\": [\"Default\", \"Default\", \"Default\", \"Default\", \"Default\", \"Default\", \"Default\", \"Default\", \"Default\", \"Default\", \"Default\", \"Default\", \"Default\", \"Default\", \"Default\", \"Default\", \"Default\", \"Default\", \"Default\", \"Default\", \"Default\", \"Default\", \"Default\", \"Default\", \"Default\", \"Default\", \"Default\", \"Default\", \"Default\", \"Default\", \"Topic1\", \"Topic1\", \"Topic1\", \"Topic1\", \"Topic1\", \"Topic1\", \"Topic1\", \"Topic1\", \"Topic1\", \"Topic1\", \"Topic1\", \"Topic1\", \"Topic1\", \"Topic1\", \"Topic1\", \"Topic1\", \"Topic1\", \"Topic1\", \"Topic1\", \"Topic1\", \"Topic1\", \"Topic1\", \"Topic1\", \"Topic1\", \"Topic1\", \"Topic1\", \"Topic1\", \"Topic1\", \"Topic1\", \"Topic1\", \"Topic1\", \"Topic1\", \"Topic1\", \"Topic1\", \"Topic1\", \"Topic1\", \"Topic2\", \"Topic2\", \"Topic2\", \"Topic2\", \"Topic2\", \"Topic2\", \"Topic2\", \"Topic2\", \"Topic2\", \"Topic2\", \"Topic2\", \"Topic2\", \"Topic2\", \"Topic2\", \"Topic2\", \"Topic2\", \"Topic2\", \"Topic2\", \"Topic2\", \"Topic2\", \"Topic2\", \"Topic2\", \"Topic2\", \"Topic2\", \"Topic2\", \"Topic2\", \"Topic2\", \"Topic2\", \"Topic2\", \"Topic2\", \"Topic2\", \"Topic2\", \"Topic2\", \"Topic2\", \"Topic2\", \"Topic2\", \"Topic3\", \"Topic3\", \"Topic3\", \"Topic3\", \"Topic3\", \"Topic3\", \"Topic3\", \"Topic3\", \"Topic3\", \"Topic3\", \"Topic3\", \"Topic3\", \"Topic3\", \"Topic3\", \"Topic3\", \"Topic3\", \"Topic3\", \"Topic3\", \"Topic3\", \"Topic3\", \"Topic3\", \"Topic3\", \"Topic3\", \"Topic3\", \"Topic3\", \"Topic3\", \"Topic3\", \"Topic3\", \"Topic3\", \"Topic3\", \"Topic3\", \"Topic3\", \"Topic4\", \"Topic4\", \"Topic4\", \"Topic4\", \"Topic4\", \"Topic4\", \"Topic4\", \"Topic4\", \"Topic4\", \"Topic4\", \"Topic4\", \"Topic4\", \"Topic4\", \"Topic4\", \"Topic4\", \"Topic4\", \"Topic4\", \"Topic4\", \"Topic4\", \"Topic4\", \"Topic4\", \"Topic4\", \"Topic4\", \"Topic4\", \"Topic4\", \"Topic4\", \"Topic4\", \"Topic4\", \"Topic4\", \"Topic4\", \"Topic4\", \"Topic4\", \"Topic4\", \"Topic4\", \"Topic5\", \"Topic5\", \"Topic5\", \"Topic5\", \"Topic5\", \"Topic5\", \"Topic5\", \"Topic5\", \"Topic5\", \"Topic5\", \"Topic5\", \"Topic5\", \"Topic5\", \"Topic5\", \"Topic5\", \"Topic5\", \"Topic5\", \"Topic5\", \"Topic5\", \"Topic5\", \"Topic5\", \"Topic5\", \"Topic5\", \"Topic5\", \"Topic5\", \"Topic5\", \"Topic5\", \"Topic5\", \"Topic5\", \"Topic5\", \"Topic5\", \"Topic5\", \"Topic5\", \"Topic6\", \"Topic6\", \"Topic6\", \"Topic6\", \"Topic6\", \"Topic6\", \"Topic6\", \"Topic6\", \"Topic6\", \"Topic6\", \"Topic6\", \"Topic6\", \"Topic6\", \"Topic6\", \"Topic6\", \"Topic6\", \"Topic6\", \"Topic6\", \"Topic6\", \"Topic6\", \"Topic6\", \"Topic6\", \"Topic6\", \"Topic6\", \"Topic6\", \"Topic6\", \"Topic6\", \"Topic6\", \"Topic6\", \"Topic6\", \"Topic6\", \"Topic6\", \"Topic6\", \"Topic6\", \"Topic6\", \"Topic6\", \"Topic6\", \"Topic6\", \"Topic6\", \"Topic6\", \"Topic6\", \"Topic6\", \"Topic7\", \"Topic7\", \"Topic7\", \"Topic7\", \"Topic7\", \"Topic7\", \"Topic7\", \"Topic7\", \"Topic7\", \"Topic7\", \"Topic7\", \"Topic7\", \"Topic7\", \"Topic7\", \"Topic7\", \"Topic7\", \"Topic7\", \"Topic7\", \"Topic7\", \"Topic7\", \"Topic7\", \"Topic7\", \"Topic7\", \"Topic7\", \"Topic7\", \"Topic7\", \"Topic7\", \"Topic7\", \"Topic7\", \"Topic7\", \"Topic7\", \"Topic7\", \"Topic7\", \"Topic7\", \"Topic7\", \"Topic7\", \"Topic7\", \"Topic7\", \"Topic8\", \"Topic8\", \"Topic8\", \"Topic8\", \"Topic8\", \"Topic8\", \"Topic8\", \"Topic8\", \"Topic8\", \"Topic8\", \"Topic8\", \"Topic8\", \"Topic8\", \"Topic8\", \"Topic8\", \"Topic8\", \"Topic8\", \"Topic8\", \"Topic8\", \"Topic8\", \"Topic8\", \"Topic8\", \"Topic8\", \"Topic8\", \"Topic8\", \"Topic8\", \"Topic8\", \"Topic8\", \"Topic8\", \"Topic8\", \"Topic8\", \"Topic8\", \"Topic8\", \"Topic8\", \"Topic8\", \"Topic8\", \"Topic9\", \"Topic9\", \"Topic9\", \"Topic9\", \"Topic9\", \"Topic9\", \"Topic9\", \"Topic9\", \"Topic9\", \"Topic9\", \"Topic9\", \"Topic9\", \"Topic9\", \"Topic9\", \"Topic9\", \"Topic9\", \"Topic9\", \"Topic9\", \"Topic9\", \"Topic9\", \"Topic9\", \"Topic9\", \"Topic9\", \"Topic9\", \"Topic9\", \"Topic9\", \"Topic9\", \"Topic9\", \"Topic9\", \"Topic9\", \"Topic9\", \"Topic9\", \"Topic9\", \"Topic9\", \"Topic9\", \"Topic9\", \"Topic9\", \"Topic9\", \"Topic9\", \"Topic9\", \"Topic10\", \"Topic10\", \"Topic10\", \"Topic10\", \"Topic10\", \"Topic10\", \"Topic10\", \"Topic10\", \"Topic10\", \"Topic10\", \"Topic10\", \"Topic10\", \"Topic10\", \"Topic10\", \"Topic10\", \"Topic10\", \"Topic10\", \"Topic10\", \"Topic10\", \"Topic10\", \"Topic10\", \"Topic10\", \"Topic10\", \"Topic10\", \"Topic10\", \"Topic10\", \"Topic10\", \"Topic10\", \"Topic10\", \"Topic10\", \"Topic10\", \"Topic10\", \"Topic10\", \"Topic10\", \"Topic10\", \"Topic10\", \"Topic11\", \"Topic11\", \"Topic11\", \"Topic11\", \"Topic11\", \"Topic11\", \"Topic11\", \"Topic11\", \"Topic11\", \"Topic11\", \"Topic11\", \"Topic11\", \"Topic11\", \"Topic11\", \"Topic11\", \"Topic11\", \"Topic11\", \"Topic11\", \"Topic11\", \"Topic11\", \"Topic11\", \"Topic11\", \"Topic11\", \"Topic11\", \"Topic11\", \"Topic11\", \"Topic11\", \"Topic11\", \"Topic11\", \"Topic11\", \"Topic11\", \"Topic11\", \"Topic11\", \"Topic11\", \"Topic11\", \"Topic12\", \"Topic12\", \"Topic12\", \"Topic12\", \"Topic12\", \"Topic12\", \"Topic12\", \"Topic12\", \"Topic12\", \"Topic12\", \"Topic12\", \"Topic12\", \"Topic12\", \"Topic12\", \"Topic12\", \"Topic12\", \"Topic12\", \"Topic12\", \"Topic12\", \"Topic12\", \"Topic12\", \"Topic12\", \"Topic12\", \"Topic12\", \"Topic12\", \"Topic12\", \"Topic12\", \"Topic12\", \"Topic12\", \"Topic12\", \"Topic12\", \"Topic12\", \"Topic12\", \"Topic12\", \"Topic12\", \"Topic12\", \"Topic13\", \"Topic13\", \"Topic13\", \"Topic13\", \"Topic13\", \"Topic13\", \"Topic13\", \"Topic13\", \"Topic13\", \"Topic13\", \"Topic13\", \"Topic13\", \"Topic13\", \"Topic13\", \"Topic13\", \"Topic13\", \"Topic13\", \"Topic13\", \"Topic13\", \"Topic13\", \"Topic13\", \"Topic13\", \"Topic13\", \"Topic13\", \"Topic13\", \"Topic13\", \"Topic13\", \"Topic13\", \"Topic13\", \"Topic13\", \"Topic13\", \"Topic13\", \"Topic13\", \"Topic13\", \"Topic13\", \"Topic13\", \"Topic14\", \"Topic14\", \"Topic14\", \"Topic14\", \"Topic14\", \"Topic14\", \"Topic14\", \"Topic14\", \"Topic14\", \"Topic14\", \"Topic14\", \"Topic14\", \"Topic14\", \"Topic14\", \"Topic14\", \"Topic14\", \"Topic14\", \"Topic14\", \"Topic14\", \"Topic14\", \"Topic14\", \"Topic14\", \"Topic14\", \"Topic14\", \"Topic14\", \"Topic14\", \"Topic14\", \"Topic14\", \"Topic14\", \"Topic14\", \"Topic14\", \"Topic14\", \"Topic14\", \"Topic14\", \"Topic14\", \"Topic14\", \"Topic14\", \"Topic14\", \"Topic14\", \"Topic14\", \"Topic14\", \"Topic14\", \"Topic14\", \"Topic15\", \"Topic15\", \"Topic15\", \"Topic15\", \"Topic15\", \"Topic15\", \"Topic15\", \"Topic15\", \"Topic15\", \"Topic15\", \"Topic15\", \"Topic15\", \"Topic15\", \"Topic15\", \"Topic15\", \"Topic15\", \"Topic15\", \"Topic15\", \"Topic15\", \"Topic15\", \"Topic15\", \"Topic15\", \"Topic15\", \"Topic15\", \"Topic15\", \"Topic15\", \"Topic15\", \"Topic15\", \"Topic15\", \"Topic15\", \"Topic15\", \"Topic15\", \"Topic15\", \"Topic15\", \"Topic15\", \"Topic15\", \"Topic15\", \"Topic16\", \"Topic16\", \"Topic16\", \"Topic16\", \"Topic16\", \"Topic16\", \"Topic16\", \"Topic16\", \"Topic16\", \"Topic16\", \"Topic16\", \"Topic16\", \"Topic16\", \"Topic16\", \"Topic16\", \"Topic16\", \"Topic16\", \"Topic16\", \"Topic16\", \"Topic16\", \"Topic16\", \"Topic16\", \"Topic16\", \"Topic16\", \"Topic16\", \"Topic16\", \"Topic16\", \"Topic16\", \"Topic16\", \"Topic16\", \"Topic16\", \"Topic16\", \"Topic16\", \"Topic17\", \"Topic17\", \"Topic17\", \"Topic17\", \"Topic17\", \"Topic17\", \"Topic17\", \"Topic17\", \"Topic17\", \"Topic17\", \"Topic17\", \"Topic17\", \"Topic17\", \"Topic17\", \"Topic17\", \"Topic17\", \"Topic17\", \"Topic17\", \"Topic17\", \"Topic17\", \"Topic17\", \"Topic17\", \"Topic17\", \"Topic17\", \"Topic17\", \"Topic17\", \"Topic17\", \"Topic17\", \"Topic17\", \"Topic17\", \"Topic17\", \"Topic18\", \"Topic18\", \"Topic18\", \"Topic18\", \"Topic18\", \"Topic18\", \"Topic18\", \"Topic18\", \"Topic18\", \"Topic18\", \"Topic18\", \"Topic18\", \"Topic18\", \"Topic18\", \"Topic18\", \"Topic18\", \"Topic18\", \"Topic18\", \"Topic18\", \"Topic18\", \"Topic18\", \"Topic18\", \"Topic18\", \"Topic18\", \"Topic18\", \"Topic18\", \"Topic18\", \"Topic18\", \"Topic18\", \"Topic18\", \"Topic18\", \"Topic18\", \"Topic18\", \"Topic18\", \"Topic18\", \"Topic18\", \"Topic18\", \"Topic18\", \"Topic18\", \"Topic19\", \"Topic19\", \"Topic19\", \"Topic19\", \"Topic19\", \"Topic19\", \"Topic19\", \"Topic19\", \"Topic19\", \"Topic19\", \"Topic19\", \"Topic19\", \"Topic19\", \"Topic19\", \"Topic19\", \"Topic19\", \"Topic19\", \"Topic19\", \"Topic19\", \"Topic19\", \"Topic19\", \"Topic19\", \"Topic19\", \"Topic19\", \"Topic19\", \"Topic19\", \"Topic19\", \"Topic19\", \"Topic19\", \"Topic19\", \"Topic19\", \"Topic19\", \"Topic19\", \"Topic19\", \"Topic19\", \"Topic19\", \"Topic19\", \"Topic19\", \"Topic19\", \"Topic19\", \"Topic19\", \"Topic19\", \"Topic19\", \"Topic19\", \"Topic19\", \"Topic19\", \"Topic19\", \"Topic19\", \"Topic19\", \"Topic19\", \"Topic19\", \"Topic19\", \"Topic20\", \"Topic20\", \"Topic20\", \"Topic20\", \"Topic20\", \"Topic20\", \"Topic20\", \"Topic20\", \"Topic20\", \"Topic20\", \"Topic20\", \"Topic20\", \"Topic20\", \"Topic20\", \"Topic20\", \"Topic20\", \"Topic20\", \"Topic20\", \"Topic20\", \"Topic20\", \"Topic20\", \"Topic20\", \"Topic20\", \"Topic20\", \"Topic20\", \"Topic20\", \"Topic20\", \"Topic20\", \"Topic20\", \"Topic20\", \"Topic20\", \"Topic20\", \"Topic20\", \"Topic20\", \"Topic20\", \"Topic20\", \"Topic20\", \"Topic20\", \"Topic20\", \"Topic20\", \"Topic20\", \"Topic20\", \"Topic20\", \"Topic20\", \"Topic20\", \"Topic20\", \"Topic20\", \"Topic20\", \"Topic20\", \"Topic20\", \"Topic20\"], \"logprob\": [30.0, 29.0, 28.0, 27.0, 26.0, 25.0, 24.0, 23.0, 22.0, 21.0, 20.0, 19.0, 18.0, 17.0, 16.0, 15.0, 14.0, 13.0, 12.0, 11.0, 10.0, 9.0, 8.0, 7.0, 6.0, 5.0, 4.0, 3.0, 2.0, 1.0, -5.7716, -6.2801, -6.3327, -6.5392, -6.6609, -6.6397, -6.7225, -6.6974, -6.6742, -6.7729, -6.78, -6.861, -6.8249, -6.8914, -6.7565, -6.9069, -6.9036, -6.9515, -6.8656, -6.6875, -6.8405, -6.8505, -6.9733, -6.8427, -6.9646, -6.9116, -6.9374, -6.9912, -6.9804, -7.0474, -6.9844, -6.8683, -6.9342, -6.9306, -6.911, -6.9543, -6.3904, -6.4023, -6.2898, -6.5758, -6.4775, -6.6105, -6.6498, -6.7228, -6.8111, -6.6221, -6.9256, -6.6361, -6.9301, -6.6752, -6.81, -6.9462, -6.9519, -6.8796, -7.059, -7.041, -6.7632, -7.0894, -7.008, -6.8848, -7.1157, -7.1267, -7.1944, -6.8697, -6.8066, -7.1865, -6.8251, -7.1473, -7.1237, -7.045, -7.0416, -7.0963, -6.5016, -6.612, -6.5695, -6.6381, -6.6401, -6.648, -6.7735, -6.7879, -6.7878, -6.7952, -6.8118, -6.912, -6.8981, -6.9251, -6.9192, -6.9142, -6.92, -6.9739, -7.0165, -7.0324, -7.0551, -7.0605, -7.088, -7.0516, -7.1005, -7.0882, -7.107, -7.1195, -7.1092, -7.0668, -7.0923, -7.0894, -6.4226, -6.5433, -6.3657, -6.3143, -6.6576, -6.7044, -6.7039, -6.6865, -6.7344, -6.8722, -6.9175, -6.6435, -6.9577, -6.9948, -6.9861, -6.8728, -6.8974, -6.6887, -7.0938, -7.0226, -7.0996, -7.0825, -6.9956, -7.1408, -7.1557, -6.8156, -7.0163, -7.0475, -6.8316, -7.1809, -7.1522, -7.0336, -6.9322, -7.1321, -6.4604, -6.0187, -6.613, -6.5851, -6.7621, -6.498, -6.8256, -6.5935, -6.9567, -6.944, -6.6421, -6.9153, -6.9369, -7.05, -7.0524, -7.0564, -7.0871, -7.0497, -7.1078, -6.9997, -7.0141, -7.1149, -6.8778, -7.1349, -7.0364, -7.2191, -7.1333, -7.2446, -7.0396, -7.2948, -7.0621, -7.1403, -7.1762, -6.3712, -6.6129, -6.6566, -6.7155, -6.6381, -6.7871, -6.8117, -6.9261, -6.8825, -7.0141, -7.0118, -6.9958, -7.0441, -6.7308, -7.0623, -7.132, -7.1241, -7.1206, -6.9485, -7.1538, -7.0521, -7.1749, -7.1696, -7.1822, -7.0712, -7.1837, -7.1958, -7.1808, -7.2108, -7.1906, -7.2052, -7.0451, -6.8266, -7.0559, -7.0653, -7.0458, -7.0417, -7.107, -7.0011, -7.0645, -7.1251, -7.1132, -6.295, -6.534, -6.6099, -6.5031, -6.6409, -6.7726, -6.7499, -6.5895, -6.8763, -6.6926, -7.1057, -7.1981, -7.0462, -7.2247, -7.1553, -7.2612, -7.262, -7.204, -7.3701, -7.4073, -7.2377, -7.3264, -7.4059, -7.3107, -7.4293, -7.3473, -7.2961, -7.4778, -7.4855, -7.0772, -7.2713, -7.3534, -7.2418, -7.3265, -7.3045, -7.3301, -7.2823, -7.3207, -6.3648, -6.3744, -6.477, -6.6126, -6.79, -6.7878, -6.8613, -6.8859, -6.9224, -6.9521, -6.8834, -6.911, -7.0591, -7.0694, -7.0838, -7.076, -7.0887, -6.7869, -7.1605, -7.0491, -7.1627, -7.1919, -7.2523, -7.0131, -7.3052, -7.3506, -7.3434, -7.3704, -7.3786, -7.4221, -7.1581, -6.9946, -7.2256, -7.1786, -7.136, -7.2601, -6.3509, -6.7354, -6.5052, -6.8475, -6.8427, -6.8064, -6.8285, -6.7046, -6.9284, -7.0303, -7.0544, -6.7567, -7.1131, -7.1137, -7.1102, -7.1277, -7.2091, -7.199, -7.2473, -7.1458, -7.1664, -6.9171, -7.2492, -7.3963, -7.3632, -7.3901, -7.3971, -7.2302, -7.392, -7.3776, -6.9804, -7.174, -7.263, -6.6036, -7.0972, -7.035, -7.1257, -7.1952, -7.1969, -7.2093, -6.34, -6.6251, -6.8251, -6.9155, -6.9039, -6.9153, -6.8053, -6.9439, -6.5585, -7.1193, -7.1295, -7.1873, -7.1953, -7.3323, -7.3166, -7.3326, -7.3317, -7.3438, -7.3378, -7.3598, -7.3429, -7.3459, -7.3911, -7.412, -7.4276, -7.0234, -7.2111, -7.5603, -7.5276, -7.58, -7.4488, -7.4561, -7.3343, -7.2152, -7.3603, -7.3965, -6.733, -6.8024, -6.4725, -6.5913, -6.8099, -7.0119, -6.9475, -7.0258, -7.0315, -7.0798, -7.1062, -7.1929, -6.785, -7.2129, -6.9518, -7.3037, -7.1983, -7.3802, -7.0318, -7.1372, -7.3827, -7.4263, -7.4203, -7.1086, -7.4007, -7.4367, -7.4409, -7.44, -7.3782, -7.4613, -7.1324, -7.1935, -7.2308, -7.296, -7.26, -6.4151, -6.6818, -7.0319, -6.872, -7.1124, -7.1232, -7.1009, -7.1098, -7.1417, -7.113, -7.1051, -7.1135, -7.1514, -6.715, -7.129, -7.147, -7.1476, -7.1803, -7.1377, -7.1424, -7.1492, -6.8958, -7.1861, -7.1589, -7.2648, -7.2509, -7.2583, -7.198, -7.2254, -7.2456, -7.0232, -7.1598, -6.7478, -7.2288, -7.1865, -7.1052, -6.8036, -6.9356, -7.2356, -7.2371, -7.2682, -7.0198, -7.2812, -7.2527, -7.3047, -7.4413, -7.4468, -7.3586, -7.475, -7.0801, -7.4718, -7.4634, -7.4769, -7.4755, -7.4722, -7.3822, -7.4913, -7.4973, -7.5427, -7.3678, -7.3789, -7.6076, -7.093, -7.6765, -7.6098, -7.6789, -7.5221, -7.5426, -7.4508, -7.442, -7.4979, -7.5258, -6.9037, -7.1681, -7.1651, -6.9892, -7.1773, -7.1879, -7.1871, -7.0867, -7.2043, -7.197, -7.2499, -7.2326, -7.2964, -7.2738, -7.4313, -7.2851, -7.4675, -7.4737, -7.4928, -7.4923, -7.5194, -7.4672, -7.5004, -7.467, -7.4871, -7.5254, -7.508, -7.5258, -7.4738, -7.5179, -7.3476, -7.2723, -7.2973, -7.3254, -7.1315, -7.312, -7.4722, -7.3941, -7.3762, -7.3148, -7.4116, -7.4204, -7.4666, -6.5835, -6.6154, -6.8454, -6.8958, -6.9073, -7.2912, -7.2891, -7.2469, -7.3227, -7.3326, -7.461, -7.4983, -7.4626, -7.4681, -7.3928, -7.5341, -7.5271, -7.5231, -7.4994, -7.5817, -7.3215, -7.6455, -7.4714, -7.6444, -7.6626, -7.6442, -7.6779, -7.6758, -7.6338, -7.4942, -7.6067, -7.4168, -7.3622, -7.551, -7.5766, -7.5918, -7.5984, -6.5747, -6.7346, -6.7248, -6.9972, -6.8735, -7.0113, -7.1869, -7.1727, -7.1746, -7.1972, -7.0649, -7.2129, -7.2422, -7.4896, -7.5022, -7.4926, -7.4978, -7.4918, -7.5052, -7.5093, -7.5021, -7.5236, -7.4972, -7.5593, -7.5054, -7.5294, -7.5138, -7.5611, -7.5404, -7.5244, -7.2118, -7.4837, -7.5353, -6.2272, -6.8634, -7.0512, -7.0773, -7.0991, -7.0904, -7.0586, -7.1134, -7.1502, -7.3595, -7.0002, -7.4195, -7.4003, -7.3896, -7.4382, -7.426, -7.4273, -7.4431, -7.4196, -7.4383, -7.4195, -7.4335, -7.4698, -7.4686, -7.4753, -7.487, -7.5, -7.4815, -7.4812, -7.4895, -7.3721, -6.1271, -6.8748, -7.1527, -7.3076, -7.0987, -7.0107, -7.1098, -7.4478, -6.9606, -7.5175, -7.4441, -7.4024, -7.0982, -7.6252, -7.6661, -7.6708, -7.5861, -7.7092, -7.6864, -7.7111, -7.6755, -7.7235, -7.6996, -7.6905, -7.7192, -7.7244, -7.7041, -7.7212, -7.7063, -7.7462, -7.7045, -7.5636, -7.4381, -7.61, -7.4666, -7.5982, -7.4897, -7.7008, -7.6903, -7.8104, -7.8425, -7.8445, -7.8262, -7.8952, -7.8465, -7.9071, -7.9041, -7.8912, -7.8914, -7.8459, -7.886, -7.8816, -7.867, -7.8925, -7.91, -7.9186, -7.8948, -7.8679, -7.8819, -7.8681, -7.8892, -7.8823, -7.8841, -7.885, -7.8871, -7.8973, -7.914, -7.8549, -7.8957, -7.8648, -7.8556, -7.8781, -7.8809, -7.8812, -7.8763, -7.8671, -7.8831, -7.8577, -7.8711, -7.8787, -7.8616, -7.8134, -7.8701, -7.8668, -7.8556, -7.8211, -7.8708, -7.8675, -7.8793, -7.872, -7.8798, -7.798, -7.8526, -7.8316, -7.8462, -7.8852, -7.8578, -7.8864, -7.9219, -7.8919, -7.8454, -7.8731, -7.8861, -7.84, -7.8854, -7.8791, -7.8704, -7.8825, -7.8901, -7.9013, -7.8321, -7.8745, -7.8922, -7.9327, -7.9102, -7.8885, -7.876, -7.8715, -7.8718, -7.9139, -7.907, -7.8664, -7.867, -7.8787, -7.8887, -7.869, -7.8754, -7.8836, -7.8757, -7.878, -7.8407, -7.8734, -7.8756, -7.8585, -7.88, -7.8685, -7.8776, -7.8768, -7.8743, -7.8736, -7.8709, -7.8769], \"loglift\": [30.0, 29.0, 28.0, 27.0, 26.0, 25.0, 24.0, 23.0, 22.0, 21.0, 20.0, 19.0, 18.0, 17.0, 16.0, 15.0, 14.0, 13.0, 12.0, 11.0, 10.0, 9.0, 8.0, 7.0, 6.0, 5.0, 4.0, 3.0, 2.0, 1.0, 1.0422, 0.9245, 0.9055, 0.9029, 0.8707, 0.8586, 0.8369, 0.8331, 0.8315, 0.8258, 0.8138, 0.7801, 0.7689, 0.7682, 0.7555, 0.7549, 0.751, 0.7428, 0.7382, 0.7283, 0.7276, 0.7228, 0.72, 0.7097, 0.707, 0.6959, 0.6891, 0.6855, 0.6816, 0.6811, 0.6767, 0.651, 0.6608, 0.6559, 0.5719, 0.512, 1.3273, 1.283, 1.24, 1.2026, 1.1992, 1.1983, 1.1546, 1.1228, 1.0614, 1.0296, 1.0032, 0.9972, 0.9833, 0.9714, 0.9545, 0.9511, 0.9279, 0.927, 0.9122, 0.9002, 0.898, 0.8689, 0.8631, 0.8387, 0.8385, 0.805, 0.7962, 0.7929, 0.7885, 0.7807, 0.6505, 0.7212, 0.6752, 0.3792, 0.163, 0.3195, 1.3167, 1.2618, 1.2462, 1.2251, 1.2133, 1.2114, 1.1513, 1.1294, 1.1193, 1.1142, 1.0866, 1.0333, 1.0321, 1.0248, 1.0227, 1.0187, 0.9958, 0.9656, 0.9535, 0.931, 0.9196, 0.9194, 0.9089, 0.8984, 0.8911, 0.8789, 0.874, 0.8695, 0.8607, 0.8603, 0.8545, 0.8407, 1.3756, 1.2893, 1.2776, 1.2472, 1.2168, 1.1872, 1.1406, 1.1331, 1.0996, 1.0716, 1.0279, 1.0055, 0.9985, 0.972, 0.9646, 0.9646, 0.9522, 0.9235, 0.9178, 0.8947, 0.8859, 0.8767, 0.8684, 0.8674, 0.8137, 0.8048, 0.802, 0.7937, 0.7901, 0.788, 0.7863, 0.7565, 0.5341, 0.6128, 1.4086, 1.4055, 1.269, 1.2523, 1.1644, 1.1486, 1.1307, 1.0985, 1.0421, 1.0419, 1.0401, 0.9835, 0.952, 0.9514, 0.9433, 0.9372, 0.9327, 0.9322, 0.9196, 0.9046, 0.9034, 0.8772, 0.8619, 0.8456, 0.8383, 0.8202, 0.8062, 0.7841, 0.7592, 0.7572, 0.7546, 0.5363, 0.586, 1.486, 1.2848, 1.2711, 1.2452, 1.2018, 1.1773, 1.1222, 1.0909, 1.0341, 0.9984, 0.956, 0.9255, 0.9025, 0.9025, 0.8968, 0.8863, 0.8845, 0.8747, 0.8687, 0.8602, 0.8576, 0.8565, 0.8552, 0.8523, 0.848, 0.8454, 0.8444, 0.8437, 0.8281, 0.828, 0.8278, 0.7889, 0.7285, 0.7431, 0.7424, 0.7168, 0.6195, 0.6996, 0.2372, 0.4317, 0.665, -0.2993, 1.6027, 1.4059, 1.3486, 1.3386, 1.3281, 1.2499, 1.2317, 1.1502, 1.0568, 0.9592, 0.9528, 0.8793, 0.872, 0.843, 0.8347, 0.8209, 0.798, 0.7474, 0.7299, 0.6966, 0.6943, 0.6797, 0.6617, 0.6571, 0.6337, 0.6292, 0.6084, 0.6077, 0.6002, 0.5952, 0.5783, 0.5213, 0.4404, 0.4699, 0.412, 0.4561, 0.2922, 0.3714, 1.5377, 1.5366, 1.4799, 1.3127, 1.2438, 1.2001, 1.0985, 1.0981, 1.0963, 1.0841, 1.077, 1.0599, 1.0153, 0.9887, 0.9858, 0.9814, 0.9627, 0.9243, 0.9015, 0.8775, 0.8588, 0.8483, 0.8112, 0.7572, 0.7416, 0.7299, 0.7253, 0.713, 0.6841, 0.6773, 0.6426, 0.6066, 0.6455, 0.443, 0.3602, 0.5288, 1.5831, 1.2596, 1.2262, 1.1574, 1.1306, 1.1252, 1.0638, 1.0614, 1.044, 1.0014, 0.9889, 0.9545, 0.9502, 0.9341, 0.9226, 0.8955, 0.8209, 0.8077, 0.7764, 0.7716, 0.7694, 0.7431, 0.7335, 0.7134, 0.7077, 0.706, 0.6998, 0.6984, 0.6846, 0.6839, 0.6655, 0.6416, 0.6528, 0.2103, 0.5109, 0.4479, 0.4294, 0.5419, 0.2962, 0.3588, 1.586, 1.3856, 1.1851, 1.151, 1.1342, 1.1333, 1.1322, 1.1065, 1.0618, 0.9323, 0.93, 0.8678, 0.8588, 0.7736, 0.761, 0.7588, 0.7485, 0.7396, 0.7292, 0.7285, 0.7136, 0.7114, 0.7056, 0.6535, 0.6019, 0.5982, 0.5926, 0.5618, 0.5561, 0.5487, 0.5484, 0.5295, 0.4801, 0.4261, 0.4554, 0.1605, 1.2891, 1.2203, 1.1999, 1.1986, 1.1327, 1.0639, 1.0482, 1.0203, 1.0156, 0.9692, 0.9039, 0.8849, 0.8667, 0.8452, 0.8396, 0.7456, 0.7307, 0.7219, 0.7178, 0.7106, 0.7024, 0.6921, 0.6903, 0.6787, 0.6703, 0.6626, 0.6277, 0.6118, 0.598, 0.595, 0.5088, 0.5127, 0.3372, 0.3373, -0.0218, 1.582, 1.1941, 1.0337, 1.0164, 0.9797, 0.9646, 0.962, 0.9597, 0.956, 0.9555, 0.953, 0.9499, 0.939, 0.9367, 0.9363, 0.932, 0.9302, 0.925, 0.9212, 0.9188, 0.9038, 0.8785, 0.8713, 0.8631, 0.8491, 0.8385, 0.8384, 0.8297, 0.825, 0.8246, 0.6928, 0.751, 0.066, 0.7731, 0.6192, 0.1331, 1.2356, 1.0686, 0.8482, 0.8369, 0.8224, 0.8199, 0.8199, 0.8141, 0.7602, 0.6747, 0.6745, 0.6602, 0.6529, 0.6364, 0.6333, 0.6213, 0.6189, 0.6163, 0.6132, 0.6054, 0.6043, 0.586, 0.553, 0.5412, 0.4922, 0.4905, 0.4846, 0.4659, 0.462, 0.4616, 0.4432, 0.4268, 0.3334, 0.3252, 0.2516, -0.0502, 1.1957, 0.9401, 0.9382, 0.9314, 0.928, 0.921, 0.9165, 0.8839, 0.8808, 0.8705, 0.8098, 0.7467, 0.7298, 0.6916, 0.6606, 0.6555, 0.6462, 0.6407, 0.6247, 0.6235, 0.6138, 0.6131, 0.6079, 0.6048, 0.6047, 0.6042, 0.6019, 0.6003, 0.598, 0.5965, 0.5954, 0.5476, 0.5362, 0.5431, 0.4636, 0.4538, 0.5835, 0.4231, 0.3803, 0.1909, 0.0845, 0.1541, 0.0885, 1.4244, 1.2324, 1.1967, 1.1476, 1.0934, 0.8211, 0.8175, 0.8154, 0.7727, 0.7559, 0.6546, 0.6345, 0.6299, 0.6077, 0.5955, 0.587, 0.5521, 0.5411, 0.5353, 0.5284, 0.5146, 0.4863, 0.4627, 0.4571, 0.4548, 0.4478, 0.4468, 0.4442, 0.4352, 0.4318, 0.4251, 0.2992, 0.2595, 0.2313, 0.2498, 0.2847, 0.2549, 1.4813, 1.3359, 1.211, 1.0569, 1.0253, 0.9947, 0.9163, 0.9136, 0.9023, 0.8958, 0.8941, 0.8854, 0.8034, 0.6585, 0.6415, 0.6317, 0.6249, 0.6184, 0.6032, 0.5983, 0.5971, 0.5953, 0.5926, 0.5888, 0.5883, 0.5769, 0.5655, 0.56, 0.5598, 0.5597, 0.5399, 0.4301, 0.3563, 1.8463, 1.1801, 1.0526, 1.0343, 1.0193, 1.0006, 0.9993, 0.9539, 0.7521, 0.7239, 0.711, 0.709, 0.7046, 0.6853, 0.6834, 0.6816, 0.6802, 0.6764, 0.6752, 0.664, 0.6523, 0.6463, 0.6354, 0.6288, 0.6135, 0.6055, 0.5973, 0.586, 0.5851, 0.5694, 0.292, 1.8769, 1.2231, 0.9204, 0.8168, 0.7911, 0.7829, 0.7683, 0.6946, 0.5692, 0.5578, 0.5524, 0.5148, 0.5093, 0.476, 0.4469, 0.4419, 0.4302, 0.4273, 0.423, 0.417, 0.4147, 0.4146, 0.4138, 0.4124, 0.4121, 0.4114, 0.4076, 0.3998, 0.3997, 0.3972, 0.3946, 0.3306, 0.196, 0.3189, 0.1793, 0.2931, 0.1744, 0.3504, -0.0501, 0.2985, 0.2703, 0.2617, 0.2572, 0.2485, 0.2471, 0.2471, 0.2419, 0.2382, 0.2367, 0.2367, 0.2226, 0.2211, 0.221, 0.2206, 0.2196, 0.2177, 0.2167, 0.213, 0.2127, 0.2103, 0.2102, 0.2098, 0.2083, 0.2081, 0.2077, 0.2074, 0.2068, 0.2063, 0.2057, 0.2033, 0.1966, 0.201, 0.2013, 0.1988, 0.1937, 0.1808, 0.1958, 0.1279, 0.1625, 0.1815, 0.1212, -0.1162, 0.1359, 0.1023, 0.0155, -0.2274, 0.1018, -0.018, 0.1167, -0.6337, 0.1242, 0.3052, 0.2792, 0.2701, 0.2655, 0.2434, 0.2393, 0.237, 0.2368, 0.2352, 0.2349, 0.2288, 0.2277, 0.2255, 0.2253, 0.2247, 0.221, 0.2205, 0.2194, 0.2158, 0.2152, 0.2141, 0.212, 0.211, 0.2109, 0.2093, 0.2093, 0.2083, 0.2078, 0.2072, 0.2064, 0.2042, 0.1953, 0.1964, 0.1999, 0.1888, 0.1874, 0.1945, 0.1755, 0.1655, -0.0592, 0.1241, 0.1062, -0.1069, 0.1513, -0.0324, 0.0974, 0.0786, 0.0108, -0.0165, -0.4046, -0.1157]}, \"token.table\": {\"Topic\": [], \"Freq\": [], \"Term\": []}, \"R\": 30, \"lambda.step\": 0.01, \"plot.opts\": {\"xlab\": \"PC1\", \"ylab\": \"PC2\"}, \"topic.order\": [14, 15, 3, 7, 5, 8, 4, 11, 12, 13, 19, 9, 16, 1, 17, 6, 18, 10, 2, 20]};\n",
              "\n",
              "function LDAvis_load_lib(url, callback){\n",
              "  var s = document.createElement('script');\n",
              "  s.src = url;\n",
              "  s.async = true;\n",
              "  s.onreadystatechange = s.onload = callback;\n",
              "  s.onerror = function(){console.warn(\"failed to load library \" + url);};\n",
              "  document.getElementsByTagName(\"head\")[0].appendChild(s);\n",
              "}\n",
              "\n",
              "if(typeof(LDAvis) !== \"undefined\"){\n",
              "   // already loaded: just create the visualization\n",
              "   !function(LDAvis){\n",
              "       new LDAvis(\"#\" + \"ldavis_el93501403860893898968454832301\", ldavis_el93501403860893898968454832301_data);\n",
              "   }(LDAvis);\n",
              "}else if(typeof define === \"function\" && define.amd){\n",
              "   // require.js is available: use it to load d3/LDAvis\n",
              "   require.config({paths: {d3: \"https://cdnjs.cloudflare.com/ajax/libs/d3/3.5.5/d3.min\"}});\n",
              "   require([\"d3\"], function(d3){\n",
              "      window.d3 = d3;\n",
              "      LDAvis_load_lib(\"https://cdn.rawgit.com/bmabey/pyLDAvis/files/ldavis.v1.0.0.js\", function(){\n",
              "        new LDAvis(\"#\" + \"ldavis_el93501403860893898968454832301\", ldavis_el93501403860893898968454832301_data);\n",
              "      });\n",
              "    });\n",
              "}else{\n",
              "    // require.js not available: dynamically load d3 & LDAvis\n",
              "    LDAvis_load_lib(\"https://cdnjs.cloudflare.com/ajax/libs/d3/3.5.5/d3.min.js\", function(){\n",
              "         LDAvis_load_lib(\"https://cdn.rawgit.com/bmabey/pyLDAvis/files/ldavis.v1.0.0.js\", function(){\n",
              "                 new LDAvis(\"#\" + \"ldavis_el93501403860893898968454832301\", ldavis_el93501403860893898968454832301_data);\n",
              "            })\n",
              "         });\n",
              "}\n",
              "</script>"
            ],
            "text/plain": [
              "<IPython.core.display.HTML object>"
            ]
          },
          "metadata": {
            "tags": []
          },
          "execution_count": 17
        }
      ]
    }
  ]
}