{
  "nbformat": 4,
  "nbformat_minor": 0,
  "metadata": {
    "colab": {
      "name": "T.M_1_LSA.ipynb",
      "provenance": [],
      "collapsed_sections": [],
      "authorship_tag": "ABX9TyOTRzhNfDYAkpbQsFo9b6Ns",
      "include_colab_link": true
    },
    "kernelspec": {
      "name": "python3",
      "display_name": "Python 3"
    }
  },
  "cells": [
    {
      "cell_type": "markdown",
      "metadata": {
        "id": "view-in-github",
        "colab_type": "text"
      },
      "source": [
        "<a href=\"https://colab.research.google.com/github/insightcampus/202008-youth-bigdata/blob/master/hnjoo/topic_modeling/T.M_1_LSA.ipynb\" target=\"_parent\"><img src=\"https://colab.research.google.com/assets/colab-badge.svg\" alt=\"Open In Colab\"/></a>"
      ]
    },
    {
      "cell_type": "markdown",
      "metadata": {
        "id": "pSeggl_5R_sG",
        "colab_type": "text"
      },
      "source": [
        "## [토픽 모델링 실습1] LSA"
      ]
    },
    {
      "cell_type": "markdown",
      "metadata": {
        "id": "-c3BgmKg3xSz",
        "colab_type": "text"
      },
      "source": [
        "### 0. 사전 준비"
      ]
    },
    {
      "cell_type": "code",
      "metadata": {
        "id": "YzzaNzY-0ZJW",
        "colab_type": "code",
        "colab": {}
      },
      "source": [
        "# 나눔폰트 설치\n",
        "!sudo apt-get install -y fonts-nanum\n",
        "!sudo fc-cache -fv\n",
        "!rm ~/.cache/matplotlib -rf\n",
        "# 런타임 다시 시작"
      ],
      "execution_count": null,
      "outputs": []
    },
    {
      "cell_type": "markdown",
      "metadata": {
        "id": "bI3i_NGg31Jb",
        "colab_type": "text"
      },
      "source": [
        "### 1. 토픽 모델링"
      ]
    },
    {
      "cell_type": "code",
      "metadata": {
        "id": "AKGKFzqynP9G",
        "colab_type": "code",
        "colab": {}
      },
      "source": [
        "docs = ['바나나 사과 포도 포도',\n",
        "        '사과 포도',\n",
        "        '포도 바나나',\n",
        "        '짜장면 짬뽕 탕수육',\n",
        "        '볶음밥 탕수육',\n",
        "        '짜장면 짬뽕',\n",
        "        '된장찌개 김치찌개 김치 비빔밥',\n",
        "        '김치 된장 비빔밥',\n",
        "        '비빔밥 김치',\n",
        "        '사과 볶음밥 김치 된장']"
      ],
      "execution_count": 1,
      "outputs": []
    },
    {
      "cell_type": "code",
      "metadata": {
        "id": "C5MWLHZNn-A2",
        "colab_type": "code",
        "colab": {
          "base_uri": "https://localhost:8080/",
          "height": 177
        },
        "outputId": "07bd5b49-ba66-46f1-9aec-36a3f2471555"
      },
      "source": [
        "from sklearn.feature_extraction.text import TfidfVectorizer\n",
        "from sklearn.decomposition import TruncatedSVD\n",
        "\n",
        "n_topic = 3  # 3개의 토픽만 뽑겠다\n",
        "\n",
        "# TF-IDF 선언\n",
        "tfidf_vect = TfidfVectorizer()\n",
        "tfidf = tfidf_vect.fit_transform(docs)\n",
        "\n",
        "# SVD 선언\n",
        "svd = TruncatedSVD(n_components=n_topic)    # 학습\n",
        "u_sigma = svd.fit_transform(tfidf)\n",
        "svd.components_      # 3개의 topic에 대한 모든 단어들의 가중치 (학습한 것 뽑기)"
      ],
      "execution_count": 2,
      "outputs": [
        {
          "output_type": "execute_result",
          "data": {
            "text/plain": [
              "array([[ 0.39094311,  0.08663945,  0.2634605 ,  0.08663945,  0.31533599,\n",
              "         0.1677167 ,  0.33012626,  0.42118555,  0.01907605,  0.01907605,\n",
              "         0.05422822,  0.58747296],\n",
              "       [ 0.49683512,  0.13720069,  0.26962551,  0.13720069, -0.29774469,\n",
              "         0.10773075,  0.49275818, -0.18567019,  0.02131272,  0.02131272,\n",
              "         0.04450862, -0.51222803],\n",
              "       [-0.06285924, -0.02901254, -0.00762375, -0.02901254, -0.01957621,\n",
              "         0.19210545, -0.09004258,  0.00851823,  0.60658392,  0.60658392,\n",
              "         0.46061907, -0.02794911]])"
            ]
          },
          "metadata": {
            "tags": []
          },
          "execution_count": 2
        }
      ]
    },
    {
      "cell_type": "code",
      "metadata": {
        "id": "XtdkaH8Aoh3v",
        "colab_type": "code",
        "colab": {
          "base_uri": "https://localhost:8080/",
          "height": 70
        },
        "outputId": "92e9afd7-bff8-4c38-b02a-3c5c69219b9d"
      },
      "source": [
        "vocab= tfidf_vect.get_feature_names() # 해당되는 unique한 단어\n",
        "n = 3\n",
        "for idx, topic in enumerate(svd.components_):\n",
        "  print(\"Topic %d:\" % (idx), [(vocab[i], topic[i].round(5)) for i in topic.argsort()[:-n -1:-1]])\n",
        "# .argsort() : 작은 값부터 순서대로 데이터의 index 반환\n",
        "# .argsort()[:-n -1:-1] : top 3 (큰 값 3개 순서대로)"
      ],
      "execution_count": 3,
      "outputs": [
        {
          "output_type": "stream",
          "text": [
            "Topic 0: [('포도', 0.58747), ('사과', 0.42119), ('김치', 0.39094)]\n",
            "Topic 1: [('김치', 0.49684), ('비빔밥', 0.49276), ('된장', 0.26963)]\n",
            "Topic 2: [('짬뽕', 0.60658), ('짜장면', 0.60658), ('탕수육', 0.46062)]\n"
          ],
          "name": "stdout"
        }
      ]
    },
    {
      "cell_type": "code",
      "metadata": {
        "id": "uOPcAB0nTaVz",
        "colab_type": "code",
        "colab": {
          "base_uri": "https://localhost:8080/",
          "height": 70
        },
        "outputId": "da713df2-84f0-484a-b2d0-8ae94e9db110"
      },
      "source": [
        "svd.components_[0]"
      ],
      "execution_count": 4,
      "outputs": [
        {
          "output_type": "execute_result",
          "data": {
            "text/plain": [
              "array([0.39094311, 0.08663945, 0.2634605 , 0.08663945, 0.31533599,\n",
              "       0.1677167 , 0.33012626, 0.42118555, 0.01907605, 0.01907605,\n",
              "       0.05422822, 0.58747296])"
            ]
          },
          "metadata": {
            "tags": []
          },
          "execution_count": 4
        }
      ]
    },
    {
      "cell_type": "code",
      "metadata": {
        "id": "O4vl8Img0U0D",
        "colab_type": "code",
        "colab": {
          "base_uri": "https://localhost:8080/",
          "height": 35
        },
        "outputId": "ec5b8b36-e130-409a-9254-89ceb50d8282"
      },
      "source": [
        "svd.components_[0].argsort()"
      ],
      "execution_count": 6,
      "outputs": [
        {
          "output_type": "execute_result",
          "data": {
            "text/plain": [
              "array([ 8,  9, 10,  1,  3,  5,  2,  4,  6,  0,  7, 11])"
            ]
          },
          "metadata": {
            "tags": []
          },
          "execution_count": 6
        }
      ]
    },
    {
      "cell_type": "code",
      "metadata": {
        "id": "rHJaZ-cJSkOO",
        "colab_type": "code",
        "colab": {
          "base_uri": "https://localhost:8080/",
          "height": 35
        },
        "outputId": "104d85aa-1ed5-4a03-e906-27f6dc5aa889"
      },
      "source": [
        "svd.components_[0].argsort()[:-n -1:-1]"
      ],
      "execution_count": 5,
      "outputs": [
        {
          "output_type": "execute_result",
          "data": {
            "text/plain": [
              "array([11,  7,  0])"
            ]
          },
          "metadata": {
            "tags": []
          },
          "execution_count": 5
        }
      ]
    },
    {
      "cell_type": "code",
      "metadata": {
        "id": "AsATFOt104_r",
        "colab_type": "code",
        "colab": {
          "base_uri": "https://localhost:8080/",
          "height": 35
        },
        "outputId": "80125cb7-aaf3-4645-aca6-845699c726b3"
      },
      "source": [
        "vocab[11], svd.components_[0][11]"
      ],
      "execution_count": 10,
      "outputs": [
        {
          "output_type": "execute_result",
          "data": {
            "text/plain": [
              "('포도', 0.5874729594170527)"
            ]
          },
          "metadata": {
            "tags": []
          },
          "execution_count": 10
        }
      ]
    },
    {
      "cell_type": "markdown",
      "metadata": {
        "id": "4sGio98quBfr",
        "colab_type": "text"
      },
      "source": [
        "### 2. 단어벡터간의 상관관계\n",
        "- 단어 간의 유사도 시각화"
      ]
    },
    {
      "cell_type": "code",
      "metadata": {
        "id": "gSMUbldio6eH",
        "colab_type": "code",
        "colab": {
          "base_uri": "https://localhost:8080/",
          "height": 230
        },
        "outputId": "51e2a921-e720-4556-8a94-fa7442010dd4"
      },
      "source": [
        "# 단어벡터\n",
        "for i in range(len(vocab)):\n",
        "  print(\"{} : {}\".format(vocab[i], svd.components_.T[i]))"
      ],
      "execution_count": 11,
      "outputs": [
        {
          "output_type": "stream",
          "text": [
            "김치 : [ 0.39094311  0.49683512 -0.06285924]\n",
            "김치찌개 : [ 0.08663945  0.13720069 -0.02901254]\n",
            "된장 : [ 0.2634605   0.26962551 -0.00762375]\n",
            "된장찌개 : [ 0.08663945  0.13720069 -0.02901254]\n",
            "바나나 : [ 0.31533599 -0.29774469 -0.01957621]\n",
            "볶음밥 : [0.1677167  0.10773075 0.19210545]\n",
            "비빔밥 : [ 0.33012626  0.49275818 -0.09004258]\n",
            "사과 : [ 0.42118555 -0.18567019  0.00851823]\n",
            "짜장면 : [0.01907605 0.02131272 0.60658392]\n",
            "짬뽕 : [0.01907605 0.02131272 0.60658392]\n",
            "탕수육 : [0.05422822 0.04450862 0.46061907]\n",
            "포도 : [ 0.58747296 -0.51222803 -0.02794911]\n"
          ],
          "name": "stdout"
        }
      ]
    },
    {
      "cell_type": "code",
      "metadata": {
        "id": "bItIkCksuXCZ",
        "colab_type": "code",
        "colab": {}
      },
      "source": [
        "import numpy as np\n",
        "from numpy import dot\n",
        "from numpy.linalg import norm  # 각각의 단어들에 대한 코사인유사도 구하기\n",
        "# 코사인유사도\n",
        "def cosine_similarity(a, b):\n",
        "  return dot(a, b)/(norm(a)*norm(b))\n",
        "# 코사인유사도를 사용해서 행렬의 유사도 구하기\n",
        "def calc_similarity_matrix(vectors):\n",
        "  n_word = len(vectors)\n",
        "  similarity_matrix = np.zeros((n_word, n_word))\n",
        "\n",
        "  for i in range(n_word):\n",
        "    # 위에서 정의한 코사인유사도 사용\n",
        "    for j in range(i, n_word):\n",
        "      similarity_matrix[j,i] = cosine_similarity(vectors[i], vectors[j]).round(4)\n",
        "            \n",
        "  return similarity_matrix"
      ],
      "execution_count": 12,
      "outputs": []
    },
    {
      "cell_type": "code",
      "metadata": {
        "id": "bVNFaOZ9vf5w",
        "colab_type": "code",
        "colab": {
          "base_uri": "https://localhost:8080/",
          "height": 72
        },
        "outputId": "6b7520a4-e8a2-4c0b-87fd-39ca94c193b4"
      },
      "source": [
        "import matplotlib.pyplot as plt\n",
        "import seaborn as sns\n",
        "\n",
        "# 행렬의 유사도 시각화 함수\n",
        "def visualize_similarity(similarity_matrix):\n",
        "  uniform_data = similarity_matrix\n",
        "  mask = np.triu(np.ones_like(similarity_matrix, dtype = np.bool))\n",
        "  plt.rcParams['figure.figsize'] = [8,6]\n",
        "  ax = sns.heatmap(uniform_data, mask=mask,\n",
        "                   annot = True, fmt=\".2f\", annot_kws = {'size':8},\n",
        "                   cmap = 'coolwarm')"
      ],
      "execution_count": 13,
      "outputs": [
        {
          "output_type": "stream",
          "text": [
            "/usr/local/lib/python3.6/dist-packages/statsmodels/tools/_testing.py:19: FutureWarning: pandas.util.testing is deprecated. Use the functions in the public API at pandas.testing instead.\n",
            "  import pandas.util.testing as tm\n"
          ],
          "name": "stderr"
        }
      ]
    },
    {
      "cell_type": "code",
      "metadata": {
        "id": "LlndgETnwCZu",
        "colab_type": "code",
        "colab": {
          "base_uri": "https://localhost:8080/",
          "height": 55
        },
        "outputId": "25c6ebad-4959-42e4-d783-e044dbebb7d8"
      },
      "source": [
        "print(vocab)"
      ],
      "execution_count": 14,
      "outputs": [
        {
          "output_type": "stream",
          "text": [
            "['김치', '김치찌개', '된장', '된장찌개', '바나나', '볶음밥', '비빔밥', '사과', '짜장면', '짬뽕', '탕수육', '포도']\n"
          ],
          "name": "stdout"
        }
      ]
    },
    {
      "cell_type": "code",
      "metadata": {
        "id": "mLijdvNzwG1X",
        "colab_type": "code",
        "colab": {
          "base_uri": "https://localhost:8080/",
          "height": 378
        },
        "outputId": "6f6035b7-af86-433f-bc4a-16a34520c644"
      },
      "source": [
        "word_vectors = svd.components_.T\n",
        "word_similarity_matrix = calc_similarity_matrix(word_vectors)\n",
        "visualize_similarity(word_similarity_matrix)"
      ],
      "execution_count": 15,
      "outputs": [
        {
          "output_type": "display_data",
          "data": {
            "image/png": "[encoded data removed]",
            "text/plain": [
              "<Figure size 576x432 with 2 Axes>"
            ]
          },
          "metadata": {
            "tags": [],
            "needs_background": "light"
          }
        }
      ]
    },
    {
      "cell_type": "markdown",
      "metadata": {
        "id": "agm_eP_gwTjP",
        "colab_type": "text"
      },
      "source": [
        "### 3. 단어벡터 시각화"
      ]
    },
    {
      "cell_type": "code",
      "metadata": {
        "id": "X8tNEdIQwSWM",
        "colab_type": "code",
        "colab": {}
      },
      "source": [
        "# # jupyter notebook에서\n",
        "# %matplotlib inline\n",
        "# import matplotlib.font_manager as fm\n",
        "# import matplotlib\n",
        "\n",
        "# fontprop = fm.FontProperties(fname='C:/Users/677/Downloads/맑은고딕/malgun.ttf', size=12)\n",
        "\n",
        "# from sklearn.manifold import TSNE\n",
        "# import numpy as np\n",
        "# vectors = word_vectors\n",
        "# labels = tfidf_vect.get_feature_names()\n",
        "# def visualize_vectors(vectors,labels):\n",
        "#   tsne = TSNE(n_components =2, random_state=0, n_iter=10000, \\\n",
        "#               perplexity=2)\n",
        "#   np.set_printoptions(suppress=True)\n",
        "#   T = tsne.fit_transform(vectors)\n",
        "\n",
        "#   plt.figure(figsize=(10,6))\n",
        "#   plt.scatter(T[:,0], T[:,1], c='orange', edgecolors='r')\n",
        "#   for label, x, y in zip(labels, T[:,0],T[:,1]):\n",
        "#     plt.annotate(label, xy=(x+1, y+1), xytext=(0,0), \\\n",
        "#                  textcoords='offseet points', \\\n",
        "#                  fontproperties=fontprop)"
      ],
      "execution_count": 10,
      "outputs": []
    },
    {
      "cell_type": "code",
      "metadata": {
        "id": "MlnxVlT15JTg",
        "colab_type": "code",
        "colab": {}
      },
      "source": [
        "# matplotlib 폰트를 Nanum 폰트로 지정\n",
        "import matplotlib.pyplot as plt\n",
        "import pandas as pd\n",
        "\n",
        "plt.rc('font', family='NanumBarunGothic')"
      ],
      "execution_count": 16,
      "outputs": []
    },
    {
      "cell_type": "code",
      "metadata": {
        "id": "Ryq67xXB5LHw",
        "colab_type": "code",
        "colab": {}
      },
      "source": [
        "# # 한글 폰트 확인해보기\n",
        "# pd.Series([1, -1, 0, 5, -5]).plot(title=\"한글폰트\")"
      ],
      "execution_count": null,
      "outputs": []
    },
    {
      "cell_type": "code",
      "metadata": {
        "id": "WY3E1oIPwvzd",
        "colab_type": "code",
        "colab": {}
      },
      "source": [
        "from sklearn.manifold import TSNE\n",
        "import numpy as np\n",
        "vectors = word_vectors\n",
        "labels = tfidf_vect.get_feature_names()\n",
        "def visualize_vectors(vectors,labels):\n",
        "  tsne = TSNE(n_components =2, random_state=0, n_iter=10000,\n",
        "              perplexity=2)\n",
        "  np.set_printoptions(suppress=True)\n",
        "  T = tsne.fit_transform(vectors)\n",
        "\n",
        "  plt.figure(figsize=(10,6))\n",
        "  plt.scatter(T[:,0], T[:,1], c='orange', edgecolors='r')\n",
        "  for label, x, y in zip(labels, T[:,0],T[:,1]):\n",
        "    plt.annotate(label, xy=(x+1, y+1), xytext=(0,0),\n",
        "                 textcoords='offset points')"
      ],
      "execution_count": 18,
      "outputs": []
    },
    {
      "cell_type": "code",
      "metadata": {
        "id": "aQHr37HfxI8c",
        "colab_type": "code",
        "colab": {
          "base_uri": "https://localhost:8080/",
          "height": 465
        },
        "outputId": "17b11e23-3e9e-4be0-abff-e3d34a1b0091"
      },
      "source": [
        "visualize_vectors(vectors, labels)"
      ],
      "execution_count": 19,
      "outputs": [
        {
          "output_type": "stream",
          "text": [
            "/usr/local/lib/python3.6/dist-packages/matplotlib/backends/backend_agg.py:214: RuntimeWarning: Glyph 8722 missing from current font.\n",
            "  font.set_text(s, 0.0, flags=flags)\n",
            "/usr/local/lib/python3.6/dist-packages/matplotlib/backends/backend_agg.py:183: RuntimeWarning: Glyph 8722 missing from current font.\n",
            "  font.set_text(s, 0, flags=flags)\n"
          ],
          "name": "stderr"
        },
        {
          "output_type": "display_data",
          "data": {
            "image/png": "[encoded data removed]",
            "text/plain": [
              "<Figure size 720x432 with 1 Axes>"
            ]
          },
          "metadata": {
            "tags": [],
            "needs_background": "light"
          }
        }
      ]
    }
  ]
}