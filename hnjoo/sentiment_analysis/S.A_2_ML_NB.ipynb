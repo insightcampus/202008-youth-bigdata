{
  "nbformat": 4,
  "nbformat_minor": 0,
  "metadata": {
    "colab": {
      "name": " S.A_2_ML_NB.ipynb",
      "provenance": [],
      "collapsed_sections": [],
      "authorship_tag": "ABX9TyNzasxoFJcSioSwh0LJk1Hf",
      "include_colab_link": true
    },
    "kernelspec": {
      "name": "python3",
      "display_name": "Python 3"
    }
  },
  "cells": [
    {
      "cell_type": "markdown",
      "metadata": {
        "id": "view-in-github",
        "colab_type": "text"
      },
      "source": [
        "<a href=\"https://colab.research.google.com/github/insightcampus/202008-youth-bigdata/blob/master/hnjoo/sentiment_analysis/S.A_2_ML_NB.ipynb\" target=\"_parent\"><img src=\"https://colab.research.google.com/assets/colab-badge.svg\" alt=\"Open In Colab\"/></a>"
      ]
    },
    {
      "cell_type": "markdown",
      "metadata": {
        "id": "e8E0k_H-AHQn",
        "colab_type": "text"
      },
      "source": [
        "## [감성분석 실습2] 네이버 영화리뷰 감성분석: Naive Bayes Using Sklearn\n",
        "- 나이브 베이지안 정확도가 생각보다 높음"
      ]
    },
    {
      "cell_type": "markdown",
      "metadata": {
        "id": "lyEHurH6rlA6",
        "colab_type": "text"
      },
      "source": [
        "### 0. 준비하기\n",
        "- 한글형태소분석기 설치하기\n",
        "- 구글 드라이브 연동하기"
      ]
    },
    {
      "cell_type": "code",
      "metadata": {
        "id": "N4AFb-l4_lJx",
        "colab_type": "code",
        "colab": {
          "base_uri": "https://localhost:8080/",
          "height": 837
        },
        "outputId": "c128d658-4642-4b87-d61c-2c08e165af59"
      },
      "source": [
        "# 코렙에서 Konlpy, Mecab 설치하기 \n",
        "! sudo apt-get install g++ openjdk-7-jdk #Install Java 1.7+ \n",
        "#!sudo apt-get install python-dev; pip install konlpy # Python 2.x \n",
        "!sudo apt-get install python3-dev; pip3 install konlpy # Python 3.x \n",
        "!sudo apt-get install curl \n",
        "! bash <(curl -s https://raw.githubusercontent.com/konlpy/konlpy/master/scripts/mecab.sh)"
      ],
      "execution_count": 1,
      "outputs": [
        {
          "output_type": "stream",
          "text": [
            "Reading package lists... Done\n",
            "Building dependency tree       \n",
            "Reading state information... Done\n",
            "Package openjdk-7-jdk is not available, but is referred to by another package.\n",
            "This may mean that the package is missing, has been obsoleted, or\n",
            "is only available from another source\n",
            "\n",
            "E: Package 'openjdk-7-jdk' has no installation candidate\n",
            "Reading package lists... Done\n",
            "Building dependency tree       \n",
            "Reading state information... Done\n",
            "python3-dev is already the newest version (3.6.7-1~18.04).\n",
            "The following package was automatically installed and is no longer required:\n",
            "  libnvidia-common-440\n",
            "Use 'sudo apt autoremove' to remove it.\n",
            "0 upgraded, 0 newly installed, 0 to remove and 77 not upgraded.\n",
            "Requirement already satisfied: konlpy in /usr/local/lib/python3.6/dist-packages (0.5.2)\n",
            "Requirement already satisfied: tweepy>=3.7.0 in /usr/local/lib/python3.6/dist-packages (from konlpy) (3.9.0)\n",
            "Requirement already satisfied: JPype1>=0.7.0 in /usr/local/lib/python3.6/dist-packages (from konlpy) (1.0.2)\n",
            "Requirement already satisfied: colorama in /usr/local/lib/python3.6/dist-packages (from konlpy) (0.4.3)\n",
            "Requirement already satisfied: beautifulsoup4==4.6.0 in /usr/local/lib/python3.6/dist-packages (from konlpy) (4.6.0)\n",
            "Requirement already satisfied: numpy>=1.6 in /usr/local/lib/python3.6/dist-packages (from konlpy) (1.18.5)\n",
            "Requirement already satisfied: lxml>=4.1.0 in /usr/local/lib/python3.6/dist-packages (from konlpy) (4.2.6)\n",
            "Requirement already satisfied: requests[socks]>=2.11.1 in /usr/local/lib/python3.6/dist-packages (from tweepy>=3.7.0->konlpy) (2.23.0)\n",
            "Requirement already satisfied: requests-oauthlib>=0.7.0 in /usr/local/lib/python3.6/dist-packages (from tweepy>=3.7.0->konlpy) (1.3.0)\n",
            "Requirement already satisfied: six>=1.10.0 in /usr/local/lib/python3.6/dist-packages (from tweepy>=3.7.0->konlpy) (1.15.0)\n",
            "Requirement already satisfied: typing-extensions; python_version < \"3.8\" in /usr/local/lib/python3.6/dist-packages (from JPype1>=0.7.0->konlpy) (3.7.4.3)\n",
            "Requirement already satisfied: urllib3!=1.25.0,!=1.25.1,<1.26,>=1.21.1 in /usr/local/lib/python3.6/dist-packages (from requests[socks]>=2.11.1->tweepy>=3.7.0->konlpy) (1.24.3)\n",
            "Requirement already satisfied: idna<3,>=2.5 in /usr/local/lib/python3.6/dist-packages (from requests[socks]>=2.11.1->tweepy>=3.7.0->konlpy) (2.10)\n",
            "Requirement already satisfied: certifi>=2017.4.17 in /usr/local/lib/python3.6/dist-packages (from requests[socks]>=2.11.1->tweepy>=3.7.0->konlpy) (2020.6.20)\n",
            "Requirement already satisfied: chardet<4,>=3.0.2 in /usr/local/lib/python3.6/dist-packages (from requests[socks]>=2.11.1->tweepy>=3.7.0->konlpy) (3.0.4)\n",
            "Requirement already satisfied: PySocks!=1.5.7,>=1.5.6; extra == \"socks\" in /usr/local/lib/python3.6/dist-packages (from requests[socks]>=2.11.1->tweepy>=3.7.0->konlpy) (1.7.1)\n",
            "Requirement already satisfied: oauthlib>=3.0.0 in /usr/local/lib/python3.6/dist-packages (from requests-oauthlib>=0.7.0->tweepy>=3.7.0->konlpy) (3.1.0)\n",
            "Reading package lists... Done\n",
            "Building dependency tree       \n",
            "Reading state information... Done\n",
            "curl is already the newest version (7.58.0-2ubuntu3.10).\n",
            "The following package was automatically installed and is no longer required:\n",
            "  libnvidia-common-440\n",
            "Use 'sudo apt autoremove' to remove it.\n",
            "0 upgraded, 0 newly installed, 0 to remove and 77 not upgraded.\n",
            "mecab-ko is already installed\n",
            "mecab-ko-dic is already installed\n",
            "mecab-python is already installed\n",
            "Done.\n"
          ],
          "name": "stdout"
        }
      ]
    },
    {
      "cell_type": "code",
      "metadata": {
        "id": "G4_d8cJuA1Yf",
        "colab_type": "code",
        "colab": {
          "base_uri": "https://localhost:8080/",
          "height": 55
        },
        "outputId": "38dd4401-213c-468e-caf5-536363bd0576"
      },
      "source": [
        "from google.colab import drive\n",
        "drive.mount('/content/gdrive')"
      ],
      "execution_count": 2,
      "outputs": [
        {
          "output_type": "stream",
          "text": [
            "Drive already mounted at /content/gdrive; to attempt to forcibly remount, call drive.mount(\"/content/gdrive\", force_remount=True).\n"
          ],
          "name": "stdout"
        }
      ]
    },
    {
      "cell_type": "code",
      "metadata": {
        "id": "U_PE_wt9BASg",
        "colab_type": "code",
        "colab": {
          "base_uri": "https://localhost:8080/",
          "height": 35
        },
        "outputId": "1c36db27-5ae1-4cea-bbf9-cad53d14e108"
      },
      "source": [
        "%cd '/content/gdrive/My Drive/전송/movie_reviews'"
      ],
      "execution_count": 3,
      "outputs": [
        {
          "output_type": "stream",
          "text": [
            "/content/gdrive/My Drive/전송/movie_reviews\n"
          ],
          "name": "stdout"
        }
      ]
    },
    {
      "cell_type": "code",
      "metadata": {
        "id": "74EjffrHBSfA",
        "colab_type": "code",
        "colab": {
          "base_uri": "https://localhost:8080/",
          "height": 35
        },
        "outputId": "66d11cb3-a3f2-41d3-a94f-35823029d967"
      },
      "source": [
        "%ls"
      ],
      "execution_count": 4,
      "outputs": [
        {
          "output_type": "stream",
          "text": [
            "\u001b[0m\u001b[01;34massets\u001b[0m/  ratings_test.txt  ratings_train.txt  saved_model.pb  \u001b[01;34mvariables\u001b[0m/\n"
          ],
          "name": "stdout"
        }
      ]
    },
    {
      "cell_type": "markdown",
      "metadata": {
        "id": "QvoSM-HSAEM-",
        "colab_type": "text"
      },
      "source": [
        "### 1. 데이터 가져오기 및 정제\n",
        "- 데이터 다운로드 링크 : https://github.com/e9t/nsmc\n",
        "- 데이터 읽기: \n",
        "  + 탭으로 구분되어 있는 텍스트 파일 > 구분기호를 의미하는 sep를 \\t\n",
        "  + 열의 갯수가 총 3개라 quoting=3"
      ]
    },
    {
      "cell_type": "code",
      "metadata": {
        "id": "7XUPYFHT_8iy",
        "colab_type": "code",
        "colab": {}
      },
      "source": [
        "import pandas as pd\n",
        "import numpy as np\n",
        "df = pd.DataFrame(pd.read_csv('ratings_train.txt', sep='\\t', quoting=3))"
      ],
      "execution_count": 5,
      "outputs": []
    },
    {
      "cell_type": "code",
      "metadata": {
        "id": "gLegqLNrAXQ3",
        "colab_type": "code",
        "colab": {
          "base_uri": "https://localhost:8080/",
          "height": 211
        },
        "outputId": "9ed4b27a-7322-44f9-bde8-b44a3646577b"
      },
      "source": [
        "df.head()"
      ],
      "execution_count": 6,
      "outputs": [
        {
          "output_type": "execute_result",
          "data": {
            "text/html": [
              "<div>\n",
              "<style scoped>\n",
              "    .dataframe tbody tr th:only-of-type {\n",
              "        vertical-align: middle;\n",
              "    }\n",
              "\n",
              "    .dataframe tbody tr th {\n",
              "        vertical-align: top;\n",
              "    }\n",
              "\n",
              "    .dataframe thead th {\n",
              "        text-align: right;\n",
              "    }\n",
              "</style>\n",
              "<table border=\"1\" class=\"dataframe\">\n",
              "  <thead>\n",
              "    <tr style=\"text-align: right;\">\n",
              "      <th></th>\n",
              "      <th>id</th>\n",
              "      <th>document</th>\n",
              "      <th>label</th>\n",
              "    </tr>\n",
              "  </thead>\n",
              "  <tbody>\n",
              "    <tr>\n",
              "      <th>0</th>\n",
              "      <td>9976970</td>\n",
              "      <td>아 더빙.. 진짜 짜증나네요 목소리</td>\n",
              "      <td>0</td>\n",
              "    </tr>\n",
              "    <tr>\n",
              "      <th>1</th>\n",
              "      <td>3819312</td>\n",
              "      <td>흠...포스터보고 초딩영화줄....오버연기조차 가볍지 않구나</td>\n",
              "      <td>1</td>\n",
              "    </tr>\n",
              "    <tr>\n",
              "      <th>2</th>\n",
              "      <td>10265843</td>\n",
              "      <td>너무재밓었다그래서보는것을추천한다</td>\n",
              "      <td>0</td>\n",
              "    </tr>\n",
              "    <tr>\n",
              "      <th>3</th>\n",
              "      <td>9045019</td>\n",
              "      <td>교도소 이야기구먼 ..솔직히 재미는 없다..평점 조정</td>\n",
              "      <td>0</td>\n",
              "    </tr>\n",
              "    <tr>\n",
              "      <th>4</th>\n",
              "      <td>6483659</td>\n",
              "      <td>사이몬페그의 익살스런 연기가 돋보였던 영화!스파이더맨에서 늙어보이기만 했던 커스틴 ...</td>\n",
              "      <td>1</td>\n",
              "    </tr>\n",
              "  </tbody>\n",
              "</table>\n",
              "</div>"
            ],
            "text/plain": [
              "         id                                           document  label\n",
              "0   9976970                                아 더빙.. 진짜 짜증나네요 목소리      0\n",
              "1   3819312                  흠...포스터보고 초딩영화줄....오버연기조차 가볍지 않구나      1\n",
              "2  10265843                                  너무재밓었다그래서보는것을추천한다      0\n",
              "3   9045019                      교도소 이야기구먼 ..솔직히 재미는 없다..평점 조정      0\n",
              "4   6483659  사이몬페그의 익살스런 연기가 돋보였던 영화!스파이더맨에서 늙어보이기만 했던 커스틴 ...      1"
            ]
          },
          "metadata": {
            "tags": []
          },
          "execution_count": 6
        }
      ]
    },
    {
      "cell_type": "code",
      "metadata": {
        "id": "r4VjkyiNAZ0H",
        "colab_type": "code",
        "colab": {
          "base_uri": "https://localhost:8080/",
          "height": 88
        },
        "outputId": "3a6f2905-9d49-4f8e-a470-6dfc4d685464"
      },
      "source": [
        "# 결측치 확인하기\n",
        "df.isnull().sum()"
      ],
      "execution_count": 7,
      "outputs": [
        {
          "output_type": "execute_result",
          "data": {
            "text/plain": [
              "id          0\n",
              "document    5\n",
              "label       0\n",
              "dtype: int64"
            ]
          },
          "metadata": {
            "tags": []
          },
          "execution_count": 7
        }
      ]
    },
    {
      "cell_type": "code",
      "metadata": {
        "id": "fD_5r4okAazg",
        "colab_type": "code",
        "colab": {}
      },
      "source": [
        "# 결측치 있는 행 삭제하기\n",
        "df = df.dropna()"
      ],
      "execution_count": 8,
      "outputs": []
    },
    {
      "cell_type": "markdown",
      "metadata": {
        "id": "jm58D1D9AfIt",
        "colab_type": "text"
      },
      "source": [
        "### 2. 토큰화 하기(Mecab)"
      ]
    },
    {
      "cell_type": "code",
      "metadata": {
        "id": "m-vmAydVAbuI",
        "colab_type": "code",
        "colab": {}
      },
      "source": [
        "# 토큰화 패키지 선언하기\n",
        "from konlpy.tag import Mecab\n",
        "mecab = Mecab()"
      ],
      "execution_count": 9,
      "outputs": []
    },
    {
      "cell_type": "code",
      "metadata": {
        "id": "T7PpQEnvBfuf",
        "colab_type": "code",
        "colab": {
          "base_uri": "https://localhost:8080/",
          "height": 515
        },
        "outputId": "329b53ee-56a2-4ff2-8b08-eb97f0d849eb"
      },
      "source": [
        "# 토큰화 + 품사 부착\n",
        "mecabTag = []\n",
        "for doc in df['document']:\n",
        "    mecabTag.append(mecab.pos(doc))\n",
        "mecabTag[:3]"
      ],
      "execution_count": 10,
      "outputs": [
        {
          "output_type": "execute_result",
          "data": {
            "text/plain": [
              "[[('아', 'IC'),\n",
              "  ('더', 'MAG'),\n",
              "  ('빙', 'MAG'),\n",
              "  ('.', 'SF'),\n",
              "  ('.', 'SY'),\n",
              "  ('진짜', 'MAG'),\n",
              "  ('짜증', 'NNG'),\n",
              "  ('나', 'NP'),\n",
              "  ('네요', 'VCP+EC'),\n",
              "  ('목소리', 'NNG')],\n",
              " [('흠', 'IC'),\n",
              "  ('.', 'SF'),\n",
              "  ('..', 'SY'),\n",
              "  ('포스터', 'NNP'),\n",
              "  ('보고', 'JKB'),\n",
              "  ('초딩', 'NNG'),\n",
              "  ('영화', 'NNG'),\n",
              "  ('줄', 'NNG'),\n",
              "  ('.', 'SF'),\n",
              "  ('...', 'SY'),\n",
              "  ('오버', 'NNG'),\n",
              "  ('연기', 'NNG'),\n",
              "  ('조차', 'JX'),\n",
              "  ('가볍', 'VA'),\n",
              "  ('지', 'EC'),\n",
              "  ('않', 'VX'),\n",
              "  ('구나', 'EC')],\n",
              " [('너무', 'MAG'), ('재', 'XPN'), ('밓었다그래서보는것을추천한다', 'UNKNOWN')]]"
            ]
          },
          "metadata": {
            "tags": []
          },
          "execution_count": 10
        }
      ]
    },
    {
      "cell_type": "code",
      "metadata": {
        "id": "GpzzWbdRBolQ",
        "colab_type": "code",
        "colab": {
          "base_uri": "https://localhost:8080/",
          "height": 1000
        },
        "outputId": "f26171d3-3757-4338-e8b4-5d114b349b01"
      },
      "source": [
        "# 최빈어 조회 이전 list안의 list 없애기\n",
        "import itertools\n",
        "mecabTag_most = list(itertools.chain.from_iterable(mecabTag))\n",
        "# 최빈어 조회 및 없앨 품사/단어 확인하기\n",
        "from collections import Counter\n",
        "Counter(mecabTag_most).most_common()"
      ],
      "execution_count": 11,
      "outputs": [
        {
          "output_type": "execute_result",
          "data": {
            "text/plain": [
              "[(('.', 'SF'), 132306),\n",
              " (('영화', 'NNG'), 57614),\n",
              " (('고', 'EC'), 46412),\n",
              " (('는', 'ETM'), 45311),\n",
              " (('이', 'JKS'), 41704),\n",
              " (('의', 'JKG'), 33705),\n",
              " (('도', 'JX'), 33545),\n",
              " (('에', 'JKB'), 30526),\n",
              " (('다', 'EF'), 30201),\n",
              " (('가', 'JKS'), 28950),\n",
              " (('.', 'SY'), 27960),\n",
              " (('을', 'JKO'), 23680),\n",
              " (('..', 'SY'), 22813),\n",
              " ((',', 'SC'), 22043),\n",
              " (('는', 'JX'), 21478),\n",
              " (('들', 'XSN'), 20054),\n",
              " (('이', 'VCP'), 20049),\n",
              " (('보', 'VV'), 20032),\n",
              " (('한', 'XSA+ETM'), 18162),\n",
              " (('은', 'JX'), 17384),\n",
              " (('를', 'JKO'), 17010),\n",
              " (('게', 'EC'), 16985),\n",
              " (('!', 'SF'), 16782),\n",
              " (('하', 'XSV'), 16006),\n",
              " (('없', 'VA'), 15877),\n",
              " (('다', 'EC'), 15443),\n",
              " (('하', 'XSA'), 14002),\n",
              " (('좋', 'VA'), 13794),\n",
              " (('은', 'ETM'), 13790),\n",
              " (('?', 'SF'), 13597),\n",
              " (('하', 'VV'), 12953),\n",
              " (('지', 'EC'), 12557),\n",
              " (('었', 'EP'), 12215),\n",
              " (('너무', 'MAG'), 11000),\n",
              " (('정말', 'MAG'), 9750),\n",
              " (('는데', 'EC'), 9734),\n",
              " (('안', 'MAG'), 9599),\n",
              " (('로', 'JKB'), 9564),\n",
              " (('으로', 'JKB'), 9310),\n",
              " (('적', 'XSN'), 9294),\n",
              " (('만', 'JX'), 9242),\n",
              " (('것', 'NNB'), 9228),\n",
              " (('재밌', 'VA'), 9022),\n",
              " (('이', 'MM'), 8952),\n",
              " (('음', 'ETN'), 8640),\n",
              " (('같', 'VA'), 8576),\n",
              " (('진짜', 'MAG'), 8205),\n",
              " (('점', 'NNBC'), 8143),\n",
              " (('에서', 'JKB'), 8058),\n",
              " (('있', 'VV'), 7996),\n",
              " (('지만', 'EC'), 7717),\n",
              " (('았', 'EP'), 7630),\n",
              " (('거', 'NNB'), 7619),\n",
              " (('않', 'VX'), 7561),\n",
              " (('기', 'ETN'), 7430),\n",
              " (('수', 'NNB'), 7334),\n",
              " (('ㅋㅋ', 'IC'), 7258),\n",
              " (('연기', 'NNG'), 6834),\n",
              " (('어', 'EC'), 6723),\n",
              " (('최고', 'NNG'), 6595),\n",
              " (('잘', 'MAG'), 6589),\n",
              " (('인', 'VCP+ETM'), 6404),\n",
              " (('면', 'EC'), 6399),\n",
              " (('~', 'SY'), 6332),\n",
              " (('평점', 'NNG'), 6297),\n",
              " (('을', 'ETM'), 6198),\n",
              " (('다', 'MAG'), 6162),\n",
              " (('이런', 'MM'), 5998),\n",
              " (('어요', 'EF'), 5912),\n",
              " (('던', 'ETM'), 5867),\n",
              " (('보', 'VX'), 5579),\n",
              " (('네요', 'EF'), 5564),\n",
              " (('왜', 'MAG'), 5518),\n",
              " (('1', 'SN'), 5517),\n",
              " (('봤', 'VV+EP'), 5491),\n",
              " (('과', 'JC'), 5428),\n",
              " (('스토리', 'NNG'), 5417),\n",
              " (('겠', 'EP'), 5394),\n",
              " (('ㅋㅋㅋ', 'IC'), 5388),\n",
              " (('습니다', 'EF'), 5384),\n",
              " (('...', 'SY'), 5356),\n",
              " (('되', 'VV'), 5265),\n",
              " (('말', 'NNG'), 5224),\n",
              " (('드라마', 'NNG'), 5192),\n",
              " (('네', 'EF'), 5187),\n",
              " (('나', 'NP'), 5181),\n",
              " (('생각', 'NNG'), 5168),\n",
              " (('더', 'MAG'), 5112),\n",
              " (('싶', 'VX'), 5048),\n",
              " (('사람', 'NNG'), 5035),\n",
              " (('감동', 'NNG'), 4860),\n",
              " (('때', 'NNG'), 4823),\n",
              " (('봤', 'VX+EP'), 4769),\n",
              " (('듯', 'NNB'), 4746),\n",
              " (('아', 'EC'), 4740),\n",
              " (('아니', 'VCN'), 4728),\n",
              " (('게', 'NNB+JKS'), 4456),\n",
              " (('까지', 'JX'), 4452),\n",
              " (('배우', 'NNG'), 4450),\n",
              " (('좀', 'MAG'), 4422),\n",
              " (('한', 'MM'), 4419),\n",
              " (('있', 'VX'), 4394),\n",
              " (('있', 'VA'), 4352),\n",
              " (('내용', 'NNG'), 4247),\n",
              " (('감독', 'NNG'), 4194),\n",
              " (('재미', 'NNG'), 4108),\n",
              " (('그냥', 'MAG'), 4093),\n",
              " (('지루', 'XR'), 4019),\n",
              " (('재미있', 'VA'), 3993),\n",
              " (('만들', 'VV'), 3886),\n",
              " (('주', 'VX'), 3870),\n",
              " (('중', 'NNB'), 3838),\n",
              " (('시간', 'NNG'), 3810),\n",
              " (('그', 'MM'), 3698),\n",
              " (('10', 'SN'), 3654),\n",
              " (('재미없', 'VA'), 3590),\n",
              " (('와', 'JC'), 3545),\n",
              " (('쓰레기', 'NNG'), 3509),\n",
              " (('함', 'XSA+ETN'), 3499),\n",
              " (('사랑', 'NNG'), 3491),\n",
              " (('보다', 'JKB'), 3452),\n",
              " (('못', 'MAG'), 3446),\n",
              " (('년', 'NNBC'), 3437),\n",
              " (('2', 'SN'), 3188),\n",
              " (('아', 'IC'), 3137),\n",
              " (('면서', 'EC'), 3093),\n",
              " (('번', 'NNBC'), 3070),\n",
              " (('다시', 'MAG'), 3040),\n",
              " (('나오', 'VV'), 3024),\n",
              " (('알', 'VV'), 3005),\n",
              " (('작품', 'NNG'), 2977),\n",
              " (('본', 'VV+ETM'), 2971),\n",
              " (('이거', 'NP'), 2948),\n",
              " (('하나', 'NR'), 2932),\n",
              " (('였', 'VCP+EP'), 2848),\n",
              " (('잼', 'NNG'), 2810),\n",
              " (('했', 'XSV+EP'), 2780),\n",
              " (('정도', 'NNG'), 2761),\n",
              " (('!', 'SY'), 2760),\n",
              " (('마지막', 'NNG'), 2755),\n",
              " (('끝', 'NNG'), 2731),\n",
              " (('이건', 'NP+JX'), 2720),\n",
              " (('내', 'NP'), 2707),\n",
              " (('볼', 'VV+ETM'), 2689),\n",
              " (('액션', 'NNG'), 2682),\n",
              " (('ㅋ', 'IC'), 2661),\n",
              " (('다', 'VCP+EF'), 2661),\n",
              " (('3', 'SN'), 2620),\n",
              " (('임', 'VCP+ETN'), 2609),\n",
              " (('할', 'XSV+ETM'), 2602),\n",
              " (('기대', 'NNG'), 2566),\n",
              " (('다는', 'ETM'), 2530),\n",
              " (('많', 'VA'), 2515),\n",
              " (('아깝', 'VA'), 2481),\n",
              " (('라', 'EC'), 2474),\n",
              " (('네요', 'EC'), 2452),\n",
              " (('장면', 'NNG'), 2446),\n",
              " (('건', 'NNB+JX'), 2431),\n",
              " (('지', 'EF'), 2360),\n",
              " (('주', 'VV'), 2356),\n",
              " (('모르', 'VV'), 2339),\n",
              " (('이렇게', 'MAG'), 2337),\n",
              " ((\"'\", 'SY'), 2311),\n",
              " (('다가', 'EC'), 2289),\n",
              " (('지', 'VX'), 2280),\n",
              " (('해', 'XSV+EC'), 2276),\n",
              " (('돈', 'NNG'), 2261),\n",
              " (('이게', 'NP+JKS'), 2261),\n",
              " (('최악', 'NNG'), 2255),\n",
              " (('뭐', 'NP'), 2208),\n",
              " (('으면', 'EC'), 2199),\n",
              " (('줄', 'NNB'), 2195),\n",
              " (('이야기', 'NNG'), 2194),\n",
              " (('입니다', 'VCP+EF'), 2170),\n",
              " (('별로', 'MAG'), 2140),\n",
              " (('뭐', 'IC'), 2122),\n",
              " (('내', 'NP+JKG'), 2103),\n",
              " (('ㅠㅠ', 'UNKNOWN'), 2072),\n",
              " (('어서', 'EC'), 2070),\n",
              " (('애', 'NNG'), 2052),\n",
              " (('이해', 'NNG'), 2049),\n",
              " (('되', 'XSV'), 2045),\n",
              " (('명작', 'NNG'), 2033),\n",
              " (('했', 'XSA+EP'), 2029),\n",
              " (('님', 'XSN'), 2028),\n",
              " (('처음', 'NNG'), 2015),\n",
              " (('^^', 'SY'), 2013),\n",
              " (('그리고', 'MAJ'), 2012),\n",
              " (('남', 'VV'), 2011),\n",
              " (('성', 'XSN'), 2001),\n",
              " (('여자', 'NNG'), 1994),\n",
              " (('서', 'EC'), 1993),\n",
              " (('만', 'NNB'), 1992),\n",
              " (('또', 'MAG'), 1985),\n",
              " (('이상', 'NNG'), 1983),\n",
              " (('한국', 'NNP'), 1974),\n",
              " (('에게', 'JKB'), 1952),\n",
              " (('많이', 'MAG'), 1949),\n",
              " (('했', 'VV+EP'), 1945),\n",
              " (('부터', 'JX'), 1934),\n",
              " (('주인공', 'NNG'), 1921),\n",
              " (('역시', 'MAJ'), 1919),\n",
              " (('다고', 'EC'), 1908),\n",
              " (('받', 'VV'), 1902),\n",
              " (('!!', 'SY'), 1896),\n",
              " (('봐도', 'VV+EC'), 1871),\n",
              " (('우리', 'NP'), 1863),\n",
              " (('가', 'VV'), 1863),\n",
              " (('걸', 'NNB+JKO'), 1845),\n",
              " (('시', 'EP'), 1833),\n",
              " (('괜찮', 'VA'), 1823),\n",
              " (('편', 'NNBC'), 1807),\n",
              " (('한', 'XSV+ETM'), 1791),\n",
              " (('만든', 'VV+ETM'), 1785),\n",
              " (('기억', 'NNG'), 1782),\n",
              " (('?', 'SY'), 1769),\n",
              " (('ㅎㅎ', 'IC'), 1766),\n",
              " (('연출', 'NNG'), 1761),\n",
              " (('니', 'EC'), 1761),\n",
              " (('해', 'VV+EC'), 1752),\n",
              " (('때문', 'NNB'), 1750),\n",
              " (('는데', 'EF'), 1745),\n",
              " (('완전', 'MAG'), 1724),\n",
              " (('엔', 'JKB+JX'), 1714),\n",
              " (('인데', 'VCP+EC'), 1692),\n",
              " (('꼭', 'MAG'), 1653),\n",
              " (('난', 'NP+JX'), 1632),\n",
              " (('현실', 'NNG'), 1627),\n",
              " (('재', 'XPN'), 1623),\n",
              " (('라고', 'VCP+EC'), 1619),\n",
              " (('ㅡㅡ', 'UNKNOWN'), 1616),\n",
              " (('무슨', 'MM'), 1599),\n",
              " (('마음', 'NNG'), 1591),\n",
              " (('참', 'MAG'), 1576),\n",
              " (('결말', 'NNG'), 1571),\n",
              " (('굿', 'NNG'), 1563),\n",
              " (('남자', 'NNG'), 1554),\n",
              " (('과', 'JKB'), 1551),\n",
              " (('전개', 'NNG'), 1549),\n",
              " (('지금', 'MAG'), 1547),\n",
              " (('나', 'EF'), 1543),\n",
              " (('며', 'EC'), 1542),\n",
              " (('세요', 'EP+EF'), 1538),\n",
              " (('죽', 'VV'), 1531),\n",
              " (('는지', 'EC'), 1531),\n",
              " (('소재', 'NNG'), 1531),\n",
              " (('넘', 'MAG'), 1518),\n",
              " (('인생', 'NNG'), 1518),\n",
              " (('공포', 'NNG'), 1512),\n",
              " (('야', 'VCP+EF'), 1501),\n",
              " (('아서', 'EC'), 1498),\n",
              " (('냐', 'EF'), 1492),\n",
              " (('~~', 'SY'), 1490),\n",
              " (('짜증', 'NNG'), 1482),\n",
              " (('느낌', 'NNG'), 1478),\n",
              " (('본', 'VX+ETM'), 1448),\n",
              " (('필요', 'NNG'), 1442),\n",
              " (('전', 'NNG'), 1438),\n",
              " (('개', 'NNG'), 1416),\n",
              " (('음악', 'NNG'), 1413),\n",
              " (('다른', 'MM'), 1412),\n",
              " (('가장', 'MAG'), 1411),\n",
              " (('일본', 'NNP'), 1411),\n",
              " ((')', 'SSC'), 1408),\n",
              " (('했', 'VX+EP'), 1407),\n",
              " ((';;', 'SY'), 1398),\n",
              " (('반전', 'NNG'), 1383),\n",
              " (('나', 'EC'), 1375),\n",
              " (('매력', 'NNG'), 1369),\n",
              " (('수준', 'NNG'), 1369),\n",
              " (('밋', 'NNG'), 1366),\n",
              " (('낮', 'VA'), 1360),\n",
              " (('라는', 'ETM'), 1351),\n",
              " (('짱', 'NNG'), 1350),\n",
              " (('두', 'MM'), 1350),\n",
              " (('가슴', 'NNG'), 1348),\n",
              " (('맞', 'VV'), 1346),\n",
              " (('긴', 'ETN+JX'), 1342),\n",
              " (('없이', 'MAG'), 1336),\n",
              " (('원작', 'NNG'), 1329),\n",
              " (('높', 'VA'), 1328),\n",
              " (('ㄷ', 'NNG'), 1328),\n",
              " (('씨', 'NNB'), 1328),\n",
              " (('인간', 'NNG'), 1327),\n",
              " (('ㅠ', 'UNKNOWN'), 1320),\n",
              " (('속', 'NNG'), 1300),\n",
              " (('아이', 'NNG'), 1296),\n",
              " (('나', 'VV'), 1291),\n",
              " (('(', 'SSO'), 1289),\n",
              " (('개', 'NNBC'), 1285),\n",
              " (('내내', 'MAG'), 1280),\n",
              " (('분', 'NNBC'), 1278),\n",
              " (('말', 'VX'), 1277),\n",
              " (('만드', 'VV'), 1259),\n",
              " (('급', 'NNG'), 1258),\n",
              " (('데', 'NNB'), 1257),\n",
              " (('눈물', 'NNG'), 1255),\n",
              " (('살', 'VV'), 1250),\n",
              " (('들', 'VV'), 1248),\n",
              " (('해서', 'XSV+EC'), 1244),\n",
              " (('길', 'ETN+JKO'), 1230),\n",
              " (('보여', 'VV+EC'), 1229),\n",
              " (('라는', 'VCP+ETM'), 1224),\n",
              " (('할', 'VV+ETM'), 1219),\n",
              " (('네', 'EC'), 1213),\n",
              " (('찍', 'VV'), 1208),\n",
              " (('코미디', 'NNG'), 1205),\n",
              " (('이', 'JKC'), 1193),\n",
              " (('할', 'VX+ETM'), 1192),\n",
              " (('웃', 'VV'), 1190),\n",
              " (('알', 'VV+ETM'), 1180),\n",
              " (('모든', 'MM'), 1177),\n",
              " (('어', 'EF'), 1175),\n",
              " (('아요', 'EF'), 1171),\n",
              " (('5', 'SN'), 1169),\n",
              " (('아직', 'MAG'), 1167),\n",
              " (('라고', 'EC'), 1163),\n",
              " (('처럼', 'JKB'), 1158),\n",
              " (('분', 'NNB'), 1151),\n",
              " (('별', 'MM'), 1150),\n",
              " (('자체', 'NNG'), 1150),\n",
              " (('4', 'SN'), 1149),\n",
              " (('아닌', 'VCN+ETM'), 1146),\n",
              " (('가', 'JKC'), 1143),\n",
              " (('대박', 'NNG'), 1142),\n",
              " (('추천', 'NNG'), 1142),\n",
              " (('눈', 'NNG'), 1140),\n",
              " (('몰입', 'NNG'), 1133),\n",
              " (('와', 'JKB'), 1127),\n",
              " (('실망', 'NNG'), 1112),\n",
              " (('인지', 'VCP+EC'), 1112),\n",
              " (('하', 'VX'), 1109),\n",
              " (('스럽', 'XSA'), 1101),\n",
              " (('대한', 'VV+ETM'), 1099),\n",
              " (('몇', 'MM'), 1096),\n",
              " (('뿐', 'NNB'), 1091),\n",
              " (('라', 'VCP+EC'), 1090),\n",
              " (('은데', 'EC'), 1088),\n",
              " (('서', 'JKB'), 1083),\n",
              " (('랑', 'JKB'), 1083),\n",
              " (('용', 'XSN'), 1080),\n",
              " (('솔직히', 'MAG'), 1079),\n",
              " (('ㅎ', 'IC'), 1079),\n",
              " (('그런', 'MM'), 1076),\n",
              " (('캐릭터', 'NNG'), 1074),\n",
              " (('된', 'XSV+ETM'), 1070),\n",
              " (('나', 'JC'), 1070),\n",
              " (('아주', 'MAG'), 1068),\n",
              " (('된', 'VV+ETM'), 1065),\n",
              " (('나', 'JX'), 1059),\n",
              " (('-', 'SY'), 1056),\n",
              " (('가족', 'NNG'), 1052),\n",
              " (('여운', 'NNG'), 1052),\n",
              " (('전혀', 'MAG'), 1048),\n",
              " (('연기력', 'NNG'), 1036),\n",
              " (('후', 'NNG'), 1033),\n",
              " (('유치', 'XR'), 1029),\n",
              " (('그', 'NP'), 1028),\n",
              " (('나라', 'NNG'), 1024),\n",
              " ((';', 'SY'), 1017),\n",
              " (('쓰', 'VV'), 1014),\n",
              " (('시리즈', 'NNG'), 1010),\n",
              " (('근데', 'MAJ'), 1007),\n",
              " (('이나', 'JC'), 997),\n",
              " (('요', 'JX'), 993),\n",
              " (('표현', 'NNG'), 979),\n",
              " (('모습', 'NNG'), 977),\n",
              " (('공감', 'NNG'), 966),\n",
              " (('냐', 'VCP+EF'), 963),\n",
              " (('먹', 'VV'), 960),\n",
              " (('\"\"\"\"', 'SY'), 956),\n",
              " (('제목', 'NNG'), 955),\n",
              " (('7', 'SN'), 955),\n",
              " (('뭔가', 'NP+VCP+EC'), 952),\n",
              " (('볼', 'VX+ETM'), 950),\n",
              " (('극장', 'NNG'), 943),\n",
              " (('울', 'VV'), 942),\n",
              " (('이걸', 'NP+JKO'), 935),\n",
              " (('다면', 'EC'), 931),\n",
              " (('0', 'SN'), 930),\n",
              " (('OO', 'SL'), 928),\n",
              " (('그렇', 'VA'), 928),\n",
              " (('지', 'VCP+EF'), 926),\n",
              " (('대사', 'NNG'), 926),\n",
              " (('부분', 'NNG'), 925),\n",
              " (('어디', 'NP'), 917),\n",
              " (('저', 'NP'), 917),\n",
              " (('작가', 'NNG'), 915),\n",
              " (('기분', 'NNG'), 911),\n",
              " (('아쉽', 'VA'), 910),\n",
              " (('개봉', 'NNG'), 908),\n",
              " (('진심', 'NNG'), 903),\n",
              " (('가', 'VX'), 902),\n",
              " (('타임', 'NNG'), 897),\n",
              " (('/', 'SC'), 883),\n",
              " (('일', 'NNG'), 883),\n",
              " (('계속', 'MAG'), 882),\n",
              " (('바', 'NNB'), 878),\n",
              " (('웃기', 'VV'), 876),\n",
              " (('을까', 'EF'), 874),\n",
              " (('막장', 'NNG'), 873),\n",
              " (('대단', 'XR'), 871),\n",
              " (('친구', 'NNG'), 867),\n",
              " (('잔잔', 'XR'), 865),\n",
              " (('어', 'IC'), 861),\n",
              " (('완전', 'NNG'), 857),\n",
              " (('딱', 'MAG'), 854),\n",
              " (('보이', 'VV'), 853),\n",
              " (('억지', 'NNG'), 853),\n",
              " (('나', 'VX'), 853),\n",
              " (('영상', 'NNG'), 853),\n",
              " (('찾', 'VV'), 852),\n",
              " (('삶', 'NNG'), 849),\n",
              " (('노', 'NNP'), 848),\n",
              " (('중간', 'NNG'), 846),\n",
              " (('\"\"\"', 'SY'), 845),\n",
              " (('스릴러', 'NNG'), 845),\n",
              " (('....', 'SY'), 844),\n",
              " (('8', 'SN'), 841),\n",
              " (('믿', 'VV'), 841),\n",
              " (('싫', 'VA'), 841),\n",
              " (('다', 'VCP+EC'), 838),\n",
              " (('아까운', 'VA+ETM'), 838),\n",
              " (('모두', 'MAG'), 837),\n",
              " (('나왔', 'VV+EP'), 833),\n",
              " (('점수', 'NNG'), 832),\n",
              " (('긴장감', 'NNG'), 828),\n",
              " (('부족', 'NNG'), 824),\n",
              " (('개인', 'NNG'), 823),\n",
              " (('해서', 'VV+EC'), 822),\n",
              " (('제대로', 'MAG'), 820),\n",
              " (('해', 'XSA+EC'), 818),\n",
              " (('이유', 'NNG'), 814),\n",
              " (('화', 'XSN'), 813),\n",
              " (('될', 'VV+ETM'), 813),\n",
              " (('노래', 'NNG'), 808),\n",
              " (('시작', 'NNG'), 808),\n",
              " (('물', 'NNG'), 808),\n",
              " (('죠', 'EF'), 800),\n",
              " (('지금', 'NNG'), 799),\n",
              " (('이', 'NP'), 798),\n",
              " (('특히', 'MAG'), 795),\n",
              " (('한테', 'JKB'), 788),\n",
              " (('아름다운', 'VA+ETM'), 779),\n",
              " (('해서', 'XSA+EC'), 776),\n",
              " (('놓', 'VX'), 775),\n",
              " (('시대', 'NNG'), 770),\n",
              " (('ㅜㅜ', 'UNKNOWN'), 766),\n",
              " (('어떻게', 'MAG'), 763),\n",
              " (('엔딩', 'NNG'), 762),\n",
              " (('대', 'NNBC'), 761),\n",
              " (('당시', 'NNG'), 759),\n",
              " (('하지만', 'MAJ'), 759),\n",
              " (('나름', 'NNB'), 757),\n",
              " (('무섭', 'VA'), 757),\n",
              " (('나온', 'VV+ETM'), 756),\n",
              " (('제일', 'MAG'), 755),\n",
              " (('이것', 'NP'), 753),\n",
              " (('오랜만', 'NNG'), 750),\n",
              " (('9', 'SN'), 749),\n",
              " (('차라리', 'MAG'), 744),\n",
              " (('팬', 'NNG'), 744),\n",
              " (('느낌', 'MAG'), 742),\n",
              " (('자', 'EC'), 736),\n",
              " (('이나', 'JX'), 735),\n",
              " (('세상', 'NNG'), 734),\n",
              " (('는다', 'EF'), 734),\n",
              " (('려고', 'EC'), 731),\n",
              " (('이제', 'MAG'), 729),\n",
              " (('잼', 'VV+ETN'), 729),\n",
              " (('의미', 'NNG'), 723),\n",
              " (('네', 'XSN'), 721),\n",
              " (('보다', 'MAG'), 720),\n",
              " (('못하', 'VX'), 716),\n",
              " (('따뜻', 'XR'), 715),\n",
              " (('명', 'NNBC'), 712),\n",
              " (('대', 'XPN'), 712),\n",
              " (('강추', 'NNG'), 711),\n",
              " (('훌륭', 'XR'), 711),\n",
              " (('욕', 'NNG'), 710),\n",
              " (('너무나', 'MAG'), 708),\n",
              " (('함', 'XSV+ETN'), 707),\n",
              " (('ㅡ', 'UNKNOWN'), 707),\n",
              " (('마', 'VX'), 696),\n",
              " (('남', 'NNG'), 693),\n",
              " (('도대체', 'MAG'), 693),\n",
              " (('치', 'VV'), 692),\n",
              " (('인가', 'VCP+EF'), 691),\n",
              " (('조금', 'MAG'), 689),\n",
              " (('답답', 'XR'), 685),\n",
              " (('같이', 'MAG'), 683),\n",
              " (('였', 'EP'), 679),\n",
              " (('전쟁', 'NNG'), 679),\n",
              " (('비', 'XPN'), 678),\n",
              " (('합니다', 'XSV+EF'), 678),\n",
              " (('수작', 'NNG'), 677),\n",
              " (('설정', 'NNG'), 676),\n",
              " (('무엇', 'NP'), 674),\n",
              " (('느끼', 'VV'), 672),\n",
              " (('흥미', 'NNG'), 671),\n",
              " (('그저', 'MAG'), 670),\n",
              " (('다니', 'EF'), 670),\n",
              " (('빼', 'VV'), 670),\n",
              " (('만화', 'NNG'), 669),\n",
              " (('감정', 'NNG'), 667),\n",
              " (('놈', 'NNB'), 666),\n",
              " (('미국', 'NNP'), 666),\n",
              " (('일', 'VCP+ETM'), 665),\n",
              " (('저', 'MM'), 665),\n",
              " (('어야', 'EC'), 664),\n",
              " (('행복', 'NNG'), 660),\n",
              " (('앞', 'NNG'), 653),\n",
              " (('냐', 'EC'), 650),\n",
              " (('글', 'NNG'), 650),\n",
              " (('건지', 'NNB+VCP+EC'), 646),\n",
              " (('관객', 'NNG'), 645),\n",
              " (('배경', 'NNG'), 645),\n",
              " (('시절', 'NNG'), 645),\n",
              " (('6', 'SN'), 645),\n",
              " (('초반', 'NNG'), 642),\n",
              " (('와', 'IC'), 642),\n",
              " (('웃음', 'NNG'), 641),\n",
              " (('구', 'EC'), 641),\n",
              " (('OOO', 'SL'), 641),\n",
              " (('엄청', 'MAG'), 641),\n",
              " (('음', 'IC'), 640),\n",
              " (('마다', 'JX'), 639),\n",
              " (('절대', 'MAG'), 639),\n",
              " (('자신', 'NNG'), 635),\n",
              " (('잇', 'VV'), 634),\n",
              " (('준', 'VX+ETM'), 632),\n",
              " (('한다', 'XSV+EF'), 631),\n",
              " (('뻔', 'NNB'), 629),\n",
              " (('멋있', 'VA'), 626),\n",
              " (('니까', 'EC'), 625),\n",
              " (('시나리오', 'NNG'), 624),\n",
              " (('슬프', 'VA'), 624),\n",
              " (('소름', 'NNG'), 621),\n",
              " (('어도', 'EC'), 620),\n",
              " (('어색', 'XR'), 620),\n",
              " (('밖에', 'JX'), 619),\n",
              " (('정신', 'NNG'), 618),\n",
              " (('분위기', 'NNG'), 617),\n",
              " (('멋진', 'VA+ETM'), 614),\n",
              " (('날', 'NNG'), 614),\n",
              " (('그래도', 'MAJ'), 611),\n",
              " (('란', 'ETM'), 610),\n",
              " (('추억', 'NNG'), 609),\n",
              " (('신선', 'XR'), 609),\n",
              " (('봐야', 'VV+EC'), 605),\n",
              " (('졸작', 'NNG'), 604),\n",
              " (('어이없', 'VA'), 604),\n",
              " (('네요', 'VCP+EC'), 602),\n",
              " (('킬링', 'NNP'), 598),\n",
              " (('걍', 'UNKNOWN'), 598),\n",
              " (('문제', 'NNG'), 597),\n",
              " (('구성', 'NNG'), 596),\n",
              " (('엄마', 'NNG'), 596),\n",
              " (('함께', 'MAG'), 595),\n",
              " (('잊', 'VV'), 592),\n",
              " (('한', 'VV+ETM'), 591),\n",
              " (('지만', 'VCP+EC'), 591),\n",
              " (('야', 'EC'), 587),\n",
              " (('스러운', 'XSA+ETM'), 585),\n",
              " (('뭘', 'NP+JKO'), 580),\n",
              " (('어떤', 'MM'), 580),\n",
              " (('소리', 'NNG'), 579),\n",
              " (('오', 'NR'), 579),\n",
              " (('역사', 'NNG'), 576),\n",
              " (('위해', 'VV+EC'), 575),\n",
              " (('20', 'SN'), 575),\n",
              " (('이딴', 'MM'), 574),\n",
              " (('야', 'EF'), 569),\n",
              " (('코믹', 'NNG'), 567),\n",
              " (('아무리', 'MAG'), 567),\n",
              " (('작', 'NNG'), 567),\n",
              " (('!!!', 'SY'), 564),\n",
              " (('완벽', 'NNG'), 564),\n",
              " (('~~~', 'SY'), 564),\n",
              " (('맘', 'NNG'), 562),\n",
              " (('얼마나', 'MAG'), 562),\n",
              " (('이랑', 'JC'), 561),\n",
              " (('적', 'NNB'), 557),\n",
              " (('볼', 'NNG'), 557),\n",
              " (('해도', 'VV+EC'), 556),\n",
              " (('류', 'XSN'), 555),\n",
              " (('내', 'MM'), 554),\n",
              " (('애니메이션', 'NNG'), 554),\n",
              " (('주연', 'NNG'), 554),\n",
              " (('신', 'NNG'), 554),\n",
              " (('잡', 'VV'), 553),\n",
              " (('♥', 'SY'), 552),\n",
              " (('넘', 'VV'), 552),\n",
              " (('집', 'NNG'), 550),\n",
              " (('어릴', 'VA+ETM'), 548),\n",
              " (('다니', 'EC'), 547),\n",
              " (('후회', 'NNG'), 546),\n",
              " (('구나', 'EF'), 545),\n",
              " (('대', 'XSN'), 545),\n",
              " (('장난', 'NNG'), 541),\n",
              " (('제발', 'MAG'), 540),\n",
              " (('책', 'NNG'), 538),\n",
              " (('큰', 'VA+ETM'), 535),\n",
              " (('뭔', 'MM'), 535),\n",
              " (('영화관', 'NNG'), 534),\n",
              " (('개연', 'NNG'), 533),\n",
              " (('출연', 'NNG'), 533),\n",
              " (('면', 'VCP+EC'), 531),\n",
              " (('극', 'NNG'), 530),\n",
              " (('ㅅ', 'NNG'), 529),\n",
              " (('밖', 'NNG'), 528),\n",
              " (('힘들', 'VA'), 527),\n",
              " (('충격', 'NNG'), 526),\n",
              " (('합니다', 'XSA+EF'), 526),\n",
              " (('랑', 'JC'), 525),\n",
              " (('더니', 'EC'), 525),\n",
              " (('아름답', 'VA'), 525),\n",
              " (('진부', 'XR'), 523),\n",
              " (('나올', 'VV+ETM'), 523),\n",
              " (('됨', 'VV+ETN'), 522),\n",
              " (('얘기', 'NNG'), 517),\n",
              " (('평가', 'NNG'), 515),\n",
              " (('인가', 'VCP+EC'), 515),\n",
              " (('러', 'EC'), 515),\n",
              " (('예술', 'NNG'), 513),\n",
              " (('매우', 'MAG'), 511),\n",
              " (('할', 'XSA+ETM'), 511),\n",
              " (('위한', 'VV+ETM'), 508),\n",
              " (('여기', 'NP'), 507),\n",
              " (('읽', 'VV'), 506),\n",
              " (('이후', 'NNG'), 506),\n",
              " (('갈수록', 'MAG'), 505),\n",
              " (('얼굴', 'NNG'), 505),\n",
              " (('자기', 'NP'), 505),\n",
              " (('꽤', 'MAG'), 503),\n",
              " (('낭비', 'NNG'), 503),\n",
              " (('티비', 'NNG'), 503),\n",
              " (('이쁘', 'VA'), 503),\n",
              " (('라', 'EF'), 502),\n",
              " (('옛날', 'NNG'), 502),\n",
              " (('별점', 'NNG'), 501),\n",
              " (('깊', 'VA'), 501),\n",
              " (('불쌍', 'XR'), 501),\n",
              " (('시청', 'NNG'), 496),\n",
              " (('순수', 'NNG'), 496),\n",
              " (('둘', 'NR'), 494),\n",
              " (('비디오', 'NNG'), 491),\n",
              " (('머리', 'NNG'), 491),\n",
              " (('애니', 'NNP'), 491),\n",
              " (('장르', 'NNG'), 490),\n",
              " (('오', 'VV'), 489),\n",
              " (('+', 'SY'), 489),\n",
              " (('점', 'NNG'), 488),\n",
              " (('참', 'IC'), 487),\n",
              " (('첨', 'NNG'), 486),\n",
              " ((':', 'SC'), 484),\n",
              " (('주제', 'NNG'), 482),\n",
              " (('전', 'MM'), 481),\n",
              " (('다큐', 'NNG'), 481),\n",
              " (('못한', 'VX+ETM'), 481),\n",
              " (('다음', 'NNG'), 481),\n",
              " (('사', 'VV'), 481),\n",
              " (('그래서', 'MAJ'), 479),\n",
              " (('그렇게', 'MAG'), 478),\n",
              " (('누구', 'NP'), 478),\n",
              " (('궁금', 'XR'), 478),\n",
              " (('예전', 'NNG'), 476),\n",
              " (('등', 'NNB'), 475),\n",
              " (('요즘', 'NNG'), 474),\n",
              " (('동안', 'NNG'), 473),\n",
              " (('이리', 'MAG'), 472),\n",
              " (('??', 'SY'), 472),\n",
              " (('고', 'VCP+EC'), 471),\n",
              " (('인상', 'NNG'), 471),\n",
              " (('상황', 'NNG'), 471),\n",
              " (('이름', 'NNG'), 471),\n",
              " (('감사', 'NNG'), 471),\n",
              " (('스릴', 'NNG'), 470),\n",
              " (('보고', 'JKB'), 469),\n",
              " (('미친', 'VV+ETM'), 469),\n",
              " (('형', 'NNG'), 469),\n",
              " (('보단', 'JKB+JX'), 468),\n",
              " (('라면', 'EC'), 467),\n",
              " (('뒤', 'NNG'), 466),\n",
              " (('시즌', 'NNG'), 466),\n",
              " (('생각나', 'VV'), 465),\n",
              " (('뻔한', 'VA+ETM'), 465),\n",
              " (('B', 'SL'), 464),\n",
              " (('집중', 'NNG'), 462),\n",
              " (('힘', 'NNG'), 462),\n",
              " (('어느', 'MM'), 460),\n",
              " (('로맨스', 'NNG'), 459),\n",
              " (('그만', 'MAG'), 458),\n",
              " (('나요', 'EF'), 455),\n",
              " (('신', 'EP+ETM'), 455),\n",
              " (('반', 'NNG'), 455),\n",
              " (('엇', 'EP'), 454),\n",
              " (('방송', 'NNG'), 454),\n",
              " (('그나마', 'MAG'), 454),\n",
              " (('겟', 'EP'), 453),\n",
              " (('으나', 'EC'), 453),\n",
              " (('꿈', 'NNG'), 451),\n",
              " (('처음', 'MAG'), 451),\n",
              " (('소설', 'NNG'), 450),\n",
              " (('여주인공', 'NNG'), 450),\n",
              " (('걸작', 'NNG'), 450),\n",
              " (('너', 'NP'), 450),\n",
              " (('와', 'VV+EC'), 449),\n",
              " (('존나', 'MAG'), 448),\n",
              " (('그대로', 'MAG'), 447),\n",
              " (('죽이', 'VV'), 447),\n",
              " (('인물', 'NNG'), 447),\n",
              " (('만큼', 'NNB'), 447),\n",
              " (('그것', 'NP'), 446),\n",
              " (('떨어지', 'VV'), 446),\n",
              " (('나와서', 'VV+EC'), 444),\n",
              " (('진', 'EC+JX'), 444),\n",
              " (('났', 'VV+EP'), 444),\n",
              " (('낫', 'VA'), 443),\n",
              " (('게', 'NNB+JKC'), 442),\n",
              " (('만점', 'NNG'), 442),\n",
              " (('실화', 'NNG'), 441),\n",
              " (('오래', 'MAG'), 441),\n",
              " (('된다', 'VV+EF'), 440),\n",
              " (('아', 'VV'), 439),\n",
              " (('일', 'NR'), 438),\n",
              " (('훨씬', 'MAG'), 438),\n",
              " (('드', 'VV'), 437),\n",
              " (('~!', 'SY'), 436),\n",
              " (('기', 'NNG'), 435),\n",
              " (('발연기', 'NNG'), 434),\n",
              " (('사회', 'NNG'), 434),\n",
              " (('전체', 'NNG'), 434),\n",
              " (('살', 'NNBC'), 433),\n",
              " (('ㅜ', 'UNKNOWN'), 432),\n",
              " (('비슷', 'XR'), 431),\n",
              " (('누가', 'NP+JKS'), 431),\n",
              " (('씬', 'NNP'), 431),\n",
              " (('됐', 'VV+EP'), 430),\n",
              " (('30', 'SN'), 430),\n",
              " (('니', 'NP'), 430),\n",
              " (('씬', 'NNB+JX'), 429),\n",
              " (('짜리', 'XSN'), 428),\n",
              " (('미', 'NNG'), 428),\n",
              " (('엉성', 'XR'), 427),\n",
              " (('CG', 'SL'), 426),\n",
              " (('귀엽', 'VA'), 426),\n",
              " (('감', 'XSN'), 425),\n",
              " (('아니', 'IC'), 425),\n",
              " (('여', 'EC'), 425),\n",
              " (('영상미', 'NNG'), 424),\n",
              " (('여주', 'NNG'), 424),\n",
              " (('초딩', 'NNG'), 422),\n",
              " (('오늘', 'MAG'), 422),\n",
              " (('네요', 'VCP+EF'), 422),\n",
              " (('비교', 'NNG'), 422),\n",
              " (('중국', 'NNP'), 421),\n",
              " (('는지', 'EF'), 420),\n",
              " (('감성', 'NNG'), 419),\n",
              " (('네이버', 'NNP'), 419),\n",
              " (('세계', 'NNG'), 419),\n",
              " (('라도', 'VCP+EC'), 418),\n",
              " (('여배우', 'NNG'), 418),\n",
              " (('사실', 'NNG'), 418),\n",
              " (('그러', 'VV'), 417),\n",
              " (('입니다', 'VCP+EC'), 416),\n",
              " (('더럽', 'VA'), 415),\n",
              " (('ㅎㅎㅎ', 'IC'), 412),\n",
              " (('크', 'VA'), 411),\n",
              " (('순간', 'NNG'), 409),\n",
              " (('가지', 'VV'), 409),\n",
              " ((';;;', 'SY'), 408),\n",
              " (('나이', 'NNG'), 408),\n",
              " (('려는', 'ETM'), 406),\n",
              " (('대해', 'VV+EC'), 404),\n",
              " (('결국', 'NNG'), 403),\n",
              " (('배', 'NNG'), 403),\n",
              " (('어렸', 'VA+EP'), 403),\n",
              " (('버리', 'VX'), 402),\n",
              " (('아', 'EF'), 402),\n",
              " (('봐서', 'VV+EC'), 401),\n",
              " (('느껴', 'VV+EC'), 401),\n",
              " (('아', 'JKV'), 400),\n",
              " (('가능', 'NNG'), 399),\n",
              " (('유치', 'NNG'), 399),\n",
              " (('그래도', 'VV+EC'), 398),\n",
              " (('어설픈', 'VA+ETM'), 398),\n",
              " (('학교', 'NNG'), 397),\n",
              " (('캐스팅', 'NNP'), 397),\n",
              " (('100', 'SN'), 397),\n",
              " (('라도', 'EC'), 396),\n",
              " (('작', 'VA'), 396),\n",
              " (('성룡', 'NNP'), 396),\n",
              " (('건지', 'NNB+VCP+EF'), 396),\n",
              " (('첫', 'MM'), 395),\n",
              " (('아들', 'NNG'), 394),\n",
              " (('느낄', 'VV+ETM'), 394),\n",
              " (('갔', 'VV+EP'), 394),\n",
              " (('더라', 'EF'), 392),\n",
              " (('망', 'NNG'), 392),\n",
              " (('평', 'NNG'), 392),\n",
              " (('봄', 'NNG'), 391),\n",
              " (('.....', 'SY'), 390),\n",
              " (('어린', 'VA+ETM'), 389),\n",
              " (('시키', 'XSV'), 389),\n",
              " (('멋지', 'VA'), 388),\n",
              " (('셨', 'EP+EP'), 388),\n",
              " (('교훈', 'NNG'), 387),\n",
              " (('바로', 'MAG'), 386),\n",
              " (('무', 'XPN'), 385),\n",
              " (('하', 'IC'), 385),\n",
              " (('한마디', 'NNG'), 385),\n",
              " (('이랑', 'JKB'), 384),\n",
              " (('맛', 'NNG'), 384),\n",
              " (('줬', 'VX+EP'), 382),\n",
              " (('한다', 'VX+EF'), 382),\n",
              " (('아야', 'EC'), 381),\n",
              " (('판타지', 'NNG'), 380),\n",
              " (('당신', 'NP'), 380),\n",
              " (('삼류', 'NNG'), 379),\n",
              " (('편', 'NNB'), 378),\n",
              " (('아까움', 'VA+ETN'), 377),\n",
              " (('화려', 'XR'), 375),\n",
              " (('요즘', 'MAG'), 375),\n",
              " (('은데', 'EF'), 375),\n",
              " (('답', 'NNG'), 373),\n",
              " (('똥', 'NNG'), 373),\n",
              " (('땜', 'NNB'), 373),\n",
              " (('자', 'EF'), 373),\n",
              " (('참', 'VV'), 372),\n",
              " (('끝나', 'VV'), 372),\n",
              " (('만들', 'VV+ETM'), 372),\n",
              " (('목소리', 'NNG'), 371),\n",
              " (('뿐', 'JX'), 371),\n",
              " (('빨리', 'MAG'), 371),\n",
              " (('딸', 'NNG'), 369),\n",
              " (('해야', 'XSV+EC'), 368),\n",
              " (('듣', 'VV'), 367),\n",
              " (('안', 'NNG'), 367),\n",
              " (('허접', 'NNG'), 367),\n",
              " (('는다', 'EC'), 367),\n",
              " (('대체', 'MAG'), 367),\n",
              " (('거의', 'MAG'), 367),\n",
              " (('ㅉㅉ', 'UNKNOWN'), 366),\n",
              " (('유쾌', 'XR'), 364),\n",
              " (('가치', 'NNG'), 364),\n",
              " (('다르', 'VA'), 363),\n",
              " (('만큼', 'JKB'), 362),\n",
              " (('난다', 'VV+EF'), 362),\n",
              " (('제', 'NP'), 362),\n",
              " (('어른', 'NNG'), 361),\n",
              " (('내', 'VX'), 360),\n",
              " (('봐', 'VV+EC'), 360),\n",
              " (('식', 'NNB'), 359),\n",
              " (('준', 'VV+ETM'), 358),\n",
              " (('에요', 'EF'), 357),\n",
              " (('끌', 'VV'), 356),\n",
              " (('상당히', 'MAG'), 356),\n",
              " (('화', 'NNG'), 356),\n",
              " (('90', 'SN'), 355),\n",
              " (('률', 'XSN'), 355),\n",
              " (('인데', 'VCP+EF'), 354),\n",
              " (('질질', 'MAG'), 354),\n",
              " (('넣', 'VV'), 353),\n",
              " (('세', 'MM'), 353),\n",
              " (('아버지', 'NNG'), 353),\n",
              " (('평론가', 'NNG'), 352),\n",
              " (('갑자기', 'MAG'), 352),\n",
              " (('약간', 'MAG'), 352),\n",
              " (('줄거리', 'NNG'), 352),\n",
              " (('이번', 'NNG'), 351),\n",
              " (('굳', 'NNG'), 349),\n",
              " (('건가', 'NNB+VCP+EF'), 348),\n",
              " (('한번', 'MAG'), 348),\n",
              " (('그러나', 'MAJ'), 348),\n",
              " (('여러', 'MM'), 348),\n",
              " (('냐', 'VCP+EC'), 347),\n",
              " (('ㅂ', 'NNG'), 347),\n",
              " (('그', 'IC'), 347),\n",
              " (('의도', 'NNG'), 346),\n",
              " (('포스터', 'NNG'), 346),\n",
              " (('존재', 'NNG'), 346),\n",
              " (('쯤', 'XSN'), 345),\n",
              " (('씩', 'XSN'), 345),\n",
              " (('밑', 'NNG'), 345),\n",
              " (('%', 'SY'), 344),\n",
              " (('마세요', 'VX+EP+EF'), 344),\n",
              " (('허무', 'NNG'), 344),\n",
              " (('저런', 'MM'), 344),\n",
              " (('스타일', 'NNG'), 344),\n",
              " (('에선', 'JKB+JX'), 342),\n",
              " (('각본', 'NNG'), 342),\n",
              " (('말', 'VV'), 341),\n",
              " (('예상', 'NNG'), 341),\n",
              " (('지루함', 'NNP'), 340),\n",
              " (('그녀', 'NP'), 338),\n",
              " (('너무너무', 'MAG'), 338),\n",
              " (('화면', 'NNG'), 338),\n",
              " (('면', 'NNG'), 337),\n",
              " (('판', 'NNG'), 337),\n",
              " (('을까', 'EC'), 336),\n",
              " (('ㄱ', 'NNG'), 335),\n",
              " (('으면서', 'EC'), 335),\n",
              " (('존', 'NNP'), 334),\n",
              " (('티', 'NNG'), 333),\n",
              " (('예쁘', 'VA'), 332),\n",
              " (('비해', 'VV+EC'), 332),\n",
              " (('째', 'XSN'), 331),\n",
              " (('던데', 'EC'), 330),\n",
              " (('자연', 'NNG'), 330),\n",
              " (('머', 'NP'), 329),\n",
              " (('길래', 'EC'), 329),\n",
              " (('성우', 'NNG'), 328),\n",
              " (('평범', 'XR'), 327),\n",
              " (('굉장히', 'MAG'), 327),\n",
              " (('그런지', 'VA+EC'), 327),\n",
              " (('다운', 'NNG'), 326),\n",
              " (('슬픈', 'VA+ETM'), 325),\n",
              " (('못했', 'VX+EP'), 324),\n",
              " (('복수', 'NNG'), 324),\n",
              " (('관람', 'NNG'), 324),\n",
              " (('새로운', 'VA+ETM'), 322),\n",
              " (('일단', 'MAG'), 322),\n",
              " (('댓글', 'NNG'), 322),\n",
              " (('던데', 'EF'), 322),\n",
              " (('극장판', 'NNP'), 321),\n",
              " (('제작', 'NNG'), 320),\n",
              " (('단순', 'NNG'), 319),\n",
              " (('진', 'VX+ETM'), 318),\n",
              " (('선택', 'NNG'), 318),\n",
              " (('진행', 'NNG'), 317),\n",
              " (('아빠', 'NNG'), 317),\n",
              " (('요', 'EC'), 317),\n",
              " (('원', 'NNBC'), 317),\n",
              " (('쓴', 'VV+ETM'), 316),\n",
              " (('TV', 'SL'), 316),\n",
              " (('요소', 'NNG'), 316),\n",
              " (('불편', 'NNG'), 316),\n",
              " (('만족', 'NNG'), 315),\n",
              " (('한편', 'NNG'), 315),\n",
              " (('항상', 'MAG'), 315),\n",
              " (('내', 'VV'), 314),\n",
              " (('진정', 'XR'), 314),\n",
              " (('거기', 'NP'), 313),\n",
              " (('연출력', 'NNG'), 310),\n",
              " (('길', 'VA'), 310),\n",
              " (('그때', 'NNG'), 309),\n",
              " (('잃', 'VV'), 309),\n",
              " (('잘못', 'MAG'), 309),\n",
              " (('이러', 'VV'), 308),\n",
              " (('에로', 'NNG'), 307),\n",
              " (('세', 'NNBC'), 306),\n",
              " (('회', 'NNBC'), 306),\n",
              " (('잔인', 'NNG'), 306),\n",
              " (('내내', 'NNB'), 305),\n",
              " (('흥행', 'NNG'), 304),\n",
              " (('왔', 'VX+EP'), 303),\n",
              " (('준다', 'VV+EF'), 303),\n",
              " (('꺼', 'NNB+VCP'), 301),\n",
              " (('한심', 'XR'), 301),\n",
              " (('따라', 'VV+EC'), 301),\n",
              " (('쉽', 'VA'), 301),\n",
              " (('전형', 'NNG'), 301),\n",
              " (('점점', 'MAG'), 300),\n",
              " (('관계', 'NNG'), 300),\n",
              " (('역대', 'NNG'), 300),\n",
              " (('편집', 'NNG'), 300),\n",
              " (('짧', 'VA'), 298),\n",
              " (('아무', 'MM'), 297),\n",
              " (('거나', 'EC'), 297),\n",
              " (('만', 'NR'), 297),\n",
              " (('충분히', 'MAG'), 296),\n",
              " (('안타깝', 'VA'), 296),\n",
              " (('니', 'EF'), 296),\n",
              " (('에겐', 'JKB+JX'), 295),\n",
              " (('롭', 'XSA'), 294),\n",
              " (('tv', 'SL'), 293),\n",
              " (('언제', 'MAG'), 292),\n",
              " (('80', 'SN'), 292),\n",
              " (('몰랐', 'VV+EP'), 291),\n",
              " (('훈훈', 'XR'), 290),\n",
              " (('중요', 'NNG'), 290),\n",
              " (('-_-', 'SY'), 290),\n",
              " (('자꾸', 'MAG'), 289),\n",
              " (('텐데', 'NNB+VCP+EC'), 289),\n",
              " (('이', 'NR'), 288),\n",
              " (('가지', 'NNBC'), 288),\n",
              " (('허접', 'XR'), 287),\n",
              " (('줄', 'VV+ETM'), 286),\n",
              " (('게임', 'NNG'), 286),\n",
              " (('는가', 'EF'), 286),\n",
              " (('자극', 'NNG'), 285),\n",
              " (('몸', 'NNG'), 285),\n",
              " (('아요', 'EC'), 284),\n",
              " (('손', 'NNG'), 284),\n",
              " (('~!!', 'SY'), 284),\n",
              " (('발', 'NNG'), 283),\n",
              " (('나쁜', 'VA+ETM'), 283),\n",
              " (('어쩔', 'VV+ETM'), 283),\n",
              " (('사건', 'NNG'), 283),\n",
              " ...]"
            ]
          },
          "metadata": {
            "tags": []
          },
          "execution_count": 11
        }
      ]
    },
    {
      "cell_type": "code",
      "metadata": {
        "id": "Agt5gZIrEuPt",
        "colab_type": "code",
        "colab": {
          "base_uri": "https://localhost:8080/",
          "height": 55
        },
        "outputId": "713c1217-15af-4b57-fb7b-b49163bb9385"
      },
      "source": [
        "# 불용어 처리\n",
        "stopPos = [# 'SN',          # 숫자\n",
        "           # 'SL',          # 외국어\n",
        "           'SE','SSO','SSC','SC','SY',  # 기호\n",
        "           # 'XSN','XSV','XSA'        # 접미사\n",
        "           'EP', 'EF','EC','ETN','ETM',   # 어미\n",
        "           'JKS','JKC','JKG','JKO','JKB','JKV','JKQ','JC','JX']   # 조사\n",
        "stopWord = ['.']\n",
        "X_train = []\n",
        "for content in mecabTag:\n",
        "  clear = []\n",
        "  for pos in content:\n",
        "    if pos[1] not in stopPos:\n",
        "        if pos[0] not in stopWord:\n",
        "          if len(pos[1]) > 1:\n",
        "            clear.append(pos[0])\n",
        "  X_train.append(' '.join(clear))\n",
        "print(X_train[0:20])"
      ],
      "execution_count": 12,
      "outputs": [
        {
          "output_type": "stream",
          "text": [
            "['아 더 빙 진짜 짜증 나 네요 목소리', '흠 포스터 초딩 영화 줄 오버 연기 가볍 않', '너무 재 밓었다그래서보는것을추천한다', '교도소 이야기 구먼 솔직히 재미 없 평점 조정', '사이몬페그 익살 스런 연기 돋보였 영화 스파이더맨 늙 보이 했 커스틴 던스트 너무나 이뻐 보였', '막 걸음마 뗀 3 세 초등 학교 1 학년 생 인 8 살 용 영화 ㅋㅋㅋ 별반 개 아까움', '원작 긴장감 제대로 살려 내 못했', '별 반개 아깝 욕 나온다 이응경 길용우 연기 생활 몇 년 인지 정말 발 해도 그것 보단 낫 납치 감금 반복 반복 이 드라마 가족 없 연기 못 하 사람 모엿 네', '액션 없 재미 있 몇 안 되 영화', '왜 케 평점 낮 건데 ? 꽤 볼 만한데 헐리우드 식 화려 함 너무 길들여져 있 ?', '걍인피니트가짱이다 진짜 짱 이', '볼 때 눈물나 죽 90 년 대 향수 자극 ! 허진호 감성 절제 멜로 달인 이', '울 손들 횡단 보도 건널 때 뛰쳐나올 뻔 이범수 연기 드럽 못해', '담백 하 깔끔 해서 좋 신문 기사 보다 보 자꾸 잊어버린다 그 들 사람 이 것', '취향 존중 한다지만 진짜 내생 극장 본 영화 중 가장 노 잼 노 감동 임 스토리 어 거지 감동 어거지', 'ㄱ 냥 매번 긴장 되 재 밋 음 ㅠㅠ', '참 사람 들 웃긴 게 바스코 이기면 락스 코 라고 까 바비 이기 아이돌 이 깐다 그냥 까 싶 안달 난 것 보인다', '굿바이 레닌 표절 인 것 이해 하 왜 뒤 갈수록 재미없 지', '이건 정말 깨알 캐스팅 질퍽 하 않 산뜻 한 내용 구성 잘 버 러진 깨알 일 드 !', '약탈자 위한 변명 이라 저놈 들 착한 놈 들 절대 아닌걸요']\n"
          ],
          "name": "stdout"
        }
      ]
    },
    {
      "cell_type": "code",
      "metadata": {
        "id": "T-8OQNgQGYOA",
        "colab_type": "code",
        "colab": {}
      },
      "source": [
        "Y_train = list(df['label'])"
      ],
      "execution_count": 13,
      "outputs": []
    },
    {
      "cell_type": "markdown",
      "metadata": {
        "id": "AwVD3BsGMd5u",
        "colab_type": "text"
      },
      "source": [
        "### 3. sklearn input"
      ]
    },
    {
      "cell_type": "code",
      "metadata": {
        "id": "HrjqFL3ZI8S8",
        "colab_type": "code",
        "colab": {}
      },
      "source": [
        "from sklearn.feature_extraction.text import CountVectorizer\n",
        "from sklearn.feature_extraction.text import TfidfTransformer\n",
        "from sklearn.naive_bayes import MultinomialNB"
      ],
      "execution_count": 14,
      "outputs": []
    },
    {
      "cell_type": "markdown",
      "metadata": {
        "id": "-WrBXJVdMqMU",
        "colab_type": "text"
      },
      "source": [
        "### 4. NB 학습"
      ]
    },
    {
      "cell_type": "code",
      "metadata": {
        "id": "clGyqMNRMsqz",
        "colab_type": "code",
        "colab": {}
      },
      "source": [
        "count_vect = CountVectorizer()  # CountVectorizer 선언\n",
        "X_train_counts = count_vect.fit_transform(X_train)  # fit and transform\n",
        "clf = MultinomialNB().fit(X_train_counts, Y_train)  # MultinomialNB 선언 and fit"
      ],
      "execution_count": 15,
      "outputs": []
    },
    {
      "cell_type": "code",
      "metadata": {
        "id": "37csL6yiJAv6",
        "colab_type": "code",
        "colab": {
          "base_uri": "https://localhost:8080/",
          "height": 70
        },
        "outputId": "fdda86b3-92cb-4bac-9452-430ecb6fd594"
      },
      "source": [
        "a = '와 대박 별로에요'\n",
        "print(a)\n",
        "# 예측\n",
        "print(clf.predict(count_vect.transform([a])))\n",
        "# 확률\n",
        "print(clf.predict_proba(count_vect.transform([a])))"
      ],
      "execution_count": 16,
      "outputs": [
        {
          "output_type": "stream",
          "text": [
            "와 대박 별로에요\n",
            "[1]\n",
            "[[0.17241392 0.82758608]]\n"
          ],
          "name": "stdout"
        }
      ]
    },
    {
      "cell_type": "markdown",
      "metadata": {
        "id": "eJVjdf2HMzLW",
        "colab_type": "text"
      },
      "source": [
        "### 5. TEST 데이터 예측\n",
        "- 데이터 정제\n",
        "- 데이터 토큰화\n",
        "- 불용어 처리\n",
        "- 예측 모델 돌리기"
      ]
    },
    {
      "cell_type": "code",
      "metadata": {
        "id": "cCOV_CuSKe9z",
        "colab_type": "code",
        "colab": {}
      },
      "source": [
        "# 데이터 불러오기\n",
        "df_test = pd.DataFrame(pd.read_csv('ratings_test.txt', sep='\\t', quoting=3))"
      ],
      "execution_count": 17,
      "outputs": []
    },
    {
      "cell_type": "code",
      "metadata": {
        "id": "NZwSpyb_M6uq",
        "colab_type": "code",
        "colab": {
          "base_uri": "https://localhost:8080/",
          "height": 88
        },
        "outputId": "4590a4ed-9ce9-4c37-ca44-ac27f7af7f60"
      },
      "source": [
        "# 데이터 결측치 행 확인하기\n",
        "df_test.isnull().sum()"
      ],
      "execution_count": 18,
      "outputs": [
        {
          "output_type": "execute_result",
          "data": {
            "text/plain": [
              "id          0\n",
              "document    3\n",
              "label       0\n",
              "dtype: int64"
            ]
          },
          "metadata": {
            "tags": []
          },
          "execution_count": 18
        }
      ]
    },
    {
      "cell_type": "code",
      "metadata": {
        "id": "kOI6Sy3ONjBl",
        "colab_type": "code",
        "colab": {}
      },
      "source": [
        "# 데이터 결측치 삭제하기\n",
        "df_test = df_test.dropna()"
      ],
      "execution_count": 19,
      "outputs": []
    },
    {
      "cell_type": "code",
      "metadata": {
        "id": "3wC4hYAF2vta",
        "colab_type": "code",
        "colab": {
          "base_uri": "https://localhost:8080/",
          "height": 194
        },
        "outputId": "58979651-3e7b-436b-f58d-cb262759cffb"
      },
      "source": [
        "df_test.head()"
      ],
      "execution_count": 20,
      "outputs": [
        {
          "output_type": "execute_result",
          "data": {
            "text/html": [
              "<div>\n",
              "<style scoped>\n",
              "    .dataframe tbody tr th:only-of-type {\n",
              "        vertical-align: middle;\n",
              "    }\n",
              "\n",
              "    .dataframe tbody tr th {\n",
              "        vertical-align: top;\n",
              "    }\n",
              "\n",
              "    .dataframe thead th {\n",
              "        text-align: right;\n",
              "    }\n",
              "</style>\n",
              "<table border=\"1\" class=\"dataframe\">\n",
              "  <thead>\n",
              "    <tr style=\"text-align: right;\">\n",
              "      <th></th>\n",
              "      <th>id</th>\n",
              "      <th>document</th>\n",
              "      <th>label</th>\n",
              "    </tr>\n",
              "  </thead>\n",
              "  <tbody>\n",
              "    <tr>\n",
              "      <th>0</th>\n",
              "      <td>6270596</td>\n",
              "      <td>굳 ㅋ</td>\n",
              "      <td>1</td>\n",
              "    </tr>\n",
              "    <tr>\n",
              "      <th>1</th>\n",
              "      <td>9274899</td>\n",
              "      <td>GDNTOPCLASSINTHECLUB</td>\n",
              "      <td>0</td>\n",
              "    </tr>\n",
              "    <tr>\n",
              "      <th>2</th>\n",
              "      <td>8544678</td>\n",
              "      <td>뭐야 이 평점들은.... 나쁘진 않지만 10점 짜리는 더더욱 아니잖아</td>\n",
              "      <td>0</td>\n",
              "    </tr>\n",
              "    <tr>\n",
              "      <th>3</th>\n",
              "      <td>6825595</td>\n",
              "      <td>지루하지는 않은데 완전 막장임... 돈주고 보기에는....</td>\n",
              "      <td>0</td>\n",
              "    </tr>\n",
              "    <tr>\n",
              "      <th>4</th>\n",
              "      <td>6723715</td>\n",
              "      <td>3D만 아니었어도 별 다섯 개 줬을텐데.. 왜 3D로 나와서 제 심기를 불편하게 하죠??</td>\n",
              "      <td>0</td>\n",
              "    </tr>\n",
              "  </tbody>\n",
              "</table>\n",
              "</div>"
            ],
            "text/plain": [
              "        id                                           document  label\n",
              "0  6270596                                                굳 ㅋ      1\n",
              "1  9274899                               GDNTOPCLASSINTHECLUB      0\n",
              "2  8544678             뭐야 이 평점들은.... 나쁘진 않지만 10점 짜리는 더더욱 아니잖아      0\n",
              "3  6825595                   지루하지는 않은데 완전 막장임... 돈주고 보기에는....      0\n",
              "4  6723715  3D만 아니었어도 별 다섯 개 줬을텐데.. 왜 3D로 나와서 제 심기를 불편하게 하죠??      0"
            ]
          },
          "metadata": {
            "tags": []
          },
          "execution_count": 20
        }
      ]
    },
    {
      "cell_type": "code",
      "metadata": {
        "id": "_4FotvnfdHZl",
        "colab_type": "code",
        "colab": {
          "base_uri": "https://localhost:8080/",
          "height": 1000
        },
        "outputId": "1e30a1c2-452d-449c-ad6c-3b2a4faddd80"
      },
      "source": [
        "# 데이터 토큰화\n",
        "mecabTag_test = []\n",
        "for doc in df_test['document']:\n",
        "    mecabTag_test.append(mecab.pos(doc))\n",
        "mecabTag_test[:5]"
      ],
      "execution_count": 21,
      "outputs": [
        {
          "output_type": "execute_result",
          "data": {
            "text/plain": [
              "[[('굳', 'NNG'), ('ㅋ', 'IC')],\n",
              " [('GDNTOPCLASSINTHECLUB', 'SL')],\n",
              " [('뭐', 'NP'),\n",
              "  ('야', 'VCP+EF'),\n",
              "  ('이', 'MM'),\n",
              "  ('평점', 'NNG'),\n",
              "  ('들', 'XSN'),\n",
              "  ('은', 'JX'),\n",
              "  ('.', 'SF'),\n",
              "  ('...', 'SY'),\n",
              "  ('나쁘', 'VA'),\n",
              "  ('진', 'EC+JX'),\n",
              "  ('않', 'VX'),\n",
              "  ('지만', 'EC'),\n",
              "  ('10', 'SN'),\n",
              "  ('점', 'NNBC'),\n",
              "  ('짜리', 'XSN'),\n",
              "  ('는', 'JX'),\n",
              "  ('더더욱', 'MAG'),\n",
              "  ('아니', 'VCN'),\n",
              "  ('잖아', 'EC')],\n",
              " [('지루', 'XR'),\n",
              "  ('하', 'XSA'),\n",
              "  ('지', 'EC'),\n",
              "  ('는', 'JX'),\n",
              "  ('않', 'VX'),\n",
              "  ('은데', 'EC'),\n",
              "  ('완전', 'NNG'),\n",
              "  ('막장', 'NNG'),\n",
              "  ('임', 'VCP+ETN'),\n",
              "  ('.', 'SF'),\n",
              "  ('..', 'SY'),\n",
              "  ('돈', 'NNG'),\n",
              "  ('주', 'VV'),\n",
              "  ('고', 'EC'),\n",
              "  ('보', 'VX'),\n",
              "  ('기', 'ETN'),\n",
              "  ('에', 'JKB'),\n",
              "  ('는', 'JX'),\n",
              "  ('.', 'SF'),\n",
              "  ('...', 'SY')],\n",
              " [('3', 'SN'),\n",
              "  ('D', 'SL'),\n",
              "  ('만', 'JX'),\n",
              "  ('아니', 'VCN'),\n",
              "  ('었', 'EP'),\n",
              "  ('어도', 'EC'),\n",
              "  ('별', 'MM'),\n",
              "  ('다섯', 'NR'),\n",
              "  ('개', 'NNBC'),\n",
              "  ('줬', 'VV+EP'),\n",
              "  ('을', 'ETM'),\n",
              "  ('텐데', 'NNB+VCP+EF'),\n",
              "  ('.', 'SF'),\n",
              "  ('.', 'SY'),\n",
              "  ('왜', 'MAG'),\n",
              "  ('3', 'SN'),\n",
              "  ('D', 'SL'),\n",
              "  ('로', 'JKB'),\n",
              "  ('나와서', 'VV+EC'),\n",
              "  ('제', 'NP+JKG'),\n",
              "  ('심기', 'NNG'),\n",
              "  ('를', 'JKO'),\n",
              "  ('불편', 'NNG'),\n",
              "  ('하', 'XSA'),\n",
              "  ('게', 'EC'),\n",
              "  ('하', 'VX'),\n",
              "  ('죠', 'EF'),\n",
              "  ('?', 'SF'),\n",
              "  ('?', 'SF')]]"
            ]
          },
          "metadata": {
            "tags": []
          },
          "execution_count": 21
        }
      ]
    },
    {
      "cell_type": "code",
      "metadata": {
        "id": "Wp0zshvogPel",
        "colab_type": "code",
        "colab": {
          "base_uri": "https://localhost:8080/",
          "height": 55
        },
        "outputId": "1b5711c4-b60f-468d-cef9-31130113f7b7"
      },
      "source": [
        "# 불용어 처리\n",
        "X_test = []\n",
        "for content in mecabTag_test:\n",
        "  clear = []\n",
        "  for pos in content:\n",
        "    if pos[1] not in stopPos:\n",
        "        if pos[0] not in stopWord:\n",
        "          if len(pos[1]) > 1:          # 한 글자 삭제하기\n",
        "            clear.append(pos[0])\n",
        "  X_test.append(' '.join(clear))\n",
        "print(X_test[0:10])"
      ],
      "execution_count": 22,
      "outputs": [
        {
          "output_type": "stream",
          "text": [
            "['굳 ㅋ', 'GDNTOPCLASSINTHECLUB', '뭐 야 이 평점 들 나쁘 진 않 10 점 짜리 더더욱 아니', '지루 하 않 완전 막장 임 돈 주 보', '3 D 아니 별 다섯 개 줬 텐데 왜 3 D 나와서 제 심기 불편 하 하 ? ?', '음악 주 된 최고 음악 영화', '진정 한 쓰레기', '마치 미국 애니 튀어나온 듯 한 창의 력 없 로봇 디자인 고개 젖 한다', '갈수록 개판 되 가 중국 영화 유치 하 내용 없 폼 잡 끝 남 말 안 되 무기 유치 한 cg 남무 아 그립 동사서독 같 영화 이건 3 류 아류 작 이', '이별 아픔 뒤 찾아오 새로운 인연 기쁨 But 모든 사람 그렇 않']\n"
          ],
          "name": "stdout"
        }
      ]
    },
    {
      "cell_type": "code",
      "metadata": {
        "id": "gI7cqmpTgtzL",
        "colab_type": "code",
        "colab": {}
      },
      "source": [
        "Y_test = list(df_test['label'])"
      ],
      "execution_count": 23,
      "outputs": []
    },
    {
      "cell_type": "code",
      "metadata": {
        "id": "5W9rA0ngWX_h",
        "colab_type": "code",
        "colab": {}
      },
      "source": [
        "# 예측 모델 돌리기\n",
        "test_y = []\n",
        "for i in X_test:\n",
        "  label = clf.predict(count_vect.transform([i]))\n",
        "  test_y.append(label[0])"
      ],
      "execution_count": 24,
      "outputs": []
    },
    {
      "cell_type": "markdown",
      "metadata": {
        "id": "ASjDRAIhjCo4",
        "colab_type": "text"
      },
      "source": [
        "### 6. 정확도 확인"
      ]
    },
    {
      "cell_type": "code",
      "metadata": {
        "id": "u2v6En_TWH-0",
        "colab_type": "code",
        "colab": {
          "base_uri": "https://localhost:8080/",
          "height": 35
        },
        "outputId": "a537ed14-f9a7-493c-fc76-fe220b95bcad"
      },
      "source": [
        "acc = 0\n",
        "for i,label in enumerate(Y_test):\n",
        "  if test_y[i] == label:\n",
        "    acc += 1\n",
        "\n",
        "acc/len(Y_test)*100"
      ],
      "execution_count": 25,
      "outputs": [
        {
          "output_type": "execute_result",
          "data": {
            "text/plain": [
              "81.20487229233754"
            ]
          },
          "metadata": {
            "tags": []
          },
          "execution_count": 25
        }
      ]
    },
    {
      "cell_type": "markdown",
      "metadata": {
        "id": "RrDHJ09_VY7h",
        "colab_type": "text"
      },
      "source": [
        "## 풀이 (by 김현진 선생님)\n",
        "- 아래 코드는 강의 기반으로 작성 되었습니다."
      ]
    },
    {
      "cell_type": "markdown",
      "metadata": {
        "id": "_BtddrdWViQS",
        "colab_type": "text"
      },
      "source": [
        "### 1. 데이터 호출"
      ]
    },
    {
      "cell_type": "code",
      "metadata": {
        "id": "ryo0svr2Vgmc",
        "colab_type": "code",
        "colab": {
          "base_uri": "https://localhost:8080/",
          "height": 211
        },
        "outputId": "616e3949-19f2-42f7-b73a-d05a04eb41b3"
      },
      "source": [
        "import pandas as pd\n",
        "import numpy as np\n",
        "df = pd.DataFrame(pd.read_csv('ratings_train.txt', sep='\\t', quoting=3))\n",
        "df = df.replace(np.nan, '', regex=True)\n",
        "df.head()"
      ],
      "execution_count": 26,
      "outputs": [
        {
          "output_type": "execute_result",
          "data": {
            "text/html": [
              "<div>\n",
              "<style scoped>\n",
              "    .dataframe tbody tr th:only-of-type {\n",
              "        vertical-align: middle;\n",
              "    }\n",
              "\n",
              "    .dataframe tbody tr th {\n",
              "        vertical-align: top;\n",
              "    }\n",
              "\n",
              "    .dataframe thead th {\n",
              "        text-align: right;\n",
              "    }\n",
              "</style>\n",
              "<table border=\"1\" class=\"dataframe\">\n",
              "  <thead>\n",
              "    <tr style=\"text-align: right;\">\n",
              "      <th></th>\n",
              "      <th>id</th>\n",
              "      <th>document</th>\n",
              "      <th>label</th>\n",
              "    </tr>\n",
              "  </thead>\n",
              "  <tbody>\n",
              "    <tr>\n",
              "      <th>0</th>\n",
              "      <td>9976970</td>\n",
              "      <td>아 더빙.. 진짜 짜증나네요 목소리</td>\n",
              "      <td>0</td>\n",
              "    </tr>\n",
              "    <tr>\n",
              "      <th>1</th>\n",
              "      <td>3819312</td>\n",
              "      <td>흠...포스터보고 초딩영화줄....오버연기조차 가볍지 않구나</td>\n",
              "      <td>1</td>\n",
              "    </tr>\n",
              "    <tr>\n",
              "      <th>2</th>\n",
              "      <td>10265843</td>\n",
              "      <td>너무재밓었다그래서보는것을추천한다</td>\n",
              "      <td>0</td>\n",
              "    </tr>\n",
              "    <tr>\n",
              "      <th>3</th>\n",
              "      <td>9045019</td>\n",
              "      <td>교도소 이야기구먼 ..솔직히 재미는 없다..평점 조정</td>\n",
              "      <td>0</td>\n",
              "    </tr>\n",
              "    <tr>\n",
              "      <th>4</th>\n",
              "      <td>6483659</td>\n",
              "      <td>사이몬페그의 익살스런 연기가 돋보였던 영화!스파이더맨에서 늙어보이기만 했던 커스틴 ...</td>\n",
              "      <td>1</td>\n",
              "    </tr>\n",
              "  </tbody>\n",
              "</table>\n",
              "</div>"
            ],
            "text/plain": [
              "         id                                           document  label\n",
              "0   9976970                                아 더빙.. 진짜 짜증나네요 목소리      0\n",
              "1   3819312                  흠...포스터보고 초딩영화줄....오버연기조차 가볍지 않구나      1\n",
              "2  10265843                                  너무재밓었다그래서보는것을추천한다      0\n",
              "3   9045019                      교도소 이야기구먼 ..솔직히 재미는 없다..평점 조정      0\n",
              "4   6483659  사이몬페그의 익살스런 연기가 돋보였던 영화!스파이더맨에서 늙어보이기만 했던 커스틴 ...      1"
            ]
          },
          "metadata": {
            "tags": []
          },
          "execution_count": 26
        }
      ]
    },
    {
      "cell_type": "code",
      "metadata": {
        "id": "vyxj1QoZe8vu",
        "colab_type": "code",
        "colab": {}
      },
      "source": [
        "import re\n",
        "# '한글'을 제외한 다른 문자 모두 제거\n",
        "remove_except_ko = re.compile(r\"[^가-힣ㄱ-ㅎㅏ-ㅣ\\\\s]\")\n",
        "def preprocess(text):\n",
        "    text = re.sub(remove_except_ko,' ',text).strip()\n",
        "    return text\n",
        "\n",
        "df['document'] = df['document'].map(lambda x : preprocess(x))"
      ],
      "execution_count": 27,
      "outputs": []
    },
    {
      "cell_type": "code",
      "metadata": {
        "id": "uOR5jpbOfAs0",
        "colab_type": "code",
        "colab": {
          "base_uri": "https://localhost:8080/",
          "height": 211
        },
        "outputId": "f338a55f-1eee-4fc1-e717-12a2e5ed0afa"
      },
      "source": [
        "df.head()"
      ],
      "execution_count": 28,
      "outputs": [
        {
          "output_type": "execute_result",
          "data": {
            "text/html": [
              "<div>\n",
              "<style scoped>\n",
              "    .dataframe tbody tr th:only-of-type {\n",
              "        vertical-align: middle;\n",
              "    }\n",
              "\n",
              "    .dataframe tbody tr th {\n",
              "        vertical-align: top;\n",
              "    }\n",
              "\n",
              "    .dataframe thead th {\n",
              "        text-align: right;\n",
              "    }\n",
              "</style>\n",
              "<table border=\"1\" class=\"dataframe\">\n",
              "  <thead>\n",
              "    <tr style=\"text-align: right;\">\n",
              "      <th></th>\n",
              "      <th>id</th>\n",
              "      <th>document</th>\n",
              "      <th>label</th>\n",
              "    </tr>\n",
              "  </thead>\n",
              "  <tbody>\n",
              "    <tr>\n",
              "      <th>0</th>\n",
              "      <td>9976970</td>\n",
              "      <td>아 더빙   진짜 짜증나네요 목소리</td>\n",
              "      <td>0</td>\n",
              "    </tr>\n",
              "    <tr>\n",
              "      <th>1</th>\n",
              "      <td>3819312</td>\n",
              "      <td>흠   포스터보고 초딩영화줄    오버연기조차 가볍지 않구나</td>\n",
              "      <td>1</td>\n",
              "    </tr>\n",
              "    <tr>\n",
              "      <th>2</th>\n",
              "      <td>10265843</td>\n",
              "      <td>너무재밓었다그래서보는것을추천한다</td>\n",
              "      <td>0</td>\n",
              "    </tr>\n",
              "    <tr>\n",
              "      <th>3</th>\n",
              "      <td>9045019</td>\n",
              "      <td>교도소 이야기구먼   솔직히 재미는 없다  평점 조정</td>\n",
              "      <td>0</td>\n",
              "    </tr>\n",
              "    <tr>\n",
              "      <th>4</th>\n",
              "      <td>6483659</td>\n",
              "      <td>사이몬페그의 익살스런 연기가 돋보였던 영화 스파이더맨에서 늙어보이기만 했던 커스틴 ...</td>\n",
              "      <td>1</td>\n",
              "    </tr>\n",
              "  </tbody>\n",
              "</table>\n",
              "</div>"
            ],
            "text/plain": [
              "         id                                           document  label\n",
              "0   9976970                                아 더빙   진짜 짜증나네요 목소리      0\n",
              "1   3819312                  흠   포스터보고 초딩영화줄    오버연기조차 가볍지 않구나      1\n",
              "2  10265843                                  너무재밓었다그래서보는것을추천한다      0\n",
              "3   9045019                      교도소 이야기구먼   솔직히 재미는 없다  평점 조정      0\n",
              "4   6483659  사이몬페그의 익살스런 연기가 돋보였던 영화 스파이더맨에서 늙어보이기만 했던 커스틴 ...      1"
            ]
          },
          "metadata": {
            "tags": []
          },
          "execution_count": 28
        }
      ]
    },
    {
      "cell_type": "markdown",
      "metadata": {
        "id": "O6XGGkcIX5IT",
        "colab_type": "text"
      },
      "source": [
        "### 2. 토큰화 및 품사부착"
      ]
    },
    {
      "cell_type": "code",
      "metadata": {
        "id": "QLppQ8nFX34N",
        "colab_type": "code",
        "colab": {}
      },
      "source": [
        "from konlpy.tag import Mecab\n",
        "mecab = Mecab()\n",
        "# mecab을 사용해서 토큰화, 한글자 제거, stop_word 제거 \n",
        "stop_word = ['께서','에서','이다','에게','으로','이랑','까지','부터','하다']\n",
        "\n",
        "# def token_mecab(text):\n",
        "#     text = mecab.morphs(text)\n",
        "#     text = [i for i in text if len(i)>1]\n",
        "#     text = [i for i in text if i not in stop_word]\n",
        "#     return text\n",
        "\n",
        "stop_word = ['께서','에서','이다','에게','으로','이랑','까지','부터','하다']\n",
        "stopPos = ['JKS','JKC','JKG','JKO','JKB','JKV','JKQ','JC','JX',\n",
        "           'SF','SE','SS','SP','SSO','SSC','SC','SY','SH','SL','SN',\n",
        "           'MM','MAG','MAJ']\n",
        "def token_mecab(text):\n",
        "    text = mecab.pos(text)\n",
        "    text = [i for i in text if len(i[0])>1]\n",
        "    text = [i for i in text if i[0] not in stop_word]\n",
        "    text = [i[0] for i in text if i[1] not in stopPos]\n",
        "    return text"
      ],
      "execution_count": 29,
      "outputs": []
    },
    {
      "cell_type": "code",
      "metadata": {
        "id": "JLQrvdT_fPe7",
        "colab_type": "code",
        "colab": {
          "base_uri": "https://localhost:8080/",
          "height": 35
        },
        "outputId": "334d25e7-197e-43b3-c166-156dfe5c4d7e"
      },
      "source": [
        "token_mecab('교도소 이야기구먼 솔직히 재미는 없다')"
      ],
      "execution_count": 30,
      "outputs": [
        {
          "output_type": "execute_result",
          "data": {
            "text/plain": [
              "['교도소', '이야기', '구먼', '재미']"
            ]
          },
          "metadata": {
            "tags": []
          },
          "execution_count": 30
        }
      ]
    },
    {
      "cell_type": "code",
      "metadata": {
        "id": "IlIaTJVWYGP9",
        "colab_type": "code",
        "colab": {
          "base_uri": "https://localhost:8080/",
          "height": 392
        },
        "outputId": "5819199b-0dab-46d9-9766-d45263ed8bff"
      },
      "source": [
        "# 토큰화 + 토큰리스트 생성 \n",
        "def make_tokens(df):\n",
        "    df['tokens'] = ''\n",
        "    tokens_list=[]\n",
        "    for i, row in df.iterrows():\n",
        "        if i%10000==0:\n",
        "            print(i,'/',len(df))\n",
        "        token = token_mecab(df['document'][i])\n",
        "        df['tokens'][i] = ' '.join(token)\n",
        "    return df\n",
        "\n",
        "df = make_tokens(df)"
      ],
      "execution_count": 31,
      "outputs": [
        {
          "output_type": "stream",
          "text": [
            "0 / 150000\n"
          ],
          "name": "stdout"
        },
        {
          "output_type": "stream",
          "text": [
            "/usr/local/lib/python3.6/dist-packages/ipykernel_launcher.py:9: SettingWithCopyWarning: \n",
            "A value is trying to be set on a copy of a slice from a DataFrame\n",
            "\n",
            "See the caveats in the documentation: https://pandas.pydata.org/pandas-docs/stable/user_guide/indexing.html#returning-a-view-versus-a-copy\n",
            "  if __name__ == '__main__':\n"
          ],
          "name": "stderr"
        },
        {
          "output_type": "stream",
          "text": [
            "10000 / 150000\n",
            "20000 / 150000\n",
            "30000 / 150000\n",
            "40000 / 150000\n",
            "50000 / 150000\n",
            "60000 / 150000\n",
            "70000 / 150000\n",
            "80000 / 150000\n",
            "90000 / 150000\n",
            "100000 / 150000\n",
            "110000 / 150000\n",
            "120000 / 150000\n",
            "130000 / 150000\n",
            "140000 / 150000\n"
          ],
          "name": "stdout"
        }
      ]
    },
    {
      "cell_type": "code",
      "metadata": {
        "id": "ZZrtyCHufeo6",
        "colab_type": "code",
        "colab": {
          "base_uri": "https://localhost:8080/",
          "height": 261
        },
        "outputId": "afcbea7e-e56f-4f53-c1da-166803a9eb50"
      },
      "source": [
        "df.head()"
      ],
      "execution_count": 32,
      "outputs": [
        {
          "output_type": "execute_result",
          "data": {
            "text/html": [
              "<div>\n",
              "<style scoped>\n",
              "    .dataframe tbody tr th:only-of-type {\n",
              "        vertical-align: middle;\n",
              "    }\n",
              "\n",
              "    .dataframe tbody tr th {\n",
              "        vertical-align: top;\n",
              "    }\n",
              "\n",
              "    .dataframe thead th {\n",
              "        text-align: right;\n",
              "    }\n",
              "</style>\n",
              "<table border=\"1\" class=\"dataframe\">\n",
              "  <thead>\n",
              "    <tr style=\"text-align: right;\">\n",
              "      <th></th>\n",
              "      <th>id</th>\n",
              "      <th>document</th>\n",
              "      <th>label</th>\n",
              "      <th>tokens</th>\n",
              "    </tr>\n",
              "  </thead>\n",
              "  <tbody>\n",
              "    <tr>\n",
              "      <th>0</th>\n",
              "      <td>9976970</td>\n",
              "      <td>아 더빙   진짜 짜증나네요 목소리</td>\n",
              "      <td>0</td>\n",
              "      <td>짜증 네요 목소리</td>\n",
              "    </tr>\n",
              "    <tr>\n",
              "      <th>1</th>\n",
              "      <td>3819312</td>\n",
              "      <td>흠   포스터보고 초딩영화줄    오버연기조차 가볍지 않구나</td>\n",
              "      <td>1</td>\n",
              "      <td>포스터 초딩 영화 오버 연기 가볍 구나</td>\n",
              "    </tr>\n",
              "    <tr>\n",
              "      <th>2</th>\n",
              "      <td>10265843</td>\n",
              "      <td>너무재밓었다그래서보는것을추천한다</td>\n",
              "      <td>0</td>\n",
              "      <td>밓었다그래서보는것을추천한다</td>\n",
              "    </tr>\n",
              "    <tr>\n",
              "      <th>3</th>\n",
              "      <td>9045019</td>\n",
              "      <td>교도소 이야기구먼   솔직히 재미는 없다  평점 조정</td>\n",
              "      <td>0</td>\n",
              "      <td>교도소 이야기 구먼 재미 평점 조정</td>\n",
              "    </tr>\n",
              "    <tr>\n",
              "      <th>4</th>\n",
              "      <td>6483659</td>\n",
              "      <td>사이몬페그의 익살스런 연기가 돋보였던 영화 스파이더맨에서 늙어보이기만 했던 커스틴 ...</td>\n",
              "      <td>1</td>\n",
              "      <td>사이몬페그 익살 스런 연기 돋보였 영화 스파이더맨 보이 커스틴 던스트 이뻐 보였</td>\n",
              "    </tr>\n",
              "  </tbody>\n",
              "</table>\n",
              "</div>"
            ],
            "text/plain": [
              "         id  ...                                        tokens\n",
              "0   9976970  ...                                     짜증 네요 목소리\n",
              "1   3819312  ...                         포스터 초딩 영화 오버 연기 가볍 구나\n",
              "2  10265843  ...                                밓었다그래서보는것을추천한다\n",
              "3   9045019  ...                           교도소 이야기 구먼 재미 평점 조정\n",
              "4   6483659  ...  사이몬페그 익살 스런 연기 돋보였 영화 스파이더맨 보이 커스틴 던스트 이뻐 보였\n",
              "\n",
              "[5 rows x 4 columns]"
            ]
          },
          "metadata": {
            "tags": []
          },
          "execution_count": 32
        }
      ]
    },
    {
      "cell_type": "markdown",
      "metadata": {
        "id": "TVXf8CVDfuJp",
        "colab_type": "text"
      },
      "source": [
        "### 3. 학습시키기 및 확인"
      ]
    },
    {
      "cell_type": "code",
      "metadata": {
        "id": "rsUL4hTbYLAb",
        "colab_type": "code",
        "colab": {}
      },
      "source": [
        "X_train = list(df['tokens'])\n",
        "Y_train = list(df['label'])"
      ],
      "execution_count": 33,
      "outputs": []
    },
    {
      "cell_type": "code",
      "metadata": {
        "id": "enSs2hsefgsq",
        "colab_type": "code",
        "colab": {}
      },
      "source": [
        "from sklearn.feature_extraction.text import CountVectorizer\n",
        "from sklearn.feature_extraction.text import TfidfTransformer\n",
        "from sklearn.naive_bayes import MultinomialNB\n",
        "# CountVectorizer 선언\n",
        "count_vect = CountVectorizer()\n",
        "# fit and transform\n",
        "X_train_counts = count_vect.fit_transform(X_train)\n",
        "# MultinomialNB 선언 and fit\n",
        "clf = MultinomialNB().fit(X_train_counts, Y_train)"
      ],
      "execution_count": 34,
      "outputs": []
    },
    {
      "cell_type": "code",
      "metadata": {
        "id": "KwO9mm1ZfnRq",
        "colab_type": "code",
        "colab": {
          "base_uri": "https://localhost:8080/",
          "height": 70
        },
        "outputId": "99d0a598-fa8e-4375-b732-2f21e0853ad1"
      },
      "source": [
        "test = '강력한 몰입감을 선사하는 두 배우의 연기력!! 오랜만에 정말 색다른 영화였다'\n",
        "test = token_mecab(test)\n",
        "test = ' '.join(test)\n",
        "print(test)\n",
        "# 예측\n",
        "print(clf.predict(count_vect.transform([test]))) \n",
        "# 확률 \n",
        "print(clf.predict_proba(count_vect.transform([test])))"
      ],
      "execution_count": 35,
      "outputs": [
        {
          "output_type": "stream",
          "text": [
            "강력 입감 선사 배우 연기력 오랜만 색다른 영화\n",
            "[1]\n",
            "[[0.00266298 0.99733702]]\n"
          ],
          "name": "stdout"
        }
      ]
    },
    {
      "cell_type": "markdown",
      "metadata": {
        "id": "Ur8I_sNpf1MC",
        "colab_type": "text"
      },
      "source": [
        "### 4. 예측 결과 정확도 측정"
      ]
    },
    {
      "cell_type": "code",
      "metadata": {
        "id": "w34sR02nf62-",
        "colab_type": "code",
        "colab": {
          "base_uri": "https://localhost:8080/",
          "height": 194
        },
        "outputId": "6334a865-472f-4353-a55f-09afffc1ec8b"
      },
      "source": [
        "import pandas as pd\n",
        "test_df = pd.DataFrame(pd.read_csv('ratings_test.txt', sep = '\\t', quoting = 3))\n",
        "test_df = test_df.replace(np.nan, '', regex = True)\n",
        "test_df.head()"
      ],
      "execution_count": 36,
      "outputs": [
        {
          "output_type": "execute_result",
          "data": {
            "text/html": [
              "<div>\n",
              "<style scoped>\n",
              "    .dataframe tbody tr th:only-of-type {\n",
              "        vertical-align: middle;\n",
              "    }\n",
              "\n",
              "    .dataframe tbody tr th {\n",
              "        vertical-align: top;\n",
              "    }\n",
              "\n",
              "    .dataframe thead th {\n",
              "        text-align: right;\n",
              "    }\n",
              "</style>\n",
              "<table border=\"1\" class=\"dataframe\">\n",
              "  <thead>\n",
              "    <tr style=\"text-align: right;\">\n",
              "      <th></th>\n",
              "      <th>id</th>\n",
              "      <th>document</th>\n",
              "      <th>label</th>\n",
              "    </tr>\n",
              "  </thead>\n",
              "  <tbody>\n",
              "    <tr>\n",
              "      <th>0</th>\n",
              "      <td>6270596</td>\n",
              "      <td>굳 ㅋ</td>\n",
              "      <td>1</td>\n",
              "    </tr>\n",
              "    <tr>\n",
              "      <th>1</th>\n",
              "      <td>9274899</td>\n",
              "      <td>GDNTOPCLASSINTHECLUB</td>\n",
              "      <td>0</td>\n",
              "    </tr>\n",
              "    <tr>\n",
              "      <th>2</th>\n",
              "      <td>8544678</td>\n",
              "      <td>뭐야 이 평점들은.... 나쁘진 않지만 10점 짜리는 더더욱 아니잖아</td>\n",
              "      <td>0</td>\n",
              "    </tr>\n",
              "    <tr>\n",
              "      <th>3</th>\n",
              "      <td>6825595</td>\n",
              "      <td>지루하지는 않은데 완전 막장임... 돈주고 보기에는....</td>\n",
              "      <td>0</td>\n",
              "    </tr>\n",
              "    <tr>\n",
              "      <th>4</th>\n",
              "      <td>6723715</td>\n",
              "      <td>3D만 아니었어도 별 다섯 개 줬을텐데.. 왜 3D로 나와서 제 심기를 불편하게 하죠??</td>\n",
              "      <td>0</td>\n",
              "    </tr>\n",
              "  </tbody>\n",
              "</table>\n",
              "</div>"
            ],
            "text/plain": [
              "        id                                           document  label\n",
              "0  6270596                                                굳 ㅋ      1\n",
              "1  9274899                               GDNTOPCLASSINTHECLUB      0\n",
              "2  8544678             뭐야 이 평점들은.... 나쁘진 않지만 10점 짜리는 더더욱 아니잖아      0\n",
              "3  6825595                   지루하지는 않은데 완전 막장임... 돈주고 보기에는....      0\n",
              "4  6723715  3D만 아니었어도 별 다섯 개 줬을텐데.. 왜 3D로 나와서 제 심기를 불편하게 하죠??      0"
            ]
          },
          "metadata": {
            "tags": []
          },
          "execution_count": 36
        }
      ]
    },
    {
      "cell_type": "code",
      "metadata": {
        "id": "HBp5V731gapb",
        "colab_type": "code",
        "colab": {}
      },
      "source": [
        "test_df['document'] = test_df['document'].map(lambda x : preprocess(x))"
      ],
      "execution_count": 37,
      "outputs": []
    },
    {
      "cell_type": "code",
      "metadata": {
        "id": "bvIDTDg8geYw",
        "colab_type": "code",
        "colab": {
          "base_uri": "https://localhost:8080/",
          "height": 425
        },
        "outputId": "3d87d088-956c-4d9a-e5bb-bac1d8a5ef96"
      },
      "source": [
        "test_df = make_tokens(test_df)\n",
        "test_df.head()"
      ],
      "execution_count": 38,
      "outputs": [
        {
          "output_type": "stream",
          "text": [
            "0 / 50000\n"
          ],
          "name": "stdout"
        },
        {
          "output_type": "stream",
          "text": [
            "/usr/local/lib/python3.6/dist-packages/ipykernel_launcher.py:9: SettingWithCopyWarning: \n",
            "A value is trying to be set on a copy of a slice from a DataFrame\n",
            "\n",
            "See the caveats in the documentation: https://pandas.pydata.org/pandas-docs/stable/user_guide/indexing.html#returning-a-view-versus-a-copy\n",
            "  if __name__ == '__main__':\n"
          ],
          "name": "stderr"
        },
        {
          "output_type": "stream",
          "text": [
            "10000 / 50000\n",
            "20000 / 50000\n",
            "30000 / 50000\n",
            "40000 / 50000\n"
          ],
          "name": "stdout"
        },
        {
          "output_type": "execute_result",
          "data": {
            "text/html": [
              "<div>\n",
              "<style scoped>\n",
              "    .dataframe tbody tr th:only-of-type {\n",
              "        vertical-align: middle;\n",
              "    }\n",
              "\n",
              "    .dataframe tbody tr th {\n",
              "        vertical-align: top;\n",
              "    }\n",
              "\n",
              "    .dataframe thead th {\n",
              "        text-align: right;\n",
              "    }\n",
              "</style>\n",
              "<table border=\"1\" class=\"dataframe\">\n",
              "  <thead>\n",
              "    <tr style=\"text-align: right;\">\n",
              "      <th></th>\n",
              "      <th>id</th>\n",
              "      <th>document</th>\n",
              "      <th>label</th>\n",
              "      <th>tokens</th>\n",
              "    </tr>\n",
              "  </thead>\n",
              "  <tbody>\n",
              "    <tr>\n",
              "      <th>0</th>\n",
              "      <td>6270596</td>\n",
              "      <td>굳 ㅋ</td>\n",
              "      <td>1</td>\n",
              "      <td></td>\n",
              "    </tr>\n",
              "    <tr>\n",
              "      <th>1</th>\n",
              "      <td>9274899</td>\n",
              "      <td></td>\n",
              "      <td>0</td>\n",
              "      <td></td>\n",
              "    </tr>\n",
              "    <tr>\n",
              "      <th>2</th>\n",
              "      <td>8544678</td>\n",
              "      <td>뭐야 이 평점들은     나쁘진 않지만   점 짜리는 더더욱 아니잖아</td>\n",
              "      <td>0</td>\n",
              "      <td>평점 나쁘 지만 짜리 아니 잖아</td>\n",
              "    </tr>\n",
              "    <tr>\n",
              "      <th>3</th>\n",
              "      <td>6825595</td>\n",
              "      <td>지루하지는 않은데 완전 막장임    돈주고 보기에는</td>\n",
              "      <td>0</td>\n",
              "      <td>지루 은데 완전 막장</td>\n",
              "    </tr>\n",
              "    <tr>\n",
              "      <th>4</th>\n",
              "      <td>6723715</td>\n",
              "      <td>만 아니었어도 별 다섯 개 줬을텐데   왜   로 나와서 제 심기를 불편하게 하죠</td>\n",
              "      <td>0</td>\n",
              "      <td>아니 어도 다섯 텐데 나와서 심기 불편</td>\n",
              "    </tr>\n",
              "  </tbody>\n",
              "</table>\n",
              "</div>"
            ],
            "text/plain": [
              "        id  ...                 tokens\n",
              "0  6270596  ...                       \n",
              "1  9274899  ...                       \n",
              "2  8544678  ...      평점 나쁘 지만 짜리 아니 잖아\n",
              "3  6825595  ...            지루 은데 완전 막장\n",
              "4  6723715  ...  아니 어도 다섯 텐데 나와서 심기 불편\n",
              "\n",
              "[5 rows x 4 columns]"
            ]
          },
          "metadata": {
            "tags": []
          },
          "execution_count": 38
        }
      ]
    },
    {
      "cell_type": "code",
      "metadata": {
        "id": "rEmJ08Jtgj0F",
        "colab_type": "code",
        "colab": {
          "base_uri": "https://localhost:8080/",
          "height": 244
        },
        "outputId": "155e6d3d-2a08-4c78-8d63-b1cd5bc200b8"
      },
      "source": [
        "predic_label = []\n",
        "for i, row in test_df.iterrows():\n",
        "    predic = clf.predict(count_vect.transform([test_df['tokens'][i]]))[0]\n",
        "    predic_label.append(predic)\n",
        "test_df['predic_label'] = predic_label\n",
        "test_df.head()"
      ],
      "execution_count": 39,
      "outputs": [
        {
          "output_type": "execute_result",
          "data": {
            "text/html": [
              "<div>\n",
              "<style scoped>\n",
              "    .dataframe tbody tr th:only-of-type {\n",
              "        vertical-align: middle;\n",
              "    }\n",
              "\n",
              "    .dataframe tbody tr th {\n",
              "        vertical-align: top;\n",
              "    }\n",
              "\n",
              "    .dataframe thead th {\n",
              "        text-align: right;\n",
              "    }\n",
              "</style>\n",
              "<table border=\"1\" class=\"dataframe\">\n",
              "  <thead>\n",
              "    <tr style=\"text-align: right;\">\n",
              "      <th></th>\n",
              "      <th>id</th>\n",
              "      <th>document</th>\n",
              "      <th>label</th>\n",
              "      <th>tokens</th>\n",
              "      <th>predic_label</th>\n",
              "    </tr>\n",
              "  </thead>\n",
              "  <tbody>\n",
              "    <tr>\n",
              "      <th>0</th>\n",
              "      <td>6270596</td>\n",
              "      <td>굳 ㅋ</td>\n",
              "      <td>1</td>\n",
              "      <td></td>\n",
              "      <td>0</td>\n",
              "    </tr>\n",
              "    <tr>\n",
              "      <th>1</th>\n",
              "      <td>9274899</td>\n",
              "      <td></td>\n",
              "      <td>0</td>\n",
              "      <td></td>\n",
              "      <td>0</td>\n",
              "    </tr>\n",
              "    <tr>\n",
              "      <th>2</th>\n",
              "      <td>8544678</td>\n",
              "      <td>뭐야 이 평점들은     나쁘진 않지만   점 짜리는 더더욱 아니잖아</td>\n",
              "      <td>0</td>\n",
              "      <td>평점 나쁘 지만 짜리 아니 잖아</td>\n",
              "      <td>0</td>\n",
              "    </tr>\n",
              "    <tr>\n",
              "      <th>3</th>\n",
              "      <td>6825595</td>\n",
              "      <td>지루하지는 않은데 완전 막장임    돈주고 보기에는</td>\n",
              "      <td>0</td>\n",
              "      <td>지루 은데 완전 막장</td>\n",
              "      <td>0</td>\n",
              "    </tr>\n",
              "    <tr>\n",
              "      <th>4</th>\n",
              "      <td>6723715</td>\n",
              "      <td>만 아니었어도 별 다섯 개 줬을텐데   왜   로 나와서 제 심기를 불편하게 하죠</td>\n",
              "      <td>0</td>\n",
              "      <td>아니 어도 다섯 텐데 나와서 심기 불편</td>\n",
              "      <td>0</td>\n",
              "    </tr>\n",
              "  </tbody>\n",
              "</table>\n",
              "</div>"
            ],
            "text/plain": [
              "        id  ... predic_label\n",
              "0  6270596  ...            0\n",
              "1  9274899  ...            0\n",
              "2  8544678  ...            0\n",
              "3  6825595  ...            0\n",
              "4  6723715  ...            0\n",
              "\n",
              "[5 rows x 5 columns]"
            ]
          },
          "metadata": {
            "tags": []
          },
          "execution_count": 39
        }
      ]
    },
    {
      "cell_type": "markdown",
      "metadata": {
        "id": "y1bS73g8gshi",
        "colab_type": "text"
      },
      "source": [
        "#### confusion metrix\n",
        "\n",
        "|표|참|거짓|\n",
        "|---|---|---|\n",
        "|참|TP|FP|\n",
        "|거짓|FN|TN|"
      ]
    },
    {
      "cell_type": "code",
      "metadata": {
        "id": "W2x9duvhhFkj",
        "colab_type": "code",
        "colab": {
          "base_uri": "https://localhost:8080/",
          "height": 35
        },
        "outputId": "166180ad-6256-4f87-8459-5a102993dcb4"
      },
      "source": [
        "TP = FN = FP = TN = other = 0\n",
        "for i in range(len(test_df)):\n",
        "    if test_df['label'][i] == 1 and test_df['predic_label'][i] == 1:\n",
        "        TP +=1\n",
        "    elif test_df['label'][i] == 0 and test_df['predic_label'][i] == 0:\n",
        "        TN +=1\n",
        "    elif test_df['label'][i] == 0 and test_df['predic_label'][i] == 1:\n",
        "        FN +=1\n",
        "    elif test_df['label'][i] == 1 and test_df['predic_label'][i] == 0:\n",
        "        FP +=1\n",
        "    else:\n",
        "        other +=1\n",
        "print(TP,TN,FN,FP)"
      ],
      "execution_count": 40,
      "outputs": [
        {
          "output_type": "stream",
          "text": [
            "19633 20393 4434 5540\n"
          ],
          "name": "stdout"
        }
      ]
    },
    {
      "cell_type": "code",
      "metadata": {
        "id": "ksSvUFmYiXm6",
        "colab_type": "code",
        "colab": {
          "base_uri": "https://localhost:8080/",
          "height": 35
        },
        "outputId": "985d253f-28ce-4a6f-9c7c-1a39ddf3b6ef"
      },
      "source": [
        "ACC = (TP+TN)/(TP+TN+FP+FN)\n",
        "print('ACC: ',ACC)"
      ],
      "execution_count": 41,
      "outputs": [
        {
          "output_type": "stream",
          "text": [
            "ACC:  0.80052\n"
          ],
          "name": "stdout"
        }
      ]
    }
  ]
}