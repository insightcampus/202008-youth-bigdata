{
  "nbformat": 4,
  "nbformat_minor": 0,
  "metadata": {
    "colab": {
      "name": " sentiment_analysis_2.ipynb",
      "provenance": [],
      "collapsed_sections": [],
      "authorship_tag": "ABX9TyNupOT+IhLRqNhLT/FsB7rj",
      "include_colab_link": true
    },
    "kernelspec": {
      "name": "python3",
      "display_name": "Python 3"
    }
  },
  "cells": [
    {
      "cell_type": "markdown",
      "metadata": {
        "id": "view-in-github",
        "colab_type": "text"
      },
      "source": [
        "<a href=\"https://colab.research.google.com/github/insightcampus/202008-youth-bigdata/blob/master/hnjoo/sentiment_analysis/sentiment_analysis_2.ipynb\" target=\"_parent\"><img src=\"https://colab.research.google.com/assets/colab-badge.svg\" alt=\"Open In Colab\"/></a>"
      ]
    },
    {
      "cell_type": "markdown",
      "metadata": {
        "id": "e8E0k_H-AHQn",
        "colab_type": "text"
      },
      "source": [
        "## [실습2] sklearn 사용해서 네이버 영화리뷰데이터로 감성분석 모델 만들기"
      ]
    },
    {
      "cell_type": "markdown",
      "metadata": {
        "id": "lyEHurH6rlA6",
        "colab_type": "text"
      },
      "source": [
        "### 0. 준비하기\n",
        "- 한글형태소분석기 설치하기\n",
        "- 구글 드라이브 연동하기"
      ]
    },
    {
      "cell_type": "code",
      "metadata": {
        "id": "N4AFb-l4_lJx",
        "colab_type": "code",
        "colab": {}
      },
      "source": [
        "# 코렙에서 Konlpy, Mecab 설치하기 \n",
        "! sudo apt-get install g++ openjdk-7-jdk #Install Java 1.7+ \n",
        "#!sudo apt-get install python-dev; pip install konlpy # Python 2.x \n",
        "!sudo apt-get install python3-dev; pip3 install konlpy # Python 3.x \n",
        "!sudo apt-get install curl \n",
        "! bash <(curl -s https://raw.githubusercontent.com/konlpy/konlpy/master/scripts/mecab.sh)"
      ],
      "execution_count": null,
      "outputs": []
    },
    {
      "cell_type": "code",
      "metadata": {
        "id": "G4_d8cJuA1Yf",
        "colab_type": "code",
        "colab": {
          "base_uri": "https://localhost:8080/",
          "height": 34
        },
        "outputId": "5311be47-032f-426c-8afa-d53a6b348502"
      },
      "source": [
        "from google.colab import drive\n",
        "drive.mount('/content/gdrive')"
      ],
      "execution_count": 28,
      "outputs": [
        {
          "output_type": "stream",
          "text": [
            "Drive already mounted at /content/gdrive; to attempt to forcibly remount, call drive.mount(\"/content/gdrive\", force_remount=True).\n"
          ],
          "name": "stdout"
        }
      ]
    },
    {
      "cell_type": "code",
      "metadata": {
        "id": "U_PE_wt9BASg",
        "colab_type": "code",
        "colab": {
          "base_uri": "https://localhost:8080/",
          "height": 34
        },
        "outputId": "04790a4c-d8eb-4e2b-a264-01b029c4ded2"
      },
      "source": [
        "%cd '/content/gdrive/My Drive/전송/movie_reviews'"
      ],
      "execution_count": 29,
      "outputs": [
        {
          "output_type": "stream",
          "text": [
            "/content/gdrive/My Drive/전송/movie_reviews\n"
          ],
          "name": "stdout"
        }
      ]
    },
    {
      "cell_type": "code",
      "metadata": {
        "id": "09v-aAMwBHAf",
        "colab_type": "code",
        "colab": {
          "base_uri": "https://localhost:8080/",
          "height": 35
        },
        "outputId": "a08aa517-8f22-47e4-e46d-33408386d58f"
      },
      "source": [
        "%pwd"
      ],
      "execution_count": 30,
      "outputs": [
        {
          "output_type": "execute_result",
          "data": {
            "application/vnd.google.colaboratory.intrinsic+json": {
              "type": "string"
            },
            "text/plain": [
              "'/content/gdrive/My Drive/전송/movie_reviews'"
            ]
          },
          "metadata": {
            "tags": []
          },
          "execution_count": 30
        }
      ]
    },
    {
      "cell_type": "code",
      "metadata": {
        "id": "74EjffrHBSfA",
        "colab_type": "code",
        "colab": {
          "base_uri": "https://localhost:8080/",
          "height": 34
        },
        "outputId": "faf18f2f-8415-495a-b71c-239686e20d1f"
      },
      "source": [
        "%ls"
      ],
      "execution_count": 31,
      "outputs": [
        {
          "output_type": "stream",
          "text": [
            "ratings_test.txt  ratings_train.txt\n"
          ],
          "name": "stdout"
        }
      ]
    },
    {
      "cell_type": "markdown",
      "metadata": {
        "id": "QvoSM-HSAEM-",
        "colab_type": "text"
      },
      "source": [
        "### 1. 데이터 가져오기 및 정제\n",
        "- 데이터 다운로드 링크 : https://github.com/e9t/nsmc\n",
        "- 데이터 읽기: \n",
        "  + 탭으로 구분되어 있는 텍스트 파일 > 구분기호를 의미하는 sep를 \\t\n",
        "  + 열의 갯수가 총 3개라 quoting=3"
      ]
    },
    {
      "cell_type": "code",
      "metadata": {
        "id": "7XUPYFHT_8iy",
        "colab_type": "code",
        "colab": {}
      },
      "source": [
        "import pandas as pd\n",
        "import numpy as np\n",
        "df = pd.DataFrame(pd.read_csv('ratings_train.txt', sep='\\t', quoting=3))"
      ],
      "execution_count": 32,
      "outputs": []
    },
    {
      "cell_type": "code",
      "metadata": {
        "id": "gLegqLNrAXQ3",
        "colab_type": "code",
        "colab": {
          "base_uri": "https://localhost:8080/",
          "height": 195
        },
        "outputId": "940dc35d-2f9e-4d50-abae-2ed71c2212ff"
      },
      "source": [
        "df.head()"
      ],
      "execution_count": 33,
      "outputs": [
        {
          "output_type": "execute_result",
          "data": {
            "text/html": [
              "<div>\n",
              "<style scoped>\n",
              "    .dataframe tbody tr th:only-of-type {\n",
              "        vertical-align: middle;\n",
              "    }\n",
              "\n",
              "    .dataframe tbody tr th {\n",
              "        vertical-align: top;\n",
              "    }\n",
              "\n",
              "    .dataframe thead th {\n",
              "        text-align: right;\n",
              "    }\n",
              "</style>\n",
              "<table border=\"1\" class=\"dataframe\">\n",
              "  <thead>\n",
              "    <tr style=\"text-align: right;\">\n",
              "      <th></th>\n",
              "      <th>id</th>\n",
              "      <th>document</th>\n",
              "      <th>label</th>\n",
              "    </tr>\n",
              "  </thead>\n",
              "  <tbody>\n",
              "    <tr>\n",
              "      <th>0</th>\n",
              "      <td>9976970</td>\n",
              "      <td>아 더빙.. 진짜 짜증나네요 목소리</td>\n",
              "      <td>0</td>\n",
              "    </tr>\n",
              "    <tr>\n",
              "      <th>1</th>\n",
              "      <td>3819312</td>\n",
              "      <td>흠...포스터보고 초딩영화줄....오버연기조차 가볍지 않구나</td>\n",
              "      <td>1</td>\n",
              "    </tr>\n",
              "    <tr>\n",
              "      <th>2</th>\n",
              "      <td>10265843</td>\n",
              "      <td>너무재밓었다그래서보는것을추천한다</td>\n",
              "      <td>0</td>\n",
              "    </tr>\n",
              "    <tr>\n",
              "      <th>3</th>\n",
              "      <td>9045019</td>\n",
              "      <td>교도소 이야기구먼 ..솔직히 재미는 없다..평점 조정</td>\n",
              "      <td>0</td>\n",
              "    </tr>\n",
              "    <tr>\n",
              "      <th>4</th>\n",
              "      <td>6483659</td>\n",
              "      <td>사이몬페그의 익살스런 연기가 돋보였던 영화!스파이더맨에서 늙어보이기만 했던 커스틴 ...</td>\n",
              "      <td>1</td>\n",
              "    </tr>\n",
              "  </tbody>\n",
              "</table>\n",
              "</div>"
            ],
            "text/plain": [
              "         id                                           document  label\n",
              "0   9976970                                아 더빙.. 진짜 짜증나네요 목소리      0\n",
              "1   3819312                  흠...포스터보고 초딩영화줄....오버연기조차 가볍지 않구나      1\n",
              "2  10265843                                  너무재밓었다그래서보는것을추천한다      0\n",
              "3   9045019                      교도소 이야기구먼 ..솔직히 재미는 없다..평점 조정      0\n",
              "4   6483659  사이몬페그의 익살스런 연기가 돋보였던 영화!스파이더맨에서 늙어보이기만 했던 커스틴 ...      1"
            ]
          },
          "metadata": {
            "tags": []
          },
          "execution_count": 33
        }
      ]
    },
    {
      "cell_type": "code",
      "metadata": {
        "id": "r4VjkyiNAZ0H",
        "colab_type": "code",
        "colab": {
          "base_uri": "https://localhost:8080/",
          "height": 87
        },
        "outputId": "1cad2f77-5084-4a72-da34-b9af8e586054"
      },
      "source": [
        "# 결측치 확인하기\n",
        "df.isnull().sum()"
      ],
      "execution_count": 34,
      "outputs": [
        {
          "output_type": "execute_result",
          "data": {
            "text/plain": [
              "id          0\n",
              "document    5\n",
              "label       0\n",
              "dtype: int64"
            ]
          },
          "metadata": {
            "tags": []
          },
          "execution_count": 34
        }
      ]
    },
    {
      "cell_type": "code",
      "metadata": {
        "id": "fD_5r4okAazg",
        "colab_type": "code",
        "colab": {}
      },
      "source": [
        "# 결측치 있는 행 삭제하기\n",
        "df = df.dropna()"
      ],
      "execution_count": 35,
      "outputs": []
    },
    {
      "cell_type": "markdown",
      "metadata": {
        "id": "jm58D1D9AfIt",
        "colab_type": "text"
      },
      "source": [
        "## 2. 토큰화 하기(Mecab)"
      ]
    },
    {
      "cell_type": "code",
      "metadata": {
        "id": "m-vmAydVAbuI",
        "colab_type": "code",
        "colab": {}
      },
      "source": [
        "# 토큰화 패키지 선언하기\n",
        "from konlpy.tag import Mecab\n",
        "mecab = Mecab()"
      ],
      "execution_count": 36,
      "outputs": []
    },
    {
      "cell_type": "code",
      "metadata": {
        "id": "T7PpQEnvBfuf",
        "colab_type": "code",
        "colab": {
          "base_uri": "https://localhost:8080/",
          "height": 510
        },
        "outputId": "8a983c1f-7380-4dcb-82e2-f8b57b328a0f"
      },
      "source": [
        "# 토큰화 + 품사 부착\n",
        "mecabTag = []\n",
        "for doc in df['document']:\n",
        "    mecabTag.append(mecab.pos(doc))\n",
        "mecabTag[:3]"
      ],
      "execution_count": 37,
      "outputs": [
        {
          "output_type": "execute_result",
          "data": {
            "text/plain": [
              "[[('아', 'IC'),\n",
              "  ('더', 'MAG'),\n",
              "  ('빙', 'MAG'),\n",
              "  ('.', 'SF'),\n",
              "  ('.', 'SY'),\n",
              "  ('진짜', 'MAG'),\n",
              "  ('짜증', 'NNG'),\n",
              "  ('나', 'NP'),\n",
              "  ('네요', 'VCP+EC'),\n",
              "  ('목소리', 'NNG')],\n",
              " [('흠', 'IC'),\n",
              "  ('.', 'SF'),\n",
              "  ('..', 'SY'),\n",
              "  ('포스터', 'NNP'),\n",
              "  ('보고', 'JKB'),\n",
              "  ('초딩', 'NNG'),\n",
              "  ('영화', 'NNG'),\n",
              "  ('줄', 'NNG'),\n",
              "  ('.', 'SF'),\n",
              "  ('...', 'SY'),\n",
              "  ('오버', 'NNG'),\n",
              "  ('연기', 'NNG'),\n",
              "  ('조차', 'JX'),\n",
              "  ('가볍', 'VA'),\n",
              "  ('지', 'EC'),\n",
              "  ('않', 'VX'),\n",
              "  ('구나', 'EC')],\n",
              " [('너무', 'MAG'), ('재', 'XPN'), ('밓었다그래서보는것을추천한다', 'UNKNOWN')]]"
            ]
          },
          "metadata": {
            "tags": []
          },
          "execution_count": 37
        }
      ]
    },
    {
      "cell_type": "code",
      "metadata": {
        "id": "GpzzWbdRBolQ",
        "colab_type": "code",
        "colab": {}
      },
      "source": [
        "# 최빈어 조회 이전 list안의 list 없애기\n",
        "import itertools\n",
        "mecabTag_most = list(itertools.chain.from_iterable(mecabTag))\n",
        "# 최빈어 조회 및 없앨 품사/단어 확인하기\n",
        "from collections import Counter\n",
        "Counter(mecabTag_most).most_common()"
      ],
      "execution_count": null,
      "outputs": []
    },
    {
      "cell_type": "code",
      "metadata": {
        "id": "Agt5gZIrEuPt",
        "colab_type": "code",
        "colab": {
          "base_uri": "https://localhost:8080/",
          "height": 54
        },
        "outputId": "cfcdc71e-83f6-4787-d059-439c062e0e34"
      },
      "source": [
        "# 불용어 처리\n",
        "stopPos = [# 'SN',          # 숫자\n",
        "           # 'SL',          # 외국어\n",
        "           'SE','SSO','SSC','SC','SY',  # 기호\n",
        "           # 'XSN','XSV','XSA'        # 접미사\n",
        "           'EP', 'EF','EC','ETN','ETM',   # 어미\n",
        "           'JKS','JKC','JKG','JKO','JKB','JKV','JKQ','JC','JX']   # 조사\n",
        "stopWord = ['.']\n",
        "X_train = []\n",
        "for content in mecabTag:\n",
        "  clear = []\n",
        "  for pos in content:\n",
        "    if pos[1] not in stopPos:\n",
        "        if pos[0] not in stopWord:\n",
        "          if len(pos[1]) > 1:\n",
        "            clear.append(pos[0])\n",
        "  X_train.append(' '.join(clear))\n",
        "print(X_train[0:20])"
      ],
      "execution_count": 39,
      "outputs": [
        {
          "output_type": "stream",
          "text": [
            "['아 더 빙 진짜 짜증 나 네요 목소리', '흠 포스터 초딩 영화 줄 오버 연기 가볍 않', '너무 재 밓었다그래서보는것을추천한다', '교도소 이야기 구먼 솔직히 재미 없 평점 조정', '사이몬페그 익살 스런 연기 돋보였 영화 스파이더맨 늙 보이 했 커스틴 던스트 너무나 이뻐 보였', '막 걸음마 뗀 3 세 초등 학교 1 학년 생 인 8 살 용 영화 ㅋㅋㅋ 별반 개 아까움', '원작 긴장감 제대로 살려 내 못했', '별 반개 아깝 욕 나온다 이응경 길용우 연기 생활 몇 년 인지 정말 발 해도 그것 보단 낫 납치 감금 반복 반복 이 드라마 가족 없 연기 못 하 사람 모엿 네', '액션 없 재미 있 몇 안 되 영화', '왜 케 평점 낮 건데 ? 꽤 볼 만한데 헐리우드 식 화려 함 너무 길들여져 있 ?', '걍인피니트가짱이다 진짜 짱 이', '볼 때 눈물나 죽 90 년 대 향수 자극 ! 허진호 감성 절제 멜로 달인 이', '울 손들 횡단 보도 건널 때 뛰쳐나올 뻔 이범수 연기 드럽 못해', '담백 하 깔끔 해서 좋 신문 기사 보다 보 자꾸 잊어버린다 그 들 사람 이 것', '취향 존중 한다지만 진짜 내생 극장 본 영화 중 가장 노 잼 노 감동 임 스토리 어 거지 감동 어거지', 'ㄱ 냥 매번 긴장 되 재 밋 음 ㅠㅠ', '참 사람 들 웃긴 게 바스코 이기면 락스 코 라고 까 바비 이기 아이돌 이 깐다 그냥 까 싶 안달 난 것 보인다', '굿바이 레닌 표절 인 것 이해 하 왜 뒤 갈수록 재미없 지', '이건 정말 깨알 캐스팅 질퍽 하 않 산뜻 한 내용 구성 잘 버 러진 깨알 일 드 !', '약탈자 위한 변명 이라 저놈 들 착한 놈 들 절대 아닌걸요']\n"
          ],
          "name": "stdout"
        }
      ]
    },
    {
      "cell_type": "code",
      "metadata": {
        "id": "T-8OQNgQGYOA",
        "colab_type": "code",
        "colab": {}
      },
      "source": [
        "Y_train = list(df['label'])"
      ],
      "execution_count": 40,
      "outputs": []
    },
    {
      "cell_type": "markdown",
      "metadata": {
        "id": "AwVD3BsGMd5u",
        "colab_type": "text"
      },
      "source": [
        "### 3. sklearn input"
      ]
    },
    {
      "cell_type": "code",
      "metadata": {
        "id": "HrjqFL3ZI8S8",
        "colab_type": "code",
        "colab": {}
      },
      "source": [
        "from sklearn.feature_extraction.text import CountVectorizer\n",
        "from sklearn.feature_extraction.text import TfidfTransformer\n",
        "from sklearn.naive_bayes import MultinomialNB"
      ],
      "execution_count": 41,
      "outputs": []
    },
    {
      "cell_type": "markdown",
      "metadata": {
        "id": "-WrBXJVdMqMU",
        "colab_type": "text"
      },
      "source": [
        "### 4. NB 학습"
      ]
    },
    {
      "cell_type": "code",
      "metadata": {
        "id": "clGyqMNRMsqz",
        "colab_type": "code",
        "colab": {}
      },
      "source": [
        "count_vect = CountVectorizer()  # CountVectorizer 선언\n",
        "X_train_counts = count_vect.fit_transform(X_train)  # fit and transform\n",
        "clf = MultinomialNB().fit(X_train_counts, Y_train)  # MultinomialNB 선언 and fit"
      ],
      "execution_count": 42,
      "outputs": []
    },
    {
      "cell_type": "code",
      "metadata": {
        "id": "37csL6yiJAv6",
        "colab_type": "code",
        "colab": {
          "base_uri": "https://localhost:8080/",
          "height": 70
        },
        "outputId": "95007e45-e8c3-43ea-f9d8-c883843505e5"
      },
      "source": [
        "a = '와 대박 별로에요'\n",
        "print(a)\n",
        "# 예측\n",
        "print(clf.predict(count_vect.transform([a])))\n",
        "# 확률\n",
        "print(clf.predict_proba(count_vect.transform([a])))"
      ],
      "execution_count": 43,
      "outputs": [
        {
          "output_type": "stream",
          "text": [
            "와 대박 별로에요\n",
            "[1]\n",
            "[[0.17241417 0.82758583]]\n"
          ],
          "name": "stdout"
        }
      ]
    },
    {
      "cell_type": "markdown",
      "metadata": {
        "id": "eJVjdf2HMzLW",
        "colab_type": "text"
      },
      "source": [
        "### 5. TEST 데이터 예측\n",
        "- 데이터 정제\n",
        "- 데이터 토큰화\n",
        "- 불용어 처리\n",
        "- 예측 모델 돌리기"
      ]
    },
    {
      "cell_type": "code",
      "metadata": {
        "id": "cCOV_CuSKe9z",
        "colab_type": "code",
        "colab": {}
      },
      "source": [
        "# 데이터 불러오기\n",
        "df_test = pd.DataFrame(pd.read_csv('ratings_test.txt', sep='\\t', quoting=3))"
      ],
      "execution_count": 44,
      "outputs": []
    },
    {
      "cell_type": "code",
      "metadata": {
        "id": "NZwSpyb_M6uq",
        "colab_type": "code",
        "colab": {
          "base_uri": "https://localhost:8080/",
          "height": 87
        },
        "outputId": "4ef5e2e5-e7fa-4d8c-db9d-1969001aae46"
      },
      "source": [
        "# 데이터 결측치 행 확인하기\n",
        "df_test.isnull().sum()"
      ],
      "execution_count": 45,
      "outputs": [
        {
          "output_type": "execute_result",
          "data": {
            "text/plain": [
              "id          0\n",
              "document    3\n",
              "label       0\n",
              "dtype: int64"
            ]
          },
          "metadata": {
            "tags": []
          },
          "execution_count": 45
        }
      ]
    },
    {
      "cell_type": "code",
      "metadata": {
        "id": "kOI6Sy3ONjBl",
        "colab_type": "code",
        "colab": {}
      },
      "source": [
        "# 데이터 결측치 삭제하기\n",
        "df_test = df_test.dropna()"
      ],
      "execution_count": 46,
      "outputs": []
    },
    {
      "cell_type": "code",
      "metadata": {
        "id": "3wC4hYAF2vta",
        "colab_type": "code",
        "colab": {
          "base_uri": "https://localhost:8080/",
          "height": 195
        },
        "outputId": "b38b9c10-f370-43f3-aba5-0cef923b77b4"
      },
      "source": [
        "df_test.head()"
      ],
      "execution_count": 47,
      "outputs": [
        {
          "output_type": "execute_result",
          "data": {
            "text/html": [
              "<div>\n",
              "<style scoped>\n",
              "    .dataframe tbody tr th:only-of-type {\n",
              "        vertical-align: middle;\n",
              "    }\n",
              "\n",
              "    .dataframe tbody tr th {\n",
              "        vertical-align: top;\n",
              "    }\n",
              "\n",
              "    .dataframe thead th {\n",
              "        text-align: right;\n",
              "    }\n",
              "</style>\n",
              "<table border=\"1\" class=\"dataframe\">\n",
              "  <thead>\n",
              "    <tr style=\"text-align: right;\">\n",
              "      <th></th>\n",
              "      <th>id</th>\n",
              "      <th>document</th>\n",
              "      <th>label</th>\n",
              "    </tr>\n",
              "  </thead>\n",
              "  <tbody>\n",
              "    <tr>\n",
              "      <th>0</th>\n",
              "      <td>6270596</td>\n",
              "      <td>굳 ㅋ</td>\n",
              "      <td>1</td>\n",
              "    </tr>\n",
              "    <tr>\n",
              "      <th>1</th>\n",
              "      <td>9274899</td>\n",
              "      <td>GDNTOPCLASSINTHECLUB</td>\n",
              "      <td>0</td>\n",
              "    </tr>\n",
              "    <tr>\n",
              "      <th>2</th>\n",
              "      <td>8544678</td>\n",
              "      <td>뭐야 이 평점들은.... 나쁘진 않지만 10점 짜리는 더더욱 아니잖아</td>\n",
              "      <td>0</td>\n",
              "    </tr>\n",
              "    <tr>\n",
              "      <th>3</th>\n",
              "      <td>6825595</td>\n",
              "      <td>지루하지는 않은데 완전 막장임... 돈주고 보기에는....</td>\n",
              "      <td>0</td>\n",
              "    </tr>\n",
              "    <tr>\n",
              "      <th>4</th>\n",
              "      <td>6723715</td>\n",
              "      <td>3D만 아니었어도 별 다섯 개 줬을텐데.. 왜 3D로 나와서 제 심기를 불편하게 하죠??</td>\n",
              "      <td>0</td>\n",
              "    </tr>\n",
              "  </tbody>\n",
              "</table>\n",
              "</div>"
            ],
            "text/plain": [
              "        id                                           document  label\n",
              "0  6270596                                                굳 ㅋ      1\n",
              "1  9274899                               GDNTOPCLASSINTHECLUB      0\n",
              "2  8544678             뭐야 이 평점들은.... 나쁘진 않지만 10점 짜리는 더더욱 아니잖아      0\n",
              "3  6825595                   지루하지는 않은데 완전 막장임... 돈주고 보기에는....      0\n",
              "4  6723715  3D만 아니었어도 별 다섯 개 줬을텐데.. 왜 3D로 나와서 제 심기를 불편하게 하죠??      0"
            ]
          },
          "metadata": {
            "tags": []
          },
          "execution_count": 47
        }
      ]
    },
    {
      "cell_type": "code",
      "metadata": {
        "id": "_4FotvnfdHZl",
        "colab_type": "code",
        "colab": {
          "base_uri": "https://localhost:8080/",
          "height": 1000
        },
        "outputId": "68578efc-c639-4c20-b219-10c0b4fcafc4"
      },
      "source": [
        "# 데이터 토큰화\n",
        "mecabTag_test = []\n",
        "for doc in df_test['document']:\n",
        "    mecabTag_test.append(mecab.pos(doc))\n",
        "mecabTag_test[:5]"
      ],
      "execution_count": 48,
      "outputs": [
        {
          "output_type": "execute_result",
          "data": {
            "text/plain": [
              "[[('굳', 'NNG'), ('ㅋ', 'IC')],\n",
              " [('GDNTOPCLASSINTHECLUB', 'SL')],\n",
              " [('뭐', 'NP'),\n",
              "  ('야', 'VCP+EF'),\n",
              "  ('이', 'MM'),\n",
              "  ('평점', 'NNG'),\n",
              "  ('들', 'XSN'),\n",
              "  ('은', 'JX'),\n",
              "  ('.', 'SF'),\n",
              "  ('...', 'SY'),\n",
              "  ('나쁘', 'VA'),\n",
              "  ('진', 'EC+JX'),\n",
              "  ('않', 'VX'),\n",
              "  ('지만', 'EC'),\n",
              "  ('10', 'SN'),\n",
              "  ('점', 'NNBC'),\n",
              "  ('짜리', 'XSN'),\n",
              "  ('는', 'JX'),\n",
              "  ('더더욱', 'MAG'),\n",
              "  ('아니', 'VCN'),\n",
              "  ('잖아', 'EC')],\n",
              " [('지루', 'XR'),\n",
              "  ('하', 'XSA'),\n",
              "  ('지', 'EC'),\n",
              "  ('는', 'JX'),\n",
              "  ('않', 'VX'),\n",
              "  ('은데', 'EC'),\n",
              "  ('완전', 'NNG'),\n",
              "  ('막장', 'NNG'),\n",
              "  ('임', 'VCP+ETN'),\n",
              "  ('.', 'SF'),\n",
              "  ('..', 'SY'),\n",
              "  ('돈', 'NNG'),\n",
              "  ('주', 'VV'),\n",
              "  ('고', 'EC'),\n",
              "  ('보', 'VX'),\n",
              "  ('기', 'ETN'),\n",
              "  ('에', 'JKB'),\n",
              "  ('는', 'JX'),\n",
              "  ('.', 'SF'),\n",
              "  ('...', 'SY')],\n",
              " [('3', 'SN'),\n",
              "  ('D', 'SL'),\n",
              "  ('만', 'JX'),\n",
              "  ('아니', 'VCN'),\n",
              "  ('었', 'EP'),\n",
              "  ('어도', 'EC'),\n",
              "  ('별', 'MM'),\n",
              "  ('다섯', 'NR'),\n",
              "  ('개', 'NNBC'),\n",
              "  ('줬', 'VV+EP'),\n",
              "  ('을', 'ETM'),\n",
              "  ('텐데', 'NNB+VCP+EF'),\n",
              "  ('.', 'SF'),\n",
              "  ('.', 'SY'),\n",
              "  ('왜', 'MAG'),\n",
              "  ('3', 'SN'),\n",
              "  ('D', 'SL'),\n",
              "  ('로', 'JKB'),\n",
              "  ('나와서', 'VV+EC'),\n",
              "  ('제', 'NP+JKG'),\n",
              "  ('심기', 'NNG'),\n",
              "  ('를', 'JKO'),\n",
              "  ('불편', 'NNG'),\n",
              "  ('하', 'XSA'),\n",
              "  ('게', 'EC'),\n",
              "  ('하', 'VX'),\n",
              "  ('죠', 'EF'),\n",
              "  ('?', 'SF'),\n",
              "  ('?', 'SF')]]"
            ]
          },
          "metadata": {
            "tags": []
          },
          "execution_count": 48
        }
      ]
    },
    {
      "cell_type": "code",
      "metadata": {
        "id": "Wp0zshvogPel",
        "colab_type": "code",
        "colab": {
          "base_uri": "https://localhost:8080/",
          "height": 54
        },
        "outputId": "802f2fc5-1829-4de2-f0a8-98f7f738ad1f"
      },
      "source": [
        "# 불용어 처리\n",
        "X_test = []\n",
        "for content in mecabTag_test:\n",
        "  clear = []\n",
        "  for pos in content:\n",
        "    if pos[1] not in stopPos:\n",
        "        if pos[0] not in stopWord:\n",
        "          if len(pos[1]) > 1:          # 한 글자 삭제하기\n",
        "            clear.append(pos[0])\n",
        "  X_test.append(' '.join(clear))\n",
        "print(X_test[0:10])"
      ],
      "execution_count": 49,
      "outputs": [
        {
          "output_type": "stream",
          "text": [
            "['굳 ㅋ', 'GDNTOPCLASSINTHECLUB', '뭐 야 이 평점 들 나쁘 진 않 10 점 짜리 더더욱 아니', '지루 하 않 완전 막장 임 돈 주 보', '3 D 아니 별 다섯 개 줬 텐데 왜 3 D 나와서 제 심기 불편 하 하 ? ?', '음악 주 된 최고 음악 영화', '진정 한 쓰레기', '마치 미국 애니 튀어나온 듯 한 창의 력 없 로봇 디자인 고개 젖 한다', '갈수록 개판 되 가 중국 영화 유치 하 내용 없 폼 잡 끝 남 말 안 되 무기 유치 한 cg 남무 아 그립 동사서독 같 영화 이건 3 류 아류 작 이', '이별 아픔 뒤 찾아오 새로운 인연 기쁨 But 모든 사람 그렇 않']\n"
          ],
          "name": "stdout"
        }
      ]
    },
    {
      "cell_type": "code",
      "metadata": {
        "id": "gI7cqmpTgtzL",
        "colab_type": "code",
        "colab": {}
      },
      "source": [
        "Y_test = list(df_test['label'])"
      ],
      "execution_count": 50,
      "outputs": []
    },
    {
      "cell_type": "code",
      "metadata": {
        "id": "5W9rA0ngWX_h",
        "colab_type": "code",
        "colab": {}
      },
      "source": [
        "# 예측 모델 돌리기\n",
        "test_y = []\n",
        "for i in X_test:\n",
        "  label = clf.predict(count_vect.transform([i]))\n",
        "  test_y.append(label[0])"
      ],
      "execution_count": 51,
      "outputs": []
    },
    {
      "cell_type": "markdown",
      "metadata": {
        "id": "ASjDRAIhjCo4",
        "colab_type": "text"
      },
      "source": [
        "### 6. 정확도 확인"
      ]
    },
    {
      "cell_type": "code",
      "metadata": {
        "id": "u2v6En_TWH-0",
        "colab_type": "code",
        "colab": {
          "base_uri": "https://localhost:8080/",
          "height": 34
        },
        "outputId": "01524032-d536-4cf0-8608-5b1a3874776b"
      },
      "source": [
        "acc = 0\n",
        "for i,label in enumerate(Y_test):\n",
        "  if test_y[i] == label:\n",
        "    acc += 1\n",
        "\n",
        "acc/len(Y_test)*100"
      ],
      "execution_count": 52,
      "outputs": [
        {
          "output_type": "execute_result",
          "data": {
            "text/plain": [
              "81.20487229233754"
            ]
          },
          "metadata": {
            "tags": []
          },
          "execution_count": 52
        }
      ]
    }
  ]
}
