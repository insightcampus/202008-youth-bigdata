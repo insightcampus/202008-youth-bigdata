{
 "cells": [
  {
   "cell_type": "markdown",
   "metadata": {},
   "source": [
    "*tool - jupyter notebook (python=3.6)"
   ]
  },
  {
   "cell_type": "markdown",
   "metadata": {},
   "source": [
    "# 단어의 표현 (Word Representation)\n",
    "- 단어의 표현: 문자를 수치화하는 방법으로 자연어 처리에 필수\n",
    "- Local Representation (통계 기반): 단어만을 보고 수치화\n",
    "    + One-hot Encoding\n",
    "    + N-gram\n",
    "    + Count Based (BoW, TDM, TF-IDF)\n",
    "- Distributed Representation (딥러닝 기반): 주변단어 참고하여 수치화\n",
    "    + Prediction Based (Word2Vec, FastText)\n",
    "    + Count Based (Windows-GloVe, Full Document-LSA)"
   ]
  },
  {
   "cell_type": "markdown",
   "metadata": {},
   "source": [
    "## BOW (Bag of Words)\n",
    "- 단어의 등장 빈도수에 기반해서 문장(문서)을 표현하는 방법\n",
    "- 구현 방법\n",
    "    + 1. 직접 구현하기\n",
    "    + 2. sklearn : 통째로\n",
    "    + 3. gensim : 쪼개서\n",
    "- 단점\n",
    "    + 단어의 순서 고려하지 않음\n",
    "    + BoW 는 sparse > 벡터공간의 낭비, 연산 비효율성 초래\n",
    "    + 단어 빈도수가 무조건 중요도 의미 X > TF-IDF 로 보완\n",
    "    + 전처리 매우 중요, 같은 의미의 다른 단어 표현 다르게 인식 \n",
    "        + 뉴스와 같은 매체(+) 소설(-)"
   ]
  },
  {
   "cell_type": "markdown",
   "metadata": {},
   "source": [
    "## 1. 직접 구현하기\n",
    "- 공백 토큰화 > 각 토큰에 고유 인덱스 부여 > 각 인덱스 위치에 토큰 등장 횟수 기록"
   ]
  },
  {
   "cell_type": "code",
   "execution_count": 1,
   "metadata": {},
   "outputs": [],
   "source": [
    "docs = ['오늘 동물원에서 코끼리 원숭이를 보고 코끼리 원숭이에게 먹이를 줬어',\n",
    "       '오늘 동물원에서 원숭이에게 사과를 줬어']"
   ]
  },
  {
   "cell_type": "code",
   "execution_count": 2,
   "metadata": {},
   "outputs": [
    {
     "data": {
      "text/plain": [
       "[['오늘', '동물원에서', '코끼리', '원숭이를', '보고', '코끼리', '원숭이에게', '먹이를', '줬어'],\n",
       " ['오늘', '동물원에서', '원숭이에게', '사과를', '줬어']]"
      ]
     },
     "execution_count": 2,
     "metadata": {},
     "output_type": "execute_result"
    }
   ],
   "source": [
    "# 띄어쓰기 토큰화\n",
    "doc_ls = []\n",
    "for doc in docs:\n",
    "    doc_ls.append(doc.split(' '))\n",
    "    \n",
    "doc_ls"
   ]
  },
  {
   "cell_type": "code",
   "execution_count": 3,
   "metadata": {},
   "outputs": [
    {
     "data": {
      "text/plain": [
       "defaultdict(<function __main__.<lambda>()>, {})"
      ]
     },
     "execution_count": 3,
     "metadata": {},
     "output_type": "execute_result"
    }
   ],
   "source": [
    "# 빈 딕셔너리 만들어놓기\n",
    "from collections import defaultdict\n",
    "word2id = defaultdict(lambda : len(word2id))\n",
    "\n",
    "word2id"
   ]
  },
  {
   "cell_type": "code",
   "execution_count": 4,
   "metadata": {
    "scrolled": false
   },
   "outputs": [
    {
     "data": {
      "text/plain": [
       "defaultdict(<function __main__.<lambda>()>,\n",
       "            {'오늘': 0,\n",
       "             '동물원에서': 1,\n",
       "             '코끼리': 2,\n",
       "             '원숭이를': 3,\n",
       "             '보고': 4,\n",
       "             '원숭이에게': 5,\n",
       "             '먹이를': 6,\n",
       "             '줬어': 7,\n",
       "             '사과를': 8})"
      ]
     },
     "execution_count": 4,
     "metadata": {},
     "output_type": "execute_result"
    }
   ],
   "source": [
    "# 빈 딕셔너리에 토큰들 하나씩 넣기(중복 방지)\n",
    "for doc in doc_ls:\n",
    "    for token in doc:\n",
    "        word2id[token]       # 고유한 값에만 인덱스 부여(중복 값 추가하지 않음)\n",
    "        \n",
    "word2id"
   ]
  },
  {
   "cell_type": "code",
   "execution_count": 5,
   "metadata": {},
   "outputs": [
    {
     "name": "stdout",
     "output_type": "stream",
     "text": [
      "[0 0 0 0 0 0 0 0 0]\n",
      "[0 0 0 0 0 0 0 0 0]\n"
     ]
    },
    {
     "data": {
      "text/plain": [
       "[[1, 1, 2, 1, 1, 1, 1, 1, 0], [1, 1, 0, 0, 0, 1, 0, 1, 1]]"
      ]
     },
     "execution_count": 5,
     "metadata": {},
     "output_type": "execute_result"
    }
   ],
   "source": [
    "import numpy as np\n",
    "BoW_ls = []\n",
    "for i, doc in enumerate(doc_ls):\n",
    "    bow = np.zeros(len(word2id), dtype=int)\n",
    "    print(bow)\n",
    "    for token in doc:\n",
    "        bow[word2id[token]] += 1         # 해당 토큰의 위치(column)\n",
    "    BoW_ls.append(bow.tolist())\n",
    "# 1차원 배열    \n",
    "BoW_ls"
   ]
  },
  {
   "cell_type": "code",
   "execution_count": 6,
   "metadata": {},
   "outputs": [
    {
     "data": {
      "text/plain": [
       "array([2, 2, 2, 1, 1, 2, 1, 2, 1])"
      ]
     },
     "execution_count": 6,
     "metadata": {},
     "output_type": "execute_result"
    }
   ],
   "source": [
    "# docs 전체를 하나로 처리하기\n",
    "import numpy as np\n",
    "bag_of_words = np.zeros(len(word2id), dtype=int)\n",
    "\n",
    "for list in doc_ls:\n",
    "    for word in list:\n",
    "        index = word2id[word]\n",
    "        bag_of_words[index] += 1 \n",
    "\n",
    "bag_of_words"
   ]
  },
  {
   "cell_type": "code",
   "execution_count": 7,
   "metadata": {},
   "outputs": [
    {
     "name": "stdout",
     "output_type": "stream",
     "text": [
      "sorted_vocab [(0, '오늘'), (1, '동물원에서'), (2, '코끼리'), (3, '원숭이를'), (4, '보고'), (5, '원숭이에게'), (6, '먹이를'), (7, '줬어'), (8, '사과를')]\n"
     ]
    }
   ],
   "source": [
    "# DataFrame화 및 시각화\n",
    "from IPython.core import display as ICD\n",
    "import pandas as pd\n",
    "sorted_vocab = sorted((value, key) for key, value in word2id.items())\n",
    "print('sorted_vocab', sorted_vocab)"
   ]
  },
  {
   "cell_type": "code",
   "execution_count": 8,
   "metadata": {},
   "outputs": [
    {
     "name": "stdout",
     "output_type": "stream",
     "text": [
      "vocab ['오늘', '동물원에서', '코끼리', '원숭이를', '보고', '원숭이에게', '먹이를', '줬어', '사과를']\n"
     ]
    }
   ],
   "source": [
    "vocab = []\n",
    "for v in sorted_vocab:\n",
    "    vocab.append(v[1])\n",
    "print('vocab',vocab)"
   ]
  },
  {
   "cell_type": "code",
   "execution_count": 9,
   "metadata": {
    "scrolled": false
   },
   "outputs": [
    {
     "name": "stdout",
     "output_type": "stream",
     "text": [
      "문서0 : 오늘 동물원에서 원숭이에게 사과를 줬어\n"
     ]
    },
    {
     "data": {
      "text/html": [
       "<div>\n",
       "<style scoped>\n",
       "    .dataframe tbody tr th:only-of-type {\n",
       "        vertical-align: middle;\n",
       "    }\n",
       "\n",
       "    .dataframe tbody tr th {\n",
       "        vertical-align: top;\n",
       "    }\n",
       "\n",
       "    .dataframe thead th {\n",
       "        text-align: right;\n",
       "    }\n",
       "</style>\n",
       "<table border=\"1\" class=\"dataframe\">\n",
       "  <thead>\n",
       "    <tr style=\"text-align: right;\">\n",
       "      <th></th>\n",
       "      <th>오늘</th>\n",
       "      <th>동물원에서</th>\n",
       "      <th>코끼리</th>\n",
       "      <th>원숭이를</th>\n",
       "      <th>보고</th>\n",
       "      <th>원숭이에게</th>\n",
       "      <th>먹이를</th>\n",
       "      <th>줬어</th>\n",
       "      <th>사과를</th>\n",
       "    </tr>\n",
       "  </thead>\n",
       "  <tbody>\n",
       "    <tr>\n",
       "      <th>0</th>\n",
       "      <td>1</td>\n",
       "      <td>1</td>\n",
       "      <td>2</td>\n",
       "      <td>1</td>\n",
       "      <td>1</td>\n",
       "      <td>1</td>\n",
       "      <td>1</td>\n",
       "      <td>1</td>\n",
       "      <td>0</td>\n",
       "    </tr>\n",
       "  </tbody>\n",
       "</table>\n",
       "</div>"
      ],
      "text/plain": [
       "   오늘  동물원에서  코끼리  원숭이를  보고  원숭이에게  먹이를  줬어  사과를\n",
       "0   1      1    2     1   1      1    1   1    0"
      ]
     },
     "metadata": {},
     "output_type": "display_data"
    },
    {
     "name": "stdout",
     "output_type": "stream",
     "text": [
      "\n",
      "\n",
      "\n",
      "문서1 : 오늘 동물원에서 원숭이에게 사과를 줬어\n"
     ]
    },
    {
     "data": {
      "text/html": [
       "<div>\n",
       "<style scoped>\n",
       "    .dataframe tbody tr th:only-of-type {\n",
       "        vertical-align: middle;\n",
       "    }\n",
       "\n",
       "    .dataframe tbody tr th {\n",
       "        vertical-align: top;\n",
       "    }\n",
       "\n",
       "    .dataframe thead th {\n",
       "        text-align: right;\n",
       "    }\n",
       "</style>\n",
       "<table border=\"1\" class=\"dataframe\">\n",
       "  <thead>\n",
       "    <tr style=\"text-align: right;\">\n",
       "      <th></th>\n",
       "      <th>오늘</th>\n",
       "      <th>동물원에서</th>\n",
       "      <th>코끼리</th>\n",
       "      <th>원숭이를</th>\n",
       "      <th>보고</th>\n",
       "      <th>원숭이에게</th>\n",
       "      <th>먹이를</th>\n",
       "      <th>줬어</th>\n",
       "      <th>사과를</th>\n",
       "    </tr>\n",
       "  </thead>\n",
       "  <tbody>\n",
       "    <tr>\n",
       "      <th>0</th>\n",
       "      <td>1</td>\n",
       "      <td>1</td>\n",
       "      <td>0</td>\n",
       "      <td>0</td>\n",
       "      <td>0</td>\n",
       "      <td>1</td>\n",
       "      <td>0</td>\n",
       "      <td>1</td>\n",
       "      <td>1</td>\n",
       "    </tr>\n",
       "  </tbody>\n",
       "</table>\n",
       "</div>"
      ],
      "text/plain": [
       "   오늘  동물원에서  코끼리  원숭이를  보고  원숭이에게  먹이를  줬어  사과를\n",
       "0   1      1    0     0   0      1    0   1    1"
      ]
     },
     "metadata": {},
     "output_type": "display_data"
    },
    {
     "name": "stdout",
     "output_type": "stream",
     "text": [
      "\n",
      "\n",
      "\n"
     ]
    }
   ],
   "source": [
    "for i in range(len(docs)):\n",
    "    print(\"문서{} : {}\".format(i, docs[1]))\n",
    "    ICD.display(pd.DataFrame([BoW_ls[i]], columns=vocab))\n",
    "    print(\"\\n\\n\")"
   ]
  },
  {
   "cell_type": "code",
   "execution_count": 10,
   "metadata": {},
   "outputs": [
    {
     "data": {
      "text/plain": [
       "[[1, 1, 2, 1, 1, 1, 1, 1, 0], [1, 1, 0, 0, 0, 1, 0, 1, 1]]"
      ]
     },
     "execution_count": 10,
     "metadata": {},
     "output_type": "execute_result"
    }
   ],
   "source": [
    "BoW_ls"
   ]
  },
  {
   "cell_type": "markdown",
   "metadata": {},
   "source": [
    "## 번외. 단어의 순서를 고려하지 않은 BOW"
   ]
  },
  {
   "cell_type": "code",
   "execution_count": 11,
   "metadata": {},
   "outputs": [],
   "source": [
    "docs = ['나는 양념 치킨을 좋아해 하지만 후라이드 치킨을 싫어해',\n",
    "       '나는 후라이드 치킨을 좋아해 하지만 양념 치킨을 싫어해']"
   ]
  },
  {
   "cell_type": "code",
   "execution_count": 12,
   "metadata": {},
   "outputs": [
    {
     "data": {
      "text/plain": [
       "[['나는', '양념', '치킨을', '좋아해', '하지만', '후라이드', '치킨을', '싫어해'],\n",
       " ['나는', '후라이드', '치킨을', '좋아해', '하지만', '양념', '치킨을', '싫어해']]"
      ]
     },
     "execution_count": 12,
     "metadata": {},
     "output_type": "execute_result"
    }
   ],
   "source": [
    "doc_ls = []\n",
    "for doc in docs:\n",
    "    doc_ls.append(doc.split())\n",
    "doc_ls"
   ]
  },
  {
   "cell_type": "code",
   "execution_count": 13,
   "metadata": {},
   "outputs": [
    {
     "data": {
      "text/plain": [
       "defaultdict(<function __main__.<lambda>()>,\n",
       "            {'나는': 0,\n",
       "             '양념': 1,\n",
       "             '치킨을': 2,\n",
       "             '좋아해': 3,\n",
       "             '하지만': 4,\n",
       "             '후라이드': 5,\n",
       "             '싫어해': 6})"
      ]
     },
     "execution_count": 13,
     "metadata": {},
     "output_type": "execute_result"
    }
   ],
   "source": [
    "from collections import defaultdict\n",
    "word3id = defaultdict(lambda : len(word3id))\n",
    "\n",
    "for doc in doc_ls:\n",
    "    for token in doc:\n",
    "        word3id[token]\n",
    "word3id"
   ]
  },
  {
   "cell_type": "code",
   "execution_count": 14,
   "metadata": {},
   "outputs": [
    {
     "name": "stdout",
     "output_type": "stream",
     "text": [
      "[0 0 0 0 0 0 0]\n",
      "[0 0 0 0 0 0 0]\n"
     ]
    },
    {
     "data": {
      "text/plain": [
       "[[1, 1, 2, 1, 1, 1, 1], [1, 1, 2, 1, 1, 1, 1]]"
      ]
     },
     "execution_count": 14,
     "metadata": {},
     "output_type": "execute_result"
    }
   ],
   "source": [
    "import numpy as np\n",
    "BoW_ls_chi = []\n",
    "for doc in doc_ls:\n",
    "    bow = np.zeros(len(word3id), dtype=int)\n",
    "    print(bow)\n",
    "    for token in doc:\n",
    "        bow[word3id[token]] += 1         # 해당 토큰의 위치(column)\n",
    "    BoW_ls_chi.append(bow.tolist())\n",
    "# 1차원 배열    \n",
    "BoW_ls_chi"
   ]
  },
  {
   "cell_type": "code",
   "execution_count": 15,
   "metadata": {},
   "outputs": [
    {
     "data": {
      "text/plain": [
       "dict_items([('나는', 0), ('양념', 1), ('치킨을', 2), ('좋아해', 3), ('하지만', 4), ('후라이드', 5), ('싫어해', 6)])"
      ]
     },
     "execution_count": 15,
     "metadata": {},
     "output_type": "execute_result"
    }
   ],
   "source": [
    "word3id.items()"
   ]
  },
  {
   "cell_type": "code",
   "execution_count": 16,
   "metadata": {},
   "outputs": [
    {
     "name": "stdout",
     "output_type": "stream",
     "text": [
      "sorted_vocab [(0, '나는'), (1, '양념'), (2, '치킨을'), (3, '좋아해'), (4, '하지만'), (5, '후라이드'), (6, '싫어해')]\n"
     ]
    }
   ],
   "source": [
    "from IPython.core import display as ICD\n",
    "import pandas as pd\n",
    "sorted_vocab = sorted((value, key) for key, value in word3id.items())\n",
    "print('sorted_vocab', sorted_vocab)"
   ]
  },
  {
   "cell_type": "code",
   "execution_count": 17,
   "metadata": {
    "scrolled": true
   },
   "outputs": [
    {
     "name": "stdout",
     "output_type": "stream",
     "text": [
      "vocab ['나는', '양념', '치킨을', '좋아해', '하지만', '후라이드', '싫어해']\n"
     ]
    }
   ],
   "source": [
    "vocab = []\n",
    "for v in sorted_vocab:\n",
    "    vocab.append(v[1])\n",
    "print('vocab',vocab)"
   ]
  },
  {
   "cell_type": "code",
   "execution_count": 18,
   "metadata": {},
   "outputs": [
    {
     "name": "stdout",
     "output_type": "stream",
     "text": [
      "문서0 : 나는 후라이드 치킨을 좋아해 하지만 양념 치킨을 싫어해\n"
     ]
    },
    {
     "data": {
      "text/html": [
       "<div>\n",
       "<style scoped>\n",
       "    .dataframe tbody tr th:only-of-type {\n",
       "        vertical-align: middle;\n",
       "    }\n",
       "\n",
       "    .dataframe tbody tr th {\n",
       "        vertical-align: top;\n",
       "    }\n",
       "\n",
       "    .dataframe thead th {\n",
       "        text-align: right;\n",
       "    }\n",
       "</style>\n",
       "<table border=\"1\" class=\"dataframe\">\n",
       "  <thead>\n",
       "    <tr style=\"text-align: right;\">\n",
       "      <th></th>\n",
       "      <th>나는</th>\n",
       "      <th>양념</th>\n",
       "      <th>치킨을</th>\n",
       "      <th>좋아해</th>\n",
       "      <th>하지만</th>\n",
       "      <th>후라이드</th>\n",
       "      <th>싫어해</th>\n",
       "    </tr>\n",
       "  </thead>\n",
       "  <tbody>\n",
       "    <tr>\n",
       "      <th>0</th>\n",
       "      <td>1</td>\n",
       "      <td>1</td>\n",
       "      <td>2</td>\n",
       "      <td>1</td>\n",
       "      <td>1</td>\n",
       "      <td>1</td>\n",
       "      <td>1</td>\n",
       "    </tr>\n",
       "  </tbody>\n",
       "</table>\n",
       "</div>"
      ],
      "text/plain": [
       "   나는  양념  치킨을  좋아해  하지만  후라이드  싫어해\n",
       "0   1   1    2    1    1     1    1"
      ]
     },
     "metadata": {},
     "output_type": "display_data"
    },
    {
     "name": "stdout",
     "output_type": "stream",
     "text": [
      "\n",
      "\n",
      "\n",
      "문서1 : 나는 후라이드 치킨을 좋아해 하지만 양념 치킨을 싫어해\n"
     ]
    },
    {
     "data": {
      "text/html": [
       "<div>\n",
       "<style scoped>\n",
       "    .dataframe tbody tr th:only-of-type {\n",
       "        vertical-align: middle;\n",
       "    }\n",
       "\n",
       "    .dataframe tbody tr th {\n",
       "        vertical-align: top;\n",
       "    }\n",
       "\n",
       "    .dataframe thead th {\n",
       "        text-align: right;\n",
       "    }\n",
       "</style>\n",
       "<table border=\"1\" class=\"dataframe\">\n",
       "  <thead>\n",
       "    <tr style=\"text-align: right;\">\n",
       "      <th></th>\n",
       "      <th>나는</th>\n",
       "      <th>양념</th>\n",
       "      <th>치킨을</th>\n",
       "      <th>좋아해</th>\n",
       "      <th>하지만</th>\n",
       "      <th>후라이드</th>\n",
       "      <th>싫어해</th>\n",
       "    </tr>\n",
       "  </thead>\n",
       "  <tbody>\n",
       "    <tr>\n",
       "      <th>0</th>\n",
       "      <td>1</td>\n",
       "      <td>1</td>\n",
       "      <td>2</td>\n",
       "      <td>1</td>\n",
       "      <td>1</td>\n",
       "      <td>1</td>\n",
       "      <td>1</td>\n",
       "    </tr>\n",
       "  </tbody>\n",
       "</table>\n",
       "</div>"
      ],
      "text/plain": [
       "   나는  양념  치킨을  좋아해  하지만  후라이드  싫어해\n",
       "0   1   1    2    1    1     1    1"
      ]
     },
     "metadata": {},
     "output_type": "display_data"
    },
    {
     "name": "stdout",
     "output_type": "stream",
     "text": [
      "\n",
      "\n",
      "\n"
     ]
    }
   ],
   "source": [
    "for i in range(len(docs)):\n",
    "    print(\"문서{} : {}\".format(i, docs[1]))\n",
    "    ICD.display(pd.DataFrame([BoW_ls_chi[i]], columns=vocab))\n",
    "    print(\"\\n\\n\")"
   ]
  },
  {
   "cell_type": "markdown",
   "metadata": {},
   "source": [
    "## 2. sklearn"
   ]
  },
  {
   "cell_type": "code",
   "execution_count": 19,
   "metadata": {},
   "outputs": [],
   "source": [
    "docs = ['오늘 동물원에서 코끼리 원숭이를 보고 코끼리 원숭이에게 먹이를 줬어',\n",
    "       '오늘 동물원에서 코끼리 원숭이를 보고 코끼리 원숭이에게 먹이를 줬어 오늘 동물원에서 원숭이에게 사과를 줬어']"
   ]
  },
  {
   "cell_type": "code",
   "execution_count": 20,
   "metadata": {},
   "outputs": [
    {
     "name": "stdout",
     "output_type": "stream",
     "text": [
      "[[1 1 1 0 1 1 1 1 2]\n",
      " [2 1 1 1 2 1 2 2 2]]\n",
      "['동물원에서', '먹이를', '보고', '사과를', '오늘', '원숭이를', '원숭이에게', '줬어', '코끼리']\n"
     ]
    }
   ],
   "source": [
    "# 공백토큰화 > 토큰빈도계산 : CountVectorizer\n",
    "from sklearn.feature_extraction.text import CountVectorizer\n",
    "\n",
    "# 선언\n",
    "count_vect = CountVectorizer()\n",
    "BoW = count_vect.fit_transform(docs)  # 전체 문서 넣어주기(리스트 형태로)\n",
    "print(BoW.toarray())\n",
    "vocab = count_vect.get_feature_names()   # 각각의 인덱스에 해당하는 이름 알려줌\n",
    "print(vocab)"
   ]
  },
  {
   "cell_type": "code",
   "execution_count": 21,
   "metadata": {},
   "outputs": [
    {
     "name": "stdout",
     "output_type": "stream",
     "text": [
      "문서0 : 오늘 동물원에서 코끼리 원숭이를 보고 코끼리 원숭이에게 먹이를 줬어\n",
      "\n",
      "\n",
      "   동물원에서  먹이를  보고  사과를  오늘  원숭이를  원숭이에게  줬어  코끼리\n",
      "0      1    1   1    0   1     1      1   1    2\n",
      "\n",
      "\n",
      "\n",
      "문서1 : 오늘 동물원에서 코끼리 원숭이를 보고 코끼리 원숭이에게 먹이를 줬어 오늘 동물원에서 원숭이에게 사과를 줬어\n",
      "\n",
      "\n",
      "   동물원에서  먹이를  보고  사과를  오늘  원숭이를  원숭이에게  줬어  코끼리\n",
      "0      2    1   1    1   2     1      2   2    2\n",
      "\n",
      "\n",
      "\n"
     ]
    }
   ],
   "source": [
    "# from IPython.core import display as ICD\n",
    "import pandas as pd\n",
    "\n",
    "for i in range(len(docs)):\n",
    "    print(\"문서{} : {}\".format(i, docs[i]))\n",
    "    # ICD.display(pd.DataFrame([Bow.toarray()[i], columns=vocab))\n",
    "    print('\\n')\n",
    "    df = pd.DataFrame([BoW.toarray()[i]],columns=vocab)\n",
    "    print(df)\n",
    "    print(\"\\n\\n\")"
   ]
  },
  {
   "cell_type": "markdown",
   "metadata": {},
   "source": [
    "## 3. gensim"
   ]
  },
  {
   "cell_type": "code",
   "execution_count": 22,
   "metadata": {},
   "outputs": [],
   "source": [
    "# !pip install gensim"
   ]
  },
  {
   "cell_type": "code",
   "execution_count": 23,
   "metadata": {},
   "outputs": [],
   "source": [
    "docs = ['오늘 동물원에서 코끼리 원숭이를 보고 코끼리 원숭이에게 먹이를 줬어',\n",
    "       '오늘 동물원에서 코끼리 원숭이를 보고 코끼리 원숭이에게 먹이를 줬어 오늘 동물원에서 원숭이에게 사과를 줬어']"
   ]
  },
  {
   "cell_type": "code",
   "execution_count": 24,
   "metadata": {},
   "outputs": [
    {
     "name": "stdout",
     "output_type": "stream",
     "text": [
      "[['오늘', '동물원에서', '코끼리', '원숭이를', '보고', '코끼리', '원숭이에게', '먹이를', '줬어'], ['오늘', '동물원에서', '코끼리', '원숭이를', '보고', '코끼리', '원숭이에게', '먹이를', '줬어', '오늘', '동물원에서', '원숭이에게', '사과를', '줬어']]\n",
      "----\n",
      "Dictionary(9 unique tokens: ['동물원에서', '먹이를', '보고', '오늘', '원숭이를']...)\n"
     ]
    },
    {
     "data": {
      "text/plain": [
       "[[(0, 1), (1, 1), (2, 1), (3, 1), (4, 1), (5, 1), (6, 1), (7, 2)],\n",
       " [(0, 2), (1, 1), (2, 1), (3, 2), (4, 1), (5, 2), (6, 2), (7, 2), (8, 1)]]"
      ]
     },
     "execution_count": 24,
     "metadata": {},
     "output_type": "execute_result"
    }
   ],
   "source": [
    "# 공백으로 토큰화해서 리스트 생성 > 딕셔너리에 넣기 > 토큰화한 리스트를 doc2bow로 변환\n",
    "from gensim import corpora\n",
    "\n",
    "doc_ls = []\n",
    "for doc in docs:\n",
    "    doc_ls.append(doc.split())\n",
    "print(doc_ls)\n",
    "id2word = corpora.Dictionary(doc_ls)\n",
    "print('----')\n",
    "print(id2word)\n",
    "BoW = []\n",
    "for doc in doc_ls:\n",
    "    BoW.append(id2word.doc2bow(doc))\n",
    "BoW\n",
    "# 0값을 가지는 아이는 보여주지 않음"
   ]
  },
  {
   "cell_type": "code",
   "execution_count": 25,
   "metadata": {},
   "outputs": [
    {
     "data": {
      "text/plain": [
       "[(0, 1), (1, 1), (2, 1), (3, 1), (4, 1), (5, 1), (6, 1), (7, 2)]"
      ]
     },
     "execution_count": 25,
     "metadata": {},
     "output_type": "execute_result"
    }
   ],
   "source": [
    "BoW[0]"
   ]
  },
  {
   "cell_type": "code",
   "execution_count": 26,
   "metadata": {},
   "outputs": [
    {
     "name": "stdout",
     "output_type": "stream",
     "text": [
      "문서0 : 오늘 동물원에서 코끼리 원숭이를 보고 코끼리 원숭이에게 먹이를 줬어\n"
     ]
    },
    {
     "data": {
      "text/html": [
       "<div>\n",
       "<style scoped>\n",
       "    .dataframe tbody tr th:only-of-type {\n",
       "        vertical-align: middle;\n",
       "    }\n",
       "\n",
       "    .dataframe tbody tr th {\n",
       "        vertical-align: top;\n",
       "    }\n",
       "\n",
       "    .dataframe thead th {\n",
       "        text-align: right;\n",
       "    }\n",
       "</style>\n",
       "<table border=\"1\" class=\"dataframe\">\n",
       "  <thead>\n",
       "    <tr style=\"text-align: right;\">\n",
       "      <th></th>\n",
       "      <th>동물원에서</th>\n",
       "      <th>먹이를</th>\n",
       "      <th>보고</th>\n",
       "      <th>오늘</th>\n",
       "      <th>원숭이를</th>\n",
       "      <th>원숭이에게</th>\n",
       "      <th>줬어</th>\n",
       "      <th>코끼리</th>\n",
       "      <th>사과를</th>\n",
       "    </tr>\n",
       "  </thead>\n",
       "  <tbody>\n",
       "    <tr>\n",
       "      <th>0</th>\n",
       "      <td>1.0</td>\n",
       "      <td>1.0</td>\n",
       "      <td>1.0</td>\n",
       "      <td>1.0</td>\n",
       "      <td>1.0</td>\n",
       "      <td>1.0</td>\n",
       "      <td>1.0</td>\n",
       "      <td>2.0</td>\n",
       "      <td>0.0</td>\n",
       "    </tr>\n",
       "  </tbody>\n",
       "</table>\n",
       "</div>"
      ],
      "text/plain": [
       "   동물원에서  먹이를   보고   오늘  원숭이를  원숭이에게   줬어  코끼리  사과를\n",
       "0    1.0  1.0  1.0  1.0   1.0    1.0  1.0  2.0  0.0"
      ]
     },
     "metadata": {},
     "output_type": "display_data"
    },
    {
     "name": "stdout",
     "output_type": "stream",
     "text": [
      "\n",
      "\n",
      "\n",
      "문서1 : 오늘 동물원에서 코끼리 원숭이를 보고 코끼리 원숭이에게 먹이를 줬어 오늘 동물원에서 원숭이에게 사과를 줬어\n"
     ]
    },
    {
     "data": {
      "text/html": [
       "<div>\n",
       "<style scoped>\n",
       "    .dataframe tbody tr th:only-of-type {\n",
       "        vertical-align: middle;\n",
       "    }\n",
       "\n",
       "    .dataframe tbody tr th {\n",
       "        vertical-align: top;\n",
       "    }\n",
       "\n",
       "    .dataframe thead th {\n",
       "        text-align: right;\n",
       "    }\n",
       "</style>\n",
       "<table border=\"1\" class=\"dataframe\">\n",
       "  <thead>\n",
       "    <tr style=\"text-align: right;\">\n",
       "      <th></th>\n",
       "      <th>동물원에서</th>\n",
       "      <th>먹이를</th>\n",
       "      <th>보고</th>\n",
       "      <th>오늘</th>\n",
       "      <th>원숭이를</th>\n",
       "      <th>원숭이에게</th>\n",
       "      <th>줬어</th>\n",
       "      <th>코끼리</th>\n",
       "      <th>사과를</th>\n",
       "    </tr>\n",
       "  </thead>\n",
       "  <tbody>\n",
       "    <tr>\n",
       "      <th>0</th>\n",
       "      <td>2.0</td>\n",
       "      <td>1.0</td>\n",
       "      <td>1.0</td>\n",
       "      <td>2.0</td>\n",
       "      <td>1.0</td>\n",
       "      <td>2.0</td>\n",
       "      <td>2.0</td>\n",
       "      <td>2.0</td>\n",
       "      <td>1.0</td>\n",
       "    </tr>\n",
       "  </tbody>\n",
       "</table>\n",
       "</div>"
      ],
      "text/plain": [
       "   동물원에서  먹이를   보고   오늘  원숭이를  원숭이에게   줬어  코끼리  사과를\n",
       "0    2.0  1.0  1.0  2.0   1.0    2.0  2.0  2.0  1.0"
      ]
     },
     "metadata": {},
     "output_type": "display_data"
    },
    {
     "name": "stdout",
     "output_type": "stream",
     "text": [
      "\n",
      "\n",
      "\n"
     ]
    }
   ],
   "source": [
    "# DataFrame화 및 시각화\n",
    "# 보기 편하게 sparse2full 사용(0이어서 안보이는 애를 0으로 채워줌)\n",
    "from gensim.matutils import sparse2full\n",
    "from IPython.core import display as ICD\n",
    "import pandas as pd\n",
    "vocab = [id2word[i] for i in id2word.keys()]\n",
    "for i in range(len(docs)):\n",
    "    print(\"문서{} : {}\".format(i, docs[i]))\n",
    "    ICD.display(pd.DataFrame([sparse2full(BoW[i], len(vocab))], columns = vocab))\n",
    "    print(\"\\n\\n\")"
   ]
  },
  {
   "cell_type": "code",
   "execution_count": 27,
   "metadata": {},
   "outputs": [
    {
     "name": "stdout",
     "output_type": "stream",
     "text": [
      "[['오늘', '동물원에서', '코끼리', '원숭이를', '보고', '코끼리', '원숭이에게', '사과를', '줬어'], ['오늘', '동물원에서', '코끼리', '원숭이를', '코끼리', '원숭이에게', '먹이를', '줬어', '오늘', '동물원에서', '원숭이에게', '사과를', '줬어']]\n",
      "----\n",
      "Dictionary(9 unique tokens: ['동물원에서', '보고', '사과를', '오늘', '원숭이를']...)\n",
      "문서0 : 오늘 동물원에서 코끼리 원숭이를 보고 코끼리 원숭이에게 사과를 줬어\n"
     ]
    },
    {
     "data": {
      "text/html": [
       "<div>\n",
       "<style scoped>\n",
       "    .dataframe tbody tr th:only-of-type {\n",
       "        vertical-align: middle;\n",
       "    }\n",
       "\n",
       "    .dataframe tbody tr th {\n",
       "        vertical-align: top;\n",
       "    }\n",
       "\n",
       "    .dataframe thead th {\n",
       "        text-align: right;\n",
       "    }\n",
       "</style>\n",
       "<table border=\"1\" class=\"dataframe\">\n",
       "  <thead>\n",
       "    <tr style=\"text-align: right;\">\n",
       "      <th></th>\n",
       "      <th>동물원에서</th>\n",
       "      <th>보고</th>\n",
       "      <th>사과를</th>\n",
       "      <th>오늘</th>\n",
       "      <th>원숭이를</th>\n",
       "      <th>원숭이에게</th>\n",
       "      <th>줬어</th>\n",
       "      <th>코끼리</th>\n",
       "      <th>먹이를</th>\n",
       "    </tr>\n",
       "  </thead>\n",
       "  <tbody>\n",
       "    <tr>\n",
       "      <th>0</th>\n",
       "      <td>1.0</td>\n",
       "      <td>1.0</td>\n",
       "      <td>1.0</td>\n",
       "      <td>1.0</td>\n",
       "      <td>1.0</td>\n",
       "      <td>1.0</td>\n",
       "      <td>1.0</td>\n",
       "      <td>2.0</td>\n",
       "      <td>0.0</td>\n",
       "    </tr>\n",
       "  </tbody>\n",
       "</table>\n",
       "</div>"
      ],
      "text/plain": [
       "   동물원에서   보고  사과를   오늘  원숭이를  원숭이에게   줬어  코끼리  먹이를\n",
       "0    1.0  1.0  1.0  1.0   1.0    1.0  1.0  2.0  0.0"
      ]
     },
     "metadata": {},
     "output_type": "display_data"
    },
    {
     "name": "stdout",
     "output_type": "stream",
     "text": [
      "\n",
      "\n",
      "\n",
      "문서1 : 오늘 동물원에서 코끼리 원숭이를 코끼리 원숭이에게 먹이를 줬어 오늘 동물원에서 원숭이에게 사과를 줬어\n"
     ]
    },
    {
     "data": {
      "text/html": [
       "<div>\n",
       "<style scoped>\n",
       "    .dataframe tbody tr th:only-of-type {\n",
       "        vertical-align: middle;\n",
       "    }\n",
       "\n",
       "    .dataframe tbody tr th {\n",
       "        vertical-align: top;\n",
       "    }\n",
       "\n",
       "    .dataframe thead th {\n",
       "        text-align: right;\n",
       "    }\n",
       "</style>\n",
       "<table border=\"1\" class=\"dataframe\">\n",
       "  <thead>\n",
       "    <tr style=\"text-align: right;\">\n",
       "      <th></th>\n",
       "      <th>동물원에서</th>\n",
       "      <th>보고</th>\n",
       "      <th>사과를</th>\n",
       "      <th>오늘</th>\n",
       "      <th>원숭이를</th>\n",
       "      <th>원숭이에게</th>\n",
       "      <th>줬어</th>\n",
       "      <th>코끼리</th>\n",
       "      <th>먹이를</th>\n",
       "    </tr>\n",
       "  </thead>\n",
       "  <tbody>\n",
       "    <tr>\n",
       "      <th>0</th>\n",
       "      <td>2.0</td>\n",
       "      <td>0.0</td>\n",
       "      <td>1.0</td>\n",
       "      <td>2.0</td>\n",
       "      <td>1.0</td>\n",
       "      <td>2.0</td>\n",
       "      <td>2.0</td>\n",
       "      <td>2.0</td>\n",
       "      <td>1.0</td>\n",
       "    </tr>\n",
       "  </tbody>\n",
       "</table>\n",
       "</div>"
      ],
      "text/plain": [
       "   동물원에서   보고  사과를   오늘  원숭이를  원숭이에게   줬어  코끼리  먹이를\n",
       "0    2.0  0.0  1.0  2.0   1.0    2.0  2.0  2.0  1.0"
      ]
     },
     "metadata": {},
     "output_type": "display_data"
    },
    {
     "name": "stdout",
     "output_type": "stream",
     "text": [
      "\n",
      "\n",
      "\n"
     ]
    }
   ],
   "source": [
    "docs = ['오늘 동물원에서 코끼리 원숭이를 보고 코끼리 원숭이에게 사과를 줬어',\n",
    "       '오늘 동물원에서 코끼리 원숭이를 코끼리 원숭이에게 먹이를 줬어 오늘 동물원에서 원숭이에게 사과를 줬어']\n",
    "\n",
    "# 공백으로 토큰화해서 리스트 생성 > 딕셔너리에 넣기 > doc2bow로 변환\n",
    "from gensim import corpora\n",
    "\n",
    "doc_ls = []\n",
    "for doc in docs:\n",
    "    doc_ls.append(doc.split())\n",
    "print(doc_ls)\n",
    "id2word = corpora.Dictionary(doc_ls)\n",
    "print('----')\n",
    "print(id2word)\n",
    "BoW = []\n",
    "for doc in doc_ls:\n",
    "    BoW.append(id2word.doc2bow(doc))\n",
    "BoW\n",
    "# 0값을 가지는 아이는 보여주지 않음\n",
    "\n",
    "# 보기 편하게 sparse2full 사용(0이어서 안보이는 애를 0으로 채워줌)\n",
    "from gensim.matutils import sparse2full\n",
    "from IPython.core import display as ICD\n",
    "import pandas as pd\n",
    "vocab = [id2word[i] for i in id2word.keys()]\n",
    "for i in range(len(docs)):\n",
    "    print(\"문서{} : {}\".format(i, docs[i]))\n",
    "    ICD.display(pd.DataFrame([sparse2full(BoW[i], len(vocab))], columns = vocab))\n",
    "    print(\"\\n\\n\")"
   ]
  },
  {
   "cell_type": "code",
   "execution_count": 28,
   "metadata": {},
   "outputs": [
    {
     "data": {
      "text/plain": [
       "[(0, 2), (2, 1), (3, 2), (4, 1), (5, 2), (6, 2), (7, 2), (8, 1)]"
      ]
     },
     "execution_count": 28,
     "metadata": {},
     "output_type": "execute_result"
    }
   ],
   "source": [
    "BoW[1]"
   ]
  }
 ],
 "metadata": {
  "kernelspec": {
   "display_name": "Python 3",
   "language": "python",
   "name": "python3"
  },
  "language_info": {
   "codemirror_mode": {
    "name": "ipython",
    "version": 3
   },
   "file_extension": ".py",
   "mimetype": "text/x-python",
   "name": "python",
   "nbconvert_exporter": "python",
   "pygments_lexer": "ipython3",
   "version": "3.6.10"
  }
 },
 "nbformat": 4,
 "nbformat_minor": 4
}
