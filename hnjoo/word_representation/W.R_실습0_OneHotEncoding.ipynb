{
 "cells": [
  {
   "cell_type": "markdown",
   "metadata": {},
   "source": [
    "*tool - jupyter notebook (python=3.6)"
   ]
  },
  {
   "cell_type": "markdown",
   "metadata": {},
   "source": [
    "# 단어의 표현 (Word Representation)\n",
    "- 단어의 표현: 문자를 수치화하는 방법으로 자연어 처리에 필수\n",
    "- Local Representation (통계 기반): 단어만을 보고 수치화\n",
    "    + One-hot Encoding\n",
    "    + N-gram\n",
    "    + Count Based (BoW, TDM, TF-IDF)\n",
    "- Distributed Representation (딥러닝 기반): 주변단어 참고하여 수치화\n",
    "    + Prediction Based (Word2Vec, FastText)\n",
    "    + Count Based (Windows-GloVe, Full Document-LSA)"
   ]
  },
  {
   "cell_type": "markdown",
   "metadata": {},
   "source": [
    "## 원핫 인코딩 (One-hot encoding)\n",
    "- 각각의 벡터를 one-hot vector\n",
    "- 구현 방법\n",
    "    + 1. 직접 구현하기\n",
    "    + 2. sklearn\n",
    "- 단점\n",
    "    + 차원의 문제: 표현하고자 하는 단어 증가 > 차원수도 증가\n",
    "    + 벡터가 단어의 의미를 담지 못함"
   ]
  },
  {
   "cell_type": "markdown",
   "metadata": {},
   "source": [
    "## 1. 직접 구현하기"
   ]
  },
  {
   "cell_type": "code",
   "execution_count": 1,
   "metadata": {},
   "outputs": [],
   "source": [
    "# 인코딩 대상 단어를 담은 리스트\n",
    "word_ls = ['원숭이','바나나','사과','코끼리']"
   ]
  },
  {
   "cell_type": "code",
   "execution_count": 2,
   "metadata": {},
   "outputs": [],
   "source": [
    "from collections import defaultdict\n",
    "import numpy as np"
   ]
  },
  {
   "cell_type": "code",
   "execution_count": 3,
   "metadata": {},
   "outputs": [
    {
     "data": {
      "text/plain": [
       "defaultdict(<function __main__.<lambda>()>,\n",
       "            {'원숭이': 0, '바나나': 1, '사과': 2, '코끼리': 3})"
      ]
     },
     "execution_count": 3,
     "metadata": {},
     "output_type": "execute_result"
    }
   ],
   "source": [
    "# {단어:인덱스} 사전구축\n",
    "word2id_dic = defaultdict(lambda:len(word2id_dic))    # 사전 내 각 단어마다 인덱스 부여\n",
    "                                                        # len()만큼 딕셔너리 길이를 만들어줌 > 단어 추가할 때 편리\n",
    "for word in word_ls:\n",
    "    word2id_dic[word]\n",
    "\n",
    "word2id_dic"
   ]
  },
  {
   "cell_type": "code",
   "execution_count": 4,
   "metadata": {},
   "outputs": [],
   "source": [
    "# 고유단어갯수 : 4개\n",
    "# n_unique_words = len(word2id_dic)"
   ]
  },
  {
   "cell_type": "code",
   "execution_count": 5,
   "metadata": {},
   "outputs": [
    {
     "data": {
      "text/plain": [
       "array([[0., 0., 0., 0.],\n",
       "       [0., 0., 0., 0.],\n",
       "       [0., 0., 0., 0.],\n",
       "       [0., 0., 0., 0.]])"
      ]
     },
     "execution_count": 5,
     "metadata": {},
     "output_type": "execute_result"
    }
   ],
   "source": [
    "# 원핫 벡터를 만들기 위해 비어있는 벡터 생성\n",
    "# one_hot_vectors = np.zeros((len(word_ls), n_unique_words))\n",
    "one_hot_vectors = np.zeros((len(word_ls), len(word_ls)))\n",
    "one_hot_vectors"
   ]
  },
  {
   "cell_type": "code",
   "execution_count": 6,
   "metadata": {},
   "outputs": [
    {
     "data": {
      "text/plain": [
       "array([[1., 0., 0., 0.],\n",
       "       [0., 1., 0., 0.],\n",
       "       [0., 0., 1., 0.],\n",
       "       [0., 0., 0., 1.]])"
      ]
     },
     "execution_count": 6,
     "metadata": {},
     "output_type": "execute_result"
    }
   ],
   "source": [
    "# 단어고유 인덱스\n",
    "for i, word in enumerate(word_ls):\n",
    "    index = word2id_dic[word]\n",
    "    one_hot_vectors[i,index] += 1  # 단어 고유 인덱스에 1을 더해줌.\n",
    "one_hot_vectors"
   ]
  },
  {
   "cell_type": "code",
   "execution_count": 7,
   "metadata": {
    "scrolled": true
   },
   "outputs": [
    {
     "data": {
      "text/plain": [
       "0"
      ]
     },
     "execution_count": 7,
     "metadata": {},
     "output_type": "execute_result"
    }
   ],
   "source": [
    "word2id_dic['원숭이']"
   ]
  },
  {
   "cell_type": "markdown",
   "metadata": {},
   "source": [
    "## 2. sklearn을 활용한 원핫인코딩\n",
    "- 1) 배열형태로\n",
    "- 2) 라벨 인코더 부분으로(선언>value넣기)\n",
    "- 3) 원핫 인코더 부분으로(인덱스>원핫인코더로)\n",
    "- ref. https://scikit-learn.org/stable/modules/generated/sklearn.preprocessing.OneHotEncoder.html"
   ]
  },
  {
   "cell_type": "code",
   "execution_count": 8,
   "metadata": {},
   "outputs": [],
   "source": [
    "# !pip install sklearn"
   ]
  },
  {
   "cell_type": "code",
   "execution_count": 9,
   "metadata": {},
   "outputs": [],
   "source": [
    "# sklearn을 활용한 one-hot-encoding\n",
    "from numpy import array\n",
    "from numpy import argmax\n",
    "from sklearn.preprocessing import LabelEncoder\n",
    "from sklearn.preprocessing import OneHotEncoder"
   ]
  },
  {
   "cell_type": "code",
   "execution_count": 10,
   "metadata": {},
   "outputs": [
    {
     "data": {
      "text/plain": [
       "array(['원숭이', '바나나', '사과', '코끼리'], dtype='<U3')"
      ]
     },
     "execution_count": 10,
     "metadata": {},
     "output_type": "execute_result"
    }
   ],
   "source": [
    "# 예제 데이터 배열 \n",
    "values = array(word_ls)\n",
    "values"
   ]
  },
  {
   "cell_type": "code",
   "execution_count": 11,
   "metadata": {},
   "outputs": [
    {
     "data": {
      "text/plain": [
       "array([2, 0, 1, 3], dtype=int64)"
      ]
     },
     "execution_count": 11,
     "metadata": {},
     "output_type": "execute_result"
    }
   ],
   "source": [
    "# 문자열에 숫자를 붙임\n",
    "label_enc = LabelEncoder()    # 선언\n",
    "int_enc = label_enc.fit_transform(values)\n",
    "int_enc"
   ]
  },
  {
   "cell_type": "code",
   "execution_count": 12,
   "metadata": {},
   "outputs": [
    {
     "name": "stdout",
     "output_type": "stream",
     "text": [
      "[[2]\n",
      " [0]\n",
      " [1]\n",
      " [3]]\n"
     ]
    },
    {
     "data": {
      "text/plain": [
       "array([[0., 0., 1., 0.],\n",
       "       [1., 0., 0., 0.],\n",
       "       [0., 1., 0., 0.],\n",
       "       [0., 0., 0., 1.]])"
      ]
     },
     "execution_count": 12,
     "metadata": {},
     "output_type": "execute_result"
    }
   ],
   "source": [
    "# binary encode\n",
    "onehot_enc = OneHotEncoder(sparse = False)     # 선언   # False 하면 array 형태로 만든다\n",
    "int_enc = int_enc.reshape(len(int_enc), 1)     # n:1 matrix로 변환\n",
    "print(int_enc)                                 \n",
    "onehot_enc = onehot_enc.fit_transform(int_enc)\n",
    "onehot_enc"
   ]
  },
  {
   "cell_type": "code",
   "execution_count": null,
   "metadata": {},
   "outputs": [],
   "source": []
  }
 ],
 "metadata": {
  "kernelspec": {
   "display_name": "Python 3",
   "language": "python",
   "name": "python3"
  },
  "language_info": {
   "codemirror_mode": {
    "name": "ipython",
    "version": 3
   },
   "file_extension": ".py",
   "mimetype": "text/x-python",
   "name": "python",
   "nbconvert_exporter": "python",
   "pygments_lexer": "ipython3",
   "version": "3.6.10"
  }
 },
 "nbformat": 4,
 "nbformat_minor": 4
}
