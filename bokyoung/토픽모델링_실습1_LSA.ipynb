{
  "nbformat": 4,
  "nbformat_minor": 0,
  "metadata": {
    "colab": {
      "name": "토픽모델링_실습1_LSA.ipynb",
      "provenance": [],
      "authorship_tag": "ABX9TyMOWYo/3VRTtipFksYKZad2",
      "include_colab_link": true
    },
    "kernelspec": {
      "name": "python3",
      "display_name": "Python 3"
    }
  },
  "cells": [
    {
      "cell_type": "markdown",
      "metadata": {
        "id": "view-in-github",
        "colab_type": "text"
      },
      "source": [
        "<a href=\"https://colab.research.google.com/github/insightcampus/202008-youth-bigdata/blob/master/bokyoung/%ED%86%A0%ED%94%BD%EB%AA%A8%EB%8D%B8%EB%A7%81_%EC%8B%A4%EC%8A%B51_LSA.ipynb\" target=\"_parent\"><img src=\"https://colab.research.google.com/assets/colab-badge.svg\" alt=\"Open In Colab\"/></a>"
      ]
    },
    {
      "cell_type": "code",
      "metadata": {
        "id": "rWQCzwz7mtjD",
        "colab_type": "code",
        "colab": {}
      },
      "source": [
        "docs=['바나나 사과 포도 포도',\n",
        "      '사과 포도',\n",
        "      '포도 바나나',\n",
        "      '짜장면 짬뽕 탕수육',\n",
        "      '볶음밥 탕수육',\n",
        "      '짜장면 짬뽕',\n",
        "      '된장찌개 김치찌개 김치 비빔밥',\n",
        "      '김치 된장 비빔밥',\n",
        "      '비빔밥 김치',\n",
        "      '사과 볶음밥 김치 된장']"
      ],
      "execution_count": 1,
      "outputs": []
    },
    {
      "cell_type": "code",
      "metadata": {
        "id": "DLa3cmzrj1Jg",
        "colab_type": "code",
        "colab": {
          "base_uri": "https://localhost:8080/",
          "height": 173
        },
        "outputId": "0cc0132b-e673-4449-9005-518d314c2539"
      },
      "source": [
        "from sklearn.feature_extraction.text import TfidfVectorizer\n",
        "from sklearn.decomposition import TruncatedSVD\n",
        "n_topics= 3\n",
        "\n",
        "#TF-IDF선언\n",
        "tfidf_vect = TfidfVectorizer()\n",
        "tfidf= tfidf_vect.fit_transform(docs)\n",
        "\n",
        "#SVD 선언\n",
        "svd = TruncatedSVD(n_components = n_topics)\n",
        "u_sigma = svd.fit_transform(tfidf)\n",
        "svd.components_"
      ],
      "execution_count": 2,
      "outputs": [
        {
          "output_type": "execute_result",
          "data": {
            "text/plain": [
              "array([[ 0.39094311,  0.08663945,  0.2634605 ,  0.08663945,  0.31533599,\n",
              "         0.1677167 ,  0.33012626,  0.42118555,  0.01907605,  0.01907605,\n",
              "         0.05422822,  0.58747296],\n",
              "       [ 0.49683512,  0.13720069,  0.26962551,  0.13720069, -0.29774469,\n",
              "         0.10773075,  0.49275818, -0.18567019,  0.02131272,  0.02131272,\n",
              "         0.04450862, -0.51222803],\n",
              "       [-0.06285924, -0.02901254, -0.00762375, -0.02901254, -0.01957621,\n",
              "         0.19210545, -0.09004258,  0.00851823,  0.60658392,  0.60658392,\n",
              "         0.46061907, -0.02794911]])"
            ]
          },
          "metadata": {
            "tags": []
          },
          "execution_count": 2
        }
      ]
    },
    {
      "cell_type": "code",
      "metadata": {
        "id": "yEfowf-QnNgl",
        "colab_type": "code",
        "colab": {
          "base_uri": "https://localhost:8080/",
          "height": 69
        },
        "outputId": "5105e681-9916-496c-fb13-49cfd7774e8e"
      },
      "source": [
        "vocab = tfidf_vect.get_feature_names()\n",
        "n=3\n",
        "for idx, topic in enumerate(svd.components_):\n",
        "  print(\"Topic %d:\" % (idx), [(vocab[i], topic[i].round(5)) for i in topic.argsort()[:-n - 1:-1]])"
      ],
      "execution_count": 3,
      "outputs": [
        {
          "output_type": "stream",
          "text": [
            "Topic 0: [('포도', 0.58747), ('사과', 0.42119), ('김치', 0.39094)]\n",
            "Topic 1: [('김치', 0.49684), ('비빔밥', 0.49276), ('된장', 0.26963)]\n",
            "Topic 2: [('짬뽕', 0.60658), ('짜장면', 0.60658), ('탕수육', 0.46062)]\n"
          ],
          "name": "stdout"
        }
      ]
    },
    {
      "cell_type": "markdown",
      "metadata": {
        "id": "ft87AGmuptCT",
        "colab_type": "text"
      },
      "source": [
        "## 단어 백터 간의 상관관계"
      ]
    },
    {
      "cell_type": "code",
      "metadata": {
        "id": "fCiv0bCjpv8Y",
        "colab_type": "code",
        "colab": {
          "base_uri": "https://localhost:8080/",
          "height": 225
        },
        "outputId": "7f7ba0ba-25ef-49ae-a651-b70b4364e743"
      },
      "source": [
        "#단어 백터\n",
        "for i in range(len(vocab)):\n",
        "  print(\"{} : {}\".format(vocab[i], svd.components_.T[i]))"
      ],
      "execution_count": 4,
      "outputs": [
        {
          "output_type": "stream",
          "text": [
            "김치 : [ 0.39094311  0.49683512 -0.06285924]\n",
            "김치찌개 : [ 0.08663945  0.13720069 -0.02901254]\n",
            "된장 : [ 0.2634605   0.26962551 -0.00762375]\n",
            "된장찌개 : [ 0.08663945  0.13720069 -0.02901254]\n",
            "바나나 : [ 0.31533599 -0.29774469 -0.01957621]\n",
            "볶음밥 : [0.1677167  0.10773075 0.19210545]\n",
            "비빔밥 : [ 0.33012626  0.49275818 -0.09004258]\n",
            "사과 : [ 0.42118555 -0.18567019  0.00851823]\n",
            "짜장면 : [0.01907605 0.02131272 0.60658392]\n",
            "짬뽕 : [0.01907605 0.02131272 0.60658392]\n",
            "탕수육 : [0.05422822 0.04450862 0.46061907]\n",
            "포도 : [ 0.58747296 -0.51222803 -0.02794911]\n"
          ],
          "name": "stdout"
        }
      ]
    },
    {
      "cell_type": "code",
      "metadata": {
        "id": "4kJw0gcAtIGq",
        "colab_type": "code",
        "colab": {}
      },
      "source": [
        "import numpy as np\n",
        "from numpy import dot\n",
        "from numpy.linalg import norm\n",
        "\n",
        "#코사인 유사도\n",
        "def cosine_similarity(a,b):\n",
        "  return dot(a,b)/(norm(a)*norm(b))\n",
        "\n",
        "#코사인 유사도를 사용해 행렬의 유사도 구하기\n",
        "def calc_similarity_matrix(vectors):\n",
        "  n_word= len(vectors)\n",
        "  similarity_matrix = np.zeros((n_word, n_word))\n",
        "\n",
        "  for i in range(n_word):\n",
        "    # 위에서 정의한 코사인 유사도 사용\n",
        "    for j in range(i, n_word):\n",
        "      similarity_matrix[j,i] = cosine_similarity(vectors[i], vectors[j]).round(4)\n",
        "\n",
        "  return similarity_matrix"
      ],
      "execution_count": 5,
      "outputs": []
    },
    {
      "cell_type": "code",
      "metadata": {
        "id": "F6_I4GknuGUq",
        "colab_type": "code",
        "colab": {
          "base_uri": "https://localhost:8080/",
          "height": 72
        },
        "outputId": "1cee660c-3814-482e-dc69-c0e4216f6f18"
      },
      "source": [
        "import matplotlib.pyplot as plt\n",
        "import seaborn as sns\n",
        "\n",
        "def visualize_similarity(similarity_matrix) :\n",
        "  uniform_data = similarity_matrix\n",
        "  mask = np.triu(np.ones_like(similarity_matrix, dtype=np.bool))\n",
        "  plt.rcParams['figure.figsize']=[8,6]\n",
        "  ax = sns.heatmap(uniform_data, mask=mask, \n",
        "                   annot=True, fmt=\".2f\", annot_kws={'size':8},\n",
        "                   cmap='coolwarm')\n",
        "  "
      ],
      "execution_count": 6,
      "outputs": [
        {
          "output_type": "stream",
          "text": [
            "/usr/local/lib/python3.6/dist-packages/statsmodels/tools/_testing.py:19: FutureWarning: pandas.util.testing is deprecated. Use the functions in the public API at pandas.testing instead.\n",
            "  import pandas.util.testing as tm\n"
          ],
          "name": "stderr"
        }
      ]
    },
    {
      "cell_type": "code",
      "metadata": {
        "id": "EWX5H0Izt-pp",
        "colab_type": "code",
        "colab": {
          "base_uri": "https://localhost:8080/",
          "height": 55
        },
        "outputId": "67b7ba59-803a-423f-d8ad-ec3b3f22b2c6"
      },
      "source": [
        "print(vocab)"
      ],
      "execution_count": 7,
      "outputs": [
        {
          "output_type": "stream",
          "text": [
            "['김치', '김치찌개', '된장', '된장찌개', '바나나', '볶음밥', '비빔밥', '사과', '짜장면', '짬뽕', '탕수육', '포도']\n"
          ],
          "name": "stdout"
        }
      ]
    },
    {
      "cell_type": "code",
      "metadata": {
        "id": "8VRTGXLDuvB2",
        "colab_type": "code",
        "colab": {
          "base_uri": "https://localhost:8080/",
          "height": 378
        },
        "outputId": "138c294b-9af1-4b9e-b54d-aa3b1184dfb6"
      },
      "source": [
        "word_vectors = svd.components_.T\n",
        "word_similarity_matrix = calc_similarity_matrix(word_vectors)\n",
        "visualize_similarity(word_similarity_matrix)"
      ],
      "execution_count": 8,
      "outputs": [
        {
          "output_type": "display_data",
          "data": {
            "image/png": "[encoded data removed]",
            "text/plain": [
              "<Figure size 576x432 with 2 Axes>"
            ]
          },
          "metadata": {
            "tags": [],
            "needs_background": "light"
          }
        }
      ]
    },
    {
      "cell_type": "markdown",
      "metadata": {
        "id": "OA5QhZuKvmvF",
        "colab_type": "text"
      },
      "source": [
        "## 단어 백터 시각화"
      ]
    },
    {
      "cell_type": "code",
      "metadata": {
        "id": "g2J3tqFhzy_m",
        "colab_type": "code",
        "colab": {
          "base_uri": "https://localhost:8080/",
          "height": 104
        },
        "outputId": "65864f33-cdae-437b-bc13-95787cf53c43"
      },
      "source": [
        "%config InlineBackend.figure_format = 'retina'\n",
        "!apt -qq -y install fonts-nanum"
      ],
      "execution_count": 9,
      "outputs": [
        {
          "output_type": "stream",
          "text": [
            "fonts-nanum is already the newest version (20170925-1).\n",
            "The following package was automatically installed and is no longer required:\n",
            "  libnvidia-common-440\n",
            "Use 'apt autoremove' to remove it.\n",
            "0 upgraded, 0 newly installed, 0 to remove and 39 not upgraded.\n"
          ],
          "name": "stdout"
        }
      ]
    },
    {
      "cell_type": "code",
      "metadata": {
        "id": "cr0PaZnGz2ZH",
        "colab_type": "code",
        "colab": {}
      },
      "source": [
        "import matplotlib as mpl\n",
        "import matplotlib.pyplot as plt\n",
        "import matplotlib.font_manager as fm\n",
        "from pandas.plotting import register_matplotlib_converters"
      ],
      "execution_count": 10,
      "outputs": []
    },
    {
      "cell_type": "code",
      "metadata": {
        "id": "3kqm6ARCz6ck",
        "colab_type": "code",
        "colab": {}
      },
      "source": [
        "fontpath = '/usr/share/fonts/truetype/nanum/NanumBarunGothic.ttf'\n",
        "font = fm.FontProperties(fname=fontpath, size=9)\n",
        "plt.rc('font', family='NanumBarunGothic') \n",
        "plt.rcParams[\"figure.figsize\"] = (20, 10)\n",
        "register_matplotlib_converters()\n",
        "mpl.font_manager._rebuild()\n",
        "mpl.pyplot.rc('font', family='NanumGothic')\n",
        "fm._rebuild()"
      ],
      "execution_count": 11,
      "outputs": []
    },
    {
      "cell_type": "code",
      "metadata": {
        "id": "rN90NAImv-O8",
        "colab_type": "code",
        "colab": {}
      },
      "source": [
        "from sklearn.manifold import TSNE\n",
        "import numpy as np\n",
        "vectors = word_vectors\n",
        "labels = tfidf_vect.get_feature_names()\n",
        "def visualize_vectors(vectors, labels):\n",
        "  tsne = TSNE(n_components=2, random_state=0, n_iter=10000, perplexity=2)\n",
        "  np.set_printoptions(suppress=True)\n",
        "  T= tsne.fit_transform(vectors)\n",
        "\n",
        "  plt.figure(figsize=(10,6))\n",
        "  plt.scatter(T[:,0], T[:,1], c='orange', edgecolors='r')\n",
        "  for label, x, y in zip(labels, T[:,0], T[:,1]):\n",
        "    plt.annotate(label, xy=(x+1, y+1), xytext=(0,0),\n",
        "                 textcoords='offset points')"
      ],
      "execution_count": 12,
      "outputs": []
    },
    {
      "cell_type": "code",
      "metadata": {
        "id": "qGzvQjmbw-mk",
        "colab_type": "code",
        "colab": {
          "base_uri": "https://localhost:8080/",
          "height": 463
        },
        "outputId": "9039b6d8-3203-42ce-812a-73fa453eaf56"
      },
      "source": [
        "visualize_vectors(vectors, labels)"
      ],
      "execution_count": 13,
      "outputs": [
        {
          "output_type": "stream",
          "text": [
            "/usr/local/lib/python3.6/dist-packages/matplotlib/backends/backend_agg.py:214: RuntimeWarning: Glyph 8722 missing from current font.\n",
            "  font.set_text(s, 0.0, flags=flags)\n",
            "/usr/local/lib/python3.6/dist-packages/matplotlib/backends/backend_agg.py:183: RuntimeWarning: Glyph 8722 missing from current font.\n",
            "  font.set_text(s, 0, flags=flags)\n"
          ],
          "name": "stderr"
        },
        {
          "output_type": "display_data",
          "data": {
            "image/png": "[encoded data removed]",
            "text/plain": [
              "<Figure size 720x432 with 1 Axes>"
            ]
          },
          "metadata": {
            "tags": [],
            "image/png": {
              "width": 610,
              "height": 357
            },
            "needs_background": "light"
          }
        }
      ]
    },
    {
      "cell_type": "code",
      "metadata": {
        "id": "zBv6p82-xBjr",
        "colab_type": "code",
        "colab": {}
      },
      "source": [
        ""
      ],
      "execution_count": 13,
      "outputs": []
    }
  ]
}