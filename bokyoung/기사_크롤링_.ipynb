{
  "nbformat": 4,
  "nbformat_minor": 0,
  "metadata": {
    "kernelspec": {
      "display_name": "Python 3",
      "language": "python",
      "name": "python3"
    },
    "language_info": {
      "codemirror_mode": {
        "name": "ipython",
        "version": 3
      },
      "file_extension": ".py",
      "mimetype": "text/x-python",
      "name": "python",
      "nbconvert_exporter": "python",
      "pygments_lexer": "ipython3",
      "version": "3.6.10"
    },
    "colab": {
      "name": "기사 크롤링 .ipynb",
      "provenance": [],
      "include_colab_link": true
    }
  },
  "cells": [
    {
      "cell_type": "markdown",
      "metadata": {
        "id": "view-in-github",
        "colab_type": "text"
      },
      "source": [
        "<a href=\"https://colab.research.google.com/github/insightcampus/202008-youth-bigdata/blob/master/bokyoung/%EA%B8%B0%EC%82%AC_%ED%81%AC%EB%A1%A4%EB%A7%81_.ipynb\" target=\"_parent\"><img src=\"https://colab.research.google.com/assets/colab-badge.svg\" alt=\"Open In Colab\"/></a>"
      ]
    },
    {
      "cell_type": "code",
      "metadata": {
        "id": "nEy0dnR54-4M",
        "colab_type": "code",
        "colab": {}
      },
      "source": [
        "from bs4 import BeautifulSoup\n",
        "import requests\n",
        "import pandas as pd\n",
        "import numpy as np\n",
        "url= \"https://www.yna.co.kr/view/AKR20200204081000017?section=it/it\"\n",
        "html= requests.get(url).text"
      ],
      "execution_count": null,
      "outputs": []
    },
    {
      "cell_type": "code",
      "metadata": {
        "id": "JZDuYsFb4-4R",
        "colab_type": "code",
        "colab": {}
      },
      "source": [
        "soup = BeautifulSoup(html, 'html.parser')\n",
        "div = soup.find(\"div\",{\"class\":\"story-news article\"})\n",
        "content=\"\""
      ],
      "execution_count": null,
      "outputs": []
    },
    {
      "cell_type": "code",
      "metadata": {
        "id": "zUYeFG7P4-4U",
        "colab_type": "code",
        "colab": {},
        "outputId": "5c0de66c-f440-4ed9-a290-05f89572dd53"
      },
      "source": [
        "div= soup.find('div',class_=\"story-news article\")\n",
        "p_tag= div.find_all('p')\n",
        "for i in p_tag:\n",
        "    content+=i.text\n",
        "content[:500]"
      ],
      "execution_count": null,
      "outputs": [
        {
          "output_type": "execute_result",
          "data": {
            "text/plain": [
              "'(서울=연합뉴스) 홍지인 기자 = 구글의 칼라 브롬버그 \\'공익을 위한 AI\\' 프로그램 리드가 4일 역삼동 구글코리아에서 화상 기자간담회를 갖고 있다. 2020. 2. 4. (서울=연합뉴스) 홍지인 기자 = 구글은 인공지능(AI) 기술을 활용한 기상 예측 모델을 개발해 일부 분야에서는 미국 정부보다 더 뛰어난 예보 결과를 내놓고 있다고 4일 밝혔다. 구글의 칼라 브롬버그 \\'공익을 위한 AI\\' 프로그램 리드는 이날 서울 역삼동 구글코리아에서 가진 화상 기자간담회에서 \"신경망을 이용한 기상 예측은 기존 예측 방법보다 훨씬 정확하다\"고 말했다.  구글의 \\'나우캐스트\\' 기상 예측 모델은 6시간 이내 단기 예보에 초점을 맞추고 기상 레이더 관측 자료와 위성 사진 등을 모아 유넷(U-Net)이라는 신경망으로 계산한다. 기존 모델로는 몇 시간이 걸리는 작업을 5~10분 만에 내놓을 수 있고, 공간 해상도도 1㎞로 미국 해양대기청(NOAA)의 예보모델 \\'HRRR\\'보다 10배 더 상세하다고 구글은 소'"
            ]
          },
          "metadata": {
            "tags": []
          },
          "execution_count": 46
        }
      ]
    },
    {
      "cell_type": "code",
      "metadata": {
        "id": "4dgQN6QV4-4Y",
        "colab_type": "code",
        "colab": {},
        "outputId": "0927ead5-441d-4741-a746-ea6e2cbdd804"
      },
      "source": [
        "#Okt (Twitter tokenizer 가 v0.5.0. 부터 Okt로 변경)\n",
        "from konlpy.tag import Okt\n",
        "okt=Okt()\n",
        "okt_tokens= okt.morphs(content)\n",
        "print(okt_tokens)"
      ],
      "execution_count": null,
      "outputs": [
        {
          "output_type": "stream",
          "text": [
            "['(', '서울', '=', '연합뉴스', ')', '홍', '지인', '기자', '=', '구글', '의', '칼라', '브롬', '버그', \"'\", '공익', '을', '위', '한', 'AI', \"'\", '프로그램', '리드', '가', '4일', '역삼동', '구글', '코리아', '에서', '화상', '기자간담회', '를', '갖고', '있다', '.', '2020', '.', '2', '.', '4', '.', '(', '서울', '=', '연합뉴스', ')', '홍', '지인', '기자', '=', '구글', '은', '인공', '지능', '(', 'AI', ')', '기술', '을', '활용', '한', '기상', '예측', '모델', '을', '개발', '해', '일부', '분야', '에서는', '미국', '정부', '보다', '더', '뛰어난', '예보', '결과', '를', '내놓고', '있다고', '4일', '밝혔다', '.', '구글', '의', '칼라', '브롬', '버그', \"'\", '공익', '을', '위', '한', 'AI', \"'\", '프로그램', '리드', '는', '이', '날', '서울', '역삼동', '구글', '코리아', '에서', '가진', '화상', '기자간담회', '에서', '\"', '신경망', '을', '이용', '한', '기상', '예측', '은', '기존', '예측', '방법', '보다', '훨씬', '정확하다', '\"', '고', '말', '했다', '.', '구글', '의', \"'\", '나우', '캐스트', \"'\", '기상', '예측', '모델', '은', '6시간', '이내', '단기', '예보', '에', '초점', '을', '맞추고', '기상', '레이더', '관측', '자료', '와', '위성', '사진', '등', '을', '모아', '유넷', '(', 'U', '-', 'Net', ')', '이라는', '신경망', '으로', '계산', '한다', '.', '기존', '모델', '로는', '몇', '시간', '이', '걸리는', '작업', '을', '5~10분', '만에', '내놓을', '수', '있고', ',', '공간', '해상도', '도', '1', '㎞', '로', '미국', '해양', '대기', '청', '(', 'NOAA', ')', '의', '예보', '모델', \"'\", 'HRRR', \"'\", '보다', '10', '배', '더', '상세', '하다고', '구글', '은', '소개', '했다', '.', '예보', '정확도', '면', '에서는', '1~3시간', '단', '기', '예보', '의', '경우', '도', 'HRRR', '보다', '더', '뛰어나다고', '구글', '은', '분석', '했다', '.', '단', ',', '5~6시간', '이상', '예보', '에서는', 'HRRR', '이', '더', '정확했다', '.', '칼라', '리드', '는', '\"', '지금', '시점', '에서', '당장', '기상', '예측', '모델', '을', '상용', '화할', '계획', '은', '없다', '\"', '며', '\"', '머신', '러닝', '기법', '을', '이용', '해', '얼마나', '날씨', '를', '정확하게', '예측', '할', '수', '있는지에', '대해', '연구', '과', '제로', '만', '삼고', '있다', '\"', '고', '말', '했다', '.', '함', '유근', '전남대', '지구', '환경', '과학부', '교수', '는', '이', '날', '간담', '회', '에서', \"'\", '합성곱', '신경망', '기법', \"'(\", 'CNN', '·', 'Convolutional', 'Neural', 'Network', ')', '을', '응용', '한', '엘니뇨', '예측', '모형', '을', '소개', '했다', '.', '그', '가', '개발', '한', '엘니뇨', '예측', '모형', '은', '향후', '18', '개월', '동안', '70%', '이상', '정확도', '로', '엘니뇨', '발생', '가능성', '을', '맞출', '수', '있다', '.', '기존', '모델', '은', '예능', '가능', '기간', '이', '1년', '정도', '였다고', '함', '교수', '는', '소개', '했다', '.', '함', '교수', '는', '\"', '엘니뇨', '의', '예측', '성능', '이', '18', '개월', '로', '늘어나면', '엘니뇨', '로', '인해', '발생', '하는', '전', '세계', '적', '인', '곡물', '가격', '변동', '등', '에', '선제', '적', '으로', '대응', '할', '수', '있게', '된다', '\"', '고', '설명', '했다', '.', 'ljungberg@yna.co.kr', '<', '저작권', '자', '(', 'c', ')', '연합뉴스', ',', '무단', '전', '재', '-', '재', '배포', '금지', '>', '2020/02', '/', '04', '11:33', '송', '고']\n"
          ],
          "name": "stdout"
        }
      ]
    },
    {
      "cell_type": "code",
      "metadata": {
        "id": "gEg6sWIc4-4c",
        "colab_type": "code",
        "colab": {},
        "outputId": "deaefb5f-1527-40c8-956b-5035e043f4d5"
      },
      "source": [
        "#Okt\n",
        "oktTag = []\n",
        "for token in okt_tokens:\n",
        "    oktTag+= okt.pos(token)\n",
        "print(oktTag)"
      ],
      "execution_count": null,
      "outputs": [
        {
          "output_type": "stream",
          "text": [
            "[('(', 'Punctuation'), ('서울', 'Noun'), ('=', 'Punctuation'), ('연합뉴스', 'Noun'), (')', 'Punctuation'), ('홍', 'Noun'), ('지인', 'Noun'), ('기자', 'Noun'), ('=', 'Punctuation'), ('구글', 'Noun'), ('의', 'Noun'), ('칼라', 'Noun'), ('브롬', 'Noun'), ('버그', 'Noun'), (\"'\", 'Punctuation'), ('공익', 'Noun'), ('을', 'Josa'), ('위', 'Noun'), ('한', 'Verb'), ('AI', 'Alpha'), (\"'\", 'Punctuation'), ('프로그램', 'Noun'), ('리드', 'Noun'), ('가', 'Verb'), ('4일', 'Number'), ('역삼동', 'Noun'), ('구글', 'Noun'), ('코리아', 'Noun'), ('에서', 'Josa'), ('화상', 'Noun'), ('기자간담회', 'Noun'), ('를', 'Noun'), ('갖고', 'Verb'), ('있다', 'Adjective'), ('.', 'Punctuation'), ('2020', 'Number'), ('.', 'Punctuation'), ('2', 'Number'), ('.', 'Punctuation'), ('4', 'Number'), ('.', 'Punctuation'), ('(', 'Punctuation'), ('서울', 'Noun'), ('=', 'Punctuation'), ('연합뉴스', 'Noun'), (')', 'Punctuation'), ('홍', 'Noun'), ('지인', 'Noun'), ('기자', 'Noun'), ('=', 'Punctuation'), ('구글', 'Noun'), ('은', 'Noun'), ('인공', 'Noun'), ('지능', 'Noun'), ('(', 'Punctuation'), ('AI', 'Alpha'), (')', 'Punctuation'), ('기술', 'Noun'), ('을', 'Josa'), ('활용', 'Noun'), ('한', 'Verb'), ('기상', 'Noun'), ('예측', 'Noun'), ('모델', 'Noun'), ('을', 'Josa'), ('개발', 'Noun'), ('해', 'Noun'), ('일부', 'Noun'), ('분야', 'Noun'), ('에서는', 'Josa'), ('미국', 'Noun'), ('정부', 'Noun'), ('보다', 'Verb'), ('더', 'Noun'), ('뛰어난', 'Adjective'), ('예보', 'Noun'), ('결과', 'Noun'), ('를', 'Noun'), ('내놓고', 'Verb'), ('있다고', 'Adjective'), ('4일', 'Number'), ('밝혔다', 'Verb'), ('.', 'Punctuation'), ('구글', 'Noun'), ('의', 'Noun'), ('칼라', 'Noun'), ('브롬', 'Noun'), ('버그', 'Noun'), (\"'\", 'Punctuation'), ('공익', 'Noun'), ('을', 'Josa'), ('위', 'Noun'), ('한', 'Verb'), ('AI', 'Alpha'), (\"'\", 'Punctuation'), ('프로그램', 'Noun'), ('리드', 'Noun'), ('는', 'Verb'), ('이', 'Noun'), ('날', 'Noun'), ('서울', 'Noun'), ('역삼동', 'Noun'), ('구글', 'Noun'), ('코리아', 'Noun'), ('에서', 'Josa'), ('가진', 'Verb'), ('화상', 'Noun'), ('기자간담회', 'Noun'), ('에서', 'Josa'), ('\"', 'Punctuation'), ('신경망', 'Noun'), ('을', 'Josa'), ('이용', 'Noun'), ('한', 'Verb'), ('기상', 'Noun'), ('예측', 'Noun'), ('은', 'Noun'), ('기존', 'Noun'), ('예측', 'Noun'), ('방법', 'Noun'), ('보다', 'Verb'), ('훨씬', 'Adverb'), ('정확하다', 'Adjective'), ('\"', 'Punctuation'), ('고', 'Noun'), ('말', 'Noun'), ('했다', 'Verb'), ('.', 'Punctuation'), ('구글', 'Noun'), ('의', 'Noun'), (\"'\", 'Punctuation'), ('나우', 'Noun'), ('캐스트', 'Noun'), (\"'\", 'Punctuation'), ('기상', 'Noun'), ('예측', 'Noun'), ('모델', 'Noun'), ('은', 'Noun'), ('6시간', 'Number'), ('이내', 'Noun'), ('단기', 'Noun'), ('예보', 'Noun'), ('에', 'Josa'), ('초점', 'Noun'), ('을', 'Josa'), ('맞추고', 'Verb'), ('기상', 'Noun'), ('레이더', 'Noun'), ('관측', 'Noun'), ('자료', 'Noun'), ('와', 'Verb'), ('위성', 'Noun'), ('사진', 'Noun'), ('등', 'Noun'), ('을', 'Josa'), ('모아', 'Verb'), ('유넷', 'Noun'), ('(', 'Punctuation'), ('U', 'Alpha'), ('-', 'Punctuation'), ('Net', 'Alpha'), (')', 'Punctuation'), ('이라는', 'Josa'), ('신경망', 'Noun'), ('으로', 'Josa'), ('계산', 'Noun'), ('한다', 'Verb'), ('.', 'Punctuation'), ('기존', 'Noun'), ('모델', 'Noun'), ('로는', 'Josa'), ('몇', 'Noun'), ('시간', 'Noun'), ('이', 'Noun'), ('걸리는', 'Verb'), ('작업', 'Noun'), ('을', 'Josa'), ('5~10분', 'Number'), ('만에', 'Josa'), ('내놓을', 'Verb'), ('수', 'Noun'), ('있고', 'Adjective'), (',', 'Punctuation'), ('공간', 'Noun'), ('해상도', 'Noun'), ('도', 'Noun'), ('1', 'Number'), ('㎞', 'Foreign'), ('로', 'Noun'), ('미국', 'Noun'), ('해양', 'Noun'), ('대기', 'Noun'), ('청', 'Noun'), ('(', 'Punctuation'), ('NOAA', 'Alpha'), (')', 'Punctuation'), ('의', 'Noun'), ('예보', 'Noun'), ('모델', 'Noun'), (\"'\", 'Punctuation'), ('HRRR', 'Alpha'), (\"'\", 'Punctuation'), ('보다', 'Verb'), ('10', 'Number'), ('배', 'Noun'), ('더', 'Noun'), ('상세', 'Noun'), ('하다고', 'Verb'), ('구글', 'Noun'), ('은', 'Noun'), ('소개', 'Noun'), ('했다', 'Verb'), ('.', 'Punctuation'), ('예보', 'Noun'), ('정확도', 'Noun'), ('면', 'Noun'), ('에서는', 'Josa'), ('1~3시간', 'Number'), ('단', 'Noun'), ('기', 'Noun'), ('예보', 'Noun'), ('의', 'Noun'), ('경우', 'Noun'), ('도', 'Noun'), ('HRRR', 'Alpha'), ('보다', 'Verb'), ('더', 'Noun'), ('뛰어나다고', 'Adjective'), ('구글', 'Noun'), ('은', 'Noun'), ('분석', 'Noun'), ('했다', 'Verb'), ('.', 'Punctuation'), ('단', 'Noun'), (',', 'Punctuation'), ('5~6시간', 'Number'), ('이상', 'Noun'), ('예보', 'Noun'), ('에서는', 'Josa'), ('HRRR', 'Alpha'), ('이', 'Noun'), ('더', 'Noun'), ('정확했다', 'Adjective'), ('.', 'Punctuation'), ('칼라', 'Noun'), ('리드', 'Noun'), ('는', 'Verb'), ('\"', 'Punctuation'), ('지금', 'Noun'), ('시점', 'Noun'), ('에서', 'Josa'), ('당장', 'Noun'), ('기상', 'Noun'), ('예측', 'Noun'), ('모델', 'Noun'), ('을', 'Josa'), ('상용', 'Noun'), ('화할', 'Adjective'), ('계획', 'Noun'), ('은', 'Noun'), ('없다', 'Adjective'), ('\"', 'Punctuation'), ('며', 'Noun'), ('\"', 'Punctuation'), ('머신', 'Noun'), ('러닝', 'Noun'), ('기법', 'Noun'), ('을', 'Josa'), ('이용', 'Noun'), ('해', 'Noun'), ('얼마나', 'Noun'), ('날씨', 'Noun'), ('를', 'Noun'), ('정확하게', 'Adjective'), ('예측', 'Noun'), ('할', 'Verb'), ('수', 'Noun'), ('있는지에', 'Adjective'), ('대해', 'Noun'), ('연구', 'Noun'), ('과', 'Noun'), ('제로', 'Noun'), ('만', 'Noun'), ('삼고', 'Noun'), ('있다', 'Adjective'), ('\"', 'Punctuation'), ('고', 'Noun'), ('말', 'Noun'), ('했다', 'Verb'), ('.', 'Punctuation'), ('함', 'Noun'), ('유근', 'Noun'), ('전남대', 'Noun'), ('지구', 'Noun'), ('환경', 'Noun'), ('과학부', 'Noun'), ('교수', 'Noun'), ('는', 'Verb'), ('이', 'Noun'), ('날', 'Noun'), ('간담', 'Noun'), ('회', 'Noun'), ('에서', 'Josa'), (\"'\", 'Punctuation'), ('합성곱', 'Noun'), ('신경망', 'Noun'), ('기법', 'Noun'), (\"'(\", 'Punctuation'), ('CNN', 'Alpha'), ('·', 'Punctuation'), ('Convolutional', 'Alpha'), ('Neural', 'Alpha'), ('Network', 'Alpha'), (')', 'Punctuation'), ('을', 'Josa'), ('응용', 'Noun'), ('한', 'Verb'), ('엘니뇨', 'Noun'), ('예측', 'Noun'), ('모형', 'Noun'), ('을', 'Josa'), ('소개', 'Noun'), ('했다', 'Verb'), ('.', 'Punctuation'), ('그', 'Noun'), ('가', 'Verb'), ('개발', 'Noun'), ('한', 'Verb'), ('엘니뇨', 'Noun'), ('예측', 'Noun'), ('모형', 'Noun'), ('은', 'Noun'), ('향후', 'Noun'), ('18', 'Number'), ('개월', 'Noun'), ('동안', 'Noun'), ('70%', 'Number'), ('이상', 'Noun'), ('정확도', 'Noun'), ('로', 'Noun'), ('엘니뇨', 'Noun'), ('발생', 'Noun'), ('가능성', 'Noun'), ('을', 'Josa'), ('맞출', 'Verb'), ('수', 'Noun'), ('있다', 'Adjective'), ('.', 'Punctuation'), ('기존', 'Noun'), ('모델', 'Noun'), ('은', 'Noun'), ('예능', 'Noun'), ('가능', 'Noun'), ('기간', 'Noun'), ('이', 'Noun'), ('1년', 'Number'), ('정도', 'Noun'), ('였다고', 'Verb'), ('함', 'Noun'), ('교수', 'Noun'), ('는', 'Verb'), ('소개', 'Noun'), ('했다', 'Verb'), ('.', 'Punctuation'), ('함', 'Noun'), ('교수', 'Noun'), ('는', 'Verb'), ('\"', 'Punctuation'), ('엘니뇨', 'Noun'), ('의', 'Noun'), ('예측', 'Noun'), ('성능', 'Noun'), ('이', 'Noun'), ('18', 'Number'), ('개월', 'Noun'), ('로', 'Noun'), ('늘어나면', 'Verb'), ('엘니뇨', 'Noun'), ('로', 'Noun'), ('인해', 'Adjective'), ('발생', 'Noun'), ('하는', 'Verb'), ('전', 'Noun'), ('세계', 'Noun'), ('적', 'Noun'), ('인', 'Noun'), ('곡물', 'Noun'), ('가격', 'Noun'), ('변동', 'Noun'), ('등', 'Noun'), ('에', 'Josa'), ('선제', 'Noun'), ('적', 'Noun'), ('으로', 'Josa'), ('대응', 'Noun'), ('할', 'Verb'), ('수', 'Noun'), ('있게', 'Adjective'), ('된다', 'Verb'), ('\"', 'Punctuation'), ('고', 'Noun'), ('설명', 'Noun'), ('했다', 'Verb'), ('.', 'Punctuation'), ('ljungberg@yna.co.kr', 'Email'), ('<', 'Punctuation'), ('저작권', 'Noun'), ('자', 'Noun'), ('(', 'Punctuation'), ('c', 'Alpha'), (')', 'Punctuation'), ('연합뉴스', 'Noun'), (',', 'Punctuation'), ('무단', 'Noun'), ('전', 'Noun'), ('재', 'Noun'), ('-', 'Punctuation'), ('재', 'Noun'), ('배포', 'Noun'), ('금지', 'Noun'), ('>', 'Punctuation'), ('2020/02', 'Number'), ('/', 'Punctuation'), ('04', 'Number'), ('11:33', 'Number'), ('송', 'Noun'), ('고', 'Noun')]\n"
          ],
          "name": "stdout"
        }
      ]
    },
    {
      "cell_type": "code",
      "metadata": {
        "id": "h0CFeECd4-4f",
        "colab_type": "code",
        "colab": {},
        "outputId": "6cdda04f-0562-4845-c696-9a92fe5d0f4a"
      },
      "source": [
        "from collections import Counter\n",
        "Counter(oktTag).most_common()"
      ],
      "execution_count": null,
      "outputs": [
        {
          "output_type": "execute_result",
          "data": {
            "text/plain": [
              "[(('.', 'Punctuation'), 15),\n",
              " (('을', 'Josa'), 13),\n",
              " ((\"'\", 'Punctuation'), 9),\n",
              " (('예측', 'Noun'), 9),\n",
              " (('구글', 'Noun'), 8),\n",
              " (('은', 'Noun'), 8),\n",
              " (('\"', 'Punctuation'), 8),\n",
              " ((')', 'Punctuation'), 7),\n",
              " (('했다', 'Verb'), 7),\n",
              " (('(', 'Punctuation'), 6),\n",
              " (('의', 'Noun'), 6),\n",
              " (('한', 'Verb'), 6),\n",
              " (('모델', 'Noun'), 6),\n",
              " (('예보', 'Noun'), 6),\n",
              " (('이', 'Noun'), 6),\n",
              " (('에서', 'Josa'), 5),\n",
              " (('기상', 'Noun'), 5),\n",
              " (('는', 'Verb'), 5),\n",
              " (('엘니뇨', 'Noun'), 5),\n",
              " (('=', 'Punctuation'), 4),\n",
              " (('보다', 'Verb'), 4),\n",
              " (('더', 'Noun'), 4),\n",
              " (('고', 'Noun'), 4),\n",
              " (('수', 'Noun'), 4),\n",
              " (('로', 'Noun'), 4),\n",
              " (('서울', 'Noun'), 3),\n",
              " (('연합뉴스', 'Noun'), 3),\n",
              " (('칼라', 'Noun'), 3),\n",
              " (('AI', 'Alpha'), 3),\n",
              " (('리드', 'Noun'), 3),\n",
              " (('를', 'Noun'), 3),\n",
              " (('있다', 'Adjective'), 3),\n",
              " (('에서는', 'Josa'), 3),\n",
              " (('신경망', 'Noun'), 3),\n",
              " (('기존', 'Noun'), 3),\n",
              " ((',', 'Punctuation'), 3),\n",
              " (('HRRR', 'Alpha'), 3),\n",
              " (('소개', 'Noun'), 3),\n",
              " (('함', 'Noun'), 3),\n",
              " (('교수', 'Noun'), 3),\n",
              " (('홍', 'Noun'), 2),\n",
              " (('지인', 'Noun'), 2),\n",
              " (('기자', 'Noun'), 2),\n",
              " (('브롬', 'Noun'), 2),\n",
              " (('버그', 'Noun'), 2),\n",
              " (('공익', 'Noun'), 2),\n",
              " (('위', 'Noun'), 2),\n",
              " (('프로그램', 'Noun'), 2),\n",
              " (('가', 'Verb'), 2),\n",
              " (('4일', 'Number'), 2),\n",
              " (('역삼동', 'Noun'), 2),\n",
              " (('코리아', 'Noun'), 2),\n",
              " (('화상', 'Noun'), 2),\n",
              " (('기자간담회', 'Noun'), 2),\n",
              " (('개발', 'Noun'), 2),\n",
              " (('해', 'Noun'), 2),\n",
              " (('미국', 'Noun'), 2),\n",
              " (('날', 'Noun'), 2),\n",
              " (('이용', 'Noun'), 2),\n",
              " (('말', 'Noun'), 2),\n",
              " (('에', 'Josa'), 2),\n",
              " (('등', 'Noun'), 2),\n",
              " (('-', 'Punctuation'), 2),\n",
              " (('으로', 'Josa'), 2),\n",
              " (('도', 'Noun'), 2),\n",
              " (('정확도', 'Noun'), 2),\n",
              " (('단', 'Noun'), 2),\n",
              " (('이상', 'Noun'), 2),\n",
              " (('기법', 'Noun'), 2),\n",
              " (('할', 'Verb'), 2),\n",
              " (('모형', 'Noun'), 2),\n",
              " (('18', 'Number'), 2),\n",
              " (('개월', 'Noun'), 2),\n",
              " (('발생', 'Noun'), 2),\n",
              " (('전', 'Noun'), 2),\n",
              " (('적', 'Noun'), 2),\n",
              " (('재', 'Noun'), 2),\n",
              " (('갖고', 'Verb'), 1),\n",
              " (('2020', 'Number'), 1),\n",
              " (('2', 'Number'), 1),\n",
              " (('4', 'Number'), 1),\n",
              " (('인공', 'Noun'), 1),\n",
              " (('지능', 'Noun'), 1),\n",
              " (('기술', 'Noun'), 1),\n",
              " (('활용', 'Noun'), 1),\n",
              " (('일부', 'Noun'), 1),\n",
              " (('분야', 'Noun'), 1),\n",
              " (('정부', 'Noun'), 1),\n",
              " (('뛰어난', 'Adjective'), 1),\n",
              " (('결과', 'Noun'), 1),\n",
              " (('내놓고', 'Verb'), 1),\n",
              " (('있다고', 'Adjective'), 1),\n",
              " (('밝혔다', 'Verb'), 1),\n",
              " (('가진', 'Verb'), 1),\n",
              " (('방법', 'Noun'), 1),\n",
              " (('훨씬', 'Adverb'), 1),\n",
              " (('정확하다', 'Adjective'), 1),\n",
              " (('나우', 'Noun'), 1),\n",
              " (('캐스트', 'Noun'), 1),\n",
              " (('6시간', 'Number'), 1),\n",
              " (('이내', 'Noun'), 1),\n",
              " (('단기', 'Noun'), 1),\n",
              " (('초점', 'Noun'), 1),\n",
              " (('맞추고', 'Verb'), 1),\n",
              " (('레이더', 'Noun'), 1),\n",
              " (('관측', 'Noun'), 1),\n",
              " (('자료', 'Noun'), 1),\n",
              " (('와', 'Verb'), 1),\n",
              " (('위성', 'Noun'), 1),\n",
              " (('사진', 'Noun'), 1),\n",
              " (('모아', 'Verb'), 1),\n",
              " (('유넷', 'Noun'), 1),\n",
              " (('U', 'Alpha'), 1),\n",
              " (('Net', 'Alpha'), 1),\n",
              " (('이라는', 'Josa'), 1),\n",
              " (('계산', 'Noun'), 1),\n",
              " (('한다', 'Verb'), 1),\n",
              " (('로는', 'Josa'), 1),\n",
              " (('몇', 'Noun'), 1),\n",
              " (('시간', 'Noun'), 1),\n",
              " (('걸리는', 'Verb'), 1),\n",
              " (('작업', 'Noun'), 1),\n",
              " (('5~10분', 'Number'), 1),\n",
              " (('만에', 'Josa'), 1),\n",
              " (('내놓을', 'Verb'), 1),\n",
              " (('있고', 'Adjective'), 1),\n",
              " (('공간', 'Noun'), 1),\n",
              " (('해상도', 'Noun'), 1),\n",
              " (('1', 'Number'), 1),\n",
              " (('㎞', 'Foreign'), 1),\n",
              " (('해양', 'Noun'), 1),\n",
              " (('대기', 'Noun'), 1),\n",
              " (('청', 'Noun'), 1),\n",
              " (('NOAA', 'Alpha'), 1),\n",
              " (('10', 'Number'), 1),\n",
              " (('배', 'Noun'), 1),\n",
              " (('상세', 'Noun'), 1),\n",
              " (('하다고', 'Verb'), 1),\n",
              " (('면', 'Noun'), 1),\n",
              " (('1~3시간', 'Number'), 1),\n",
              " (('기', 'Noun'), 1),\n",
              " (('경우', 'Noun'), 1),\n",
              " (('뛰어나다고', 'Adjective'), 1),\n",
              " (('분석', 'Noun'), 1),\n",
              " (('5~6시간', 'Number'), 1),\n",
              " (('정확했다', 'Adjective'), 1),\n",
              " (('지금', 'Noun'), 1),\n",
              " (('시점', 'Noun'), 1),\n",
              " (('당장', 'Noun'), 1),\n",
              " (('상용', 'Noun'), 1),\n",
              " (('화할', 'Adjective'), 1),\n",
              " (('계획', 'Noun'), 1),\n",
              " (('없다', 'Adjective'), 1),\n",
              " (('며', 'Noun'), 1),\n",
              " (('머신', 'Noun'), 1),\n",
              " (('러닝', 'Noun'), 1),\n",
              " (('얼마나', 'Noun'), 1),\n",
              " (('날씨', 'Noun'), 1),\n",
              " (('정확하게', 'Adjective'), 1),\n",
              " (('있는지에', 'Adjective'), 1),\n",
              " (('대해', 'Noun'), 1),\n",
              " (('연구', 'Noun'), 1),\n",
              " (('과', 'Noun'), 1),\n",
              " (('제로', 'Noun'), 1),\n",
              " (('만', 'Noun'), 1),\n",
              " (('삼고', 'Noun'), 1),\n",
              " (('유근', 'Noun'), 1),\n",
              " (('전남대', 'Noun'), 1),\n",
              " (('지구', 'Noun'), 1),\n",
              " (('환경', 'Noun'), 1),\n",
              " (('과학부', 'Noun'), 1),\n",
              " (('간담', 'Noun'), 1),\n",
              " (('회', 'Noun'), 1),\n",
              " (('합성곱', 'Noun'), 1),\n",
              " ((\"'(\", 'Punctuation'), 1),\n",
              " (('CNN', 'Alpha'), 1),\n",
              " (('·', 'Punctuation'), 1),\n",
              " (('Convolutional', 'Alpha'), 1),\n",
              " (('Neural', 'Alpha'), 1),\n",
              " (('Network', 'Alpha'), 1),\n",
              " (('응용', 'Noun'), 1),\n",
              " (('그', 'Noun'), 1),\n",
              " (('향후', 'Noun'), 1),\n",
              " (('동안', 'Noun'), 1),\n",
              " (('70%', 'Number'), 1),\n",
              " (('가능성', 'Noun'), 1),\n",
              " (('맞출', 'Verb'), 1),\n",
              " (('예능', 'Noun'), 1),\n",
              " (('가능', 'Noun'), 1),\n",
              " (('기간', 'Noun'), 1),\n",
              " (('1년', 'Number'), 1),\n",
              " (('정도', 'Noun'), 1),\n",
              " (('였다고', 'Verb'), 1),\n",
              " (('성능', 'Noun'), 1),\n",
              " (('늘어나면', 'Verb'), 1),\n",
              " (('인해', 'Adjective'), 1),\n",
              " (('하는', 'Verb'), 1),\n",
              " (('세계', 'Noun'), 1),\n",
              " (('인', 'Noun'), 1),\n",
              " (('곡물', 'Noun'), 1),\n",
              " (('가격', 'Noun'), 1),\n",
              " (('변동', 'Noun'), 1),\n",
              " (('선제', 'Noun'), 1),\n",
              " (('대응', 'Noun'), 1),\n",
              " (('있게', 'Adjective'), 1),\n",
              " (('된다', 'Verb'), 1),\n",
              " (('설명', 'Noun'), 1),\n",
              " (('ljungberg@yna.co.kr', 'Email'), 1),\n",
              " (('<', 'Punctuation'), 1),\n",
              " (('저작권', 'Noun'), 1),\n",
              " (('자', 'Noun'), 1),\n",
              " (('c', 'Alpha'), 1),\n",
              " (('무단', 'Noun'), 1),\n",
              " (('배포', 'Noun'), 1),\n",
              " (('금지', 'Noun'), 1),\n",
              " (('>', 'Punctuation'), 1),\n",
              " (('2020/02', 'Number'), 1),\n",
              " (('/', 'Punctuation'), 1),\n",
              " (('04', 'Number'), 1),\n",
              " (('11:33', 'Number'), 1),\n",
              " (('송', 'Noun'), 1)]"
            ]
          },
          "metadata": {
            "tags": []
          },
          "execution_count": 56
        }
      ]
    },
    {
      "cell_type": "code",
      "metadata": {
        "id": "q-DhGSsg4-4j",
        "colab_type": "code",
        "colab": {},
        "outputId": "c8c9a7f0-bc84-4a33-8095-9f97f913efbb"
      },
      "source": [
        "#불용어 처리\n",
        "stopPos = ['Determiner','Adverb','Conjuctions','Josa','PreEomi','Eomi','Suffix',\n",
        "          'Punctuation','Foreign','Alpha','Number','Unknown']\n",
        "\n",
        "stopWord = []\n",
        "word=[]\n",
        "for tag in oktTag:\n",
        "    if tag[1] not in stopPos:\n",
        "        if tag[0] not in stopWord:\n",
        "            word.append(tag[0])\n",
        "print(word)"
      ],
      "execution_count": null,
      "outputs": [
        {
          "output_type": "stream",
          "text": [
            "['서울', '연합뉴스', '홍', '지인', '기자', '구글', '의', '칼라', '브롬', '버그', '공익', '위', '한', '프로그램', '리드', '가', '역삼동', '구글', '코리아', '화상', '기자간담회', '를', '갖고', '있다', '서울', '연합뉴스', '홍', '지인', '기자', '구글', '은', '인공', '지능', '기술', '활용', '한', '기상', '예측', '모델', '개발', '해', '일부', '분야', '미국', '정부', '보다', '더', '뛰어난', '예보', '결과', '를', '내놓고', '있다고', '밝혔다', '구글', '의', '칼라', '브롬', '버그', '공익', '위', '한', '프로그램', '리드', '는', '이', '날', '서울', '역삼동', '구글', '코리아', '가진', '화상', '기자간담회', '신경망', '이용', '한', '기상', '예측', '은', '기존', '예측', '방법', '보다', '정확하다', '고', '말', '했다', '구글', '의', '나우', '캐스트', '기상', '예측', '모델', '은', '이내', '단기', '예보', '초점', '맞추고', '기상', '레이더', '관측', '자료', '와', '위성', '사진', '등', '모아', '유넷', '신경망', '계산', '한다', '기존', '모델', '몇', '시간', '이', '걸리는', '작업', '내놓을', '수', '있고', '공간', '해상도', '도', '로', '미국', '해양', '대기', '청', '의', '예보', '모델', '보다', '배', '더', '상세', '하다고', '구글', '은', '소개', '했다', '예보', '정확도', '면', '단', '기', '예보', '의', '경우', '도', '보다', '더', '뛰어나다고', '구글', '은', '분석', '했다', '단', '이상', '예보', '이', '더', '정확했다', '칼라', '리드', '는', '지금', '시점', '당장', '기상', '예측', '모델', '상용', '화할', '계획', '은', '없다', '며', '머신', '러닝', '기법', '이용', '해', '얼마나', '날씨', '를', '정확하게', '예측', '할', '수', '있는지에', '대해', '연구', '과', '제로', '만', '삼고', '있다', '고', '말', '했다', '함', '유근', '전남대', '지구', '환경', '과학부', '교수', '는', '이', '날', '간담', '회', '합성곱', '신경망', '기법', '응용', '한', '엘니뇨', '예측', '모형', '소개', '했다', '그', '가', '개발', '한', '엘니뇨', '예측', '모형', '은', '향후', '개월', '동안', '이상', '정확도', '로', '엘니뇨', '발생', '가능성', '맞출', '수', '있다', '기존', '모델', '은', '예능', '가능', '기간', '이', '정도', '였다고', '함', '교수', '는', '소개', '했다', '함', '교수', '는', '엘니뇨', '의', '예측', '성능', '이', '개월', '로', '늘어나면', '엘니뇨', '로', '인해', '발생', '하는', '전', '세계', '적', '인', '곡물', '가격', '변동', '등', '선제', '적', '대응', '할', '수', '있게', '된다', '고', '설명', '했다', 'ljungberg@yna.co.kr', '저작권', '자', '연합뉴스', '무단', '전', '재', '재', '배포', '금지', '송', '고']\n"
          ],
          "name": "stdout"
        }
      ]
    }
  ]
}