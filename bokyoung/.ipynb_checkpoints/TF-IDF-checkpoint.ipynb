{
 "cells": [
  {
   "cell_type": "markdown",
   "metadata": {},
   "source": [
    "## TF-IDF 직접구현"
   ]
  },
  {
   "cell_type": "code",
   "execution_count": 2,
   "metadata": {},
   "outputs": [
    {
     "data": {
      "text/plain": [
       "['오늘 동물원에서 원숭이와 코끼리를 봤어', '동물원에서 원숭이에게 바나나를 줬어 바나나를']"
      ]
     },
     "execution_count": 2,
     "metadata": {},
     "output_type": "execute_result"
    }
   ],
   "source": [
    "docs=['오늘 동물원에서 원숭이와 코끼리를 봤어',\n",
    "     '동물원에서 원숭이에게 바나나를 줬어 바나나를']\n",
    "docs"
   ]
  },
  {
   "cell_type": "code",
   "execution_count": 3,
   "metadata": {},
   "outputs": [
    {
     "data": {
      "text/plain": [
       "[['오늘', '동물원에서', '원숭이와', '코끼리를', '봤어'],\n",
       " ['동물원에서', '원숭이에게', '바나나를', '줬어', '바나나를']]"
      ]
     },
     "execution_count": 3,
     "metadata": {},
     "output_type": "execute_result"
    }
   ],
   "source": [
    "doc_ls=[]\n",
    "for doc in docs:\n",
    "    doc_ls.append(doc.split())\n",
    "doc_ls"
   ]
  },
  {
   "cell_type": "code",
   "execution_count": 4,
   "metadata": {},
   "outputs": [
    {
     "data": {
      "text/plain": [
       "defaultdict(<function __main__.<lambda>()>,\n",
       "            {'오늘': 0,\n",
       "             '동물원에서': 1,\n",
       "             '원숭이와': 2,\n",
       "             '코끼리를': 3,\n",
       "             '봤어': 4,\n",
       "             '원숭이에게': 5,\n",
       "             '바나나를': 6,\n",
       "             '줬어': 7})"
      ]
     },
     "execution_count": 4,
     "metadata": {},
     "output_type": "execute_result"
    }
   ],
   "source": [
    "from collections import defaultdict\n",
    "\n",
    "word2id = defaultdict(lambda : len(word2id))\n",
    "\n",
    "for doc in doc_ls:\n",
    "    for token in doc:\n",
    "        word2id[token]\n",
    "word2id"
   ]
  },
  {
   "cell_type": "code",
   "execution_count": 64,
   "metadata": {},
   "outputs": [
    {
     "name": "stdout",
     "output_type": "stream",
     "text": [
      "[[0 0 0 0 0 0 0 0 0]\n",
      " [0 0 0 0 0 0 0 0 0]]\n"
     ]
    },
    {
     "data": {
      "text/plain": [
       "array([[1, 1, 1, 1, 1, 0, 0, 0, 0],\n",
       "       [0, 1, 0, 0, 0, 1, 2, 1, 0]])"
      ]
     },
     "execution_count": 64,
     "metadata": {},
     "output_type": "execute_result"
    }
   ],
   "source": [
    "import numpy as np\n",
    "\n",
    "TDM = np.zeros((len(doc_ls),len(word2id)), dtype=int)\n",
    "print(TDM)\n",
    "for i, doc in enumerate(doc_ls):\n",
    "    for token in doc:\n",
    "        TDM[i, word2id[token]] += 1 # 해당 토큰의 위치\n",
    "TDM\n",
    "\n",
    "# 실습할 때 짜본 코드\n",
    "\n",
    "# BoW_ls =[]\n",
    "# for i,doc in enumerate(doc_ls):\n",
    "#     bow = np.zeros(len(word2id), dtype=int)\n",
    "#     print(bow)\n",
    "#     for token in doc:\n",
    "#         bow[word2id[token]] += 1 #해당 토큰의 위치(column)\n",
    "#     BoW_ls.append(bow.tolist())\n",
    "\n",
    "# print(BoW_ls)"
   ]
  },
  {
   "cell_type": "code",
   "execution_count": 58,
   "metadata": {},
   "outputs": [],
   "source": [
    "def computeTF(DTM):\n",
    "    doc_len = len(DTM) # 문서개수 2개\n",
    "    word_len = len(DTM[0]) #토큰의 갯수 8개\n",
    "    # tf 계산하기 전 0으로 셋팅\n",
    "    tf = np.zeros((doc_len, word_len))\n",
    "    print(tf)\n",
    "    # TF 계산 특징단어등장빈도/ 문서내 전체등장단어빈도\n",
    "    for doc_i in range(doc_len):\n",
    "        for word_i in range(word_len):\n",
    "            tf[doc_i, word_i] = DTM[doc_i, word_i]/DTM[doc_i].sum()\n",
    "        return tf"
   ]
  },
  {
   "cell_type": "code",
   "execution_count": 59,
   "metadata": {},
   "outputs": [
    {
     "name": "stdout",
     "output_type": "stream",
     "text": [
      "[[0. 0. 0. 0. 0. 0. 0. 0. 0.]\n",
      " [0. 0. 0. 0. 0. 0. 0. 0. 0.]]\n"
     ]
    },
    {
     "data": {
      "text/plain": [
       "array([[0.2, 0.2, 0.2, 0.2, 0.2, 0. , 0. , 0. , 0. ],\n",
       "       [0. , 0. , 0. , 0. , 0. , 0. , 0. , 0. , 0. ]])"
      ]
     },
     "execution_count": 59,
     "metadata": {},
     "output_type": "execute_result"
    }
   ],
   "source": [
    "computeTF(DTM)"
   ]
  },
  {
   "cell_type": "code",
   "execution_count": 19,
   "metadata": {
    "scrolled": false
   },
   "outputs": [
    {
     "name": "stdout",
     "output_type": "stream",
     "text": [
      "\n",
      "\n",
      "문서0\n",
      "1 0.2\n",
      "1 0.2\n",
      "1 0.2\n",
      "1 0.2\n",
      "1 0.2\n",
      "0 0.0\n",
      "0 0.0\n",
      "0 0.0\n",
      "\n",
      "\n",
      "문서1\n",
      "0 0.0\n",
      "1 0.2\n",
      "0 0.0\n",
      "0 0.0\n",
      "0 0.0\n",
      "1 0.2\n",
      "2 0.4\n",
      "1 0.2\n"
     ]
    }
   ],
   "source": [
    "# tf 계산하기\n",
    "\n",
    "# for i, ls in enumerate(BoW_ls):\n",
    "#     print('\\n')\n",
    "#     print('문서{}'.format(i))\n",
    "#     for num in ls:\n",
    "#         tf = num/len(doc_ls[i])\n",
    "#         print(num, tf)\n",
    "        "
   ]
  },
  {
   "cell_type": "code",
   "execution_count": 62,
   "metadata": {},
   "outputs": [],
   "source": [
    "#IDF \n",
    "import math\n",
    "def computeIDF(DTM):\n",
    "    doc_len = len(DTM) # 문서개수 2개\n",
    "    word_len = len(DTM[0]) #토큰의 갯수 8개\n",
    "    # idf 계산하기 전 0으로 셋팅\n",
    "    idf = np.zeros(word_len)\n",
    "    \n",
    "    # IDF 계산 : log(총문서수/등장 문서 수)\n",
    "    for doc_i in range(word_len):\n",
    "        idf[i] = math.log10(doc_len/ np.count_nonzero(TDM[:i]))\n",
    "        return idf\n",
    "            \n"
   ]
  },
  {
   "cell_type": "code",
   "execution_count": 63,
   "metadata": {},
   "outputs": [
    {
     "data": {
      "text/plain": [
       "array([ 0.        , -0.39794001,  0.        ,  0.        ,  0.        ,\n",
       "        0.        ,  0.        ,  0.        ,  0.        ])"
      ]
     },
     "execution_count": 63,
     "metadata": {},
     "output_type": "execute_result"
    }
   ],
   "source": [
    "computeIDF(DTM)"
   ]
  },
  {
   "cell_type": "code",
   "execution_count": null,
   "metadata": {},
   "outputs": [],
   "source": [
    "# TF-IDF 곱\n",
    "def comtuteTFIDF(TDM):\n",
    "    tf = computeTF(TDM)\n",
    "    idf = computeIDF(TDM)\n",
    "    tfidf = np.zeros(tf.)\n",
    "    return tfidf"
   ]
  },
  {
   "cell_type": "code",
   "execution_count": null,
   "metadata": {},
   "outputs": [],
   "source": [
    "import pandas as pd\n",
    "\n",
    "sorted_vocab = sorted((value, key) for key, value in word2id)"
   ]
  }
 ],
 "metadata": {
  "kernelspec": {
   "display_name": "Python 3",
   "language": "python",
   "name": "python3"
  },
  "language_info": {
   "codemirror_mode": {
    "name": "ipython",
    "version": 3
   },
   "file_extension": ".py",
   "mimetype": "text/x-python",
   "name": "python",
   "nbconvert_exporter": "python",
   "pygments_lexer": "ipython3",
   "version": "3.6.10"
  }
 },
 "nbformat": 4,
 "nbformat_minor": 4
}
