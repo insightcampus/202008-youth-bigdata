{
 "cells": [
  {
   "cell_type": "code",
   "execution_count": 24,
   "metadata": {},
   "outputs": [],
   "source": [
    "import pandas as pd\n",
    "new_data= pd.read_csv(r\"C:\\Users\\user\\OneDrive\\Desktop\\git_folder\\202008-youth-bigdata\\bokyoung\\new_data.csv\")\n"
   ]
  },
  {
   "cell_type": "code",
   "execution_count": 2,
   "metadata": {},
   "outputs": [],
   "source": [
    "from konlpy.tag import Mecab\n",
    "mecab = Mecab()\n",
    "# mecab 사용해 토큰화, 한글자 제거, stop_word 제거\n",
    "stop_word = ['께서','에서','이다','에게','으로','이랑','까지','부터','하다']\n",
    "stopPos = ['JKS','JKC','JKG','JKO','JKB','JKV','JKQ','JC','JX',\n",
    "           'SF','SE','SS','SP','SSO','SSC','SC','SY','SH','SL','SN',\n",
    "           'MM','MAG','MAJ']\n",
    "def token_mecab(text):\n",
    "    text = mecab.pos(text)\n",
    "    text = [i for i in text if len(i[0])>1]\n",
    "    text = [i for i in text if i[0] not in stop_word]\n",
    "    text = [i[0] for i in text if i[1] not in stopPos]\n",
    "    return text"
   ]
  },
  {
   "cell_type": "code",
   "execution_count": 7,
   "metadata": {},
   "outputs": [
    {
     "name": "stdout",
     "output_type": "stream",
     "text": [
      "0 / 13\n",
      "0 / 13\n"
     ]
    },
    {
     "name": "stderr",
     "output_type": "stream",
     "text": [
      "C:\\Users\\user\\anaconda3\\envs\\py36\\lib\\site-packages\\ipykernel_launcher.py:8: SettingWithCopyWarning: \n",
      "A value is trying to be set on a copy of a slice from a DataFrame\n",
      "\n",
      "See the caveats in the documentation: https://pandas.pydata.org/pandas-docs/stable/user_guide/indexing.html#returning-a-view-versus-a-copy\n",
      "  \n",
      "C:\\Users\\user\\anaconda3\\envs\\py36\\lib\\site-packages\\ipykernel_launcher.py:18: SettingWithCopyWarning: \n",
      "A value is trying to be set on a copy of a slice from a DataFrame\n",
      "\n",
      "See the caveats in the documentation: https://pandas.pydata.org/pandas-docs/stable/user_guide/indexing.html#returning-a-view-versus-a-copy\n"
     ]
    }
   ],
   "source": [
    "def make_tokens(df):\n",
    "    df['tokens'] = ''\n",
    "    tokens_list=[]\n",
    "    for i, row in df.iterrows():\n",
    "        if i%10000==0:\n",
    "            print(i,'/',len(df))\n",
    "        token = token_mecab(df['contents'][i])\n",
    "        df['tokens'][i] = ' '.join(token)\n",
    "    return df\n",
    "\n",
    "def make_titles(df):\n",
    "    df['tokens_title'] = ''\n",
    "    tokens_list=[]\n",
    "    for i, row in df.iterrows():\n",
    "        if i%10000==0:\n",
    "            print(i,'/',len(df))\n",
    "        token = token_mecab(df['title'][i])\n",
    "        df['tokens_title'][i] = ' '.join(token)\n",
    "    return df\n",
    "\n",
    "data = make_tokens(data)\n",
    "data = make_titles(data)"
   ]
  },
  {
   "cell_type": "code",
   "execution_count": 8,
   "metadata": {},
   "outputs": [
    {
     "data": {
      "text/html": [
       "<div>\n",
       "<style scoped>\n",
       "    .dataframe tbody tr th:only-of-type {\n",
       "        vertical-align: middle;\n",
       "    }\n",
       "\n",
       "    .dataframe tbody tr th {\n",
       "        vertical-align: top;\n",
       "    }\n",
       "\n",
       "    .dataframe thead th {\n",
       "        text-align: right;\n",
       "    }\n",
       "</style>\n",
       "<table border=\"1\" class=\"dataframe\">\n",
       "  <thead>\n",
       "    <tr style=\"text-align: right;\">\n",
       "      <th></th>\n",
       "      <th>Unnamed: 0</th>\n",
       "      <th>date</th>\n",
       "      <th>title</th>\n",
       "      <th>contents</th>\n",
       "      <th>tokens</th>\n",
       "      <th>tokens_title</th>\n",
       "    </tr>\n",
       "  </thead>\n",
       "  <tbody>\n",
       "    <tr>\n",
       "      <th>0</th>\n",
       "      <td>2</td>\n",
       "      <td>2020.09.07</td>\n",
       "      <td>코리아런드리, 위생관리에 특화된 세탁서비스로 승승장구</td>\n",
       "      <td>// flash 오류를 우회하기 위한 함수 추가\\nfunction _flash_re...</td>\n",
       "      <td>오류 우회 위한 함수 추가 최근 코로나 확산 인해 정부 방역 지침 강화 사회 거리 ...</td>\n",
       "      <td>코리아 런드 위생 관리 특화 세탁 서비스 승승장구</td>\n",
       "    </tr>\n",
       "    <tr>\n",
       "      <th>1</th>\n",
       "      <td>4</td>\n",
       "      <td>2020.09.10</td>\n",
       "      <td>사회적 거리두기 2.5 연장에…커피값 내렸다</td>\n",
       "      <td>// flash 오류를 우회하기 위한 함수 추가\\nfunction _flash_re...</td>\n",
       "      <td>오류 우회 위한 함수 추가 일간스포츠 민구 서울 시내 할리스 커피 매장 커피 가격 ...</td>\n",
       "      <td>사회 거리 두기 연장 커피 내렸</td>\n",
       "    </tr>\n",
       "    <tr>\n",
       "      <th>2</th>\n",
       "      <td>13</td>\n",
       "      <td>2020.09.10</td>\n",
       "      <td>2차 재난지원금에 지자체 보조까지…카드업계 ‘물밑 분주’</td>\n",
       "      <td>// flash 오류를 우회하기 위한 함수 추가\\nfunction _flash_re...</td>\n",
       "      <td>오류 우회 위한 함수 추가 대구 재난 지원금 지급 카드 참여 일부 카드 사선 마케팅...</td>\n",
       "      <td>재난 지원금 지자체 보조 카드 업계 분주</td>\n",
       "    </tr>\n",
       "    <tr>\n",
       "      <th>3</th>\n",
       "      <td>16</td>\n",
       "      <td>2020.09.09</td>\n",
       "      <td>마일리지 없애고 OTT 강화…코로나에 카드사 언택트 바람</td>\n",
       "      <td>// flash 오류를 우회하기 위한 함수 추가\\nfunction _flash_re...</td>\n",
       "      <td>오류 우회 위한 함수 추가 여신 금융 협회 따르 올해 카드 신규 출시 올해 상반기 ...</td>\n",
       "      <td>마일리지 없애 강화 코로나 카드 택트 바람</td>\n",
       "    </tr>\n",
       "    <tr>\n",
       "      <th>4</th>\n",
       "      <td>7</td>\n",
       "      <td>2020.09.04</td>\n",
       "      <td>그래픽 DRAM, 다른 메모리보다 시황 양호…문제는 볼륨</td>\n",
       "      <td>// flash 오류를 우회하기 위한 함수 추가\\nfunction _flash_re...</td>\n",
       "      <td>오류 우회 위한 함수 추가 자료 트랜드 포스 디램 낸드 플래시 메모리 시장 침체 계...</td>\n",
       "      <td>그래픽 메모리 시황 양호 문제 볼륨</td>\n",
       "    </tr>\n",
       "  </tbody>\n",
       "</table>\n",
       "</div>"
      ],
      "text/plain": [
       "   Unnamed: 0        date                            title  \\\n",
       "0           2  2020.09.07    코리아런드리, 위생관리에 특화된 세탁서비스로 승승장구   \n",
       "1           4  2020.09.10         사회적 거리두기 2.5 연장에…커피값 내렸다   \n",
       "2          13  2020.09.10  2차 재난지원금에 지자체 보조까지…카드업계 ‘물밑 분주’   \n",
       "3          16  2020.09.09  마일리지 없애고 OTT 강화…코로나에 카드사 언택트 바람   \n",
       "4           7  2020.09.04  그래픽 DRAM, 다른 메모리보다 시황 양호…문제는 볼륨   \n",
       "\n",
       "                                            contents  \\\n",
       "0  // flash 오류를 우회하기 위한 함수 추가\\nfunction _flash_re...   \n",
       "1  // flash 오류를 우회하기 위한 함수 추가\\nfunction _flash_re...   \n",
       "2  // flash 오류를 우회하기 위한 함수 추가\\nfunction _flash_re...   \n",
       "3  // flash 오류를 우회하기 위한 함수 추가\\nfunction _flash_re...   \n",
       "4  // flash 오류를 우회하기 위한 함수 추가\\nfunction _flash_re...   \n",
       "\n",
       "                                              tokens  \\\n",
       "0  오류 우회 위한 함수 추가 최근 코로나 확산 인해 정부 방역 지침 강화 사회 거리 ...   \n",
       "1  오류 우회 위한 함수 추가 일간스포츠 민구 서울 시내 할리스 커피 매장 커피 가격 ...   \n",
       "2  오류 우회 위한 함수 추가 대구 재난 지원금 지급 카드 참여 일부 카드 사선 마케팅...   \n",
       "3  오류 우회 위한 함수 추가 여신 금융 협회 따르 올해 카드 신규 출시 올해 상반기 ...   \n",
       "4  오류 우회 위한 함수 추가 자료 트랜드 포스 디램 낸드 플래시 메모리 시장 침체 계...   \n",
       "\n",
       "                  tokens_title  \n",
       "0  코리아 런드 위생 관리 특화 세탁 서비스 승승장구  \n",
       "1            사회 거리 두기 연장 커피 내렸  \n",
       "2       재난 지원금 지자체 보조 카드 업계 분주  \n",
       "3      마일리지 없애 강화 코로나 카드 택트 바람  \n",
       "4          그래픽 메모리 시황 양호 문제 볼륨  "
      ]
     },
     "execution_count": 8,
     "metadata": {},
     "output_type": "execute_result"
    }
   ],
   "source": [
    "data.head()"
   ]
  },
  {
   "cell_type": "code",
   "execution_count": 10,
   "metadata": {},
   "outputs": [
    {
     "data": {
      "text/html": [
       "<div>\n",
       "<style scoped>\n",
       "    .dataframe tbody tr th:only-of-type {\n",
       "        vertical-align: middle;\n",
       "    }\n",
       "\n",
       "    .dataframe tbody tr th {\n",
       "        vertical-align: top;\n",
       "    }\n",
       "\n",
       "    .dataframe thead th {\n",
       "        text-align: right;\n",
       "    }\n",
       "</style>\n",
       "<table border=\"1\" class=\"dataframe\">\n",
       "  <thead>\n",
       "    <tr style=\"text-align: right;\">\n",
       "      <th></th>\n",
       "      <th>date</th>\n",
       "      <th>tokens_title</th>\n",
       "      <th>tokens</th>\n",
       "    </tr>\n",
       "  </thead>\n",
       "  <tbody>\n",
       "    <tr>\n",
       "      <th>0</th>\n",
       "      <td>2020.09.07</td>\n",
       "      <td>코리아 런드 위생 관리 특화 세탁 서비스 승승장구</td>\n",
       "      <td>오류 우회 위한 함수 추가 최근 코로나 확산 인해 정부 방역 지침 강화 사회 거리 ...</td>\n",
       "    </tr>\n",
       "    <tr>\n",
       "      <th>1</th>\n",
       "      <td>2020.09.10</td>\n",
       "      <td>사회 거리 두기 연장 커피 내렸</td>\n",
       "      <td>오류 우회 위한 함수 추가 일간스포츠 민구 서울 시내 할리스 커피 매장 커피 가격 ...</td>\n",
       "    </tr>\n",
       "    <tr>\n",
       "      <th>2</th>\n",
       "      <td>2020.09.10</td>\n",
       "      <td>재난 지원금 지자체 보조 카드 업계 분주</td>\n",
       "      <td>오류 우회 위한 함수 추가 대구 재난 지원금 지급 카드 참여 일부 카드 사선 마케팅...</td>\n",
       "    </tr>\n",
       "    <tr>\n",
       "      <th>3</th>\n",
       "      <td>2020.09.09</td>\n",
       "      <td>마일리지 없애 강화 코로나 카드 택트 바람</td>\n",
       "      <td>오류 우회 위한 함수 추가 여신 금융 협회 따르 올해 카드 신규 출시 올해 상반기 ...</td>\n",
       "    </tr>\n",
       "    <tr>\n",
       "      <th>4</th>\n",
       "      <td>2020.09.04</td>\n",
       "      <td>그래픽 메모리 시황 양호 문제 볼륨</td>\n",
       "      <td>오류 우회 위한 함수 추가 자료 트랜드 포스 디램 낸드 플래시 메모리 시장 침체 계...</td>\n",
       "    </tr>\n",
       "    <tr>\n",
       "      <th>5</th>\n",
       "      <td>2020.09.07</td>\n",
       "      <td>거리 두기 단계 격상 돼도 시중 은행 영업 폐쇄</td>\n",
       "      <td>오류 우회 위한 함수 추가 은행 행원 코로나 방역 관련 고객 안내문 부착 잠잠 코로...</td>\n",
       "    </tr>\n",
       "    <tr>\n",
       "      <th>6</th>\n",
       "      <td>2020.09.04</td>\n",
       "      <td>그래픽 메모리 시황 양호 문제 볼륨</td>\n",
       "      <td>오류 우회 위한 함수 추가 자료 트랜드 포스 디램 낸드 플래시 메모리 시장 침체 계...</td>\n",
       "    </tr>\n",
       "    <tr>\n",
       "      <th>7</th>\n",
       "      <td>2020.09.03</td>\n",
       "      <td>서울 호텔 눈물 시즌</td>\n",
       "      <td>오류 우회 위한 함수 추가 파격 할인 모시 국민카드 롯데호텔 프로모션 서울 시내 성...</td>\n",
       "    </tr>\n",
       "    <tr>\n",
       "      <th>8</th>\n",
       "      <td>2020.09.07</td>\n",
       "      <td>거리 두기 단계 격상 돼도 시중 은행 영업 폐쇄</td>\n",
       "      <td>오류 우회 위한 함수 추가 은행 행원 코로나 방역 관련 고객 안내문 부착 잠잠 코로...</td>\n",
       "    </tr>\n",
       "    <tr>\n",
       "      <th>9</th>\n",
       "      <td>2020.09.10</td>\n",
       "      <td>호주 애프터 페이 창업자 글로벌 두려워하 세대 공략</td>\n",
       "      <td>오류 우회 위한 함수 추가 마케팅 귀재 꿰뚫 글로벌 종횡무진 핀테크 거물 사고 나중...</td>\n",
       "    </tr>\n",
       "    <tr>\n",
       "      <th>10</th>\n",
       "      <td>2020.09.08</td>\n",
       "      <td>임기 금융 실린다</td>\n",
       "      <td>오류 우회 위한 함수 추가 금융 지주 은행 카드 코로나 예년 분위기 이동걸 산업은행...</td>\n",
       "    </tr>\n",
       "    <tr>\n",
       "      <th>11</th>\n",
       "      <td>2020.09.03</td>\n",
       "      <td>서울 호텔 눈물 시즌</td>\n",
       "      <td>오류 우회 위한 함수 추가 파격 할인 모시 국민카드 롯데호텔 프로모션 서울 시내 성...</td>\n",
       "    </tr>\n",
       "    <tr>\n",
       "      <th>12</th>\n",
       "      <td>2020.09.07</td>\n",
       "      <td>코리아 런드 위생 관리 특화 세탁 서비스 승승장구</td>\n",
       "      <td>오류 우회 위한 함수 추가 최근 코로나 확산 인해 정부 방역 지침 강화 사회 거리 ...</td>\n",
       "    </tr>\n",
       "  </tbody>\n",
       "</table>\n",
       "</div>"
      ],
      "text/plain": [
       "          date                  tokens_title  \\\n",
       "0   2020.09.07   코리아 런드 위생 관리 특화 세탁 서비스 승승장구   \n",
       "1   2020.09.10             사회 거리 두기 연장 커피 내렸   \n",
       "2   2020.09.10        재난 지원금 지자체 보조 카드 업계 분주   \n",
       "3   2020.09.09       마일리지 없애 강화 코로나 카드 택트 바람   \n",
       "4   2020.09.04           그래픽 메모리 시황 양호 문제 볼륨   \n",
       "5   2020.09.07    거리 두기 단계 격상 돼도 시중 은행 영업 폐쇄   \n",
       "6   2020.09.04           그래픽 메모리 시황 양호 문제 볼륨   \n",
       "7   2020.09.03                   서울 호텔 눈물 시즌   \n",
       "8   2020.09.07    거리 두기 단계 격상 돼도 시중 은행 영업 폐쇄   \n",
       "9   2020.09.10  호주 애프터 페이 창업자 글로벌 두려워하 세대 공략   \n",
       "10  2020.09.08                     임기 금융 실린다   \n",
       "11  2020.09.03                   서울 호텔 눈물 시즌   \n",
       "12  2020.09.07   코리아 런드 위생 관리 특화 세탁 서비스 승승장구   \n",
       "\n",
       "                                               tokens  \n",
       "0   오류 우회 위한 함수 추가 최근 코로나 확산 인해 정부 방역 지침 강화 사회 거리 ...  \n",
       "1   오류 우회 위한 함수 추가 일간스포츠 민구 서울 시내 할리스 커피 매장 커피 가격 ...  \n",
       "2   오류 우회 위한 함수 추가 대구 재난 지원금 지급 카드 참여 일부 카드 사선 마케팅...  \n",
       "3   오류 우회 위한 함수 추가 여신 금융 협회 따르 올해 카드 신규 출시 올해 상반기 ...  \n",
       "4   오류 우회 위한 함수 추가 자료 트랜드 포스 디램 낸드 플래시 메모리 시장 침체 계...  \n",
       "5   오류 우회 위한 함수 추가 은행 행원 코로나 방역 관련 고객 안내문 부착 잠잠 코로...  \n",
       "6   오류 우회 위한 함수 추가 자료 트랜드 포스 디램 낸드 플래시 메모리 시장 침체 계...  \n",
       "7   오류 우회 위한 함수 추가 파격 할인 모시 국민카드 롯데호텔 프로모션 서울 시내 성...  \n",
       "8   오류 우회 위한 함수 추가 은행 행원 코로나 방역 관련 고객 안내문 부착 잠잠 코로...  \n",
       "9   오류 우회 위한 함수 추가 마케팅 귀재 꿰뚫 글로벌 종횡무진 핀테크 거물 사고 나중...  \n",
       "10  오류 우회 위한 함수 추가 금융 지주 은행 카드 코로나 예년 분위기 이동걸 산업은행...  \n",
       "11  오류 우회 위한 함수 추가 파격 할인 모시 국민카드 롯데호텔 프로모션 서울 시내 성...  \n",
       "12  오류 우회 위한 함수 추가 최근 코로나 확산 인해 정부 방역 지침 강화 사회 거리 ...  "
      ]
     },
     "execution_count": 10,
     "metadata": {},
     "output_type": "execute_result"
    }
   ],
   "source": [
    "new_data= data[['date','tokens_title','tokens']]\n",
    "new_data"
   ]
  },
  {
   "cell_type": "code",
   "execution_count": 25,
   "metadata": {},
   "outputs": [],
   "source": [
    "#공백으로 토큰 분리\n",
    "def my_tokenizer(text):\n",
    "    return text.split()\n"
   ]
  },
  {
   "cell_type": "code",
   "execution_count": 26,
   "metadata": {},
   "outputs": [],
   "source": [
    "tokenized_docs= new_data['tokens']"
   ]
  },
  {
   "cell_type": "code",
   "execution_count": 27,
   "metadata": {},
   "outputs": [],
   "source": [
    "from sklearn.feature_extraction.text import TfidfVectorizer\n",
    "from sklearn.decomposition import LatentDirichletAllocation\n",
    "\n",
    "tfidf_vect = TfidfVectorizer(tokenizer = my_tokenizer)\n",
    "tfidf = tfidf_vect.fit_transform(tokenized_docs)\n",
    "lda= LatentDirichletAllocation(n_components=20)\n",
    "\n",
    "lda_output= lda.fit_transform(tfidf)"
   ]
  },
  {
   "cell_type": "code",
   "execution_count": 30,
   "metadata": {},
   "outputs": [
    {
     "name": "stdout",
     "output_type": "stream",
     "text": [
      "Collecting pyLDAvis\n",
      "  Using cached pyLDAvis-2.1.2.tar.gz (1.6 MB)\n",
      "Requirement already satisfied: wheel>=0.23.0 in c:\\users\\user\\anaconda3\\envs\\py36\\lib\\site-packages (from pyLDAvis) (0.35.1)\n",
      "Requirement already satisfied: numpy>=1.9.2 in c:\\users\\user\\anaconda3\\envs\\py36\\lib\\site-packages (from pyLDAvis) (1.19.1)\n"
     ]
    },
    {
     "name": "stderr",
     "output_type": "stream",
     "text": [
      "WARNING: No metadata found in c:\\users\\user\\anaconda3\\envs\\py36\\lib\\site-packages\n",
      "ERROR: Could not install packages due to an EnvironmentError: [Errno 2] No such file or directory: 'c:\\\\users\\\\user\\\\anaconda3\\\\envs\\\\py36\\\\lib\\\\site-packages\\\\numpy-1.19.1.dist-info\\\\METADATA'\n",
      "\n"
     ]
    }
   ],
   "source": []
  },
  {
   "cell_type": "code",
   "execution_count": 31,
   "metadata": {},
   "outputs": [
    {
     "ename": "ModuleNotFoundError",
     "evalue": "No module named 'pyLDAvis'",
     "output_type": "error",
     "traceback": [
      "\u001b[1;31m---------------------------------------------------------------------------\u001b[0m",
      "\u001b[1;31mModuleNotFoundError\u001b[0m                       Traceback (most recent call last)",
      "\u001b[1;32m<ipython-input-31-810704494efb>\u001b[0m in \u001b[0;36m<module>\u001b[1;34m\u001b[0m\n\u001b[1;32m----> 1\u001b[1;33m \u001b[1;32mimport\u001b[0m \u001b[0mpyLDAvis\u001b[0m\u001b[1;33m\u001b[0m\u001b[1;33m\u001b[0m\u001b[0m\n\u001b[0m\u001b[0;32m      2\u001b[0m \u001b[1;32mimport\u001b[0m \u001b[0mpyLDAvis\u001b[0m\u001b[1;33m.\u001b[0m\u001b[0msklearn\u001b[0m\u001b[1;33m\u001b[0m\u001b[1;33m\u001b[0m\u001b[0m\n\u001b[0;32m      3\u001b[0m \u001b[0mpyLDAvis\u001b[0m\u001b[1;33m.\u001b[0m\u001b[0menable_notebook\u001b[0m\u001b[1;33m(\u001b[0m\u001b[1;33m)\u001b[0m\u001b[1;33m\u001b[0m\u001b[1;33m\u001b[0m\u001b[0m\n\u001b[0;32m      4\u001b[0m \u001b[0mvis\u001b[0m \u001b[1;33m=\u001b[0m \u001b[0mpyLDAvis\u001b[0m\u001b[1;33m.\u001b[0m\u001b[0msklearn\u001b[0m\u001b[1;33m.\u001b[0m\u001b[0mprepare\u001b[0m\u001b[1;33m(\u001b[0m\u001b[0mlda\u001b[0m\u001b[1;33m,\u001b[0m \u001b[0mtfidf\u001b[0m\u001b[1;33m,\u001b[0m \u001b[0mtfidf_vect\u001b[0m\u001b[1;33m,\u001b[0m \u001b[0mmds\u001b[0m\u001b[1;33m=\u001b[0m\u001b[1;34m'tsne'\u001b[0m\u001b[1;33m)\u001b[0m\u001b[1;33m\u001b[0m\u001b[1;33m\u001b[0m\u001b[0m\n\u001b[0;32m      5\u001b[0m \u001b[0mpyLDAvis\u001b[0m\u001b[1;33m.\u001b[0m\u001b[0mdisplay\u001b[0m\u001b[1;33m(\u001b[0m\u001b[0mvis\u001b[0m\u001b[1;33m)\u001b[0m\u001b[1;33m\u001b[0m\u001b[1;33m\u001b[0m\u001b[0m\n",
      "\u001b[1;31mModuleNotFoundError\u001b[0m: No module named 'pyLDAvis'"
     ]
    }
   ],
   "source": [
    "import pyLDAvis\n",
    "import pyLDAvis.sklearn\n",
    "pyLDAvis.enable_notebook()\n",
    "vis = pyLDAvis.sklearn.prepare(lda, tfidf, tfidf_vect, mds='tsne')\n",
    "pyLDAvis.display(vis)"
   ]
  }
 ],
 "metadata": {
  "kernelspec": {
   "display_name": "Python 3",
   "language": "python",
   "name": "python3"
  },
  "language_info": {
   "codemirror_mode": {
    "name": "ipython",
    "version": 3
   },
   "file_extension": ".py",
   "mimetype": "text/x-python",
   "name": "python",
   "nbconvert_exporter": "python",
   "pygments_lexer": "ipython3",
   "version": "3.6.10"
  }
 },
 "nbformat": 4,
 "nbformat_minor": 4
}
