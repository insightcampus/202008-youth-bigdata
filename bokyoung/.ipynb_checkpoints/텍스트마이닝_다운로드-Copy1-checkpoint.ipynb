{
 "cells": [
  {
   "cell_type": "code",
   "execution_count": 1,
   "metadata": {},
   "outputs": [
    {
     "name": "stdout",
     "output_type": "stream",
     "text": [
      "Processing c:\\users\\user\\desktop\\study\\mecab_python-0.996_ko_0.9.2_msvc-cp36-cp36m-win_amd64.whl\n",
      "Installing collected packages: mecab-python\n",
      "Successfully installed mecab-python-0.996-ko-0.9.2-msvc\n"
     ]
    }
   ],
   "source": [
    "!pip install mecab_python-0.996_ko_0.9.2_msvc-cp36-cp36m-win_amd64.whl"
   ]
  },
  {
   "cell_type": "code",
   "execution_count": 2,
   "metadata": {},
   "outputs": [],
   "source": [
    "import MeCab"
   ]
  },
  {
   "cell_type": "code",
   "execution_count": 3,
   "metadata": {
    "scrolled": false
   },
   "outputs": [
    {
     "name": "stdout",
     "output_type": "stream",
     "text": [
      "Mecab\tSL,*,*,*,*,*,*,*\n",
      "설치\tNNG,행위,F,설치,*,*,*,*\n",
      "를\tJKO,*,T,를,*,*,*,*\n",
      "확인\tNNG,행위,T,확인,*,*,*,*\n",
      "합니다\tXSV+EC,*,F,합니다,Inflect,XSV,EC,하/XSV/*+ᄇ니다/EC/*\n",
      "EOS\n",
      "\n"
     ]
    }
   ],
   "source": [
    "m= MeCab.Tagger()\n",
    "OUTPUT= m.parse('Mecab 설치를 확인합니다')\n",
    "print(OUTPUT)"
   ]
  },
  {
   "cell_type": "code",
   "execution_count": 1,
   "metadata": {},
   "outputs": [
    {
     "name": "stdout",
     "output_type": "stream",
     "text": [
      "3.6.10 |Anaconda, Inc.| (default, May  7 2020, 19:46:08) [MSC v.1916 64 bit (AMD64)]\n"
     ]
    }
   ],
   "source": [
    "import sys\n",
    "print(sys.version)\n"
   ]
  },
  {
   "cell_type": "code",
   "execution_count": 3,
   "metadata": {},
   "outputs": [
    {
     "name": "stdout",
     "output_type": "stream",
     "text": [
      "Requirement already satisfied: JPype1==1.0.2 from file:///C:/Users/user/Desktop/study/JPype1-1.0.2-cp36-cp36m-win_amd64.whl in c:\\users\\user\\anaconda3\\envs\\py36\\lib\\site-packages (1.0.2)\n",
      "Requirement already satisfied: typing-extensions; python_version < \"3.8\" in c:\\users\\user\\anaconda3\\envs\\py36\\lib\\site-packages (from JPype1==1.0.2) (3.7.4.3)\n"
     ]
    }
   ],
   "source": [
    "!pip install JPype1-1.0.2-cp36-cp36m-win_amd64.whl"
   ]
  },
  {
   "cell_type": "code",
   "execution_count": 5,
   "metadata": {
    "scrolled": true
   },
   "outputs": [
    {
     "name": "stdout",
     "output_type": "stream",
     "text": [
      "Requirement already satisfied: konlpy in c:\\users\\user\\anaconda3\\envs\\py36\\lib\\site-packages (0.5.2)\n",
      "Requirement already satisfied: beautifulsoup4==4.6.0 in c:\\users\\user\\anaconda3\\envs\\py36\\lib\\site-packages (from konlpy) (4.6.0)\n",
      "Requirement already satisfied: tweepy>=3.7.0 in c:\\users\\user\\anaconda3\\envs\\py36\\lib\\site-packages (from konlpy) (3.9.0)\n",
      "Requirement already satisfied: numpy>=1.6 in c:\\users\\user\\anaconda3\\envs\\py36\\lib\\site-packages (from konlpy) (1.19.1)\n",
      "Requirement already satisfied: lxml>=4.1.0 in c:\\users\\user\\anaconda3\\envs\\py36\\lib\\site-packages (from konlpy) (4.5.2)\n",
      "Requirement already satisfied: colorama in c:\\users\\user\\anaconda3\\envs\\py36\\lib\\site-packages (from konlpy) (0.4.3)\n",
      "Requirement already satisfied: JPype1>=0.7.0 in c:\\users\\user\\anaconda3\\envs\\py36\\lib\\site-packages (from konlpy) (1.0.2)\n",
      "Requirement already satisfied: requests-oauthlib>=0.7.0 in c:\\users\\user\\anaconda3\\envs\\py36\\lib\\site-packages (from tweepy>=3.7.0->konlpy) (1.3.0)\n",
      "Requirement already satisfied: requests[socks]>=2.11.1 in c:\\users\\user\\anaconda3\\envs\\py36\\lib\\site-packages (from tweepy>=3.7.0->konlpy) (2.24.0)\n",
      "Requirement already satisfied: six>=1.10.0 in c:\\users\\user\\anaconda3\\envs\\py36\\lib\\site-packages (from tweepy>=3.7.0->konlpy) (1.15.0)\n",
      "Requirement already satisfied: typing-extensions; python_version < \"3.8\" in c:\\users\\user\\anaconda3\\envs\\py36\\lib\\site-packages (from JPype1>=0.7.0->konlpy) (3.7.4.3)\n",
      "Requirement already satisfied: oauthlib>=3.0.0 in c:\\users\\user\\anaconda3\\envs\\py36\\lib\\site-packages (from requests-oauthlib>=0.7.0->tweepy>=3.7.0->konlpy) (3.1.0)\n",
      "Requirement already satisfied: urllib3!=1.25.0,!=1.25.1,<1.26,>=1.21.1 in c:\\users\\user\\anaconda3\\envs\\py36\\lib\\site-packages (from requests[socks]>=2.11.1->tweepy>=3.7.0->konlpy) (1.25.10)\n",
      "Requirement already satisfied: certifi>=2017.4.17 in c:\\users\\user\\anaconda3\\envs\\py36\\lib\\site-packages (from requests[socks]>=2.11.1->tweepy>=3.7.0->konlpy) (2020.6.20)\n",
      "Requirement already satisfied: idna<3,>=2.5 in c:\\users\\user\\anaconda3\\envs\\py36\\lib\\site-packages (from requests[socks]>=2.11.1->tweepy>=3.7.0->konlpy) (2.10)\n",
      "Requirement already satisfied: chardet<4,>=3.0.2 in c:\\users\\user\\anaconda3\\envs\\py36\\lib\\site-packages (from requests[socks]>=2.11.1->tweepy>=3.7.0->konlpy) (3.0.4)\n",
      "Requirement already satisfied: PySocks!=1.5.7,>=1.5.6; extra == \"socks\" in c:\\users\\user\\anaconda3\\envs\\py36\\lib\\site-packages (from requests[socks]>=2.11.1->tweepy>=3.7.0->konlpy) (1.7.1)\n"
     ]
    }
   ],
   "source": [
    "!pip install konlpy"
   ]
  },
  {
   "cell_type": "code",
   "execution_count": 3,
   "metadata": {
    "scrolled": false
   },
   "outputs": [
    {
     "name": "stdout",
     "output_type": "stream",
     "text": [
      "['노', '앨', '앨파이', '파이', '설치', '확인']\n"
     ]
    }
   ],
   "source": [
    "# 설치 확인\n",
    "from konlpy.tag import Kkma\n",
    "K = Kkma()\n",
    "out = K.nouns('노엔앨파이 설치를 확인합니다.')\n",
    "print(out)"
   ]
  },
  {
   "cell_type": "code",
   "execution_count": 5,
   "metadata": {},
   "outputs": [],
   "source": [
    "from konlpy.tag import Mecab\n",
    "m=Mecab()"
   ]
  },
  {
   "cell_type": "code",
   "execution_count": 7,
   "metadata": {},
   "outputs": [
    {
     "data": {
      "text/plain": [
       "['설치', '확인']"
      ]
     },
     "execution_count": 7,
     "metadata": {},
     "output_type": "execute_result"
    }
   ],
   "source": [
    "m.nouns('매켑이 설치되었는지 확인')"
   ]
  }
 ],
 "metadata": {
  "kernelspec": {
   "display_name": "Python 3",
   "language": "python",
   "name": "python3"
  },
  "language_info": {
   "codemirror_mode": {
    "name": "ipython",
    "version": 3
   },
   "file_extension": ".py",
   "mimetype": "text/x-python",
   "name": "python",
   "nbconvert_exporter": "python",
   "pygments_lexer": "ipython3",
   "version": "3.6.10"
  }
 },
 "nbformat": 4,
 "nbformat_minor": 4
}
