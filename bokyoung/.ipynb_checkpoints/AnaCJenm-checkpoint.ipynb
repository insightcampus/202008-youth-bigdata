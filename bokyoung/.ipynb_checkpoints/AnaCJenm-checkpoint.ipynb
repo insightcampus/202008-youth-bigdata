{
 "cells": [
  {
   "cell_type": "code",
   "execution_count": 157,
   "metadata": {},
   "outputs": [],
   "source": [
    "import sqlite3 \n",
    "import numpy as np\n",
    "import pandas as pd\n",
    "import matplotlib as mpl\n",
    "import matplotlib.pyplot as plt\n",
    "import matplotlib.font_manager as fm\n",
    "fname=fm.FontProperties(fname='malgun.ttf').get_name()\n",
    "mpl.rc('font',family=fname)\n",
    "import matplotlib.gridspec as gridspec"
   ]
  },
  {
   "cell_type": "code",
   "execution_count": 158,
   "metadata": {},
   "outputs": [],
   "source": [
    "dbname='NaverStock.db'\n",
    "def selData(whr=' where SIDX=0'):\n",
    "    with sqlite3.connect(dbname) as conn:\n",
    "        cur=conn.cursor()\n",
    "        sql='select SDAY,OPENP,HIGHP,LOWP,CLOSEP,VOL from StockDay '+whr\n",
    "        cur.execute(sql)\n",
    "        rows=cur.fetchall()\n",
    "        cur.close()\n",
    "    return rows"
   ]
  },
  {
   "cell_type": "code",
   "execution_count": 159,
   "metadata": {},
   "outputs": [
    {
     "data": {
      "text/html": [
       "<div>\n",
       "<style scoped>\n",
       "    .dataframe tbody tr th:only-of-type {\n",
       "        vertical-align: middle;\n",
       "    }\n",
       "\n",
       "    .dataframe tbody tr th {\n",
       "        vertical-align: top;\n",
       "    }\n",
       "\n",
       "    .dataframe thead th {\n",
       "        text-align: right;\n",
       "    }\n",
       "</style>\n",
       "<table border=\"1\" class=\"dataframe\">\n",
       "  <thead>\n",
       "    <tr style=\"text-align: right;\">\n",
       "      <th></th>\n",
       "      <th>SDAY</th>\n",
       "      <th>OPENP</th>\n",
       "      <th>HIGHP</th>\n",
       "      <th>LOWP</th>\n",
       "      <th>CLOSEP</th>\n",
       "      <th>VOL</th>\n",
       "    </tr>\n",
       "  </thead>\n",
       "  <tbody>\n",
       "    <tr>\n",
       "      <th>0</th>\n",
       "      <td>20191202</td>\n",
       "      <td>150700</td>\n",
       "      <td>150800</td>\n",
       "      <td>149000</td>\n",
       "      <td>150000</td>\n",
       "      <td>6603</td>\n",
       "    </tr>\n",
       "    <tr>\n",
       "      <th>1</th>\n",
       "      <td>20191203</td>\n",
       "      <td>150000</td>\n",
       "      <td>150000</td>\n",
       "      <td>146800</td>\n",
       "      <td>148200</td>\n",
       "      <td>7967</td>\n",
       "    </tr>\n",
       "    <tr>\n",
       "      <th>2</th>\n",
       "      <td>20191204</td>\n",
       "      <td>146500</td>\n",
       "      <td>146500</td>\n",
       "      <td>145800</td>\n",
       "      <td>146000</td>\n",
       "      <td>8597</td>\n",
       "    </tr>\n",
       "    <tr>\n",
       "      <th>3</th>\n",
       "      <td>20191205</td>\n",
       "      <td>146100</td>\n",
       "      <td>147300</td>\n",
       "      <td>145800</td>\n",
       "      <td>145800</td>\n",
       "      <td>11729</td>\n",
       "    </tr>\n",
       "    <tr>\n",
       "      <th>4</th>\n",
       "      <td>20191206</td>\n",
       "      <td>145800</td>\n",
       "      <td>147800</td>\n",
       "      <td>145600</td>\n",
       "      <td>147800</td>\n",
       "      <td>7635</td>\n",
       "    </tr>\n",
       "  </tbody>\n",
       "</table>\n",
       "</div>"
      ],
      "text/plain": [
       "       SDAY   OPENP   HIGHP    LOWP  CLOSEP    VOL\n",
       "0  20191202  150700  150800  149000  150000   6603\n",
       "1  20191203  150000  150000  146800  148200   7967\n",
       "2  20191204  146500  146500  145800  146000   8597\n",
       "3  20191205  146100  147300  145800  145800  11729\n",
       "4  20191206  145800  147800  145600  147800   7635"
      ]
     },
     "execution_count": 159,
     "metadata": {},
     "output_type": "execute_result"
    }
   ],
   "source": [
    "whr='where SDAY>20191201 and SCODE=\"028150\" order by SDAY  asc limit 250'\n",
    "res=selData(whr)\n",
    "cols=['SDAY','OPENP','HIGHP','LOWP','CLOSEP','VOL']\n",
    "dfgs=pd.DataFrame(data=res,columns=cols)\n",
    "dfgs.head()"
   ]
  },
  {
   "cell_type": "code",
   "execution_count": 160,
   "metadata": {},
   "outputs": [
    {
     "data": {
      "text/html": [
       "<div>\n",
       "<style scoped>\n",
       "    .dataframe tbody tr th:only-of-type {\n",
       "        vertical-align: middle;\n",
       "    }\n",
       "\n",
       "    .dataframe tbody tr th {\n",
       "        vertical-align: top;\n",
       "    }\n",
       "\n",
       "    .dataframe thead th {\n",
       "        text-align: right;\n",
       "    }\n",
       "</style>\n",
       "<table border=\"1\" class=\"dataframe\">\n",
       "  <thead>\n",
       "    <tr style=\"text-align: right;\">\n",
       "      <th></th>\n",
       "      <th>SDAY</th>\n",
       "      <th>OPENP</th>\n",
       "      <th>HIGHP</th>\n",
       "      <th>LOWP</th>\n",
       "      <th>CLOSEP</th>\n",
       "      <th>VOL</th>\n",
       "    </tr>\n",
       "  </thead>\n",
       "  <tbody>\n",
       "    <tr>\n",
       "      <th>0</th>\n",
       "      <td>20191202</td>\n",
       "      <td>153000</td>\n",
       "      <td>155300</td>\n",
       "      <td>152600</td>\n",
       "      <td>153800</td>\n",
       "      <td>46450</td>\n",
       "    </tr>\n",
       "    <tr>\n",
       "      <th>1</th>\n",
       "      <td>20191203</td>\n",
       "      <td>153100</td>\n",
       "      <td>155400</td>\n",
       "      <td>151400</td>\n",
       "      <td>154500</td>\n",
       "      <td>53094</td>\n",
       "    </tr>\n",
       "    <tr>\n",
       "      <th>2</th>\n",
       "      <td>20191204</td>\n",
       "      <td>151500</td>\n",
       "      <td>154700</td>\n",
       "      <td>151500</td>\n",
       "      <td>153800</td>\n",
       "      <td>38623</td>\n",
       "    </tr>\n",
       "    <tr>\n",
       "      <th>3</th>\n",
       "      <td>20191205</td>\n",
       "      <td>154300</td>\n",
       "      <td>155700</td>\n",
       "      <td>153800</td>\n",
       "      <td>154500</td>\n",
       "      <td>60945</td>\n",
       "    </tr>\n",
       "    <tr>\n",
       "      <th>4</th>\n",
       "      <td>20191206</td>\n",
       "      <td>154500</td>\n",
       "      <td>154500</td>\n",
       "      <td>151500</td>\n",
       "      <td>151900</td>\n",
       "      <td>70037</td>\n",
       "    </tr>\n",
       "  </tbody>\n",
       "</table>\n",
       "</div>"
      ],
      "text/plain": [
       "       SDAY   OPENP   HIGHP    LOWP  CLOSEP    VOL\n",
       "0  20191202  153000  155300  152600  153800  46450\n",
       "1  20191203  153100  155400  151400  154500  53094\n",
       "2  20191204  151500  154700  151500  153800  38623\n",
       "3  20191205  154300  155700  153800  154500  60945\n",
       "4  20191206  154500  154500  151500  151900  70037"
      ]
     },
     "execution_count": 160,
     "metadata": {},
     "output_type": "execute_result"
    }
   ],
   "source": [
    "whr='where SDAY>20191201 and SCODE=\"035760\" order by SDAY  asc limit 250'\n",
    "res=selData(whr)\n",
    "cols=['SDAY','OPENP','HIGHP','LOWP','CLOSEP','VOL']\n",
    "df=pd.DataFrame(data=res,columns=cols)\n",
    "df.head()"
   ]
  },
  {
   "cell_type": "code",
   "execution_count": 161,
   "metadata": {},
   "outputs": [
    {
     "data": {
      "image/png": "[encoded data removed]",
      "text/plain": [
       "<Figure size 432x288 with 1 Axes>"
      ]
     },
     "metadata": {
      "needs_background": "light"
     },
     "output_type": "display_data"
    }
   ],
   "source": [
    "sels=['CLOSEP','OPENP']\n",
    "df[sels].plot()\n",
    "#plt.xlim(50,75)\n",
    "#plt.ylim(50000,70000)\n",
    "plt.show()"
   ]
  },
  {
   "cell_type": "markdown",
   "metadata": {},
   "source": [
    "# 이동평균선\n",
    "* 주가 기술분석\n",
    "* 단기 이평선(5일 이평선) 장기 이평선(30일 이평선)을 설정\n",
    "* 장단기 이평선을 분석\n",
    "* 골든크로스 (단기 이평선이 장기 이평선을 아래서 위로 통과)\n",
    "* 데드크로스 (단기 이평선이 장기 이평선을 위에서 아래로 통과)\n",
    "* 마케팅의 시장평가 지점을 지정"
   ]
  },
  {
   "cell_type": "code",
   "execution_count": 162,
   "metadata": {},
   "outputs": [],
   "source": [
    "def makeMV(baseday=5,basedata=df['CLOSEP']):\n",
    "    res=[]\n",
    "    # 초기화 하기\n",
    "    for i in range(baseday-1):\n",
    "        res.append(0)\n",
    "    # 이동평균 데이터 만들기\n",
    "    n=len(basedata)-(baseday-1)\n",
    "    print(\"총 데이터수:\",len(basedata),\"초기화 안되고 채워야할 부분:\",n)\n",
    "    for i in range(n):\n",
    "        mvdata=np.average(basedata[i:i+baseday])\n",
    "        res.append(mvdata)\n",
    "    return res\n"
   ]
  },
  {
   "cell_type": "code",
   "execution_count": 163,
   "metadata": {},
   "outputs": [
    {
     "name": "stdout",
     "output_type": "stream",
     "text": [
      "총 데이터수: 198 초기화 안되고 채워야할 부분: 194\n",
      "총 데이터수: 198 초기화 안되고 채워야할 부분: 169\n"
     ]
    },
    {
     "data": {
      "text/html": [
       "<div>\n",
       "<style scoped>\n",
       "    .dataframe tbody tr th:only-of-type {\n",
       "        vertical-align: middle;\n",
       "    }\n",
       "\n",
       "    .dataframe tbody tr th {\n",
       "        vertical-align: top;\n",
       "    }\n",
       "\n",
       "    .dataframe thead th {\n",
       "        text-align: right;\n",
       "    }\n",
       "</style>\n",
       "<table border=\"1\" class=\"dataframe\">\n",
       "  <thead>\n",
       "    <tr style=\"text-align: right;\">\n",
       "      <th></th>\n",
       "      <th>SDAY</th>\n",
       "      <th>OPENP</th>\n",
       "      <th>HIGHP</th>\n",
       "      <th>LOWP</th>\n",
       "      <th>CLOSEP</th>\n",
       "      <th>VOL</th>\n",
       "      <th>MV5</th>\n",
       "      <th>MV30</th>\n",
       "      <th>gsClose</th>\n",
       "    </tr>\n",
       "  </thead>\n",
       "  <tbody>\n",
       "    <tr>\n",
       "      <th>0</th>\n",
       "      <td>20191202</td>\n",
       "      <td>153000</td>\n",
       "      <td>155300</td>\n",
       "      <td>152600</td>\n",
       "      <td>153800</td>\n",
       "      <td>46450</td>\n",
       "      <td>0.0</td>\n",
       "      <td>0.0</td>\n",
       "      <td>150000</td>\n",
       "    </tr>\n",
       "    <tr>\n",
       "      <th>1</th>\n",
       "      <td>20191203</td>\n",
       "      <td>153100</td>\n",
       "      <td>155400</td>\n",
       "      <td>151400</td>\n",
       "      <td>154500</td>\n",
       "      <td>53094</td>\n",
       "      <td>0.0</td>\n",
       "      <td>0.0</td>\n",
       "      <td>148200</td>\n",
       "    </tr>\n",
       "    <tr>\n",
       "      <th>2</th>\n",
       "      <td>20191204</td>\n",
       "      <td>151500</td>\n",
       "      <td>154700</td>\n",
       "      <td>151500</td>\n",
       "      <td>153800</td>\n",
       "      <td>38623</td>\n",
       "      <td>0.0</td>\n",
       "      <td>0.0</td>\n",
       "      <td>146000</td>\n",
       "    </tr>\n",
       "    <tr>\n",
       "      <th>3</th>\n",
       "      <td>20191205</td>\n",
       "      <td>154300</td>\n",
       "      <td>155700</td>\n",
       "      <td>153800</td>\n",
       "      <td>154500</td>\n",
       "      <td>60945</td>\n",
       "      <td>0.0</td>\n",
       "      <td>0.0</td>\n",
       "      <td>145800</td>\n",
       "    </tr>\n",
       "    <tr>\n",
       "      <th>4</th>\n",
       "      <td>20191206</td>\n",
       "      <td>154500</td>\n",
       "      <td>154500</td>\n",
       "      <td>151500</td>\n",
       "      <td>151900</td>\n",
       "      <td>70037</td>\n",
       "      <td>153700.0</td>\n",
       "      <td>0.0</td>\n",
       "      <td>147800</td>\n",
       "    </tr>\n",
       "  </tbody>\n",
       "</table>\n",
       "</div>"
      ],
      "text/plain": [
       "       SDAY   OPENP   HIGHP    LOWP  CLOSEP    VOL       MV5  MV30  gsClose\n",
       "0  20191202  153000  155300  152600  153800  46450       0.0   0.0   150000\n",
       "1  20191203  153100  155400  151400  154500  53094       0.0   0.0   148200\n",
       "2  20191204  151500  154700  151500  153800  38623       0.0   0.0   146000\n",
       "3  20191205  154300  155700  153800  154500  60945       0.0   0.0   145800\n",
       "4  20191206  154500  154500  151500  151900  70037  153700.0   0.0   147800"
      ]
     },
     "execution_count": 163,
     "metadata": {},
     "output_type": "execute_result"
    }
   ],
   "source": [
    "df['MV5']=makeMV(5)\n",
    "df['MV30']=makeMV(30)\n",
    "df['gsClose']=dfgs['CLOSEP']\n",
    "df.head()"
   ]
  },
  {
   "cell_type": "markdown",
   "metadata": {},
   "source": [
    "# 경쟁사 분석\n",
    "* 동종 유사 주가의 경쟁사 분석을 통해 시장기준 주가 분석"
   ]
  },
  {
   "cell_type": "code",
   "execution_count": 164,
   "metadata": {},
   "outputs": [
    {
     "data": {
      "image/png": "[encoded data removed]",
      "text/plain": [
       "<Figure size 432x288 with 1 Axes>"
      ]
     },
     "metadata": {
      "needs_background": "light"
     },
     "output_type": "display_data"
    }
   ],
   "source": [
    "df[['CLOSEP','gsClose']].plot()\n",
    "#plt.xlim(0,10)\n",
    "#plt.ylim(150000,170000)\n",
    "plt.legend()\n",
    "plt.show()"
   ]
  },
  {
   "cell_type": "markdown",
   "metadata": {},
   "source": [
    "### 장단기 크로스 포인트 분석\n",
    "* 주가 장단기 이평선에 관한 크로스 포인트 분석\n",
    "* 이를 통해 시장에 반영된 마케팅 기준선을 부여"
   ]
  },
  {
   "cell_type": "code",
   "execution_count": 165,
   "metadata": {},
   "outputs": [
    {
     "data": {
      "image/png": "[encoded data removed]",
      "text/plain": [
       "<Figure size 432x288 with 1 Axes>"
      ]
     },
     "metadata": {
      "needs_background": "light"
     },
     "output_type": "display_data"
    }
   ],
   "source": [
    "df[['MV5','MV30']].plot()\n",
    "#plt.xlim(0,10)\n",
    "#plt.ylim(150000,170000)\n",
    "plt.legend()\n",
    "plt.show()"
   ]
  },
  {
   "cell_type": "code",
   "execution_count": 166,
   "metadata": {},
   "outputs": [
    {
     "data": {
      "text/html": [
       "<div>\n",
       "<style scoped>\n",
       "    .dataframe tbody tr th:only-of-type {\n",
       "        vertical-align: middle;\n",
       "    }\n",
       "\n",
       "    .dataframe tbody tr th {\n",
       "        vertical-align: top;\n",
       "    }\n",
       "\n",
       "    .dataframe thead th {\n",
       "        text-align: right;\n",
       "    }\n",
       "</style>\n",
       "<table border=\"1\" class=\"dataframe\">\n",
       "  <thead>\n",
       "    <tr style=\"text-align: right;\">\n",
       "      <th></th>\n",
       "      <th>SDAY</th>\n",
       "      <th>OPENP</th>\n",
       "      <th>HIGHP</th>\n",
       "      <th>LOWP</th>\n",
       "      <th>CLOSEP</th>\n",
       "      <th>VOL</th>\n",
       "      <th>MV5</th>\n",
       "      <th>MV30</th>\n",
       "      <th>gsClose</th>\n",
       "      <th>holdPos</th>\n",
       "    </tr>\n",
       "  </thead>\n",
       "  <tbody>\n",
       "    <tr>\n",
       "      <th>0</th>\n",
       "      <td>20191202</td>\n",
       "      <td>153000</td>\n",
       "      <td>155300</td>\n",
       "      <td>152600</td>\n",
       "      <td>153800</td>\n",
       "      <td>46450</td>\n",
       "      <td>0.0</td>\n",
       "      <td>0.0</td>\n",
       "      <td>150000</td>\n",
       "      <td>0</td>\n",
       "    </tr>\n",
       "    <tr>\n",
       "      <th>1</th>\n",
       "      <td>20191203</td>\n",
       "      <td>153100</td>\n",
       "      <td>155400</td>\n",
       "      <td>151400</td>\n",
       "      <td>154500</td>\n",
       "      <td>53094</td>\n",
       "      <td>0.0</td>\n",
       "      <td>0.0</td>\n",
       "      <td>148200</td>\n",
       "      <td>0</td>\n",
       "    </tr>\n",
       "    <tr>\n",
       "      <th>2</th>\n",
       "      <td>20191204</td>\n",
       "      <td>151500</td>\n",
       "      <td>154700</td>\n",
       "      <td>151500</td>\n",
       "      <td>153800</td>\n",
       "      <td>38623</td>\n",
       "      <td>0.0</td>\n",
       "      <td>0.0</td>\n",
       "      <td>146000</td>\n",
       "      <td>0</td>\n",
       "    </tr>\n",
       "    <tr>\n",
       "      <th>3</th>\n",
       "      <td>20191205</td>\n",
       "      <td>154300</td>\n",
       "      <td>155700</td>\n",
       "      <td>153800</td>\n",
       "      <td>154500</td>\n",
       "      <td>60945</td>\n",
       "      <td>0.0</td>\n",
       "      <td>0.0</td>\n",
       "      <td>145800</td>\n",
       "      <td>0</td>\n",
       "    </tr>\n",
       "    <tr>\n",
       "      <th>4</th>\n",
       "      <td>20191206</td>\n",
       "      <td>154500</td>\n",
       "      <td>154500</td>\n",
       "      <td>151500</td>\n",
       "      <td>151900</td>\n",
       "      <td>70037</td>\n",
       "      <td>153700.0</td>\n",
       "      <td>0.0</td>\n",
       "      <td>147800</td>\n",
       "      <td>0</td>\n",
       "    </tr>\n",
       "  </tbody>\n",
       "</table>\n",
       "</div>"
      ],
      "text/plain": [
       "       SDAY   OPENP   HIGHP    LOWP  CLOSEP    VOL       MV5  MV30  gsClose  \\\n",
       "0  20191202  153000  155300  152600  153800  46450       0.0   0.0   150000   \n",
       "1  20191203  153100  155400  151400  154500  53094       0.0   0.0   148200   \n",
       "2  20191204  151500  154700  151500  153800  38623       0.0   0.0   146000   \n",
       "3  20191205  154300  155700  153800  154500  60945       0.0   0.0   145800   \n",
       "4  20191206  154500  154500  151500  151900  70037  153700.0   0.0   147800   \n",
       "\n",
       "   holdPos  \n",
       "0        0  \n",
       "1        0  \n",
       "2        0  \n",
       "3        0  \n",
       "4        0  "
      ]
     },
     "execution_count": 166,
     "metadata": {},
     "output_type": "execute_result"
    }
   ],
   "source": [
    "short=df['MV5']\n",
    "long=df['MV30']\n",
    "res=[]\n",
    "longday=30\n",
    "for i in range(longday):\n",
    "    res.append(0)\n",
    "    \n",
    "for i in range(longday,len(short)):\n",
    "    if(short[i]>long[i]):\n",
    "        res.append(1)\n",
    "    else:\n",
    "        res.append(-1)\n",
    "df['holdPos']=res\n",
    "df.head()\n"
   ]
  },
  {
   "cell_type": "code",
   "execution_count": 167,
   "metadata": {},
   "outputs": [
    {
     "data": {
      "text/plain": [
       "[<matplotlib.lines.Line2D at 0x206bcfc0b20>]"
      ]
     },
     "execution_count": 167,
     "metadata": {},
     "output_type": "execute_result"
    },
    {
     "name": "stderr",
     "output_type": "stream",
     "text": [
      "C:\\ProgramData\\Anaconda3\\lib\\site-packages\\matplotlib\\backends\\backend_agg.py:214: RuntimeWarning: Glyph 8722 missing from current font.\n",
      "  font.set_text(s, 0.0, flags=flags)\n",
      "C:\\ProgramData\\Anaconda3\\lib\\site-packages\\matplotlib\\backends\\backend_agg.py:183: RuntimeWarning: Glyph 8722 missing from current font.\n",
      "  font.set_text(s, 0, flags=flags)\n"
     ]
    },
    {
     "data": {
      "image/png": "[encoded data removed]",
      "text/plain": [
       "<Figure size 432x288 with 1 Axes>"
      ]
     },
     "metadata": {
      "needs_background": "light"
     },
     "output_type": "display_data"
    }
   ],
   "source": [
    "plt.plot(res)"
   ]
  },
  {
   "cell_type": "markdown",
   "metadata": {},
   "source": [
    "#### 성장동력과 크로스포인트와의 관계\n",
    "* 단기 성장성(성장비율)과 장단기 주가 모멘텀 분석\n",
    "* 실질적 주가에 영향을 주는 마케팅 포인트 지점 획득"
   ]
  },
  {
   "cell_type": "code",
   "execution_count": 168,
   "metadata": {},
   "outputs": [
    {
     "name": "stderr",
     "output_type": "stream",
     "text": [
      "<ipython-input-168-d6d3f36f37c5>:4: RuntimeWarning: invalid value encountered in double_scalars\n",
      "  c=((baseData[i]/baseData[i-1])-1)*20\n",
      "<ipython-input-168-d6d3f36f37c5>:4: RuntimeWarning: divide by zero encountered in double_scalars\n",
      "  c=((baseData[i]/baseData[i-1])-1)*20\n",
      "C:\\ProgramData\\Anaconda3\\lib\\site-packages\\matplotlib\\backends\\backend_agg.py:214: RuntimeWarning: Glyph 8722 missing from current font.\n",
      "  font.set_text(s, 0.0, flags=flags)\n",
      "C:\\ProgramData\\Anaconda3\\lib\\site-packages\\matplotlib\\backends\\backend_agg.py:183: RuntimeWarning: Glyph 8722 missing from current font.\n",
      "  font.set_text(s, 0, flags=flags)\n"
     ]
    },
    {
     "data": {
      "image/png": "[encoded data removed]",
      "text/plain": [
       "<Figure size 432x288 with 1 Axes>"
      ]
     },
     "metadata": {
      "needs_background": "light"
     },
     "output_type": "display_data"
    }
   ],
   "source": [
    "baseData=df['MV5']\n",
    "res=[1]\n",
    "for i in range(1,len(baseData)):\n",
    "    c=((baseData[i]/baseData[i-1])-1)*20\n",
    "    res.append(c)\n",
    "df['holdPos'].plot()\n",
    "plt.plot(res)\n",
    "plt.plot([0,175],[0,0])\n",
    "plt.xlim(30,175)\n",
    "plt.ylim(-2,2)\n",
    "plt.show()"
   ]
  },
  {
   "cell_type": "markdown",
   "metadata": {},
   "source": [
    "### 캔들차트 분석\n",
    "* 시가 고가 저가 종가 를 분석하여 마케팅의 적시적 효과를 보기 위함\n",
    "* <img  src=\"candle.png\"  />"
   ]
  },
  {
   "cell_type": "raw",
   "metadata": {},
   "source": [
    "#1.\n",
    "!pip install mplfinance\n",
    "#2.\n",
    "!pip install mpl_finance\n",
    "!pip install --upgrade mplfinance"
   ]
  },
  {
   "cell_type": "code",
   "execution_count": 170,
   "metadata": {},
   "outputs": [],
   "source": [
    "from mpl_finance import candlestick_ohlc"
   ]
  },
  {
   "cell_type": "code",
   "execution_count": 185,
   "metadata": {},
   "outputs": [
    {
     "data": {
      "text/plain": [
       "[200102,\n",
       " 200107,\n",
       " 200110,\n",
       " 200115,\n",
       " 200120,\n",
       " 200123,\n",
       " 200130,\n",
       " 200204,\n",
       " 200207,\n",
       " 200212]"
      ]
     },
     "execution_count": 185,
     "metadata": {},
     "output_type": "execute_result"
    }
   ],
   "source": [
    "#OPENP\tHIGHP\tLOWP\tCLOSEP\tVOL\t\n",
    "lMin=20\n",
    "lMax=50\n",
    "cols=['OPENP','HIGHP','LOWP','CLOSEP']\n",
    "cdata=df[cols].values[lMin:lMax]\n",
    "voldata=df['VOL'].values[lMin:lMax]\n",
    "days=df['SDAY'].values[lMin:lMax]\n",
    "gmv5=df['MV5'].values[lMin:lMax] # 5일 이평성\n",
    "gmv30=df['MV30'].values[lMin:lMax] # 30일 이평선\n",
    "xtic=np.arange(0,len(days),step=3)\n",
    "xdays=[days[i]-20000000 for i in xtic]\n",
    "xdays"
   ]
  },
  {
   "cell_type": "code",
   "execution_count": 186,
   "metadata": {},
   "outputs": [
    {
     "data": {
      "image/png": "[encoded data removed]",
      "text/plain": [
       "<Figure size 576x360 with 2 Axes>"
      ]
     },
     "metadata": {
      "needs_background": "light"
     },
     "output_type": "display_data"
    }
   ],
   "source": [
    "# 그림비율\n",
    "fig=plt.figure(figsize=(8,5))\n",
    "# 그리드 2행 1열짜리 높이비율 3:1로 생성 \n",
    "gs=gridspec.GridSpec(2,1,height_ratios=[3,1])\n",
    "axis=[]\n",
    "#축 선정\n",
    "axis.append(plt.subplot(gs[0]))\n",
    "# axis[0]을 그리드 공유\n",
    "axis.append(plt.subplot(gs[1],sharex=axis[0]))\n",
    "# 공유x축 표시 없애기\n",
    "axis[0].get_xaxis().set_visible(False)\n",
    "# 캔들스틱용 데이터 만들기\n",
    "x=np.arange(len(cdata))\n",
    "xa= np.reshape(x,(-1,1))\n",
    "ohlc=np.hstack((xa,cdata))\n",
    "#캔들스틱 그리기\n",
    "candlestick_ohlc(axis[0], ohlc,width=0.5,colorup='r',colordown='b')\n",
    "#거래량 그래프\n",
    "axis[1].bar(x,voldata,color='g',width=0.5)\n",
    "plt.title(\"CJ ENM #2 주가 영향 분석\")\n",
    "plt.xticks(xtic,xdays,rotation=45)\n",
    "axis[0].plot(gmv5, color='orange', label=\"5일이평선\")\n",
    "axis[0].plot(gmv30, color='gold', label=\"30일 이평선\")\n",
    "axis[0].axvline(x=8 ,label=\"기생충\")\n",
    "axis[0].legend()\n",
    "plt.tight_layout()\n",
    "plt.savefig('cchart_cjenm.jpg')\n",
    "plt.show()"
   ]
  },
  {
   "cell_type": "code",
   "execution_count": null,
   "metadata": {},
   "outputs": [],
   "source": []
  },
  {
   "cell_type": "code",
   "execution_count": null,
   "metadata": {},
   "outputs": [],
   "source": []
  },
  {
   "cell_type": "code",
   "execution_count": null,
   "metadata": {},
   "outputs": [],
   "source": []
  }
 ],
 "metadata": {
  "kernelspec": {
   "display_name": "Python 3",
   "language": "python",
   "name": "python3"
  },
  "language_info": {
   "codemirror_mode": {
    "name": "ipython",
    "version": 3
   },
   "file_extension": ".py",
   "mimetype": "text/x-python",
   "name": "python",
   "nbconvert_exporter": "python",
   "pygments_lexer": "ipython3",
   "version": "3.8.3"
  }
 },
 "nbformat": 4,
 "nbformat_minor": 4
}
