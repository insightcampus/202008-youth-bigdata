{
 "cells": [
  {
   "cell_type": "markdown",
   "metadata": {},
   "source": [
    "### 주가정보 획득\n",
    "* 마케팅 포인트와 주가와의 상관관계 분석을 위한 주가 획득\n",
    "* 유통주 위주의 주가분석\n",
    "* 현대백화점(069960)  \n",
    " - https://finance.naver.com/item/sise_day.nhn?code=069960&page=1\n"
   ]
  },
  {
   "cell_type": "code",
   "execution_count": 1,
   "metadata": {},
   "outputs": [
    {
     "name": "stderr",
     "output_type": "stream",
     "text": [
      "C:\\Users\\user\\anaconda3\\envs\\py36\\lib\\site-packages\\numpy\\_distributor_init.py:32: UserWarning: loaded more than 1 DLL from .libs:\n",
      "C:\\Users\\user\\anaconda3\\envs\\py36\\lib\\site-packages\\numpy\\.libs\\libopenblas.NOIJJG62EMASZI6NYURL6JBKM4EVBGM7.gfortran-win_amd64.dll\n",
      "C:\\Users\\user\\anaconda3\\envs\\py36\\lib\\site-packages\\numpy\\.libs\\libopenblas.PYQHXLVVQ7VESDPUVUADXEVJOBGHJPAY.gfortran-win_amd64.dll\n",
      "  stacklevel=1)\n"
     ]
    }
   ],
   "source": [
    "import sqlite3\n",
    "import requests # 내부 source 를 가져오는 라이브러리\n",
    "from bs4 import BeautifulSoup\n",
    "import numpy as np\n",
    "import pandas as pd"
   ]
  },
  {
   "cell_type": "code",
   "execution_count": 2,
   "metadata": {},
   "outputs": [],
   "source": [
    "# 함수 선언부 url 을 매개변수화\n",
    "def stockGet(url=''):    \n",
    "    # url 가져와서 파싱\n",
    "    src=requests.get(url)\n",
    "    result=src.content.strip()\n",
    "    html=BeautifulSoup(result,'html.parser')\n",
    "    tgts=html.select('table.type2 tr')\n",
    "    #len(tgt)\n",
    "    res=[]\n",
    "    #tgts 가 16개 씩 나옴 1 page\n",
    "    for tgt in tgts:\n",
    "        if(tgt.select('td .p10')):# 날짜 없는 줄은 제거\n",
    "            sday=tgt.select('td .p10')[0].text.replace(\".\",\"\")\n",
    "\n",
    "            endp=tgt.select('td.num')[0].text.replace(\",\",\"\")\n",
    "            startp=tgt.select('td.num')[2].text.replace(\",\",\"\")\n",
    "            maxp=tgt.select('td.num')[3].text.replace(\",\",\"\")\n",
    "            minp=tgt.select('td.num')[4].text.replace(\",\",\"\")\n",
    "            vol=tgt.select('td.num')[5].text.replace(\",\",\"\")\n",
    "            res.append((sday,startp,maxp,minp,endp,vol))\n",
    "    # 10개 반환\n",
    "    return res\n"
   ]
  },
  {
   "cell_type": "code",
   "execution_count": 3,
   "metadata": {},
   "outputs": [],
   "source": [
    "def addData(data):\n",
    "    with sqlite3.connect(dbname) as conn:\n",
    "        cur=conn.cursor()\n",
    "        sql = 'insert into StockDay \\\n",
    "        (SIDX,SCODE,SCOMP,SDAY,OPENP,HIGHP,LOWP,CLOSEP,VOL) \\\n",
    "        values (?,?,?,?,?,?,?,?,?)'\n",
    "        ##### data=[1001,60000,' 신세계','20200830',30,60,70,50,250]\n",
    "        cur.execute(sql,data)\n",
    "        conn.commit()\n",
    "        cur.close()\n",
    "    \n",
    "    "
   ]
  },
  {
   "cell_type": "code",
   "execution_count": 4,
   "metadata": {},
   "outputs": [],
   "source": [
    "dbname='NaverStock.db'\n",
    "def selData(whr=' where SIDX=0'):\n",
    "    with sqlite3.connect(dbname) as conn:\n",
    "        cur=conn.cursor()\n",
    "        sql='select SIDX from StockDay '+whr\n",
    "        cur.execute(sql)\n",
    "        rows=cur.fetchall()\n",
    "        cur.close()\n",
    "    return rows"
   ]
  },
  {
   "cell_type": "code",
   "execution_count": 5,
   "metadata": {},
   "outputs": [],
   "source": [
    "compList=[\n",
    "    (\"현대백화점\",\"069960\"),\n",
    "    (\"영원무역\",\"111770\"),\n",
    "    (\"SK네트웍스\",\"001740\"),\n",
    "    (\"신세계인터내셔널\",\"031430\"),\n",
    "    ]"
   ]
  },
  {
   "cell_type": "code",
   "execution_count": 6,
   "metadata": {},
   "outputs": [],
   "source": [
    "def MyCrawl(comp=('현대백화점','069960'),sp=1,ep=2):\n",
    "    sCode=comp[1]\n",
    "    sComp=comp[0] \n",
    "    urlsrc='https://finance.naver.com/item/sise_day.nhn?code={0}&page={1}'\n",
    "    for i in range(1,2):\n",
    "        print(\"#\"*30)\n",
    "        url=urlsrc.format(sCode,i)\n",
    "        print(url)\n",
    "        rs=stockGet(url)\n",
    "        #10개 데이터 추출\n",
    "        for r in rs:\n",
    "            #데이터별 고유코드만들기\n",
    "            sidx=r[0]+sCode\n",
    "            ##### data=[1001,60000,' 신세계','20200830',30,60,70,50,250]\n",
    "            data=[sidx,sCode,sComp,r[0],r[1],r[2],r[3],r[4],r[5]]\n",
    "            #데이터 입력하기 중복데이터 확인\n",
    "            preData=selData(' where SIDX='+sidx)\n",
    "            if(preData):\n",
    "                print(\"중복데이터 입니다.\",preData)\n",
    "            else:\n",
    "                #print(r)\n",
    "                addData(data)"
   ]
  },
  {
   "cell_type": "code",
   "execution_count": 7,
   "metadata": {},
   "outputs": [
    {
     "name": "stdout",
     "output_type": "stream",
     "text": [
      "##############################\n",
      "https://finance.naver.com/item/sise_day.nhn?code=069960&page=1\n"
     ]
    },
    {
     "ename": "OperationalError",
     "evalue": "no such table: StockDay",
     "output_type": "error",
     "traceback": [
      "\u001b[1;31m---------------------------------------------------------------------------\u001b[0m",
      "\u001b[1;31mOperationalError\u001b[0m                          Traceback (most recent call last)",
      "\u001b[1;32m<ipython-input-7-e30c0e566ae6>\u001b[0m in \u001b[0;36m<module>\u001b[1;34m\u001b[0m\n\u001b[1;32m----> 1\u001b[1;33m \u001b[0mMyCrawl\u001b[0m\u001b[1;33m(\u001b[0m\u001b[0mcompList\u001b[0m\u001b[1;33m[\u001b[0m\u001b[1;36m0\u001b[0m\u001b[1;33m]\u001b[0m\u001b[1;33m,\u001b[0m\u001b[1;36m1\u001b[0m\u001b[1;33m,\u001b[0m\u001b[1;36m2\u001b[0m\u001b[1;33m)\u001b[0m\u001b[1;33m\u001b[0m\u001b[1;33m\u001b[0m\u001b[0m\n\u001b[0m",
      "\u001b[1;32m<ipython-input-6-27869c980167>\u001b[0m in \u001b[0;36mMyCrawl\u001b[1;34m(comp, sp, ep)\u001b[0m\n\u001b[0;32m     15\u001b[0m             \u001b[0mdata\u001b[0m\u001b[1;33m=\u001b[0m\u001b[1;33m[\u001b[0m\u001b[0msidx\u001b[0m\u001b[1;33m,\u001b[0m\u001b[0msCode\u001b[0m\u001b[1;33m,\u001b[0m\u001b[0msComp\u001b[0m\u001b[1;33m,\u001b[0m\u001b[0mr\u001b[0m\u001b[1;33m[\u001b[0m\u001b[1;36m0\u001b[0m\u001b[1;33m]\u001b[0m\u001b[1;33m,\u001b[0m\u001b[0mr\u001b[0m\u001b[1;33m[\u001b[0m\u001b[1;36m1\u001b[0m\u001b[1;33m]\u001b[0m\u001b[1;33m,\u001b[0m\u001b[0mr\u001b[0m\u001b[1;33m[\u001b[0m\u001b[1;36m2\u001b[0m\u001b[1;33m]\u001b[0m\u001b[1;33m,\u001b[0m\u001b[0mr\u001b[0m\u001b[1;33m[\u001b[0m\u001b[1;36m3\u001b[0m\u001b[1;33m]\u001b[0m\u001b[1;33m,\u001b[0m\u001b[0mr\u001b[0m\u001b[1;33m[\u001b[0m\u001b[1;36m4\u001b[0m\u001b[1;33m]\u001b[0m\u001b[1;33m,\u001b[0m\u001b[0mr\u001b[0m\u001b[1;33m[\u001b[0m\u001b[1;36m5\u001b[0m\u001b[1;33m]\u001b[0m\u001b[1;33m]\u001b[0m\u001b[1;33m\u001b[0m\u001b[1;33m\u001b[0m\u001b[0m\n\u001b[0;32m     16\u001b[0m             \u001b[1;31m#데이터 입력하기 중복데이터 확인\u001b[0m\u001b[1;33m\u001b[0m\u001b[1;33m\u001b[0m\u001b[1;33m\u001b[0m\u001b[0m\n\u001b[1;32m---> 17\u001b[1;33m             \u001b[0mpreData\u001b[0m\u001b[1;33m=\u001b[0m\u001b[0mselData\u001b[0m\u001b[1;33m(\u001b[0m\u001b[1;34m' where SIDX='\u001b[0m\u001b[1;33m+\u001b[0m\u001b[0msidx\u001b[0m\u001b[1;33m)\u001b[0m\u001b[1;33m\u001b[0m\u001b[1;33m\u001b[0m\u001b[0m\n\u001b[0m\u001b[0;32m     18\u001b[0m             \u001b[1;32mif\u001b[0m\u001b[1;33m(\u001b[0m\u001b[0mpreData\u001b[0m\u001b[1;33m)\u001b[0m\u001b[1;33m:\u001b[0m\u001b[1;33m\u001b[0m\u001b[1;33m\u001b[0m\u001b[0m\n\u001b[0;32m     19\u001b[0m                 \u001b[0mprint\u001b[0m\u001b[1;33m(\u001b[0m\u001b[1;34m\"중복데이터 입니다.\"\u001b[0m\u001b[1;33m,\u001b[0m\u001b[0mpreData\u001b[0m\u001b[1;33m)\u001b[0m\u001b[1;33m\u001b[0m\u001b[1;33m\u001b[0m\u001b[0m\n",
      "\u001b[1;32m<ipython-input-4-15a959497815>\u001b[0m in \u001b[0;36mselData\u001b[1;34m(whr)\u001b[0m\n\u001b[0;32m      4\u001b[0m         \u001b[0mcur\u001b[0m\u001b[1;33m=\u001b[0m\u001b[0mconn\u001b[0m\u001b[1;33m.\u001b[0m\u001b[0mcursor\u001b[0m\u001b[1;33m(\u001b[0m\u001b[1;33m)\u001b[0m\u001b[1;33m\u001b[0m\u001b[1;33m\u001b[0m\u001b[0m\n\u001b[0;32m      5\u001b[0m         \u001b[0msql\u001b[0m\u001b[1;33m=\u001b[0m\u001b[1;34m'select SIDX from StockDay '\u001b[0m\u001b[1;33m+\u001b[0m\u001b[0mwhr\u001b[0m\u001b[1;33m\u001b[0m\u001b[1;33m\u001b[0m\u001b[0m\n\u001b[1;32m----> 6\u001b[1;33m         \u001b[0mcur\u001b[0m\u001b[1;33m.\u001b[0m\u001b[0mexecute\u001b[0m\u001b[1;33m(\u001b[0m\u001b[0msql\u001b[0m\u001b[1;33m)\u001b[0m\u001b[1;33m\u001b[0m\u001b[1;33m\u001b[0m\u001b[0m\n\u001b[0m\u001b[0;32m      7\u001b[0m         \u001b[0mrows\u001b[0m\u001b[1;33m=\u001b[0m\u001b[0mcur\u001b[0m\u001b[1;33m.\u001b[0m\u001b[0mfetchall\u001b[0m\u001b[1;33m(\u001b[0m\u001b[1;33m)\u001b[0m\u001b[1;33m\u001b[0m\u001b[1;33m\u001b[0m\u001b[0m\n\u001b[0;32m      8\u001b[0m         \u001b[0mcur\u001b[0m\u001b[1;33m.\u001b[0m\u001b[0mclose\u001b[0m\u001b[1;33m(\u001b[0m\u001b[1;33m)\u001b[0m\u001b[1;33m\u001b[0m\u001b[1;33m\u001b[0m\u001b[0m\n",
      "\u001b[1;31mOperationalError\u001b[0m: no such table: StockDay"
     ]
    }
   ],
   "source": [
    "MyCrawl(compList[0],1,2)"
   ]
  },
  {
   "cell_type": "code",
   "execution_count": 8,
   "metadata": {
    "jupyter": {
     "outputs_hidden": true
    }
   },
   "outputs": [
    {
     "ename": "OperationalError",
     "evalue": "no such table: StockDay",
     "output_type": "error",
     "traceback": [
      "\u001b[1;31m---------------------------------------------------------------------------\u001b[0m",
      "\u001b[1;31mOperationalError\u001b[0m                          Traceback (most recent call last)",
      "\u001b[1;32m<ipython-input-8-02f902a5b6fe>\u001b[0m in \u001b[0;36m<module>\u001b[1;34m\u001b[0m\n\u001b[1;32m----> 1\u001b[1;33m \u001b[0mselData\u001b[0m\u001b[1;33m(\u001b[0m\u001b[1;33m)\u001b[0m\u001b[1;33m\u001b[0m\u001b[1;33m\u001b[0m\u001b[0m\n\u001b[0m",
      "\u001b[1;32m<ipython-input-4-15a959497815>\u001b[0m in \u001b[0;36mselData\u001b[1;34m(whr)\u001b[0m\n\u001b[0;32m      4\u001b[0m         \u001b[0mcur\u001b[0m\u001b[1;33m=\u001b[0m\u001b[0mconn\u001b[0m\u001b[1;33m.\u001b[0m\u001b[0mcursor\u001b[0m\u001b[1;33m(\u001b[0m\u001b[1;33m)\u001b[0m\u001b[1;33m\u001b[0m\u001b[1;33m\u001b[0m\u001b[0m\n\u001b[0;32m      5\u001b[0m         \u001b[0msql\u001b[0m\u001b[1;33m=\u001b[0m\u001b[1;34m'select SIDX from StockDay '\u001b[0m\u001b[1;33m+\u001b[0m\u001b[0mwhr\u001b[0m\u001b[1;33m\u001b[0m\u001b[1;33m\u001b[0m\u001b[0m\n\u001b[1;32m----> 6\u001b[1;33m         \u001b[0mcur\u001b[0m\u001b[1;33m.\u001b[0m\u001b[0mexecute\u001b[0m\u001b[1;33m(\u001b[0m\u001b[0msql\u001b[0m\u001b[1;33m)\u001b[0m\u001b[1;33m\u001b[0m\u001b[1;33m\u001b[0m\u001b[0m\n\u001b[0m\u001b[0;32m      7\u001b[0m         \u001b[0mrows\u001b[0m\u001b[1;33m=\u001b[0m\u001b[0mcur\u001b[0m\u001b[1;33m.\u001b[0m\u001b[0mfetchall\u001b[0m\u001b[1;33m(\u001b[0m\u001b[1;33m)\u001b[0m\u001b[1;33m\u001b[0m\u001b[1;33m\u001b[0m\u001b[0m\n\u001b[0;32m      8\u001b[0m         \u001b[0mcur\u001b[0m\u001b[1;33m.\u001b[0m\u001b[0mclose\u001b[0m\u001b[1;33m(\u001b[0m\u001b[1;33m)\u001b[0m\u001b[1;33m\u001b[0m\u001b[1;33m\u001b[0m\u001b[0m\n",
      "\u001b[1;31mOperationalError\u001b[0m: no such table: StockDay"
     ]
    }
   ],
   "source": [
    "selData()"
   ]
  },
  {
   "cell_type": "code",
   "execution_count": null,
   "metadata": {},
   "outputs": [],
   "source": []
  }
 ],
 "metadata": {
  "kernelspec": {
   "display_name": "Python 3",
   "language": "python",
   "name": "python3"
  },
  "language_info": {
   "codemirror_mode": {
    "name": "ipython",
    "version": 3
   },
   "file_extension": ".py",
   "mimetype": "text/x-python",
   "name": "python",
   "nbconvert_exporter": "python",
   "pygments_lexer": "ipython3",
   "version": "3.6.10"
  }
 },
 "nbformat": 4,
 "nbformat_minor": 4
}
