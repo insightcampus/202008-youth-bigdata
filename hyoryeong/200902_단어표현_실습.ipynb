{
  "nbformat": 4,
  "nbformat_minor": 0,
  "metadata": {
    "kernelspec": {
      "display_name": "Python 3",
      "language": "python",
      "name": "python3"
    },
    "language_info": {
      "codemirror_mode": {
        "name": "ipython",
        "version": 3
      },
      "file_extension": ".py",
      "mimetype": "text/x-python",
      "name": "python",
      "nbconvert_exporter": "python",
      "pygments_lexer": "ipython3",
      "version": "3.6.10"
    },
    "colab": {
      "name": "200902_단어표현_실습.ipynb",
      "provenance": []
    }
  },
  "cells": [
    {
      "cell_type": "code",
      "metadata": {
        "id": "GVX3p10RtQ8A",
        "colab_type": "code",
        "colab": {}
      },
      "source": [
        "# 인코딩 대상 단어를 담은 리스트\n",
        "word_ls = ['원숭이','바나나','사과','코끼리']"
      ],
      "execution_count": 1,
      "outputs": []
    },
    {
      "cell_type": "code",
      "metadata": {
        "id": "gjRk-xRItQ8M",
        "colab_type": "code",
        "colab": {}
      },
      "source": [
        "from collections import defaultdict\n",
        "import numpy as np"
      ],
      "execution_count": 2,
      "outputs": []
    },
    {
      "cell_type": "code",
      "metadata": {
        "id": "xGw9Kxa7tQ8a",
        "colab_type": "code",
        "colab": {
          "base_uri": "https://localhost:8080/",
          "height": 34
        },
        "outputId": "ba8b45a2-fd2f-427c-9849-df8a6a9a3337"
      },
      "source": [
        "# {단어:인덱스} 사전구축\n",
        "word2id_dic = defaultdict(lambda:len(word2id_dic))\n",
        "word2id_dic\n",
        "\n",
        "# 빈 딕셔너리를 하나 만들어 준다. "
      ],
      "execution_count": 18,
      "outputs": [
        {
          "output_type": "execute_result",
          "data": {
            "text/plain": [
              "defaultdict(<function __main__.<lambda>>, {})"
            ]
          },
          "metadata": {
            "tags": []
          },
          "execution_count": 18
        }
      ]
    },
    {
      "cell_type": "code",
      "metadata": {
        "id": "UrPv2KQ-tQ8g",
        "colab_type": "code",
        "colab": {}
      },
      "source": [
        "for word in word_ls:\n",
        "    word2id_dic[word]"
      ],
      "execution_count": 4,
      "outputs": []
    },
    {
      "cell_type": "code",
      "metadata": {
        "id": "hpCabRiqtQ8j",
        "colab_type": "code",
        "colab": {
          "base_uri": "https://localhost:8080/",
          "height": 51
        },
        "outputId": "eb7f9b14-bd78-4a51-e7a5-d2176f0efc6b"
      },
      "source": [
        "word2id_dic"
      ],
      "execution_count": 5,
      "outputs": [
        {
          "output_type": "execute_result",
          "data": {
            "text/plain": [
              "defaultdict(<function __main__.<lambda>>,\n",
              "            {'바나나': 1, '사과': 2, '원숭이': 0, '코끼리': 3})"
            ]
          },
          "metadata": {
            "tags": []
          },
          "execution_count": 5
        }
      ]
    },
    {
      "cell_type": "code",
      "metadata": {
        "id": "at4tjFJMtQ8q",
        "colab_type": "code",
        "colab": {
          "base_uri": "https://localhost:8080/",
          "height": 34
        },
        "outputId": "a7f61cc3-9d1c-4307-ae25-0e49260d4a10"
      },
      "source": [
        "# 고유단어갯수 : 4개\n",
        "n_unique_words = len(word2id_dic)\n",
        "n_unique_words\n",
        "\n",
        "#생략해도 가능"
      ],
      "execution_count": 6,
      "outputs": [
        {
          "output_type": "execute_result",
          "data": {
            "text/plain": [
              "4"
            ]
          },
          "metadata": {
            "tags": []
          },
          "execution_count": 6
        }
      ]
    },
    {
      "cell_type": "code",
      "metadata": {
        "id": "MbQ4bi_ItQ8u",
        "colab_type": "code",
        "colab": {
          "base_uri": "https://localhost:8080/",
          "height": 85
        },
        "outputId": "f520ab72-1545-425c-bea3-f30ca1e559ac"
      },
      "source": [
        "# 원핫 벡터를 만들기 위해 비어있는 벡터 생성\n",
        "one_hot_vectors = np.zeros((len(word_ls), n_unique_words))\n",
        "one_hot_vectors"
      ],
      "execution_count": 7,
      "outputs": [
        {
          "output_type": "execute_result",
          "data": {
            "text/plain": [
              "array([[0., 0., 0., 0.],\n",
              "       [0., 0., 0., 0.],\n",
              "       [0., 0., 0., 0.],\n",
              "       [0., 0., 0., 0.]])"
            ]
          },
          "metadata": {
            "tags": []
          },
          "execution_count": 7
        }
      ]
    },
    {
      "cell_type": "code",
      "metadata": {
        "id": "6H8ZHJcDtQ8y",
        "colab_type": "code",
        "colab": {
          "base_uri": "https://localhost:8080/",
          "height": 85
        },
        "outputId": "873d24a2-14fa-42dd-9385-41d3f6e2230c"
      },
      "source": [
        "# 단어 고유 인덱스\n",
        "for i,word in enumerate(word_ls):\n",
        "    index = word2id_dic[word]\n",
        "    one_hot_vectors[i,index] += 1 # 단어 고유 인덱스에 1을 더해줌.\n",
        "one_hot_vectors"
      ],
      "execution_count": 8,
      "outputs": [
        {
          "output_type": "execute_result",
          "data": {
            "text/plain": [
              "array([[1., 0., 0., 0.],\n",
              "       [0., 1., 0., 0.],\n",
              "       [0., 0., 1., 0.],\n",
              "       [0., 0., 0., 1.]])"
            ]
          },
          "metadata": {
            "tags": []
          },
          "execution_count": 8
        }
      ]
    },
    {
      "cell_type": "code",
      "metadata": {
        "id": "HDEHK_yatQ82",
        "colab_type": "code",
        "colab": {}
      },
      "source": [
        ""
      ],
      "execution_count": 8,
      "outputs": []
    },
    {
      "cell_type": "markdown",
      "metadata": {
        "id": "wk75EG3GtQ85",
        "colab_type": "text"
      },
      "source": [
        "## Sklearn 싸이키런"
      ]
    },
    {
      "cell_type": "code",
      "metadata": {
        "id": "3Y9V8UG2tQ85",
        "colab_type": "code",
        "colab": {
          "base_uri": "https://localhost:8080/",
          "height": 34
        },
        "outputId": "473ee2d4-94e2-467b-f2cc-2f8004d93930"
      },
      "source": [
        "#sklearn 을 활용한 one-hot encoding\n",
        "from numpy import array\n",
        "from numpy import argmax\n",
        "from sklearn.preprocessing import LabelEncoder\n",
        "from sklearn.preprocessing import OneHotEncoder\n",
        "\n",
        "# 예제 데이터 배열\n",
        "values = array(word_ls)\n",
        "values"
      ],
      "execution_count": 9,
      "outputs": [
        {
          "output_type": "execute_result",
          "data": {
            "text/plain": [
              "array(['원숭이', '바나나', '사과', '코끼리'], dtype='<U3')"
            ]
          },
          "metadata": {
            "tags": []
          },
          "execution_count": 9
        }
      ]
    },
    {
      "cell_type": "code",
      "metadata": {
        "id": "GsFhSWFStQ8-",
        "colab_type": "code",
        "colab": {
          "base_uri": "https://localhost:8080/",
          "height": 34
        },
        "outputId": "610765c5-28eb-4393-dd12-6b04a929cdcb"
      },
      "source": [
        "# 문자열에 숫자를 붙임\n",
        "\n",
        "#선언\n",
        "label_enc = LabelEncoder() \n",
        "\n",
        "int_enc = label_enc.fit_transform(values)\n",
        "int_enc"
      ],
      "execution_count": 10,
      "outputs": [
        {
          "output_type": "execute_result",
          "data": {
            "text/plain": [
              "array([2, 0, 1, 3])"
            ]
          },
          "metadata": {
            "tags": []
          },
          "execution_count": 10
        }
      ]
    },
    {
      "cell_type": "code",
      "metadata": {
        "id": "MPfRHUr2tQ9B",
        "colab_type": "code",
        "colab": {
          "base_uri": "https://localhost:8080/",
          "height": 85
        },
        "outputId": "144b39bc-2c33-4094-b373-a3dd8b72bf83"
      },
      "source": [
        "# binary encode\n",
        "\n",
        "#선언\n",
        "onehot_enc = OneHotEncoder(sparse=False) \n",
        "int_enc = int_enc.reshape(len(int_enc), 1) # n:1 matrix로 변환\n",
        "int_enc"
      ],
      "execution_count": 11,
      "outputs": [
        {
          "output_type": "execute_result",
          "data": {
            "text/plain": [
              "array([[2],\n",
              "       [0],\n",
              "       [1],\n",
              "       [3]])"
            ]
          },
          "metadata": {
            "tags": []
          },
          "execution_count": 11
        }
      ]
    },
    {
      "cell_type": "code",
      "metadata": {
        "id": "9yKyg-WetQ9H",
        "colab_type": "code",
        "colab": {
          "base_uri": "https://localhost:8080/",
          "height": 85
        },
        "outputId": "da63bf76-a02f-42d1-e5bf-5a22866d2189"
      },
      "source": [
        "onehot_enc = onehot_enc.fit_transform(int_enc)\n",
        "onehot_enc"
      ],
      "execution_count": 12,
      "outputs": [
        {
          "output_type": "execute_result",
          "data": {
            "text/plain": [
              "array([[0., 0., 1., 0.],\n",
              "       [1., 0., 0., 0.],\n",
              "       [0., 1., 0., 0.],\n",
              "       [0., 0., 0., 1.]])"
            ]
          },
          "metadata": {
            "tags": []
          },
          "execution_count": 12
        }
      ]
    },
    {
      "cell_type": "code",
      "metadata": {
        "id": "VC0y5yA2tQ9K",
        "colab_type": "code",
        "colab": {}
      },
      "source": [
        ""
      ],
      "execution_count": 12,
      "outputs": []
    },
    {
      "cell_type": "markdown",
      "metadata": {
        "id": "gcDO9RvftQ9N",
        "colab_type": "text"
      },
      "source": [
        " ## BOW 직접구현\n",
        " "
      ]
    },
    {
      "cell_type": "code",
      "metadata": {
        "id": "rkcwpqwPtQ9O",
        "colab_type": "code",
        "colab": {
          "base_uri": "https://localhost:8080/",
          "height": 54
        },
        "outputId": "5fc500ca-d27d-4543-ef25-92aa2016e547"
      },
      "source": [
        "docs = ['오늘 동물원에서 코끼리 원숭이를 보고 코끼리 원숭이에게 먹이를 줬어',\n",
        "       '오늘 동물원에서 원숭이에게 사과를 줬어']\n",
        "docs"
      ],
      "execution_count": 13,
      "outputs": [
        {
          "output_type": "execute_result",
          "data": {
            "text/plain": [
              "['오늘 동물원에서 코끼리 원숭이를 보고 코끼리 원숭이에게 먹이를 줬어', '오늘 동물원에서 원숭이에게 사과를 줬어']"
            ]
          },
          "metadata": {
            "tags": []
          },
          "execution_count": 13
        }
      ]
    },
    {
      "cell_type": "code",
      "metadata": {
        "id": "_Q591u21tQ9P",
        "colab_type": "code",
        "colab": {
          "base_uri": "https://localhost:8080/",
          "height": 71
        },
        "outputId": "95a0e8aa-bb6b-4ccc-e997-70200afdfd48"
      },
      "source": [
        "# 띄어쓰기 토큰화\n",
        "doc_ls = []\n",
        "for doc in docs:\n",
        "    doc_ls.append(doc.split(' '))\n",
        "\n",
        "doc_ls"
      ],
      "execution_count": 14,
      "outputs": [
        {
          "output_type": "execute_result",
          "data": {
            "text/plain": [
              "[['오늘', '동물원에서', '코끼리', '원숭이를', '보고', '코끼리', '원숭이에게', '먹이를', '줬어'],\n",
              " ['오늘', '동물원에서', '원숭이에게', '사과를', '줬어']]"
            ]
          },
          "metadata": {
            "tags": []
          },
          "execution_count": 14
        }
      ]
    },
    {
      "cell_type": "code",
      "metadata": {
        "id": "U8upAfzztQ9R",
        "colab_type": "code",
        "colab": {
          "base_uri": "https://localhost:8080/",
          "height": 187
        },
        "outputId": "3cf92e2c-e942-4130-fab2-485e9ed39a4d"
      },
      "source": [
        "from collections import defaultdict\n",
        "word2id = defaultdict(lambda : len(word2id))\n",
        "\n",
        "for doc in doc_ls:\n",
        "    for token in doc:\n",
        "        word2id[token]\n",
        "\n",
        "word2id"
      ],
      "execution_count": 15,
      "outputs": [
        {
          "output_type": "execute_result",
          "data": {
            "text/plain": [
              "defaultdict(<function __main__.<lambda>>,\n",
              "            {'동물원에서': 1,\n",
              "             '먹이를': 6,\n",
              "             '보고': 4,\n",
              "             '사과를': 8,\n",
              "             '오늘': 0,\n",
              "             '원숭이를': 3,\n",
              "             '원숭이에게': 5,\n",
              "             '줬어': 7,\n",
              "             '코끼리': 2})"
            ]
          },
          "metadata": {
            "tags": []
          },
          "execution_count": 15
        }
      ]
    },
    {
      "cell_type": "code",
      "metadata": {
        "id": "jLweC_6EtQ9T",
        "colab_type": "code",
        "colab": {
          "base_uri": "https://localhost:8080/",
          "height": 68
        },
        "outputId": "afea6704-dc18-4f8f-f3cc-ebbd0cce3b3b"
      },
      "source": [
        "import numpy as np\n",
        "BoW_ls =[]\n",
        "for i, doc in enumerate(doc_ls):\n",
        "    bow = np.zeros(len(word2id), dtype=int)\n",
        "    print(bow)\n",
        "    for token in doc:\n",
        "        bow[word2id[token]] += 1 #해당 토큰의 위치(column)\n",
        "    BoW_ls.append(bow.tolist())\n",
        "#1차원 배열\n",
        "BoW_ls"
      ],
      "execution_count": 16,
      "outputs": [
        {
          "output_type": "stream",
          "text": [
            "[0 0 0 0 0 0 0 0 0]\n",
            "[0 0 0 0 0 0 0 0 0]\n"
          ],
          "name": "stdout"
        },
        {
          "output_type": "execute_result",
          "data": {
            "text/plain": [
              "[[1, 1, 2, 1, 1, 1, 1, 1, 0], [1, 1, 0, 0, 0, 1, 0, 1, 1]]"
            ]
          },
          "metadata": {
            "tags": []
          },
          "execution_count": 16
        }
      ]
    },
    {
      "cell_type": "code",
      "metadata": {
        "id": "IS3SU5L8tQ9W",
        "colab_type": "code",
        "colab": {
          "base_uri": "https://localhost:8080/",
          "height": 187
        },
        "outputId": "85673758-5689-49e1-e462-57be9b4b122d"
      },
      "source": [
        "word2id"
      ],
      "execution_count": 17,
      "outputs": [
        {
          "output_type": "execute_result",
          "data": {
            "text/plain": [
              "defaultdict(<function __main__.<lambda>>,\n",
              "            {'동물원에서': 1,\n",
              "             '먹이를': 6,\n",
              "             '보고': 4,\n",
              "             '사과를': 8,\n",
              "             '오늘': 0,\n",
              "             '원숭이를': 3,\n",
              "             '원숭이에게': 5,\n",
              "             '줬어': 7,\n",
              "             '코끼리': 2})"
            ]
          },
          "metadata": {
            "tags": []
          },
          "execution_count": 17
        }
      ]
    },
    {
      "cell_type": "code",
      "metadata": {
        "id": "v0j90jfytQ9c",
        "colab_type": "code",
        "colab": {
          "base_uri": "https://localhost:8080/",
          "height": 54
        },
        "outputId": "fe234a1e-8f7f-42b5-f6de-af4cd6eb7bb2"
      },
      "source": [
        "from IPython.core import display as ICD\n",
        "import pandas as pd\n",
        "sorted_vocab = sorted((value, key) for key, value in word2id.items())\n",
        "print('sorted_vocab',sorted_vocab)"
      ],
      "execution_count": 21,
      "outputs": [
        {
          "output_type": "stream",
          "text": [
            "sorted_vocab [(0, '오늘'), (1, '동물원에서'), (2, '코끼리'), (3, '원숭이를'), (4, '보고'), (5, '원숭이에게'), (6, '먹이를'), (7, '줬어'), (8, '사과를')]\n"
          ],
          "name": "stdout"
        }
      ]
    },
    {
      "cell_type": "code",
      "metadata": {
        "id": "Pba97ZOotQ9e",
        "colab_type": "code",
        "colab": {
          "base_uri": "https://localhost:8080/",
          "height": 54
        },
        "outputId": "592cc0a7-20d9-4707-d363-4d9e492c22f7"
      },
      "source": [
        "vocab = []\n",
        "for v in sorted_vocab:\n",
        "  vocab.append(v[1])\n",
        "print('vocab',vocab)"
      ],
      "execution_count": 23,
      "outputs": [
        {
          "output_type": "stream",
          "text": [
            "vocab ['오늘', '동물원에서', '코끼리', '원숭이를', '보고', '원숭이에게', '먹이를', '줬어', '사과를']\n"
          ],
          "name": "stdout"
        }
      ]
    },
    {
      "cell_type": "code",
      "metadata": {
        "id": "C2ej2Ym8t2MX",
        "colab_type": "code",
        "colab": {}
      },
      "source": [
        ""
      ],
      "execution_count": null,
      "outputs": []
    }
  ]
}