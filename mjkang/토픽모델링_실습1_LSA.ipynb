{
 "cells": [
  {
   "cell_type": "code",
   "execution_count": 1,
   "metadata": {},
   "outputs": [],
   "source": [
    "docs=['바나나 사과 포도 포도',\n",
    "     '사과 포도',\n",
    "     '포도 바나나',\n",
    "     '짜장면 짬뽕 탕수육',\n",
    "     '볶음밥 탕수육',\n",
    "     '짜장면 짬뽕',\n",
    "     '된장찌개 김치찌개 김치 비빔밥',\n",
    "     '김치 된장 비빔밥',\n",
    "     '비빔밥 김치',\n",
    "     '사과 볶음밥 김치 된장']"
   ]
  },
  {
   "cell_type": "code",
   "execution_count": 3,
   "metadata": {},
   "outputs": [],
   "source": [
    "from sklearn.feature_extraction.text import TfidfVectorizer\n",
    "from sklearn.decomposition import TruncatedSVD\n",
    "\n",
    "n_topic=3"
   ]
  },
  {
   "cell_type": "code",
   "execution_count": 8,
   "metadata": {},
   "outputs": [],
   "source": [
    "#TF=IDF선언\n",
    "tfidf_vect=TfidfVectorizer()\n",
    "tfidf=tfidf_vect.fit_transform(docs)\n",
    "#SVD선언\n",
    "svd=TruncatedSVD(n_components=n_topic)\n",
    "u_sigma=svd.fit_transform(tfidf)\n",
    "\n"
   ]
  },
  {
   "cell_type": "code",
   "execution_count": 11,
   "metadata": {},
   "outputs": [
    {
     "name": "stdout",
     "output_type": "stream",
     "text": [
      "['김치', '김치찌개', '된장', '된장찌개', '바나나', '볶음밥', '비빔밥', '사과', '짜장면', '짬뽕', '탕수육', '포도']\n",
      "Topic 0: [('포도', 0.58747), ('사과', 0.42119), ('김치', 0.39094)]\n",
      "Topic 1: [('김치', 0.49684), ('비빔밥', 0.49276), ('된장', 0.26963)]\n",
      "Topic 2: [('짬뽕', 0.60658), ('짜장면', 0.60658), ('탕수육', 0.46062)]\n"
     ]
    }
   ],
   "source": [
    "vocab=tfidf_vect.get_feature_names()\n",
    "print(vocab)\n",
    "n=3\n",
    "for idx,topic in enumerate(svd.components_):\n",
    "    print(\"Topic %d:\" %(idx),[(vocab[i],topic[i].round(5)) for i in topic.argsort()[:-n - 1:-1]])"
   ]
  },
  {
   "cell_type": "code",
   "execution_count": null,
   "metadata": {},
   "outputs": [],
   "source": [
    "#단어벡터간의 상관관계"
   ]
  },
  {
   "cell_type": "code",
   "execution_count": 12,
   "metadata": {},
   "outputs": [
    {
     "name": "stdout",
     "output_type": "stream",
     "text": [
      "김치 : [ 0.39094311  0.49683512 -0.06285924]\n",
      "김치찌개 : [ 0.08663945  0.13720069 -0.02901254]\n",
      "된장 : [ 0.2634605   0.26962551 -0.00762375]\n",
      "된장찌개 : [ 0.08663945  0.13720069 -0.02901254]\n",
      "바나나 : [ 0.31533599 -0.29774469 -0.01957621]\n",
      "볶음밥 : [0.1677167  0.10773075 0.19210545]\n",
      "비빔밥 : [ 0.33012626  0.49275818 -0.09004258]\n",
      "사과 : [ 0.42118555 -0.18567019  0.00851823]\n",
      "짜장면 : [0.01907605 0.02131272 0.60658392]\n",
      "짬뽕 : [0.01907605 0.02131272 0.60658392]\n",
      "탕수육 : [0.05422822 0.04450862 0.46061907]\n",
      "포도 : [ 0.58747296 -0.51222803 -0.02794911]\n"
     ]
    }
   ],
   "source": [
    "#단어백터\n",
    "for i in range(len(vocab)):\n",
    "    print(\"{} : {}\".format(vocab[i],svd.components_.T[i]))"
   ]
  },
  {
   "cell_type": "code",
   "execution_count": 29,
   "metadata": {},
   "outputs": [],
   "source": [
    "import numpy as np\n",
    "from numpy import dot\n",
    "from numpy.linalg import norm\n",
    "#코사인 유사도\n",
    "def cosine_similarity(a,b):\n",
    "    return dot(a,b)/(norm(a)*norm(b))\n",
    "#코사인 유사도를 사용해서 행렬의 유사도 구하기\n",
    "def calc_similarity_matrix(vectors):\n",
    "    n_word=len(vectors)\n",
    "    similarity_matrix=np.zeros((n_word,n_word))\n",
    "    \n",
    "    for i in range(n_word) :\n",
    "        for j in range(i,n_word):\n",
    "            similarity_matrix[j,i] =cosine_similarity(vectors[i],vectors[j].round(4))\n",
    "    return similarity_matrix        "
   ]
  },
  {
   "cell_type": "code",
   "execution_count": 21,
   "metadata": {},
   "outputs": [
    {
     "name": "stdout",
     "output_type": "stream",
     "text": [
      "Requirement already satisfied: seaborn in c:\\users\\kang9\\anaconda3\\envs\\py36\\lib\\site-packages (0.11.0)\n",
      "Requirement already satisfied: pandas>=0.23 in c:\\users\\kang9\\anaconda3\\envs\\py36\\lib\\site-packages (from seaborn) (1.1.1)\n",
      "Requirement already satisfied: matplotlib>=2.2 in c:\\users\\kang9\\anaconda3\\envs\\py36\\lib\\site-packages (from seaborn) (3.3.1)\n",
      "Requirement already satisfied: scipy>=1.0 in c:\\users\\kang9\\anaconda3\\envs\\py36\\lib\\site-packages (from seaborn) (1.4.1)\n",
      "Requirement already satisfied: numpy>=1.15 in c:\\users\\kang9\\anaconda3\\envs\\py36\\lib\\site-packages (from seaborn) (1.18.5)\n",
      "Requirement already satisfied: pytz>=2017.2 in c:\\users\\kang9\\anaconda3\\envs\\py36\\lib\\site-packages (from pandas>=0.23->seaborn) (2020.1)\n",
      "Requirement already satisfied: python-dateutil>=2.7.3 in c:\\users\\kang9\\anaconda3\\envs\\py36\\lib\\site-packages (from pandas>=0.23->seaborn) (2.8.1)\n",
      "Requirement already satisfied: kiwisolver>=1.0.1 in c:\\users\\kang9\\anaconda3\\envs\\py36\\lib\\site-packages (from matplotlib>=2.2->seaborn) (1.2.0)\n",
      "Requirement already satisfied: cycler>=0.10 in c:\\users\\kang9\\anaconda3\\envs\\py36\\lib\\site-packages (from matplotlib>=2.2->seaborn) (0.10.0)\n",
      "Requirement already satisfied: pyparsing!=2.0.4,!=2.1.2,!=2.1.6,>=2.0.3 in c:\\users\\kang9\\anaconda3\\envs\\py36\\lib\\site-packages (from matplotlib>=2.2->seaborn) (2.4.7)\n",
      "Requirement already satisfied: pillow>=6.2.0 in c:\\users\\kang9\\anaconda3\\envs\\py36\\lib\\site-packages (from matplotlib>=2.2->seaborn) (7.2.0)\n",
      "Requirement already satisfied: certifi>=2020.06.20 in c:\\users\\kang9\\anaconda3\\envs\\py36\\lib\\site-packages (from matplotlib>=2.2->seaborn) (2020.6.20)\n",
      "Requirement already satisfied: six>=1.5 in c:\\users\\kang9\\anaconda3\\envs\\py36\\lib\\site-packages (from python-dateutil>=2.7.3->pandas>=0.23->seaborn) (1.15.0)\n"
     ]
    }
   ],
   "source": [
    "! pip install seaborn"
   ]
  },
  {
   "cell_type": "code",
   "execution_count": 39,
   "metadata": {},
   "outputs": [],
   "source": [
    "import matplotlib.pyplot as plt\n",
    "import seaborn as sns\n",
    "\n",
    "def visualize_similarity(similarity_matrix) :\n",
    "    uniform_data =similarity_matrix\n",
    "    mask=np.triu(np.ones_like(similarity_matrix,dtype=np.bool))\n",
    "    plt.rcParams['figure.figsize']=[8,6]\n",
    "    ax=sns.heatmap(uniform_data, mask=mask,annot=True,fmt=\".2f\",\n",
    "                  annot_kws={'size':8},cmap='coolwarm')"
   ]
  },
  {
   "cell_type": "code",
   "execution_count": 40,
   "metadata": {},
   "outputs": [
    {
     "name": "stdout",
     "output_type": "stream",
     "text": [
      "['김치', '김치찌개', '된장', '된장찌개', '바나나', '볶음밥', '비빔밥', '사과', '짜장면', '짬뽕', '탕수육', '포도']\n"
     ]
    }
   ],
   "source": [
    "print(vocab)"
   ]
  },
  {
   "cell_type": "code",
   "execution_count": 41,
   "metadata": {},
   "outputs": [
    {
     "data": {
      "image/png": "[encoded data removed]",
      "text/plain": [
       "<Figure size 576x432 with 2 Axes>"
      ]
     },
     "metadata": {
      "needs_background": "light"
     },
     "output_type": "display_data"
    }
   ],
   "source": [
    "word_vectors=svd.components_.T\n",
    "word_similarity_matrix=calc_similarity_matrix(word_vectors)\n",
    "visualize_similarity(word_similarity_matrix)"
   ]
  },
  {
   "cell_type": "code",
   "execution_count": null,
   "metadata": {},
   "outputs": [],
   "source": [
    "#단어벡터 시각화"
   ]
  },
  {
   "cell_type": "code",
   "execution_count": 54,
   "metadata": {},
   "outputs": [],
   "source": [
    "import matplotlib.font_manager as fm\n",
    "import matplotlib\n",
    "fontprop=fm.FontProperties(fname='C:/Users/kang9/Desktop/맑은고딕/malgun.ttf',size=12)"
   ]
  },
  {
   "cell_type": "code",
   "execution_count": 55,
   "metadata": {},
   "outputs": [],
   "source": [
    "from sklearn.manifold import TSNE\n",
    "import numpy as np\n",
    "vectors=word_vectors\n",
    "labels=tfidf_vect.get_feature_names()\n",
    "def visualize_vectors(vectors,labels):\n",
    "    tsne=TSNE(n_components=2, random_state=0,n_iter=10000,perplexity=2)\n",
    "    np.set_printoptions(suppress=True)\n",
    "    T=tsne.fit_transform(vectors)\n",
    "    \n",
    "    plt.figure(figsize=(10,6))\n",
    "    plt.scatter(T[:,0],T[:,1],c='orange',edgecolors='r')\n",
    "    for label, x,y in zip(labels,T[:,0],T[:,1]):\n",
    "        plt.annotate(label,xy=(x+1,y+1),xytext=(0,0),\n",
    "                    textcoords='offset points', \n",
    "                    fontproperties=fontprop)"
   ]
  },
  {
   "cell_type": "code",
   "execution_count": 56,
   "metadata": {},
   "outputs": [
    {
     "data": {
      "image/png": "[encoded data removed]",
      "text/plain": [
       "<Figure size 720x432 with 1 Axes>"
      ]
     },
     "metadata": {
      "needs_background": "light"
     },
     "output_type": "display_data"
    }
   ],
   "source": [
    "visualize_vectors(vectors,labels)"
   ]
  },
  {
   "cell_type": "code",
   "execution_count": null,
   "metadata": {},
   "outputs": [],
   "source": []
  },
  {
   "cell_type": "code",
   "execution_count": null,
   "metadata": {},
   "outputs": [],
   "source": []
  }
 ],
 "metadata": {
  "kernelspec": {
   "display_name": "Python 3",
   "language": "python",
   "name": "python3"
  },
  "language_info": {
   "codemirror_mode": {
    "name": "ipython",
    "version": 3
   },
   "file_extension": ".py",
   "mimetype": "text/x-python",
   "name": "python",
   "nbconvert_exporter": "python",
   "pygments_lexer": "ipython3",
   "version": "3.6.10"
  }
 },
 "nbformat": 4,
 "nbformat_minor": 4
}
