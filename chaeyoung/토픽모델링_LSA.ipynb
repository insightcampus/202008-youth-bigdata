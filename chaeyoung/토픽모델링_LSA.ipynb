{
 "cells": [
  {
   "cell_type": "markdown",
   "metadata": {},
   "source": [
    "# 0.문서 불러오기"
   ]
  },
  {
   "cell_type": "code",
   "execution_count": 1,
   "metadata": {},
   "outputs": [],
   "source": [
    "docs=['바나나 사과 포도 포도',\\\n",
    "     '사과 포도',\\\n",
    "     '포도 바나나',\\\n",
    "     '짜장면 짬뽕 탕수육',\\\n",
    "     '볶음밥 탕수육'\\\n",
    "     '짜장면 짬뽕',\\\n",
    "     '된장찌개 김치찌개 김치 비빔밥',\\\n",
    "     '김치 된장 비빔밥',\\\n",
    "     '비빔밥 김치',\\\n",
    "     '사과 볶음밥 김치 된장']"
   ]
  },
  {
   "cell_type": "markdown",
   "metadata": {},
   "source": [
    "# 1. 텍스트마이닝(TF-IDF)"
   ]
  },
  {
   "cell_type": "code",
   "execution_count": 2,
   "metadata": {},
   "outputs": [
    {
     "data": {
      "text/plain": [
       "array([[ 0.37490254,  0.08364115,  0.25612077,  0.08364115,  0.32769074,\n",
       "         0.1446662 ,  0.31853141,  0.42644624,  0.00446795,  0.02677934,\n",
       "         0.00446795,  0.02723798,  0.60558352],\n",
       "       [ 0.5099411 ,  0.14187899,  0.28062332,  0.14187899, -0.28712825,\n",
       "         0.09654742,  0.50872483, -0.17177061,  0.0041077 ,  0.02132243,\n",
       "         0.0041077 ,  0.02113743, -0.48984285],\n",
       "       [-0.0562431 , -0.08818792,  0.11591523, -0.08818792, -0.0922036 ,\n",
       "         0.47821722, -0.18979534,  0.11970761,  0.29689096,  0.58389954,\n",
       "         0.29689096,  0.39442863, -0.0866006 ]])"
      ]
     },
     "execution_count": 2,
     "metadata": {},
     "output_type": "execute_result"
    }
   ],
   "source": [
    "from sklearn.feature_extraction.text import TfidfVectorizer\n",
    "from sklearn.decomposition import TruncatedSVD\n",
    "\n",
    "n_topic=3\n",
    "\n",
    "#tfidf선언\n",
    "tfidf_vect =TfidfVectorizer()\n",
    "tfidf=tfidf_vect.fit_transform(docs)\n",
    "\n",
    "#SVD선언\n",
    "svd =TruncatedSVD(n_components=n_topic)\n",
    "u_sigma=svd.fit_transform(tfidf)\n",
    "\n",
    "svd.components_"
   ]
  },
  {
   "cell_type": "markdown",
   "metadata": {},
   "source": [
    "# 2. 토픽모델링"
   ]
  },
  {
   "cell_type": "code",
   "execution_count": 4,
   "metadata": {},
   "outputs": [
    {
     "name": "stdout",
     "output_type": "stream",
     "text": [
      "Topic 0: [('포도', 0.60558), ('사과', 0.42645), ('김치', 0.3749)]\n",
      "Topic 1: [('김치', 0.50994), ('비빔밥', 0.50872), ('된장', 0.28062)]\n",
      "Topic 2: [('짬뽕', 0.5839), ('볶음밥', 0.47822), ('탕수육짜장면', 0.39443)]\n"
     ]
    }
   ],
   "source": [
    "vocab=tfidf_vect.get_feature_names()\n",
    "n=3\n",
    "\n",
    "for idx, topic in enumerate(svd.components_):\n",
    "    print(\"Topic %d:\" % (idx), [(vocab[i], topic[i].round(5)) for i in topic.argsort()[:-n - 1:-1]])"
   ]
  },
  {
   "cell_type": "markdown",
   "metadata": {},
   "source": [
    "# 3. 벡터를 통한 상관관계"
   ]
  },
  {
   "cell_type": "code",
   "execution_count": null,
   "metadata": {},
   "outputs": [],
   "source": [
    "# 단어벡터간의 상관관계"
   ]
  },
  {
   "cell_type": "code",
   "execution_count": 5,
   "metadata": {},
   "outputs": [
    {
     "name": "stdout",
     "output_type": "stream",
     "text": [
      "['김치', '김치찌개', '된장', '된장찌개', '바나나', '볶음밥', '비빔밥', '사과', '짜장면', '짬뽕', '탕수육', '탕수육짜장면', '포도']\n"
     ]
    }
   ],
   "source": [
    "print(vocab)"
   ]
  },
  {
   "cell_type": "code",
   "execution_count": 7,
   "metadata": {},
   "outputs": [
    {
     "data": {
      "text/plain": [
       "array([[ 0.37490254,  0.5099411 , -0.0562431 ],\n",
       "       [ 0.08364115,  0.14187899, -0.08818792],\n",
       "       [ 0.25612077,  0.28062332,  0.11591523],\n",
       "       [ 0.08364115,  0.14187899, -0.08818792],\n",
       "       [ 0.32769074, -0.28712825, -0.0922036 ],\n",
       "       [ 0.1446662 ,  0.09654742,  0.47821722],\n",
       "       [ 0.31853141,  0.50872483, -0.18979534],\n",
       "       [ 0.42644624, -0.17177061,  0.11970761],\n",
       "       [ 0.00446795,  0.0041077 ,  0.29689096],\n",
       "       [ 0.02677934,  0.02132243,  0.58389954],\n",
       "       [ 0.00446795,  0.0041077 ,  0.29689096],\n",
       "       [ 0.02723798,  0.02113743,  0.39442863],\n",
       "       [ 0.60558352, -0.48984285, -0.0866006 ]])"
      ]
     },
     "execution_count": 7,
     "metadata": {},
     "output_type": "execute_result"
    }
   ],
   "source": [
    "svd.components_.T"
   ]
  },
  {
   "cell_type": "code",
   "execution_count": 6,
   "metadata": {},
   "outputs": [
    {
     "name": "stdout",
     "output_type": "stream",
     "text": [
      "김치:[ 0.37490254  0.5099411  -0.0562431 ]\n",
      "김치찌개:[ 0.08364115  0.14187899 -0.08818792]\n",
      "된장:[0.25612077 0.28062332 0.11591523]\n",
      "된장찌개:[ 0.08364115  0.14187899 -0.08818792]\n",
      "바나나:[ 0.32769074 -0.28712825 -0.0922036 ]\n",
      "볶음밥:[0.1446662  0.09654742 0.47821722]\n",
      "비빔밥:[ 0.31853141  0.50872483 -0.18979534]\n",
      "사과:[ 0.42644624 -0.17177061  0.11970761]\n",
      "짜장면:[0.00446795 0.0041077  0.29689096]\n",
      "짬뽕:[0.02677934 0.02132243 0.58389954]\n",
      "탕수육:[0.00446795 0.0041077  0.29689096]\n",
      "탕수육짜장면:[0.02723798 0.02113743 0.39442863]\n",
      "포도:[ 0.60558352 -0.48984285 -0.0866006 ]\n"
     ]
    }
   ],
   "source": [
    "# 단어벡터\n",
    "for i in range(len(vocab)) :\n",
    "    print(\"{}:{}\".format(vocab[i], svd.components_.T[i]))"
   ]
  },
  {
   "cell_type": "code",
   "execution_count": 9,
   "metadata": {},
   "outputs": [
    {
     "data": {
      "text/plain": [
       "13"
      ]
     },
     "execution_count": 9,
     "metadata": {},
     "output_type": "execute_result"
    }
   ],
   "source": [
    "len(svd.components_.T)"
   ]
  },
  {
   "cell_type": "code",
   "execution_count": 14,
   "metadata": {},
   "outputs": [],
   "source": [
    "import numpy as np\n",
    "from numpy import dot\n",
    "from numpy.linalg import norm\n",
    "\n",
    "#코사인유사도 함수화\n",
    "def cosine_similarity(a,b):\n",
    "    return dot(a,b)/(norm(a)*norm(b))\n",
    "\n",
    "#코사인유사도를 통한 행렬 유사도\n",
    "def calc_similarity_matrix(vectors):\n",
    "    n_word = len(vectors)\n",
    "    similarity_matrix = np.zeros((n_word, n_word))\n",
    "    \n",
    "    for i in range(n_word):\n",
    "        #코인유사도 사용\n",
    "        for j in range(i,n_word):\n",
    "            similarity_matrix[j,i]=cosine_similarity(vectors[i], vectors[j].round(4))\n",
    "            \n",
    "    return similarity_matrix"
   ]
  },
  {
   "cell_type": "markdown",
   "metadata": {},
   "source": [
    "calc_similarity_matrix(svd.components_.T)"
   ]
  },
  {
   "cell_type": "markdown",
   "metadata": {},
   "source": [
    "# 4. 벡터상관관계 시각화"
   ]
  },
  {
   "cell_type": "code",
   "execution_count": null,
   "metadata": {},
   "outputs": [],
   "source": [
    "# 시각화"
   ]
  },
  {
   "cell_type": "code",
   "execution_count": 22,
   "metadata": {},
   "outputs": [],
   "source": [
    "import matplotlib.pyplot as plt\n",
    "import seaborn as sns\n",
    "\n",
    "def visualize_similarity(similarity_matrix):\n",
    "    uniform_data=similarity_matrix\n",
    "    mask=np.triu(np.ones_like(similarity_matrix, dtype=np.bool))\n",
    "    plt.rcParams['figure.figsize']=[8,6]\n",
    "    ax = sns.heatmap(uniform_data, mask=mask,\\\n",
    "                    annot=True, fmt=\".2f\", annot_kws={'size':8},\\\n",
    "                    cmap='coolwarm')"
   ]
  },
  {
   "cell_type": "code",
   "execution_count": 19,
   "metadata": {},
   "outputs": [
    {
     "name": "stdout",
     "output_type": "stream",
     "text": [
      "Collecting seaborn\n",
      "  Downloading seaborn-0.11.0-py3-none-any.whl (283 kB)\n",
      "Requirement already satisfied: scipy>=1.0 in c:\\users\\lg\\anaconda3\\envs\\p36\\lib\\site-packages (from seaborn) (1.5.2)\n",
      "Requirement already satisfied: numpy>=1.15 in c:\\users\\lg\\anaconda3\\envs\\p36\\lib\\site-packages (from seaborn) (1.19.1)\n",
      "Requirement already satisfied: pandas>=0.23 in c:\\users\\lg\\anaconda3\\envs\\p36\\lib\\site-packages (from seaborn) (1.1.1)\n",
      "Requirement already satisfied: matplotlib>=2.2 in c:\\users\\lg\\anaconda3\\envs\\p36\\lib\\site-packages (from seaborn) (3.3.1)\n",
      "Requirement already satisfied: python-dateutil>=2.7.3 in c:\\users\\lg\\anaconda3\\envs\\p36\\lib\\site-packages (from pandas>=0.23->seaborn) (2.8.1)\n",
      "Requirement already satisfied: pytz>=2017.2 in c:\\users\\lg\\anaconda3\\envs\\p36\\lib\\site-packages (from pandas>=0.23->seaborn) (2020.1)\n",
      "Requirement already satisfied: pillow>=6.2.0 in c:\\users\\lg\\anaconda3\\envs\\p36\\lib\\site-packages (from matplotlib>=2.2->seaborn) (7.2.0)\n",
      "Requirement already satisfied: pyparsing!=2.0.4,!=2.1.2,!=2.1.6,>=2.0.3 in c:\\users\\lg\\anaconda3\\envs\\p36\\lib\\site-packages (from matplotlib>=2.2->seaborn) (2.4.7)\n",
      "Requirement already satisfied: certifi>=2020.06.20 in c:\\users\\lg\\anaconda3\\envs\\p36\\lib\\site-packages (from matplotlib>=2.2->seaborn) (2020.6.20)\n",
      "Requirement already satisfied: kiwisolver>=1.0.1 in c:\\users\\lg\\anaconda3\\envs\\p36\\lib\\site-packages (from matplotlib>=2.2->seaborn) (1.2.0)\n",
      "Requirement already satisfied: cycler>=0.10 in c:\\users\\lg\\anaconda3\\envs\\p36\\lib\\site-packages (from matplotlib>=2.2->seaborn) (0.10.0)\n",
      "Requirement already satisfied: six>=1.5 in c:\\users\\lg\\anaconda3\\envs\\p36\\lib\\site-packages (from python-dateutil>=2.7.3->pandas>=0.23->seaborn) (1.15.0)\n",
      "Installing collected packages: seaborn\n",
      "Successfully installed seaborn-0.11.0\n"
     ]
    }
   ],
   "source": [
    "!pip install seaborn"
   ]
  },
  {
   "cell_type": "code",
   "execution_count": 23,
   "metadata": {},
   "outputs": [
    {
     "data": {
      "image/png": "[encoded data removed]",
      "text/plain": [
       "<Figure size 576x432 with 2 Axes>"
      ]
     },
     "metadata": {
      "needs_background": "light"
     },
     "output_type": "display_data"
    }
   ],
   "source": [
    "word_vectors=svd.components_.T\n",
    "word_similarity_matrix = calc_similarity_matrix(word_vectors)\n",
    "visualize_similarity(word_similarity_matrix)"
   ]
  },
  {
   "cell_type": "code",
   "execution_count": null,
   "metadata": {},
   "outputs": [],
   "source": [
    "# 단어벡터 시각화2"
   ]
  },
  {
   "cell_type": "code",
   "execution_count": 41,
   "metadata": {},
   "outputs": [],
   "source": [
    "%matplotlib inline\n",
    "import matplotlib.font_manager as fm\n",
    "import matplotlib\n",
    "\n",
    "fontprop=fm.FontProperties(fname='C:/Windows/Fonts/MALGUNSL.TTF', size=12)"
   ]
  },
  {
   "cell_type": "code",
   "execution_count": 42,
   "metadata": {},
   "outputs": [],
   "source": [
    "from sklearn.manifold import TSNE\n",
    "import numpy as np\n",
    "vectors = word_vectors\n",
    "labels= tfidf_vect.get_feature_names()\n",
    "def visualize_vectors(vectors, labels):\n",
    "    tsne=TSNE(n_components=2, random_state=0, n_iter=1000, perplexity=2)\n",
    "    np.set_printoptions(suppress=True)\n",
    "    T=tsne.fit_transform(vectors)\n",
    "    \n",
    "    plt.figure(figsize=(10,6))\n",
    "    plt.scatter(T[:,0], T[:,1], c=\"orange\", edgecolors='r')\n",
    "    for label, x, y in zip(labels, T[:,0], T[:,1]):\n",
    "        plt.annotate(label, xy=(x+1,y+1), xytext=(0,0),\\\n",
    "                    textcoords=\"offset points\",fontproperties=fontprop)"
   ]
  },
  {
   "cell_type": "code",
   "execution_count": 43,
   "metadata": {},
   "outputs": [
    {
     "data": {
      "image/png": "[encoded data removed]",
      "text/plain": [
       "<Figure size 720x432 with 1 Axes>"
      ]
     },
     "metadata": {
      "needs_background": "light"
     },
     "output_type": "display_data"
    }
   ],
   "source": [
    "visualize_vectors(vectors, labels)"
   ]
  },
  {
   "cell_type": "code",
   "execution_count": null,
   "metadata": {},
   "outputs": [],
   "source": []
  }
 ],
 "metadata": {
  "kernelspec": {
   "display_name": "Python 3",
   "language": "python",
   "name": "python3"
  },
  "language_info": {
   "codemirror_mode": {
    "name": "ipython",
    "version": 3
   },
   "file_extension": ".py",
   "mimetype": "text/x-python",
   "name": "python",
   "nbconvert_exporter": "python",
   "pygments_lexer": "ipython3",
   "version": "3.6.10"
  }
 },
 "nbformat": 4,
 "nbformat_minor": 4
}
